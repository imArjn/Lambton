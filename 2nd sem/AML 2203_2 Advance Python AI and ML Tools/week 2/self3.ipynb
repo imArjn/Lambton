{
 "cells": [
  {
   "cell_type": "markdown",
   "metadata": {},
   "source": [
    "1-Write a Python program to find 4 numbers from an array such that the sum of 4 numbers equal to a given number.\n",
    "Input : [1, 0, -1, 0, -2, 2,10,11], 0)\n",
    "Output : [[-2, -1, 1, 2], [-2, 0, 0, 2], [-1, 0, 0, 1]]"
   ]
  },
  {
   "cell_type": "code",
   "execution_count": null,
   "metadata": {},
   "outputs": [],
   "source": []
  },
  {
   "cell_type": "markdown",
   "metadata": {},
   "source": [
    "2-Write a Python program to find the single element appears once in a list where every element appears multiple times except for one. \n",
    "Input : [1, 1, 1, 2, 2, 2, 3]\n",
    "Output : 3"
   ]
  },
  {
   "cell_type": "code",
   "execution_count": 1,
   "metadata": {},
   "outputs": [
    {
     "name": "stdout",
     "output_type": "stream",
     "text": [
      "3\n"
     ]
    }
   ],
   "source": [
    "# initializing a list\n",
    "l1 = [1,1,1,2,2,2,3]\n",
    "# iterating through list for first time\n",
    "for each in l1:\n",
    "    #initiating count as 0\n",
    "    count = 0\n",
    "    #iterating through list for the second time\n",
    "    for n in l1:\n",
    "        #checking number in first iteration value with second iteration value\n",
    "        if each == n:\n",
    "            # incrementing the count value by 1\n",
    "            count +=1\n",
    "    # checking and displaying if the count is 1 \n",
    "    if count == 1:\n",
    "        print(each)\n"
   ]
  },
  {
   "cell_type": "markdown",
   "metadata": {},
   "source": [
    "3-Write a Python program to add the digits of a positive integer repeatedly until the result has a single digit. \n",
    "Input : 48\n",
    "Output : 3\n",
    "\n",
    "For example given number is 59, the result will be 5.\n",
    "\n",
    "Step 1: 5 + 9 = 14\n",
    "\n",
    "Step 2: 1 + 4 = 5"
   ]
  },
  {
   "cell_type": "code",
   "execution_count": 2,
   "metadata": {},
   "outputs": [
    {
     "name": "stdout",
     "output_type": "stream",
     "text": [
      "3\n"
     ]
    }
   ],
   "source": [
    "# taking input \n",
    "num = 48\n",
    "# looping to check if the number is still a single digit \n",
    "while num > 10: \n",
    "    add = 0\n",
    "    # loop to add the digits of the number\n",
    "    while num > 0:\n",
    "        # adding the last digit\n",
    "        add += num % 10\n",
    "        # removing the last digit from num\n",
    "        num = num // 10\n",
    "    # update the num to sum of the digits\n",
    "    num = add\n",
    "# displaying the appropriate result\n",
    "print(add)\n"
   ]
  }
 ],
 "metadata": {
  "kernelspec": {
   "display_name": "base",
   "language": "python",
   "name": "python3"
  },
  "language_info": {
   "codemirror_mode": {
    "name": "ipython",
    "version": 3
   },
   "file_extension": ".py",
   "mimetype": "text/x-python",
   "name": "python",
   "nbconvert_exporter": "python",
   "pygments_lexer": "ipython3",
   "version": "3.11.5"
  }
 },
 "nbformat": 4,
 "nbformat_minor": 2
}
