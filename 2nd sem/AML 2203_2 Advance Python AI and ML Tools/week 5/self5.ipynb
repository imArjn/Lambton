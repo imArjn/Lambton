{
 "cells": [
  {
   "cell_type": "markdown",
   "metadata": {},
   "source": [
    "1. Write a Python program to find all the numbers from 0-9 from a string:<br>\n",
    "Input: '89ADFRE41' <br>\n",
    "Output :[8941] <br>"
   ]
  },
  {
   "cell_type": "code",
   "execution_count": 1,
   "metadata": {},
   "outputs": [
    {
     "data": {
      "text/plain": [
       "'8941'"
      ]
     },
     "execution_count": 1,
     "metadata": {},
     "output_type": "execute_result"
    }
   ],
   "source": [
    "# taking input\n",
    "inp = \"89ADFRE41\"\n",
    "# checking by iterating if each object is digit\n",
    "a = [x for x in inp if x.isdigit()]\n",
    "#displaying by joining\n",
    "\"\".join(a)\n"
   ]
  },
  {
   "cell_type": "markdown",
   "metadata": {},
   "source": [
    "2. Write a Python program to find two elements once in a list where every element appears exactly n times in the list. <br>\n",
    "Input : [1, 2, 1, 3, 2, 5], 2    (n=2) <br>\n",
    "Output :[5, 3]<br>"
   ]
  },
  {
   "cell_type": "code",
   "execution_count": 2,
   "metadata": {},
   "outputs": [
    {
     "name": "stdout",
     "output_type": "stream",
     "text": [
      "[3, 5]\n"
     ]
    }
   ],
   "source": [
    "# taking an input\n",
    "inp = [1,2,1,3,2,5]\n",
    "n = 2\n",
    "\n",
    "# creating a dictionary to count the occurance of each elements\n",
    "dict = {}\n",
    "for elem in inp:\n",
    "    if elem in dict:\n",
    "        dict[elem] += 1\n",
    "    else:\n",
    "        dict[elem] = 1\n",
    "# geting the elementes whose occurance is not \"n\" times\n",
    "notn = [elem for elem,count in dict.items() if count != n ]\n",
    "print(notn)\n"
   ]
  },
  {
   "cell_type": "markdown",
   "metadata": {},
   "source": [
    "3. Write a Python program to reverse the digits of an integer. <br>\n",
    "Input : 234 <br>\n",
    "Input : -234 <br>\n",
    "Output: 432 <br>\n",
    "Output : -432 <br>"
   ]
  },
  {
   "cell_type": "code",
   "execution_count": 3,
   "metadata": {},
   "outputs": [],
   "source": [
    "def reverse_integer(num):\n",
    "    # handling the sign\n",
    "    sign = -1 if num < 0 else 1\n",
    "    # making number positive\n",
    "    num = abs(num)\n",
    "    \n",
    "    reversed_num = 0\n",
    "    \n",
    "    while num != 0:\n",
    "        digit = num % 10  # Extract the last digit\n",
    "        reversed_num = reversed_num * 10 + digit  # Append digit to the reversed number\n",
    "        num = num // 10  # Remove the last digit from the original number\n",
    "    \n",
    "    return sign * reversed_num\n",
    "\n"
   ]
  },
  {
   "cell_type": "code",
   "execution_count": null,
   "metadata": {},
   "outputs": [
    {
     "name": "stdout",
     "output_type": "stream",
     "text": [
      "432\n",
      "-432\n"
     ]
    }
   ],
   "source": [
    "# given inputs\n",
    "input1 = 234\n",
    "input2 = -234\n",
    "\n",
    "output1 = reverse_integer(input1)\n",
    "output2 = reverse_integer(input2)\n",
    "\n",
    "print(output1)\n",
    "print(output2)  \n"
   ]
  },
  {
   "cell_type": "code",
   "execution_count": null,
   "metadata": {},
   "outputs": [],
   "source": [
    "a,b = divmod()"
   ]
  }
 ],
 "metadata": {
  "kernelspec": {
   "display_name": "base",
   "language": "python",
   "name": "python3"
  },
  "language_info": {
   "codemirror_mode": {
    "name": "ipython",
    "version": 3
   },
   "file_extension": ".py",
   "mimetype": "text/x-python",
   "name": "python",
   "nbconvert_exporter": "python",
   "pygments_lexer": "ipython3",
   "version": "3.11.5"
  }
 },
 "nbformat": 4,
 "nbformat_minor": 2
}
