{
 "cells": [
  {
   "cell_type": "markdown",
   "metadata": {},
   "source": [
    "Q1 - You are given two integer arrays nums1 and nums2, sorted in non-decreasing order, and two integers m and n, representing the number of elements in nums1 and nums2 respectively.\n",
    "\n",
    "Merge nums1 and nums2 into a single array sorted in non-decreasing order.\n",
    "\n",
    "The final sorted array should not be returned by the function, but instead be stored inside the array nums1. To accommodate this, nums1 has a length of m + n, where the first m elements denote the elements that should be merged, and the last n elements are set to 0 and should be ignored. nums2 has a length of n.\n",
    "\n",
    "Example 1:\n",
    "\n",
    "Input: nums1 = [1,2,3,0,0,0], m = 3, nums2 = [2,5,6], n = 3\n",
    "\n",
    "Output: [1,2,2,3,5,6]\n",
    "\n",
    "Explanation: The arrays we are merging are [1,2,3] and [2,5,6].\n",
    "\n",
    "The result of the merge is [1,2,2,3,5,6] with the underlined elements coming from nums1."
   ]
  },
  {
   "cell_type": "code",
   "execution_count": 1,
   "metadata": {},
   "outputs": [
    {
     "name": "stdout",
     "output_type": "stream",
     "text": [
      "[1, 2, 2, 3, 5, 6]\n"
     ]
    }
   ],
   "source": [
    "def merge(nums1, m, nums2, n):\n",
    "    # Initialize pointers for nums1 and nums2\n",
    "    p1 = m - 1\n",
    "    p2 = n - 1\n",
    "    # Pointer for the end of the merged array\n",
    "    p = m + n - 1\n",
    "\n",
    "    # Iterate while there are elements in nums2\n",
    "    while p2 >= 0:\n",
    "        # If all elements in nums1 are merged, just copy remaining nums2\n",
    "        if p1 < 0:\n",
    "            nums1[p] = nums2[p2]\n",
    "            p2 -= 1\n",
    "        # Compare elements from nums1 and nums2 and place the larger one\n",
    "        elif nums1[p1] > nums2[p2]:\n",
    "            nums1[p] = nums1[p1]\n",
    "            p1 -= 1\n",
    "        else:\n",
    "            nums1[p] = nums2[p2]\n",
    "            p2 -= 1\n",
    "        p -= 1\n",
    "\n",
    "nums1 = [1, 2, 3, 0, 0, 0]\n",
    "m = 3\n",
    "nums2 = [2, 5, 6]\n",
    "n = 3\n",
    "\n",
    "merge(nums1, m, nums2, n)\n",
    "print(nums1) \n"
   ]
  },
  {
   "cell_type": "markdown",
   "metadata": {},
   "source": [
    "Q2- Given an input string s and a pattern p, implement regular expression matching with support for '.' and '*' where:\n",
    "\n",
    "'.' Matches any single character.​​​​\n",
    "'*' Matches zero or more of the preceding element.\n",
    "The matching should cover the entire input string (not partial).\n",
    "\n",
    "Example 1: Input: s = \"aa\", p = \"a\"\n",
    "\n",
    "Output: false\n",
    "\n",
    "Explanation: \"a\" does not match the entire string \"aa\".\n",
    "\n",
    "Example 2: Input: s = \"aa\", p = \"a*\"\n",
    "\n",
    "Output: true\n",
    "\n",
    "Explanation: '*' means zero or more of the preceding element, 'a'. Therefore, by repeating 'a' once, it becomes \"aa\"."
   ]
  },
  {
   "cell_type": "code",
   "execution_count": 2,
   "metadata": {},
   "outputs": [
    {
     "name": "stdout",
     "output_type": "stream",
     "text": [
      "False\n",
      "True\n"
     ]
    }
   ],
   "source": [
    "def isMatch(s, p):\n",
    "    m, n = len(s), len(p)\n",
    "    # dp[i][j] will be True if s[:i] matches p[:j]\n",
    "    dp = [[False] * (n + 1) for _ in range(m + 1)]\n",
    "    \n",
    "    # Base case: empty string matches empty pattern\n",
    "    dp[0][0] = True\n",
    "    \n",
    "    # Initialize dp for patterns like a*, a*b*, a*b*c* which can match an empty string\n",
    "    for j in range(2, n + 1):\n",
    "        if p[j - 1] == '*':\n",
    "            dp[0][j] = dp[0][j - 2]\n",
    "\n",
    "    # Fill the dp table\n",
    "    for i in range(1, m + 1):\n",
    "        for j in range(1, n + 1):\n",
    "            if p[j - 1] == '.' or p[j - 1] == s[i - 1]:\n",
    "                dp[i][j] = dp[i - 1][j - 1]\n",
    "            elif p[j - 1] == '*':\n",
    "                # * can match zero occurrences of the preceding element\n",
    "                dp[i][j] = dp[i][j - 2]\n",
    "                # * can match one or more occurrences of the preceding element\n",
    "                if p[j - 2] == '.' or p[j - 2] == s[i - 1]:\n",
    "                    dp[i][j] = dp[i][j] or dp[i - 1][j]\n",
    "\n",
    "    return dp[m][n]\n",
    "\n",
    "\n",
    "s1, p1 = \"aa\", \"a\"\n",
    "print(isMatch(s1, p1))  \n",
    "\n",
    "s2, p2 = \"aa\", \"a*\"\n",
    "print(isMatch(s2, p2))  "
   ]
  },
  {
   "cell_type": "markdown",
   "metadata": {},
   "source": [
    "Q3- A permutation of an array of integers is an arrangement of its members into a sequence or linear order.\n",
    "\n",
    "For example, for arr = [1,2,3], the following are considered permutations of arr: [1,2,3], [1,3,2], [3,1,2], [2,3,1].\n",
    "The next permutation of an array of integers is the next lexicographically greater permutation of its integer. More formally, if all the permutations of the array are sorted in one container according to their lexicographical order, then the next permutation of that array is the permutation that follows it in the sorted container. If such arrangement is not possible, the array must be rearranged as the lowest possible order (i.e., sorted in ascending order).\n",
    "\n",
    "For example, the next permutation of arr = [1,2,3] is [1,3,2].\n",
    "Similarly, the next permutation of arr = [2,3,1] is [3,1,2].\n",
    "While the next permutation of arr = [3,2,1] is [1,2,3] because [3,2,1] does not have a lexicographical larger rearrangement.\n",
    "Given an array of integers nums, find the next permutation of nums.\n",
    "\n",
    "The replacement must be in place and use only constant extra memory.\n",
    "\n",
    " Example 1:\n",
    "\n",
    "Input: nums = [1,2,3]\n",
    "Output: [1,3,2]"
   ]
  },
  {
   "cell_type": "code",
   "execution_count": 3,
   "metadata": {},
   "outputs": [
    {
     "name": "stdout",
     "output_type": "stream",
     "text": [
      "[1, 3, 2]\n"
     ]
    }
   ],
   "source": [
    "def nextPermutation(nums):\n",
    "    # Step 1: Find the largest index k such that nums[k] < nums[k + 1]\n",
    "    k = len(nums) - 2\n",
    "    while k >= 0 and nums[k] >= nums[k + 1]:\n",
    "        k -= 1\n",
    "    \n",
    "    if k == -1:\n",
    "        # If no such index exists, reverse the whole array\n",
    "        nums.reverse()\n",
    "        return\n",
    "    \n",
    "    # Step 2: Find the largest index l greater than k such that nums[k] < nums[l]\n",
    "    l = len(nums) - 1\n",
    "    while l > k and nums[k] >= nums[l]:\n",
    "        l -= 1\n",
    "    \n",
    "    # Step 3: Swap the values of nums[k] and nums[l]\n",
    "    nums[k], nums[l] = nums[l], nums[k]\n",
    "    \n",
    "    # Step 4: Reverse the sequence from nums[k + 1] to the end\n",
    "    nums[k + 1:] = reversed(nums[k + 1:])\n",
    "\n",
    "\n",
    "nums = [1, 2, 3]\n",
    "nextPermutation(nums)\n",
    "print(nums)  \n"
   ]
  }
 ],
 "metadata": {
  "kernelspec": {
   "display_name": "base",
   "language": "python",
   "name": "python3"
  },
  "language_info": {
   "codemirror_mode": {
    "name": "ipython",
    "version": 3
   },
   "file_extension": ".py",
   "mimetype": "text/x-python",
   "name": "python",
   "nbconvert_exporter": "python",
   "pygments_lexer": "ipython3",
   "version": "3.11.7"
  }
 },
 "nbformat": 4,
 "nbformat_minor": 2
}
