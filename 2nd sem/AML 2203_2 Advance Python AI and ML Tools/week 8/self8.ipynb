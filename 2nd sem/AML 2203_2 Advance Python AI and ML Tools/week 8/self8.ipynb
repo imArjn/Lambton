{
 "cells": [
  {
   "cell_type": "markdown",
   "metadata": {},
   "source": [
    "Q1. Write a function to find the longest common prefix string amongst an array of strings.\n",
    "\n",
    "If there is no common prefix, return an empty string \"\".\n",
    "\n",
    " \n",
    "\n",
    "Example 1:\n",
    "\n",
    "Input: strs = [\"flower\",\"flow\",\"flight\"]\n",
    "\n",
    "Output: \"fl\""
   ]
  },
  {
   "cell_type": "code",
   "execution_count": 6,
   "metadata": {},
   "outputs": [
    {
     "name": "stdout",
     "output_type": "stream",
     "text": [
      "Input:strs=['sHaampi', 'racecar', 'car']\n",
      "Output:no common prefix\n"
     ]
    }
   ],
   "source": [
    "import re\n",
    "def longest_common_prefix(strs):\n",
    "    if not strs:\n",
    "        return \"\"\n",
    "    \n",
    "    def clean_string(s):\n",
    "        return re.sub(r'[^a-zA-Z]', '', s)\n",
    "    cleaned_strs = [clean_string(s).lower() for s in strs]\n",
    "    \n",
    "    # taking first string as a prefix\n",
    "    prefix = cleaned_strs[0]\n",
    "    \n",
    "    # comparing prefix with other strings in the list\n",
    "    for string in cleaned_strs[1:]:\n",
    "        # finding the minimum length through which the prefix and string are equal\n",
    "        min_length = min(len(prefix),len(string))\n",
    "        \n",
    "        i = 0\n",
    "        # checking if the prefix element is equal to string element till the minimum length\n",
    "        while i < min_length and prefix[i] == string[i]:\n",
    "            i += 1\n",
    "        \n",
    "        # getting new prefix\n",
    "        prefix = string[:i]\n",
    "        \n",
    "        # if still nothing is similar return empty\n",
    "        if not prefix:\n",
    "            return \"no common prefix\"\n",
    "        \n",
    "    return prefix\n",
    "        \n",
    "#strs = [\"flower\",\"flow\",\"flight\"]\n",
    "#strs = [\"FLitSowerqwer\",\"fl2itsqwertf\", \"f@L$%i^tSvhytds\"]\n",
    "strs = [\"sHaampi\",\"racecar\",\"car\"]\n",
    "print(f\"Input:strs={strs}\")\n",
    "print(f\"Output:{longest_common_prefix(strs)}\")"
   ]
  },
  {
   "cell_type": "code",
   "execution_count": null,
   "metadata": {},
   "outputs": [],
   "source": [
    "def longest_common_prefix(strings: list[str])-> str:\n",
    "    \"\"\"\n",
    "    Evaluates and returns the longest common prefix among the strings provided.\n",
    "\n",
    "    Arguments:\n",
    "    strings: list[str] : The list of strings to check for longest common prefix.\n",
    "\n",
    "    Returns:\n",
    "    prefix_string: str : the longest common prefix among the strings provided.\n",
    "    \"\"\"\n",
    "    prefix_string:str = \"\"\n",
    "    \n",
    "    for i in strings[0]:\n",
    "        prefix_string += i \n",
    "        for el in strings:\n",
    "            if not el.startswith(prefix_string): return prefix_string[:-1]\n",
    "\n",
    "    return prefix_string"
   ]
  },
  {
   "cell_type": "markdown",
   "metadata": {},
   "source": [
    "Q2. Given an array nums of size n, return the majority element.\n",
    "\n",
    "The majority element is the element that appears more than ⌊n / 2⌋ times. You may assume that the majority element always exists in the array.\n",
    "\n",
    " \n",
    "\n",
    "Example 1:\n",
    "\n",
    "Input: nums = [3,2,3]\n",
    "\n",
    "Output: 3"
   ]
  },
  {
   "cell_type": "code",
   "execution_count": 2,
   "metadata": {},
   "outputs": [
    {
     "name": "stdout",
     "output_type": "stream",
     "text": [
      "Input:nums = [3, 2, 3]\n",
      "Output:3\n"
     ]
    }
   ],
   "source": [
    "from collections import Counter\n",
    "\n",
    "def majority_element(nums):\n",
    "    if len(nums) == 1:\n",
    "        return nums[0]\n",
    "    \n",
    "    # counting the occurence of each number in the list\n",
    "    counts = Counter(nums)\n",
    "    \n",
    "    # Since the majority element have a threshold of n/2. creating threshold\n",
    "    threshold = len(nums)/2\n",
    "    \n",
    "    # getting the element whose count is greater than the threshold\n",
    "    for each in counts:\n",
    "        if counts[each] > threshold:\n",
    "            return each\n",
    "        \n",
    "    return nums[0]\n",
    "\n",
    "nums = [3,2,3]\n",
    "print(f\"Input:nums = {nums}\")\n",
    "print(f\"Output:{majority_element(nums)}\")\n",
    "    \n",
    "    "
   ]
  },
  {
   "cell_type": "code",
   "execution_count": null,
   "metadata": {},
   "outputs": [],
   "source": []
  }
 ],
 "metadata": {
  "kernelspec": {
   "display_name": "Python 3",
   "language": "python",
   "name": "python3"
  },
  "language_info": {
   "codemirror_mode": {
    "name": "ipython",
    "version": 3
   },
   "file_extension": ".py",
   "mimetype": "text/x-python",
   "name": "python",
   "nbconvert_exporter": "python",
   "pygments_lexer": "ipython3",
   "version": "3.12.2"
  }
 },
 "nbformat": 4,
 "nbformat_minor": 2
}
