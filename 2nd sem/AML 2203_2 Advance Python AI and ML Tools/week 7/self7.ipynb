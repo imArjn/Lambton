{
 "cells": [
  {
   "cell_type": "markdown",
   "metadata": {},
   "source": [
    "Q1 ) Given an integer x, return true if x is palindrome integer. <br>\n",
    "\n",
    "An integer is a palindrome when it reads the same backward as forward. <br>\n",
    "\n",
    "For example, 121 is a palindrome while 123 is not."
   ]
  },
  {
   "cell_type": "code",
   "execution_count": 1,
   "metadata": {},
   "outputs": [
    {
     "name": "stdout",
     "output_type": "stream",
     "text": [
      "True\n",
      "False\n",
      "False\n"
     ]
    }
   ],
   "source": [
    "def check_palindrome(x)->bool:\n",
    "    \"\"\"This function takes the integer x and returns True if \n",
    "    x is Palindrom integer and False if x in not a Palindrom integer.\n",
    "    'An integer is a palindrome when it reads the same backward as forward.\n",
    "    For example, 121 is a palindrome while 123 is not.' \"\"\"\n",
    "    # checking negative numbers\n",
    "    if x < 0:\n",
    "        return False\n",
    "        \n",
    "    # saving a copy of x\n",
    "    init_num = x\n",
    "    \n",
    "    # reverse the number\n",
    "    reversed_num = 0\n",
    "    \n",
    "    while x > 0:\n",
    "        # extract last digit of x\n",
    "        last_digit = x % 10\n",
    "        \n",
    "        # append the last digit to reversed number\n",
    "        reversed_num = reversed_num * 10 + last_digit\n",
    "        \n",
    "        # remove the last digit form x\n",
    "        x //= 10\n",
    "    # compare the orig number witht the reversed num\n",
    "    return init_num == reversed_num\n",
    "\n",
    "print(check_palindrome(121))\n",
    "print(check_palindrome(123))\n",
    "print(check_palindrome(-121))   \n",
    "    \n",
    "    "
   ]
  },
  {
   "cell_type": "markdown",
   "metadata": {},
   "source": [
    "Q2)\n",
    "\n",
    "Roman numerals are represented by seven different symbols: I, V, X, L, C, D and M.\n",
    "\n",
    "Symbol       Value\n",
    "\n",
    "I             1\n",
    "\n",
    "V             5\n",
    "\n",
    "X             10\n",
    "\n",
    "L            50\n",
    "\n",
    "C             100\n",
    "\n",
    "D             500\n",
    "\n",
    "M             1000\n",
    "\n",
    "For example, 2 is written as II in Roman numeral, just two ones added together. 12 is written as XII, which is simply X + II. The number 27 is written as XXVII, which is XX + V + II.\n",
    "\n",
    "Roman numerals are usually written largest to smallest from left to right. However, the numeral for four is not IIII. Instead, the number four is written as IV. Because the one is before the five we subtract it making four. The same principle applies to the number nine, which is written as IX. There are six instances where subtraction is used:\n",
    "\n",
    "- I can be placed before V (5) and X (10) to make 4 and 9. \n",
    "- X can be placed before L (50) and C (100) to make 40 and 90. \n",
    "- C can be placed before D (500) and M (1000) to make 400 and 900.<br>\n",
    "Given a roman numeral, convert it to an integer.\n",
    "\n",
    " \n",
    "\n",
    "Example 1:\n",
    "\n",
    "Input: s = \"III\"\n",
    "\n",
    "Output: 3\n",
    "\n",
    "Explanation: III = 3.\n",
    "\n",
    " \n",
    "\n",
    "Input: s = \"LVIII\"\n",
    "\n",
    "Output: 58\n",
    "\n",
    "Explanation: L = 50, V= 5, III = 3."
   ]
  },
  {
   "cell_type": "code",
   "execution_count": null,
   "metadata": {},
   "outputs": [],
   "source": []
  }
 ],
 "metadata": {
  "kernelspec": {
   "display_name": "base",
   "language": "python",
   "name": "python3"
  },
  "language_info": {
   "codemirror_mode": {
    "name": "ipython",
    "version": 3
   },
   "file_extension": ".py",
   "mimetype": "text/x-python",
   "name": "python",
   "nbconvert_exporter": "python",
   "pygments_lexer": "ipython3",
   "version": "3.11.5"
  }
 },
 "nbformat": 4,
 "nbformat_minor": 2
}
