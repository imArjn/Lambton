{
 "cells": [
  {
   "cell_type": "markdown",
   "metadata": {},
   "source": [
    "Write a Python program to find the single element in a list where every element appears multiple times except for one.<br>\n",
    "Input : [5, 3, 4, 3, 5, 5, 3],<br>\n",
    "Output : 4 <br>"
   ]
  },
  {
   "cell_type": "code",
   "execution_count": 32,
   "metadata": {},
   "outputs": [
    {
     "name": "stdout",
     "output_type": "stream",
     "text": [
      "Input: [5, 3, 4, 3, 5, 5, 3]\n",
      "Output: 4\n"
     ]
    }
   ],
   "source": [
    "# initializing a list\n",
    "l = [5,3,4,3,5,5,3]\n",
    "print(f\"Input: {l}\")\n",
    "# looping the list for first time\n",
    "for x in l:\n",
    "    # initializing the count to zero\n",
    "    count = 0\n",
    "    # looping through list for second time\n",
    "    for y in l:\n",
    "        # checking the count of the element\n",
    "        if x == y:\n",
    "            count += 1\n",
    "    # displaying if the count is 1\n",
    "    if count == 1:\n",
    "        print(f\"Output: {x}\")"
   ]
  },
  {
   "cell_type": "markdown",
   "metadata": {},
   "source": [
    "Write a Python program to compute and return the square root of a given 'integer'. <br>\n",
    "Input : 16 <br>\n",
    "Output : 4 <br>\n",
    "Note : The returned value will be an 'integer', do not use square root functions from python. "
   ]
  },
  {
   "cell_type": "code",
   "execution_count": 35,
   "metadata": {},
   "outputs": [
    {
     "name": "stdout",
     "output_type": "stream",
     "text": [
      "Input: 16\n",
      "Output: 4\n"
     ]
    }
   ],
   "source": [
    "# taking input\n",
    "num = 16\n",
    "print(f\"Input: {num}\")\n",
    "# checking if the number is negative\n",
    "if num < 0:\n",
    "    print(\"Negative number doesn't have square root.\")\n",
    "\n",
    "# taking i as 1  \n",
    "i = 1\n",
    "# checking until i*i is less than or equal to num\n",
    "while i*i <= num:\n",
    "    # incrementing until we find the integer square root\n",
    "    i += 1\n",
    "\"\"\" Since i is incremented by additional 1 to get out of the loop\n",
    "We have our required integer square root in (i-1)\"\"\"\n",
    "print(f\"Output: {i-1}\")\n",
    "\n"
   ]
  },
  {
   "cell_type": "markdown",
   "metadata": {},
   "source": [
    "Write a Python program to check a sequence of numbers is a geometric progression or not. <br>\n",
    "Input : [2, 6, 18, 54] <br>\n",
    "Output : True"
   ]
  },
  {
   "cell_type": "code",
   "execution_count": 37,
   "metadata": {},
   "outputs": [
    {
     "data": {
      "text/plain": [
       "2"
      ]
     },
     "execution_count": 37,
     "metadata": {},
     "output_type": "execute_result"
    }
   ],
   "source": [
    "len([1,2])"
   ]
  },
  {
   "cell_type": "markdown",
   "metadata": {},
   "source": [
    "to check the sequence in geometric progression it must have common ratio same through out the sequence"
   ]
  },
  {
   "cell_type": "code",
   "execution_count": 41,
   "metadata": {},
   "outputs": [
    {
     "name": "stdout",
     "output_type": "stream",
     "text": [
      "Input: [2, 6, 18, 54]\n",
      "Output: True\n"
     ]
    }
   ],
   "source": [
    "# function to check the geometric progression\n",
    "def check_geometric_progression(sequence) -> bool:\n",
    "    \"\"\" This functions takes a list of sequence as a parameter\n",
    "    checks if the sequence is in geometric progression\n",
    "    Returns True if the sequence is in geometric progression\n",
    "    otherwise returns False.\"\"\"\n",
    "    \n",
    "    # if sequence has only one element return False\n",
    "    if len(sequence) < 2:\n",
    "        return False\n",
    "    \n",
    "    # calculating common ratio\n",
    "    ratio = sequence[1] / sequence[0]\n",
    "    \n",
    "    # checking the common ratio using for loop\n",
    "    for i in range(1,len(sequence)):\n",
    "        # False if the common ratio doesnot match\n",
    "        if sequence[i] / sequence[i-1] != ratio:\n",
    "            return False\n",
    "    # return True if for loop is exited\n",
    "    return True\n",
    "\n",
    "# taking sequence\n",
    "sequence = [2,6,18,54]\n",
    "\n",
    "# displaying appropriate output\n",
    "print(f\"Input: {sequence}\")\n",
    "print(f\"Output: {check_geometric_progression(sequence)}\")"
   ]
  }
 ],
 "metadata": {
  "kernelspec": {
   "display_name": "base",
   "language": "python",
   "name": "python3"
  },
  "language_info": {
   "codemirror_mode": {
    "name": "ipython",
    "version": 3
   },
   "file_extension": ".py",
   "mimetype": "text/x-python",
   "name": "python",
   "nbconvert_exporter": "python",
   "pygments_lexer": "ipython3",
   "version": "3.11.5"
  }
 },
 "nbformat": 4,
 "nbformat_minor": 2
}
