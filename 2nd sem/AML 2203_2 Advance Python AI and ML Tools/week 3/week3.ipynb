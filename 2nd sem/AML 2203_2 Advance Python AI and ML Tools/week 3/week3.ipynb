{
 "cells": [
  {
   "cell_type": "markdown",
   "metadata": {},
   "source": [
    "Rows --> Records\n",
    "\n",
    "Columns --> Fields"
   ]
  },
  {
   "cell_type": "code",
   "execution_count": 1,
   "metadata": {},
   "outputs": [],
   "source": [
    "import pymongo"
   ]
  },
  {
   "cell_type": "code",
   "execution_count": 2,
   "metadata": {},
   "outputs": [],
   "source": [
    "from pymongo import MongoClient"
   ]
  },
  {
   "cell_type": "code",
   "execution_count": 3,
   "metadata": {},
   "outputs": [],
   "source": [
    "client= MongoClient()"
   ]
  },
  {
   "cell_type": "markdown",
   "metadata": {},
   "source": [
    "# the name of the database will be the object name after \".\". here: \"test\" will be the created database."
   ]
  },
  {
   "cell_type": "code",
   "execution_count": 4,
   "metadata": {},
   "outputs": [],
   "source": [
    "db = client.test # the name of the database will be the object name after \".\". here: \"test\" will be the created database."
   ]
  },
  {
   "cell_type": "markdown",
   "metadata": {},
   "source": [
    "# similarly the name of the collection (table name) will be the object name after \".\". here: \"employee\" will be the created collection.\n"
   ]
  },
  {
   "cell_type": "code",
   "execution_count": 5,
   "metadata": {},
   "outputs": [],
   "source": [
    "employee = db.employee # similarly the name of the collection (table name) will be the object name after \".\". here: \"employee\" will be the created collection."
   ]
  },
  {
   "cell_type": "code",
   "execution_count": 6,
   "metadata": {},
   "outputs": [
    {
     "data": {
      "text/plain": [
       "Collection(Database(MongoClient(host=['localhost:27017'], document_class=dict, tz_aware=False, connect=True), 'test'), 'employee')"
      ]
     },
     "execution_count": 6,
     "metadata": {},
     "output_type": "execute_result"
    }
   ],
   "source": [
    "employee"
   ]
  },
  {
   "cell_type": "markdown",
   "metadata": {},
   "source": [
    "# to check if the database exists or not"
   ]
  },
  {
   "cell_type": "code",
   "execution_count": 24,
   "metadata": {},
   "outputs": [
    {
     "name": "stdout",
     "output_type": "stream",
     "text": [
      "['admin', 'config', 'local', 'mydb', 'test']\n"
     ]
    }
   ],
   "source": [
    "print(client.list_database_names())"
   ]
  },
  {
   "cell_type": "code",
   "execution_count": 9,
   "metadata": {},
   "outputs": [],
   "source": [
    "dblist = client.list_database_names()\n",
    "if \"test\" in dblist:\n",
    "    print(\"The {} exist\".format(\"test\"))"
   ]
  },
  {
   "cell_type": "markdown",
   "metadata": {},
   "source": [
    "# to check if the collection exist or not"
   ]
  },
  {
   "cell_type": "code",
   "execution_count": 10,
   "metadata": {},
   "outputs": [
    {
     "name": "stdout",
     "output_type": "stream",
     "text": [
      "[]\n"
     ]
    }
   ],
   "source": [
    "print(db.list_collection_names())"
   ]
  },
  {
   "cell_type": "code",
   "execution_count": 11,
   "metadata": {},
   "outputs": [],
   "source": [
    "collist = db.list_collection_names()\n",
    "if \"employee\" in collist:\n",
    "    print(\"The employee collection exists\")"
   ]
  },
  {
   "cell_type": "markdown",
   "metadata": {},
   "source": [
    "# inserting one record"
   ]
  },
  {
   "cell_type": "code",
   "execution_count": 12,
   "metadata": {},
   "outputs": [],
   "source": [
    "employee_details = {\n",
    "    \"Name\":\"Raj Kumar\",\n",
    "    \"Adress\": \"Sears Streer, NZ\",\n",
    "    \"Age\":\"42\"\n",
    "}\n",
    "\n"
   ]
  },
  {
   "cell_type": "code",
   "execution_count": 13,
   "metadata": {},
   "outputs": [],
   "source": [
    "result = employee.insert_one(employee_details)"
   ]
  },
  {
   "cell_type": "code",
   "execution_count": 14,
   "metadata": {},
   "outputs": [
    {
     "name": "stdout",
     "output_type": "stream",
     "text": [
      "['admin', 'config', 'local', 'mydb', 'test']\n"
     ]
    }
   ],
   "source": [
    "print(client.list_database_names())"
   ]
  },
  {
   "cell_type": "code",
   "execution_count": 15,
   "metadata": {},
   "outputs": [
    {
     "name": "stdout",
     "output_type": "stream",
     "text": [
      "The test exist\n"
     ]
    }
   ],
   "source": [
    "dblist = client.list_database_names()\n",
    "if \"test\" in dblist:\n",
    "    print(\"The {} exist\".format(\"test\"))"
   ]
  },
  {
   "cell_type": "code",
   "execution_count": 16,
   "metadata": {},
   "outputs": [
    {
     "name": "stdout",
     "output_type": "stream",
     "text": [
      "['employee']\n"
     ]
    }
   ],
   "source": [
    "print(db.list_collection_names())"
   ]
  },
  {
   "cell_type": "code",
   "execution_count": 17,
   "metadata": {},
   "outputs": [
    {
     "name": "stdout",
     "output_type": "stream",
     "text": [
      "The employee collection exists\n"
     ]
    }
   ],
   "source": [
    "collist = db.list_collection_names()\n",
    "if \"employee\" in collist:\n",
    "    print(\"The employee collection exists\")"
   ]
  },
  {
   "cell_type": "code",
   "execution_count": 18,
   "metadata": {},
   "outputs": [
    {
     "name": "stdout",
     "output_type": "stream",
     "text": [
      "664d2e88246c8fecfa25e585\n"
     ]
    }
   ],
   "source": [
    "# checking the id of the table inserted\n",
    "print(result.inserted_id)"
   ]
  },
  {
   "cell_type": "markdown",
   "metadata": {},
   "source": [
    "# inserting many records at a time"
   ]
  },
  {
   "cell_type": "code",
   "execution_count": 19,
   "metadata": {},
   "outputs": [],
   "source": [
    "mylist = [{\"_id\":1,\"name\":\"John\",\"address\":\"Highway 37\"},\n",
    "          {\"_id\":2,\"name\":\"Peter\",\"address\":\"Lowstreet 27\"},\n",
    "          {\"_id\":3,\"name\":\"Amy\",\"address\":\"Close st 652\"},\n",
    "          {\"_id\":4,\"name\":\"Hannah\",\"address\":\"Mountain 21\"},\n",
    "          {\"_id\":5,\"name\":\"Michael\",\"address\":\"Valley 345\"},\n",
    "          {\"_id\":6,\"name\": \"Vicky\", \"address\": \"Yellow Garden 124\"},\n",
    "          {\"_id\":7,\"name\": \"Nicky\", \"address\": \"Yellow Garden 23\"},\n",
    "          {\"_id\":8,\"name\": \"Nancy\", \"address\": \"Younge Ave. 123\"},\n",
    "          {\"_id\":9,\"name\": \"Viola\", \"address\": \"Sideway Ave\"}]\n"
   ]
  },
  {
   "cell_type": "code",
   "execution_count": 20,
   "metadata": {},
   "outputs": [],
   "source": [
    "x = employee.insert_many(mylist)"
   ]
  },
  {
   "cell_type": "code",
   "execution_count": 21,
   "metadata": {},
   "outputs": [
    {
     "name": "stdout",
     "output_type": "stream",
     "text": [
      "[1, 2, 3, 4, 5, 6, 7, 8, 9]\n"
     ]
    }
   ],
   "source": [
    "print(x.inserted_ids)"
   ]
  },
  {
   "cell_type": "markdown",
   "metadata": {},
   "source": [
    "# read one record"
   ]
  },
  {
   "cell_type": "code",
   "execution_count": 22,
   "metadata": {},
   "outputs": [
    {
     "name": "stdout",
     "output_type": "stream",
     "text": [
      "{'_id': ObjectId('664d2e88246c8fecfa25e585'), 'Name': 'Raj Kumar', 'Adress': 'Sears Streer, NZ', 'Age': '42'}\n"
     ]
    }
   ],
   "source": [
    "x = employee.find_one()\n",
    "print(x)"
   ]
  },
  {
   "cell_type": "markdown",
   "metadata": {},
   "source": [
    "# read all records"
   ]
  },
  {
   "cell_type": "code",
   "execution_count": 23,
   "metadata": {},
   "outputs": [
    {
     "name": "stdout",
     "output_type": "stream",
     "text": [
      "{'_id': ObjectId('664d2e88246c8fecfa25e585'), 'Name': 'Raj Kumar', 'Adress': 'Sears Streer, NZ', 'Age': '42'}\n",
      "{'_id': 1, 'name': 'John', 'address': 'Highway 37'}\n",
      "{'_id': 2, 'name': 'Peter', 'address': 'Lowstreet 27'}\n",
      "{'_id': 3, 'name': 'Amy', 'address': 'Close st 652'}\n",
      "{'_id': 4, 'name': 'Hannah', 'address': 'Mountain 21'}\n",
      "{'_id': 5, 'name': 'Michael', 'address': 'Valley 345'}\n",
      "{'_id': 6, 'name': 'Vicky', 'address': 'Yellow Garden 124'}\n",
      "{'_id': 7, 'name': 'Nicky', 'address': 'Yellow Garden 23'}\n",
      "{'_id': 8, 'name': 'Nancy', 'address': 'Younge Ave. 123'}\n",
      "{'_id': 9, 'name': 'Viola', 'address': 'Sideway Ave'}\n"
     ]
    }
   ],
   "source": [
    "for x in employee.find():\n",
    "    print(x)"
   ]
  },
  {
   "cell_type": "code",
   "execution_count": 25,
   "metadata": {},
   "outputs": [
    {
     "name": "stdout",
     "output_type": "stream",
     "text": [
      "{'_id': ObjectId('664d2e88246c8fecfa25e585'), 'Name': 'Raj Kumar', 'Adress': 'Sears Streer, NZ', 'Age': '42'}\n",
      "{'_id': 1, 'name': 'John', 'address': 'Highway 37'}\n",
      "{'_id': 2, 'name': 'Peter', 'address': 'Lowstreet 27'}\n",
      "{'_id': 3, 'name': 'Amy', 'address': 'Close st 652'}\n",
      "{'_id': 4, 'name': 'Hannah', 'address': 'Mountain 21'}\n"
     ]
    }
   ],
   "source": [
    "myresult = employee.find().limit(5)\n",
    "\n",
    "#print the result\n",
    "for x in myresult:\n",
    "    print(x)"
   ]
  },
  {
   "cell_type": "markdown",
   "metadata": {},
   "source": [
    "# return only some fields"
   ]
  },
  {
   "cell_type": "markdown",
   "metadata": {},
   "source": [
    "0 --> to not print\n",
    "\n",
    "1 --> to print"
   ]
  },
  {
   "cell_type": "code",
   "execution_count": 27,
   "metadata": {},
   "outputs": [
    {
     "name": "stdout",
     "output_type": "stream",
     "text": [
      "{}\n",
      "{'name': 'John', 'address': 'Highway 37'}\n",
      "{'name': 'Peter', 'address': 'Lowstreet 27'}\n",
      "{'name': 'Amy', 'address': 'Close st 652'}\n",
      "{'name': 'Hannah', 'address': 'Mountain 21'}\n",
      "{'name': 'Michael', 'address': 'Valley 345'}\n",
      "{'name': 'Vicky', 'address': 'Yellow Garden 124'}\n",
      "{'name': 'Nicky', 'address': 'Yellow Garden 23'}\n",
      "{'name': 'Nancy', 'address': 'Younge Ave. 123'}\n",
      "{'name': 'Viola', 'address': 'Sideway Ave'}\n"
     ]
    }
   ],
   "source": [
    "for x in employee.find({},{\"_id\":0,\"name\":1,\"address\":1}):\n",
    "    print(x)"
   ]
  },
  {
   "cell_type": "code",
   "execution_count": 29,
   "metadata": {},
   "outputs": [
    {
     "name": "stdout",
     "output_type": "stream",
     "text": [
      "{'_id': ObjectId('664d2e88246c8fecfa25e585'), 'Name': 'Raj Kumar', 'Adress': 'Sears Streer, NZ'}\n",
      "{'_id': 1, 'name': 'John', 'address': 'Highway 37'}\n",
      "{'_id': 2, 'name': 'Peter', 'address': 'Lowstreet 27'}\n",
      "{'_id': 3, 'name': 'Amy', 'address': 'Close st 652'}\n",
      "{'_id': 4, 'name': 'Hannah', 'address': 'Mountain 21'}\n",
      "{'_id': 5, 'name': 'Michael', 'address': 'Valley 345'}\n",
      "{'_id': 6, 'name': 'Vicky', 'address': 'Yellow Garden 124'}\n",
      "{'_id': 7, 'name': 'Nicky', 'address': 'Yellow Garden 23'}\n",
      "{'_id': 8, 'name': 'Nancy', 'address': 'Younge Ave. 123'}\n",
      "{'_id': 9, 'name': 'Viola', 'address': 'Sideway Ave'}\n"
     ]
    }
   ],
   "source": [
    "for x in employee.find({},{\"Age\":0}):\n",
    "    print(x)"
   ]
  },
  {
   "cell_type": "markdown",
   "metadata": {},
   "source": [
    "# Advance MongoDB Query"
   ]
  },
  {
   "cell_type": "code",
   "execution_count": 30,
   "metadata": {},
   "outputs": [
    {
     "name": "stdout",
     "output_type": "stream",
     "text": [
      "{'_id': 1, 'name': 'John', 'address': 'Highway 37'}\n"
     ]
    }
   ],
   "source": [
    "myquery = {\"address\":\"Highway 37\"}\n",
    "\n",
    "mydoc = employee.find(myquery)\n",
    "\n",
    "for x in mydoc:\n",
    "    print(x)"
   ]
  },
  {
   "cell_type": "markdown",
   "metadata": {},
   "source": [
    "### to find the 5 records from the reverse order "
   ]
  },
  {
   "cell_type": "code",
   "execution_count": 31,
   "metadata": {},
   "outputs": [
    {
     "name": "stdout",
     "output_type": "stream",
     "text": [
      "{'_id': ObjectId('664d2e88246c8fecfa25e585'), 'Name': 'Raj Kumar', 'Adress': 'Sears Streer, NZ', 'Age': '42'}\n",
      "{'_id': 9, 'name': 'Viola', 'address': 'Sideway Ave'}\n",
      "{'_id': 8, 'name': 'Nancy', 'address': 'Younge Ave. 123'}\n",
      "{'_id': 7, 'name': 'Nicky', 'address': 'Yellow Garden 23'}\n",
      "{'_id': 6, 'name': 'Vicky', 'address': 'Yellow Garden 124'}\n"
     ]
    }
   ],
   "source": [
    "myresult = employee.find().sort(\"_id\",-1).limit(5)\n",
    "\n",
    "#print the result\n",
    "for x in myresult:\n",
    "    print(x)"
   ]
  },
  {
   "cell_type": "markdown",
   "metadata": {},
   "source": [
    "# filter with RE"
   ]
  },
  {
   "cell_type": "code",
   "execution_count": 32,
   "metadata": {},
   "outputs": [
    {
     "name": "stdout",
     "output_type": "stream",
     "text": [
      "{'_id': 5, 'name': 'Michael', 'address': 'Valley 345'}\n"
     ]
    }
   ],
   "source": [
    "# find the address starting from V\n",
    "myquery = {\"address\":{\"$regex\":\"^V\"}}\n",
    "\n",
    "mydoc = employee.find(myquery)\n",
    "\n",
    "for x in mydoc:\n",
    "    print(x)"
   ]
  },
  {
   "cell_type": "code",
   "execution_count": 33,
   "metadata": {},
   "outputs": [
    {
     "name": "stdout",
     "output_type": "stream",
     "text": [
      "{'_id': 3, 'name': 'Amy', 'address': 'Close st 652'}\n",
      "{'_id': 5, 'name': 'Michael', 'address': 'Valley 345'}\n",
      "{'_id': 6, 'name': 'Vicky', 'address': 'Yellow Garden 124'}\n",
      "{'_id': 7, 'name': 'Nicky', 'address': 'Yellow Garden 23'}\n"
     ]
    }
   ],
   "source": [
    "# find the address containing \"l\"\n",
    "myquery = {\"address\":{\"$regex\":\"l\"}}\n",
    "\n",
    "mydoc = employee.find(myquery)\n",
    "\n",
    "for x in mydoc:\n",
    "    print(x)"
   ]
  },
  {
   "cell_type": "code",
   "execution_count": 34,
   "metadata": {},
   "outputs": [
    {
     "name": "stdout",
     "output_type": "stream",
     "text": [
      "{'_id': 5, 'name': 'Michael', 'address': 'Valley 345'}\n",
      "{'_id': 9, 'name': 'Viola', 'address': 'Sideway Ave'}\n"
     ]
    }
   ],
   "source": [
    "# find the address starting from V OR S\n",
    "myquery = {\"$or\":[{\"address\":{\"$regex\":\"^V\"}},\n",
    "           {\"address\":{\"$regex\":\"^S\"}}]}\n",
    "\n",
    "mydoc = employee.find(myquery)\n",
    "\n",
    "for x in mydoc:\n",
    "    print(x)"
   ]
  },
  {
   "cell_type": "code",
   "execution_count": 35,
   "metadata": {},
   "outputs": [
    {
     "name": "stdout",
     "output_type": "stream",
     "text": [
      "{'_id': 5, 'name': 'Michael', 'address': 'Valley 345'}\n",
      "{'_id': 9, 'name': 'Viola', 'address': 'Sideway Ave'}\n"
     ]
    }
   ],
   "source": [
    "# find the address starting from V OR S\n",
    "myquery = {\"address\":{\"$regex\":\"^S|^V\"}}\n",
    "\n",
    "mydoc = employee.find(myquery)\n",
    "\n",
    "for x in mydoc:\n",
    "    print(x)"
   ]
  },
  {
   "cell_type": "code",
   "execution_count": 36,
   "metadata": {},
   "outputs": [
    {
     "name": "stdout",
     "output_type": "stream",
     "text": [
      "{'_id': 6, 'name': 'Vicky', 'address': 'Yellow Garden 124'}\n",
      "{'_id': 8, 'name': 'Nancy', 'address': 'Younge Ave. 123'}\n"
     ]
    }
   ],
   "source": [
    "# find the address starting from Y AND have the number \"1\" \n",
    "myquery = {\"$and\":[{\"address\":{\"$regex\":\"^Y\"}},\n",
    "           {\"address\":{\"$regex\":\"1\"}}]}\n",
    "\n",
    "mydoc = employee.find(myquery)\n",
    "\n",
    "for x in mydoc:\n",
    "    print(x)"
   ]
  },
  {
   "cell_type": "code",
   "execution_count": 37,
   "metadata": {},
   "outputs": [
    {
     "name": "stdout",
     "output_type": "stream",
     "text": [
      "{'_id': 8, 'name': 'Nancy', 'address': 'Younge Ave. 123'}\n"
     ]
    }
   ],
   "source": [
    "# find the address starting from Y AND have the number \"1\" AND name starting with N\n",
    "myquery = {\"$and\":[{\"address\":{\"$regex\":\"^Y\"}},\n",
    "           {\"address\":{\"$regex\":\"1\"}},\n",
    "           {\"name\":{\"$regex\":\"^N\"}}]}\n",
    "\n",
    "mydoc = employee.find(myquery)\n",
    "\n",
    "for x in mydoc:\n",
    "    print(x)"
   ]
  },
  {
   "cell_type": "code",
   "execution_count": 46,
   "metadata": {},
   "outputs": [
    {
     "name": "stdout",
     "output_type": "stream",
     "text": [
      "{'_id': 6, 'name': 'Vicky', 'address': 'Yellow Garden 124'}\n",
      "{'_id': 8, 'name': 'Nancy', 'address': 'Younge Ave. 123'}\n"
     ]
    }
   ],
   "source": [
    "# find the address starting from Y AND have the number \"1\" AND name not equal to \"Nicky\"\n",
    "myquery = {\"$and\":[{\"address\":{\"$regex\":\"^Y\"}},\n",
    "           {\"address\":{\"$regex\":\"1\"}},\n",
    "           {\"name\":{\"$ne\":\"Nicky\"}}]}\n",
    "\n",
    "mydoc = employee.find(myquery)\n",
    "\n",
    "for x in mydoc:\n",
    "    print(x)"
   ]
  },
  {
   "cell_type": "markdown",
   "metadata": {},
   "source": [
    "# $gt (includes the one we mention) \n",
    "### in below example \"S\" will be included "
   ]
  },
  {
   "cell_type": "code",
   "execution_count": 49,
   "metadata": {},
   "outputs": [
    {
     "name": "stdout",
     "output_type": "stream",
     "text": [
      "{'_id': 5, 'name': 'Michael', 'address': 'Valley 345'}\n",
      "{'_id': 6, 'name': 'Vicky', 'address': 'Yellow Garden 124'}\n",
      "{'_id': 7, 'name': 'Nicky', 'address': 'Yellow Garden 23'}\n",
      "{'_id': 8, 'name': 'Nancy', 'address': 'Younge Ave. 123'}\n",
      "{'_id': 9, 'name': 'Viola', 'address': 'Sideway Ave'}\n"
     ]
    }
   ],
   "source": [
    "myquery = {\"address\":{\"$gt\":\"S\"}}\n",
    "\n",
    "mydoc = employee.find(myquery)\n",
    "\n",
    "for x in mydoc:\n",
    "    print(x)"
   ]
  },
  {
   "cell_type": "markdown",
   "metadata": {},
   "source": [
    "# $lt"
   ]
  },
  {
   "cell_type": "code",
   "execution_count": 50,
   "metadata": {},
   "outputs": [
    {
     "name": "stdout",
     "output_type": "stream",
     "text": [
      "{'_id': 1, 'name': 'John', 'address': 'Highway 37'}\n",
      "{'_id': 2, 'name': 'Peter', 'address': 'Lowstreet 27'}\n",
      "{'_id': 3, 'name': 'Amy', 'address': 'Close st 652'}\n",
      "{'_id': 4, 'name': 'Hannah', 'address': 'Mountain 21'}\n"
     ]
    }
   ],
   "source": [
    "myquery = {\"address\":{\"$lt\":\"S\"}}\n",
    "\n",
    "mydoc = employee.find(myquery)\n",
    "\n",
    "for x in mydoc:\n",
    "    print(x)"
   ]
  },
  {
   "cell_type": "markdown",
   "metadata": {},
   "source": [
    "# sort\n",
    "\n",
    "## sort(\"name\",1) #ascending\n",
    "## sort(\"name\",-1) #descending"
   ]
  },
  {
   "cell_type": "code",
   "execution_count": 51,
   "metadata": {},
   "outputs": [
    {
     "name": "stdout",
     "output_type": "stream",
     "text": [
      "{'_id': ObjectId('664d2e88246c8fecfa25e585'), 'Name': 'Raj Kumar', 'Adress': 'Sears Streer, NZ', 'Age': '42'}\n",
      "{'_id': 3, 'name': 'Amy', 'address': 'Close st 652'}\n",
      "{'_id': 4, 'name': 'Hannah', 'address': 'Mountain 21'}\n",
      "{'_id': 1, 'name': 'John', 'address': 'Highway 37'}\n",
      "{'_id': 5, 'name': 'Michael', 'address': 'Valley 345'}\n",
      "{'_id': 8, 'name': 'Nancy', 'address': 'Younge Ave. 123'}\n",
      "{'_id': 7, 'name': 'Nicky', 'address': 'Yellow Garden 23'}\n",
      "{'_id': 2, 'name': 'Peter', 'address': 'Lowstreet 27'}\n",
      "{'_id': 6, 'name': 'Vicky', 'address': 'Yellow Garden 124'}\n",
      "{'_id': 9, 'name': 'Viola', 'address': 'Sideway Ave'}\n"
     ]
    }
   ],
   "source": [
    "# ascending\n",
    "mydoc = employee.find().sort(\"name\")\n",
    "\n",
    "for x in mydoc:\n",
    "    print(x)"
   ]
  },
  {
   "cell_type": "code",
   "execution_count": 52,
   "metadata": {},
   "outputs": [
    {
     "name": "stdout",
     "output_type": "stream",
     "text": [
      "{'_id': 9, 'name': 'Viola', 'address': 'Sideway Ave'}\n",
      "{'_id': 6, 'name': 'Vicky', 'address': 'Yellow Garden 124'}\n",
      "{'_id': 2, 'name': 'Peter', 'address': 'Lowstreet 27'}\n",
      "{'_id': 7, 'name': 'Nicky', 'address': 'Yellow Garden 23'}\n",
      "{'_id': 8, 'name': 'Nancy', 'address': 'Younge Ave. 123'}\n",
      "{'_id': 5, 'name': 'Michael', 'address': 'Valley 345'}\n",
      "{'_id': 1, 'name': 'John', 'address': 'Highway 37'}\n",
      "{'_id': 4, 'name': 'Hannah', 'address': 'Mountain 21'}\n",
      "{'_id': 3, 'name': 'Amy', 'address': 'Close st 652'}\n",
      "{'_id': ObjectId('664d2e88246c8fecfa25e585'), 'Name': 'Raj Kumar', 'Adress': 'Sears Streer, NZ', 'Age': '42'}\n"
     ]
    }
   ],
   "source": [
    "#descending\n",
    "mydoc = employee.find().sort(\"name\",-1)\n",
    "\n",
    "for x in mydoc:\n",
    "    print(x)"
   ]
  },
  {
   "cell_type": "code",
   "execution_count": 53,
   "metadata": {},
   "outputs": [
    {
     "name": "stdout",
     "output_type": "stream",
     "text": [
      "{'_id': ObjectId('664d2e88246c8fecfa25e585'), 'Name': 'Raj Kumar', 'Adress': 'Sears Streer, NZ', 'Age': '42'}\n",
      "{'_id': 3, 'name': 'Amy', 'address': 'Close st 652'}\n",
      "{'_id': 4, 'name': 'Hannah', 'address': 'Mountain 21'}\n",
      "{'_id': 1, 'name': 'John', 'address': 'Highway 37'}\n",
      "{'_id': 5, 'name': 'Michael', 'address': 'Valley 345'}\n"
     ]
    }
   ],
   "source": [
    "mydoc = employee.find().sort({\"name\" : 1, \"address\": 1}).limit(5)\n",
    "\n",
    "for x in mydoc:\n",
    "    \n",
    "    print(x)"
   ]
  },
  {
   "cell_type": "markdown",
   "metadata": {},
   "source": [
    "# update one record"
   ]
  },
  {
   "cell_type": "code",
   "execution_count": 54,
   "metadata": {},
   "outputs": [
    {
     "name": "stdout",
     "output_type": "stream",
     "text": [
      "{'_id': ObjectId('664d2e88246c8fecfa25e585'), 'Name': 'Raj Kumar', 'Adress': 'Sears Streer, NZ', 'Age': '42'}\n",
      "{'_id': 1, 'name': 'John', 'address': 'Highway 37'}\n",
      "{'_id': 2, 'name': 'Peter', 'address': 'Lowstreet 27'}\n",
      "{'_id': 3, 'name': 'Amy', 'address': 'Close st 652'}\n",
      "{'_id': 4, 'name': 'Hannah', 'address': 'Mountain 21'}\n",
      "{'_id': 5, 'name': 'Michael', 'address': 'Valley 345'}\n",
      "{'_id': 6, 'name': 'Vicky', 'address': 'Yellow Garden 124'}\n",
      "{'_id': 7, 'name': 'Nicky', 'address': 'Yellow Garden 23'}\n",
      "{'_id': 8, 'name': 'Nancy', 'address': 'Younge Ave. 123'}\n",
      "{'_id': 9, 'name': 'Viola', 'address': 'Sideway Ave'}\n"
     ]
    }
   ],
   "source": [
    "for x in employee.find():\n",
    "    print(x)"
   ]
  },
  {
   "cell_type": "code",
   "execution_count": 62,
   "metadata": {},
   "outputs": [
    {
     "name": "stdout",
     "output_type": "stream",
     "text": [
      "{'_id': ObjectId('664d2e88246c8fecfa25e585'), 'Name': 'Raj Kumar', 'Age': '42', 'address': 'Sears Streer, NZ'}\n",
      "{'_id': 1, 'name': 'John', 'address': 'Highway 37'}\n",
      "{'_id': 2, 'name': 'Peter', 'address': 'Lowstreet 27'}\n",
      "{'_id': 3, 'name': 'Minnie', 'address': 'Close st 652'}\n",
      "{'_id': 5, 'name': 'Minnie', 'address': 'Canyon 123'}\n",
      "{'_id': 9, 'name': 'Viola', 'address': 'Sideway Ave'}\n"
     ]
    }
   ],
   "source": [
    "myquery = {\"address\":\"Valley 345\"}\n",
    "newvalues = {\"$set\":{\"address\":\"Canyon 123\"}}\n",
    "\n",
    "employee.update_one(myquery,newvalues)\n",
    "\n",
    "for x in employee.find():\n",
    "    print(x)"
   ]
  },
  {
   "cell_type": "code",
   "execution_count": 56,
   "metadata": {},
   "outputs": [
    {
     "name": "stdout",
     "output_type": "stream",
     "text": [
      "{'_id': ObjectId('664d2e88246c8fecfa25e585'), 'Name': 'Raj Kumar', 'Age': '42', 'address': 'Sears Streer, NZ'}\n",
      "{'_id': 1, 'name': 'John', 'address': 'Highway 37'}\n",
      "{'_id': 2, 'name': 'Peter', 'address': 'Lowstreet 27'}\n",
      "{'_id': 3, 'name': 'Amy', 'address': 'Close st 652'}\n",
      "{'_id': 4, 'name': 'Hannah', 'address': 'Mountain 21'}\n",
      "{'_id': 5, 'name': 'Michael', 'address': 'Canyon 123'}\n",
      "{'_id': 6, 'name': 'Vicky', 'address': 'Yellow Garden 124'}\n",
      "{'_id': 7, 'name': 'Nicky', 'address': 'Yellow Garden 23'}\n",
      "{'_id': 8, 'name': 'Nancy', 'address': 'Younge Ave. 123'}\n",
      "{'_id': 9, 'name': 'Viola', 'address': 'Sideway Ave'}\n"
     ]
    }
   ],
   "source": [
    "# Update documents by renaming the field 'Adress' to 'address'\n",
    "employee.update_many(\n",
    "    {\"Adress\": {\"$exists\": True}},\n",
    "    {\"$rename\": {\"Adress\": \"address\"}}\n",
    ")\n",
    "\n",
    "# Verify the change\n",
    "mydoc = employee.find()\n",
    "for x in mydoc:\n",
    "    print(x)"
   ]
  },
  {
   "cell_type": "code",
   "execution_count": 64,
   "metadata": {},
   "outputs": [
    {
     "name": "stdout",
     "output_type": "stream",
     "text": [
      "0 documents updated.\n",
      "{'_id': ObjectId('664d2e88246c8fecfa25e585'), 'Name': 'Raj Kumar', 'Age': '42', 'address': 'Sears Streer, NZ'}\n",
      "{'_id': 1, 'name': 'John', 'address': 'Highway 37'}\n",
      "{'_id': 2, 'name': 'Peter', 'address': 'Lowstreet 27'}\n",
      "{'_id': 3, 'name': 'Minnie', 'address': 'Close st 652'}\n",
      "{'_id': 5, 'name': 'Minnie', 'address': 'Canyon 123'}\n",
      "{'_id': 9, 'name': 'Viola', 'address': 'Sideway Ave'}\n"
     ]
    }
   ],
   "source": [
    "# updating the address starting with C\n",
    "myquery = {\"address\":{\"$regex\":\"^C\"}}\n",
    "newvalues = {\"$set\":{\"name\":\"Minnie\"}}\n",
    "\n",
    "x = employee.update_many(myquery,newvalues)\n",
    "\n",
    "print(x.modified_count,\"documents updated.\")\n",
    "\n",
    "for x in employee.find():\n",
    "    print(x)"
   ]
  },
  {
   "cell_type": "code",
   "execution_count": 58,
   "metadata": {},
   "outputs": [
    {
     "data": {
      "text/plain": [
       "DeleteResult({'n': 0, 'ok': 1.0}, acknowledged=True)"
      ]
     },
     "execution_count": 58,
     "metadata": {},
     "output_type": "execute_result"
    }
   ],
   "source": [
    "db.employee.delete_one({\"Age\":\"35\"})"
   ]
  },
  {
   "cell_type": "code",
   "execution_count": 60,
   "metadata": {},
   "outputs": [
    {
     "data": {
      "text/plain": [
       "DeleteResult({'n': 1, 'ok': 1.0}, acknowledged=True)"
      ]
     },
     "execution_count": 60,
     "metadata": {},
     "output_type": "execute_result"
    }
   ],
   "source": [
    "myquery = {\"address\":\"Mountain 21\"}\n",
    "\n",
    "employee.delete_one(myquery)"
   ]
  },
  {
   "cell_type": "code",
   "execution_count": 61,
   "metadata": {},
   "outputs": [
    {
     "name": "stdout",
     "output_type": "stream",
     "text": [
      "3 documents deleted!\n"
     ]
    }
   ],
   "source": [
    "myquery = {\"address\" : {\"$regex\" : \"^Y\"}}\n",
    "\n",
    "x = employee.delete_many(myquery)\n",
    "\n",
    "print(x.deleted_count, \"documents deleted!\")"
   ]
  },
  {
   "cell_type": "markdown",
   "metadata": {},
   "source": [
    "x = employee.delete_many({})\n",
    "\n",
    "print(x.deleted_count, \"documents deleted.\")"
   ]
  },
  {
   "cell_type": "markdown",
   "metadata": {},
   "source": [
    "employee.drop()"
   ]
  },
  {
   "cell_type": "markdown",
   "metadata": {},
   "source": [
    "# home\n",
    "rename the collection from employee to employee_details\n",
    "\n",
    "address to employee_address\n",
    "\n",
    "delete the field \"name\""
   ]
  },
  {
   "cell_type": "markdown",
   "metadata": {},
   "source": []
  }
 ],
 "metadata": {
  "kernelspec": {
   "display_name": "base",
   "language": "python",
   "name": "python3"
  },
  "language_info": {
   "codemirror_mode": {
    "name": "ipython",
    "version": 3
   },
   "file_extension": ".py",
   "mimetype": "text/x-python",
   "name": "python",
   "nbconvert_exporter": "python",
   "pygments_lexer": "ipython3",
   "version": "3.11.5"
  }
 },
 "nbformat": 4,
 "nbformat_minor": 2
}
