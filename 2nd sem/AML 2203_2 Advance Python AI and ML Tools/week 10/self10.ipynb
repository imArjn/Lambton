{
 "cells": [
  {
   "cell_type": "markdown",
   "metadata": {},
   "source": [
    "Q1) Given two non-negative integers num1 and num2 represented as strings, return the product of num1 and num2, also represented as a string.\n",
    "\n",
    "Note: You must not use any built-in BigInteger library or convert the inputs to integer directly.\n",
    "\n",
    " \n",
    "\n",
    "Example 1:\n",
    "\n",
    "Input: num1 = \"2\", num2 = \"3\"\n",
    "\n",
    "Output: \"6\""
   ]
  },
  {
   "cell_type": "code",
   "execution_count": 1,
   "metadata": {},
   "outputs": [
    {
     "data": {
      "text/plain": [
       "'290'"
      ]
     },
     "execution_count": 1,
     "metadata": {},
     "output_type": "execute_result"
    }
   ],
   "source": [
    "def multipy(num1:str,num2:str)->str:\n",
    "    \"\"\"Given 2 string, performs multiplication without using any built-in BigInteger library or convert input to integer directly\n",
    "\n",
    "    Args:\n",
    "        num1 (str): first number\n",
    "        num2 (str): second number \n",
    "\n",
    "    Returns:\n",
    "        str: returns the multiplied number\n",
    "    \"\"\"\n",
    "    if num1 == 0 or num2 == 0:\n",
    "        return \"0\"\n",
    "    result = [0] * (len(num1)+len(num2))\n",
    "    \n",
    "    num1,num2 = num1[::-1],num2[::-1]\n",
    "    \n",
    "    for i in range(len(num1)):\n",
    "        for j in range(len(num2)):\n",
    "            mul = int(num1[i]) * int(num2[j])\n",
    "            result[i + j] += mul\n",
    "            result[i + j + 1] += result[i + j] // 10\n",
    "            result[i + j] %= 10\n",
    "            \n",
    "    while(len(result) > 0 and result[-1] == 0):\n",
    "        result.pop()\n",
    "    \n",
    "    result.reverse()\n",
    "    return \"\".join(map(str,result))\n",
    "num1 = \"29\"\n",
    "num2 = \"10\"\n",
    "multipy(num1,num2)"
   ]
  },
  {
   "cell_type": "markdown",
   "metadata": {},
   "source": [
    "Q2) The count-and-say sequence is a sequence of digit strings defined by the recursive formula:\n",
    "\n",
    "countAndSay(1) = \"1\"\n",
    "countAndSay(n) is the way you would \"say\" the digit string from countAndSay(n-1), which is then converted into a different digit string.\n",
    "To determine how you \"say\" a digit string, split it into the minimal number of substrings such that each substring contains exactly one unique digit. Then for each substring, say the number of digits, then say the digit. Finally, concatenate every said digit.\n",
    "\n",
    "For example, the saying and conversion for digit string \"3322251\":\n",
    "- \"3322251\"<br>\n",
    "- two 3's, three 2's, one 5, and one 1<br>\n",
    "- 2 3 + 3 2 + 1 5 + 1 1<br>\n",
    "- \"23321511\"--> output<br>\n",
    "\n",
    "\n",
    "Given a positive integer n, return the nth term of the count-and-say sequence."
   ]
  },
  {
   "cell_type": "code",
   "execution_count": 1,
   "metadata": {},
   "outputs": [
    {
     "name": "stdout",
     "output_type": "stream",
     "text": [
      "7\n",
      "23321511\n"
     ]
    }
   ],
   "source": [
    "def count_and_say(inputstr:str):\n",
    "    if not inputstr:\n",
    "        return \"\"\n",
    "    result = []\n",
    "    count = 1\n",
    "    length = len(inputstr)\n",
    "    \n",
    "    for i in range(1,length):\n",
    "        if inputstr[i] == inputstr[i-1]:\n",
    "            count += 1\n",
    "        else:\n",
    "            result.append(str(count))\n",
    "            result.append(inputstr[i-1])\n",
    "            count = 1\n",
    "    \n",
    "    result.append(str(count))\n",
    "    result.append(inputstr[-1])\n",
    "    return \"\".join(result)\n",
    "\n",
    "inputstr = \"3322251\"\n",
    "print(count_and_say(inputstr))"
   ]
  },
  {
   "cell_type": "code",
   "execution_count": null,
   "metadata": {},
   "outputs": [],
   "source": []
  }
 ],
 "metadata": {
  "kernelspec": {
   "display_name": "Python 3",
   "language": "python",
   "name": "python3"
  },
  "language_info": {
   "codemirror_mode": {
    "name": "ipython",
    "version": 3
   },
   "file_extension": ".py",
   "mimetype": "text/x-python",
   "name": "python",
   "nbconvert_exporter": "python",
   "pygments_lexer": "ipython3",
   "version": "3.12.4"
  }
 },
 "nbformat": 4,
 "nbformat_minor": 2
}
