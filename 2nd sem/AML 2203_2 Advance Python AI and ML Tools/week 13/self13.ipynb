{
 "cells": [
  {
   "cell_type": "markdown",
   "metadata": {},
   "source": [
    "Q1. Given a signed 32-bit integer x, return x with its digits reversed. If reversing x causes the value to go outside the signed 32-bit integer range [-231, 231 - 1], then return 0. <br>\n",
    "\n",
    "Assume the environment does not allow you to store 64-bit integers (signed or unsigned).<br>\n",
    "\n",
    "Example 1:\n",
    "\n",
    "Input: x = 123\n",
    "\n",
    "Output: 321\n",
    "\n"
   ]
  },
  {
   "cell_type": "code",
   "execution_count": 4,
   "metadata": {},
   "outputs": [
    {
     "name": "stdout",
     "output_type": "stream",
     "text": [
      "321\n",
      "0\n"
     ]
    }
   ],
   "source": [
    "def reverse_integer(x):\n",
    "    # checking the number's sign\n",
    "    is_negative = (x < 0)\n",
    "    x = abs(x)\n",
    "    \n",
    "    # declaring MIN and MAX integer\n",
    "    MIN = (-2)**31\n",
    "    MAX = (2**31) - 1\n",
    "    \n",
    "    #reversing the digits\n",
    "    reversed_str = str(x)[::-1]\n",
    "    reversed_x = int(reversed_str)\n",
    "    \n",
    "    if is_negative:\n",
    "        reversed_x = -reversed_x\n",
    "        \n",
    "    if reversed_x < MIN or reversed_x > MAX:\n",
    "        return 0\n",
    "    \n",
    "    return reversed_x\n",
    "\n",
    "print(reverse_integer(123))\n",
    "print(reverse_integer(1534236469))\n",
    "\n",
    "    "
   ]
  },
  {
   "cell_type": "markdown",
   "metadata": {},
   "source": [
    "Q2. You are given an n x n 2D matrix representing an image, rotate the image by 90 degrees (clockwise). <br>\n",
    "\n",
    "You have to rotate the image in-place, which means you have to modify the input 2D matrix directly. DO NOT allocate another 2D matrix and do the rotation. <br>\n",
    "\n",
    " \n",
    "\n",
    "Example 1:\n",
    "\n",
    "\n",
    "\n",
    "Input: matrix = [[1,2,3],[4,5,6],[7,8,9]]\n",
    "\n",
    "Output: [[7,4,1],[8,5,2],[9,6,3]]"
   ]
  },
  {
   "cell_type": "code",
   "execution_count": 5,
   "metadata": {},
   "outputs": [
    {
     "name": "stdout",
     "output_type": "stream",
     "text": [
      "[[7, 4, 1], [8, 5, 2], [9, 6, 3]]\n"
     ]
    }
   ],
   "source": [
    "def rotate_90(matrix):\n",
    "    n = len(matrix)\n",
    "    \n",
    "    # transpose\n",
    "    for i in range(n):\n",
    "        for j in range(i+1,n):\n",
    "            matrix[i][j], matrix[j][i] = matrix[j][i], matrix[i][j]\n",
    "    # reversing rows       \n",
    "    for i in range(n):\n",
    "        matrix[i].reverse()\n",
    "        \n",
    "matrix = [[1,2,3],[4,5,6],[7,8,9]]\n",
    "rotate_90(matrix)\n",
    "\n",
    "print(matrix)"
   ]
  },
  {
   "cell_type": "markdown",
   "metadata": {},
   "source": [
    "Q3 Given an m x n grid of characters board and a string word, return true if word exists in the grid.\n",
    "\n",
    "The word can be constructed from letters of sequentially adjacent cells, where adjacent cells are horizontally or vertically neighboring. The same letter cell may not be used more than once.\n",
    "\n",
    " \n",
    "\n",
    "Example 1:\n",
    "\n",
    "\n",
    "\n",
    "Input: board = [[\"A\",\"B\",\"C\",\"E\"],[\"S\",\"F\",\"C\",\"S\"],[\"A\",\"D\",\"E\",\"E\"]], word = \"ABCCED\"\n",
    "\n",
    "Output: true\n",
    "\n"
   ]
  },
  {
   "cell_type": "code",
   "execution_count": 6,
   "metadata": {},
   "outputs": [
    {
     "name": "stdout",
     "output_type": "stream",
     "text": [
      "True\n"
     ]
    }
   ],
   "source": [
    "def pattern_exist(board, word):\n",
    "    if not board or not word:\n",
    "        return False\n",
    "    # mXn matrix length\n",
    "    m,n = len(board), len(board[0])\n",
    "    \n",
    "    # depth first search\n",
    "    def dfs(x,y,index):\n",
    "        # base case: all characters matched\n",
    "        if index == len(word):\n",
    "            return True\n",
    "        # Boundary and character check\n",
    "        if x<0 or x>=m or y<0 or y>=n or board[x][y] != word[index]:\n",
    "            return False\n",
    "        \n",
    "        # Mark the cell as visited by storing the original value\n",
    "        temp = board[x][y]\n",
    "        board[x][y] = \"#\"\n",
    "        \n",
    "        # Explore the four possible directions\n",
    "        found = (dfs(x+1,y,index+1) or\n",
    "                 dfs(x-1,y,index+1) or\n",
    "                 dfs(x,y+1,index+1) or\n",
    "                 dfs(x,y-1,index+1))\n",
    "        \n",
    "        # restpre the original value\n",
    "        board[x][y] = temp\n",
    "        \n",
    "        return found\n",
    "    \n",
    "    # iterate through each cell in the grid\n",
    "    for i in range(m):\n",
    "        for j in range(n):\n",
    "            if dfs(i, j, 0):\n",
    "                return True\n",
    "    return False\n",
    "\n",
    "board = [[\"A\",\"B\",\"C\",\"E\"],\n",
    "         [\"S\",\"F\",\"C\",\"S\"],\n",
    "         [\"A\",\"D\",\"E\",\"E\"]]\n",
    "word = \"ABCCED\"\n",
    "print(pattern_exist(board, word))"
   ]
  },
  {
   "cell_type": "code",
   "execution_count": null,
   "metadata": {},
   "outputs": [],
   "source": []
  }
 ],
 "metadata": {
  "kernelspec": {
   "display_name": "ai_env",
   "language": "python",
   "name": "python3"
  },
  "language_info": {
   "codemirror_mode": {
    "name": "ipython",
    "version": 3
   },
   "file_extension": ".py",
   "mimetype": "text/x-python",
   "name": "python",
   "nbconvert_exporter": "python",
   "pygments_lexer": "ipython3",
   "version": "3.12.4"
  }
 },
 "nbformat": 4,
 "nbformat_minor": 2
}
