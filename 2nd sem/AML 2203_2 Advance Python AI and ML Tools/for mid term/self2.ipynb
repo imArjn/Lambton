{
 "cells": [
  {
   "cell_type": "markdown",
   "metadata": {},
   "source": [
    "A-Write a Python program to check if a number is a perfect square"
   ]
  },
  {
   "cell_type": "code",
   "execution_count": 1,
   "metadata": {},
   "outputs": [
    {
     "name": "stdout",
     "output_type": "stream",
     "text": [
      "The number 36 is the perfect square of 6.\n"
     ]
    }
   ],
   "source": [
    "# taking an input from the user\n",
    "number = int(input(\"Enter a number: \"))\n",
    "#setting the flag to false\n",
    "flag = False\n",
    "# looping from 1 to the number\n",
    "for i in range(1,number+1):\n",
    "    #checking if the number is perfect square\n",
    "    if i*i == number:\n",
    "        # if true set the flag to true\n",
    "        flag = True\n",
    "        break\n",
    "#printing the appropriate output\n",
    "if flag:\n",
    "    # here i is when the loop ends\n",
    "    print(f\"The number {number} is the perfect square of {i}.\")\n",
    "else:\n",
    "    print(f\"The number {number} is not the perfect square.\")"
   ]
  },
  {
   "cell_type": "markdown",
   "metadata": {},
   "source": [
    "B- Write a Python program to find a missing number from a list. \n",
    "Input : [1,2,3,4,6,7,8]\n",
    "Output : 5"
   ]
  },
  {
   "cell_type": "code",
   "execution_count": 2,
   "metadata": {},
   "outputs": [
    {
     "name": "stdout",
     "output_type": "stream",
     "text": [
      "5\n"
     ]
    }
   ],
   "source": [
    "# taking the input list\n",
    "l = [1,2,3,4,6,7,8]\n",
    "#checking from the range of first number to last number from the input list\n",
    "for i in range(l[0],l[-1]+1):\n",
    "    # checking if the number is not in the list\n",
    "    if i not in l:\n",
    "        #printing the number not in list\n",
    "        print(i)"
   ]
  },
  {
   "cell_type": "markdown",
   "metadata": {},
   "source": [
    "C- Write a Python program to find the single number in a list that doesn't occur twice.\n",
    "Input : [5, 3, 4, 3, 4]\n",
    "Output : 5"
   ]
  },
  {
   "cell_type": "code",
   "execution_count": 3,
   "metadata": {},
   "outputs": [
    {
     "name": "stdout",
     "output_type": "stream",
     "text": [
      "5\n"
     ]
    }
   ],
   "source": [
    "#taking input list\n",
    "l = [5,3,4,3,4]\n",
    "#iterating through list for the first time\n",
    "for each_num in l:\n",
    "    #initiating count as 0\n",
    "    count = 0\n",
    "    #iterating through list for the second time\n",
    "    for n in l:\n",
    "        #checking number in first iteration with second iteration\n",
    "        if each_num == n:\n",
    "            # incrementing the count value\n",
    "            count +=1\n",
    "    # checking if count is 1\n",
    "    if count == 1:\n",
    "        # printing if count is one\n",
    "        print(each_num)\n",
    "        break\n",
    "    else:\n",
    "        #if the count is not 1\n",
    "        print(\"No single number\")\n",
    "        break"
   ]
  }
 ],
 "metadata": {
  "kernelspec": {
   "display_name": "Python 3",
   "language": "python",
   "name": "python3"
  },
  "language_info": {
   "codemirror_mode": {
    "name": "ipython",
    "version": 3
   },
   "file_extension": ".py",
   "mimetype": "text/x-python",
   "name": "python",
   "nbconvert_exporter": "python",
   "pygments_lexer": "ipython3",
   "version": "3.12.2"
  }
 },
 "nbformat": 4,
 "nbformat_minor": 2
}
