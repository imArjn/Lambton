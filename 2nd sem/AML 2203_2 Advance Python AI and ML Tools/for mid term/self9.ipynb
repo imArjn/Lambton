{
 "cells": [
  {
   "cell_type": "markdown",
   "metadata": {},
   "source": [
    "Q1: A phrase is a palindrome if, after converting all uppercase letters into lowercase letters and removing all non-alphanumeric characters, it reads the same forward and backward. Alphanumeric characters include letters and numbers. Given a string s, return true if it is a palindrome, or false otherwise.\n",
    "\n",
    "Example 1:\n",
    "\n",
    "Input: s = \"A man, a plan, a canal: Panama\"\n",
    "\n",
    "Output: true\n",
    "\n",
    "Explanation: \"amanaplanacanalpanama\" is a palindrome.\n",
    "\n",
    "Example 2:\n",
    "\n",
    "Input: s = \"race a car\"\n",
    "\n",
    "Output: false\n",
    "\n",
    "Explanation: \"raceacar\" is not a palindrome."
   ]
  },
  {
   "cell_type": "code",
   "execution_count": 14,
   "metadata": {},
   "outputs": [
    {
     "name": "stdout",
     "output_type": "stream",
     "text": [
      "Checking for : A man, a plan, a canal: Panama\n",
      "True\n",
      "Checking for : race a car\n",
      "False\n"
     ]
    }
   ],
   "source": [
    "import re\n",
    "def check_palindrome(s)->bool:\n",
    "    \n",
    "    print(f\"Checking for : {s}\")\n",
    "    # convert string to lowercase\n",
    "    s = s.lower()\n",
    "    \n",
    "    # Remove all non-alphanumeric characters\n",
    "    s = re.sub(r'[^a-z0-9]', '', s)\n",
    "    \n",
    "    # reversing the string s \n",
    "    reversed_s = s[::-1]\n",
    "    \n",
    "    # checking if the string is same after reversing. if same return True\n",
    "    if s == reversed_s:\n",
    "        return True\n",
    "    \n",
    "    return False\n",
    "print(check_palindrome(\"A man, a plan, a canal: Panama\"))\n",
    "\n",
    "print(check_palindrome(\"race a car\"))"
   ]
  },
  {
   "cell_type": "markdown",
   "metadata": {},
   "source": [
    "Q2 Given an array nums of size n, return the majority element. The majority element is the element that appears more than ⌊n / 2⌋ times. You may assume that the majority element always exists in the array.\n",
    "\n",
    "Example 1:\n",
    "\n",
    "Input: nums = [3,2,3]\n",
    "\n",
    "Output: 3\n",
    "\n",
    "Example 2:\n",
    "\n",
    "Input: nums = [2,2,1,1,1,2,2]\n",
    "\n",
    "Output: 2"
   ]
  },
  {
   "cell_type": "code",
   "execution_count": 1,
   "metadata": {},
   "outputs": [
    {
     "name": "stdout",
     "output_type": "stream",
     "text": [
      "Input:nums = [2, 2, 1, 1, 1, 2, 2]\n",
      "Output:2\n"
     ]
    }
   ],
   "source": [
    "from collections import Counter\n",
    "\n",
    "def majority_element(nums):\n",
    "    \n",
    "    # if there is only one element in the list then that is the majority element\n",
    "    if len(nums) == 1:\n",
    "        return nums[0]\n",
    "    # Count the occurance of each element in the list\n",
    "    counts = Counter(nums)\n",
    "    \n",
    "    # creating threshold\n",
    "    threshold = len(nums)/2\n",
    "    \n",
    "    # returning the value whose count is greater than the threshold\n",
    "    for each in counts:\n",
    "        if counts[each] > threshold:\n",
    "            return each\n",
    "    \n",
    "    return None # this line should not be reached\n",
    "\n",
    "#nums = [3,2,3]\n",
    "nums = [2,2,1,1,1,2,2]\n",
    "print(f\"Input:nums = {nums}\")\n",
    "print(f\"Output:{majority_element(nums)}\")\n"
   ]
  },
  {
   "cell_type": "markdown",
   "metadata": {},
   "source": [
    "Q3 Write an algorithm to determine if a number n is happy. A happy number is a number defined by the following process:\n",
    "\n",
    "Starting with any positive integer, replace the number by the sum of the squares of its digits.\n",
    "Repeat the process until the number equals 1 (where it will stay), or it loops endlessly in a cycle which does not include 1.\n",
    "Those numbers for which this process ends in 1 are happy.\n",
    "Return true if n is a happy number, and false if not.\n",
    "\n",
    " Example 1:\n",
    "\n",
    "Input: n = 19\n",
    "\n",
    "Output: true\n",
    "\n",
    "Explanation:\n",
    "\n",
    "1^2 + 9^2 = 82\n",
    "\n",
    "8^2 + 2^2 = 68\n",
    "\n",
    "6^2 + 8^2 = 100\n",
    "\n",
    "1^2 + 0^2 + 0^2 = 1\n",
    "\n",
    "Example 2:\n",
    "\n",
    "Input: n = 2\n",
    "\n",
    "Output: false"
   ]
  },
  {
   "cell_type": "code",
   "execution_count": 18,
   "metadata": {},
   "outputs": [
    {
     "name": "stdout",
     "output_type": "stream",
     "text": [
      "3\n",
      "12\n"
     ]
    }
   ],
   "source": [
    "n = 123\n",
    "\n",
    "last = n % 10\n",
    "except_last = n // 10\n",
    "\n",
    "\n",
    "print(last)\n",
    "print(except_last)"
   ]
  },
  {
   "cell_type": "code",
   "execution_count": null,
   "metadata": {},
   "outputs": [],
   "source": []
  }
 ],
 "metadata": {
  "kernelspec": {
   "display_name": "Python 3",
   "language": "python",
   "name": "python3"
  },
  "language_info": {
   "codemirror_mode": {
    "name": "ipython",
    "version": 3
   },
   "file_extension": ".py",
   "mimetype": "text/x-python",
   "name": "python",
   "nbconvert_exporter": "python",
   "pygments_lexer": "ipython3",
   "version": "3.12.2"
  }
 },
 "nbformat": 4,
 "nbformat_minor": 2
}
