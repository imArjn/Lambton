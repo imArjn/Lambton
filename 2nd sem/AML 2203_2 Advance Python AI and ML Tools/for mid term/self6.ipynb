{
 "cells": [
  {
   "cell_type": "markdown",
   "metadata": {},
   "source": [
    "1-Write a Python program to check a sequence of numbers is an arithmetic progression or not. <br>\n",
    "Input : [5, 7, 9, 11] <br>\n",
    "Output : True <br>\n",
    "In mathematics, an arithmetic progression or arithmetic sequence is a sequence of numbers such that the difference between the consecutive terms is constant. <br>\n",
    "For example, the sequence 5, 7, 9, 11, 13, 15 ... is an arithmetic progression with common difference of 2. <br>\n"
   ]
  },
  {
   "cell_type": "code",
   "execution_count": 1,
   "metadata": {},
   "outputs": [
    {
     "name": "stdout",
     "output_type": "stream",
     "text": [
      "Input: [5, 7, 9, 11]\n",
      "Output: True\n"
     ]
    }
   ],
   "source": [
    "# function to check the arithmetic progression\n",
    "def check_arithmetic_progression(sequence) -> bool:\n",
    "    \"\"\" This functions takes a list of sequence as a parameter\n",
    "    checks if the sequence is in arithmetic progression\n",
    "    Returns True if the sequence is in arithmetic progression\n",
    "    otherwise returns False.\"\"\"\n",
    "    \n",
    "    # if sequence has only one element return False\n",
    "    if len(sequence) < 2:\n",
    "        return False\n",
    "    \n",
    "    # calculating common difference\n",
    "    difference = sequence[1] - sequence[0]\n",
    "    \n",
    "    # checking the common difference using for loop\n",
    "    for i in range(1,len(sequence)):\n",
    "        # False if the common difference doesnot match\n",
    "        if sequence[i] - sequence[i-1] != difference:\n",
    "            return False\n",
    "    # return True if for loop is exited\n",
    "    return True\n",
    "\n",
    "# taking sequence\n",
    "sequence = [5,7,9,11]\n",
    "\n",
    "# displaying appropriate output\n",
    "print(f\"Input: {sequence}\")\n",
    "print(f\"Output: {check_arithmetic_progression(sequence)}\")"
   ]
  },
  {
   "cell_type": "markdown",
   "metadata": {},
   "source": [
    "2-Write a Python program to check whether a given number is an ugly number. <br>\n",
    "Input : 12 <br>\n",
    "Output : True <br>\n",
    "Ugly numbers are positive numbers whose only prime factors are 2, 3 or 5. The sequence 1, 2, 3, 4, 5, 6, 8, 9, 10, 12, ... <br>\n",
    "shows the first 10 ugly numbers. <br>\n",
    "Note: 1 is typically treated as an ugly number <br>"
   ]
  },
  {
   "cell_type": "markdown",
   "metadata": {},
   "source": [
    "# `no solution qsn 2 - redo`"
   ]
  },
  {
   "cell_type": "code",
   "execution_count": 2,
   "metadata": {},
   "outputs": [
    {
     "name": "stdout",
     "output_type": "stream",
     "text": [
      "27\n",
      "None\n"
     ]
    }
   ],
   "source": [
    "# function to check ugly number\n",
    "def isugly(num)->bool:\n",
    "    '''This function takes a number as input and checks whether the number is ugly number or not.\n",
    "    Ugly numbers are positive numbers whose only prime factors are 2, 3 or 5. The sequence 1, 2, 3, 4, 5, 6, 8, 9, 10, 12, ...\n",
    "    shows the first 10 ugly numbers.\n",
    "    Returns True if ugly number else False'''\n",
    "    \n",
    "    # check for positive\n",
    "    if num < 0:\n",
    "        return False\n",
    "    # looping through 2,3 and 5\n",
    "    while num % 2 == 0:\n",
    "        num //= 2\n",
    "        while num % 3 == 0:\n",
    "            num //= 3\n",
    "            while num % 5 == 0:\n",
    "                num //=5\n",
    "    print(num) \n",
    "    \n",
    "# displaying result\n",
    "print(isugly(27))"
   ]
  },
  {
   "cell_type": "markdown",
   "metadata": {},
   "source": [
    "3-Write a Python Function to find the single number in a list that doesn't occur n times. <br>\n",
    "Input : [5, 3,3,4, 4, 3, 4], N=3 <br>\n",
    "Output : 5 <br>"
   ]
  },
  {
   "cell_type": "code",
   "execution_count": 3,
   "metadata": {},
   "outputs": [
    {
     "name": "stdout",
     "output_type": "stream",
     "text": [
      "5\n"
     ]
    }
   ],
   "source": [
    "# taking input\n",
    "inp = [5, 3, 3, 4, 4, 3, 4]\n",
    "n = 3\n",
    "\n",
    "# Create a dictionary to count the occurrences of each element\n",
    "count_dict = {}\n",
    "for elem in inp:\n",
    "    if elem in count_dict:\n",
    "        count_dict[elem] += 1\n",
    "    else:\n",
    "        count_dict[elem] = 1\n",
    "\n",
    "# Find and print the element that does not appear 'n' times\n",
    "for elem, count in count_dict.items():\n",
    "    if count != n:\n",
    "        print(elem)\n",
    "        break"
   ]
  }
 ],
 "metadata": {
  "kernelspec": {
   "display_name": "base",
   "language": "python",
   "name": "python3"
  },
  "language_info": {
   "codemirror_mode": {
    "name": "ipython",
    "version": 3
   },
   "file_extension": ".py",
   "mimetype": "text/x-python",
   "name": "python",
   "nbconvert_exporter": "python",
   "pygments_lexer": "ipython3",
   "version": "3.11.5"
  }
 },
 "nbformat": 4,
 "nbformat_minor": 2
}
