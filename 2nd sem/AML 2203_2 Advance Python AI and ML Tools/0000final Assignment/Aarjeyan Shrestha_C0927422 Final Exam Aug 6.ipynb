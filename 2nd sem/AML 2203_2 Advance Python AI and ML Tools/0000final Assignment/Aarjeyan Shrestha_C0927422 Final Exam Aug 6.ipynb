{
 "cells": [
  {
   "cell_type": "markdown",
   "metadata": {},
   "source": [
    "# Question 1 (10 marks)"
   ]
  },
  {
   "cell_type": "markdown",
   "metadata": {},
   "source": [
    "You are given a large integer represented as an integer array digits, where each digits[i] is the ith digit of the integer. The digits are ordered from most significant to least significant in left-to-right order. The large integer does not contain any leading 0's.\n",
    "\n",
    "Increment the large integer by one and return the resulting array of digits.\n",
    "\n",
    "Example 1:\n",
    "\n",
    "Input: digits = [1,2,3]\n",
    "\n",
    "Output: [1,2,4]\n",
    "\n",
    "Explanation: The array represents the integer 123.\n",
    "\n",
    "Incrementing by one gives 123 + 1 = 124.\n",
    "\n",
    "Thus, the result should be [1,2,4].\n",
    "\n",
    "Use function and input method\n",
    "\n"
   ]
  },
  {
   "cell_type": "code",
   "execution_count": null,
   "metadata": {},
   "outputs": [],
   "source": [
    "#Answer"
   ]
  },
  {
   "cell_type": "code",
   "execution_count": 3,
   "metadata": {},
   "outputs": [
    {
     "name": "stdout",
     "output_type": "stream",
     "text": [
      "[1, 2, 4]\n"
     ]
    }
   ],
   "source": [
    "def plusOne(digits:list)->list:\n",
    "    \"\"\"This function adds one on the list as a whole\n",
    "\n",
    "    Args:\n",
    "        digits (list): list of numbers\n",
    "\n",
    "    Returns:\n",
    "        list: returns the added list as output\n",
    "    \"\"\"\n",
    "    # length of the list\n",
    "    n = len(digits)\n",
    "    # getting the element from the last of the list\n",
    "    for i in range(n-1, -1, -1):\n",
    "        if digits[i] < 9:# if the number is less than 9 then add 1\n",
    "            digits[i] += 1\n",
    "            return digits\n",
    "        digits[i] = 0 # if the number is 9 than add 1\n",
    "    return [1] + digits # returns by adding 1 to the front if it gets executed\n",
    "\n",
    "# input from the user\n",
    "digits = list(map(int,input(\"Enter the numbers in list (giving spaces)\").split()))\n",
    "print(plusOne(digits))\n"
   ]
  },
  {
   "cell_type": "markdown",
   "metadata": {},
   "source": [
    "# Question 2 (15 marks)\n",
    "Given an m x n matrix mat, return an array of all the elements of the array in a diagonal order.\n",
    "\n",
    "To understand the question better, print out the input matrix below and compare that to the output.\n",
    "\n",
    "Example 1:\n",
    "\n",
    "Input: mat = [[1,2,3],[4,5,6],[7,8,9]]\n",
    "\n",
    "Output: [1,2,4,7,5,3,6,8,9]\n",
    "\n",
    "Example 2:\n",
    "\n",
    "Input: mat = [[1,2],[3,4]]\n",
    "\n",
    "Output: [1,2,3,4]\n"
   ]
  },
  {
   "cell_type": "code",
   "execution_count": null,
   "metadata": {},
   "outputs": [],
   "source": [
    "#Answer"
   ]
  },
  {
   "cell_type": "code",
   "execution_count": 18,
   "metadata": {},
   "outputs": [
    {
     "name": "stdout",
     "output_type": "stream",
     "text": [
      "[1 2 3 4 5 6 7 8 9]\n",
      "[1, 2, 1, 7, 3, 9, 5, 8, 9]\n",
      "None\n"
     ]
    }
   ],
   "source": [
    "import numpy as np\n",
    "def diagonalorder(mat:list)->list:\n",
    "    \"\"\"This function takes the matrix and returns the elements of array in diagonal order\n",
    "\n",
    "    Args:\n",
    "        mat (list): List of matrix\n",
    "\n",
    "    Returns:\n",
    "        list: the required output in diagonal order\n",
    "    \"\"\"\n",
    "    row = len(mat)\n",
    "    col = len(mat[0])\n",
    "    \n",
    "    result = []\n",
    "    np_matrix = np.array(mat)\n",
    "    matrix = np_matrix.reshape(-1)\n",
    "    print(matrix)\n",
    "    \n",
    "    n = len(matrix)\n",
    "    for i in range(0,2):\n",
    "        result.append(matrix[i])\n",
    "    \n",
    "    for i in range(2, n - 2):\n",
    "        if i % 2 == 0:\n",
    "            i -= 2\n",
    "            result.append(matrix[i])\n",
    "        elif i % 2 == 1:\n",
    "            i += 3\n",
    "            result.append(matrix[i])\n",
    "    for i in range(n-2,n):\n",
    "        result.append(matrix[i])\n",
    "    print(result)\n",
    "         \n",
    "mat = [[1,2,3],[4,5,6],[7,8,9]]\n",
    "print(diagonalorder(mat))\n"
   ]
  },
  {
   "cell_type": "code",
   "execution_count": 11,
   "metadata": {},
   "outputs": [
    {
     "name": "stdout",
     "output_type": "stream",
     "text": [
      "[[1 2 3]\n",
      " [4 5 6]\n",
      " [7 8 9]]\n"
     ]
    },
    {
     "data": {
      "text/plain": [
       "array([1, 2, 3, 4, 5, 6, 7, 8, 9])"
      ]
     },
     "execution_count": 11,
     "metadata": {},
     "output_type": "execute_result"
    }
   ],
   "source": []
  },
  {
   "cell_type": "markdown",
   "metadata": {},
   "source": [
    "# Question 3 (15 Marks)"
   ]
  },
  {
   "cell_type": "markdown",
   "metadata": {},
   "source": [
    "Given a rows x cols binary matrix filled with 0's and 1's, write a function and use input method to find the largest rectangle containing only 1's and return its area. your output must also print out the part of the matrix with maximum area corresponding to part 1.\n",
    "\n",
    "Input: matrix = [[\"1\",\"0\",\"1\",\"0\",\"0\"],[\"1\",\"0\",\"1\",\"1\",\"1\"],[\"1\",\"1\",\"1\",\"1\",\"1\"],[\"1\",\"0\",\"0\",\"1\",\"0\"]]\n",
    "\n",
    "Output: \n",
    "\n",
    "part a: 6\n",
    "\n",
    "part b: [['1', '1', '1'],\n",
    "         ['1', '1', '1']]\n",
    "\n",
    "\n",
    "\n",
    "\n",
    "you can print the example matrix above to get better visual understanding of the quesion\n",
    "\n",
    "Use function and input method!"
   ]
  },
  {
   "cell_type": "code",
   "execution_count": 5,
   "metadata": {},
   "outputs": [
    {
     "name": "stdout",
     "output_type": "stream",
     "text": [
      "0 0\n",
      "0 2\n",
      "1 0\n",
      "1 2\n",
      "1 3\n",
      "1 4\n",
      "2 0\n",
      "2 1\n",
      "2 2\n",
      "2 3\n",
      "2 4\n",
      "3 0\n",
      "3 3\n",
      "None\n"
     ]
    }
   ],
   "source": [
    "def areaOfTraiangle(matrix:list):\n",
    "    \"\"\"returns the area of the matrix and also the part of the matrix\n",
    "\n",
    "    Args:\n",
    "        matrix (list): takes the matrix of 0's and 1'set\n",
    "    \"\"\"\n",
    "    rows = len(matrix)\n",
    "    cols = len(matrix[0])\n",
    "    \n",
    "    for i in range(rows):\n",
    "        for j in range(cols):\n",
    "            if matrix[i][j] == \"1\":\n",
    "                print(i,j)\n",
    "                \n",
    "matrix = [[\"1\",\"0\",\"1\",\"0\",\"0\"],\n",
    "          [\"1\",\"0\",\"1\",\"1\",\"1\"],\n",
    "          [\"1\",\"1\",\"1\",\"1\",\"1\"],\n",
    "          [\"1\",\"0\",\"0\",\"1\",\"0\"]]\n",
    "print(areaOfTraiangle(matrix))"
   ]
  },
  {
   "cell_type": "code",
   "execution_count": null,
   "metadata": {},
   "outputs": [],
   "source": []
  },
  {
   "cell_type": "markdown",
   "metadata": {},
   "source": [
    "# Good Luck "
   ]
  },
  {
   "cell_type": "code",
   "execution_count": null,
   "metadata": {},
   "outputs": [],
   "source": []
  }
 ],
 "metadata": {
  "kernelspec": {
   "display_name": "Python 3 (ipykernel)",
   "language": "python",
   "name": "python3"
  },
  "language_info": {
   "codemirror_mode": {
    "name": "ipython",
    "version": 3
   },
   "file_extension": ".py",
   "mimetype": "text/x-python",
   "name": "python",
   "nbconvert_exporter": "python",
   "pygments_lexer": "ipython3",
   "version": "3.12.4"
  }
 },
 "nbformat": 4,
 "nbformat_minor": 4
}
