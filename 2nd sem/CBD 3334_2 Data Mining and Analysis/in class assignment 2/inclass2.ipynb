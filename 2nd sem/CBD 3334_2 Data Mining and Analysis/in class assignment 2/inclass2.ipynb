{
 "cells": [
  {
   "cell_type": "markdown",
   "metadata": {},
   "source": [
    "## Inclass Assignment 2 - Statistical Analysis <hr>\n",
    "### Submitted by: Aarjeyan Shrestha - C0927422"
   ]
  },
  {
   "cell_type": "code",
   "execution_count": 4,
   "metadata": {},
   "outputs": [],
   "source": [
    "import pandas as pd\n"
   ]
  },
  {
   "cell_type": "code",
   "execution_count": 5,
   "metadata": {},
   "outputs": [],
   "source": [
    "df = pd.read_excel(\"bodyPerformance.xlsx\")"
   ]
  },
  {
   "cell_type": "code",
   "execution_count": 6,
   "metadata": {},
   "outputs": [
    {
     "data": {
      "text/html": [
       "<div>\n",
       "<style scoped>\n",
       "    .dataframe tbody tr th:only-of-type {\n",
       "        vertical-align: middle;\n",
       "    }\n",
       "\n",
       "    .dataframe tbody tr th {\n",
       "        vertical-align: top;\n",
       "    }\n",
       "\n",
       "    .dataframe thead th {\n",
       "        text-align: right;\n",
       "    }\n",
       "</style>\n",
       "<table border=\"1\" class=\"dataframe\">\n",
       "  <thead>\n",
       "    <tr style=\"text-align: right;\">\n",
       "      <th></th>\n",
       "      <th>age</th>\n",
       "      <th>gender</th>\n",
       "      <th>height_cm</th>\n",
       "      <th>weight_kg</th>\n",
       "      <th>body fat_%</th>\n",
       "      <th>diastolic</th>\n",
       "      <th>systolic</th>\n",
       "      <th>gripForce</th>\n",
       "      <th>sit and bend forward_cm</th>\n",
       "      <th>sit-ups counts</th>\n",
       "      <th>broad jump_cm</th>\n",
       "      <th>class</th>\n",
       "    </tr>\n",
       "  </thead>\n",
       "  <tbody>\n",
       "    <tr>\n",
       "      <th>0</th>\n",
       "      <td>27</td>\n",
       "      <td>M</td>\n",
       "      <td>172.3</td>\n",
       "      <td>75.24</td>\n",
       "      <td>21.3</td>\n",
       "      <td>80.0</td>\n",
       "      <td>130.0</td>\n",
       "      <td>54.9</td>\n",
       "      <td>18.4</td>\n",
       "      <td>60.0</td>\n",
       "      <td>217.0</td>\n",
       "      <td>C</td>\n",
       "    </tr>\n",
       "    <tr>\n",
       "      <th>1</th>\n",
       "      <td>25</td>\n",
       "      <td>M</td>\n",
       "      <td>165.0</td>\n",
       "      <td>55.80</td>\n",
       "      <td>15.7</td>\n",
       "      <td>77.0</td>\n",
       "      <td>126.0</td>\n",
       "      <td>36.4</td>\n",
       "      <td>16.3</td>\n",
       "      <td>53.0</td>\n",
       "      <td>229.0</td>\n",
       "      <td>A</td>\n",
       "    </tr>\n",
       "    <tr>\n",
       "      <th>2</th>\n",
       "      <td>31</td>\n",
       "      <td>M</td>\n",
       "      <td>179.6</td>\n",
       "      <td>78.00</td>\n",
       "      <td>20.1</td>\n",
       "      <td>92.0</td>\n",
       "      <td>152.0</td>\n",
       "      <td>44.8</td>\n",
       "      <td>12.0</td>\n",
       "      <td>49.0</td>\n",
       "      <td>181.0</td>\n",
       "      <td>C</td>\n",
       "    </tr>\n",
       "    <tr>\n",
       "      <th>3</th>\n",
       "      <td>32</td>\n",
       "      <td>M</td>\n",
       "      <td>174.5</td>\n",
       "      <td>71.10</td>\n",
       "      <td>18.4</td>\n",
       "      <td>76.0</td>\n",
       "      <td>147.0</td>\n",
       "      <td>41.4</td>\n",
       "      <td>15.2</td>\n",
       "      <td>53.0</td>\n",
       "      <td>219.0</td>\n",
       "      <td>B</td>\n",
       "    </tr>\n",
       "    <tr>\n",
       "      <th>4</th>\n",
       "      <td>28</td>\n",
       "      <td>M</td>\n",
       "      <td>173.8</td>\n",
       "      <td>67.70</td>\n",
       "      <td>17.1</td>\n",
       "      <td>70.0</td>\n",
       "      <td>127.0</td>\n",
       "      <td>43.5</td>\n",
       "      <td>27.1</td>\n",
       "      <td>45.0</td>\n",
       "      <td>217.0</td>\n",
       "      <td>B</td>\n",
       "    </tr>\n",
       "  </tbody>\n",
       "</table>\n",
       "</div>"
      ],
      "text/plain": [
       "   age gender  height_cm  weight_kg  body fat_%  diastolic  systolic  \\\n",
       "0   27      M      172.3      75.24        21.3       80.0     130.0   \n",
       "1   25      M      165.0      55.80        15.7       77.0     126.0   \n",
       "2   31      M      179.6      78.00        20.1       92.0     152.0   \n",
       "3   32      M      174.5      71.10        18.4       76.0     147.0   \n",
       "4   28      M      173.8      67.70        17.1       70.0     127.0   \n",
       "\n",
       "   gripForce  sit and bend forward_cm  sit-ups counts  broad jump_cm class  \n",
       "0       54.9                     18.4            60.0          217.0     C  \n",
       "1       36.4                     16.3            53.0          229.0     A  \n",
       "2       44.8                     12.0            49.0          181.0     C  \n",
       "3       41.4                     15.2            53.0          219.0     B  \n",
       "4       43.5                     27.1            45.0          217.0     B  "
      ]
     },
     "execution_count": 6,
     "metadata": {},
     "output_type": "execute_result"
    }
   ],
   "source": [
    "df.head()"
   ]
  },
  {
   "cell_type": "code",
   "execution_count": 7,
   "metadata": {},
   "outputs": [
    {
     "data": {
      "text/plain": [
       "count    13393.000000\n",
       "mean        36.775106\n",
       "std         13.625639\n",
       "min         21.000000\n",
       "25%         25.000000\n",
       "50%         32.000000\n",
       "75%         48.000000\n",
       "max         64.000000\n",
       "Name: age, dtype: float64"
      ]
     },
     "execution_count": 7,
     "metadata": {},
     "output_type": "execute_result"
    }
   ],
   "source": [
    "df[\"age\"].describe()"
   ]
  },
  {
   "cell_type": "markdown",
   "metadata": {},
   "source": [
    "## Calculating for \"age\" column"
   ]
  },
  {
   "cell_type": "code",
   "execution_count": 8,
   "metadata": {},
   "outputs": [
    {
     "name": "stdout",
     "output_type": "stream",
     "text": [
      "For Column \"age\"\n",
      "Min: 21\n",
      "Max: 64\n",
      "Mode: 21\n",
      "Mean: 36.78\n",
      "Q1: 25.0\n",
      "Median (Q2): 32.0\n",
      "Q3: 48.0\n",
      "IQR: 23.0\n",
      "Outer Lower: -9.5\n",
      "Outer Upper: 82.5\n",
      "Standard Deviation: 13.63\n",
      "Variance: 185.66\n",
      "Range: 43\n",
      "Count: 13393\n"
     ]
    }
   ],
   "source": [
    "# Define the function to calculate extended statistics for a specific column and format the output\n",
    "def extended_statistics_column_formatted(column):\n",
    "    data = df[column]\n",
    "    \n",
    "    # Calculate statistics\n",
    "    min_val = data.min()\n",
    "    max_val = data.max()\n",
    "    mode_val = data.mode().iloc[0]\n",
    "    mean_val = data.mean()\n",
    "    Q1 = data.quantile(0.25)\n",
    "    Q2 = data.median()\n",
    "    Q3 = data.quantile(0.75)\n",
    "    IQR = Q3 - Q1\n",
    "    outer_lower = Q1 - 1.5 * IQR\n",
    "    outer_upper = Q3 + 1.5 * IQR\n",
    "    std_dev = data.std()\n",
    "    variance = data.var()\n",
    "    range_val = max_val - min_val\n",
    "    count = data.count()\n",
    "    \n",
    "    # Combine all statistics into a formatted string\n",
    "    summary = (f\"For Column \\\"{column}\\\"\\n\"\n",
    "               f\"Min: {min_val}\\n\"\n",
    "               f\"Max: {max_val}\\n\"\n",
    "               f\"Mode: {mode_val}\\n\"\n",
    "               f\"Mean: {mean_val:.2f}\\n\"\n",
    "               f\"Q1: {Q1}\\n\"\n",
    "               f\"Median (Q2): {Q2}\\n\"\n",
    "               f\"Q3: {Q3}\\n\"\n",
    "               f\"IQR: {IQR}\\n\"\n",
    "               f\"Outer Lower: {outer_lower}\\n\"\n",
    "               f\"Outer Upper: {outer_upper}\\n\"\n",
    "               f\"Standard Deviation: {std_dev:.2f}\\n\"\n",
    "               f\"Variance: {variance:.2f}\\n\"\n",
    "               f\"Range: {range_val}\\n\"\n",
    "               f\"Count: {count}\")\n",
    "    \n",
    "    return summary\n",
    "\n",
    "# Get the extended statistics summary for the \"age\" column in formatted output\n",
    "age_summary_formatted = extended_statistics_column_formatted('age')\n",
    "\n",
    "# Display the formatted summary\n",
    "print(age_summary_formatted)\n"
   ]
  },
  {
   "cell_type": "markdown",
   "metadata": {},
   "source": [
    "## Calculating for \"height_cm\" column"
   ]
  },
  {
   "cell_type": "code",
   "execution_count": 9,
   "metadata": {},
   "outputs": [
    {
     "name": "stdout",
     "output_type": "stream",
     "text": [
      "For Column \"height_cm\"\n",
      "Min: 125.0\n",
      "Max: 193.8\n",
      "Mode: 170.0\n",
      "Mean: 168.56\n",
      "Q1: 162.4\n",
      "Median (Q2): 169.2\n",
      "Q3: 174.8\n",
      "IQR: 12.400000000000006\n",
      "Outer Lower: 143.8\n",
      "Outer Upper: 193.40000000000003\n",
      "Standard Deviation: 8.43\n",
      "Variance: 71.01\n",
      "Range: 68.80000000000001\n",
      "Count: 13393\n"
     ]
    }
   ],
   "source": [
    "# Define the function to calculate extended statistics for a specific column and format the output\n",
    "def extended_statistics_column_formatted(column):\n",
    "    data = df[column]\n",
    "    \n",
    "    # Calculate statistics\n",
    "    min_val = data.min()\n",
    "    max_val = data.max()\n",
    "    mode_val = data.mode().iloc[0]\n",
    "    mean_val = data.mean()\n",
    "    Q1 = data.quantile(0.25)\n",
    "    Q2 = data.median()\n",
    "    Q3 = data.quantile(0.75)\n",
    "    IQR = Q3 - Q1\n",
    "    outer_lower = Q1 - 1.5 * IQR\n",
    "    outer_upper = Q3 + 1.5 * IQR\n",
    "    std_dev = data.std()\n",
    "    variance = data.var()\n",
    "    range_val = max_val - min_val\n",
    "    count = data.count()\n",
    "    \n",
    "    # Combine all statistics into a formatted string\n",
    "    summary = (f\"For Column \\\"{column}\\\"\\n\"\n",
    "               f\"Min: {min_val}\\n\"\n",
    "               f\"Max: {max_val}\\n\"\n",
    "               f\"Mode: {mode_val}\\n\"\n",
    "               f\"Mean: {mean_val:.2f}\\n\"\n",
    "               f\"Q1: {Q1}\\n\"\n",
    "               f\"Median (Q2): {Q2}\\n\"\n",
    "               f\"Q3: {Q3}\\n\"\n",
    "               f\"IQR: {IQR}\\n\"\n",
    "               f\"Outer Lower: {outer_lower}\\n\"\n",
    "               f\"Outer Upper: {outer_upper}\\n\"\n",
    "               f\"Standard Deviation: {std_dev:.2f}\\n\"\n",
    "               f\"Variance: {variance:.2f}\\n\"\n",
    "               f\"Range: {range_val}\\n\"\n",
    "               f\"Count: {count}\")\n",
    "    \n",
    "    return summary\n",
    "\n",
    "# Get the extended statistics summary for the \"height_cm\" column in formatted output\n",
    "height_cm_summary_formatted = extended_statistics_column_formatted('height_cm')\n",
    "\n",
    "# Display the formatted summary\n",
    "print(height_cm_summary_formatted)\n"
   ]
  },
  {
   "cell_type": "markdown",
   "metadata": {},
   "source": [
    "## Calculating for \"weight_kg\" column"
   ]
  },
  {
   "cell_type": "code",
   "execution_count": 10,
   "metadata": {},
   "outputs": [
    {
     "name": "stdout",
     "output_type": "stream",
     "text": [
      "For Column \"weight_kg\"\n",
      "Min: 26.3\n",
      "Max: 138.1\n",
      "Mode: 70.5\n",
      "Mean: 67.45\n",
      "Q1: 58.2\n",
      "Median (Q2): 67.4\n",
      "Q3: 75.3\n",
      "IQR: 17.099999999999994\n",
      "Outer Lower: 32.55000000000001\n",
      "Outer Upper: 100.94999999999999\n",
      "Standard Deviation: 11.95\n",
      "Variance: 142.79\n",
      "Range: 111.8\n",
      "Count: 13393\n"
     ]
    }
   ],
   "source": [
    "# Define the function to calculate extended statistics for a specific column and format the output\n",
    "def extended_statistics_column_formatted(column):\n",
    "    data = df[column]\n",
    "    \n",
    "    # Calculate statistics\n",
    "    min_val = data.min()\n",
    "    max_val = data.max()\n",
    "    mode_val = data.mode().iloc[0]\n",
    "    mean_val = data.mean()\n",
    "    Q1 = data.quantile(0.25)\n",
    "    Q2 = data.median()\n",
    "    Q3 = data.quantile(0.75)\n",
    "    IQR = Q3 - Q1\n",
    "    outer_lower = Q1 - 1.5 * IQR\n",
    "    outer_upper = Q3 + 1.5 * IQR\n",
    "    std_dev = data.std()\n",
    "    variance = data.var()\n",
    "    range_val = max_val - min_val\n",
    "    count = data.count()\n",
    "    \n",
    "    # Combine all statistics into a formatted string\n",
    "    summary = (f\"For Column \\\"{column}\\\"\\n\"\n",
    "               f\"Min: {min_val}\\n\"\n",
    "               f\"Max: {max_val}\\n\"\n",
    "               f\"Mode: {mode_val}\\n\"\n",
    "               f\"Mean: {mean_val:.2f}\\n\"\n",
    "               f\"Q1: {Q1}\\n\"\n",
    "               f\"Median (Q2): {Q2}\\n\"\n",
    "               f\"Q3: {Q3}\\n\"\n",
    "               f\"IQR: {IQR}\\n\"\n",
    "               f\"Outer Lower: {outer_lower}\\n\"\n",
    "               f\"Outer Upper: {outer_upper}\\n\"\n",
    "               f\"Standard Deviation: {std_dev:.2f}\\n\"\n",
    "               f\"Variance: {variance:.2f}\\n\"\n",
    "               f\"Range: {range_val}\\n\"\n",
    "               f\"Count: {count}\")\n",
    "    \n",
    "    return summary\n",
    "\n",
    "# Get the extended statistics summary for the \"weight_kg\" column in formatted output\n",
    "weight_kg_summary_formatted = extended_statistics_column_formatted('weight_kg')\n",
    "\n",
    "# Display the formatted summary\n",
    "print(weight_kg_summary_formatted)\n"
   ]
  },
  {
   "cell_type": "code",
   "execution_count": null,
   "metadata": {},
   "outputs": [],
   "source": []
  }
 ],
 "metadata": {
  "kernelspec": {
   "display_name": "Python 3",
   "language": "python",
   "name": "python3"
  },
  "language_info": {
   "codemirror_mode": {
    "name": "ipython",
    "version": 3
   },
   "file_extension": ".py",
   "mimetype": "text/x-python",
   "name": "python",
   "nbconvert_exporter": "python",
   "pygments_lexer": "ipython3",
   "version": "3.12.4"
  }
 },
 "nbformat": 4,
 "nbformat_minor": 2
}
