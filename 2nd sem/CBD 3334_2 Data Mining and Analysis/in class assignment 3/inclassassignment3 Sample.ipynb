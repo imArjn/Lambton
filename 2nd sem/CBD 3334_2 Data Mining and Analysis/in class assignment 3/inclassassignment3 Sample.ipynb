{
 "cells": [
  {
   "cell_type": "code",
   "execution_count": 11,
   "metadata": {},
   "outputs": [
    {
     "name": "stdout",
     "output_type": "stream",
     "text": [
      "Collecting seaborn\n",
      "  Downloading seaborn-0.13.2-py3-none-any.whl.metadata (5.4 kB)\n",
      "Requirement already satisfied: numpy!=1.24.0,>=1.20 in /home/iarjn/miniconda3/envs/main_env/lib/python3.10/site-packages (from seaborn) (1.26.3)\n",
      "Requirement already satisfied: pandas>=1.2 in /home/iarjn/miniconda3/envs/main_env/lib/python3.10/site-packages (from seaborn) (1.5.3)\n",
      "Requirement already satisfied: matplotlib!=3.6.1,>=3.4 in /home/iarjn/miniconda3/envs/main_env/lib/python3.10/site-packages (from seaborn) (3.9.1)\n",
      "Requirement already satisfied: contourpy>=1.0.1 in /home/iarjn/miniconda3/envs/main_env/lib/python3.10/site-packages (from matplotlib!=3.6.1,>=3.4->seaborn) (1.2.1)\n",
      "Requirement already satisfied: cycler>=0.10 in /home/iarjn/miniconda3/envs/main_env/lib/python3.10/site-packages (from matplotlib!=3.6.1,>=3.4->seaborn) (0.12.1)\n",
      "Requirement already satisfied: fonttools>=4.22.0 in /home/iarjn/miniconda3/envs/main_env/lib/python3.10/site-packages (from matplotlib!=3.6.1,>=3.4->seaborn) (4.53.1)\n",
      "Requirement already satisfied: kiwisolver>=1.3.1 in /home/iarjn/miniconda3/envs/main_env/lib/python3.10/site-packages (from matplotlib!=3.6.1,>=3.4->seaborn) (1.4.5)\n",
      "Requirement already satisfied: packaging>=20.0 in /home/iarjn/miniconda3/envs/main_env/lib/python3.10/site-packages (from matplotlib!=3.6.1,>=3.4->seaborn) (24.1)\n",
      "Requirement already satisfied: pillow>=8 in /home/iarjn/miniconda3/envs/main_env/lib/python3.10/site-packages (from matplotlib!=3.6.1,>=3.4->seaborn) (10.4.0)\n",
      "Requirement already satisfied: pyparsing>=2.3.1 in /home/iarjn/miniconda3/envs/main_env/lib/python3.10/site-packages (from matplotlib!=3.6.1,>=3.4->seaborn) (3.1.2)\n",
      "Requirement already satisfied: python-dateutil>=2.7 in /home/iarjn/miniconda3/envs/main_env/lib/python3.10/site-packages (from matplotlib!=3.6.1,>=3.4->seaborn) (2.9.0)\n",
      "Requirement already satisfied: pytz>=2020.1 in /home/iarjn/miniconda3/envs/main_env/lib/python3.10/site-packages (from pandas>=1.2->seaborn) (2024.1)\n",
      "Requirement already satisfied: six>=1.5 in /home/iarjn/miniconda3/envs/main_env/lib/python3.10/site-packages (from python-dateutil>=2.7->matplotlib!=3.6.1,>=3.4->seaborn) (1.16.0)\n",
      "Downloading seaborn-0.13.2-py3-none-any.whl (294 kB)\n",
      "\u001b[2K   \u001b[90m━━━━━━━━━━━━━━━━━━━━━━━━━━━━━━━━━━━━━━━━\u001b[0m \u001b[32m294.9/294.9 kB\u001b[0m \u001b[31m5.3 MB/s\u001b[0m eta \u001b[36m0:00:00\u001b[0ma \u001b[36m0:00:01\u001b[0m\n",
      "\u001b[?25hInstalling collected packages: seaborn\n",
      "Successfully installed seaborn-0.13.2\n"
     ]
    }
   ],
   "source": [
    "\n",
    "!pip install seaborn\n",
    "\n"
   ]
  },
  {
   "cell_type": "code",
   "execution_count": 15,
   "metadata": {},
   "outputs": [
    {
     "name": "stdout",
     "output_type": "stream",
     "text": [
      "     sepal.width  petal.length  petal.width\n",
      "114          2.8           5.1          2.4\n",
      "62           2.2           4.0          1.0\n",
      "33           4.2           1.4          0.2\n",
      "107          2.9           6.3          1.8\n",
      "7            3.4           1.5          0.2\n",
      "100          3.3           6.0          2.5\n",
      "40           3.5           1.3          0.3\n",
      "86           3.1           4.7          1.5\n",
      "76           2.8           4.8          1.4\n",
      "71           2.8           4.0          1.3\n",
      "134          2.6           5.6          1.4\n",
      "51           3.2           4.5          1.5\n",
      "73           2.8           4.7          1.2\n",
      "54           2.8           4.6          1.5\n",
      "63           2.9           4.7          1.4\n",
      "37           3.6           1.4          0.1\n",
      "78           2.9           4.5          1.5\n",
      "90           2.6           4.4          1.2\n",
      "45           3.0           1.4          0.3\n",
      "16           3.9           1.3          0.4\n",
      "121          2.8           4.9          2.0\n",
      "66           3.0           4.5          1.5\n",
      "24           3.4           1.9          0.2\n",
      "8            2.9           1.4          0.2\n",
      "126          2.8           4.8          1.8\n",
      "22           3.6           1.0          0.2\n",
      "44           3.8           1.9          0.4\n",
      "97           2.9           4.3          1.3\n",
      "93           2.3           3.3          1.0\n",
      "26           3.4           1.6          0.4\n",
      "GaussianNB: Number of mislabeled points out of a total 30 points : 0\n",
      "['Virginica']\n",
      "DecisionTreeClassifier: Number of mislabeled points out of a total 30 points : 0\n",
      "['Virginica']\n"
     ]
    }
   ],
   "source": [
    "from sklearn.datasets import load_iris\n",
    "from sklearn.model_selection import train_test_split\n",
    "from sklearn.naive_bayes import GaussianNB\n",
    "\n",
    "import numpy as np\n",
    "import pandas as pd\n",
    "\n",
    "import matplotlib.pyplot as plt\n",
    "import seaborn as sns\n",
    "sns.set()\n",
    "\n",
    "from sklearn.cluster import KMeans\n",
    "\n",
    "#reading countries list\n",
    "data = pd.read_csv(\"iris.csv\")\n",
    "\n",
    "#selecting data to plot\n",
    "x = data.iloc[:, 1:4]\n",
    "\n",
    "y = data.iloc[:, 4:5]\n",
    "\n",
    "X_train, X_test, y_train, y_test = train_test_split(x, y, test_size=0.2, random_state=0)\n",
    "\n",
    "print (X_test)\n",
    "#gaussian naive basyan\n",
    "gnb = GaussianNB()\n",
    "model = gnb.fit(X_train.values, y_train.values.ravel())\n",
    "y_pred = model.predict(X_test.values)\n",
    "print(f\"GaussianNB: Number of mislabeled points out of a total { X_test.shape[0] } points : {(y_test.values.ravel() != y_pred).sum()}\" )\n",
    "\n",
    "print(model.predict(np.array([[3.2,5.9,2.3]])))\n",
    "\n",
    "#decussion tree\n",
    "from sklearn import tree\n",
    "clf = tree.DecisionTreeClassifier()\n",
    "model = clf.fit(X_train.values, y_train.values.ravel())\n",
    "y_pred = model.predict(X_test.values)\n",
    "print(f\"DecisionTreeClassifier: Number of mislabeled points out of a total { X_test.shape[0] } points : {(y_test.values.ravel() != y_pred).sum()}\" )\n",
    "print(model.predict(np.array([[3.2,5.9,2.3]])))"
   ]
  },
  {
   "cell_type": "code",
   "execution_count": null,
   "metadata": {},
   "outputs": [],
   "source": []
  }
 ],
 "metadata": {
  "kernelspec": {
   "display_name": "Python 3",
   "language": "python",
   "name": "python3"
  },
  "language_info": {
   "codemirror_mode": {
    "name": "ipython",
    "version": 3
   },
   "file_extension": ".py",
   "mimetype": "text/x-python",
   "name": "python",
   "nbconvert_exporter": "python",
   "pygments_lexer": "ipython3",
   "version": "3.10.0"
  }
 },
 "nbformat": 4,
 "nbformat_minor": 2
}
