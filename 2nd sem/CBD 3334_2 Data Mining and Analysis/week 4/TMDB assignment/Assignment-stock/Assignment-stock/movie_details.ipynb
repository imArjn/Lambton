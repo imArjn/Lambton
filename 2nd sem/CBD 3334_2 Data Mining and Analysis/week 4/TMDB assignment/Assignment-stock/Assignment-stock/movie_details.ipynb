{
 "cells": [
  {
   "cell_type": "code",
   "execution_count": 1,
   "metadata": {},
   "outputs": [
    {
     "name": "stdout",
     "output_type": "stream",
     "text": [
      "Requirement already satisfied: requests in c:\\users\\asus\\anaconda3\\lib\\site-packages (2.31.0)\n",
      "Requirement already satisfied: charset-normalizer<4,>=2 in c:\\users\\asus\\anaconda3\\lib\\site-packages (from requests) (2.0.4)\n",
      "Requirement already satisfied: idna<4,>=2.5 in c:\\users\\asus\\anaconda3\\lib\\site-packages (from requests) (3.4)\n",
      "Requirement already satisfied: urllib3<3,>=1.21.1 in c:\\users\\asus\\anaconda3\\lib\\site-packages (from requests) (2.0.7)\n",
      "Requirement already satisfied: certifi>=2017.4.17 in c:\\users\\asus\\anaconda3\\lib\\site-packages (from requests) (2024.2.2)\n"
     ]
    }
   ],
   "source": [
    "!pip install requests\n"
   ]
  },
  {
   "cell_type": "code",
   "execution_count": 7,
   "metadata": {},
   "outputs": [
    {
     "name": "stdout",
     "output_type": "stream",
     "text": [
      "Movie Details:\n",
      "adult: False\n",
      "backdrop_path: /hZkgoQYus5vegHoetLkCJzb17zJ.jpg\n",
      "belongs_to_collection: None\n",
      "budget: 63000000\n",
      "genres: [{'id': 18, 'name': 'Drama'}]\n",
      "homepage: http://www.foxmovies.com/movies/fight-club\n",
      "id: 550\n",
      "imdb_id: tt0137523\n",
      "origin_country: ['US']\n",
      "original_language: en\n",
      "original_title: Fight Club\n",
      "overview: A ticking-time-bomb insomniac and a slippery soap salesman channel primal male aggression into a shocking new form of therapy. Their concept catches on, with underground \"fight clubs\" forming in every town, until an eccentric gets in the way and ignites an out-of-control spiral toward oblivion.\n",
      "popularity: 93.197\n",
      "poster_path: /pB8BM7pdSp6B6Ih7QZ4DrQ3PmJK.jpg\n",
      "production_companies: [{'id': 711, 'logo_path': '/tEiIH5QesdheJmDAqQwvtN60727.png', 'name': 'Fox 2000 Pictures', 'origin_country': 'US'}, {'id': 508, 'logo_path': '/7cxRWzi4LsVm4Utfpr1hfARNurT.png', 'name': 'Regency Enterprises', 'origin_country': 'US'}, {'id': 4700, 'logo_path': '/A32wmjrs9Psf4zw0uaixF0GXfxq.png', 'name': 'The Linson Company', 'origin_country': 'US'}, {'id': 25, 'logo_path': '/qZCc1lty5FzX30aOCVRBLzaVmcp.png', 'name': '20th Century Fox', 'origin_country': 'US'}, {'id': 20555, 'logo_path': '/hD8yEGUBlHOcfHYbujp71vD8gZp.png', 'name': 'Taurus Film', 'origin_country': 'DE'}]\n",
      "production_countries: [{'iso_3166_1': 'DE', 'name': 'Germany'}, {'iso_3166_1': 'US', 'name': 'United States of America'}]\n",
      "release_date: 1999-10-15\n",
      "revenue: 100853753\n",
      "runtime: 139\n",
      "spoken_languages: [{'english_name': 'English', 'iso_639_1': 'en', 'name': 'English'}]\n",
      "status: Released\n",
      "tagline: Mischief. Mayhem. Soap.\n",
      "title: Fight Club\n",
      "video: False\n",
      "vote_average: 8.441\n",
      "vote_count: 28647\n"
     ]
    }
   ],
   "source": [
    "import requests\n",
    "\n",
    "def get_movie_details(api_key, movie_id):\n",
    "    base_url = \"https://api.themoviedb.org/3/movie/\"\n",
    "    \n",
    "    movie_url = f\"{base_url}{movie_id}\"\n",
    "    \n",
    "    params = {\n",
    "        'api_key' : api_key,\n",
    "        'language': 'en-US'\n",
    "    }\n",
    "    \n",
    "    response = requests.get(movie_url, params=params)\n",
    "    \n",
    "    if response.status_code == 200:\n",
    "        movie_data = response.json()\n",
    "        return movie_data\n",
    "    else:\n",
    "        print(\"Failed to fetch movie details\", response.status_code)\n",
    "        return None\n",
    "    \n",
    "api_key = '5bf8eee79c1a04318dd4d0cd9c053e01'\n",
    "    \n",
    "movie_id = 550\n",
    "    \n",
    "movie_details = get_movie_details(api_key, movie_id)\n",
    "    \n",
    "if movie_details:\n",
    "    print(\"Movie Details:\")\n",
    "    for key, value in movie_details.items():\n",
    "        print(f\"{key}: {value}\")\n",
    "else:\n",
    "    print(\"No movie details found.\")"
   ]
  },
  {
   "cell_type": "code",
   "execution_count": null,
   "metadata": {},
   "outputs": [],
   "source": []
  }
 ],
 "metadata": {
  "kernelspec": {
   "display_name": "base",
   "language": "python",
   "name": "python3"
  },
  "language_info": {
   "codemirror_mode": {
    "name": "ipython",
    "version": 3
   },
   "file_extension": ".py",
   "mimetype": "text/x-python",
   "name": "python",
   "nbconvert_exporter": "python",
   "pygments_lexer": "ipython3",
   "version": "3.11.7"
  }
 },
 "nbformat": 4,
 "nbformat_minor": 2
}
