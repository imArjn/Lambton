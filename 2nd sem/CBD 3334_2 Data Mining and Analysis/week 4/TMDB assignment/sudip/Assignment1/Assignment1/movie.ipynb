{
 "cells": [
  {
   "cell_type": "code",
   "execution_count": 4,
   "metadata": {},
   "outputs": [
    {
     "name": "stdout",
     "output_type": "stream",
     "text": [
      "Movie Title: Kung Fu Panda 4\n",
      "Movie ID: 1011985\n"
     ]
    }
   ],
   "source": [
    "import requests\n",
    "\n",
    "def find_movie_id(api_key, movie_title):\n",
    "    base_url = \"https://api.themoviedb.org/3/search/movie\"\n",
    "    \n",
    "    params = {\n",
    "        'api_key': api_key,\n",
    "        'query': movie_title\n",
    "    }\n",
    "    \n",
    "    try:\n",
    "        response = requests.get(base_url, params=params)\n",
    "        response.raise_for_status()\n",
    "        search_results = response.json()\n",
    "        \n",
    "        if search_results['results']:\n",
    "            # Assuming the first result is the most relevant one\n",
    "            movie_id = search_results['results'][0]['id']\n",
    "            return movie_id\n",
    "        else:\n",
    "            print(f\"No movie found with title '{movie_title}'\")\n",
    "            return None\n",
    "    \n",
    "    except requests.exceptions.HTTPError as http_err:\n",
    "        print(f\"HTTP error occurred: {http_err}\")\n",
    "    except requests.exceptions.ConnectionError as conn_err:\n",
    "        print(f\"Connection error occurred: {conn_err}\")\n",
    "    except requests.exceptions.Timeout as timeout_err:\n",
    "        print(f\"Timeout error occurred: {timeout_err}\")\n",
    "    except requests.exceptions.RequestException as req_err:\n",
    "        print(f\"An error occurred: {req_err}\")\n",
    "    \n",
    "    return None\n",
    "\n",
    "# Example usage:\n",
    "api_key = '5bf8eee79c1a04318dd4d0cd9c053e01'\n",
    "movie_title = \"Kung Fu Panda 4\"  # Modify the movie title here\n",
    "\n",
    "movie_id = find_movie_id(api_key, movie_title)\n",
    "\n",
    "if movie_id:\n",
    "    print(f\"Movie Title: {movie_title}\")\n",
    "    print(f\"Movie ID: {movie_id}\")\n",
    "else:\n",
    "    print(\"Failed to find the movie ID.\")\n"
   ]
  },
  {
   "cell_type": "code",
   "execution_count": null,
   "metadata": {},
   "outputs": [],
   "source": []
  }
 ],
 "metadata": {
  "kernelspec": {
   "display_name": "base",
   "language": "python",
   "name": "python3"
  },
  "language_info": {
   "codemirror_mode": {
    "name": "ipython",
    "version": 3
   },
   "file_extension": ".py",
   "mimetype": "text/x-python",
   "name": "python",
   "nbconvert_exporter": "python",
   "pygments_lexer": "ipython3",
   "version": "3.11.7"
  }
 },
 "nbformat": 4,
 "nbformat_minor": 2
}
