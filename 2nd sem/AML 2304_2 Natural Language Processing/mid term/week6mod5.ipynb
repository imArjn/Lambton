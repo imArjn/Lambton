{
 "cells": [
  {
   "cell_type": "markdown",
   "metadata": {},
   "source": [
    "# 13th June 2024 - NLP - Module 5"
   ]
  },
  {
   "cell_type": "code",
   "execution_count": 1,
   "metadata": {},
   "outputs": [],
   "source": [
    "import nltk\n",
    "from nltk.corpus import movie_reviews"
   ]
  },
  {
   "cell_type": "markdown",
   "metadata": {},
   "source": [
    "Text Pre Processing"
   ]
  },
  {
   "cell_type": "code",
   "execution_count": 2,
   "metadata": {},
   "outputs": [
    {
     "data": {
      "text/plain": [
       "1583820"
      ]
     },
     "execution_count": 2,
     "metadata": {},
     "output_type": "execute_result"
    }
   ],
   "source": [
    "len(movie_reviews.words())"
   ]
  },
  {
   "cell_type": "code",
   "execution_count": 3,
   "metadata": {},
   "outputs": [
    {
     "data": {
      "text/plain": [
       "['neg', 'pos']"
      ]
     },
     "execution_count": 3,
     "metadata": {},
     "output_type": "execute_result"
    }
   ],
   "source": [
    "movie_reviews.categories()"
   ]
  },
  {
   "cell_type": "code",
   "execution_count": 4,
   "metadata": {},
   "outputs": [
    {
     "data": {
      "text/plain": [
       "['neg/cv000_29416.txt',\n",
       " 'neg/cv001_19502.txt',\n",
       " 'neg/cv002_17424.txt',\n",
       " 'neg/cv003_12683.txt',\n",
       " 'neg/cv004_12641.txt']"
      ]
     },
     "execution_count": 4,
     "metadata": {},
     "output_type": "execute_result"
    }
   ],
   "source": [
    "movie_reviews.fileids()[:5]"
   ]
  },
  {
   "cell_type": "markdown",
   "metadata": {},
   "source": [
    "We remove the punctuations:"
   ]
  },
  {
   "cell_type": "code",
   "execution_count": 5,
   "metadata": {},
   "outputs": [],
   "source": [
    "text = \" \".join(movie_reviews.words())\n",
    "import string\n",
    "text_filtered = text.translate(str.maketrans('', '', string.punctuation))"
   ]
  },
  {
   "cell_type": "markdown",
   "metadata": {},
   "source": [
    "Then remove the stopwords and then make all words lowercase."
   ]
  },
  {
   "cell_type": "code",
   "execution_count": 6,
   "metadata": {},
   "outputs": [],
   "source": [
    "from nltk import word_tokenize\n",
    "from nltk.corpus import stopwords\n",
    "stopwords = stopwords.words('english')\n",
    "tokens = word_tokenize(text_filtered)\n",
    "word_filtered = [w.lower() for w in tokens if w not in stopwords]"
   ]
  },
  {
   "cell_type": "markdown",
   "metadata": {},
   "source": [
    "We can use FreqDist() function on NLTK to have a dictionary of frequency of apperance of word in a text."
   ]
  },
  {
   "cell_type": "code",
   "execution_count": 7,
   "metadata": {},
   "outputs": [],
   "source": [
    "counter_dict = nltk.FreqDist(word_filtered)"
   ]
  },
  {
   "cell_type": "code",
   "execution_count": 8,
   "metadata": {},
   "outputs": [
    {
     "name": "stdout",
     "output_type": "stream",
     "text": [
      "[('film', 9519), ('one', 5853), ('movie', 5774), ('like', 3690), ('even', 2565), ('good', 2411), ('time', 2411), ('story', 2170), ('would', 2110), ('much', 2050), ('character', 2020), ('also', 1967), ('get', 1949), ('two', 1912), ('well', 1906)]\n"
     ]
    }
   ],
   "source": [
    "print(counter_dict.most_common(15))"
   ]
  },
  {
   "cell_type": "code",
   "execution_count": 9,
   "metadata": {},
   "outputs": [],
   "source": [
    "docs = [(list(movie_reviews.words(fileid)), category)\n",
    "        for category in movie_reviews.categories()\n",
    "        for fileid in movie_reviews.fileids(category)]"
   ]
  },
  {
   "cell_type": "markdown",
   "metadata": {},
   "source": [
    "The above section of the code can be translated to: \n",
    "\n",
    "In every category (we have either pos or neg), take the entire file IDs (every review has own ID), \n",
    "\n",
    "Store the word_tokenized version (list of words) for the file ID, and then followed by the positive or negative label in one big list."
   ]
  },
  {
   "cell_type": "code",
   "execution_count": null,
   "metadata": {},
   "outputs": [],
   "source": [
    "docs"
   ]
  },
  {
   "cell_type": "markdown",
   "metadata": {},
   "source": [
    "Feature Extraction"
   ]
  },
  {
   "cell_type": "markdown",
   "metadata": {},
   "source": [
    "We create a list containing 3000 most frequent words in the documents."
   ]
  },
  {
   "cell_type": "code",
   "execution_count": 11,
   "metadata": {},
   "outputs": [],
   "source": [
    "word_features = [w[0] for w in counter_dict.most_common(3000)]"
   ]
  },
  {
   "cell_type": "code",
   "execution_count": null,
   "metadata": {},
   "outputs": [],
   "source": [
    "word_features"
   ]
  },
  {
   "cell_type": "markdown",
   "metadata": {},
   "source": [
    "We consider existence/non-existence of these words in each of reviews as features by defining the following function.\n"
   ]
  },
  {
   "cell_type": "code",
   "execution_count": 13,
   "metadata": {},
   "outputs": [],
   "source": [
    "def search_features(doc):\n",
    "    words = set(doc)\n",
    "    features = {}\n",
    "    for w in word_features:\n",
    "        features[w] = (w in words)\n",
    "    return features"
   ]
  },
  {
   "cell_type": "markdown",
   "metadata": {},
   "source": [
    "We can test the function on the first review (docs was defined before as the list of tuples containing reviews with their corresponding sentiments)."
   ]
  },
  {
   "cell_type": "code",
   "execution_count": null,
   "metadata": {},
   "outputs": [],
   "source": [
    "search_features(docs[0][0])"
   ]
  },
  {
   "cell_type": "markdown",
   "metadata": {},
   "source": [
    "These are only the first 14 words in the word_features variable (containing 3000 words) for the first review. \n"
   ]
  },
  {
   "cell_type": "markdown",
   "metadata": {},
   "source": [
    "Applying the function to all the reviews.\n"
   ]
  },
  {
   "cell_type": "code",
   "execution_count": 15,
   "metadata": {},
   "outputs": [],
   "source": [
    "featureset = [(search_features(doc), category) for (doc, category) in docs]"
   ]
  },
  {
   "cell_type": "markdown",
   "metadata": {},
   "source": [
    "Print the first element from featureset and explore the component inside it"
   ]
  },
  {
   "cell_type": "code",
   "execution_count": 16,
   "metadata": {},
   "outputs": [
    {
     "name": "stdout",
     "output_type": "stream",
     "text": [
      "{'film': True, 'one': True, 'movie': True, 'like': True, 'even': True, 'good': True, 'time': False, 'story': False, 'would': True, 'much': False, 'character': True, 'also': True, 'get': True, 'two': True, 'well': True, 'characters': True, 'first': False, 'see': True, 'way': True, 'make': True, 'life': True, 'really': True, 'films': True, 'plot': True, 'little': True, 'people': True, 'could': False, 'scene': False, 'bad': True, 'man': False, 'never': False, 'best': False, 'new': True, 'scenes': True, 'many': False, 'director': True, 'know': True, 'movies': True, 'action': False, 'great': False, 'another': False, 'love': False, 'go': True, 'made': False, 'us': True, 'big': True, 'end': False, 'something': False, 'back': True, 'still': True, 'world': True, 'seems': True, 'work': False, 'makes': True, 'however': False, 'every': True, 'though': False, 'better': False, 'real': False, 'audience': True, 'enough': False, 'seen': False, 'take': False, 'around': False, 'going': True, 'year': False, 'performance': False, 'role': False, 'old': False, 'gets': False, 'may': False, 'things': True, 'think': False, 'last': False, 'years': True, 'comedy': False, 'funny': False, 'actually': True, 'long': False, 'look': True, 'almost': False, 'thing': False, 'fact': False, 'nothing': False, 'say': False, 'john': False, 'right': False, 'although': True, 'played': False, 'find': True, 'come': False, 'script': False, 'ever': True, 'cast': False, 'since': True, 'star': False, 'plays': False, 'young': False, 'show': False, 'comes': False, 'part': True, 'original': False, 'actors': True, 'screen': False, 'without': False, 'acting': False, 'three': False, 'day': False, 'point': True, 'lot': False, 'least': False, 'takes': False, 'guy': False, 'quite': False, 'away': True, 'family': False, 'effects': False, 'course': False, 'goes': False, 'minutes': True, 'interesting': False, 'might': True, 'far': False, 'high': False, 'rather': False, 'must': False, 'anything': False, 'place': False, 'set': False, 'yet': False, 'watch': True, 'making': True, 'wife': False, 'hard': False, 'always': True, 'fun': False, 'seem': True, 'special': False, 'bit': True, 'times': False, 'trying': True, 'hollywood': False, 'instead': False, 'give': True, 'want': True, 'picture': False, 'kind': True, 'american': True, 'job': False, 'sense': True, 'woman': False, 'home': False, 'series': False, 'actor': False, 'probably': False, 'help': False, 'half': True, 'men': False, 'along': False, 'everything': False, 'pretty': True, 'becomes': False, 'sure': True, 'black': False, 'together': False, 'dialogue': False, 'money': False, 'become': False, 'gives': False, 'given': True, 'looking': False, 'whole': False, 'watching': False, 'father': False, 'got': True, 'feel': False, 'everyone': False, 'music': True, 'wants': False, 'sex': False, 'less': False, 'done': False, 'horror': True, 'death': False, 'perhaps': False, 'city': False, 'next': False, 'especially': False, 'play': False, 'mind': True, 'girl': False, '10': True, 'moments': False, 'looks': False, 'completely': True, '2': True, 'reason': False, 'mother': False, 'whose': False, 'line': True, 'night': False, 'human': False, 'rest': False, 'performances': False, 'different': True, 'evil': False, 'small': False, 'james': False, 'simply': True, 'couple': False, 'put': False, 'let': False, 'anyone': False, 'ending': True, 'case': False, 'dead': True, 'several': False, 'michael': False, 'left': False, 'thought': False, 'school': False, 'shows': True, 'humor': False, 'true': False, 'lost': True, 'written': False, 'friend': False, 'entire': True, 'getting': False, 'town': False, 'turns': False, 'soon': False, 'someone': True, 'second': False, 'main': True, 'stars': False, 'found': False, 'use': False, 'problem': True, 'friends': False, 'tv': False, 'top': False, 'name': False, 'begins': False, 'called': False, 'based': False, 'comic': False, 'david': False, 'head': True, 'else': False, 'idea': True, 'either': False, 'wrong': False, 'unfortunately': False, 'later': False, 'final': True, 'hand': False, 'house': False, 'alien': False, 'group': False, 'full': False, 'used': False, 'tries': False, 'often': False, 'war': False, 'sequence': False, 'keep': False, 'turn': False, 'playing': True, 'boy': False, 'live': False, 'behind': False, 'named': False, 'certainly': False, 'believe': False, 'works': False, 'relationship': False, 'face': False, 'hour': False, 'run': False, 'style': False, 'said': False, 'despite': True, 'person': False, 'finally': False, 'shot': False, 'book': False, 'tell': False, 'maybe': False, 'nice': False, 'son': False, 'perfect': False, 'side': False, 'seeing': False, 'able': False, 'children': False, 'finds': False, 'days': False, 'past': False, 'summer': False, 'camera': False, 'including': False, 'mr': False, 'kids': True, 'lives': False, 'directed': False, 'moment': False, 'game': False, 'running': True, 'fight': False, 'supposed': False, 'video': True, 'car': False, 'matter': False, 'kevin': False, 'joe': False, 'lines': False, 'worth': False, 'daughter': False, 'earth': False, 'starts': True, 'need': True, 'entertaining': True, 'white': False, 'start': True, 'writer': False, 'dark': False, 'short': False, 'self': False, 'worst': False, 'nearly': False, 'opening': False, 'try': False, 'upon': False, 'care': False, 'early': False, 'violence': False, 'throughout': True, 'team': False, 'beautiful': False, 'production': True, 'example': False, 'exactly': False, 'title': False, 'jack': False, 'review': True, 'major': False, 'drama': False, 'problems': True, 'sequences': False, 'obvious': False, 'version': False, 'screenplay': False, 'known': False, 'killer': False, 'robert': False, 'disney': False, 'already': False, 'close': False, 'classic': False, 'others': True, 'hit': False, 'kill': False, 'deep': False, 'five': True, 'order': False, 'heart': False, 'act': False, 'simple': False, 'fine': False, 'roles': False, 'four': False, 'jackie': False, 'direction': False, 'eyes': False, 'question': False, 'sort': False, 'sometimes': False, 'knows': False, 'women': False, 'supporting': False, 'coming': True, 'voice': False, 'truly': False, 'save': False, 'jokes': False, 'computer': False, 'child': False, 'boring': False, 'tom': False, 'level': False, '1': False, 'scream': False, 'body': False, 'guys': True, 'genre': True, 'brother': False, 'strong': False, 'stop': False, 'room': False, 'space': False, 'lee': False, 'ends': False, 'beginning': False, 'york': False, 'ship': False, 'attempt': True, 'thriller': False, 'peter': False, 'husband': False, 'hope': False, 'fiction': False, 'happens': False, 'hero': False, 'novel': False, 'note': False, 'king': False, 'yes': False, 'says': False, 'dog': False, 'tells': False, 'quickly': False, 'romantic': False, 'oscar': False, 'stupid': False, 'possible': False, 'saw': False, 'lead': False, 'murder': False, 'career': False, 'extremely': False, 'manages': False, 'god': False, 'mostly': False, 'wonder': False, 'particularly': False, 'future': False, 'fans': False, 'sound': False, 'worse': False, 'piece': False, 'involving': False, 'de': False, 'appears': False, 'planet': False, 'paul': False, 'involved': False, 'mean': True, 'none': False, 'taking': False, 'hours': False, 'laugh': False, 'police': False, 'sets': False, 'attention': False, 'co': False, 'hell': False, 'eventually': False, 'single': False, 'fall': False, 'falls': False, 'material': False, 'emotional': False, 'power': False, 'late': False, 'lack': False, 'dr': False, 'van': False, 'result': False, 'elements': False, 'experience': False, 'meet': False, 'smith': False, 'science': False, 'bring': False, 'wild': False, 'living': False, 'theater': False, 'interest': False, 'leads': False, 'word': False, 'feature': False, 'battle': False, 'alone': False, 'girls': False, 'obviously': True, 'george': False, 'within': False, 'usually': False, 'enjoy': False, 'guess': True, 'among': False, 'taken': True, 'feeling': True, 'laughs': False, 'aliens': False, 'talk': False, 'chance': False, 'talent': False, '3': True, 'middle': False, 'number': False, 'easy': False, 'happen': True, 'across': False, 'needs': False, 'attempts': False, 'television': False, 'chris': False, 'deal': True, 'poor': False, 'form': False, 'girlfriend': True, 'viewer': False, 'release': False, 'killed': False, 'forced': False, 'whether': False, 'wonderful': False, 'feels': True, 'oh': True, 'tale': False, 'serious': False, 'leave': False, 'expect': False, 'except': False, 'light': False, 'success': False, 'features': False, 'premise': False, 'happy': False, 'words': False, 'important': False, 'meets': False, 'history': False, 'ryan': False, 'giving': True, 'crew': False, 'type': False, 'call': False, 'turned': False, 'released': False, 'parents': False, 'art': False, 'impressive': False, 'mission': False, 'working': False, 'seemed': True, 'score': False, 'told': False, 'america': False, 'recent': False, 'robin': False, 'basically': False, 'entertainment': False, 'surprise': False, 'apparently': True, 'easily': False, 'cool': True, 'stuff': False, 'cop': False, 'change': False, 'williams': False, 'crime': False, 'office': False, 'parts': False, 'somehow': False, 'sequel': False, 'william': False, 'cut': False, 'die': False, 'jones': False, 'credits': False, 'batman': False, 'suspense': False, 'brings': False, 'reality': False, 'events': False, 'local': False, 'talking': False, 'difficult': False, 'using': False, 'went': False, 'writing': False, 'remember': False, 'near': False, 'straight': False, 'hilarious': False, 'ago': True, 'certain': False, 'ben': False, 'red': False, 'kid': False, 'slow': False, 'blood': False, 'mystery': False, 'complete': False, 'popular': False, 'effective': False, 'fast': False, 'flick': True, 'due': False, 'runs': False, 'gone': False, 'return': False, 'presence': False, 'quality': False, 'dramatic': False, 'filmmakers': False, 'age': False, 'brothers': False, 'business': False, 'general': False, 'rock': False, 'sexual': False, 'present': False, 'surprisingly': False, 'anyway': False, 'uses': False, '4': True, 'personal': False, 'figure': False, 'smart': False, 'ways': True, 'decides': False, 'annoying': False, 'begin': False, 'somewhat': False, 'shots': False, 'rich': False, 'minute': False, 'law': False, 'previous': False, 'jim': False, 'successful': False, 'harry': False, 'water': False, 'similar': False, 'absolutely': False, 'motion': False, 'former': False, 'strange': True, 'came': True, 'follow': False, 'read': False, 'project': False, 'million': False, 'secret': True, 'starring': False, 'clear': False, 'familiar': False, 'eye': False, 'romance': False, 'intelligent': False, 'third': False, 'excellent': False, 'amazing': False, 'party': True, 'budget': False, 'actress': False, 'prison': False, 'latest': False, 'means': False, 'company': False, 'towards': False, 'predictable': False, 'powerful': False, 'bob': False, 'beyond': False, 'visual': False, 'leaves': False, 'r': False, 'nature': False, 'following': False, 'villain': False, 'leaving': False, 'wars': False, 'animated': False, 'low': False, 'b': False, 'bill': False, 'sam': False, 'filled': False, 'questions': False, 'cinema': False, 'message': False, 'box': False, 'moving': False, 'country': False, 'usual': False, 'martin': False, 'definitely': False, 'add': False, 'large': False, 'clever': False, 'create': False, 'felt': False, 'stories': False, 'brilliant': False, 'ones': False, 'giant': False, 'situation': False, 'murphy': False, 'break': True, 'opens': False, 'scary': False, 'doubt': False, 'drug': False, 'bunch': False, 'thinking': False, 'solid': False, 'effect': False, 'learn': False, 'move': False, 'force': False, 'potential': False, 'seriously': False, 'follows': False, 'huge': False, 'saying': False, 'class': False, 'plan': False, 'agent': False, 'created': False, 'unlike': False, 'pay': False, 'non': False, 'married': False, 'mark': False, 'sweet': False, 'perfectly': False, 'ex': False, 'realize': False, 'audiences': False, 'took': True, 'decent': True, 'likely': False, 'dream': False, 'view': False, 'scott': False, 'subject': False, 'understand': False, 'happened': False, 'enjoyable': False, 'studio': True, 'immediately': False, 'open': False, 'e': False, 'points': False, 'heard': False, 'viewers': False, 'cameron': False, 'truman': False, 'bruce': False, 'frank': False, 'private': False, 'stay': False, 'fails': False, 'impossible': False, 'cold': False, 'richard': False, 'overall': True, 'merely': False, 'exciting': False, 'mess': True, 'chase': True, 'escape': False, 'free': False, 'ten': False, 'neither': False, 'wanted': False, 'gun': False, 'appear': False, 'carter': False, 'ultimately': False, 'fan': False, 'inside': False, 'favorite': False, 'modern': False, 'l': False, 'wedding': False, 'stone': False, 'trek': False, 'brought': False, 'trouble': False, 'otherwise': False, 'tim': False, '5': False, 'allen': False, 'bond': False, 'society': False, 'liked': False, 'dumb': False, 'musical': False, 'stand': False, 'political': False, 'various': False, 'talented': False, 'particular': False, 'west': False, 'state': False, 'keeps': False, 'english': False, 'silly': False, 'u': False, 'situations': False, 'park': False, 'teen': True, 'rating': False, 'slightly': False, 'steve': False, 'truth': False, 'air': False, 'element': False, 'joke': False, 'spend': False, 'key': False, 'biggest': True, 'members': False, 'effort': False, 'government': False, 'focus': False, 'today': False, 'eddie': False, 'soundtrack': False, 'hands': False, 'earlier': False, 'chan': False, 'purpose': False, 'showing': True, 'memorable': False, 'six': False, 'max': False, 'offers': False, 'rated': False, 'mars': False, 'heavy': False, 'totally': False, 'control': False, 'credit': False, 'fi': False, 'woody': False, 'ideas': False, 'sci': False, 'wait': False, 'sit': False, 'female': False, 'ask': False, 'waste': False, 'terrible': False, 'depth': False, 'simon': False, 'aspect': False, 'list': False, 'mary': False, 'sister': False, 'animation': False, 'entirely': False, 'fear': False, 'steven': False, 'moves': False, 'actual': False, 'army': False, 'british': False, 'constantly': False, 'fire': False, 'convincing': False, 'setting': False, 'gave': False, 'tension': False, 'street': True, '8': True, 'brief': False, 'ridiculous': False, 'cinematography': False, 'typical': False, 'nick': False, 'screenwriter': False, 'ability': False, 'spent': False, 'quick': False, 'violent': False, 'atmosphere': False, 'subtle': False, 'expected': False, 'fairly': False, 'seven': False, 'disaster': False, 'killing': False, 'tone': False, 'master': False, 'highly': False, 'lots': False, 'thinks': False, 'song': False, 'cheap': False, 'suddenly': False, 'background': False, 'club': False, 'willis': False, 'whatever': True, 'sees': False, 'complex': False, 'greatest': False, 'impact': False, 'ii': False, 'beauty': True, 'front': False, 'humans': False, 'indeed': False, 'flat': False, 'grace': False, 'wrote': False, 'amusing': False, 'titanic': False, 'mike': False, 'cute': False, 'dull': False, 'minor': False, 'recently': False, 'hate': False, 'outside': False, 'plenty': False, 'wish': False, 'godzilla': False, 'college': False, 'sounds': False, 'telling': False, 'sight': False, 'double': False, 'cinematic': False, 'queen': False, 'hold': False, 'meanwhile': False, 'awful': False, 'clearly': False, 'theme': False, 'hear': False, 'x': False, 'amount': False, 'baby': False, 'approach': False, 'dreams': True, 'shown': False, 'island': False, 'reasons': False, 'charm': False, 'miss': False, 'longer': False, 'common': False, 'sean': False, 'carry': False, 'believable': False, 'realistic': False, 'chemistry': False, 'possibly': False, 'casting': False, 'somewhere': True, 'carrey': False, 'french': False, 'trailer': False, 'tough': False, 'produced': False, 'imagine': False, 'choice': False, 'ride': False, 'hot': True, 'race': False, 'road': False, 'leader': False, 'thin': False, 'jerry': False, 'slowly': False, 'delivers': False, 'detective': False, 'brown': False, 'jackson': False, 'member': True, 'provide': False, 'president': False, 'puts': False, 'asks': False, 'critics': False, 'appearance': False, 'famous': False, 'okay': True, 'intelligence': False, 'energy': False, 'sent': False, 'spielberg': False, 'development': False, 'etc': False, 'language': False, 'blue': False, 'proves': False, 'vampire': False, 'seemingly': False, 'basic': False, 'caught': False, 'decide': False, 'opportunity': False, 'remains': False, 'incredibly': False, 'images': False, 'band': False, 'j': False, 'writers': False, 'knew': False, 'interested': False, 'considering': False, 'boys': False, 'thanks': False, 'climax': False, 'event': False, 'central': False, 'directing': False, 'conclusion': False, 'leading': False, 'ground': False, 'lies': False, 'forget': False, 'alive': False, 'tarzan': False, 'century': False, 'provides': False, 'trip': False, 'partner': False, 'tarantino': False, 'period': False, 'pace': False, 'worked': False, 'ready': False, 'date': False, 'thus': False, '1998': False, 'terrific': False, 'write': True, 'average': False, 'onto': False, 'songs': False, 'occasionally': False, 'doctor': False, 'stands': False, 'hardly': False, 'monster': False, 'led': False, 'mysterious': False, 'details': False, 'wasted': False, 'apart': False, 'aside': False, 'store': False, 'saving': False, 'billy': False, 'boss': False, 'travolta': False, 'producer': False, 'pull': False, 'consider': False, 'pictures': False, 'becoming': False, 'cage': False, 'loud': False, 'looked': False, 'la': False, 'officer': False, 'twenty': False, 'system': False, 'contains': False, 'julia': False, 'subplot': False, 'missing': False, 'personality': False, 'building': False, 'learns': False, 'hong': False, 'apartment': False, '7': True, 'bizarre': False, 'powers': False, 'flaws': False, 'catch': False, 'lawyer': False, 'shoot': False, 'student': False, 'unique': False, '000': False, 'admit': False, 'concept': True, 'needed': False, 'thrown': False, 'christopher': False, 'laughing': False, 'green': False, 'twists': False, 'matthew': False, 'touch': False, 'waiting': False, 'victim': False, 'cover': False, 'machine': False, 'danny': False, 'mention': False, 'search': False, '1997': False, 'win': False, 'door': False, 'manner': False, 'train': False, 'share': False, 'image': False, 'discovers': False, 'singer': False, 'normal': True, 'cross': False, 'fox': False, 'returns': False, 'adult': False, 'adds': False, 'answer': False, 'adventure': False, 'lame': False, 'male': False, 'odd': False, 'deserves': False, 'gore': False, 'states': False, 'include': False, 'equally': False, 'months': False, 'barely': False, 'directors': False, 'introduced': False, 'fashion': False, 'social': False, '1999': False, 'news': False, 'hair': False, 'nights': False, 'dance': False, 'innocent': False, 'camp': False, 'teacher': False, 'became': False, 'sad': True, 'witch': True, 'includes': False, 'blade': False, 'jason': False, 'julie': False, 'latter': False, 'food': False, 'jennifer': False, 'land': False, 'menace': False, 'rate': False, 'storyline': False, 'contact': False, 'jean': False, 'elizabeth': False, 'fellow': False, 'changes': False, 'henry': False, 'hill': False, 'pulp': False, 'gay': False, 'tried': False, 'surprised': False, 'literally': False, 'walk': False, 'standard': False, '90': False, 'forward': False, 'wise': False, 'enjoyed': False, 'discover': False, 'pop': False, 'anderson': False, 'offer': False, 'recommend': False, 'public': False, 'drive': True, 'c': False, 'toy': False, 'charming': False, 'fair': False, 'chinese': False, 'rescue': False, 'terms': False, 'mouth': False, 'lucas': False, 'accident': True, 'dies': True, 'decided': True, 'edge': True, 'footage': False, 'culture': False, 'weak': False, 'presented': False, 'younger': False, 'douglas': False, 'natural': False, 'born': False, 'generally': True, 'teenage': False, 'older': False, 'horrible': False, 'addition': False, 'sadly': False, 'creates': False, 'disturbing': False, 'roger': False, 'detail': False, 'devil': False, 'debut': False, 'track': False, 'developed': False, 'week': False, 'russell': False, 'attack': False, 'explain': False, 'rarely': True, 'fully': False, 'prove': False, 'exception': False, 'jeff': False, 'twist': False, 'gang': False, 'winning': False, 'jr': False, 'species': False, 'issues': False, 'fresh': False, 'rules': False, 'meaning': False, 'inspired': False, 'heroes': False, 'desperate': False, 'fighting': False, 'filmed': False, 'twice': False, 'faces': False, 'alan': False, 'bright': False, 'ass': False, 'flying': False, 'kong': False, 'rush': False, 'forces': False, 'charles': False, 'numerous': False, 'emotions': False, 'involves': False, 'patrick': False, 'weird': True, 'apparent': False, 'information': False, 'revenge': False, 'jay': False, 'toward': False, 'surprising': False, 'editing': False, 'calls': False, 'lose': False, 'vegas': False, 'stage': False, 'intended': False, 'gags': False, 'opinion': False, 'likes': False, 'crazy': False, 'owner': False, 'places': False, 'pair': False, 'genuine': False, 'epic': False, 'speak': False, 'throw': False, 'appeal': False, 'gibson': False, 'captain': False, 'military': False, '20': True, 'blair': True, 'nowhere': False, 'length': False, 'nicely': False, 'cause': False, 'pass': False, 'episode': False, 'kiss': False, 'arnold': False, 'please': False, 'phone': False, 'filmmaking': False, 'formula': False, 'boyfriend': False, 'talents': False, 'creating': False, 'kelly': False, 'buy': False, 'wide': False, 'fantasy': True, 'mood': False, 'heads': False, 'pathetic': False, 'lacks': False, 'loved': False, 'asked': False, 'mrs': False, 'witty': False, 'shakespeare': False, 'mulan': False, 'generation': True, 'affair': False, 'pieces': False, 'task': False, 'rare': False, 'kept': False, 'cameo': False, 'legend': False, 'fascinating': False, 'ed': False, 'fbi': False, 'burton': False, 'incredible': False, 'accent': False, 'artist': False, 'superior': False, 'na': False, 'academy': False, 'thomas': False, 'spirit': False, 'technical': False, 'confusing': True, 'poorly': False, 'target': False, 'lover': False, 'woo': False, 'mentioned': False, 'theaters': False, 'plane': False, 'confused': False, 'dennis': False, 'rob': False, 'appropriate': False, 'christmas': False, 'considered': False, 'floor': False, 'shame': False, 'soul': False, 'matt': False, 'campbell': False, 'process': False, 'bottom': True, 'sitting': True, 'brain': False, 'magic': False, 'creepy': False, '13': False, 'forever': False, 'dude': False, 'crap': False, 'superb': False, 'speech': False, 'ice': False, 'journey': False, 'masterpiece': False, 'intriguing': False, 'names': False, 'pick': False, 'speaking': False, 'virtually': False, 'award': False, 'worthy': False, 'marriage': False, 'deliver': False, 'cash': False, 'respect': False, 'product': False, 'matrix': False, 'necessary': False, 'suppose': False, 'silent': False, 'pointless': False, 'station': False, 'affleck': False, 'dimensional': False, 'charlie': False, 'allows': False, 'avoid': False, 'meant': False, 'cops': False, 'limited': False, 'attitude': False, 'relationships': False, 'hits': False, 'stephen': False, 'vampires': False, 'spends': False, 'relief': False, 'physical': False, 'count': False, 'reviews': False, 'appreciate': False, 'cliches': False, 'holds': True, 'pure': False, 'plans': False, 'failed': False, 'pain': False, 'impression': False, 'unless': False, 'sub': False, 'total': False, 'creature': False, 'viewing': False, 'loves': False, 'princess': False, 'kate': False, 'rising': False, 'woods': False, 'baldwin': False, 'angry': False, 'drawn': False, 'step': False, 'themes': False, 'satire': False, 'arts': False, 'remake': False, 'wall': False, 'moral': False, 'color': False, 'ray': False, 'stuck': False, 'touching': False, 'wit': False, 'tony': False, 'hanks': False, 'continues': True, 'damn': False, 'nobody': False, 'cartoon': False, 'keeping': False, 'realized': False, 'criminal': False, 'unfunny': False, 'comedic': False, 'martial': False, 'disappointing': False, 'anti': False, 'graphic': False, 'stunning': False, 'actions': False, 'emotion': False, 'urban': False, 'soldiers': False, 'edward': False, 'comedies': False, 'driver': False, 'expectations': False, 'added': False, 'mad': False, 'angels': False, 'shallow': False, 'suspect': False, 'humorous': False, 'phantom': False, 'appealing': False, 'device': False, 'design': False, 'industry': False, 'reach': False, 'fat': False, 'hotel': False, 'blame': False, 'united': False, 'gon': False, 'sign': False, 'portrayal': False, 'rocky': False, 'finale': False, 'grand': False, 'opposite': False, 'match': False, 'damme': False, 'speed': False, 'ok': False, 'loving': False, 'field': False, 'larry': False, 'troopers': False, 'compared': False, 'apes': False, 'rose': False, 'falling': False, 'era': False, 'loses': False, 'adults': False, 'managed': False, 'dad': False, 'therefore': False, 'pg': False, 'results': False, 'guns': False, 'radio': False, 'lady': False, 'manage': False, 'spice': False, 'naked': False, 'started': False, 'intense': False, 'humanity': False, 'wonderfully': False, 'slasher': True, 'bland': False, 'imagination': False, 'walking': False, 'willing': False, 'horse': False, 'rent': False, 'mix': False, 'generated': False, 'g': False, 'utterly': False, 'scientist': False, 'washington': False, 'notice': False, 'players': False, 'teenagers': False, 'moore': False, 'board': False, 'price': False, 'frightening': False, 'tommy': False, 'spectacular': False, 'bored': False, 'jane': False, 'join': False, 'producers': False, 'johnny': False, 'zero': False, 'adaptation': False, 'dollars': False, 'parody': False, 'documentary': False, 'dvd': False, 'wayne': False, 'post': False, 'exist': False, 'matters': False, 'chosen': False, 'mel': False, 'attractive': False, 'plain': True, 'trust': False, 'safe': False, 'reading': False, 'hoping': False, 'protagonist': False, 'feelings': False, 'fate': False, 'finding': False, 'feet': False, 'visuals': False, 'spawn': False, 'compelling': False, 'hall': False, 'sympathetic': False, 'featuring': False, 'difference': False, 'professional': False, 'drugs': False, 'ford': False, 'shooting': False, 'gold': False, 'patch': False, 'build': False, 'boat': False, 'cruise': False, 'honest': False, 'media': False, 'babe': False, 'flicks': True, 'bug': False, 'bringing': False, 'dangerous': False, 'watched': False, 'grant': False, 'smile': False, 'ghost': False, 'plus': False, 'decision': False, 'visually': False, 'allow': False, 'starship': False, 'roberts': False, 'dying': False, 'portrayed': False, 'turning': True, 'believes': False, 'changed': False, 'shock': False, 'destroy': False, '30': False, 'crowd': False, 'broken': False, 'tired': False, 'fail': False, 'south': False, 'died': False, 'cult': False, 'fake': False, 'vincent': False, 'identity': False, 'sexy': False, 'hunt': False, 'jedi': False, 'flynt': False, 'alex': False, 'engaging': True, 'serve': False, 'snake': False, 'yeah': False, 'expecting': False, '100': False, 'decade': False, 'ups': False, 'constant': False, 'current': False, 'survive': False, 'jimmy': False, 'buddy': False, 'send': False, 'brooks': False, 'goofy': False, 'likable': False, 'humour': False, 'technology': False, 'files': False, 'aspects': False, 'presents': True, 'kills': False, 'supposedly': False, 'eight': False, 'sandler': False, 'hospital': False, 'test': False, 'hidden': False, 'brian': False, 'books': False, 'promise': False, 'determined': False, 'professor': False, 'genius': False, 'welcome': False, 'pleasure': False, 'fantastic': False, 'succeeds': False, 'individual': False, 'annie': False, 'mob': False, 'ted': False, 'virus': False, 'content': False, 'gary': False, 'direct': False, 'contrived': False, 'carpenter': False, 'scale': False, 'sick': False, 'nasty': False, 'conflict': False, 'haunting': False, 'filmmaker': False, 'japanese': False, 'helps': False, 'fare': False, 'lucky': False, 'ultimate': False, 'window': False, 'support': False, 'goal': False, 'provided': False, 'winner': False, 'taylor': False, 'faith': False, 'lynch': False, 'fit': False, 'catherine': False, 'ms': False, 'paced': False, 'breaks': False, 'al': False, 'frame': False, 'travel': False, 'badly': False, 'available': False, 'cares': False, 'reeves': False, 'crash': False, 'driving': False, 'press': False, 'seagal': False, 'amy': False, '9': True, 'headed': False, 'instance': False, 'excuse': False, 'offensive': False, 'narrative': False, 'fault': False, 'bus': False, 'f': False, 'extreme': False, 'miller': False, 'guilty': False, 'grows': False, 'overly': False, 'liners': False, 'forgotten': False, 'ahead': False, 'accept': False, 'porn': False, 'directly': False, 'helen': False, 'began': False, 'lord': False, 'folks': True, 'mediocre': False, 'bar': False, 'surface': False, 'super': False, 'failure': False, '6': False, 'acted': False, 'quiet': False, 'laughable': False, 'sheer': False, 'security': False, 'emotionally': False, 'season': False, 'stuart': False, 'jail': False, 'deals': False, 'cheesy': False, 'court': False, 'beach': False, 'austin': False, 'model': False, 'outstanding': False, 'substance': False, 'nudity': False, 'slapstick': False, 'joan': False, 'reveal': False, 'placed': False, 'check': False, 'beast': False, 'hurt': False, 'bloody': False, 'acts': False, 'fame': False, 'meeting': False, 'nuclear': False, '1996': False, 'strength': False, 'center': False, 'funniest': False, 'standing': False, 'damon': False, 'clich': False, 'position': False, 'desire': False, 'driven': False, 'seat': False, 'stock': False, 'wondering': False, 'realizes': False, 'dealing': False, 'taste': False, 'routine': False, 'comparison': False, 'cinematographer': False, 'seconds': False, 'singing': False, 'gangster': False, 'responsible': False, 'football': False, 'remarkable': False, 'hunting': False, 'adams': False, 'fly': False, 'suspects': False, 'treat': False, 'hopes': False, 'heaven': False, 'myers': False, 'struggle': False, 'costumes': False, 'beat': False, 'happening': False, 'skills': False, 'ugly': False, 'figures': False, 'thoroughly': False, 'ill': False, 'surprises': False, 'player': False, 'rival': False, 'guard': False, 'armageddon': False, 'anthony': False, 'strike': False, 'community': False, 'animal': False, 'streets': False, 'hopkins': False, 'ended': False, 'originally': False, 'sarah': False, 'creative': False, 'characterization': False, 'thankfully': False, 'growing': False, 'sharp': False, 'williamson': False, 'eccentric': False, 'explained': True, 'hey': False, 'claire': False, 'steal': False, 'inevitable': False, 'joel': False, 'core': False, 'sorry': False, 'built': False, 'anne': False, 'breaking': False, 'villains': False, 'critic': False, 'lets': False, 'visit': False, 'followed': False, 'serial': False, 'value': False, 'missed': False, 'oliver': False, 'hollow': False, 'sea': False, 'freeman': False, 'animals': False, 'crystal': False, 'sidney': False, 'lacking': False, 'everybody': False, 'students': False, 'continue': False, 'boogie': False, 'extra': False, 'scorsese': False, 'church': True, 'stick': True, 'explanation': True, 'hip': False, 'quest': False, 'mistake': False, 'jump': False, 'fights': False, 'cusack': False, 'included': False, 'draw': False, '15': False, 'games': False, '1995': False, 'judge': False, 'gotten': False, 'sky': False, 'chief': False, 'derek': False, 'thirty': False, 'record': False, 'veteran': False, 'develop': False, 'knowledge': False, 'serves': False, 'arrives': False, 'clooney': False, 'enter': True, 'russian': False, 'obsessed': False, 'vision': False, 'screenwriters': False, 'luck': False, 'holes': False, 'religious': False, 'witness': False, 'flashbacks': False, 'heavily': False, 'frequently': False, 'capable': False, 'pacing': False, 'rise': False, 'mainly': False, 'fill': False, 'barry': False, 'schwarzenegger': False, 'clean': False, 'previously': False, 'grow': False, 'keaton': False, 'empty': False, 'synopsis': False, 'victims': False, 'adam': False, 'bed': False, 'lawrence': False, 'stallone': False, 'hunter': False, 'memory': False, 'suit': False, 'bobby': False, 'tragedy': False, 'saved': False, 'spot': False, 'unexpected': False, 'encounter': False, 'hearted': False, 'bacon': False, 'disappointment': False, 'bigger': False, 'noir': False, 'wan': False, 'nicholson': False, 'evidence': False, 'relatively': False, 'morning': False, 'andrew': False, 'range': False, 'numbers': False, 'walter': False, 'vehicle': False, 'pulled': False, 'describe': False, 'cliched': False, 'efforts': False, 'logic': False, 'verhoeven': False, 'assistant': False, 'existence': False, 'worker': False, 'freedom': False, 'theatre': False, 'wood': False, 'warm': False, 'fish': False, 'ripley': False, 'mental': False, 'angel': False, 'study': False, 'justice': False, 'cliche': False, 'foot': False, 'jonathan': False, 'grown': False, 'unnecessary': False, 'rip': False, 'learned': False, 'skin': False, 'talks': False, 'ball': False, 'eve': False, 'alice': False, 'roll': False, 'weeks': False, 'jon': False, 'courtroom': False, 'positive': False, 'putting': False, 'connection': False, 'london': False, 'contrast': False, 'exact': True, 'fifteen': False, 'eric': False, 'prince': False, 'bound': False, 'traditional': False, 'regular': False, 'niro': False, 'las': False, 'remain': False, 'anna': False, 'moved': False, 'asking': False, 'genuinely': False, 'rain': False, 'path': False, 'aware': False, 'causes': False, 'international': False, 'naturally': False, 'bank': False, 'faced': False, 'elaborate': False, 'shocking': False, 'besides': False, 'trash': False, 'paris': False, 'captured': False, 'concerned': False, 'rule': False, 'held': False, 'claims': False, 'cell': False, 'daniel': False, 'beloved': False, 'pilot': False, 'independence': False, 'ocean': False, 'eat': False, 'punch': False, 'desperately': False, 'reminiscent': False, 'knowing': False, 'greater': False, 'largely': False, 'hundred': False, 'shrek': False, 'flash': False, 'halloween': False, 'occasional': False, 'danger': False, 'thrillers': False, 'essentially': False, 'terror': False, 'whenever': False, 'suggest': False, 'baseball': False, 'blockbuster': False, 'pie': False, 'starting': False, 'satisfying': False, 'allowed': False, 'minds': False, 'neil': False, 'hank': False, 'storm': False, 'disappointed': False, 'jake': False, 'wearing': False, 'explains': False, 'marry': False, 'national': False, 'psychological': False, 'pig': False, 'nomination': False, 'critique': True, 'theatrical': False, 'psycho': False, 'necessarily': False, 'threatening': False, 'fallen': False, 'dogs': False, 'painful': False, 'plots': False, 'sends': False, 'department': False, 'agrees': False, 'league': False, 'covered': False, 'source': False, 'revealed': False, 'historical': False, 'perspective': False, 'patient': False, '17': False, 'arquette': False, 'successfully': False, 'n': False, 'afraid': False, 'mom': False, 'murders': False, 'jar': False, 'suicide': False, 'soldier': False, 'joy': False, 'nightmare': True, 'cuts': False, 'wilson': False, 'nine': False, '80': False, 'drunken': False, 'painfully': False, 'opera': False, 'wrestling': False, 'references': False, 'cars': False, 'bomb': False, 'luke': False, 'pulls': False, 'passion': False, 'sleep': False, 'structure': False, 'agree': False, 'occur': False, 'brad': False, 'chicago': False, 'con': False, 'attacks': False, 'service': False, 'stunts': False, 'bulworth': False, 'murray': False, 'trilogy': False, 'intensity': False, 'tradition': False, 'unfortunate': False, 'seth': False, 'stiller': False, 'suspenseful': False, 'steals': False, 'cat': False, 'investigation': False, 'lovely': False, 'stops': False, 'hanging': False, 'oddly': False, 'choices': False, 'warning': False, 'climactic': False, 'ape': False, 'jungle': False, 'england': False, 'sole': False, 'conspiracy': False, 'surely': False, 'author': False, '50': False, 'program': False, 'broderick': False, 'china': False, 'weapon': False, 'unbelievable': False, 'quaid': False, 'gross': False, 'ensemble': False, 'dinner': False, 'dirty': False, 'soft': False, 'loose': False, 'memories': False, 'harris': False, 'laughter': False, 'nevertheless': False, 'suffering': False, 'initially': False, '54': False, 'narration': False, 'terribly': True, 'stolen': False, 'dragon': False, 'answers': False, 'wealthy': False, 'originality': False, 'reaction': False, 'foreign': False, '2001': False, 'significant': False, 'donnell': False, 'fu': False, 'reminded': False, 'subplots': False, 'risk': False, 'creatures': False, '12': False, 'african': False, 'convinced': False, 'lewis': False, 'capture': False, 'makers': False, 'requires': False, 'friendship': False, 'spy': False, 'met': False, 'uninteresting': False, 'christian': False, 'deadly': False, 'critical': False, 'behavior': False, 'slave': False, 'thrills': False, 'duvall': False, 'segment': False, 'monkey': False, 'bitter': False, 'status': False, 'refuses': False, 'melvin': False, 'nbsp': False, 'understanding': True, 'described': False, 'voiced': False, 'accidentally': False, 'endless': False, 'showed': False, 'schumacher': False, 'hired': False, 'gag': False, 'terry': False, 'walks': False, 'li': False, 'complicated': False, 'weekend': False, 'sequels': False, 'excitement': False, 'commercial': False, 'performers': False, 'rick': False, 'unlikely': False, 'bag': False, 'keanu': False, 'tight': False, 'terminator': False, 'desert': False, 'german': False, 'wears': False, 'effectively': False, 'flaw': False, 'meg': False, 'thoughts': False, 'scare': False, 'prime': False, 'todd': False, 'suffers': False, 'greg': False, 'p': False, 'shop': False, 'discovered': False, 'bear': False, 'heroine': False, 'sudden': False, 'killers': False, 'halfway': False, 'strikes': False, 'root': False, 'handled': False, 'handle': False, 'explosions': False, 'mickey': False, 'extraordinary': False, 'sports': False, 'collection': False, 'photography': False, 'speaks': False, 'issue': False, 'mid': False, 'proceedings': False, 'ethan': False, 'delightful': False, 'laughed': False, 'vacation': False, 'pitt': False, 'lebowski': False, 'lovers': False, 'quirky': False, 'texas': False, 'flesh': False, 'dean': False, 'crisis': False, 'touches': True, 'crow': True, 'dollar': False, 'attempting': False, 'murdered': False, '0': False, 'fugitive': False, 'values': False, 'loser': False, 'unable': False, 'drunk': False, 'kung': False, 'western': False, 'childhood': False, 'anywhere': False, 'gift': False, 'destroyed': False, 'chicken': False, 'tense': False, 'embarrassing': False, 'selling': False, 'sing': False, 'tragic': False, 'irritating': False, 'wind': False, 'barrymore': False, 'extended': False, 'dozen': False, 'enemy': False, 'frankly': False, 'drop': False, 'norton': False, 'hype': False, 'unusual': False, 'ordinary': False, 'finest': False, 'losing': False, 'ian': False, 'phil': False, 'cole': False, 'goodman': False, 'insight': True, 'promising': False, 'loss': False, 'weapons': False, 'twisted': False, 'deeper': False, 'nonetheless': False, 'advice': False, 'lake': False, 'campaign': False, 'lonely': False, 'karen': False, 'unknown': False, 'knock': False, 'blow': False, 'dancing': False, '80s': False, 'magazine': False, 'instinct': False, 'italian': False, 'throwing': False, 'costume': False, 'friendly': False, 'fairy': False, 'voices': False, 'helped': False, 'lived': False, 'universe': False, 'entertain': True, 'adventures': False, 'table': False, 'saturday': False, 'signs': False, 'comments': False, 'required': False, 'flashback': False, 'haunted': False, 'stretch': False, 'albeit': False, 'bugs': False, 'paid': False, 'soap': False, 'notes': False, 'sell': False, 'multiple': False, 'practically': False, 'obligatory': False, 'larger': False, 'display': False, 'basis': False, 'hitchcock': False, 'mtv': False, 'sidekick': False, 'angle': False, 'jobs': False, 'circumstances': False, 'initial': False, 'bride': False, 'struggling': False, 'related': False, 'exercise': False, 'commentary': False, 'combination': False, 'toys': False, 'closer': False, 'hole': False, 'experiences': False, 'corner': False, 'trio': False, 'cowboy': False, 'politics': False, 'jurassic': False, 'kick': False, 'revolves': False, 'trapped': False, 'recall': False, 'darkness': False, 'digital': False, 'recognize': False, 'romeo': False, 'reveals': False, 'ironic': False, 'picks': False, 'fifth': False, 'blonde': False, 'encounters': False, 'aforementioned': False, 'inventive': False, 'granted': False, 'remaining': False, 'storytelling': False, 'howard': False, 'ad': False, 'copy': False, 'absurd': False, 'handful': False, 'pre': False, 'erotic': False, 'drew': False, 'reporter': False, 'destination': False, 'paper': False, 'dry': False, 'trailers': False, 'priest': False, 'holding': False, 'hint': False, 'medical': False, 'horizon': False, 'blues': False, 'sitcom': False, 'ellie': False, 'buddies': False, 'importantly': False, 'provoking': False, 'challenge': False, 'introduces': False, 'hoffman': False, 'spacey': False, 'clothes': False, 'mouse': False, 'colorful': False, 'magical': False, 'replaced': False, 'size': False, 'packed': False, 'cox': False, 'grade': False, 'bore': False, 'outrageous': False, 'assume': False, 'studios': False, 'bone': False, 'michelle': False, 'deeply': False, 'metal': False, 'sixth': False, 'artistic': False, 'develops': False, 'andy': False, 'mafia': False, 'colors': False, 'golden': False, 'designed': False, 'hopefully': False, 'featured': False, 'market': False, 'lloyd': False, 'kenneth': False, 'wear': False, 'truck': False, 'generic': False, 'terrorist': False, 'beautifully': False, 'costner': False, 'judd': False, 'reese': False, 'connor': False, 'sir': False, 'wes': True, 'cgi': False, 'chases': False, 'remotely': False, 'midnight': False, 'homage': False, 'conventional': False, 'depressing': False, 'higher': False, 'hearing': False, 'glenn': False, 'tiny': False, 'sandra': False, 'perform': False, 'scheme': False, 'eating': False, 'threat': False, 'alas': False, 'drives': False, 'inept': False, 'doors': False, 'universal': False, 'multi': False, 'prinze': False, 'gorgeous': False, 'par': False, 'location': False, 'coach': False, 'lisa': False, 'screening': False, 'notable': False, 'dressed': False, 'morgan': False, 'research': False, 'scenery': False, 'abandoned': False, 'bleak': False, 'overcome': False, 'penn': False, 'suggests': False, 'primary': False, 'dillon': False, 'directorial': False, 'bodies': False, 'weight': False, 'investigate': False, 'chain': False, 'rolling': False, 'blown': False, 'proof': False, 'contemporary': False, 'jackal': False, 'steps': False, '2000': False, 'october': False, 'besson': False, 'treatment': False, 'religion': False, 'maggie': False, 'flawed': False, 'round': False, 'cable': False, 'capsule': False, 'pregnant': False, 'birth': False, 'wonders': False, 'semi': False, 'countless': False, 'jet': False, 'gene': False, 'theory': False, 'bits': False, 'graham': False, 'clueless': False, 'whatsoever': False, 'youth': False, 'cry': False, 'wong': False, 'executive': False, 'cutting': False, 'statement': False, 'occurs': False, 'sheriff': False, 'screaming': False, 'river': False, 'brutal': False, 'bother': False, 'forth': False, 'obnoxious': False, 'pleasant': False, 'foster': False, 'hughes': False, 'silver': False, 'depp': False, 'laura': False, 'americans': False, 'ancient': False, 'focuses': False, 'bang': False, 'brilliantly': False, 'troubled': False, 'term': False, 'dan': False, 'parker': False, 'notch': False, 'ordell': False, 'types': True, 'wooden': False, 'warner': False, 'disbelief': False, 'strip': False, 'families': False, 'trite': False, 'convince': False, 'hang': False, 'fortune': False, 'natasha': False, 'fortunately': False, 'kilmer': False, 'mine': False, 'appearances': False, 'deserve': False, 'beating': False, 'conversation': False, 'qualities': False, 'projects': False, 'according': False, 'dialog': False, 'carries': False, 'sonny': False, 'stereotypes': False, 'episodes': False, 'protagonists': False, 'agents': False, 'armed': False, 'mitchell': False, 'trick': False, 'accomplished': False, 'davis': False, 'beatty': False, 'mere': False, 'destruction': False, 'suffer': False, 'dick': False, 'trade': False, 'tucker': False, 'arm': False, 'luckily': False, 'crafted': False, 'facts': False, 'kim': False, 'johnson': False, 'disco': False, 'stewart': False, 'likeable': False, 'tribe': False, 'mature': False, 'mile': False, 'progresses': False, 'favor': False, 'exchange': False, 'spoken': False, 'sake': False, 'roth': False, 'stereotypical': False, 'irish': False, 'festival': False, 'buzz': False, 'mighty': False, 'passed': False, 'operation': False, 'boxing': False, 'defense': False, 'thief': False, 'harrelson': False, '1993': False, 'gratuitous': False, '40': False, 'innocence': False, 'expensive': False, 'fiennes': False, 'intellectual': False, 'lucy': False, 'mainstream': False, 'decades': False, 'emma': False, 'false': False, 'bridge': False, 'base': False, 'appeared': False, 'setup': False, 'lie': False, 'delight': False, 'stylish': False, 'cruel': False, 'refreshing': False, 'abilities': False, 'corny': False, 'breasts': False, 'baker': False, 'block': False, 'neeson': False, 'actresses': False, 'raise': False, 'airplane': False, 'dropped': False, 'established': False, 'fred': False, 'succeed': False, 'degree': False, 'vs': False, 'pacino': False, 'dicaprio': False, 'executed': True, 'thrilling': True, 'bastard': False, 'spending': False, 'providing': False, 'training': False, 'picked': False, 'awkward': False, 'realism': False, 'adapted': False, 'jan': False, 'charge': False, 'inner': False, 'north': False, 'command': False, 'increasingly': False, 'tyler': False, 'fits': False, 'trial': False, 'warrior': False, 'honor': False, 'holiday': False, 'arms': False, 'ron': False, 'mixed': False, 'kubrick': False, 'tedious': False, 'workers': False, 'perfection': False, 'amanda': False, 'esque': False, 'cuba': False, 'tears': False, 'execution': False, 'dress': False, 'francis': False, 'legendary': False, 'fincher': False, 'neve': False, 'miles': False, 'scientists': False, 'sat': False, 'susan': False, 'persona': False, 'intentions': False, 'paltrow': False, 'smoking': False, 'diamond': False, 'stealing': False, 'prisoners': False, 'spoilers': False, 'jolie': False, 'branagh': False, 'mask': False, 'spiritual': False, 'equal': False, 'raised': False, 'clue': True, 'suits': True, 'skip': True, 'robot': False, 'arthur': False, 'forest': False, 'entry': False, 'viewed': False, 'independent': False, 'expert': False, 'ghosts': False, 'reference': False, 'remembered': False, 'scared': False, 'classics': False, 'henstridge': False, 'alicia': False, 'shut': False, 'jordan': False, 'notably': False, 'designer': False, 'endearing': False, 'tend': False, 'rape': False, 'escapes': False, 'ring': False, 'notion': False, 'bet': False, 'variety': False, 'glory': False, 'consistently': False, 'area': False, 'random': False, 'expression': False, 'editor': False, 'sun': False, 'com': False, 'drinking': False, 'letting': False, 'los': False, 'angeles': False, 'prisoner': False, 'deserved': False, 'strangely': False, 'spots': False, 'charisma': False, 'makeup': False, 'carefully': False, 'survivors': False, 'mail': False, 'via': False, 'anymore': False, 'gordon': False, 'sorts': False, 'tracks': False, 'factor': False, 'gory': False, 'combined': False, 'flubber': False, 'sympathy': False, 'achievement': False, 'robocop': False, 'virtual': False, 'installment': False, 'movement': False, 'personally': True, 'sword': False, 'blind': False, 'produce': False, 'demands': False, 'accused': False, 'anybody': False, 'exists': False, 'stronger': False, 'timing': False, 'handsome': False, 'prior': False, 'distracting': False, 'idiotic': False, 'neighbor': False, 'fantasies': False, 'teens': False, 'enormous': False, 'horribly': False, 'energetic': False, 'wave': False, 'interaction': False, 'condition': False, 'banderas': False, 'jesus': False, 'reminds': False, 'restaurant': False, 'marks': False, 'fonda': False, 'betty': False, 'manager': False, 'negative': False, 'attraction': False, 'wing': False, 'randy': False, 'insult': False, 'everywhere': False, 'crucial': False, 'surreal': False, 'carol': False, 'learning': False, 'wallace': False, '1994': False, 'franchise': False, 'filming': False, 'gloria': False, 'village': False, 'butt': False, '\\x12': False, 'wins': False, 'malkovich': False, 'wahlberg': False, 'drag': False, 'craven': False, 'downright': False, 'gattaca': False, 'chasing': True, 'spirited': False, 'saves': False, '8mm': False, 'drags': False, 'welles': False, 'california': False, 'monsters': False, 'bathroom': False, 'france': False, 'ironically': False, 'levels': False, 'settle': False, 'basketball': False, 'satan': False, 'supernatural': False, 'sisters': False, 'treated': False, 'cauldron': False, 'handed': False, 'ensues': False, 'mountain': False, 'tricks': False, 'lethal': False, 'hackman': False, 'mildly': False, 'albert': False, 'stanley': False, 'throws': False, 'lifeless': False, 'jeffrey': False, 'consists': False, 'twin': False, 'delivered': False, 'sides': False, 'marie': False, 'denise': False, 'fool': False, 'braveheart': False, 'flight': False, 'k': False, 'palma': False, 'carrie': False, 'thompson': False, 'infamous': False, 'civil': False, 'received': False, 'millionaire': False, 'passes': False, 'snow': False, 'eyed': False, 'freeze': False, 'breathtaking': False, 'senses': False, 'delivering': False, 'diaz': False, 'bats': False, 'jamie': False, 'gain': False, 'allowing': False, 'murderer': False, 'delivery': False, 'altman': False, 'imagery': False, 'appropriately': False, 'pam': False, 'millions': False, 'paxton': False, 'bat': False, 'ho': False, 'garbage': False, 'luc': False, 'environment': False, 'ashley': False, 'gabriel': False, 'anger': False, 'finish': False, 'connery': False, 'un': False, 'impressed': False, 'enjoying': False, 'highlight': False, 'contain': False, 'cameos': False, 'wildly': False, 'snipes': False, 'lighting': False, 'richards': False, 'card': False, 'portrays': False, 'leo': False, 'lights': False, 'obi': False, 'closing': False, '70s': False, 'fears': False, 'gere': False, 'sleepy': False, 'frankenstein': False, 'birthday': False, 'network': False, 'invisible': False, 'staged': False, 'quentin': False, 'till': False, 'mass': False, 'letter': False, 'explored': False, 'confrontation': False, 'treats': False, 'kidnapped': False, 'finn': False, 'flashy': False, 'empire': False, 'instantly': False, 'compare': False, '90s': False, 'influence': False, 'kinds': False, '60': False, 'torn': False, 'jumps': False, 'orders': False, 'utter': False, 'stunt': False, 'travels': False, 'bird': False, 'inane': False, 'crazed': False, 'specifically': False, 'eerie': False, 'terrifying': False, 'committed': False, 'freddie': False, 'explaining': False, 'campy': False, 'ludicrous': False, 'month': False, 'caring': False}\n"
     ]
    }
   ],
   "source": [
    "print(featureset[0][0])"
   ]
  },
  {
   "cell_type": "markdown",
   "metadata": {},
   "source": [
    "Training and testing set"
   ]
  },
  {
   "cell_type": "markdown",
   "metadata": {},
   "source": [
    "Before we can train and test our algorithm, we should first split our data into training and test sets. \n",
    "\n",
    "Since our dataset has been shuffled, the first 1600 shuffled reviews (consisting both positive and negative reviews) will be used as the training set. \n",
    "\n",
    "The remaining 20% (400 reviews) will be used to perform the test. \n"
   ]
  },
  {
   "cell_type": "code",
   "execution_count": 17,
   "metadata": {},
   "outputs": [],
   "source": [
    "training_set = featureset[:1600]\n",
    "testing_set = featureset[1600:]"
   ]
  },
  {
   "cell_type": "code",
   "execution_count": null,
   "metadata": {},
   "outputs": [],
   "source": [
    "testing_set"
   ]
  },
  {
   "cell_type": "code",
   "execution_count": 19,
   "metadata": {},
   "outputs": [
    {
     "name": "stdout",
     "output_type": "stream",
     "text": [
      "1000\n",
      "600\n"
     ]
    }
   ],
   "source": [
    "count =0\n",
    "pcount=0\n",
    "for value in training_set:\n",
    "    if value[1] == 'neg':\n",
    "        count +=1\n",
    "    elif value[1] == 'pos':\n",
    "        pcount +=1\n",
    "print(count)\n",
    "print(pcount)"
   ]
  },
  {
   "cell_type": "markdown",
   "metadata": {},
   "source": [
    "# training set"
   ]
  },
  {
   "cell_type": "code",
   "execution_count": 20,
   "metadata": {},
   "outputs": [
    {
     "name": "stdout",
     "output_type": "stream",
     "text": [
      "1000\n",
      "600\n",
      "37.5\n",
      "62.5\n"
     ]
    }
   ],
   "source": [
    "ncount =0\n",
    "pcount=0\n",
    "for value in training_set:\n",
    "    if value[1] == 'neg':\n",
    "        ncount +=1\n",
    "    elif value[1] == 'pos':\n",
    "        pcount +=1\n",
    "print(ncount)\n",
    "print(pcount)\n",
    "\n",
    "# Calculate total number of reviews\n",
    "total_featureset = len(training_set)\n",
    "\n",
    "# Calculate percentages\n",
    "percentage_pos = ( pcount/ total_featureset) * 100\n",
    "percentage_neg = (ncount / total_featureset) * 100\n",
    "print(percentage_pos)\n",
    "print(percentage_neg)"
   ]
  },
  {
   "cell_type": "markdown",
   "metadata": {},
   "source": [
    "# testing set"
   ]
  },
  {
   "cell_type": "code",
   "execution_count": 21,
   "metadata": {},
   "outputs": [
    {
     "name": "stdout",
     "output_type": "stream",
     "text": [
      "0\n",
      "400\n",
      "100.0\n",
      "0.0\n"
     ]
    }
   ],
   "source": [
    "ncount =0\n",
    "pcount=0\n",
    "for value in testing_set:\n",
    "    if value[1] == 'neg':\n",
    "        ncount +=1\n",
    "    elif value[1] == 'pos':\n",
    "        pcount +=1\n",
    "print(ncount)\n",
    "print(pcount)\n",
    "\n",
    "# Calculate total number of reviews\n",
    "total_featureset = len(testing_set)\n",
    "\n",
    "# Calculate percentages\n",
    "percentage_pos = ( pcount/ total_featureset) * 100\n",
    "percentage_neg = (ncount / total_featureset) * 100\n",
    "print(percentage_pos)\n",
    "print(percentage_neg)\n",
    "\n"
   ]
  },
  {
   "cell_type": "markdown",
   "metadata": {},
   "source": [
    "## using shuffle"
   ]
  },
  {
   "cell_type": "code",
   "execution_count": 22,
   "metadata": {},
   "outputs": [],
   "source": [
    "import random\n",
    "random.shuffle(featureset)\n",
    "training_set = featureset[:1600]\n",
    "testing_set = featureset[1600:]"
   ]
  },
  {
   "cell_type": "markdown",
   "metadata": {},
   "source": [
    "# training set after shuffle"
   ]
  },
  {
   "cell_type": "code",
   "execution_count": 23,
   "metadata": {},
   "outputs": [
    {
     "name": "stdout",
     "output_type": "stream",
     "text": [
      "training set after shuffle\n",
      "808\n",
      "792\n",
      "49.5\n",
      "50.5\n"
     ]
    }
   ],
   "source": [
    "print(\"training set after shuffle\")\n",
    "ncount =0\n",
    "pcount=0\n",
    "for value in training_set:\n",
    "    if value[1] == 'neg':\n",
    "        ncount +=1\n",
    "    elif value[1] == 'pos':\n",
    "        pcount +=1\n",
    "print(ncount)\n",
    "print(pcount)\n",
    "\n",
    "# Calculate total number of reviews\n",
    "total_featureset = len(training_set)\n",
    "\n",
    "# Calculate percentages\n",
    "percentage_pos = ( pcount/ total_featureset) * 100\n",
    "percentage_neg = (ncount / total_featureset) * 100\n",
    "print(percentage_pos)\n",
    "print(percentage_neg)"
   ]
  },
  {
   "cell_type": "markdown",
   "metadata": {},
   "source": [
    "# testing set after shuffle"
   ]
  },
  {
   "cell_type": "code",
   "execution_count": 24,
   "metadata": {},
   "outputs": [
    {
     "name": "stdout",
     "output_type": "stream",
     "text": [
      "testing set after shuffle\n",
      "192\n",
      "208\n",
      "52.0\n",
      "48.0\n"
     ]
    }
   ],
   "source": [
    "print(\"testing set after shuffle\")\n",
    "ncount =0\n",
    "pcount=0\n",
    "for value in testing_set:\n",
    "    if value[1] == 'neg':\n",
    "        ncount +=1\n",
    "    elif value[1] == 'pos':\n",
    "        pcount +=1\n",
    "print(ncount)\n",
    "print(pcount)\n",
    "\n",
    "# Calculate total number of reviews\n",
    "total_featureset = len(testing_set)\n",
    "\n",
    "# Calculate percentages\n",
    "percentage_pos = ( pcount/ total_featureset) * 100\n",
    "percentage_neg = (ncount / total_featureset) * 100\n",
    "print(percentage_pos)\n",
    "print(percentage_neg)\n"
   ]
  },
  {
   "cell_type": "markdown",
   "metadata": {},
   "source": [
    "# Training"
   ]
  },
  {
   "cell_type": "code",
   "execution_count": 25,
   "metadata": {},
   "outputs": [],
   "source": [
    "classifier = nltk.NaiveBayesClassifier.train(training_set)"
   ]
  },
  {
   "cell_type": "code",
   "execution_count": 26,
   "metadata": {},
   "outputs": [
    {
     "name": "stdout",
     "output_type": "stream",
     "text": [
      "Classifier's training accuracy is: 87.5625\n",
      "Classifier's testing accuracy is: 83.25\n"
     ]
    }
   ],
   "source": [
    "print(\"Classifier's training accuracy is: {}\".format(nltk.classify.accuracy(classifier, training_set)* 100))\n",
    "print(\"Classifier's testing accuracy is: {}\".format(nltk.classify.accuracy(classifier, testing_set)* 100))"
   ]
  },
  {
   "cell_type": "markdown",
   "metadata": {},
   "source": [
    "### Most informative words"
   ]
  },
  {
   "cell_type": "code",
   "execution_count": 27,
   "metadata": {},
   "outputs": [
    {
     "name": "stdout",
     "output_type": "stream",
     "text": [
      "Most Informative Features\n",
      "               ludicrous = True              neg : pos    =     10.8 : 1.0\n",
      "             outstanding = True              pos : neg    =      9.4 : 1.0\n",
      "                   mulan = True              pos : neg    =      9.2 : 1.0\n",
      "            breathtaking = True              pos : neg    =      8.6 : 1.0\n",
      "                   damon = True              pos : neg    =      8.4 : 1.0\n",
      "                  welles = True              neg : pos    =      7.5 : 1.0\n",
      "                  finest = True              pos : neg    =      6.6 : 1.0\n",
      "                religion = True              pos : neg    =      6.6 : 1.0\n",
      "             wonderfully = True              pos : neg    =      6.5 : 1.0\n",
      "                 freddie = True              neg : pos    =      6.5 : 1.0\n",
      "                  seagal = True              neg : pos    =      6.5 : 1.0\n",
      "                 idiotic = True              neg : pos    =      6.4 : 1.0\n",
      "                  prinze = True              neg : pos    =      6.1 : 1.0\n",
      "                   flynt = True              pos : neg    =      5.8 : 1.0\n",
      "                lebowski = True              pos : neg    =      5.8 : 1.0\n",
      "                lifeless = True              neg : pos    =      5.8 : 1.0\n",
      "                  wasted = True              neg : pos    =      5.6 : 1.0\n",
      "              schumacher = True              neg : pos    =      5.3 : 1.0\n",
      "                   inept = True              neg : pos    =      5.2 : 1.0\n",
      "                    lame = True              neg : pos    =      5.1 : 1.0\n",
      "                   anger = True              pos : neg    =      5.1 : 1.0\n",
      "                  tucker = True              pos : neg    =      5.1 : 1.0\n",
      "                  poorly = True              neg : pos    =      5.1 : 1.0\n",
      "                  alicia = True              neg : pos    =      4.9 : 1.0\n",
      "            embarrassing = True              neg : pos    =      4.9 : 1.0\n",
      "                 tedious = True              neg : pos    =      4.9 : 1.0\n",
      "                    bore = True              neg : pos    =      4.9 : 1.0\n",
      "                   miles = True              pos : neg    =      4.9 : 1.0\n",
      "             beautifully = True              pos : neg    =      4.8 : 1.0\n",
      "              ridiculous = True              neg : pos    =      4.8 : 1.0\n",
      "                   awful = True              neg : pos    =      4.7 : 1.0\n",
      "                     sat = True              neg : pos    =      4.7 : 1.0\n",
      "                    alas = True              neg : pos    =      4.6 : 1.0\n",
      "                 garbage = True              neg : pos    =      4.5 : 1.0\n",
      "              whatsoever = True              neg : pos    =      4.4 : 1.0\n",
      "                  random = True              neg : pos    =      4.4 : 1.0\n",
      "               portrayed = True              pos : neg    =      4.4 : 1.0\n",
      "                   inane = True              neg : pos    =      4.3 : 1.0\n",
      "                 unfunny = True              neg : pos    =      4.3 : 1.0\n",
      "                   worst = True              neg : pos    =      4.2 : 1.0\n",
      "                   bland = True              neg : pos    =      4.2 : 1.0\n",
      "                    dull = True              neg : pos    =      4.2 : 1.0\n",
      "                  stupid = True              neg : pos    =      4.1 : 1.0\n",
      "                terrific = True              pos : neg    =      4.1 : 1.0\n",
      "               fantastic = True              pos : neg    =      4.0 : 1.0\n",
      "                     era = True              pos : neg    =      4.0 : 1.0\n",
      "                 breasts = True              neg : pos    =      4.0 : 1.0\n",
      "                    mess = True              neg : pos    =      4.0 : 1.0\n",
      "                      na = True              pos : neg    =      3.9 : 1.0\n",
      "                  spacey = True              pos : neg    =      3.9 : 1.0\n",
      "               painfully = True              neg : pos    =      3.9 : 1.0\n",
      "                anywhere = True              neg : pos    =      3.9 : 1.0\n",
      "                   waste = True              neg : pos    =      3.9 : 1.0\n",
      "               pointless = True              neg : pos    =      3.8 : 1.0\n",
      "                ordinary = True              pos : neg    =      3.7 : 1.0\n",
      "                   jolie = True              neg : pos    =      3.7 : 1.0\n",
      "                  allows = True              pos : neg    =      3.7 : 1.0\n",
      "              nomination = True              pos : neg    =      3.7 : 1.0\n",
      "                     eve = True              neg : pos    =      3.7 : 1.0\n",
      "                   snake = True              neg : pos    =      3.7 : 1.0\n",
      "               laughable = True              neg : pos    =      3.6 : 1.0\n",
      "                  colors = True              pos : neg    =      3.6 : 1.0\n",
      "                 decades = True              pos : neg    =      3.6 : 1.0\n",
      "                  hollow = True              neg : pos    =      3.5 : 1.0\n",
      "              delightful = True              pos : neg    =      3.5 : 1.0\n",
      "                   hanks = True              pos : neg    =      3.5 : 1.0\n",
      "                    diaz = True              pos : neg    =      3.5 : 1.0\n",
      "               innocence = True              pos : neg    =      3.5 : 1.0\n",
      "               memorable = True              pos : neg    =      3.5 : 1.0\n",
      "                  boring = True              neg : pos    =      3.4 : 1.0\n",
      "                  german = True              pos : neg    =      3.4 : 1.0\n",
      "              friendship = True              pos : neg    =      3.4 : 1.0\n",
      "                   badly = True              neg : pos    =      3.4 : 1.0\n",
      "                terribly = True              neg : pos    =      3.4 : 1.0\n",
      "                terrible = True              neg : pos    =      3.4 : 1.0\n",
      "                horribly = True              neg : pos    =      3.3 : 1.0\n",
      "                  mature = True              pos : neg    =      3.3 : 1.0\n",
      "                    jedi = True              pos : neg    =      3.3 : 1.0\n",
      "                 stiller = True              pos : neg    =      3.3 : 1.0\n",
      "                    skip = True              neg : pos    =      3.3 : 1.0\n",
      "               portrayal = True              pos : neg    =      3.3 : 1.0\n",
      "                contrast = True              pos : neg    =      3.2 : 1.0\n",
      "                  subtle = True              pos : neg    =      3.2 : 1.0\n",
      "              refreshing = True              pos : neg    =      3.2 : 1.0\n",
      "                  bother = True              neg : pos    =      3.2 : 1.0\n",
      "                   damme = True              neg : pos    =      3.2 : 1.0\n",
      "           uninteresting = True              neg : pos    =      3.1 : 1.0\n",
      "            nevertheless = True              pos : neg    =      3.1 : 1.0\n",
      "               perfectly = True              pos : neg    =      3.1 : 1.0\n",
      "                    rick = True              neg : pos    =      3.1 : 1.0\n",
      "                   randy = True              neg : pos    =      3.1 : 1.0\n",
      "                  ripley = True              pos : neg    =      3.1 : 1.0\n",
      "                    tony = True              pos : neg    =      3.1 : 1.0\n",
      "                 generic = True              neg : pos    =      3.0 : 1.0\n",
      "               excellent = True              pos : neg    =      3.0 : 1.0\n",
      "                 cameron = True              pos : neg    =      3.0 : 1.0\n",
      "              remarkable = True              pos : neg    =      3.0 : 1.0\n",
      "                     joy = True              pos : neg    =      3.0 : 1.0\n",
      "                  lonely = True              pos : neg    =      3.0 : 1.0\n",
      "               endearing = True              pos : neg    =      3.0 : 1.0\n",
      "              henstridge = True              neg : pos    =      2.9 : 1.0\n",
      "                  sports = True              neg : pos    =      2.9 : 1.0\n",
      "            conventional = True              pos : neg    =      2.9 : 1.0\n",
      "                visually = True              pos : neg    =      2.9 : 1.0\n",
      "                 culture = True              pos : neg    =      2.9 : 1.0\n",
      "                   lucas = True              pos : neg    =      2.9 : 1.0\n",
      "                 touches = True              pos : neg    =      2.9 : 1.0\n",
      "                   fairy = True              pos : neg    =      2.9 : 1.0\n",
      "                   reese = True              pos : neg    =      2.9 : 1.0\n",
      "               animation = True              pos : neg    =      2.9 : 1.0\n",
      "                portrays = True              pos : neg    =      2.8 : 1.0\n",
      "                  superb = True              pos : neg    =      2.8 : 1.0\n",
      "                   julie = True              neg : pos    =      2.8 : 1.0\n",
      "             stereotypes = True              neg : pos    =      2.8 : 1.0\n",
      "                    fits = True              pos : neg    =      2.8 : 1.0\n",
      "              historical = True              pos : neg    =      2.8 : 1.0\n",
      "           understanding = True              pos : neg    =      2.8 : 1.0\n",
      "                   blame = True              neg : pos    =      2.8 : 1.0\n",
      "                   spice = True              neg : pos    =      2.8 : 1.0\n",
      "              remembered = True              pos : neg    =      2.8 : 1.0\n",
      "                   fails = True              neg : pos    =      2.8 : 1.0\n",
      "                  flawed = True              pos : neg    =      2.8 : 1.0\n",
      "                remotely = True              neg : pos    =      2.8 : 1.0\n",
      "                 freedom = True              pos : neg    =      2.7 : 1.0\n",
      "                   blair = True              neg : pos    =      2.7 : 1.0\n",
      "                  insult = True              neg : pos    =      2.7 : 1.0\n",
      "                   trite = True              neg : pos    =      2.7 : 1.0\n",
      "                      17 = True              pos : neg    =      2.7 : 1.0\n",
      "                    anna = True              pos : neg    =      2.7 : 1.0\n",
      "                   jesus = True              pos : neg    =      2.7 : 1.0\n",
      "                   quiet = True              pos : neg    =      2.7 : 1.0\n",
      "                      80 = True              neg : pos    =      2.7 : 1.0\n",
      "                    zero = True              neg : pos    =      2.7 : 1.0\n",
      "                     gon = True              pos : neg    =      2.7 : 1.0\n",
      "                  truman = True              pos : neg    =      2.7 : 1.0\n",
      "                 unusual = True              pos : neg    =      2.7 : 1.0\n",
      "                 frankly = True              neg : pos    =      2.7 : 1.0\n",
      "               realistic = True              pos : neg    =      2.6 : 1.0\n",
      "                 crafted = True              pos : neg    =      2.6 : 1.0\n",
      "                 delight = True              pos : neg    =      2.6 : 1.0\n",
      "                  raised = True              pos : neg    =      2.6 : 1.0\n",
      "                deserves = True              pos : neg    =      2.6 : 1.0\n",
      "             fascinating = True              pos : neg    =      2.6 : 1.0\n",
      "           extraordinary = True              pos : neg    =      2.6 : 1.0\n",
      "                  paxton = True              pos : neg    =      2.6 : 1.0\n",
      "                  period = True              pos : neg    =      2.6 : 1.0\n",
      "                    pitt = True              pos : neg    =      2.6 : 1.0\n",
      "               spielberg = True              pos : neg    =      2.6 : 1.0\n",
      "                  sidney = True              pos : neg    =      2.6 : 1.0\n",
      "                    dumb = True              neg : pos    =      2.6 : 1.0\n",
      "                  guilty = True              neg : pos    =      2.6 : 1.0\n",
      "                   notch = True              pos : neg    =      2.6 : 1.0\n",
      "               brilliant = True              pos : neg    =      2.6 : 1.0\n",
      "                develops = True              pos : neg    =      2.6 : 1.0\n",
      "                strength = True              pos : neg    =      2.6 : 1.0\n",
      "             masterpiece = True              pos : neg    =      2.6 : 1.0\n",
      "                  jackal = True              neg : pos    =      2.5 : 1.0\n",
      "                   color = True              pos : neg    =      2.5 : 1.0\n",
      "                    mood = True              pos : neg    =      2.5 : 1.0\n",
      "             experiences = True              pos : neg    =      2.5 : 1.0\n",
      "                 focuses = True              pos : neg    =      2.5 : 1.0\n",
      "              satisfying = True              pos : neg    =      2.5 : 1.0\n",
      "                   clich = True              neg : pos    =      2.5 : 1.0\n",
      "                   naked = True              neg : pos    =      2.5 : 1.0\n",
      "                    mass = True              pos : neg    =      2.5 : 1.0\n",
      "             shakespeare = True              pos : neg    =      2.5 : 1.0\n",
      "                believes = True              pos : neg    =      2.5 : 1.0\n",
      "                  steals = True              pos : neg    =      2.5 : 1.0\n",
      "                 perfect = True              pos : neg    =      2.5 : 1.0\n",
      "               effective = True              pos : neg    =      2.5 : 1.0\n",
      "                 luckily = True              pos : neg    =      2.5 : 1.0\n",
      "                stunning = True              pos : neg    =      2.5 : 1.0\n",
      "                 anymore = True              pos : neg    =      2.5 : 1.0\n",
      "             brilliantly = True              pos : neg    =      2.5 : 1.0\n",
      "            contemporary = True              pos : neg    =      2.5 : 1.0\n",
      "                 fincher = True              pos : neg    =      2.5 : 1.0\n",
      "               malkovich = True              pos : neg    =      2.5 : 1.0\n",
      "                    bomb = True              neg : pos    =      2.5 : 1.0\n",
      "                     gag = True              neg : pos    =      2.5 : 1.0\n",
      "                     woo = True              neg : pos    =      2.5 : 1.0\n",
      "                 italian = True              pos : neg    =      2.5 : 1.0\n",
      "               prisoners = True              pos : neg    =      2.5 : 1.0\n",
      "                 justice = True              pos : neg    =      2.5 : 1.0\n",
      "               americans = True              pos : neg    =      2.4 : 1.0\n",
      "                     sub = True              neg : pos    =      2.4 : 1.0\n",
      "                touching = True              pos : neg    =      2.4 : 1.0\n",
      "                   alice = True              pos : neg    =      2.4 : 1.0\n",
      "                 hopkins = True              pos : neg    =      2.4 : 1.0\n",
      "                  norton = True              pos : neg    =      2.4 : 1.0\n",
      "                  cliche = True              neg : pos    =      2.4 : 1.0\n",
      "                 refuses = True              pos : neg    =      2.4 : 1.0\n",
      "             traditional = True              pos : neg    =      2.4 : 1.0\n",
      "                  lethal = True              neg : pos    =      2.4 : 1.0\n",
      "                supposed = True              neg : pos    =      2.4 : 1.0\n",
      "                  highly = True              pos : neg    =      2.4 : 1.0\n",
      "                     ape = True              neg : pos    =      2.4 : 1.0\n",
      "                   saved = True              neg : pos    =      2.4 : 1.0\n",
      "               promising = True              neg : pos    =      2.4 : 1.0\n",
      "                  mildly = True              neg : pos    =      2.4 : 1.0\n",
      "                   flaws = True              pos : neg    =      2.4 : 1.0\n",
      "               structure = True              pos : neg    =      2.4 : 1.0\n",
      "                  themes = True              pos : neg    =      2.4 : 1.0\n",
      "                     obi = True              pos : neg    =      2.4 : 1.0\n",
      "                 natural = True              pos : neg    =      2.4 : 1.0\n",
      "                powerful = True              pos : neg    =      2.4 : 1.0\n",
      "               explained = True              neg : pos    =      2.4 : 1.0\n",
      "                   loose = True              pos : neg    =      2.4 : 1.0\n",
      "                    matt = True              pos : neg    =      2.4 : 1.0\n",
      "                   study = True              pos : neg    =      2.4 : 1.0\n",
      "                  harris = True              pos : neg    =      2.4 : 1.0\n",
      "                   tears = True              pos : neg    =      2.4 : 1.0\n",
      "                 failure = True              neg : pos    =      2.3 : 1.0\n",
      "                    adam = True              neg : pos    =      2.3 : 1.0\n",
      "               screaming = True              neg : pos    =      2.3 : 1.0\n",
      "                   signs = True              neg : pos    =      2.3 : 1.0\n",
      "             emotionally = True              pos : neg    =      2.3 : 1.0\n",
      "                  dragon = True              pos : neg    =      2.3 : 1.0\n",
      "                  flight = True              pos : neg    =      2.3 : 1.0\n",
      "                  arthur = True              neg : pos    =      2.3 : 1.0\n",
      "                 gabriel = True              neg : pos    =      2.3 : 1.0\n",
      "               political = True              pos : neg    =      2.3 : 1.0\n",
      "                  viewed = True              pos : neg    =      2.3 : 1.0\n",
      "                   today = True              pos : neg    =      2.3 : 1.0\n",
      "                   worse = True              neg : pos    =      2.3 : 1.0\n",
      "               wonderful = True              pos : neg    =      2.3 : 1.0\n",
      "                    epic = True              pos : neg    =      2.3 : 1.0\n",
      "                   drunk = True              neg : pos    =      2.3 : 1.0\n",
      "                  nicely = True              pos : neg    =      2.3 : 1.0\n",
      "                   laura = True              pos : neg    =      2.3 : 1.0\n",
      "                 vehicle = True              neg : pos    =      2.3 : 1.0\n",
      "               hilarious = True              pos : neg    =      2.3 : 1.0\n",
      "              compelling = True              pos : neg    =      2.3 : 1.0\n",
      "                    wars = True              pos : neg    =      2.3 : 1.0\n",
      "                  jungle = True              neg : pos    =      2.3 : 1.0\n",
      "                 natasha = True              neg : pos    =      2.3 : 1.0\n",
      "                    crap = True              neg : pos    =      2.3 : 1.0\n",
      "                   entry = True              neg : pos    =      2.3 : 1.0\n",
      "                likeable = True              pos : neg    =      2.3 : 1.0\n",
      "               nicholson = True              pos : neg    =      2.3 : 1.0\n",
      "                 stewart = True              pos : neg    =      2.3 : 1.0\n",
      "                 teacher = True              pos : neg    =      2.3 : 1.0\n",
      "                  normal = True              pos : neg    =      2.3 : 1.0\n",
      "                  batman = True              neg : pos    =      2.3 : 1.0\n",
      "                   sides = True              pos : neg    =      2.3 : 1.0\n",
      "                 dressed = True              neg : pos    =      2.3 : 1.0\n",
      "                    fake = True              neg : pos    =      2.3 : 1.0\n",
      "                    niro = True              pos : neg    =      2.2 : 1.0\n",
      "                 attacks = True              pos : neg    =      2.2 : 1.0\n",
      "               childhood = True              pos : neg    =      2.2 : 1.0\n",
      "                   equal = True              pos : neg    =      2.2 : 1.0\n",
      "                    gags = True              neg : pos    =      2.2 : 1.0\n",
      "                  became = True              pos : neg    =      2.2 : 1.0\n",
      "                   grade = True              neg : pos    =      2.2 : 1.0\n",
      "                  loving = True              pos : neg    =      2.2 : 1.0\n",
      "                    pain = True              pos : neg    =      2.2 : 1.0\n",
      "                 tragedy = True              pos : neg    =      2.2 : 1.0\n",
      "                  voices = True              pos : neg    =      2.2 : 1.0\n",
      "                    warm = True              pos : neg    =      2.2 : 1.0\n",
      "                    bang = True              neg : pos    =      2.2 : 1.0\n",
      "                 connery = True              neg : pos    =      2.2 : 1.0\n",
      "                   value = True              neg : pos    =      2.2 : 1.0\n",
      "           disappointing = True              neg : pos    =      2.2 : 1.0\n",
      "                    snow = True              pos : neg    =      2.2 : 1.0\n",
      "                    rape = True              neg : pos    =      2.2 : 1.0\n",
      "                   teens = True              neg : pos    =      2.2 : 1.0\n",
      "                   harry = True              neg : pos    =      2.2 : 1.0\n",
      "                 nowhere = True              neg : pos    =      2.2 : 1.0\n",
      "                   helps = True              pos : neg    =      2.2 : 1.0\n",
      "                  winner = True              pos : neg    =      2.2 : 1.0\n",
      "                   bunch = True              neg : pos    =      2.2 : 1.0\n",
      "                politics = True              pos : neg    =      2.2 : 1.0\n",
      "               intensity = True              pos : neg    =      2.2 : 1.0\n",
      "               knowledge = True              pos : neg    =      2.2 : 1.0\n",
      "              depressing = True              neg : pos    =      2.2 : 1.0\n",
      "                   sadly = True              neg : pos    =      2.2 : 1.0\n",
      "                   coach = True              neg : pos    =      2.2 : 1.0\n",
      "                 crystal = True              neg : pos    =      2.2 : 1.0\n",
      "                  gordon = True              neg : pos    =      2.2 : 1.0\n",
      "               narration = True              pos : neg    =      2.2 : 1.0\n",
      "                    noir = True              pos : neg    =      2.2 : 1.0\n",
      "              thankfully = True              pos : neg    =      2.2 : 1.0\n",
      "                   oscar = True              pos : neg    =      2.2 : 1.0\n",
      "               chemistry = True              pos : neg    =      2.2 : 1.0\n",
      "               abilities = True              neg : pos    =      2.2 : 1.0\n",
      "                  deeply = True              pos : neg    =      2.2 : 1.0\n",
      "                     via = True              pos : neg    =      2.2 : 1.0\n",
      "                 painful = True              neg : pos    =      2.2 : 1.0\n",
      "                   solid = True              pos : neg    =      2.2 : 1.0\n",
      "                      54 = True              neg : pos    =      2.2 : 1.0\n",
      "                     8mm = True              neg : pos    =      2.2 : 1.0\n",
      "                    bats = True              neg : pos    =      2.2 : 1.0\n",
      "                  headed = True              neg : pos    =      2.2 : 1.0\n",
      "                greatest = True              pos : neg    =      2.2 : 1.0\n",
      "               inventive = True              pos : neg    =      2.2 : 1.0\n",
      "                   occur = True              pos : neg    =      2.2 : 1.0\n",
      "                  tarzan = True              pos : neg    =      2.2 : 1.0\n",
      "                   image = True              pos : neg    =      2.1 : 1.0\n",
      "                  makers = True              neg : pos    =      2.1 : 1.0\n",
      "                  taylor = True              neg : pos    =      2.1 : 1.0\n",
      "                  please = True              neg : pos    =      2.1 : 1.0\n"
     ]
    }
   ],
   "source": [
    "report = classifier.show_most_informative_features(300)"
   ]
  },
  {
   "cell_type": "code",
   "execution_count": 28,
   "metadata": {},
   "outputs": [],
   "source": [
    "important_features = classifier.most_informative_features(300)\n"
   ]
  },
  {
   "cell_type": "code",
   "execution_count": null,
   "metadata": {},
   "outputs": [],
   "source": [
    "important_features"
   ]
  },
  {
   "cell_type": "code",
   "execution_count": 30,
   "metadata": {},
   "outputs": [
    {
     "name": "stdout",
     "output_type": "stream",
     "text": [
      "Top 10 features with highest pos:neg ratios:\n",
      "outstanding: 9.37\n",
      "mulan: 9.18\n",
      "breathtaking: 8.60\n",
      "damon: 8.37\n",
      "finest: 6.58\n",
      "religion: 6.56\n",
      "wonderfully: 6.54\n",
      "flynt: 5.78\n",
      "lebowski: 5.78\n",
      "anger: 5.10\n",
      "\n",
      "Top 10 features with highest neg:pos ratios:\n",
      "ludicrous: 10.78\n",
      "welles: 7.52\n",
      "freddie: 6.47\n",
      "seagal: 6.47\n",
      "idiotic: 6.43\n",
      "prinze: 6.08\n",
      "lifeless: 5.77\n",
      "wasted: 5.55\n",
      "schumacher: 5.29\n",
      "inept: 5.20\n"
     ]
    }
   ],
   "source": [
    "\n",
    "# Function to get top features with highest pos:neg and neg:pos ratios\n",
    "def get_top_ratios(classifier, n=300, top_n=10):\n",
    "    # Get most informative features\n",
    "    most_informative = classifier.most_informative_features(n)\n",
    "\n",
    "    top_pos_neg = []\n",
    "    top_neg_pos = []\n",
    "\n",
    "    for fname, _ in most_informative:\n",
    "        pos_ratio = classifier._feature_probdist['pos', fname].prob(True) / \\\n",
    "                    classifier._feature_probdist['neg', fname].prob(True)\n",
    "        neg_ratio = classifier._feature_probdist['neg', fname].prob(True) / \\\n",
    "                    classifier._feature_probdist['pos', fname].prob(True)\n",
    "\n",
    "        top_pos_neg.append((fname, pos_ratio))\n",
    "        top_neg_pos.append((fname, neg_ratio))\n",
    "\n",
    "    # Sort features by ratios\n",
    "    top_pos_neg.sort(key=lambda x: x[1], reverse=True)\n",
    "    top_neg_pos.sort(key=lambda x: x[1], reverse=True)\n",
    "\n",
    "    # Select top features\n",
    "    top_pos_neg = top_pos_neg[:top_n]\n",
    "    top_neg_pos = top_neg_pos[:top_n]\n",
    "\n",
    "    return top_pos_neg, top_neg_pos\n",
    "\n",
    "# Get top 10 features with highest pos:neg and neg:pos ratios\n",
    "top_pos_neg_features, top_neg_pos_features = get_top_ratios(classifier, n=300, top_n=10)\n",
    "\n",
    "print(\"Top 10 features with highest pos:neg ratios:\")\n",
    "for feature, ratio in top_pos_neg_features:\n",
    "    print(f\"{feature}: {ratio:.2f}\")\n",
    "\n",
    "print(\"\\nTop 10 features with highest neg:pos ratios:\")\n",
    "for feature, ratio in top_neg_pos_features:\n",
    "    print(f\"{feature}: {ratio:.2f}\")\n"
   ]
  },
  {
   "cell_type": "code",
   "execution_count": 31,
   "metadata": {},
   "outputs": [
    {
     "name": "stdout",
     "output_type": "stream",
     "text": [
      "Top 100 features for training:\n",
      "['outstanding', 'mulan', 'breathtaking', 'damon', 'finest', 'religion', 'wonderfully', 'flynt', 'lebowski', 'anger', 'tucker', 'miles', 'beautifully', 'portrayed', 'terrific', 'fantastic', 'era', 'na', 'spacey', 'ordinary', 'allows', 'nomination', 'colors', 'decades', 'delightful', 'hanks', 'diaz', 'innocence', 'memorable', 'german', 'friendship', 'mature', 'jedi', 'stiller', 'portrayal', 'contrast', 'subtle', 'refreshing', 'nevertheless', 'perfectly', 'ripley', 'tony', 'excellent', 'cameron', 'remarkable', 'joy', 'lonely', 'endearing', 'conventional', 'visually', 'ludicrous', 'welles', 'freddie', 'seagal', 'idiotic', 'prinze', 'lifeless', 'wasted', 'schumacher', 'inept', 'lame', 'poorly', 'alicia', 'embarrassing', 'tedious', 'bore', 'ridiculous', 'sat', 'awful', 'alas', 'garbage', 'whatsoever', 'random', 'inane', 'unfunny', 'worst', 'bland', 'dull', 'stupid', 'breasts', 'mess', 'painfully', 'anywhere', 'waste', 'pointless', 'jolie', 'eve', 'snake', 'laughable', 'hollow', 'boring', 'badly', 'terribly', 'terrible', 'horribly', 'skip', 'bother', 'damme', 'uninteresting', 'rick']\n"
     ]
    }
   ],
   "source": [
    "from nltk.classify import NaiveBayesClassifier\n",
    "\n",
    "# Assuming you have a training set prepared\n",
    "# Example: training_set = [({'feature1': True, 'feature2': False}, 'pos'), ...]\n",
    "\n",
    "# Train your Naive Bayes classifier\n",
    "classifier = NaiveBayesClassifier.train(training_set)\n",
    "\n",
    "# Function to get top features with highest pos:neg and neg:pos ratios\n",
    "def get_top_ratios(classifier, n=300, top_n=25):\n",
    "    # Get most informative features\n",
    "    most_informative = classifier.most_informative_features(n)\n",
    "\n",
    "    top_pos_neg = []\n",
    "    top_neg_pos = []\n",
    "\n",
    "    for fname, _ in most_informative:\n",
    "        pos_ratio = classifier._feature_probdist['pos', fname].prob(True) / \\\n",
    "                    classifier._feature_probdist['neg', fname].prob(True)\n",
    "        neg_ratio = classifier._feature_probdist['neg', fname].prob(True) / \\\n",
    "                    classifier._feature_probdist['pos', fname].prob(True)\n",
    "\n",
    "        top_pos_neg.append((fname, pos_ratio))\n",
    "        top_neg_pos.append((fname, neg_ratio))\n",
    "\n",
    "    # Sort features by ratios\n",
    "    top_pos_neg.sort(key=lambda x: x[1], reverse=True)\n",
    "    top_neg_pos.sort(key=lambda x: x[1], reverse=True)\n",
    "\n",
    "    # Select top features\n",
    "    top_pos_neg = top_pos_neg[:top_n]\n",
    "    top_neg_pos = top_neg_pos[:top_n]\n",
    "\n",
    "    # Extract feature names\n",
    "    top_features = [feature for feature, _ in top_pos_neg] + [feature for feature, _ in top_neg_pos]\n",
    "\n",
    "    return top_features\n",
    "\n",
    "# Get top 50 features (25 from highest pos:neg and 25 from highest neg:pos ratios)\n",
    "top_features = get_top_ratios(classifier, n=300, top_n=50)\n",
    "\n",
    "print(\"Top 100 features for training:\")\n",
    "print(top_features)\n"
   ]
  },
  {
   "cell_type": "code",
   "execution_count": 32,
   "metadata": {},
   "outputs": [],
   "source": [
    "word_features = top_features"
   ]
  },
  {
   "cell_type": "code",
   "execution_count": 33,
   "metadata": {},
   "outputs": [],
   "source": [
    "def search_features(doc):\n",
    "    words = set(doc)\n",
    "    features = {}\n",
    "    for w in word_features:\n",
    "        features[w] = (w in words)\n",
    "    return features"
   ]
  },
  {
   "cell_type": "code",
   "execution_count": 34,
   "metadata": {},
   "outputs": [
    {
     "data": {
      "text/plain": [
       "{'outstanding': False,\n",
       " 'mulan': False,\n",
       " 'breathtaking': False,\n",
       " 'damon': False,\n",
       " 'finest': False,\n",
       " 'religion': False,\n",
       " 'wonderfully': False,\n",
       " 'flynt': False,\n",
       " 'lebowski': False,\n",
       " 'anger': False,\n",
       " 'tucker': False,\n",
       " 'miles': False,\n",
       " 'beautifully': False,\n",
       " 'portrayed': False,\n",
       " 'terrific': False,\n",
       " 'fantastic': False,\n",
       " 'era': False,\n",
       " 'na': False,\n",
       " 'spacey': False,\n",
       " 'ordinary': False,\n",
       " 'allows': False,\n",
       " 'nomination': False,\n",
       " 'colors': False,\n",
       " 'decades': False,\n",
       " 'delightful': False,\n",
       " 'hanks': False,\n",
       " 'diaz': False,\n",
       " 'innocence': False,\n",
       " 'memorable': False,\n",
       " 'german': False,\n",
       " 'friendship': False,\n",
       " 'mature': False,\n",
       " 'jedi': False,\n",
       " 'stiller': False,\n",
       " 'portrayal': False,\n",
       " 'contrast': False,\n",
       " 'subtle': False,\n",
       " 'refreshing': False,\n",
       " 'nevertheless': False,\n",
       " 'perfectly': False,\n",
       " 'ripley': False,\n",
       " 'tony': False,\n",
       " 'excellent': False,\n",
       " 'cameron': False,\n",
       " 'remarkable': False,\n",
       " 'joy': False,\n",
       " 'lonely': False,\n",
       " 'endearing': False,\n",
       " 'conventional': False,\n",
       " 'visually': False,\n",
       " 'ludicrous': False,\n",
       " 'welles': False,\n",
       " 'freddie': False,\n",
       " 'seagal': False,\n",
       " 'idiotic': False,\n",
       " 'prinze': False,\n",
       " 'lifeless': False,\n",
       " 'wasted': False,\n",
       " 'schumacher': False,\n",
       " 'inept': False,\n",
       " 'lame': False,\n",
       " 'poorly': False,\n",
       " 'alicia': False,\n",
       " 'embarrassing': False,\n",
       " 'tedious': False,\n",
       " 'bore': False,\n",
       " 'ridiculous': False,\n",
       " 'sat': False,\n",
       " 'awful': False,\n",
       " 'alas': False,\n",
       " 'garbage': False,\n",
       " 'whatsoever': False,\n",
       " 'random': False,\n",
       " 'inane': False,\n",
       " 'unfunny': False,\n",
       " 'worst': False,\n",
       " 'bland': False,\n",
       " 'dull': False,\n",
       " 'stupid': False,\n",
       " 'breasts': False,\n",
       " 'mess': True,\n",
       " 'painfully': False,\n",
       " 'anywhere': False,\n",
       " 'waste': False,\n",
       " 'pointless': False,\n",
       " 'jolie': False,\n",
       " 'eve': False,\n",
       " 'snake': False,\n",
       " 'laughable': False,\n",
       " 'hollow': False,\n",
       " 'boring': False,\n",
       " 'badly': False,\n",
       " 'terribly': True,\n",
       " 'terrible': False,\n",
       " 'horribly': False,\n",
       " 'skip': True,\n",
       " 'bother': False,\n",
       " 'damme': False,\n",
       " 'uninteresting': False,\n",
       " 'rick': False}"
      ]
     },
     "execution_count": 34,
     "metadata": {},
     "output_type": "execute_result"
    }
   ],
   "source": [
    "search_features(docs[0][0])"
   ]
  },
  {
   "cell_type": "code",
   "execution_count": 35,
   "metadata": {},
   "outputs": [],
   "source": [
    "featureset = [(search_features(doc), category) for (doc, category) in docs]"
   ]
  },
  {
   "cell_type": "code",
   "execution_count": 36,
   "metadata": {},
   "outputs": [],
   "source": [
    "training_set = featureset[:1600]\n",
    "testing_set = featureset[1600:]"
   ]
  },
  {
   "cell_type": "code",
   "execution_count": 37,
   "metadata": {},
   "outputs": [],
   "source": [
    "classifier = nltk.NaiveBayesClassifier.train(training_set)"
   ]
  },
  {
   "cell_type": "code",
   "execution_count": 38,
   "metadata": {},
   "outputs": [
    {
     "name": "stdout",
     "output_type": "stream",
     "text": [
      "Classifier's training accuracy is: 81.5625\n",
      "Classifier's testing accuracy is: 79.25\n"
     ]
    }
   ],
   "source": [
    "print(\"Classifier's training accuracy is: {}\".format(nltk.classify.accuracy(classifier, training_set)* 100))\n",
    "print(\"Classifier's testing accuracy is: {}\".format(nltk.classify.accuracy(classifier, testing_set)* 100))"
   ]
  },
  {
   "cell_type": "code",
   "execution_count": null,
   "metadata": {},
   "outputs": [],
   "source": []
  },
  {
   "cell_type": "code",
   "execution_count": null,
   "metadata": {},
   "outputs": [],
   "source": []
  },
  {
   "cell_type": "markdown",
   "metadata": {},
   "source": [
    "# Saving"
   ]
  },
  {
   "cell_type": "code",
   "execution_count": 39,
   "metadata": {},
   "outputs": [],
   "source": [
    "import pickle\n",
    "save_classifier = open(\"naive_bayes_model.pkl\",\"wb\")\n",
    "pickle.dump(classifier, save_classifier)\n",
    "save_classifier.close()"
   ]
  },
  {
   "cell_type": "code",
   "execution_count": 40,
   "metadata": {},
   "outputs": [],
   "source": [
    "classifier_f = open(\"naive_bayes_model.pkl\",\"rb\")\n",
    "classifier = pickle.load(classifier_f)\n",
    "classifier_f.close()"
   ]
  },
  {
   "cell_type": "code",
   "execution_count": 41,
   "metadata": {},
   "outputs": [],
   "source": [
    "custom_review = \"I hated the restaurant. It was a disaster eating there. Poor service, arrogant waiters.\"\n",
    "\n"
   ]
  },
  {
   "cell_type": "code",
   "execution_count": 42,
   "metadata": {},
   "outputs": [
    {
     "ename": "NameError",
     "evalue": "name 'document_features' is not defined",
     "output_type": "error",
     "traceback": [
      "\u001b[1;31m---------------------------------------------------------------------------\u001b[0m",
      "\u001b[1;31mNameError\u001b[0m                                 Traceback (most recent call last)",
      "Cell \u001b[1;32mIn[42], line 3\u001b[0m\n\u001b[0;32m      1\u001b[0m \u001b[38;5;28;01mfrom\u001b[39;00m \u001b[38;5;21;01mnltk\u001b[39;00m \u001b[38;5;28;01mimport\u001b[39;00m word_tokenize\n\u001b[0;32m      2\u001b[0m custom_review_tokens \u001b[38;5;241m=\u001b[39m word_tokenize(custom_review)\n\u001b[1;32m----> 3\u001b[0m custom_review_set \u001b[38;5;241m=\u001b[39m document_features(custom_review_tokens)\n\u001b[0;32m      4\u001b[0m \u001b[38;5;28mprint\u001b[39m(classifier\u001b[38;5;241m.\u001b[39mclassify(custom_review_set))\n",
      "\u001b[1;31mNameError\u001b[0m: name 'document_features' is not defined"
     ]
    }
   ],
   "source": [
    "from nltk import word_tokenize\n",
    "custom_review_tokens = word_tokenize(custom_review)\n",
    "custom_review_set = document_features(custom_review_tokens)\n",
    "print(classifier.classify(custom_review_set))\n",
    "\n"
   ]
  },
  {
   "cell_type": "code",
   "execution_count": null,
   "metadata": {},
   "outputs": [
    {
     "ename": "NameError",
     "evalue": "name 'custom_review_set' is not defined",
     "output_type": "error",
     "traceback": [
      "\u001b[1;31m---------------------------------------------------------------------------\u001b[0m",
      "\u001b[1;31mNameError\u001b[0m                                 Traceback (most recent call last)",
      "Cell \u001b[1;32mIn[103], line 1\u001b[0m\n\u001b[1;32m----> 1\u001b[0m prob_result \u001b[38;5;241m=\u001b[39m classifier\u001b[38;5;241m.\u001b[39mprob_classify(custom_review_set)\n\u001b[0;32m      2\u001b[0m \u001b[38;5;28mprint\u001b[39m(prob_result\u001b[38;5;241m.\u001b[39mmax())\n\u001b[0;32m      3\u001b[0m \u001b[38;5;28mprint\u001b[39m(prob_result\u001b[38;5;241m.\u001b[39mprob(\u001b[38;5;124m\"\u001b[39m\u001b[38;5;124mpos\u001b[39m\u001b[38;5;124m\"\u001b[39m))\n",
      "\u001b[1;31mNameError\u001b[0m: name 'custom_review_set' is not defined"
     ]
    }
   ],
   "source": [
    "prob_result = classifier.prob_classify(custom_review_set)\n",
    "print(prob_result.max())\n",
    "print(prob_result.prob(\"pos\"))\n",
    "print(prob_result.prob(\"neg\"))"
   ]
  },
  {
   "cell_type": "code",
   "execution_count": null,
   "metadata": {},
   "outputs": [],
   "source": []
  }
 ],
 "metadata": {
  "kernelspec": {
   "display_name": "Python 3",
   "language": "python",
   "name": "python3"
  },
  "language_info": {
   "codemirror_mode": {
    "name": "ipython",
    "version": 3
   },
   "file_extension": ".py",
   "mimetype": "text/x-python",
   "name": "python",
   "nbconvert_exporter": "python",
   "pygments_lexer": "ipython3",
   "version": "3.11.5"
  }
 },
 "nbformat": 4,
 "nbformat_minor": 2
}
