{
 "cells": [
  {
   "cell_type": "code",
   "execution_count": 16,
   "metadata": {},
   "outputs": [],
   "source": [
    "import pandas as pd\n",
    "\n",
    "from sklearn.utils import shuffle\n",
    "df = pd.read_csv(\n",
    "    'https://raw.githubusercontent.com/sugatagh/E-commerce-Text-Classification/main/Dataset/ecommerceDataset.csv', \n",
    "    names = ['label', 'description']\n",
    ")\n",
    "df = df[['description', 'label']]\n",
    "\n",
    "\n"
   ]
  },
  {
   "cell_type": "code",
   "execution_count": null,
   "metadata": {},
   "outputs": [],
   "source": []
  },
  {
   "cell_type": "code",
   "execution_count": 17,
   "metadata": {},
   "outputs": [],
   "source": [
    "df.drop_duplicates(inplace = True) \n",
    "\n",
    "df = df.dropna(subset=['description'])\n",
    "\n",
    "df.reset_index(drop = True, inplace = True)\n",
    "\n",
    "df = shuffle(df)\n",
    "\n",
    "df = df[0:1000]"
   ]
  },
  {
   "cell_type": "markdown",
   "metadata": {},
   "source": [
    "### EDA"
   ]
  },
  {
   "cell_type": "code",
   "execution_count": 18,
   "metadata": {},
   "outputs": [],
   "source": [
    "# Calculate the length of each text\n",
    "df['text_length'] = df['description'].apply(len)\n",
    "\n",
    "# Get the unique categories\n",
    "categories = df['label'].unique()"
   ]
  },
  {
   "cell_type": "code",
   "execution_count": 19,
   "metadata": {},
   "outputs": [
    {
     "data": {
      "application/vnd.plotly.v1+json": {
       "config": {
        "plotlyServerURL": "https://plot.ly"
       },
       "data": [
        {
         "name": "Household",
         "type": "histogram",
         "x": [
          523,
          820,
          504,
          689,
          914,
          749,
          93,
          739,
          1236,
          134,
          544,
          370,
          683,
          628,
          632,
          1040,
          71,
          171,
          134,
          451,
          175,
          400,
          815,
          327,
          224,
          279,
          439,
          448,
          633,
          587,
          1353,
          996,
          336,
          322,
          500,
          79,
          410,
          451,
          349,
          309,
          412,
          333,
          65,
          871,
          638,
          2010,
          906,
          1296,
          425,
          1699,
          1411,
          190,
          536,
          637,
          1474,
          218,
          307,
          268,
          238,
          624,
          246,
          1312,
          1702,
          431,
          1289,
          1595,
          46,
          1543,
          64,
          66,
          663,
          706,
          615,
          1295,
          84,
          720,
          1086,
          538,
          129,
          123,
          95,
          910,
          758,
          404,
          645,
          188,
          121,
          34,
          597,
          387,
          665,
          59,
          601,
          1233,
          50,
          273,
          437,
          341,
          348,
          754,
          112,
          142,
          901,
          2559,
          853,
          243,
          493,
          571,
          833,
          576,
          1530,
          580,
          1730,
          755,
          237,
          353,
          543,
          464,
          110,
          356,
          121,
          1236,
          276,
          269,
          232,
          410,
          1123,
          69,
          217,
          949,
          427,
          166,
          1588,
          74,
          616,
          588,
          1034,
          245,
          452,
          613,
          464,
          1318,
          440,
          413,
          657,
          766,
          253,
          1107,
          195,
          690,
          247,
          1284,
          1954,
          1295,
          197,
          216,
          504,
          1081,
          431,
          363,
          61,
          514,
          476,
          578,
          367,
          944,
          377,
          167,
          1467,
          1444,
          255,
          583,
          365,
          1325,
          559,
          58,
          480,
          1376,
          224,
          205,
          546,
          492,
          556,
          758,
          150,
          99,
          221,
          881,
          443,
          452,
          423,
          68,
          1804,
          348,
          385,
          273,
          303,
          510,
          196,
          523,
          169,
          394,
          524,
          675,
          531,
          695,
          1353,
          1432,
          1474,
          67,
          596,
          698,
          490,
          445,
          1293,
          233,
          1247,
          1525,
          865,
          427,
          518,
          418,
          150,
          1013,
          683,
          38,
          171,
          167,
          247,
          1170,
          100,
          408,
          1289,
          718,
          116,
          1079,
          83,
          538,
          269,
          392,
          965,
          1027,
          36,
          740,
          384,
          778,
          279,
          315,
          665,
          871,
          1561,
          210,
          469,
          120,
          363,
          210,
          932,
          212,
          2286,
          1503,
          870,
          1546,
          904,
          275,
          910,
          272,
          433,
          44,
          1580,
          659,
          288,
          568,
          287,
          921,
          1256,
          675,
          286,
          716,
          126,
          660,
          662,
          435,
          83,
          238,
          1196,
          300,
          89,
          77,
          405,
          165,
          914,
          898,
          367,
          1341,
          1938,
          494,
          1079,
          472,
          604,
          1603,
          609,
          562,
          444,
          169,
          682,
          510,
          1080,
          520,
          39,
          483,
          955,
          241,
          152,
          317,
          1073,
          581,
          1713,
          407,
          236,
          939,
          140,
          434,
          408,
          540,
          506,
          438,
          293,
          1185,
          346,
          434,
          738,
          1306,
          391,
          1078,
          460,
          266,
          1404,
          410,
          65,
          888,
          490,
          580,
          960,
          111,
          287,
          369,
          946,
          1390,
          36,
          217,
          66,
          272,
          230,
          49,
          304,
          1099,
          322,
          299,
          148,
          114,
          1486,
          792,
          1199,
          108,
          110,
          308,
          1088,
          414,
          137,
          654,
          400,
          797,
          1078,
          678,
          844,
          92,
          758,
          259,
          551,
          643
         ]
        },
        {
         "name": "Books",
         "type": "histogram",
         "x": [
          1265,
          95,
          706,
          2221,
          32,
          720,
          897,
          361,
          15,
          2807,
          613,
          513,
          258,
          47,
          301,
          846,
          299,
          477,
          1332,
          18,
          653,
          333,
          757,
          23,
          537,
          1039,
          750,
          744,
          29,
          23,
          567,
          1526,
          261,
          63,
          1079,
          25,
          326,
          1093,
          1013,
          20,
          1079,
          1067,
          69,
          192,
          490,
          89,
          1260,
          233,
          33,
          119,
          1510,
          531,
          2875,
          121,
          17,
          512,
          970,
          157,
          98,
          89,
          614,
          1004,
          34,
          801,
          925,
          1651,
          11927,
          405,
          39,
          595,
          42,
          1544,
          267,
          35,
          1034,
          316,
          1268,
          103,
          768,
          434,
          337,
          210,
          58,
          60,
          917,
          50,
          49,
          37,
          258,
          1203,
          798,
          24,
          37,
          71,
          27,
          539,
          2065,
          1954,
          2095,
          769,
          93,
          571,
          405,
          110,
          29,
          61,
          21,
          131,
          407,
          1371,
          1397,
          1268,
          121,
          151,
          1683,
          96,
          56,
          802,
          725,
          867,
          59,
          1275,
          1524,
          813,
          34,
          797,
          2433,
          536,
          683,
          83,
          1087,
          70,
          667,
          3697,
          1667,
          1114,
          1361,
          1661,
          1033,
          1545,
          897,
          157,
          611,
          792,
          27,
          761,
          55,
          1440,
          76,
          139,
          3198,
          3454,
          65,
          61,
          831,
          323,
          1240,
          144,
          277,
          4532,
          65,
          18,
          31,
          473,
          14,
          1467,
          24,
          823,
          781,
          3883,
          111,
          65,
          2063,
          1937,
          94,
          21,
          79,
          309,
          136,
          58,
          83,
          1523,
          398,
          70,
          1205,
          2508,
          1442,
          27,
          610,
          406,
          1456,
          19,
          1039,
          93,
          1276,
          27,
          2992,
          129,
          2286,
          309,
          573,
          483,
          1607,
          703,
          1792,
          54,
          399,
          141,
          148,
          66,
          1086,
          515,
          873,
          349,
          746,
          1296,
          14,
          54,
          43,
          348,
          60,
          917,
          216,
          599,
          84,
          1054,
          41,
          30,
          445,
          699,
          1727,
          501,
          1246,
          298,
          1191,
          539,
          2832,
          71,
          35,
          57,
          207,
          161,
          14,
          375,
          1055,
          1066,
          622
         ]
        },
        {
         "name": "Clothing & Accessories",
         "type": "histogram",
         "x": [
          734,
          382,
          1454,
          85,
          1244,
          214,
          565,
          106,
          328,
          79,
          226,
          700,
          343,
          678,
          1868,
          805,
          603,
          239,
          379,
          215,
          802,
          443,
          612,
          214,
          194,
          685,
          346,
          299,
          169,
          476,
          368,
          113,
          59,
          419,
          268,
          274,
          457,
          280,
          960,
          138,
          519,
          684,
          592,
          1013,
          235,
          288,
          324,
          221,
          58,
          64,
          217,
          94,
          1535,
          180,
          984,
          494,
          208,
          336,
          493,
          699,
          416,
          29,
          589,
          60,
          210,
          541,
          253,
          487,
          109,
          81,
          245,
          290,
          1406,
          539,
          1541,
          422,
          256,
          509,
          539,
          877,
          90,
          804,
          346,
          32,
          1299,
          553,
          128,
          748,
          647,
          291,
          31,
          1011,
          326,
          257,
          51,
          186,
          451,
          290,
          532,
          495,
          361,
          449,
          1384,
          24,
          501,
          460,
          609,
          57,
          200,
          114,
          253,
          45,
          521,
          159,
          563,
          1039,
          578,
          412,
          516,
          138,
          58,
          312,
          522,
          1098,
          781,
          89,
          692,
          200,
          455,
          488,
          364,
          242,
          268,
          672,
          419,
          148,
          331,
          604,
          441,
          29,
          178,
          104,
          326,
          239,
          400,
          127,
          1733,
          206,
          61,
          483,
          37,
          141,
          534,
          687,
          498,
          625,
          453,
          97,
          522,
          1084,
          339,
          315,
          879,
          356,
          279,
          42,
          541,
          383,
          749,
          648,
          57,
          1728,
          698,
          878,
          775,
          690,
          505,
          617,
          221,
          674,
          462,
          214,
          260,
          424,
          40
         ]
        },
        {
         "name": "Electronics",
         "type": "histogram",
         "x": [
          65,
          781,
          1203,
          1996,
          1183,
          66,
          2563,
          863,
          914,
          1119,
          1406,
          266,
          610,
          746,
          572,
          835,
          87,
          1425,
          1206,
          1587,
          215,
          191,
          169,
          707,
          1029,
          501,
          79,
          829,
          244,
          2071,
          1313,
          364,
          119,
          836,
          1369,
          112,
          178,
          601,
          1522,
          515,
          1365,
          1678,
          1028,
          420,
          632,
          697,
          162,
          309,
          433,
          520,
          172,
          624,
          344,
          199,
          1017,
          279,
          376,
          170,
          1758,
          480,
          114,
          1054,
          301,
          86,
          62,
          407,
          1005,
          598,
          757,
          335,
          663,
          187,
          433,
          186,
          176,
          1126,
          1964,
          476,
          643,
          1301,
          84,
          1679,
          222,
          281,
          84,
          2437,
          962,
          125,
          1403,
          63,
          175,
          615,
          752,
          1175,
          2096,
          235,
          923,
          200,
          233,
          425,
          326,
          1243,
          2184,
          268,
          895,
          361,
          106,
          335,
          158,
          536,
          332,
          1381,
          86,
          471,
          158,
          116,
          1987,
          1032,
          1272,
          1482,
          107,
          928,
          491,
          85,
          499,
          961,
          841,
          1714,
          72,
          98,
          1098,
          386,
          1446,
          220,
          249,
          521,
          2001,
          280,
          702,
          534,
          1742,
          3792,
          2869,
          12372,
          803,
          1619,
          1381,
          1111,
          757,
          950,
          1497,
          1324,
          251,
          68,
          196,
          781,
          362,
          1463,
          313,
          977,
          269,
          1278,
          614,
          883,
          1303,
          350,
          677,
          1734,
          87,
          61,
          443,
          1246,
          149,
          361,
          1046,
          177,
          571,
          102,
          66,
          2031,
          254,
          528,
          1680,
          326,
          236,
          1908,
          944,
          293
         ]
        }
       ],
       "layout": {
        "autosize": false,
        "barmode": "stack",
        "height": 600,
        "template": {
         "data": {
          "bar": [
           {
            "error_x": {
             "color": "#2a3f5f"
            },
            "error_y": {
             "color": "#2a3f5f"
            },
            "marker": {
             "line": {
              "color": "#E5ECF6",
              "width": 0.5
             },
             "pattern": {
              "fillmode": "overlay",
              "size": 10,
              "solidity": 0.2
             }
            },
            "type": "bar"
           }
          ],
          "barpolar": [
           {
            "marker": {
             "line": {
              "color": "#E5ECF6",
              "width": 0.5
             },
             "pattern": {
              "fillmode": "overlay",
              "size": 10,
              "solidity": 0.2
             }
            },
            "type": "barpolar"
           }
          ],
          "carpet": [
           {
            "aaxis": {
             "endlinecolor": "#2a3f5f",
             "gridcolor": "white",
             "linecolor": "white",
             "minorgridcolor": "white",
             "startlinecolor": "#2a3f5f"
            },
            "baxis": {
             "endlinecolor": "#2a3f5f",
             "gridcolor": "white",
             "linecolor": "white",
             "minorgridcolor": "white",
             "startlinecolor": "#2a3f5f"
            },
            "type": "carpet"
           }
          ],
          "choropleth": [
           {
            "colorbar": {
             "outlinewidth": 0,
             "ticks": ""
            },
            "type": "choropleth"
           }
          ],
          "contour": [
           {
            "colorbar": {
             "outlinewidth": 0,
             "ticks": ""
            },
            "colorscale": [
             [
              0,
              "#0d0887"
             ],
             [
              0.1111111111111111,
              "#46039f"
             ],
             [
              0.2222222222222222,
              "#7201a8"
             ],
             [
              0.3333333333333333,
              "#9c179e"
             ],
             [
              0.4444444444444444,
              "#bd3786"
             ],
             [
              0.5555555555555556,
              "#d8576b"
             ],
             [
              0.6666666666666666,
              "#ed7953"
             ],
             [
              0.7777777777777778,
              "#fb9f3a"
             ],
             [
              0.8888888888888888,
              "#fdca26"
             ],
             [
              1,
              "#f0f921"
             ]
            ],
            "type": "contour"
           }
          ],
          "contourcarpet": [
           {
            "colorbar": {
             "outlinewidth": 0,
             "ticks": ""
            },
            "type": "contourcarpet"
           }
          ],
          "heatmap": [
           {
            "colorbar": {
             "outlinewidth": 0,
             "ticks": ""
            },
            "colorscale": [
             [
              0,
              "#0d0887"
             ],
             [
              0.1111111111111111,
              "#46039f"
             ],
             [
              0.2222222222222222,
              "#7201a8"
             ],
             [
              0.3333333333333333,
              "#9c179e"
             ],
             [
              0.4444444444444444,
              "#bd3786"
             ],
             [
              0.5555555555555556,
              "#d8576b"
             ],
             [
              0.6666666666666666,
              "#ed7953"
             ],
             [
              0.7777777777777778,
              "#fb9f3a"
             ],
             [
              0.8888888888888888,
              "#fdca26"
             ],
             [
              1,
              "#f0f921"
             ]
            ],
            "type": "heatmap"
           }
          ],
          "heatmapgl": [
           {
            "colorbar": {
             "outlinewidth": 0,
             "ticks": ""
            },
            "colorscale": [
             [
              0,
              "#0d0887"
             ],
             [
              0.1111111111111111,
              "#46039f"
             ],
             [
              0.2222222222222222,
              "#7201a8"
             ],
             [
              0.3333333333333333,
              "#9c179e"
             ],
             [
              0.4444444444444444,
              "#bd3786"
             ],
             [
              0.5555555555555556,
              "#d8576b"
             ],
             [
              0.6666666666666666,
              "#ed7953"
             ],
             [
              0.7777777777777778,
              "#fb9f3a"
             ],
             [
              0.8888888888888888,
              "#fdca26"
             ],
             [
              1,
              "#f0f921"
             ]
            ],
            "type": "heatmapgl"
           }
          ],
          "histogram": [
           {
            "marker": {
             "pattern": {
              "fillmode": "overlay",
              "size": 10,
              "solidity": 0.2
             }
            },
            "type": "histogram"
           }
          ],
          "histogram2d": [
           {
            "colorbar": {
             "outlinewidth": 0,
             "ticks": ""
            },
            "colorscale": [
             [
              0,
              "#0d0887"
             ],
             [
              0.1111111111111111,
              "#46039f"
             ],
             [
              0.2222222222222222,
              "#7201a8"
             ],
             [
              0.3333333333333333,
              "#9c179e"
             ],
             [
              0.4444444444444444,
              "#bd3786"
             ],
             [
              0.5555555555555556,
              "#d8576b"
             ],
             [
              0.6666666666666666,
              "#ed7953"
             ],
             [
              0.7777777777777778,
              "#fb9f3a"
             ],
             [
              0.8888888888888888,
              "#fdca26"
             ],
             [
              1,
              "#f0f921"
             ]
            ],
            "type": "histogram2d"
           }
          ],
          "histogram2dcontour": [
           {
            "colorbar": {
             "outlinewidth": 0,
             "ticks": ""
            },
            "colorscale": [
             [
              0,
              "#0d0887"
             ],
             [
              0.1111111111111111,
              "#46039f"
             ],
             [
              0.2222222222222222,
              "#7201a8"
             ],
             [
              0.3333333333333333,
              "#9c179e"
             ],
             [
              0.4444444444444444,
              "#bd3786"
             ],
             [
              0.5555555555555556,
              "#d8576b"
             ],
             [
              0.6666666666666666,
              "#ed7953"
             ],
             [
              0.7777777777777778,
              "#fb9f3a"
             ],
             [
              0.8888888888888888,
              "#fdca26"
             ],
             [
              1,
              "#f0f921"
             ]
            ],
            "type": "histogram2dcontour"
           }
          ],
          "mesh3d": [
           {
            "colorbar": {
             "outlinewidth": 0,
             "ticks": ""
            },
            "type": "mesh3d"
           }
          ],
          "parcoords": [
           {
            "line": {
             "colorbar": {
              "outlinewidth": 0,
              "ticks": ""
             }
            },
            "type": "parcoords"
           }
          ],
          "pie": [
           {
            "automargin": true,
            "type": "pie"
           }
          ],
          "scatter": [
           {
            "fillpattern": {
             "fillmode": "overlay",
             "size": 10,
             "solidity": 0.2
            },
            "type": "scatter"
           }
          ],
          "scatter3d": [
           {
            "line": {
             "colorbar": {
              "outlinewidth": 0,
              "ticks": ""
             }
            },
            "marker": {
             "colorbar": {
              "outlinewidth": 0,
              "ticks": ""
             }
            },
            "type": "scatter3d"
           }
          ],
          "scattercarpet": [
           {
            "marker": {
             "colorbar": {
              "outlinewidth": 0,
              "ticks": ""
             }
            },
            "type": "scattercarpet"
           }
          ],
          "scattergeo": [
           {
            "marker": {
             "colorbar": {
              "outlinewidth": 0,
              "ticks": ""
             }
            },
            "type": "scattergeo"
           }
          ],
          "scattergl": [
           {
            "marker": {
             "colorbar": {
              "outlinewidth": 0,
              "ticks": ""
             }
            },
            "type": "scattergl"
           }
          ],
          "scattermapbox": [
           {
            "marker": {
             "colorbar": {
              "outlinewidth": 0,
              "ticks": ""
             }
            },
            "type": "scattermapbox"
           }
          ],
          "scatterpolar": [
           {
            "marker": {
             "colorbar": {
              "outlinewidth": 0,
              "ticks": ""
             }
            },
            "type": "scatterpolar"
           }
          ],
          "scatterpolargl": [
           {
            "marker": {
             "colorbar": {
              "outlinewidth": 0,
              "ticks": ""
             }
            },
            "type": "scatterpolargl"
           }
          ],
          "scatterternary": [
           {
            "marker": {
             "colorbar": {
              "outlinewidth": 0,
              "ticks": ""
             }
            },
            "type": "scatterternary"
           }
          ],
          "surface": [
           {
            "colorbar": {
             "outlinewidth": 0,
             "ticks": ""
            },
            "colorscale": [
             [
              0,
              "#0d0887"
             ],
             [
              0.1111111111111111,
              "#46039f"
             ],
             [
              0.2222222222222222,
              "#7201a8"
             ],
             [
              0.3333333333333333,
              "#9c179e"
             ],
             [
              0.4444444444444444,
              "#bd3786"
             ],
             [
              0.5555555555555556,
              "#d8576b"
             ],
             [
              0.6666666666666666,
              "#ed7953"
             ],
             [
              0.7777777777777778,
              "#fb9f3a"
             ],
             [
              0.8888888888888888,
              "#fdca26"
             ],
             [
              1,
              "#f0f921"
             ]
            ],
            "type": "surface"
           }
          ],
          "table": [
           {
            "cells": {
             "fill": {
              "color": "#EBF0F8"
             },
             "line": {
              "color": "white"
             }
            },
            "header": {
             "fill": {
              "color": "#C8D4E3"
             },
             "line": {
              "color": "white"
             }
            },
            "type": "table"
           }
          ]
         },
         "layout": {
          "annotationdefaults": {
           "arrowcolor": "#2a3f5f",
           "arrowhead": 0,
           "arrowwidth": 1
          },
          "autotypenumbers": "strict",
          "coloraxis": {
           "colorbar": {
            "outlinewidth": 0,
            "ticks": ""
           }
          },
          "colorscale": {
           "diverging": [
            [
             0,
             "#8e0152"
            ],
            [
             0.1,
             "#c51b7d"
            ],
            [
             0.2,
             "#de77ae"
            ],
            [
             0.3,
             "#f1b6da"
            ],
            [
             0.4,
             "#fde0ef"
            ],
            [
             0.5,
             "#f7f7f7"
            ],
            [
             0.6,
             "#e6f5d0"
            ],
            [
             0.7,
             "#b8e186"
            ],
            [
             0.8,
             "#7fbc41"
            ],
            [
             0.9,
             "#4d9221"
            ],
            [
             1,
             "#276419"
            ]
           ],
           "sequential": [
            [
             0,
             "#0d0887"
            ],
            [
             0.1111111111111111,
             "#46039f"
            ],
            [
             0.2222222222222222,
             "#7201a8"
            ],
            [
             0.3333333333333333,
             "#9c179e"
            ],
            [
             0.4444444444444444,
             "#bd3786"
            ],
            [
             0.5555555555555556,
             "#d8576b"
            ],
            [
             0.6666666666666666,
             "#ed7953"
            ],
            [
             0.7777777777777778,
             "#fb9f3a"
            ],
            [
             0.8888888888888888,
             "#fdca26"
            ],
            [
             1,
             "#f0f921"
            ]
           ],
           "sequentialminus": [
            [
             0,
             "#0d0887"
            ],
            [
             0.1111111111111111,
             "#46039f"
            ],
            [
             0.2222222222222222,
             "#7201a8"
            ],
            [
             0.3333333333333333,
             "#9c179e"
            ],
            [
             0.4444444444444444,
             "#bd3786"
            ],
            [
             0.5555555555555556,
             "#d8576b"
            ],
            [
             0.6666666666666666,
             "#ed7953"
            ],
            [
             0.7777777777777778,
             "#fb9f3a"
            ],
            [
             0.8888888888888888,
             "#fdca26"
            ],
            [
             1,
             "#f0f921"
            ]
           ]
          },
          "colorway": [
           "#636efa",
           "#EF553B",
           "#00cc96",
           "#ab63fa",
           "#FFA15A",
           "#19d3f3",
           "#FF6692",
           "#B6E880",
           "#FF97FF",
           "#FECB52"
          ],
          "font": {
           "color": "#2a3f5f"
          },
          "geo": {
           "bgcolor": "white",
           "lakecolor": "white",
           "landcolor": "#E5ECF6",
           "showlakes": true,
           "showland": true,
           "subunitcolor": "white"
          },
          "hoverlabel": {
           "align": "left"
          },
          "hovermode": "closest",
          "mapbox": {
           "style": "light"
          },
          "paper_bgcolor": "white",
          "plot_bgcolor": "#E5ECF6",
          "polar": {
           "angularaxis": {
            "gridcolor": "white",
            "linecolor": "white",
            "ticks": ""
           },
           "bgcolor": "#E5ECF6",
           "radialaxis": {
            "gridcolor": "white",
            "linecolor": "white",
            "ticks": ""
           }
          },
          "scene": {
           "xaxis": {
            "backgroundcolor": "#E5ECF6",
            "gridcolor": "white",
            "gridwidth": 2,
            "linecolor": "white",
            "showbackground": true,
            "ticks": "",
            "zerolinecolor": "white"
           },
           "yaxis": {
            "backgroundcolor": "#E5ECF6",
            "gridcolor": "white",
            "gridwidth": 2,
            "linecolor": "white",
            "showbackground": true,
            "ticks": "",
            "zerolinecolor": "white"
           },
           "zaxis": {
            "backgroundcolor": "#E5ECF6",
            "gridcolor": "white",
            "gridwidth": 2,
            "linecolor": "white",
            "showbackground": true,
            "ticks": "",
            "zerolinecolor": "white"
           }
          },
          "shapedefaults": {
           "line": {
            "color": "#2a3f5f"
           }
          },
          "ternary": {
           "aaxis": {
            "gridcolor": "white",
            "linecolor": "white",
            "ticks": ""
           },
           "baxis": {
            "gridcolor": "white",
            "linecolor": "white",
            "ticks": ""
           },
           "bgcolor": "#E5ECF6",
           "caxis": {
            "gridcolor": "white",
            "linecolor": "white",
            "ticks": ""
           }
          },
          "title": {
           "x": 0.05
          },
          "xaxis": {
           "automargin": true,
           "gridcolor": "white",
           "linecolor": "white",
           "ticks": "",
           "title": {
            "standoff": 15
           },
           "zerolinecolor": "white",
           "zerolinewidth": 2
          },
          "yaxis": {
           "automargin": true,
           "gridcolor": "white",
           "linecolor": "white",
           "ticks": "",
           "title": {
            "standoff": 15
           },
           "zerolinecolor": "white",
           "zerolinewidth": 2
          }
         }
        },
        "title": {
         "text": "Histogram of Text Length in Each Category"
        },
        "width": 1000,
        "xaxis": {
         "title": {
          "text": "Text Length"
         }
        },
        "yaxis": {
         "title": {
          "text": "Count"
         }
        }
       }
      }
     },
     "metadata": {},
     "output_type": "display_data"
    }
   ],
   "source": [
    "import plotly.graph_objects as go\n",
    "import plotly.express as px\n",
    "\n",
    "\n",
    "# Create a histogram for each category\n",
    "fig = go.Figure()\n",
    "for category in categories:\n",
    "    fig.add_trace(go.Histogram(x=df[df['label'] == category]['text_length'], \n",
    "                               name=category))\n",
    "\n",
    "# Update layout for better visualization\n",
    "fig.update_layout(barmode='stack',\n",
    "                  xaxis_title='Text Length',\n",
    "                  yaxis_title='Count',\n",
    "                  title='Histogram of Text Length in Each Category',\n",
    "                  autosize=False,\n",
    "                  width=1000,\n",
    "                  height=600)\n",
    "\n",
    "fig.show()"
   ]
  },
  {
   "cell_type": "code",
   "execution_count": 20,
   "metadata": {},
   "outputs": [
    {
     "data": {
      "application/vnd.plotly.v1+json": {
       "config": {
        "plotlyServerURL": "https://plot.ly"
       },
       "data": [
        {
         "alignmentgroup": "True",
         "hovertemplate": "label=%{x}<br>text_length=%{y}<extra></extra>",
         "legendgroup": "Household",
         "marker": {
          "color": "#636efa"
         },
         "name": "Household",
         "notched": false,
         "offsetgroup": "Household",
         "orientation": "v",
         "showlegend": true,
         "type": "box",
         "x": [
          "Household",
          "Household",
          "Household",
          "Household",
          "Household",
          "Household",
          "Household",
          "Household",
          "Household",
          "Household",
          "Household",
          "Household",
          "Household",
          "Household",
          "Household",
          "Household",
          "Household",
          "Household",
          "Household",
          "Household",
          "Household",
          "Household",
          "Household",
          "Household",
          "Household",
          "Household",
          "Household",
          "Household",
          "Household",
          "Household",
          "Household",
          "Household",
          "Household",
          "Household",
          "Household",
          "Household",
          "Household",
          "Household",
          "Household",
          "Household",
          "Household",
          "Household",
          "Household",
          "Household",
          "Household",
          "Household",
          "Household",
          "Household",
          "Household",
          "Household",
          "Household",
          "Household",
          "Household",
          "Household",
          "Household",
          "Household",
          "Household",
          "Household",
          "Household",
          "Household",
          "Household",
          "Household",
          "Household",
          "Household",
          "Household",
          "Household",
          "Household",
          "Household",
          "Household",
          "Household",
          "Household",
          "Household",
          "Household",
          "Household",
          "Household",
          "Household",
          "Household",
          "Household",
          "Household",
          "Household",
          "Household",
          "Household",
          "Household",
          "Household",
          "Household",
          "Household",
          "Household",
          "Household",
          "Household",
          "Household",
          "Household",
          "Household",
          "Household",
          "Household",
          "Household",
          "Household",
          "Household",
          "Household",
          "Household",
          "Household",
          "Household",
          "Household",
          "Household",
          "Household",
          "Household",
          "Household",
          "Household",
          "Household",
          "Household",
          "Household",
          "Household",
          "Household",
          "Household",
          "Household",
          "Household",
          "Household",
          "Household",
          "Household",
          "Household",
          "Household",
          "Household",
          "Household",
          "Household",
          "Household",
          "Household",
          "Household",
          "Household",
          "Household",
          "Household",
          "Household",
          "Household",
          "Household",
          "Household",
          "Household",
          "Household",
          "Household",
          "Household",
          "Household",
          "Household",
          "Household",
          "Household",
          "Household",
          "Household",
          "Household",
          "Household",
          "Household",
          "Household",
          "Household",
          "Household",
          "Household",
          "Household",
          "Household",
          "Household",
          "Household",
          "Household",
          "Household",
          "Household",
          "Household",
          "Household",
          "Household",
          "Household",
          "Household",
          "Household",
          "Household",
          "Household",
          "Household",
          "Household",
          "Household",
          "Household",
          "Household",
          "Household",
          "Household",
          "Household",
          "Household",
          "Household",
          "Household",
          "Household",
          "Household",
          "Household",
          "Household",
          "Household",
          "Household",
          "Household",
          "Household",
          "Household",
          "Household",
          "Household",
          "Household",
          "Household",
          "Household",
          "Household",
          "Household",
          "Household",
          "Household",
          "Household",
          "Household",
          "Household",
          "Household",
          "Household",
          "Household",
          "Household",
          "Household",
          "Household",
          "Household",
          "Household",
          "Household",
          "Household",
          "Household",
          "Household",
          "Household",
          "Household",
          "Household",
          "Household",
          "Household",
          "Household",
          "Household",
          "Household",
          "Household",
          "Household",
          "Household",
          "Household",
          "Household",
          "Household",
          "Household",
          "Household",
          "Household",
          "Household",
          "Household",
          "Household",
          "Household",
          "Household",
          "Household",
          "Household",
          "Household",
          "Household",
          "Household",
          "Household",
          "Household",
          "Household",
          "Household",
          "Household",
          "Household",
          "Household",
          "Household",
          "Household",
          "Household",
          "Household",
          "Household",
          "Household",
          "Household",
          "Household",
          "Household",
          "Household",
          "Household",
          "Household",
          "Household",
          "Household",
          "Household",
          "Household",
          "Household",
          "Household",
          "Household",
          "Household",
          "Household",
          "Household",
          "Household",
          "Household",
          "Household",
          "Household",
          "Household",
          "Household",
          "Household",
          "Household",
          "Household",
          "Household",
          "Household",
          "Household",
          "Household",
          "Household",
          "Household",
          "Household",
          "Household",
          "Household",
          "Household",
          "Household",
          "Household",
          "Household",
          "Household",
          "Household",
          "Household",
          "Household",
          "Household",
          "Household",
          "Household",
          "Household",
          "Household",
          "Household",
          "Household",
          "Household",
          "Household",
          "Household",
          "Household",
          "Household",
          "Household",
          "Household",
          "Household",
          "Household",
          "Household",
          "Household",
          "Household",
          "Household",
          "Household",
          "Household",
          "Household",
          "Household",
          "Household",
          "Household",
          "Household",
          "Household",
          "Household",
          "Household",
          "Household",
          "Household",
          "Household",
          "Household",
          "Household",
          "Household",
          "Household",
          "Household",
          "Household",
          "Household",
          "Household",
          "Household",
          "Household",
          "Household",
          "Household",
          "Household",
          "Household",
          "Household",
          "Household",
          "Household",
          "Household",
          "Household",
          "Household",
          "Household",
          "Household",
          "Household",
          "Household",
          "Household",
          "Household",
          "Household",
          "Household",
          "Household",
          "Household",
          "Household",
          "Household",
          "Household",
          "Household",
          "Household",
          "Household",
          "Household",
          "Household",
          "Household",
          "Household",
          "Household",
          "Household",
          "Household",
          "Household",
          "Household",
          "Household",
          "Household",
          "Household",
          "Household",
          "Household",
          "Household",
          "Household",
          "Household",
          "Household",
          "Household",
          "Household"
         ],
         "x0": " ",
         "xaxis": "x",
         "y": [
          523,
          820,
          504,
          689,
          914,
          749,
          93,
          739,
          1236,
          134,
          544,
          370,
          683,
          628,
          632,
          1040,
          71,
          171,
          134,
          451,
          175,
          400,
          815,
          327,
          224,
          279,
          439,
          448,
          633,
          587,
          1353,
          996,
          336,
          322,
          500,
          79,
          410,
          451,
          349,
          309,
          412,
          333,
          65,
          871,
          638,
          2010,
          906,
          1296,
          425,
          1699,
          1411,
          190,
          536,
          637,
          1474,
          218,
          307,
          268,
          238,
          624,
          246,
          1312,
          1702,
          431,
          1289,
          1595,
          46,
          1543,
          64,
          66,
          663,
          706,
          615,
          1295,
          84,
          720,
          1086,
          538,
          129,
          123,
          95,
          910,
          758,
          404,
          645,
          188,
          121,
          34,
          597,
          387,
          665,
          59,
          601,
          1233,
          50,
          273,
          437,
          341,
          348,
          754,
          112,
          142,
          901,
          2559,
          853,
          243,
          493,
          571,
          833,
          576,
          1530,
          580,
          1730,
          755,
          237,
          353,
          543,
          464,
          110,
          356,
          121,
          1236,
          276,
          269,
          232,
          410,
          1123,
          69,
          217,
          949,
          427,
          166,
          1588,
          74,
          616,
          588,
          1034,
          245,
          452,
          613,
          464,
          1318,
          440,
          413,
          657,
          766,
          253,
          1107,
          195,
          690,
          247,
          1284,
          1954,
          1295,
          197,
          216,
          504,
          1081,
          431,
          363,
          61,
          514,
          476,
          578,
          367,
          944,
          377,
          167,
          1467,
          1444,
          255,
          583,
          365,
          1325,
          559,
          58,
          480,
          1376,
          224,
          205,
          546,
          492,
          556,
          758,
          150,
          99,
          221,
          881,
          443,
          452,
          423,
          68,
          1804,
          348,
          385,
          273,
          303,
          510,
          196,
          523,
          169,
          394,
          524,
          675,
          531,
          695,
          1353,
          1432,
          1474,
          67,
          596,
          698,
          490,
          445,
          1293,
          233,
          1247,
          1525,
          865,
          427,
          518,
          418,
          150,
          1013,
          683,
          38,
          171,
          167,
          247,
          1170,
          100,
          408,
          1289,
          718,
          116,
          1079,
          83,
          538,
          269,
          392,
          965,
          1027,
          36,
          740,
          384,
          778,
          279,
          315,
          665,
          871,
          1561,
          210,
          469,
          120,
          363,
          210,
          932,
          212,
          2286,
          1503,
          870,
          1546,
          904,
          275,
          910,
          272,
          433,
          44,
          1580,
          659,
          288,
          568,
          287,
          921,
          1256,
          675,
          286,
          716,
          126,
          660,
          662,
          435,
          83,
          238,
          1196,
          300,
          89,
          77,
          405,
          165,
          914,
          898,
          367,
          1341,
          1938,
          494,
          1079,
          472,
          604,
          1603,
          609,
          562,
          444,
          169,
          682,
          510,
          1080,
          520,
          39,
          483,
          955,
          241,
          152,
          317,
          1073,
          581,
          1713,
          407,
          236,
          939,
          140,
          434,
          408,
          540,
          506,
          438,
          293,
          1185,
          346,
          434,
          738,
          1306,
          391,
          1078,
          460,
          266,
          1404,
          410,
          65,
          888,
          490,
          580,
          960,
          111,
          287,
          369,
          946,
          1390,
          36,
          217,
          66,
          272,
          230,
          49,
          304,
          1099,
          322,
          299,
          148,
          114,
          1486,
          792,
          1199,
          108,
          110,
          308,
          1088,
          414,
          137,
          654,
          400,
          797,
          1078,
          678,
          844,
          92,
          758,
          259,
          551,
          643
         ],
         "y0": " ",
         "yaxis": "y"
        },
        {
         "alignmentgroup": "True",
         "hovertemplate": "label=%{x}<br>text_length=%{y}<extra></extra>",
         "legendgroup": "Books",
         "marker": {
          "color": "#EF553B"
         },
         "name": "Books",
         "notched": false,
         "offsetgroup": "Books",
         "orientation": "v",
         "showlegend": true,
         "type": "box",
         "x": [
          "Books",
          "Books",
          "Books",
          "Books",
          "Books",
          "Books",
          "Books",
          "Books",
          "Books",
          "Books",
          "Books",
          "Books",
          "Books",
          "Books",
          "Books",
          "Books",
          "Books",
          "Books",
          "Books",
          "Books",
          "Books",
          "Books",
          "Books",
          "Books",
          "Books",
          "Books",
          "Books",
          "Books",
          "Books",
          "Books",
          "Books",
          "Books",
          "Books",
          "Books",
          "Books",
          "Books",
          "Books",
          "Books",
          "Books",
          "Books",
          "Books",
          "Books",
          "Books",
          "Books",
          "Books",
          "Books",
          "Books",
          "Books",
          "Books",
          "Books",
          "Books",
          "Books",
          "Books",
          "Books",
          "Books",
          "Books",
          "Books",
          "Books",
          "Books",
          "Books",
          "Books",
          "Books",
          "Books",
          "Books",
          "Books",
          "Books",
          "Books",
          "Books",
          "Books",
          "Books",
          "Books",
          "Books",
          "Books",
          "Books",
          "Books",
          "Books",
          "Books",
          "Books",
          "Books",
          "Books",
          "Books",
          "Books",
          "Books",
          "Books",
          "Books",
          "Books",
          "Books",
          "Books",
          "Books",
          "Books",
          "Books",
          "Books",
          "Books",
          "Books",
          "Books",
          "Books",
          "Books",
          "Books",
          "Books",
          "Books",
          "Books",
          "Books",
          "Books",
          "Books",
          "Books",
          "Books",
          "Books",
          "Books",
          "Books",
          "Books",
          "Books",
          "Books",
          "Books",
          "Books",
          "Books",
          "Books",
          "Books",
          "Books",
          "Books",
          "Books",
          "Books",
          "Books",
          "Books",
          "Books",
          "Books",
          "Books",
          "Books",
          "Books",
          "Books",
          "Books",
          "Books",
          "Books",
          "Books",
          "Books",
          "Books",
          "Books",
          "Books",
          "Books",
          "Books",
          "Books",
          "Books",
          "Books",
          "Books",
          "Books",
          "Books",
          "Books",
          "Books",
          "Books",
          "Books",
          "Books",
          "Books",
          "Books",
          "Books",
          "Books",
          "Books",
          "Books",
          "Books",
          "Books",
          "Books",
          "Books",
          "Books",
          "Books",
          "Books",
          "Books",
          "Books",
          "Books",
          "Books",
          "Books",
          "Books",
          "Books",
          "Books",
          "Books",
          "Books",
          "Books",
          "Books",
          "Books",
          "Books",
          "Books",
          "Books",
          "Books",
          "Books",
          "Books",
          "Books",
          "Books",
          "Books",
          "Books",
          "Books",
          "Books",
          "Books",
          "Books",
          "Books",
          "Books",
          "Books",
          "Books",
          "Books",
          "Books",
          "Books",
          "Books",
          "Books",
          "Books",
          "Books",
          "Books",
          "Books",
          "Books",
          "Books",
          "Books",
          "Books",
          "Books",
          "Books",
          "Books",
          "Books",
          "Books",
          "Books",
          "Books",
          "Books",
          "Books",
          "Books",
          "Books",
          "Books",
          "Books",
          "Books",
          "Books",
          "Books",
          "Books",
          "Books",
          "Books",
          "Books",
          "Books",
          "Books",
          "Books",
          "Books",
          "Books",
          "Books",
          "Books",
          "Books",
          "Books",
          "Books",
          "Books",
          "Books",
          "Books",
          "Books",
          "Books",
          "Books",
          "Books",
          "Books",
          "Books",
          "Books"
         ],
         "x0": " ",
         "xaxis": "x",
         "y": [
          1265,
          95,
          706,
          2221,
          32,
          720,
          897,
          361,
          15,
          2807,
          613,
          513,
          258,
          47,
          301,
          846,
          299,
          477,
          1332,
          18,
          653,
          333,
          757,
          23,
          537,
          1039,
          750,
          744,
          29,
          23,
          567,
          1526,
          261,
          63,
          1079,
          25,
          326,
          1093,
          1013,
          20,
          1079,
          1067,
          69,
          192,
          490,
          89,
          1260,
          233,
          33,
          119,
          1510,
          531,
          2875,
          121,
          17,
          512,
          970,
          157,
          98,
          89,
          614,
          1004,
          34,
          801,
          925,
          1651,
          11927,
          405,
          39,
          595,
          42,
          1544,
          267,
          35,
          1034,
          316,
          1268,
          103,
          768,
          434,
          337,
          210,
          58,
          60,
          917,
          50,
          49,
          37,
          258,
          1203,
          798,
          24,
          37,
          71,
          27,
          539,
          2065,
          1954,
          2095,
          769,
          93,
          571,
          405,
          110,
          29,
          61,
          21,
          131,
          407,
          1371,
          1397,
          1268,
          121,
          151,
          1683,
          96,
          56,
          802,
          725,
          867,
          59,
          1275,
          1524,
          813,
          34,
          797,
          2433,
          536,
          683,
          83,
          1087,
          70,
          667,
          3697,
          1667,
          1114,
          1361,
          1661,
          1033,
          1545,
          897,
          157,
          611,
          792,
          27,
          761,
          55,
          1440,
          76,
          139,
          3198,
          3454,
          65,
          61,
          831,
          323,
          1240,
          144,
          277,
          4532,
          65,
          18,
          31,
          473,
          14,
          1467,
          24,
          823,
          781,
          3883,
          111,
          65,
          2063,
          1937,
          94,
          21,
          79,
          309,
          136,
          58,
          83,
          1523,
          398,
          70,
          1205,
          2508,
          1442,
          27,
          610,
          406,
          1456,
          19,
          1039,
          93,
          1276,
          27,
          2992,
          129,
          2286,
          309,
          573,
          483,
          1607,
          703,
          1792,
          54,
          399,
          141,
          148,
          66,
          1086,
          515,
          873,
          349,
          746,
          1296,
          14,
          54,
          43,
          348,
          60,
          917,
          216,
          599,
          84,
          1054,
          41,
          30,
          445,
          699,
          1727,
          501,
          1246,
          298,
          1191,
          539,
          2832,
          71,
          35,
          57,
          207,
          161,
          14,
          375,
          1055,
          1066,
          622
         ],
         "y0": " ",
         "yaxis": "y"
        },
        {
         "alignmentgroup": "True",
         "hovertemplate": "label=%{x}<br>text_length=%{y}<extra></extra>",
         "legendgroup": "Clothing & Accessories",
         "marker": {
          "color": "#00cc96"
         },
         "name": "Clothing & Accessories",
         "notched": false,
         "offsetgroup": "Clothing & Accessories",
         "orientation": "v",
         "showlegend": true,
         "type": "box",
         "x": [
          "Clothing & Accessories",
          "Clothing & Accessories",
          "Clothing & Accessories",
          "Clothing & Accessories",
          "Clothing & Accessories",
          "Clothing & Accessories",
          "Clothing & Accessories",
          "Clothing & Accessories",
          "Clothing & Accessories",
          "Clothing & Accessories",
          "Clothing & Accessories",
          "Clothing & Accessories",
          "Clothing & Accessories",
          "Clothing & Accessories",
          "Clothing & Accessories",
          "Clothing & Accessories",
          "Clothing & Accessories",
          "Clothing & Accessories",
          "Clothing & Accessories",
          "Clothing & Accessories",
          "Clothing & Accessories",
          "Clothing & Accessories",
          "Clothing & Accessories",
          "Clothing & Accessories",
          "Clothing & Accessories",
          "Clothing & Accessories",
          "Clothing & Accessories",
          "Clothing & Accessories",
          "Clothing & Accessories",
          "Clothing & Accessories",
          "Clothing & Accessories",
          "Clothing & Accessories",
          "Clothing & Accessories",
          "Clothing & Accessories",
          "Clothing & Accessories",
          "Clothing & Accessories",
          "Clothing & Accessories",
          "Clothing & Accessories",
          "Clothing & Accessories",
          "Clothing & Accessories",
          "Clothing & Accessories",
          "Clothing & Accessories",
          "Clothing & Accessories",
          "Clothing & Accessories",
          "Clothing & Accessories",
          "Clothing & Accessories",
          "Clothing & Accessories",
          "Clothing & Accessories",
          "Clothing & Accessories",
          "Clothing & Accessories",
          "Clothing & Accessories",
          "Clothing & Accessories",
          "Clothing & Accessories",
          "Clothing & Accessories",
          "Clothing & Accessories",
          "Clothing & Accessories",
          "Clothing & Accessories",
          "Clothing & Accessories",
          "Clothing & Accessories",
          "Clothing & Accessories",
          "Clothing & Accessories",
          "Clothing & Accessories",
          "Clothing & Accessories",
          "Clothing & Accessories",
          "Clothing & Accessories",
          "Clothing & Accessories",
          "Clothing & Accessories",
          "Clothing & Accessories",
          "Clothing & Accessories",
          "Clothing & Accessories",
          "Clothing & Accessories",
          "Clothing & Accessories",
          "Clothing & Accessories",
          "Clothing & Accessories",
          "Clothing & Accessories",
          "Clothing & Accessories",
          "Clothing & Accessories",
          "Clothing & Accessories",
          "Clothing & Accessories",
          "Clothing & Accessories",
          "Clothing & Accessories",
          "Clothing & Accessories",
          "Clothing & Accessories",
          "Clothing & Accessories",
          "Clothing & Accessories",
          "Clothing & Accessories",
          "Clothing & Accessories",
          "Clothing & Accessories",
          "Clothing & Accessories",
          "Clothing & Accessories",
          "Clothing & Accessories",
          "Clothing & Accessories",
          "Clothing & Accessories",
          "Clothing & Accessories",
          "Clothing & Accessories",
          "Clothing & Accessories",
          "Clothing & Accessories",
          "Clothing & Accessories",
          "Clothing & Accessories",
          "Clothing & Accessories",
          "Clothing & Accessories",
          "Clothing & Accessories",
          "Clothing & Accessories",
          "Clothing & Accessories",
          "Clothing & Accessories",
          "Clothing & Accessories",
          "Clothing & Accessories",
          "Clothing & Accessories",
          "Clothing & Accessories",
          "Clothing & Accessories",
          "Clothing & Accessories",
          "Clothing & Accessories",
          "Clothing & Accessories",
          "Clothing & Accessories",
          "Clothing & Accessories",
          "Clothing & Accessories",
          "Clothing & Accessories",
          "Clothing & Accessories",
          "Clothing & Accessories",
          "Clothing & Accessories",
          "Clothing & Accessories",
          "Clothing & Accessories",
          "Clothing & Accessories",
          "Clothing & Accessories",
          "Clothing & Accessories",
          "Clothing & Accessories",
          "Clothing & Accessories",
          "Clothing & Accessories",
          "Clothing & Accessories",
          "Clothing & Accessories",
          "Clothing & Accessories",
          "Clothing & Accessories",
          "Clothing & Accessories",
          "Clothing & Accessories",
          "Clothing & Accessories",
          "Clothing & Accessories",
          "Clothing & Accessories",
          "Clothing & Accessories",
          "Clothing & Accessories",
          "Clothing & Accessories",
          "Clothing & Accessories",
          "Clothing & Accessories",
          "Clothing & Accessories",
          "Clothing & Accessories",
          "Clothing & Accessories",
          "Clothing & Accessories",
          "Clothing & Accessories",
          "Clothing & Accessories",
          "Clothing & Accessories",
          "Clothing & Accessories",
          "Clothing & Accessories",
          "Clothing & Accessories",
          "Clothing & Accessories",
          "Clothing & Accessories",
          "Clothing & Accessories",
          "Clothing & Accessories",
          "Clothing & Accessories",
          "Clothing & Accessories",
          "Clothing & Accessories",
          "Clothing & Accessories",
          "Clothing & Accessories",
          "Clothing & Accessories",
          "Clothing & Accessories",
          "Clothing & Accessories",
          "Clothing & Accessories",
          "Clothing & Accessories",
          "Clothing & Accessories",
          "Clothing & Accessories",
          "Clothing & Accessories",
          "Clothing & Accessories",
          "Clothing & Accessories",
          "Clothing & Accessories",
          "Clothing & Accessories",
          "Clothing & Accessories",
          "Clothing & Accessories",
          "Clothing & Accessories",
          "Clothing & Accessories",
          "Clothing & Accessories",
          "Clothing & Accessories",
          "Clothing & Accessories",
          "Clothing & Accessories",
          "Clothing & Accessories",
          "Clothing & Accessories",
          "Clothing & Accessories",
          "Clothing & Accessories"
         ],
         "x0": " ",
         "xaxis": "x",
         "y": [
          734,
          382,
          1454,
          85,
          1244,
          214,
          565,
          106,
          328,
          79,
          226,
          700,
          343,
          678,
          1868,
          805,
          603,
          239,
          379,
          215,
          802,
          443,
          612,
          214,
          194,
          685,
          346,
          299,
          169,
          476,
          368,
          113,
          59,
          419,
          268,
          274,
          457,
          280,
          960,
          138,
          519,
          684,
          592,
          1013,
          235,
          288,
          324,
          221,
          58,
          64,
          217,
          94,
          1535,
          180,
          984,
          494,
          208,
          336,
          493,
          699,
          416,
          29,
          589,
          60,
          210,
          541,
          253,
          487,
          109,
          81,
          245,
          290,
          1406,
          539,
          1541,
          422,
          256,
          509,
          539,
          877,
          90,
          804,
          346,
          32,
          1299,
          553,
          128,
          748,
          647,
          291,
          31,
          1011,
          326,
          257,
          51,
          186,
          451,
          290,
          532,
          495,
          361,
          449,
          1384,
          24,
          501,
          460,
          609,
          57,
          200,
          114,
          253,
          45,
          521,
          159,
          563,
          1039,
          578,
          412,
          516,
          138,
          58,
          312,
          522,
          1098,
          781,
          89,
          692,
          200,
          455,
          488,
          364,
          242,
          268,
          672,
          419,
          148,
          331,
          604,
          441,
          29,
          178,
          104,
          326,
          239,
          400,
          127,
          1733,
          206,
          61,
          483,
          37,
          141,
          534,
          687,
          498,
          625,
          453,
          97,
          522,
          1084,
          339,
          315,
          879,
          356,
          279,
          42,
          541,
          383,
          749,
          648,
          57,
          1728,
          698,
          878,
          775,
          690,
          505,
          617,
          221,
          674,
          462,
          214,
          260,
          424,
          40
         ],
         "y0": " ",
         "yaxis": "y"
        },
        {
         "alignmentgroup": "True",
         "hovertemplate": "label=%{x}<br>text_length=%{y}<extra></extra>",
         "legendgroup": "Electronics",
         "marker": {
          "color": "#ab63fa"
         },
         "name": "Electronics",
         "notched": false,
         "offsetgroup": "Electronics",
         "orientation": "v",
         "showlegend": true,
         "type": "box",
         "x": [
          "Electronics",
          "Electronics",
          "Electronics",
          "Electronics",
          "Electronics",
          "Electronics",
          "Electronics",
          "Electronics",
          "Electronics",
          "Electronics",
          "Electronics",
          "Electronics",
          "Electronics",
          "Electronics",
          "Electronics",
          "Electronics",
          "Electronics",
          "Electronics",
          "Electronics",
          "Electronics",
          "Electronics",
          "Electronics",
          "Electronics",
          "Electronics",
          "Electronics",
          "Electronics",
          "Electronics",
          "Electronics",
          "Electronics",
          "Electronics",
          "Electronics",
          "Electronics",
          "Electronics",
          "Electronics",
          "Electronics",
          "Electronics",
          "Electronics",
          "Electronics",
          "Electronics",
          "Electronics",
          "Electronics",
          "Electronics",
          "Electronics",
          "Electronics",
          "Electronics",
          "Electronics",
          "Electronics",
          "Electronics",
          "Electronics",
          "Electronics",
          "Electronics",
          "Electronics",
          "Electronics",
          "Electronics",
          "Electronics",
          "Electronics",
          "Electronics",
          "Electronics",
          "Electronics",
          "Electronics",
          "Electronics",
          "Electronics",
          "Electronics",
          "Electronics",
          "Electronics",
          "Electronics",
          "Electronics",
          "Electronics",
          "Electronics",
          "Electronics",
          "Electronics",
          "Electronics",
          "Electronics",
          "Electronics",
          "Electronics",
          "Electronics",
          "Electronics",
          "Electronics",
          "Electronics",
          "Electronics",
          "Electronics",
          "Electronics",
          "Electronics",
          "Electronics",
          "Electronics",
          "Electronics",
          "Electronics",
          "Electronics",
          "Electronics",
          "Electronics",
          "Electronics",
          "Electronics",
          "Electronics",
          "Electronics",
          "Electronics",
          "Electronics",
          "Electronics",
          "Electronics",
          "Electronics",
          "Electronics",
          "Electronics",
          "Electronics",
          "Electronics",
          "Electronics",
          "Electronics",
          "Electronics",
          "Electronics",
          "Electronics",
          "Electronics",
          "Electronics",
          "Electronics",
          "Electronics",
          "Electronics",
          "Electronics",
          "Electronics",
          "Electronics",
          "Electronics",
          "Electronics",
          "Electronics",
          "Electronics",
          "Electronics",
          "Electronics",
          "Electronics",
          "Electronics",
          "Electronics",
          "Electronics",
          "Electronics",
          "Electronics",
          "Electronics",
          "Electronics",
          "Electronics",
          "Electronics",
          "Electronics",
          "Electronics",
          "Electronics",
          "Electronics",
          "Electronics",
          "Electronics",
          "Electronics",
          "Electronics",
          "Electronics",
          "Electronics",
          "Electronics",
          "Electronics",
          "Electronics",
          "Electronics",
          "Electronics",
          "Electronics",
          "Electronics",
          "Electronics",
          "Electronics",
          "Electronics",
          "Electronics",
          "Electronics",
          "Electronics",
          "Electronics",
          "Electronics",
          "Electronics",
          "Electronics",
          "Electronics",
          "Electronics",
          "Electronics",
          "Electronics",
          "Electronics",
          "Electronics",
          "Electronics",
          "Electronics",
          "Electronics",
          "Electronics",
          "Electronics",
          "Electronics",
          "Electronics",
          "Electronics",
          "Electronics",
          "Electronics",
          "Electronics",
          "Electronics",
          "Electronics",
          "Electronics",
          "Electronics",
          "Electronics",
          "Electronics",
          "Electronics",
          "Electronics",
          "Electronics",
          "Electronics",
          "Electronics",
          "Electronics"
         ],
         "x0": " ",
         "xaxis": "x",
         "y": [
          65,
          781,
          1203,
          1996,
          1183,
          66,
          2563,
          863,
          914,
          1119,
          1406,
          266,
          610,
          746,
          572,
          835,
          87,
          1425,
          1206,
          1587,
          215,
          191,
          169,
          707,
          1029,
          501,
          79,
          829,
          244,
          2071,
          1313,
          364,
          119,
          836,
          1369,
          112,
          178,
          601,
          1522,
          515,
          1365,
          1678,
          1028,
          420,
          632,
          697,
          162,
          309,
          433,
          520,
          172,
          624,
          344,
          199,
          1017,
          279,
          376,
          170,
          1758,
          480,
          114,
          1054,
          301,
          86,
          62,
          407,
          1005,
          598,
          757,
          335,
          663,
          187,
          433,
          186,
          176,
          1126,
          1964,
          476,
          643,
          1301,
          84,
          1679,
          222,
          281,
          84,
          2437,
          962,
          125,
          1403,
          63,
          175,
          615,
          752,
          1175,
          2096,
          235,
          923,
          200,
          233,
          425,
          326,
          1243,
          2184,
          268,
          895,
          361,
          106,
          335,
          158,
          536,
          332,
          1381,
          86,
          471,
          158,
          116,
          1987,
          1032,
          1272,
          1482,
          107,
          928,
          491,
          85,
          499,
          961,
          841,
          1714,
          72,
          98,
          1098,
          386,
          1446,
          220,
          249,
          521,
          2001,
          280,
          702,
          534,
          1742,
          3792,
          2869,
          12372,
          803,
          1619,
          1381,
          1111,
          757,
          950,
          1497,
          1324,
          251,
          68,
          196,
          781,
          362,
          1463,
          313,
          977,
          269,
          1278,
          614,
          883,
          1303,
          350,
          677,
          1734,
          87,
          61,
          443,
          1246,
          149,
          361,
          1046,
          177,
          571,
          102,
          66,
          2031,
          254,
          528,
          1680,
          326,
          236,
          1908,
          944,
          293
         ],
         "y0": " ",
         "yaxis": "y"
        }
       ],
       "layout": {
        "autosize": false,
        "boxmode": "overlay",
        "height": 600,
        "legend": {
         "title": {
          "text": "label"
         },
         "tracegroupgap": 0
        },
        "margin": {
         "t": 60
        },
        "template": {
         "data": {
          "bar": [
           {
            "error_x": {
             "color": "#2a3f5f"
            },
            "error_y": {
             "color": "#2a3f5f"
            },
            "marker": {
             "line": {
              "color": "#E5ECF6",
              "width": 0.5
             },
             "pattern": {
              "fillmode": "overlay",
              "size": 10,
              "solidity": 0.2
             }
            },
            "type": "bar"
           }
          ],
          "barpolar": [
           {
            "marker": {
             "line": {
              "color": "#E5ECF6",
              "width": 0.5
             },
             "pattern": {
              "fillmode": "overlay",
              "size": 10,
              "solidity": 0.2
             }
            },
            "type": "barpolar"
           }
          ],
          "carpet": [
           {
            "aaxis": {
             "endlinecolor": "#2a3f5f",
             "gridcolor": "white",
             "linecolor": "white",
             "minorgridcolor": "white",
             "startlinecolor": "#2a3f5f"
            },
            "baxis": {
             "endlinecolor": "#2a3f5f",
             "gridcolor": "white",
             "linecolor": "white",
             "minorgridcolor": "white",
             "startlinecolor": "#2a3f5f"
            },
            "type": "carpet"
           }
          ],
          "choropleth": [
           {
            "colorbar": {
             "outlinewidth": 0,
             "ticks": ""
            },
            "type": "choropleth"
           }
          ],
          "contour": [
           {
            "colorbar": {
             "outlinewidth": 0,
             "ticks": ""
            },
            "colorscale": [
             [
              0,
              "#0d0887"
             ],
             [
              0.1111111111111111,
              "#46039f"
             ],
             [
              0.2222222222222222,
              "#7201a8"
             ],
             [
              0.3333333333333333,
              "#9c179e"
             ],
             [
              0.4444444444444444,
              "#bd3786"
             ],
             [
              0.5555555555555556,
              "#d8576b"
             ],
             [
              0.6666666666666666,
              "#ed7953"
             ],
             [
              0.7777777777777778,
              "#fb9f3a"
             ],
             [
              0.8888888888888888,
              "#fdca26"
             ],
             [
              1,
              "#f0f921"
             ]
            ],
            "type": "contour"
           }
          ],
          "contourcarpet": [
           {
            "colorbar": {
             "outlinewidth": 0,
             "ticks": ""
            },
            "type": "contourcarpet"
           }
          ],
          "heatmap": [
           {
            "colorbar": {
             "outlinewidth": 0,
             "ticks": ""
            },
            "colorscale": [
             [
              0,
              "#0d0887"
             ],
             [
              0.1111111111111111,
              "#46039f"
             ],
             [
              0.2222222222222222,
              "#7201a8"
             ],
             [
              0.3333333333333333,
              "#9c179e"
             ],
             [
              0.4444444444444444,
              "#bd3786"
             ],
             [
              0.5555555555555556,
              "#d8576b"
             ],
             [
              0.6666666666666666,
              "#ed7953"
             ],
             [
              0.7777777777777778,
              "#fb9f3a"
             ],
             [
              0.8888888888888888,
              "#fdca26"
             ],
             [
              1,
              "#f0f921"
             ]
            ],
            "type": "heatmap"
           }
          ],
          "heatmapgl": [
           {
            "colorbar": {
             "outlinewidth": 0,
             "ticks": ""
            },
            "colorscale": [
             [
              0,
              "#0d0887"
             ],
             [
              0.1111111111111111,
              "#46039f"
             ],
             [
              0.2222222222222222,
              "#7201a8"
             ],
             [
              0.3333333333333333,
              "#9c179e"
             ],
             [
              0.4444444444444444,
              "#bd3786"
             ],
             [
              0.5555555555555556,
              "#d8576b"
             ],
             [
              0.6666666666666666,
              "#ed7953"
             ],
             [
              0.7777777777777778,
              "#fb9f3a"
             ],
             [
              0.8888888888888888,
              "#fdca26"
             ],
             [
              1,
              "#f0f921"
             ]
            ],
            "type": "heatmapgl"
           }
          ],
          "histogram": [
           {
            "marker": {
             "pattern": {
              "fillmode": "overlay",
              "size": 10,
              "solidity": 0.2
             }
            },
            "type": "histogram"
           }
          ],
          "histogram2d": [
           {
            "colorbar": {
             "outlinewidth": 0,
             "ticks": ""
            },
            "colorscale": [
             [
              0,
              "#0d0887"
             ],
             [
              0.1111111111111111,
              "#46039f"
             ],
             [
              0.2222222222222222,
              "#7201a8"
             ],
             [
              0.3333333333333333,
              "#9c179e"
             ],
             [
              0.4444444444444444,
              "#bd3786"
             ],
             [
              0.5555555555555556,
              "#d8576b"
             ],
             [
              0.6666666666666666,
              "#ed7953"
             ],
             [
              0.7777777777777778,
              "#fb9f3a"
             ],
             [
              0.8888888888888888,
              "#fdca26"
             ],
             [
              1,
              "#f0f921"
             ]
            ],
            "type": "histogram2d"
           }
          ],
          "histogram2dcontour": [
           {
            "colorbar": {
             "outlinewidth": 0,
             "ticks": ""
            },
            "colorscale": [
             [
              0,
              "#0d0887"
             ],
             [
              0.1111111111111111,
              "#46039f"
             ],
             [
              0.2222222222222222,
              "#7201a8"
             ],
             [
              0.3333333333333333,
              "#9c179e"
             ],
             [
              0.4444444444444444,
              "#bd3786"
             ],
             [
              0.5555555555555556,
              "#d8576b"
             ],
             [
              0.6666666666666666,
              "#ed7953"
             ],
             [
              0.7777777777777778,
              "#fb9f3a"
             ],
             [
              0.8888888888888888,
              "#fdca26"
             ],
             [
              1,
              "#f0f921"
             ]
            ],
            "type": "histogram2dcontour"
           }
          ],
          "mesh3d": [
           {
            "colorbar": {
             "outlinewidth": 0,
             "ticks": ""
            },
            "type": "mesh3d"
           }
          ],
          "parcoords": [
           {
            "line": {
             "colorbar": {
              "outlinewidth": 0,
              "ticks": ""
             }
            },
            "type": "parcoords"
           }
          ],
          "pie": [
           {
            "automargin": true,
            "type": "pie"
           }
          ],
          "scatter": [
           {
            "fillpattern": {
             "fillmode": "overlay",
             "size": 10,
             "solidity": 0.2
            },
            "type": "scatter"
           }
          ],
          "scatter3d": [
           {
            "line": {
             "colorbar": {
              "outlinewidth": 0,
              "ticks": ""
             }
            },
            "marker": {
             "colorbar": {
              "outlinewidth": 0,
              "ticks": ""
             }
            },
            "type": "scatter3d"
           }
          ],
          "scattercarpet": [
           {
            "marker": {
             "colorbar": {
              "outlinewidth": 0,
              "ticks": ""
             }
            },
            "type": "scattercarpet"
           }
          ],
          "scattergeo": [
           {
            "marker": {
             "colorbar": {
              "outlinewidth": 0,
              "ticks": ""
             }
            },
            "type": "scattergeo"
           }
          ],
          "scattergl": [
           {
            "marker": {
             "colorbar": {
              "outlinewidth": 0,
              "ticks": ""
             }
            },
            "type": "scattergl"
           }
          ],
          "scattermapbox": [
           {
            "marker": {
             "colorbar": {
              "outlinewidth": 0,
              "ticks": ""
             }
            },
            "type": "scattermapbox"
           }
          ],
          "scatterpolar": [
           {
            "marker": {
             "colorbar": {
              "outlinewidth": 0,
              "ticks": ""
             }
            },
            "type": "scatterpolar"
           }
          ],
          "scatterpolargl": [
           {
            "marker": {
             "colorbar": {
              "outlinewidth": 0,
              "ticks": ""
             }
            },
            "type": "scatterpolargl"
           }
          ],
          "scatterternary": [
           {
            "marker": {
             "colorbar": {
              "outlinewidth": 0,
              "ticks": ""
             }
            },
            "type": "scatterternary"
           }
          ],
          "surface": [
           {
            "colorbar": {
             "outlinewidth": 0,
             "ticks": ""
            },
            "colorscale": [
             [
              0,
              "#0d0887"
             ],
             [
              0.1111111111111111,
              "#46039f"
             ],
             [
              0.2222222222222222,
              "#7201a8"
             ],
             [
              0.3333333333333333,
              "#9c179e"
             ],
             [
              0.4444444444444444,
              "#bd3786"
             ],
             [
              0.5555555555555556,
              "#d8576b"
             ],
             [
              0.6666666666666666,
              "#ed7953"
             ],
             [
              0.7777777777777778,
              "#fb9f3a"
             ],
             [
              0.8888888888888888,
              "#fdca26"
             ],
             [
              1,
              "#f0f921"
             ]
            ],
            "type": "surface"
           }
          ],
          "table": [
           {
            "cells": {
             "fill": {
              "color": "#EBF0F8"
             },
             "line": {
              "color": "white"
             }
            },
            "header": {
             "fill": {
              "color": "#C8D4E3"
             },
             "line": {
              "color": "white"
             }
            },
            "type": "table"
           }
          ]
         },
         "layout": {
          "annotationdefaults": {
           "arrowcolor": "#2a3f5f",
           "arrowhead": 0,
           "arrowwidth": 1
          },
          "autotypenumbers": "strict",
          "coloraxis": {
           "colorbar": {
            "outlinewidth": 0,
            "ticks": ""
           }
          },
          "colorscale": {
           "diverging": [
            [
             0,
             "#8e0152"
            ],
            [
             0.1,
             "#c51b7d"
            ],
            [
             0.2,
             "#de77ae"
            ],
            [
             0.3,
             "#f1b6da"
            ],
            [
             0.4,
             "#fde0ef"
            ],
            [
             0.5,
             "#f7f7f7"
            ],
            [
             0.6,
             "#e6f5d0"
            ],
            [
             0.7,
             "#b8e186"
            ],
            [
             0.8,
             "#7fbc41"
            ],
            [
             0.9,
             "#4d9221"
            ],
            [
             1,
             "#276419"
            ]
           ],
           "sequential": [
            [
             0,
             "#0d0887"
            ],
            [
             0.1111111111111111,
             "#46039f"
            ],
            [
             0.2222222222222222,
             "#7201a8"
            ],
            [
             0.3333333333333333,
             "#9c179e"
            ],
            [
             0.4444444444444444,
             "#bd3786"
            ],
            [
             0.5555555555555556,
             "#d8576b"
            ],
            [
             0.6666666666666666,
             "#ed7953"
            ],
            [
             0.7777777777777778,
             "#fb9f3a"
            ],
            [
             0.8888888888888888,
             "#fdca26"
            ],
            [
             1,
             "#f0f921"
            ]
           ],
           "sequentialminus": [
            [
             0,
             "#0d0887"
            ],
            [
             0.1111111111111111,
             "#46039f"
            ],
            [
             0.2222222222222222,
             "#7201a8"
            ],
            [
             0.3333333333333333,
             "#9c179e"
            ],
            [
             0.4444444444444444,
             "#bd3786"
            ],
            [
             0.5555555555555556,
             "#d8576b"
            ],
            [
             0.6666666666666666,
             "#ed7953"
            ],
            [
             0.7777777777777778,
             "#fb9f3a"
            ],
            [
             0.8888888888888888,
             "#fdca26"
            ],
            [
             1,
             "#f0f921"
            ]
           ]
          },
          "colorway": [
           "#636efa",
           "#EF553B",
           "#00cc96",
           "#ab63fa",
           "#FFA15A",
           "#19d3f3",
           "#FF6692",
           "#B6E880",
           "#FF97FF",
           "#FECB52"
          ],
          "font": {
           "color": "#2a3f5f"
          },
          "geo": {
           "bgcolor": "white",
           "lakecolor": "white",
           "landcolor": "#E5ECF6",
           "showlakes": true,
           "showland": true,
           "subunitcolor": "white"
          },
          "hoverlabel": {
           "align": "left"
          },
          "hovermode": "closest",
          "mapbox": {
           "style": "light"
          },
          "paper_bgcolor": "white",
          "plot_bgcolor": "#E5ECF6",
          "polar": {
           "angularaxis": {
            "gridcolor": "white",
            "linecolor": "white",
            "ticks": ""
           },
           "bgcolor": "#E5ECF6",
           "radialaxis": {
            "gridcolor": "white",
            "linecolor": "white",
            "ticks": ""
           }
          },
          "scene": {
           "xaxis": {
            "backgroundcolor": "#E5ECF6",
            "gridcolor": "white",
            "gridwidth": 2,
            "linecolor": "white",
            "showbackground": true,
            "ticks": "",
            "zerolinecolor": "white"
           },
           "yaxis": {
            "backgroundcolor": "#E5ECF6",
            "gridcolor": "white",
            "gridwidth": 2,
            "linecolor": "white",
            "showbackground": true,
            "ticks": "",
            "zerolinecolor": "white"
           },
           "zaxis": {
            "backgroundcolor": "#E5ECF6",
            "gridcolor": "white",
            "gridwidth": 2,
            "linecolor": "white",
            "showbackground": true,
            "ticks": "",
            "zerolinecolor": "white"
           }
          },
          "shapedefaults": {
           "line": {
            "color": "#2a3f5f"
           }
          },
          "ternary": {
           "aaxis": {
            "gridcolor": "white",
            "linecolor": "white",
            "ticks": ""
           },
           "baxis": {
            "gridcolor": "white",
            "linecolor": "white",
            "ticks": ""
           },
           "bgcolor": "#E5ECF6",
           "caxis": {
            "gridcolor": "white",
            "linecolor": "white",
            "ticks": ""
           }
          },
          "title": {
           "x": 0.05
          },
          "xaxis": {
           "automargin": true,
           "gridcolor": "white",
           "linecolor": "white",
           "ticks": "",
           "title": {
            "standoff": 15
           },
           "zerolinecolor": "white",
           "zerolinewidth": 2
          },
          "yaxis": {
           "automargin": true,
           "gridcolor": "white",
           "linecolor": "white",
           "ticks": "",
           "title": {
            "standoff": 15
           },
           "zerolinecolor": "white",
           "zerolinewidth": 2
          }
         }
        },
        "title": {
         "text": "Box Plot of Text Length for Each Category"
        },
        "width": 1000,
        "xaxis": {
         "anchor": "y",
         "categoryarray": [
          "Household",
          "Books",
          "Clothing & Accessories",
          "Electronics"
         ],
         "categoryorder": "array",
         "domain": [
          0,
          1
         ],
         "title": {
          "text": "label"
         }
        },
        "yaxis": {
         "anchor": "x",
         "domain": [
          0,
          1
         ],
         "title": {
          "text": "text_length"
         }
        }
       }
      }
     },
     "metadata": {},
     "output_type": "display_data"
    }
   ],
   "source": [
    "fig = px.box(df, x='label', y='text_length', color='label')\n",
    "\n",
    "# Update layout for better visualization\n",
    "fig.update_layout(title='Box Plot of Text Length for Each Category',\n",
    "                  autosize=False,\n",
    "                  width=1000,\n",
    "                  height=600)\n",
    "\n",
    "fig.show()"
   ]
  },
  {
   "cell_type": "code",
   "execution_count": 21,
   "metadata": {},
   "outputs": [],
   "source": [
    "def remove_outliers(df, column):\n",
    "    Q1 = df[column].quantile(0.25)\n",
    "    Q3 = df[column].quantile(0.75)\n",
    "    IQR = Q3 - Q1\n",
    "    df_out = df[~((df[column] < (Q1 - 1.5 * IQR)) | (df[column] > (Q3 + 1.5 * IQR)))]\n",
    "    return df_out\n",
    "\n",
    "# Apply the function to each category\n",
    "df_clean = pd.concat([remove_outliers(sub_df, 'text_length') for category, sub_df in df.groupby('label')])"
   ]
  },
  {
   "cell_type": "code",
   "execution_count": 22,
   "metadata": {},
   "outputs": [
    {
     "data": {
      "application/vnd.plotly.v1+json": {
       "config": {
        "plotlyServerURL": "https://plot.ly"
       },
       "data": [
        {
         "name": "Household",
         "type": "histogram",
         "x": [
          523,
          820,
          504,
          689,
          914,
          749,
          93,
          739,
          1236,
          134,
          544,
          370,
          683,
          628,
          632,
          1040,
          71,
          171,
          134,
          451,
          175,
          400,
          815,
          327,
          224,
          279,
          439,
          448,
          633,
          587,
          1353,
          996,
          336,
          322,
          500,
          79,
          410,
          451,
          349,
          309,
          412,
          333,
          65,
          871,
          638,
          906,
          1296,
          425,
          1699,
          1411,
          190,
          536,
          637,
          1474,
          218,
          307,
          268,
          238,
          624,
          246,
          1312,
          1702,
          431,
          1289,
          1595,
          46,
          1543,
          64,
          66,
          663,
          706,
          615,
          1295,
          84,
          720,
          1086,
          538,
          129,
          123,
          95,
          910,
          758,
          404,
          645,
          188,
          121,
          34,
          597,
          387,
          665,
          59,
          601,
          1233,
          50,
          273,
          437,
          341,
          348,
          754,
          112,
          142,
          901,
          853,
          243,
          493,
          571,
          833,
          576,
          1530,
          580,
          755,
          237,
          353,
          543,
          464,
          110,
          356,
          121,
          1236,
          276,
          269,
          232,
          410,
          1123,
          69,
          217,
          949,
          427,
          166,
          1588,
          74,
          616,
          588,
          1034,
          245,
          452,
          613,
          464,
          1318,
          440,
          413,
          657,
          766,
          253,
          1107,
          195,
          690,
          247,
          1284,
          1295,
          197,
          216,
          504,
          1081,
          431,
          363,
          61,
          514,
          476,
          578,
          367,
          944,
          377,
          167,
          1467,
          1444,
          255,
          583,
          365,
          1325,
          559,
          58,
          480,
          1376,
          224,
          205,
          546,
          492,
          556,
          758,
          150,
          99,
          221,
          881,
          443,
          452,
          423,
          68,
          348,
          385,
          273,
          303,
          510,
          196,
          523,
          169,
          394,
          524,
          675,
          531,
          695,
          1353,
          1432,
          1474,
          67,
          596,
          698,
          490,
          445,
          1293,
          233,
          1247,
          1525,
          865,
          427,
          518,
          418,
          150,
          1013,
          683,
          38,
          171,
          167,
          247,
          1170,
          100,
          408,
          1289,
          718,
          116,
          1079,
          83,
          538,
          269,
          392,
          965,
          1027,
          36,
          740,
          384,
          778,
          279,
          315,
          665,
          871,
          1561,
          210,
          469,
          120,
          363,
          210,
          932,
          212,
          1503,
          870,
          1546,
          904,
          275,
          910,
          272,
          433,
          44,
          1580,
          659,
          288,
          568,
          287,
          921,
          1256,
          675,
          286,
          716,
          126,
          660,
          662,
          435,
          83,
          238,
          1196,
          300,
          89,
          77,
          405,
          165,
          914,
          898,
          367,
          1341,
          494,
          1079,
          472,
          604,
          1603,
          609,
          562,
          444,
          169,
          682,
          510,
          1080,
          520,
          39,
          483,
          955,
          241,
          152,
          317,
          1073,
          581,
          407,
          236,
          939,
          140,
          434,
          408,
          540,
          506,
          438,
          293,
          1185,
          346,
          434,
          738,
          1306,
          391,
          1078,
          460,
          266,
          1404,
          410,
          65,
          888,
          490,
          580,
          960,
          111,
          287,
          369,
          946,
          1390,
          36,
          217,
          66,
          272,
          230,
          49,
          304,
          1099,
          322,
          299,
          148,
          114,
          1486,
          792,
          1199,
          108,
          110,
          308,
          1088,
          414,
          137,
          654,
          400,
          797,
          1078,
          678,
          844,
          92,
          758,
          259,
          551,
          643
         ]
        },
        {
         "name": "Books",
         "type": "histogram",
         "x": [
          1265,
          95,
          706,
          2221,
          32,
          720,
          897,
          361,
          15,
          613,
          513,
          258,
          47,
          301,
          846,
          299,
          477,
          1332,
          18,
          653,
          333,
          757,
          23,
          537,
          1039,
          750,
          744,
          29,
          23,
          567,
          1526,
          261,
          63,
          1079,
          25,
          326,
          1093,
          1013,
          20,
          1079,
          1067,
          69,
          192,
          490,
          89,
          1260,
          233,
          33,
          119,
          1510,
          531,
          121,
          17,
          512,
          970,
          157,
          98,
          89,
          614,
          1004,
          34,
          801,
          925,
          1651,
          405,
          39,
          595,
          42,
          1544,
          267,
          35,
          1034,
          316,
          1268,
          103,
          768,
          434,
          337,
          210,
          58,
          60,
          917,
          50,
          49,
          37,
          258,
          1203,
          798,
          24,
          37,
          71,
          27,
          539,
          2065,
          1954,
          2095,
          769,
          93,
          571,
          405,
          110,
          29,
          61,
          21,
          131,
          407,
          1371,
          1397,
          1268,
          121,
          151,
          1683,
          96,
          56,
          802,
          725,
          867,
          59,
          1275,
          1524,
          813,
          34,
          797,
          2433,
          536,
          683,
          83,
          1087,
          70,
          667,
          1667,
          1114,
          1361,
          1661,
          1033,
          1545,
          897,
          157,
          611,
          792,
          27,
          761,
          55,
          1440,
          76,
          139,
          65,
          61,
          831,
          323,
          1240,
          144,
          277,
          65,
          18,
          31,
          473,
          14,
          1467,
          24,
          823,
          781,
          111,
          65,
          2063,
          1937,
          94,
          21,
          79,
          309,
          136,
          58,
          83,
          1523,
          398,
          70,
          1205,
          1442,
          27,
          610,
          406,
          1456,
          19,
          1039,
          93,
          1276,
          27,
          129,
          2286,
          309,
          573,
          483,
          1607,
          703,
          1792,
          54,
          399,
          141,
          148,
          66,
          1086,
          515,
          873,
          349,
          746,
          1296,
          14,
          54,
          43,
          348,
          60,
          917,
          216,
          599,
          84,
          1054,
          41,
          30,
          445,
          699,
          1727,
          501,
          1246,
          298,
          1191,
          539,
          71,
          35,
          57,
          207,
          161,
          14,
          375,
          1055,
          1066,
          622
         ]
        },
        {
         "name": "Clothing & Accessories",
         "type": "histogram",
         "x": [
          734,
          382,
          85,
          214,
          565,
          106,
          328,
          79,
          226,
          700,
          343,
          678,
          805,
          603,
          239,
          379,
          215,
          802,
          443,
          612,
          214,
          194,
          685,
          346,
          299,
          169,
          476,
          368,
          113,
          59,
          419,
          268,
          274,
          457,
          280,
          960,
          138,
          519,
          684,
          592,
          1013,
          235,
          288,
          324,
          221,
          58,
          64,
          217,
          94,
          180,
          984,
          494,
          208,
          336,
          493,
          699,
          416,
          29,
          589,
          60,
          210,
          541,
          253,
          487,
          109,
          81,
          245,
          290,
          539,
          422,
          256,
          509,
          539,
          877,
          90,
          804,
          346,
          32,
          553,
          128,
          748,
          647,
          291,
          31,
          1011,
          326,
          257,
          51,
          186,
          451,
          290,
          532,
          495,
          361,
          449,
          24,
          501,
          460,
          609,
          57,
          200,
          114,
          253,
          45,
          521,
          159,
          563,
          1039,
          578,
          412,
          516,
          138,
          58,
          312,
          522,
          1098,
          781,
          89,
          692,
          200,
          455,
          488,
          364,
          242,
          268,
          672,
          419,
          148,
          331,
          604,
          441,
          29,
          178,
          104,
          326,
          239,
          400,
          127,
          206,
          61,
          483,
          37,
          141,
          534,
          687,
          498,
          625,
          453,
          97,
          522,
          1084,
          339,
          315,
          879,
          356,
          279,
          42,
          541,
          383,
          749,
          648,
          57,
          698,
          878,
          775,
          690,
          505,
          617,
          221,
          674,
          462,
          214,
          260,
          424,
          40
         ]
        },
        {
         "name": "Electronics",
         "type": "histogram",
         "x": [
          65,
          781,
          1203,
          1996,
          1183,
          66,
          863,
          914,
          1119,
          1406,
          266,
          610,
          746,
          572,
          835,
          87,
          1425,
          1206,
          1587,
          215,
          191,
          169,
          707,
          1029,
          501,
          79,
          829,
          244,
          2071,
          1313,
          364,
          119,
          836,
          1369,
          112,
          178,
          601,
          1522,
          515,
          1365,
          1678,
          1028,
          420,
          632,
          697,
          162,
          309,
          433,
          520,
          172,
          624,
          344,
          199,
          1017,
          279,
          376,
          170,
          1758,
          480,
          114,
          1054,
          301,
          86,
          62,
          407,
          1005,
          598,
          757,
          335,
          663,
          187,
          433,
          186,
          176,
          1126,
          1964,
          476,
          643,
          1301,
          84,
          1679,
          222,
          281,
          84,
          2437,
          962,
          125,
          1403,
          63,
          175,
          615,
          752,
          1175,
          2096,
          235,
          923,
          200,
          233,
          425,
          326,
          1243,
          2184,
          268,
          895,
          361,
          106,
          335,
          158,
          536,
          332,
          1381,
          86,
          471,
          158,
          116,
          1987,
          1032,
          1272,
          1482,
          107,
          928,
          491,
          85,
          499,
          961,
          841,
          1714,
          72,
          98,
          1098,
          386,
          1446,
          220,
          249,
          521,
          2001,
          280,
          702,
          534,
          1742,
          803,
          1619,
          1381,
          1111,
          757,
          950,
          1497,
          1324,
          251,
          68,
          196,
          781,
          362,
          1463,
          313,
          977,
          269,
          1278,
          614,
          883,
          1303,
          350,
          677,
          1734,
          87,
          61,
          443,
          1246,
          149,
          361,
          1046,
          177,
          571,
          102,
          66,
          2031,
          254,
          528,
          1680,
          326,
          236,
          1908,
          944,
          293
         ]
        }
       ],
       "layout": {
        "autosize": false,
        "barmode": "stack",
        "height": 600,
        "template": {
         "data": {
          "bar": [
           {
            "error_x": {
             "color": "#2a3f5f"
            },
            "error_y": {
             "color": "#2a3f5f"
            },
            "marker": {
             "line": {
              "color": "#E5ECF6",
              "width": 0.5
             },
             "pattern": {
              "fillmode": "overlay",
              "size": 10,
              "solidity": 0.2
             }
            },
            "type": "bar"
           }
          ],
          "barpolar": [
           {
            "marker": {
             "line": {
              "color": "#E5ECF6",
              "width": 0.5
             },
             "pattern": {
              "fillmode": "overlay",
              "size": 10,
              "solidity": 0.2
             }
            },
            "type": "barpolar"
           }
          ],
          "carpet": [
           {
            "aaxis": {
             "endlinecolor": "#2a3f5f",
             "gridcolor": "white",
             "linecolor": "white",
             "minorgridcolor": "white",
             "startlinecolor": "#2a3f5f"
            },
            "baxis": {
             "endlinecolor": "#2a3f5f",
             "gridcolor": "white",
             "linecolor": "white",
             "minorgridcolor": "white",
             "startlinecolor": "#2a3f5f"
            },
            "type": "carpet"
           }
          ],
          "choropleth": [
           {
            "colorbar": {
             "outlinewidth": 0,
             "ticks": ""
            },
            "type": "choropleth"
           }
          ],
          "contour": [
           {
            "colorbar": {
             "outlinewidth": 0,
             "ticks": ""
            },
            "colorscale": [
             [
              0,
              "#0d0887"
             ],
             [
              0.1111111111111111,
              "#46039f"
             ],
             [
              0.2222222222222222,
              "#7201a8"
             ],
             [
              0.3333333333333333,
              "#9c179e"
             ],
             [
              0.4444444444444444,
              "#bd3786"
             ],
             [
              0.5555555555555556,
              "#d8576b"
             ],
             [
              0.6666666666666666,
              "#ed7953"
             ],
             [
              0.7777777777777778,
              "#fb9f3a"
             ],
             [
              0.8888888888888888,
              "#fdca26"
             ],
             [
              1,
              "#f0f921"
             ]
            ],
            "type": "contour"
           }
          ],
          "contourcarpet": [
           {
            "colorbar": {
             "outlinewidth": 0,
             "ticks": ""
            },
            "type": "contourcarpet"
           }
          ],
          "heatmap": [
           {
            "colorbar": {
             "outlinewidth": 0,
             "ticks": ""
            },
            "colorscale": [
             [
              0,
              "#0d0887"
             ],
             [
              0.1111111111111111,
              "#46039f"
             ],
             [
              0.2222222222222222,
              "#7201a8"
             ],
             [
              0.3333333333333333,
              "#9c179e"
             ],
             [
              0.4444444444444444,
              "#bd3786"
             ],
             [
              0.5555555555555556,
              "#d8576b"
             ],
             [
              0.6666666666666666,
              "#ed7953"
             ],
             [
              0.7777777777777778,
              "#fb9f3a"
             ],
             [
              0.8888888888888888,
              "#fdca26"
             ],
             [
              1,
              "#f0f921"
             ]
            ],
            "type": "heatmap"
           }
          ],
          "heatmapgl": [
           {
            "colorbar": {
             "outlinewidth": 0,
             "ticks": ""
            },
            "colorscale": [
             [
              0,
              "#0d0887"
             ],
             [
              0.1111111111111111,
              "#46039f"
             ],
             [
              0.2222222222222222,
              "#7201a8"
             ],
             [
              0.3333333333333333,
              "#9c179e"
             ],
             [
              0.4444444444444444,
              "#bd3786"
             ],
             [
              0.5555555555555556,
              "#d8576b"
             ],
             [
              0.6666666666666666,
              "#ed7953"
             ],
             [
              0.7777777777777778,
              "#fb9f3a"
             ],
             [
              0.8888888888888888,
              "#fdca26"
             ],
             [
              1,
              "#f0f921"
             ]
            ],
            "type": "heatmapgl"
           }
          ],
          "histogram": [
           {
            "marker": {
             "pattern": {
              "fillmode": "overlay",
              "size": 10,
              "solidity": 0.2
             }
            },
            "type": "histogram"
           }
          ],
          "histogram2d": [
           {
            "colorbar": {
             "outlinewidth": 0,
             "ticks": ""
            },
            "colorscale": [
             [
              0,
              "#0d0887"
             ],
             [
              0.1111111111111111,
              "#46039f"
             ],
             [
              0.2222222222222222,
              "#7201a8"
             ],
             [
              0.3333333333333333,
              "#9c179e"
             ],
             [
              0.4444444444444444,
              "#bd3786"
             ],
             [
              0.5555555555555556,
              "#d8576b"
             ],
             [
              0.6666666666666666,
              "#ed7953"
             ],
             [
              0.7777777777777778,
              "#fb9f3a"
             ],
             [
              0.8888888888888888,
              "#fdca26"
             ],
             [
              1,
              "#f0f921"
             ]
            ],
            "type": "histogram2d"
           }
          ],
          "histogram2dcontour": [
           {
            "colorbar": {
             "outlinewidth": 0,
             "ticks": ""
            },
            "colorscale": [
             [
              0,
              "#0d0887"
             ],
             [
              0.1111111111111111,
              "#46039f"
             ],
             [
              0.2222222222222222,
              "#7201a8"
             ],
             [
              0.3333333333333333,
              "#9c179e"
             ],
             [
              0.4444444444444444,
              "#bd3786"
             ],
             [
              0.5555555555555556,
              "#d8576b"
             ],
             [
              0.6666666666666666,
              "#ed7953"
             ],
             [
              0.7777777777777778,
              "#fb9f3a"
             ],
             [
              0.8888888888888888,
              "#fdca26"
             ],
             [
              1,
              "#f0f921"
             ]
            ],
            "type": "histogram2dcontour"
           }
          ],
          "mesh3d": [
           {
            "colorbar": {
             "outlinewidth": 0,
             "ticks": ""
            },
            "type": "mesh3d"
           }
          ],
          "parcoords": [
           {
            "line": {
             "colorbar": {
              "outlinewidth": 0,
              "ticks": ""
             }
            },
            "type": "parcoords"
           }
          ],
          "pie": [
           {
            "automargin": true,
            "type": "pie"
           }
          ],
          "scatter": [
           {
            "fillpattern": {
             "fillmode": "overlay",
             "size": 10,
             "solidity": 0.2
            },
            "type": "scatter"
           }
          ],
          "scatter3d": [
           {
            "line": {
             "colorbar": {
              "outlinewidth": 0,
              "ticks": ""
             }
            },
            "marker": {
             "colorbar": {
              "outlinewidth": 0,
              "ticks": ""
             }
            },
            "type": "scatter3d"
           }
          ],
          "scattercarpet": [
           {
            "marker": {
             "colorbar": {
              "outlinewidth": 0,
              "ticks": ""
             }
            },
            "type": "scattercarpet"
           }
          ],
          "scattergeo": [
           {
            "marker": {
             "colorbar": {
              "outlinewidth": 0,
              "ticks": ""
             }
            },
            "type": "scattergeo"
           }
          ],
          "scattergl": [
           {
            "marker": {
             "colorbar": {
              "outlinewidth": 0,
              "ticks": ""
             }
            },
            "type": "scattergl"
           }
          ],
          "scattermapbox": [
           {
            "marker": {
             "colorbar": {
              "outlinewidth": 0,
              "ticks": ""
             }
            },
            "type": "scattermapbox"
           }
          ],
          "scatterpolar": [
           {
            "marker": {
             "colorbar": {
              "outlinewidth": 0,
              "ticks": ""
             }
            },
            "type": "scatterpolar"
           }
          ],
          "scatterpolargl": [
           {
            "marker": {
             "colorbar": {
              "outlinewidth": 0,
              "ticks": ""
             }
            },
            "type": "scatterpolargl"
           }
          ],
          "scatterternary": [
           {
            "marker": {
             "colorbar": {
              "outlinewidth": 0,
              "ticks": ""
             }
            },
            "type": "scatterternary"
           }
          ],
          "surface": [
           {
            "colorbar": {
             "outlinewidth": 0,
             "ticks": ""
            },
            "colorscale": [
             [
              0,
              "#0d0887"
             ],
             [
              0.1111111111111111,
              "#46039f"
             ],
             [
              0.2222222222222222,
              "#7201a8"
             ],
             [
              0.3333333333333333,
              "#9c179e"
             ],
             [
              0.4444444444444444,
              "#bd3786"
             ],
             [
              0.5555555555555556,
              "#d8576b"
             ],
             [
              0.6666666666666666,
              "#ed7953"
             ],
             [
              0.7777777777777778,
              "#fb9f3a"
             ],
             [
              0.8888888888888888,
              "#fdca26"
             ],
             [
              1,
              "#f0f921"
             ]
            ],
            "type": "surface"
           }
          ],
          "table": [
           {
            "cells": {
             "fill": {
              "color": "#EBF0F8"
             },
             "line": {
              "color": "white"
             }
            },
            "header": {
             "fill": {
              "color": "#C8D4E3"
             },
             "line": {
              "color": "white"
             }
            },
            "type": "table"
           }
          ]
         },
         "layout": {
          "annotationdefaults": {
           "arrowcolor": "#2a3f5f",
           "arrowhead": 0,
           "arrowwidth": 1
          },
          "autotypenumbers": "strict",
          "coloraxis": {
           "colorbar": {
            "outlinewidth": 0,
            "ticks": ""
           }
          },
          "colorscale": {
           "diverging": [
            [
             0,
             "#8e0152"
            ],
            [
             0.1,
             "#c51b7d"
            ],
            [
             0.2,
             "#de77ae"
            ],
            [
             0.3,
             "#f1b6da"
            ],
            [
             0.4,
             "#fde0ef"
            ],
            [
             0.5,
             "#f7f7f7"
            ],
            [
             0.6,
             "#e6f5d0"
            ],
            [
             0.7,
             "#b8e186"
            ],
            [
             0.8,
             "#7fbc41"
            ],
            [
             0.9,
             "#4d9221"
            ],
            [
             1,
             "#276419"
            ]
           ],
           "sequential": [
            [
             0,
             "#0d0887"
            ],
            [
             0.1111111111111111,
             "#46039f"
            ],
            [
             0.2222222222222222,
             "#7201a8"
            ],
            [
             0.3333333333333333,
             "#9c179e"
            ],
            [
             0.4444444444444444,
             "#bd3786"
            ],
            [
             0.5555555555555556,
             "#d8576b"
            ],
            [
             0.6666666666666666,
             "#ed7953"
            ],
            [
             0.7777777777777778,
             "#fb9f3a"
            ],
            [
             0.8888888888888888,
             "#fdca26"
            ],
            [
             1,
             "#f0f921"
            ]
           ],
           "sequentialminus": [
            [
             0,
             "#0d0887"
            ],
            [
             0.1111111111111111,
             "#46039f"
            ],
            [
             0.2222222222222222,
             "#7201a8"
            ],
            [
             0.3333333333333333,
             "#9c179e"
            ],
            [
             0.4444444444444444,
             "#bd3786"
            ],
            [
             0.5555555555555556,
             "#d8576b"
            ],
            [
             0.6666666666666666,
             "#ed7953"
            ],
            [
             0.7777777777777778,
             "#fb9f3a"
            ],
            [
             0.8888888888888888,
             "#fdca26"
            ],
            [
             1,
             "#f0f921"
            ]
           ]
          },
          "colorway": [
           "#636efa",
           "#EF553B",
           "#00cc96",
           "#ab63fa",
           "#FFA15A",
           "#19d3f3",
           "#FF6692",
           "#B6E880",
           "#FF97FF",
           "#FECB52"
          ],
          "font": {
           "color": "#2a3f5f"
          },
          "geo": {
           "bgcolor": "white",
           "lakecolor": "white",
           "landcolor": "#E5ECF6",
           "showlakes": true,
           "showland": true,
           "subunitcolor": "white"
          },
          "hoverlabel": {
           "align": "left"
          },
          "hovermode": "closest",
          "mapbox": {
           "style": "light"
          },
          "paper_bgcolor": "white",
          "plot_bgcolor": "#E5ECF6",
          "polar": {
           "angularaxis": {
            "gridcolor": "white",
            "linecolor": "white",
            "ticks": ""
           },
           "bgcolor": "#E5ECF6",
           "radialaxis": {
            "gridcolor": "white",
            "linecolor": "white",
            "ticks": ""
           }
          },
          "scene": {
           "xaxis": {
            "backgroundcolor": "#E5ECF6",
            "gridcolor": "white",
            "gridwidth": 2,
            "linecolor": "white",
            "showbackground": true,
            "ticks": "",
            "zerolinecolor": "white"
           },
           "yaxis": {
            "backgroundcolor": "#E5ECF6",
            "gridcolor": "white",
            "gridwidth": 2,
            "linecolor": "white",
            "showbackground": true,
            "ticks": "",
            "zerolinecolor": "white"
           },
           "zaxis": {
            "backgroundcolor": "#E5ECF6",
            "gridcolor": "white",
            "gridwidth": 2,
            "linecolor": "white",
            "showbackground": true,
            "ticks": "",
            "zerolinecolor": "white"
           }
          },
          "shapedefaults": {
           "line": {
            "color": "#2a3f5f"
           }
          },
          "ternary": {
           "aaxis": {
            "gridcolor": "white",
            "linecolor": "white",
            "ticks": ""
           },
           "baxis": {
            "gridcolor": "white",
            "linecolor": "white",
            "ticks": ""
           },
           "bgcolor": "#E5ECF6",
           "caxis": {
            "gridcolor": "white",
            "linecolor": "white",
            "ticks": ""
           }
          },
          "title": {
           "x": 0.05
          },
          "xaxis": {
           "automargin": true,
           "gridcolor": "white",
           "linecolor": "white",
           "ticks": "",
           "title": {
            "standoff": 15
           },
           "zerolinecolor": "white",
           "zerolinewidth": 2
          },
          "yaxis": {
           "automargin": true,
           "gridcolor": "white",
           "linecolor": "white",
           "ticks": "",
           "title": {
            "standoff": 15
           },
           "zerolinecolor": "white",
           "zerolinewidth": 2
          }
         }
        },
        "title": {
         "text": "Histogram of Text Length in Each Category"
        },
        "width": 1000,
        "xaxis": {
         "title": {
          "text": "Text Length"
         }
        },
        "yaxis": {
         "title": {
          "text": "Count"
         }
        }
       }
      }
     },
     "metadata": {},
     "output_type": "display_data"
    }
   ],
   "source": [
    "# Create a histogram for each category\n",
    "fig = go.Figure()\n",
    "for category in categories:\n",
    "    fig.add_trace(go.Histogram(x=df_clean[df_clean['label'] == category]['text_length'], \n",
    "                               name=category))\n",
    "\n",
    "# Update layout for better visualization\n",
    "fig.update_layout(barmode='stack',\n",
    "                  xaxis_title='Text Length',\n",
    "                  yaxis_title='Count',\n",
    "                  title='Histogram of Text Length in Each Category',\n",
    "                  autosize=False,\n",
    "                  width=1000,\n",
    "                  height=600)\n",
    "\n",
    "fig.show()"
   ]
  },
  {
   "cell_type": "code",
   "execution_count": 23,
   "metadata": {},
   "outputs": [
    {
     "data": {
      "application/vnd.plotly.v1+json": {
       "config": {
        "plotlyServerURL": "https://plot.ly"
       },
       "data": [
        {
         "marker": {
          "color": [
           "#494BD3",
           "#E28AE2",
           "#F1F481",
           "#79DB80",
           "#DF5F5F",
           "#69DADE",
           "#C2E37D",
           "#E26580",
           "#D39F49",
           "#B96FE3"
          ],
          "line": {
           "color": "#DBE6EC",
           "width": 1
          }
         },
         "name": "label",
         "showlegend": false,
         "text": [
          "372",
          "236",
          "184",
          "175"
         ],
         "textfont": {
          "size": 15
         },
         "textposition": "auto",
         "type": "bar",
         "x": [
          "Household",
          "Books",
          "Electronics",
          "Clothing & Accessories"
         ],
         "xaxis": "x",
         "y": [
          372,
          236,
          184,
          175
         ],
         "yaxis": "y"
        },
        {
         "domain": {
          "x": [
           0.55,
           1
          ],
          "y": [
           0,
           1
          ]
         },
         "labels": [
          "Household",
          "Books",
          "Electronics",
          "Clothing & Accessories"
         ],
         "marker": {
          "colors": [
           "#494BD3",
           "#E28AE2",
           "#F1F481",
           "#79DB80",
           "#DF5F5F",
           "#69DADE",
           "#C2E37D",
           "#E26580",
           "#D39F49",
           "#B96FE3"
          ]
         },
         "name": "label",
         "showlegend": false,
         "textfont": {
          "size": 20
         },
         "textposition": "auto",
         "type": "pie",
         "values": [
          372,
          236,
          184,
          175
         ]
        }
       ],
       "layout": {
        "annotations": [
         {
          "font": {
           "size": 16
          },
          "showarrow": false,
          "text": "Countplot",
          "x": 0.225,
          "xanchor": "center",
          "xref": "paper",
          "y": 1,
          "yanchor": "bottom",
          "yref": "paper"
         },
         {
          "font": {
           "size": 16
          },
          "showarrow": false,
          "text": "Percentages",
          "x": 0.775,
          "xanchor": "center",
          "xref": "paper",
          "y": 1,
          "yanchor": "bottom",
          "yref": "paper"
         }
        ],
        "template": {
         "data": {
          "bar": [
           {
            "error_x": {
             "color": "#2a3f5f"
            },
            "error_y": {
             "color": "#2a3f5f"
            },
            "marker": {
             "line": {
              "color": "white",
              "width": 0.5
             },
             "pattern": {
              "fillmode": "overlay",
              "size": 10,
              "solidity": 0.2
             }
            },
            "type": "bar"
           }
          ],
          "barpolar": [
           {
            "marker": {
             "line": {
              "color": "white",
              "width": 0.5
             },
             "pattern": {
              "fillmode": "overlay",
              "size": 10,
              "solidity": 0.2
             }
            },
            "type": "barpolar"
           }
          ],
          "carpet": [
           {
            "aaxis": {
             "endlinecolor": "#2a3f5f",
             "gridcolor": "#C8D4E3",
             "linecolor": "#C8D4E3",
             "minorgridcolor": "#C8D4E3",
             "startlinecolor": "#2a3f5f"
            },
            "baxis": {
             "endlinecolor": "#2a3f5f",
             "gridcolor": "#C8D4E3",
             "linecolor": "#C8D4E3",
             "minorgridcolor": "#C8D4E3",
             "startlinecolor": "#2a3f5f"
            },
            "type": "carpet"
           }
          ],
          "choropleth": [
           {
            "colorbar": {
             "outlinewidth": 0,
             "ticks": ""
            },
            "type": "choropleth"
           }
          ],
          "contour": [
           {
            "colorbar": {
             "outlinewidth": 0,
             "ticks": ""
            },
            "colorscale": [
             [
              0,
              "#0d0887"
             ],
             [
              0.1111111111111111,
              "#46039f"
             ],
             [
              0.2222222222222222,
              "#7201a8"
             ],
             [
              0.3333333333333333,
              "#9c179e"
             ],
             [
              0.4444444444444444,
              "#bd3786"
             ],
             [
              0.5555555555555556,
              "#d8576b"
             ],
             [
              0.6666666666666666,
              "#ed7953"
             ],
             [
              0.7777777777777778,
              "#fb9f3a"
             ],
             [
              0.8888888888888888,
              "#fdca26"
             ],
             [
              1,
              "#f0f921"
             ]
            ],
            "type": "contour"
           }
          ],
          "contourcarpet": [
           {
            "colorbar": {
             "outlinewidth": 0,
             "ticks": ""
            },
            "type": "contourcarpet"
           }
          ],
          "heatmap": [
           {
            "colorbar": {
             "outlinewidth": 0,
             "ticks": ""
            },
            "colorscale": [
             [
              0,
              "#0d0887"
             ],
             [
              0.1111111111111111,
              "#46039f"
             ],
             [
              0.2222222222222222,
              "#7201a8"
             ],
             [
              0.3333333333333333,
              "#9c179e"
             ],
             [
              0.4444444444444444,
              "#bd3786"
             ],
             [
              0.5555555555555556,
              "#d8576b"
             ],
             [
              0.6666666666666666,
              "#ed7953"
             ],
             [
              0.7777777777777778,
              "#fb9f3a"
             ],
             [
              0.8888888888888888,
              "#fdca26"
             ],
             [
              1,
              "#f0f921"
             ]
            ],
            "type": "heatmap"
           }
          ],
          "heatmapgl": [
           {
            "colorbar": {
             "outlinewidth": 0,
             "ticks": ""
            },
            "colorscale": [
             [
              0,
              "#0d0887"
             ],
             [
              0.1111111111111111,
              "#46039f"
             ],
             [
              0.2222222222222222,
              "#7201a8"
             ],
             [
              0.3333333333333333,
              "#9c179e"
             ],
             [
              0.4444444444444444,
              "#bd3786"
             ],
             [
              0.5555555555555556,
              "#d8576b"
             ],
             [
              0.6666666666666666,
              "#ed7953"
             ],
             [
              0.7777777777777778,
              "#fb9f3a"
             ],
             [
              0.8888888888888888,
              "#fdca26"
             ],
             [
              1,
              "#f0f921"
             ]
            ],
            "type": "heatmapgl"
           }
          ],
          "histogram": [
           {
            "marker": {
             "pattern": {
              "fillmode": "overlay",
              "size": 10,
              "solidity": 0.2
             }
            },
            "type": "histogram"
           }
          ],
          "histogram2d": [
           {
            "colorbar": {
             "outlinewidth": 0,
             "ticks": ""
            },
            "colorscale": [
             [
              0,
              "#0d0887"
             ],
             [
              0.1111111111111111,
              "#46039f"
             ],
             [
              0.2222222222222222,
              "#7201a8"
             ],
             [
              0.3333333333333333,
              "#9c179e"
             ],
             [
              0.4444444444444444,
              "#bd3786"
             ],
             [
              0.5555555555555556,
              "#d8576b"
             ],
             [
              0.6666666666666666,
              "#ed7953"
             ],
             [
              0.7777777777777778,
              "#fb9f3a"
             ],
             [
              0.8888888888888888,
              "#fdca26"
             ],
             [
              1,
              "#f0f921"
             ]
            ],
            "type": "histogram2d"
           }
          ],
          "histogram2dcontour": [
           {
            "colorbar": {
             "outlinewidth": 0,
             "ticks": ""
            },
            "colorscale": [
             [
              0,
              "#0d0887"
             ],
             [
              0.1111111111111111,
              "#46039f"
             ],
             [
              0.2222222222222222,
              "#7201a8"
             ],
             [
              0.3333333333333333,
              "#9c179e"
             ],
             [
              0.4444444444444444,
              "#bd3786"
             ],
             [
              0.5555555555555556,
              "#d8576b"
             ],
             [
              0.6666666666666666,
              "#ed7953"
             ],
             [
              0.7777777777777778,
              "#fb9f3a"
             ],
             [
              0.8888888888888888,
              "#fdca26"
             ],
             [
              1,
              "#f0f921"
             ]
            ],
            "type": "histogram2dcontour"
           }
          ],
          "mesh3d": [
           {
            "colorbar": {
             "outlinewidth": 0,
             "ticks": ""
            },
            "type": "mesh3d"
           }
          ],
          "parcoords": [
           {
            "line": {
             "colorbar": {
              "outlinewidth": 0,
              "ticks": ""
             }
            },
            "type": "parcoords"
           }
          ],
          "pie": [
           {
            "automargin": true,
            "type": "pie"
           }
          ],
          "scatter": [
           {
            "fillpattern": {
             "fillmode": "overlay",
             "size": 10,
             "solidity": 0.2
            },
            "type": "scatter"
           }
          ],
          "scatter3d": [
           {
            "line": {
             "colorbar": {
              "outlinewidth": 0,
              "ticks": ""
             }
            },
            "marker": {
             "colorbar": {
              "outlinewidth": 0,
              "ticks": ""
             }
            },
            "type": "scatter3d"
           }
          ],
          "scattercarpet": [
           {
            "marker": {
             "colorbar": {
              "outlinewidth": 0,
              "ticks": ""
             }
            },
            "type": "scattercarpet"
           }
          ],
          "scattergeo": [
           {
            "marker": {
             "colorbar": {
              "outlinewidth": 0,
              "ticks": ""
             }
            },
            "type": "scattergeo"
           }
          ],
          "scattergl": [
           {
            "marker": {
             "colorbar": {
              "outlinewidth": 0,
              "ticks": ""
             }
            },
            "type": "scattergl"
           }
          ],
          "scattermapbox": [
           {
            "marker": {
             "colorbar": {
              "outlinewidth": 0,
              "ticks": ""
             }
            },
            "type": "scattermapbox"
           }
          ],
          "scatterpolar": [
           {
            "marker": {
             "colorbar": {
              "outlinewidth": 0,
              "ticks": ""
             }
            },
            "type": "scatterpolar"
           }
          ],
          "scatterpolargl": [
           {
            "marker": {
             "colorbar": {
              "outlinewidth": 0,
              "ticks": ""
             }
            },
            "type": "scatterpolargl"
           }
          ],
          "scatterternary": [
           {
            "marker": {
             "colorbar": {
              "outlinewidth": 0,
              "ticks": ""
             }
            },
            "type": "scatterternary"
           }
          ],
          "surface": [
           {
            "colorbar": {
             "outlinewidth": 0,
             "ticks": ""
            },
            "colorscale": [
             [
              0,
              "#0d0887"
             ],
             [
              0.1111111111111111,
              "#46039f"
             ],
             [
              0.2222222222222222,
              "#7201a8"
             ],
             [
              0.3333333333333333,
              "#9c179e"
             ],
             [
              0.4444444444444444,
              "#bd3786"
             ],
             [
              0.5555555555555556,
              "#d8576b"
             ],
             [
              0.6666666666666666,
              "#ed7953"
             ],
             [
              0.7777777777777778,
              "#fb9f3a"
             ],
             [
              0.8888888888888888,
              "#fdca26"
             ],
             [
              1,
              "#f0f921"
             ]
            ],
            "type": "surface"
           }
          ],
          "table": [
           {
            "cells": {
             "fill": {
              "color": "#EBF0F8"
             },
             "line": {
              "color": "white"
             }
            },
            "header": {
             "fill": {
              "color": "#C8D4E3"
             },
             "line": {
              "color": "white"
             }
            },
            "type": "table"
           }
          ]
         },
         "layout": {
          "annotationdefaults": {
           "arrowcolor": "#2a3f5f",
           "arrowhead": 0,
           "arrowwidth": 1
          },
          "autotypenumbers": "strict",
          "coloraxis": {
           "colorbar": {
            "outlinewidth": 0,
            "ticks": ""
           }
          },
          "colorscale": {
           "diverging": [
            [
             0,
             "#8e0152"
            ],
            [
             0.1,
             "#c51b7d"
            ],
            [
             0.2,
             "#de77ae"
            ],
            [
             0.3,
             "#f1b6da"
            ],
            [
             0.4,
             "#fde0ef"
            ],
            [
             0.5,
             "#f7f7f7"
            ],
            [
             0.6,
             "#e6f5d0"
            ],
            [
             0.7,
             "#b8e186"
            ],
            [
             0.8,
             "#7fbc41"
            ],
            [
             0.9,
             "#4d9221"
            ],
            [
             1,
             "#276419"
            ]
           ],
           "sequential": [
            [
             0,
             "#0d0887"
            ],
            [
             0.1111111111111111,
             "#46039f"
            ],
            [
             0.2222222222222222,
             "#7201a8"
            ],
            [
             0.3333333333333333,
             "#9c179e"
            ],
            [
             0.4444444444444444,
             "#bd3786"
            ],
            [
             0.5555555555555556,
             "#d8576b"
            ],
            [
             0.6666666666666666,
             "#ed7953"
            ],
            [
             0.7777777777777778,
             "#fb9f3a"
            ],
            [
             0.8888888888888888,
             "#fdca26"
            ],
            [
             1,
             "#f0f921"
            ]
           ],
           "sequentialminus": [
            [
             0,
             "#0d0887"
            ],
            [
             0.1111111111111111,
             "#46039f"
            ],
            [
             0.2222222222222222,
             "#7201a8"
            ],
            [
             0.3333333333333333,
             "#9c179e"
            ],
            [
             0.4444444444444444,
             "#bd3786"
            ],
            [
             0.5555555555555556,
             "#d8576b"
            ],
            [
             0.6666666666666666,
             "#ed7953"
            ],
            [
             0.7777777777777778,
             "#fb9f3a"
            ],
            [
             0.8888888888888888,
             "#fdca26"
            ],
            [
             1,
             "#f0f921"
            ]
           ]
          },
          "colorway": [
           "#636efa",
           "#EF553B",
           "#00cc96",
           "#ab63fa",
           "#FFA15A",
           "#19d3f3",
           "#FF6692",
           "#B6E880",
           "#FF97FF",
           "#FECB52"
          ],
          "font": {
           "color": "#2a3f5f"
          },
          "geo": {
           "bgcolor": "white",
           "lakecolor": "white",
           "landcolor": "white",
           "showlakes": true,
           "showland": true,
           "subunitcolor": "#C8D4E3"
          },
          "hoverlabel": {
           "align": "left"
          },
          "hovermode": "closest",
          "mapbox": {
           "style": "light"
          },
          "paper_bgcolor": "white",
          "plot_bgcolor": "white",
          "polar": {
           "angularaxis": {
            "gridcolor": "#EBF0F8",
            "linecolor": "#EBF0F8",
            "ticks": ""
           },
           "bgcolor": "white",
           "radialaxis": {
            "gridcolor": "#EBF0F8",
            "linecolor": "#EBF0F8",
            "ticks": ""
           }
          },
          "scene": {
           "xaxis": {
            "backgroundcolor": "white",
            "gridcolor": "#DFE8F3",
            "gridwidth": 2,
            "linecolor": "#EBF0F8",
            "showbackground": true,
            "ticks": "",
            "zerolinecolor": "#EBF0F8"
           },
           "yaxis": {
            "backgroundcolor": "white",
            "gridcolor": "#DFE8F3",
            "gridwidth": 2,
            "linecolor": "#EBF0F8",
            "showbackground": true,
            "ticks": "",
            "zerolinecolor": "#EBF0F8"
           },
           "zaxis": {
            "backgroundcolor": "white",
            "gridcolor": "#DFE8F3",
            "gridwidth": 2,
            "linecolor": "#EBF0F8",
            "showbackground": true,
            "ticks": "",
            "zerolinecolor": "#EBF0F8"
           }
          },
          "shapedefaults": {
           "line": {
            "color": "#2a3f5f"
           }
          },
          "ternary": {
           "aaxis": {
            "gridcolor": "#DFE8F3",
            "linecolor": "#A2B1C6",
            "ticks": ""
           },
           "baxis": {
            "gridcolor": "#DFE8F3",
            "linecolor": "#A2B1C6",
            "ticks": ""
           },
           "bgcolor": "white",
           "caxis": {
            "gridcolor": "#DFE8F3",
            "linecolor": "#A2B1C6",
            "ticks": ""
           }
          },
          "title": {
           "x": 0.05
          },
          "xaxis": {
           "automargin": true,
           "gridcolor": "#EBF0F8",
           "linecolor": "#EBF0F8",
           "ticks": "",
           "title": {
            "standoff": 15
           },
           "zerolinecolor": "#EBF0F8",
           "zerolinewidth": 2
          },
          "yaxis": {
           "automargin": true,
           "gridcolor": "#EBF0F8",
           "linecolor": "#EBF0F8",
           "ticks": "",
           "title": {
            "standoff": 15
           },
           "zerolinecolor": "#EBF0F8",
           "zerolinewidth": 2
          }
         }
        },
        "title": {
         "text": "label",
         "x": 0.5,
         "xanchor": "center",
         "y": 0.9,
         "yanchor": "top"
        },
        "xaxis": {
         "anchor": "y",
         "domain": [
          0,
          0.45
         ]
        },
        "yaxis": {
         "anchor": "x",
         "domain": [
          0,
          1
         ]
        }
       }
      }
     },
     "metadata": {},
     "output_type": "display_data"
    }
   ],
   "source": [
    "import plotly.graph_objects as go\n",
    "from plotly.subplots import make_subplots\n",
    "\n",
    "def cat_summary_with_graph(dataframe, col_name):\n",
    "    # Define colors\n",
    "    colors = ['#494BD3', '#E28AE2', '#F1F481', '#79DB80', '#DF5F5F',\n",
    "              '#69DADE', '#C2E37D', '#E26580', '#D39F49', '#B96FE3']\n",
    "    \n",
    "    # Create subplots\n",
    "    fig = make_subplots(rows=1, cols=2,\n",
    "                        subplot_titles=('Countplot', 'Percentages'),\n",
    "                        specs=[[{\"type\": \"xy\"}, {'type': 'domain'}]])\n",
    "    \n",
    "    # Countplot\n",
    "    value_counts = dataframe[col_name].value_counts()\n",
    "    fig.add_trace(go.Bar(y=value_counts.values.tolist(),\n",
    "                         x=[str(i) for i in value_counts.index],\n",
    "                         text=value_counts.values.tolist(),\n",
    "                         textfont=dict(size=15),\n",
    "                         name=col_name,\n",
    "                         textposition='auto',\n",
    "                         showlegend=False,\n",
    "                         marker=dict(color=colors,\n",
    "                                     line=dict(color='#DBE6EC', width=1))),\n",
    "                  row=1, col=1)\n",
    "    \n",
    "    # Pie chart\n",
    "    fig.add_trace(go.Pie(labels=value_counts.keys(),\n",
    "                         values=value_counts.values,\n",
    "                         textfont=dict(size=20),\n",
    "                         textposition='auto',\n",
    "                         showlegend=False,\n",
    "                         name=col_name,\n",
    "                         marker=dict(colors=colors)),\n",
    "                  row=1, col=2)\n",
    "    \n",
    "    # Update layout\n",
    "    fig.update_layout(title={'text': col_name,\n",
    "                             'y': 0.9,\n",
    "                             'x': 0.5,\n",
    "                             'xanchor': 'center',\n",
    "                             'yanchor': 'top'},\n",
    "                      template='plotly_white')\n",
    "    \n",
    "    fig.show()\n",
    "\n",
    "\n",
    "# Call the function\n",
    "cat_summary_with_graph(df_clean, 'label')\n"
   ]
  },
  {
   "cell_type": "code",
   "execution_count": 24,
   "metadata": {},
   "outputs": [],
   "source": [
    "\n",
    "from typing import Iterable\n",
    "from nltk.util import ngrams\n",
    "from collections import Counter\n",
    "\n",
    "class GetNgramsFrequency:\n",
    "    \n",
    "    def __init__(self, text_list : Iterable) -> None:\n",
    "        self.text_list = text_list\n",
    "        self.unigram = None\n",
    "        self.bigram = None\n",
    "        self.trigram = None\n",
    "        \n",
    "    def find_n_gram(self, size, top_n):\n",
    "        ngrams_all = []\n",
    "        for document in self.text_list:\n",
    "            tokens = document.split()\n",
    "            if len(tokens) <= size:\n",
    "                continue\n",
    "            else:\n",
    "                output = list(ngrams(tokens, size))\n",
    "            for ngram in output:\n",
    "                ngrams_all.append(\" \".join(ngram))\n",
    "        cnt_ngram = Counter()\n",
    "        for word in ngrams_all:\n",
    "            cnt_ngram[word] += 1\n",
    "        df = pd.DataFrame.from_dict(cnt_ngram, orient='index').reset_index()\n",
    "        df = df.rename(columns={'index':'words', 0:'count'})\n",
    "        df = df.sort_values(by='count', ascending=False)\n",
    "        df = df.head(top_n)\n",
    "        df = df.sort_values(by='count')\n",
    "        return(df)\n",
    "    \n",
    "\n",
    "    def generate_n_grams(self, top_n):\n",
    "        \n",
    "        self.unigram = self.find_n_gram(size=1, top_n=top_n)\n",
    "        self.bigram = self.find_n_gram(size=2, top_n=top_n)\n",
    "        self.trigram = self.find_n_gram(size=3, top_n=top_n)\n",
    "        \n",
    "        \n",
    "    def plot_distribution(self):\n",
    "        fig = make_subplots(rows=1, cols=3, subplot_titles=('Unigrams', 'Bigrams', 'Trigrams'))\n",
    "        fig.add_trace(go.Bar(x=self.unigram['count'], y=self.unigram['words'], orientation='h', marker=dict(opacity=0.5)), row=1, col=1)\n",
    "        fig.add_trace(go.Bar(x=self.bigram['count'], y=self.bigram['words'], orientation='h', marker=dict(opacity=0.5)), row=1, col=2)\n",
    "        fig.add_trace(go.Bar(x=self.trigram['count'], y=self.trigram['words'], orientation='h', marker=dict(opacity=0.5)), row=1, col=3)\n",
    "        fig.update_layout(height=700, width=1500, showlegend=False)\n",
    "        fig.update_xaxes(title_text='Count', row=1, col=1)\n",
    "        fig.update_xaxes(title_text='Count', row=1, col=2)\n",
    "        fig.update_xaxes(title_text='Count', row=1, col=3)\n",
    "        fig.show()"
   ]
  },
  {
   "cell_type": "code",
   "execution_count": 25,
   "metadata": {},
   "outputs": [],
   "source": [
    "n_gram_analyzer = GetNgramsFrequency(text_list=df_clean[\"description\"])\n",
    "n_gram_analyzer.generate_n_grams(top_n=10)"
   ]
  },
  {
   "cell_type": "code",
   "execution_count": 26,
   "metadata": {},
   "outputs": [
    {
     "data": {
      "application/vnd.plotly.v1+json": {
       "config": {
        "plotlyServerURL": "https://plot.ly"
       },
       "data": [
        {
         "marker": {
          "opacity": 0.5
         },
         "orientation": "h",
         "type": "bar",
         "x": [
          721,
          935,
          984,
          989,
          1177,
          1200,
          1546,
          1802,
          2463,
          2804
         ],
         "xaxis": "x",
         "y": [
          "your",
          "is",
          "in",
          "with",
          "for",
          "a",
          "to",
          "of",
          "the",
          "and"
         ],
         "yaxis": "y"
        },
        {
         "marker": {
          "opacity": 0.5
         },
         "orientation": "h",
         "type": "bar",
         "x": [
          86,
          87,
          90,
          92,
          100,
          118,
          122,
          140,
          145,
          292
         ],
         "xaxis": "x2",
         "y": [
          "for the",
          "on the",
          "the Author",
          "About the",
          "to the",
          "with a",
          "can be",
          "is a",
          "in the",
          "of the"
         ],
         "yaxis": "y2"
        },
        {
         "marker": {
          "opacity": 0.5
         },
         "orientation": "h",
         "type": "bar",
         "x": [
          17,
          18,
          20,
          21,
          22,
          25,
          25,
          27,
          32,
          90
         ],
         "xaxis": "x3",
         "y": [
          "See all Product",
          "is made from",
          "requirements of the",
          "the author of",
          "of the students",
          "one of the",
          "comes with a",
          "as well as",
          "can be used",
          "About the Author"
         ],
         "yaxis": "y3"
        }
       ],
       "layout": {
        "annotations": [
         {
          "font": {
           "size": 16
          },
          "showarrow": false,
          "text": "Unigrams",
          "x": 0.14444444444444446,
          "xanchor": "center",
          "xref": "paper",
          "y": 1,
          "yanchor": "bottom",
          "yref": "paper"
         },
         {
          "font": {
           "size": 16
          },
          "showarrow": false,
          "text": "Bigrams",
          "x": 0.5,
          "xanchor": "center",
          "xref": "paper",
          "y": 1,
          "yanchor": "bottom",
          "yref": "paper"
         },
         {
          "font": {
           "size": 16
          },
          "showarrow": false,
          "text": "Trigrams",
          "x": 0.8555555555555556,
          "xanchor": "center",
          "xref": "paper",
          "y": 1,
          "yanchor": "bottom",
          "yref": "paper"
         }
        ],
        "height": 700,
        "showlegend": false,
        "template": {
         "data": {
          "bar": [
           {
            "error_x": {
             "color": "#2a3f5f"
            },
            "error_y": {
             "color": "#2a3f5f"
            },
            "marker": {
             "line": {
              "color": "#E5ECF6",
              "width": 0.5
             },
             "pattern": {
              "fillmode": "overlay",
              "size": 10,
              "solidity": 0.2
             }
            },
            "type": "bar"
           }
          ],
          "barpolar": [
           {
            "marker": {
             "line": {
              "color": "#E5ECF6",
              "width": 0.5
             },
             "pattern": {
              "fillmode": "overlay",
              "size": 10,
              "solidity": 0.2
             }
            },
            "type": "barpolar"
           }
          ],
          "carpet": [
           {
            "aaxis": {
             "endlinecolor": "#2a3f5f",
             "gridcolor": "white",
             "linecolor": "white",
             "minorgridcolor": "white",
             "startlinecolor": "#2a3f5f"
            },
            "baxis": {
             "endlinecolor": "#2a3f5f",
             "gridcolor": "white",
             "linecolor": "white",
             "minorgridcolor": "white",
             "startlinecolor": "#2a3f5f"
            },
            "type": "carpet"
           }
          ],
          "choropleth": [
           {
            "colorbar": {
             "outlinewidth": 0,
             "ticks": ""
            },
            "type": "choropleth"
           }
          ],
          "contour": [
           {
            "colorbar": {
             "outlinewidth": 0,
             "ticks": ""
            },
            "colorscale": [
             [
              0,
              "#0d0887"
             ],
             [
              0.1111111111111111,
              "#46039f"
             ],
             [
              0.2222222222222222,
              "#7201a8"
             ],
             [
              0.3333333333333333,
              "#9c179e"
             ],
             [
              0.4444444444444444,
              "#bd3786"
             ],
             [
              0.5555555555555556,
              "#d8576b"
             ],
             [
              0.6666666666666666,
              "#ed7953"
             ],
             [
              0.7777777777777778,
              "#fb9f3a"
             ],
             [
              0.8888888888888888,
              "#fdca26"
             ],
             [
              1,
              "#f0f921"
             ]
            ],
            "type": "contour"
           }
          ],
          "contourcarpet": [
           {
            "colorbar": {
             "outlinewidth": 0,
             "ticks": ""
            },
            "type": "contourcarpet"
           }
          ],
          "heatmap": [
           {
            "colorbar": {
             "outlinewidth": 0,
             "ticks": ""
            },
            "colorscale": [
             [
              0,
              "#0d0887"
             ],
             [
              0.1111111111111111,
              "#46039f"
             ],
             [
              0.2222222222222222,
              "#7201a8"
             ],
             [
              0.3333333333333333,
              "#9c179e"
             ],
             [
              0.4444444444444444,
              "#bd3786"
             ],
             [
              0.5555555555555556,
              "#d8576b"
             ],
             [
              0.6666666666666666,
              "#ed7953"
             ],
             [
              0.7777777777777778,
              "#fb9f3a"
             ],
             [
              0.8888888888888888,
              "#fdca26"
             ],
             [
              1,
              "#f0f921"
             ]
            ],
            "type": "heatmap"
           }
          ],
          "heatmapgl": [
           {
            "colorbar": {
             "outlinewidth": 0,
             "ticks": ""
            },
            "colorscale": [
             [
              0,
              "#0d0887"
             ],
             [
              0.1111111111111111,
              "#46039f"
             ],
             [
              0.2222222222222222,
              "#7201a8"
             ],
             [
              0.3333333333333333,
              "#9c179e"
             ],
             [
              0.4444444444444444,
              "#bd3786"
             ],
             [
              0.5555555555555556,
              "#d8576b"
             ],
             [
              0.6666666666666666,
              "#ed7953"
             ],
             [
              0.7777777777777778,
              "#fb9f3a"
             ],
             [
              0.8888888888888888,
              "#fdca26"
             ],
             [
              1,
              "#f0f921"
             ]
            ],
            "type": "heatmapgl"
           }
          ],
          "histogram": [
           {
            "marker": {
             "pattern": {
              "fillmode": "overlay",
              "size": 10,
              "solidity": 0.2
             }
            },
            "type": "histogram"
           }
          ],
          "histogram2d": [
           {
            "colorbar": {
             "outlinewidth": 0,
             "ticks": ""
            },
            "colorscale": [
             [
              0,
              "#0d0887"
             ],
             [
              0.1111111111111111,
              "#46039f"
             ],
             [
              0.2222222222222222,
              "#7201a8"
             ],
             [
              0.3333333333333333,
              "#9c179e"
             ],
             [
              0.4444444444444444,
              "#bd3786"
             ],
             [
              0.5555555555555556,
              "#d8576b"
             ],
             [
              0.6666666666666666,
              "#ed7953"
             ],
             [
              0.7777777777777778,
              "#fb9f3a"
             ],
             [
              0.8888888888888888,
              "#fdca26"
             ],
             [
              1,
              "#f0f921"
             ]
            ],
            "type": "histogram2d"
           }
          ],
          "histogram2dcontour": [
           {
            "colorbar": {
             "outlinewidth": 0,
             "ticks": ""
            },
            "colorscale": [
             [
              0,
              "#0d0887"
             ],
             [
              0.1111111111111111,
              "#46039f"
             ],
             [
              0.2222222222222222,
              "#7201a8"
             ],
             [
              0.3333333333333333,
              "#9c179e"
             ],
             [
              0.4444444444444444,
              "#bd3786"
             ],
             [
              0.5555555555555556,
              "#d8576b"
             ],
             [
              0.6666666666666666,
              "#ed7953"
             ],
             [
              0.7777777777777778,
              "#fb9f3a"
             ],
             [
              0.8888888888888888,
              "#fdca26"
             ],
             [
              1,
              "#f0f921"
             ]
            ],
            "type": "histogram2dcontour"
           }
          ],
          "mesh3d": [
           {
            "colorbar": {
             "outlinewidth": 0,
             "ticks": ""
            },
            "type": "mesh3d"
           }
          ],
          "parcoords": [
           {
            "line": {
             "colorbar": {
              "outlinewidth": 0,
              "ticks": ""
             }
            },
            "type": "parcoords"
           }
          ],
          "pie": [
           {
            "automargin": true,
            "type": "pie"
           }
          ],
          "scatter": [
           {
            "fillpattern": {
             "fillmode": "overlay",
             "size": 10,
             "solidity": 0.2
            },
            "type": "scatter"
           }
          ],
          "scatter3d": [
           {
            "line": {
             "colorbar": {
              "outlinewidth": 0,
              "ticks": ""
             }
            },
            "marker": {
             "colorbar": {
              "outlinewidth": 0,
              "ticks": ""
             }
            },
            "type": "scatter3d"
           }
          ],
          "scattercarpet": [
           {
            "marker": {
             "colorbar": {
              "outlinewidth": 0,
              "ticks": ""
             }
            },
            "type": "scattercarpet"
           }
          ],
          "scattergeo": [
           {
            "marker": {
             "colorbar": {
              "outlinewidth": 0,
              "ticks": ""
             }
            },
            "type": "scattergeo"
           }
          ],
          "scattergl": [
           {
            "marker": {
             "colorbar": {
              "outlinewidth": 0,
              "ticks": ""
             }
            },
            "type": "scattergl"
           }
          ],
          "scattermapbox": [
           {
            "marker": {
             "colorbar": {
              "outlinewidth": 0,
              "ticks": ""
             }
            },
            "type": "scattermapbox"
           }
          ],
          "scatterpolar": [
           {
            "marker": {
             "colorbar": {
              "outlinewidth": 0,
              "ticks": ""
             }
            },
            "type": "scatterpolar"
           }
          ],
          "scatterpolargl": [
           {
            "marker": {
             "colorbar": {
              "outlinewidth": 0,
              "ticks": ""
             }
            },
            "type": "scatterpolargl"
           }
          ],
          "scatterternary": [
           {
            "marker": {
             "colorbar": {
              "outlinewidth": 0,
              "ticks": ""
             }
            },
            "type": "scatterternary"
           }
          ],
          "surface": [
           {
            "colorbar": {
             "outlinewidth": 0,
             "ticks": ""
            },
            "colorscale": [
             [
              0,
              "#0d0887"
             ],
             [
              0.1111111111111111,
              "#46039f"
             ],
             [
              0.2222222222222222,
              "#7201a8"
             ],
             [
              0.3333333333333333,
              "#9c179e"
             ],
             [
              0.4444444444444444,
              "#bd3786"
             ],
             [
              0.5555555555555556,
              "#d8576b"
             ],
             [
              0.6666666666666666,
              "#ed7953"
             ],
             [
              0.7777777777777778,
              "#fb9f3a"
             ],
             [
              0.8888888888888888,
              "#fdca26"
             ],
             [
              1,
              "#f0f921"
             ]
            ],
            "type": "surface"
           }
          ],
          "table": [
           {
            "cells": {
             "fill": {
              "color": "#EBF0F8"
             },
             "line": {
              "color": "white"
             }
            },
            "header": {
             "fill": {
              "color": "#C8D4E3"
             },
             "line": {
              "color": "white"
             }
            },
            "type": "table"
           }
          ]
         },
         "layout": {
          "annotationdefaults": {
           "arrowcolor": "#2a3f5f",
           "arrowhead": 0,
           "arrowwidth": 1
          },
          "autotypenumbers": "strict",
          "coloraxis": {
           "colorbar": {
            "outlinewidth": 0,
            "ticks": ""
           }
          },
          "colorscale": {
           "diverging": [
            [
             0,
             "#8e0152"
            ],
            [
             0.1,
             "#c51b7d"
            ],
            [
             0.2,
             "#de77ae"
            ],
            [
             0.3,
             "#f1b6da"
            ],
            [
             0.4,
             "#fde0ef"
            ],
            [
             0.5,
             "#f7f7f7"
            ],
            [
             0.6,
             "#e6f5d0"
            ],
            [
             0.7,
             "#b8e186"
            ],
            [
             0.8,
             "#7fbc41"
            ],
            [
             0.9,
             "#4d9221"
            ],
            [
             1,
             "#276419"
            ]
           ],
           "sequential": [
            [
             0,
             "#0d0887"
            ],
            [
             0.1111111111111111,
             "#46039f"
            ],
            [
             0.2222222222222222,
             "#7201a8"
            ],
            [
             0.3333333333333333,
             "#9c179e"
            ],
            [
             0.4444444444444444,
             "#bd3786"
            ],
            [
             0.5555555555555556,
             "#d8576b"
            ],
            [
             0.6666666666666666,
             "#ed7953"
            ],
            [
             0.7777777777777778,
             "#fb9f3a"
            ],
            [
             0.8888888888888888,
             "#fdca26"
            ],
            [
             1,
             "#f0f921"
            ]
           ],
           "sequentialminus": [
            [
             0,
             "#0d0887"
            ],
            [
             0.1111111111111111,
             "#46039f"
            ],
            [
             0.2222222222222222,
             "#7201a8"
            ],
            [
             0.3333333333333333,
             "#9c179e"
            ],
            [
             0.4444444444444444,
             "#bd3786"
            ],
            [
             0.5555555555555556,
             "#d8576b"
            ],
            [
             0.6666666666666666,
             "#ed7953"
            ],
            [
             0.7777777777777778,
             "#fb9f3a"
            ],
            [
             0.8888888888888888,
             "#fdca26"
            ],
            [
             1,
             "#f0f921"
            ]
           ]
          },
          "colorway": [
           "#636efa",
           "#EF553B",
           "#00cc96",
           "#ab63fa",
           "#FFA15A",
           "#19d3f3",
           "#FF6692",
           "#B6E880",
           "#FF97FF",
           "#FECB52"
          ],
          "font": {
           "color": "#2a3f5f"
          },
          "geo": {
           "bgcolor": "white",
           "lakecolor": "white",
           "landcolor": "#E5ECF6",
           "showlakes": true,
           "showland": true,
           "subunitcolor": "white"
          },
          "hoverlabel": {
           "align": "left"
          },
          "hovermode": "closest",
          "mapbox": {
           "style": "light"
          },
          "paper_bgcolor": "white",
          "plot_bgcolor": "#E5ECF6",
          "polar": {
           "angularaxis": {
            "gridcolor": "white",
            "linecolor": "white",
            "ticks": ""
           },
           "bgcolor": "#E5ECF6",
           "radialaxis": {
            "gridcolor": "white",
            "linecolor": "white",
            "ticks": ""
           }
          },
          "scene": {
           "xaxis": {
            "backgroundcolor": "#E5ECF6",
            "gridcolor": "white",
            "gridwidth": 2,
            "linecolor": "white",
            "showbackground": true,
            "ticks": "",
            "zerolinecolor": "white"
           },
           "yaxis": {
            "backgroundcolor": "#E5ECF6",
            "gridcolor": "white",
            "gridwidth": 2,
            "linecolor": "white",
            "showbackground": true,
            "ticks": "",
            "zerolinecolor": "white"
           },
           "zaxis": {
            "backgroundcolor": "#E5ECF6",
            "gridcolor": "white",
            "gridwidth": 2,
            "linecolor": "white",
            "showbackground": true,
            "ticks": "",
            "zerolinecolor": "white"
           }
          },
          "shapedefaults": {
           "line": {
            "color": "#2a3f5f"
           }
          },
          "ternary": {
           "aaxis": {
            "gridcolor": "white",
            "linecolor": "white",
            "ticks": ""
           },
           "baxis": {
            "gridcolor": "white",
            "linecolor": "white",
            "ticks": ""
           },
           "bgcolor": "#E5ECF6",
           "caxis": {
            "gridcolor": "white",
            "linecolor": "white",
            "ticks": ""
           }
          },
          "title": {
           "x": 0.05
          },
          "xaxis": {
           "automargin": true,
           "gridcolor": "white",
           "linecolor": "white",
           "ticks": "",
           "title": {
            "standoff": 15
           },
           "zerolinecolor": "white",
           "zerolinewidth": 2
          },
          "yaxis": {
           "automargin": true,
           "gridcolor": "white",
           "linecolor": "white",
           "ticks": "",
           "title": {
            "standoff": 15
           },
           "zerolinecolor": "white",
           "zerolinewidth": 2
          }
         }
        },
        "width": 1500,
        "xaxis": {
         "anchor": "y",
         "domain": [
          0,
          0.2888888888888889
         ],
         "title": {
          "text": "Count"
         }
        },
        "xaxis2": {
         "anchor": "y2",
         "domain": [
          0.35555555555555557,
          0.6444444444444445
         ],
         "title": {
          "text": "Count"
         }
        },
        "xaxis3": {
         "anchor": "y3",
         "domain": [
          0.7111111111111111,
          1
         ],
         "title": {
          "text": "Count"
         }
        },
        "yaxis": {
         "anchor": "x",
         "domain": [
          0,
          1
         ]
        },
        "yaxis2": {
         "anchor": "x2",
         "domain": [
          0,
          1
         ]
        },
        "yaxis3": {
         "anchor": "x3",
         "domain": [
          0,
          1
         ]
        }
       }
      }
     },
     "metadata": {},
     "output_type": "display_data"
    }
   ],
   "source": [
    "n_gram_analyzer.plot_distribution()"
   ]
  },
  {
   "cell_type": "markdown",
   "metadata": {},
   "source": [
    "### Text Cleaning"
   ]
  },
  {
   "cell_type": "code",
   "execution_count": 27,
   "metadata": {},
   "outputs": [],
   "source": [
    "from utils import TextCleaner\n",
    "from utils import TextPreprocess"
   ]
  },
  {
   "cell_type": "code",
   "execution_count": 28,
   "metadata": {},
   "outputs": [],
   "source": [
    "text_cleaner = TextCleaner()"
   ]
  },
  {
   "cell_type": "code",
   "execution_count": 29,
   "metadata": {},
   "outputs": [],
   "source": [
    "df_clean[\"cleaned_text\"] = df_clean[\"description\"].apply(text_cleaner)"
   ]
  },
  {
   "cell_type": "code",
   "execution_count": 30,
   "metadata": {},
   "outputs": [],
   "source": [
    "processor = TextPreprocess()"
   ]
  },
  {
   "cell_type": "code",
   "execution_count": 31,
   "metadata": {},
   "outputs": [],
   "source": [
    "df_clean[\"cleaned_text_processed\"] = df_clean[\"cleaned_text\"].apply(processor)"
   ]
  },
  {
   "cell_type": "code",
   "execution_count": 32,
   "metadata": {},
   "outputs": [],
   "source": [
    "df_clean.drop(['description',\"text_length\",\"cleaned_text\"], axis= 1 , inplace=True)\n",
    "df_clean.rename({\"cleaned_text_processed\" : \"text\"}, inplace=True)\n",
    "df_clean.reset_index(inplace=True)"
   ]
  },
  {
   "cell_type": "code",
   "execution_count": 36,
   "metadata": {},
   "outputs": [],
   "source": [
    "import torch\n",
    "from torch import nn, optim\n",
    "from torch.utils.data import Dataset, DataLoader\n",
    "import torch.nn.functional as F"
   ]
  },
  {
   "cell_type": "code",
   "execution_count": 37,
   "metadata": {},
   "outputs": [],
   "source": [
    "from sklearn.preprocessing import LabelEncoder\n",
    "from sklearn.model_selection import train_test_split"
   ]
  },
  {
   "cell_type": "code",
   "execution_count": 38,
   "metadata": {},
   "outputs": [
    {
     "data": {
      "text/html": [
       "<div>\n",
       "<style scoped>\n",
       "    .dataframe tbody tr th:only-of-type {\n",
       "        vertical-align: middle;\n",
       "    }\n",
       "\n",
       "    .dataframe tbody tr th {\n",
       "        vertical-align: top;\n",
       "    }\n",
       "\n",
       "    .dataframe thead th {\n",
       "        text-align: right;\n",
       "    }\n",
       "</style>\n",
       "<table border=\"1\" class=\"dataframe\">\n",
       "  <thead>\n",
       "    <tr style=\"text-align: right;\">\n",
       "      <th></th>\n",
       "      <th>index</th>\n",
       "      <th>label</th>\n",
       "      <th>cleaned_text_processed</th>\n",
       "    </tr>\n",
       "  </thead>\n",
       "  <tbody>\n",
       "    <tr>\n",
       "      <th>0</th>\n",
       "      <td>12943</td>\n",
       "      <td>0</td>\n",
       "      <td>sapien brief histori humankind review recommen...</td>\n",
       "    </tr>\n",
       "    <tr>\n",
       "      <th>1</th>\n",
       "      <td>11862</td>\n",
       "      <td>0</td>\n",
       "      <td>ibp 2019 specialist offic market offic scale p...</td>\n",
       "    </tr>\n",
       "    <tr>\n",
       "      <th>2</th>\n",
       "      <td>12292</td>\n",
       "      <td>0</td>\n",
       "      <td>offici toefl ibt test vol 2 dvd author educ te...</td>\n",
       "    </tr>\n",
       "    <tr>\n",
       "      <th>3</th>\n",
       "      <td>15388</td>\n",
       "      <td>0</td>\n",
       "      <td>anim shape modern medicin one health histori m...</td>\n",
       "    </tr>\n",
       "    <tr>\n",
       "      <th>4</th>\n",
       "      <td>15588</td>\n",
       "      <td>0</td>\n",
       "      <td>atla osteopath techniqu</td>\n",
       "    </tr>\n",
       "  </tbody>\n",
       "</table>\n",
       "</div>"
      ],
      "text/plain": [
       "   index  label                             cleaned_text_processed\n",
       "0  12943      0  sapien brief histori humankind review recommen...\n",
       "1  11862      0  ibp 2019 specialist offic market offic scale p...\n",
       "2  12292      0  offici toefl ibt test vol 2 dvd author educ te...\n",
       "3  15388      0  anim shape modern medicin one health histori m...\n",
       "4  15588      0                            atla osteopath techniqu"
      ]
     },
     "execution_count": 38,
     "metadata": {},
     "output_type": "execute_result"
    }
   ],
   "source": [
    "encoder = LabelEncoder()\n",
    "df_clean.label = encoder.fit_transform(df_clean.label)\n",
    "\n",
    "df_clean.head()"
   ]
  },
  {
   "cell_type": "code",
   "execution_count": 39,
   "metadata": {},
   "outputs": [],
   "source": [
    "df_clean.drop(['index'], axis= 1 , inplace=True)"
   ]
  },
  {
   "cell_type": "code",
   "execution_count": 40,
   "metadata": {},
   "outputs": [],
   "source": [
    "train_X, test_X, train_Y, test_Y = train_test_split(df_clean['cleaned_text_processed'], df_clean['label'], train_size = 0.7, shuffle = True)"
   ]
  },
  {
   "cell_type": "code",
   "execution_count": 41,
   "metadata": {},
   "outputs": [
    {
     "name": "stderr",
     "output_type": "stream",
     "text": [
      "c:\\Users\\rjn\\miniconda3\\envs\\gpt\\Lib\\site-packages\\tqdm\\auto.py:21: TqdmWarning:\n",
      "\n",
      "IProgress not found. Please update jupyter and ipywidgets. See https://ipywidgets.readthedocs.io/en/stable/user_install.html\n",
      "\n",
      "c:\\Users\\rjn\\miniconda3\\envs\\gpt\\Lib\\site-packages\\huggingface_hub\\file_download.py:157: UserWarning:\n",
      "\n",
      "`huggingface_hub` cache-system uses symlinks by default to efficiently store duplicated files but your machine does not support them in C:\\Users\\rjn\\.cache\\huggingface\\hub\\models--bert-base-cased. Caching files will still work but in a degraded version that might require more space on your disk. This warning can be disabled by setting the `HF_HUB_DISABLE_SYMLINKS_WARNING` environment variable. For more details, see https://huggingface.co/docs/huggingface_hub/how-to-cache#limitations.\n",
      "To support symlinks on Windows, you either need to activate Developer Mode or to run Python as an administrator. In order to see activate developer mode, see this article: https://docs.microsoft.com/en-us/windows/apps/get-started/enable-your-device-for-development\n",
      "\n",
      "c:\\Users\\rjn\\miniconda3\\envs\\gpt\\Lib\\site-packages\\huggingface_hub\\file_download.py:1132: FutureWarning:\n",
      "\n",
      "`resume_download` is deprecated and will be removed in version 1.0.0. Downloads always resume when possible. If you want to force a new download, use `force_download=True`.\n",
      "\n"
     ]
    }
   ],
   "source": [
    "from transformers import AutoTokenizer\n",
    "tokenizer = AutoTokenizer.from_pretrained(\"bert-base-cased\")\n"
   ]
  },
  {
   "cell_type": "code",
   "execution_count": 42,
   "metadata": {},
   "outputs": [],
   "source": [
    "train_tokens = tokenizer(list(train_X), padding = True, truncation=True)\n",
    "test_tokens = tokenizer(list(test_X), padding = True, truncation=True)"
   ]
  },
  {
   "cell_type": "code",
   "execution_count": 43,
   "metadata": {},
   "outputs": [
    {
     "data": {
      "text/plain": [
       "dict_keys(['input_ids', 'token_type_ids', 'attention_mask'])"
      ]
     },
     "execution_count": 43,
     "metadata": {},
     "output_type": "execute_result"
    }
   ],
   "source": [
    "train_tokens.keys()"
   ]
  },
  {
   "cell_type": "code",
   "execution_count": 44,
   "metadata": {},
   "outputs": [
    {
     "name": "stdout",
     "output_type": "stream",
     "text": [
      "[101, 5871, 2158, 3295, 2511, 112, 176, 16423, 3254, 16156, 5871, 2158, 3501, 14516, 10182, 1197, 8228, 2105, 1197, 2774, 5871, 2158, 5871, 2158, 8228, 2105, 1197, 2774, 3501, 14516, 10182, 1197, 3254, 16156, 5871, 2158, 102, 0, 0, 0, 0, 0, 0, 0, 0, 0, 0, 0, 0, 0, 0, 0, 0, 0, 0, 0, 0, 0, 0, 0, 0, 0, 0, 0, 0, 0, 0, 0, 0, 0, 0, 0, 0, 0, 0, 0, 0, 0, 0, 0, 0, 0, 0, 0, 0, 0, 0, 0, 0, 0, 0, 0, 0, 0, 0, 0, 0, 0, 0, 0, 0, 0, 0, 0, 0, 0, 0, 0, 0, 0, 0, 0, 0, 0, 0, 0, 0, 0, 0, 0, 0, 0, 0, 0, 0, 0, 0, 0, 0, 0, 0, 0, 0, 0, 0, 0, 0, 0, 0, 0, 0, 0, 0, 0, 0, 0, 0, 0, 0, 0, 0, 0, 0, 0, 0, 0, 0, 0, 0, 0, 0, 0, 0, 0, 0, 0, 0, 0, 0, 0, 0, 0, 0, 0, 0, 0, 0, 0, 0, 0, 0, 0, 0, 0, 0, 0, 0, 0, 0, 0, 0, 0, 0, 0, 0, 0, 0, 0, 0, 0, 0, 0, 0, 0, 0, 0, 0, 0, 0, 0, 0, 0, 0, 0, 0, 0, 0, 0, 0, 0, 0, 0, 0, 0, 0, 0, 0, 0, 0, 0, 0, 0, 0, 0, 0, 0, 0, 0, 0, 0, 0, 0, 0, 0, 0, 0, 0, 0, 0, 0, 0, 0, 0, 0, 0, 0, 0, 0, 0, 0, 0, 0, 0, 0, 0, 0, 0, 0, 0, 0, 0, 0, 0, 0, 0, 0, 0, 0, 0, 0, 0, 0, 0, 0, 0, 0, 0, 0, 0, 0, 0, 0, 0, 0, 0, 0, 0, 0, 0, 0, 0, 0, 0, 0, 0, 0, 0, 0, 0, 0, 0, 0, 0, 0, 0, 0, 0, 0, 0, 0, 0, 0, 0, 0, 0, 0, 0, 0, 0, 0, 0, 0, 0, 0, 0, 0, 0, 0, 0, 0, 0, 0, 0, 0, 0, 0, 0, 0, 0, 0, 0, 0, 0, 0, 0, 0, 0, 0, 0, 0, 0, 0, 0, 0, 0, 0, 0, 0, 0, 0, 0, 0, 0, 0, 0, 0, 0, 0, 0, 0, 0, 0, 0, 0, 0, 0, 0, 0, 0, 0, 0, 0, 0, 0, 0, 0, 0, 0, 0, 0, 0, 0, 0, 0, 0, 0, 0, 0, 0, 0, 0, 0, 0, 0, 0, 0, 0, 0, 0, 0, 0, 0, 0, 0, 0, 0, 0, 0, 0, 0, 0, 0, 0, 0, 0, 0, 0, 0, 0, 0, 0, 0, 0, 0, 0, 0, 0, 0, 0, 0, 0, 0, 0, 0, 0, 0, 0, 0, 0, 0, 0, 0, 0, 0, 0, 0, 0]\n",
      "[CLS] hack beginner'guid comput hack basic secur penetr test hack hack penetr test basic secur comput hack [SEP] [PAD] [PAD] [PAD] [PAD] [PAD] [PAD] [PAD] [PAD] [PAD] [PAD] [PAD] [PAD] [PAD] [PAD] [PAD] [PAD] [PAD] [PAD] [PAD] [PAD] [PAD] [PAD] [PAD] [PAD] [PAD] [PAD] [PAD] [PAD] [PAD] [PAD] [PAD] [PAD] [PAD] [PAD] [PAD] [PAD] [PAD] [PAD] [PAD] [PAD] [PAD] [PAD] [PAD] [PAD] [PAD] [PAD] [PAD] [PAD] [PAD] [PAD] [PAD] [PAD] [PAD] [PAD] [PAD] [PAD] [PAD] [PAD] [PAD] [PAD] [PAD] [PAD] [PAD] [PAD] [PAD] [PAD] [PAD] [PAD] [PAD] [PAD] [PAD] [PAD] [PAD] [PAD] [PAD] [PAD] [PAD] [PAD] [PAD] [PAD] [PAD] [PAD] [PAD] [PAD] [PAD] [PAD] [PAD] [PAD] [PAD] [PAD] [PAD] [PAD] [PAD] [PAD] [PAD] [PAD] [PAD] [PAD] [PAD] [PAD] [PAD] [PAD] [PAD] [PAD] [PAD] [PAD] [PAD] [PAD] [PAD] [PAD] [PAD] [PAD] [PAD] [PAD] [PAD] [PAD] [PAD] [PAD] [PAD] [PAD] [PAD] [PAD] [PAD] [PAD] [PAD] [PAD] [PAD] [PAD] [PAD] [PAD] [PAD] [PAD] [PAD] [PAD] [PAD] [PAD] [PAD] [PAD] [PAD] [PAD] [PAD] [PAD] [PAD] [PAD] [PAD] [PAD] [PAD] [PAD] [PAD] [PAD] [PAD] [PAD] [PAD] [PAD] [PAD] [PAD] [PAD] [PAD] [PAD] [PAD] [PAD] [PAD] [PAD] [PAD] [PAD] [PAD] [PAD] [PAD] [PAD] [PAD] [PAD] [PAD] [PAD] [PAD] [PAD] [PAD] [PAD] [PAD] [PAD] [PAD] [PAD] [PAD] [PAD] [PAD] [PAD] [PAD] [PAD] [PAD] [PAD] [PAD] [PAD] [PAD] [PAD] [PAD] [PAD] [PAD] [PAD] [PAD] [PAD] [PAD] [PAD] [PAD] [PAD] [PAD] [PAD] [PAD] [PAD] [PAD] [PAD] [PAD] [PAD] [PAD] [PAD] [PAD] [PAD] [PAD] [PAD] [PAD] [PAD] [PAD] [PAD] [PAD] [PAD] [PAD] [PAD] [PAD] [PAD] [PAD] [PAD] [PAD] [PAD] [PAD] [PAD] [PAD] [PAD] [PAD] [PAD] [PAD] [PAD] [PAD] [PAD] [PAD] [PAD] [PAD] [PAD] [PAD] [PAD] [PAD] [PAD] [PAD] [PAD] [PAD] [PAD] [PAD] [PAD] [PAD] [PAD] [PAD] [PAD] [PAD] [PAD] [PAD] [PAD] [PAD] [PAD] [PAD] [PAD] [PAD] [PAD] [PAD] [PAD] [PAD] [PAD] [PAD] [PAD] [PAD] [PAD] [PAD] [PAD] [PAD] [PAD] [PAD] [PAD] [PAD] [PAD] [PAD] [PAD] [PAD] [PAD] [PAD] [PAD] [PAD] [PAD] [PAD] [PAD] [PAD] [PAD] [PAD] [PAD] [PAD] [PAD] [PAD] [PAD] [PAD] [PAD] [PAD] [PAD] [PAD] [PAD] [PAD] [PAD] [PAD] [PAD] [PAD] [PAD] [PAD] [PAD] [PAD] [PAD] [PAD] [PAD] [PAD] [PAD] [PAD] [PAD] [PAD] [PAD] [PAD] [PAD] [PAD] [PAD] [PAD] [PAD] [PAD] [PAD] [PAD] [PAD] [PAD] [PAD] [PAD] [PAD] [PAD] [PAD] [PAD] [PAD] [PAD] [PAD] [PAD] [PAD] [PAD] [PAD] [PAD] [PAD] [PAD] [PAD] [PAD] [PAD] [PAD] [PAD] [PAD] [PAD] [PAD] [PAD] [PAD] [PAD] [PAD] [PAD] [PAD] [PAD] [PAD] [PAD] [PAD] [PAD] [PAD] [PAD] [PAD] [PAD] [PAD] [PAD] [PAD] [PAD] [PAD] [PAD] [PAD] [PAD] [PAD] [PAD] [PAD] [PAD] [PAD] [PAD] [PAD] [PAD] [PAD] [PAD] [PAD] [PAD] [PAD] [PAD] [PAD] [PAD] [PAD] [PAD] [PAD] [PAD] [PAD] [PAD] [PAD] [PAD] [PAD] [PAD] [PAD] [PAD] [PAD] [PAD] [PAD] [PAD] [PAD] [PAD] [PAD] [PAD] [PAD] [PAD] [PAD] [PAD] [PAD] [PAD] [PAD] [PAD] [PAD]\n"
     ]
    }
   ],
   "source": [
    "print(train_tokens['input_ids'][0])\n",
    "print(tokenizer.decode(train_tokens['input_ids'][0]))"
   ]
  },
  {
   "cell_type": "code",
   "execution_count": 45,
   "metadata": {},
   "outputs": [],
   "source": [
    "class TokenData(Dataset):\n",
    "    def __init__(self, train = False):\n",
    "        if train:\n",
    "            self.text_data = train_X\n",
    "            self.tokens = train_tokens\n",
    "            self.labels = list(train_Y)\n",
    "        else:\n",
    "            self.text_data = test_X\n",
    "            self.tokens = test_tokens\n",
    "            self.labels = list(test_Y)\n",
    "\n",
    "    def __len__(self):\n",
    "        return len(self.text_data)\n",
    "\n",
    "    def __getitem__(self, idx):\n",
    "        sample = {}\n",
    "        for k, v in self.tokens.items():\n",
    "            sample[k] = torch.tensor(v[idx])\n",
    "        sample['labels'] = torch.tensor(self.labels[idx])\n",
    "        return sample"
   ]
  },
  {
   "cell_type": "code",
   "execution_count": 46,
   "metadata": {},
   "outputs": [],
   "source": [
    "batch_size = 32\n",
    "train_dataset = TokenData(train = True)\n",
    "train_loader = DataLoader(train_dataset, shuffle=True, batch_size=batch_size)\n",
    "\n",
    "test_dataset = TokenData(train = False)\n",
    "test_loader = DataLoader(test_dataset, shuffle=True, batch_size=batch_size)"
   ]
  },
  {
   "cell_type": "code",
   "execution_count": 48,
   "metadata": {},
   "outputs": [
    {
     "name": "stderr",
     "output_type": "stream",
     "text": [
      "Some weights of BertForSequenceClassification were not initialized from the model checkpoint at bert-base-cased and are newly initialized: ['classifier.bias', 'classifier.weight']\n",
      "You should probably TRAIN this model on a down-stream task to be able to use it for predictions and inference.\n"
     ]
    }
   ],
   "source": [
    "from torch.optim import AdamW\n",
    "from transformers import BertForSequenceClassification\n",
    "bert_model = BertForSequenceClassification.from_pretrained('bert-base-cased') # Pre-trained model\n",
    "optimizer = AdamW(bert_model.parameters(), lr=1e-5) # Optimization function\n",
    "loss_fn = torch.nn.CrossEntropyLoss() # Loss function"
   ]
  },
  {
   "cell_type": "code",
   "execution_count": 49,
   "metadata": {},
   "outputs": [
    {
     "data": {
      "text/plain": [
       "BertForSequenceClassification(\n",
       "  (bert): BertModel(\n",
       "    (embeddings): BertEmbeddings(\n",
       "      (word_embeddings): Embedding(28996, 768, padding_idx=0)\n",
       "      (position_embeddings): Embedding(512, 768)\n",
       "      (token_type_embeddings): Embedding(2, 768)\n",
       "      (LayerNorm): LayerNorm((768,), eps=1e-12, elementwise_affine=True)\n",
       "      (dropout): Dropout(p=0.1, inplace=False)\n",
       "    )\n",
       "    (encoder): BertEncoder(\n",
       "      (layer): ModuleList(\n",
       "        (0-11): 12 x BertLayer(\n",
       "          (attention): BertAttention(\n",
       "            (self): BertSdpaSelfAttention(\n",
       "              (query): Linear(in_features=768, out_features=768, bias=True)\n",
       "              (key): Linear(in_features=768, out_features=768, bias=True)\n",
       "              (value): Linear(in_features=768, out_features=768, bias=True)\n",
       "              (dropout): Dropout(p=0.1, inplace=False)\n",
       "            )\n",
       "            (output): BertSelfOutput(\n",
       "              (dense): Linear(in_features=768, out_features=768, bias=True)\n",
       "              (LayerNorm): LayerNorm((768,), eps=1e-12, elementwise_affine=True)\n",
       "              (dropout): Dropout(p=0.1, inplace=False)\n",
       "            )\n",
       "          )\n",
       "          (intermediate): BertIntermediate(\n",
       "            (dense): Linear(in_features=768, out_features=3072, bias=True)\n",
       "            (intermediate_act_fn): GELUActivation()\n",
       "          )\n",
       "          (output): BertOutput(\n",
       "            (dense): Linear(in_features=3072, out_features=768, bias=True)\n",
       "            (LayerNorm): LayerNorm((768,), eps=1e-12, elementwise_affine=True)\n",
       "            (dropout): Dropout(p=0.1, inplace=False)\n",
       "          )\n",
       "        )\n",
       "      )\n",
       "    )\n",
       "    (pooler): BertPooler(\n",
       "      (dense): Linear(in_features=768, out_features=768, bias=True)\n",
       "      (activation): Tanh()\n",
       "    )\n",
       "  )\n",
       "  (dropout): Dropout(p=0.1, inplace=False)\n",
       "  (classifier): Linear(in_features=768, out_features=2, bias=True)\n",
       ")"
      ]
     },
     "execution_count": 49,
     "metadata": {},
     "output_type": "execute_result"
    }
   ],
   "source": [
    "num_epochs = 3\n",
    "device = \"cuda\" if torch.cuda.is_available() else \"mps\" if torch.backends.mps.is_available() else \"cpu\"\n",
    "# device = \"cpu\"\n",
    "bert_model.to(device) # Transfer model to GPU if available"
   ]
  },
  {
   "cell_type": "code",
   "execution_count": 50,
   "metadata": {},
   "outputs": [
    {
     "name": "stdout",
     "output_type": "stream",
     "text": [
      "Epoch:  1\n"
     ]
    },
    {
     "ename": "IndexError",
     "evalue": "Target 3 is out of bounds.",
     "output_type": "error",
     "traceback": [
      "\u001b[1;31m---------------------------------------------------------------------------\u001b[0m",
      "\u001b[1;31mIndexError\u001b[0m                                Traceback (most recent call last)",
      "Cell \u001b[1;32mIn[50], line 16\u001b[0m\n\u001b[0;32m     14\u001b[0m \u001b[38;5;66;03m# The logits will be used for measuring the loss\u001b[39;00m\n\u001b[0;32m     15\u001b[0m pred \u001b[38;5;241m=\u001b[39m outputs\u001b[38;5;241m.\u001b[39mlogits\n\u001b[1;32m---> 16\u001b[0m loss \u001b[38;5;241m=\u001b[39m \u001b[43mloss_fn\u001b[49m\u001b[43m(\u001b[49m\u001b[43mpred\u001b[49m\u001b[43m,\u001b[49m\u001b[43m \u001b[49m\u001b[43mbatch\u001b[49m\u001b[43m[\u001b[49m\u001b[38;5;124;43m'\u001b[39;49m\u001b[38;5;124;43mlabels\u001b[39;49m\u001b[38;5;124;43m'\u001b[39;49m\u001b[43m]\u001b[49m\u001b[43m)\u001b[49m\n\u001b[0;32m     18\u001b[0m \u001b[38;5;66;03m# Calculating the gradient for the loss function\u001b[39;00m\n\u001b[0;32m     19\u001b[0m loss\u001b[38;5;241m.\u001b[39mbackward()\n",
      "File \u001b[1;32mc:\\Users\\rjn\\miniconda3\\envs\\gpt\\Lib\\site-packages\\torch\\nn\\modules\\module.py:1532\u001b[0m, in \u001b[0;36mModule._wrapped_call_impl\u001b[1;34m(self, *args, **kwargs)\u001b[0m\n\u001b[0;32m   1530\u001b[0m     \u001b[38;5;28;01mreturn\u001b[39;00m \u001b[38;5;28mself\u001b[39m\u001b[38;5;241m.\u001b[39m_compiled_call_impl(\u001b[38;5;241m*\u001b[39margs, \u001b[38;5;241m*\u001b[39m\u001b[38;5;241m*\u001b[39mkwargs)  \u001b[38;5;66;03m# type: ignore[misc]\u001b[39;00m\n\u001b[0;32m   1531\u001b[0m \u001b[38;5;28;01melse\u001b[39;00m:\n\u001b[1;32m-> 1532\u001b[0m     \u001b[38;5;28;01mreturn\u001b[39;00m \u001b[38;5;28;43mself\u001b[39;49m\u001b[38;5;241;43m.\u001b[39;49m\u001b[43m_call_impl\u001b[49m\u001b[43m(\u001b[49m\u001b[38;5;241;43m*\u001b[39;49m\u001b[43margs\u001b[49m\u001b[43m,\u001b[49m\u001b[43m \u001b[49m\u001b[38;5;241;43m*\u001b[39;49m\u001b[38;5;241;43m*\u001b[39;49m\u001b[43mkwargs\u001b[49m\u001b[43m)\u001b[49m\n",
      "File \u001b[1;32mc:\\Users\\rjn\\miniconda3\\envs\\gpt\\Lib\\site-packages\\torch\\nn\\modules\\module.py:1541\u001b[0m, in \u001b[0;36mModule._call_impl\u001b[1;34m(self, *args, **kwargs)\u001b[0m\n\u001b[0;32m   1536\u001b[0m \u001b[38;5;66;03m# If we don't have any hooks, we want to skip the rest of the logic in\u001b[39;00m\n\u001b[0;32m   1537\u001b[0m \u001b[38;5;66;03m# this function, and just call forward.\u001b[39;00m\n\u001b[0;32m   1538\u001b[0m \u001b[38;5;28;01mif\u001b[39;00m \u001b[38;5;129;01mnot\u001b[39;00m (\u001b[38;5;28mself\u001b[39m\u001b[38;5;241m.\u001b[39m_backward_hooks \u001b[38;5;129;01mor\u001b[39;00m \u001b[38;5;28mself\u001b[39m\u001b[38;5;241m.\u001b[39m_backward_pre_hooks \u001b[38;5;129;01mor\u001b[39;00m \u001b[38;5;28mself\u001b[39m\u001b[38;5;241m.\u001b[39m_forward_hooks \u001b[38;5;129;01mor\u001b[39;00m \u001b[38;5;28mself\u001b[39m\u001b[38;5;241m.\u001b[39m_forward_pre_hooks\n\u001b[0;32m   1539\u001b[0m         \u001b[38;5;129;01mor\u001b[39;00m _global_backward_pre_hooks \u001b[38;5;129;01mor\u001b[39;00m _global_backward_hooks\n\u001b[0;32m   1540\u001b[0m         \u001b[38;5;129;01mor\u001b[39;00m _global_forward_hooks \u001b[38;5;129;01mor\u001b[39;00m _global_forward_pre_hooks):\n\u001b[1;32m-> 1541\u001b[0m     \u001b[38;5;28;01mreturn\u001b[39;00m \u001b[43mforward_call\u001b[49m\u001b[43m(\u001b[49m\u001b[38;5;241;43m*\u001b[39;49m\u001b[43margs\u001b[49m\u001b[43m,\u001b[49m\u001b[43m \u001b[49m\u001b[38;5;241;43m*\u001b[39;49m\u001b[38;5;241;43m*\u001b[39;49m\u001b[43mkwargs\u001b[49m\u001b[43m)\u001b[49m\n\u001b[0;32m   1543\u001b[0m \u001b[38;5;28;01mtry\u001b[39;00m:\n\u001b[0;32m   1544\u001b[0m     result \u001b[38;5;241m=\u001b[39m \u001b[38;5;28;01mNone\u001b[39;00m\n",
      "File \u001b[1;32mc:\\Users\\rjn\\miniconda3\\envs\\gpt\\Lib\\site-packages\\torch\\nn\\modules\\loss.py:1185\u001b[0m, in \u001b[0;36mCrossEntropyLoss.forward\u001b[1;34m(self, input, target)\u001b[0m\n\u001b[0;32m   1184\u001b[0m \u001b[38;5;28;01mdef\u001b[39;00m \u001b[38;5;21mforward\u001b[39m(\u001b[38;5;28mself\u001b[39m, \u001b[38;5;28minput\u001b[39m: Tensor, target: Tensor) \u001b[38;5;241m-\u001b[39m\u001b[38;5;241m>\u001b[39m Tensor:\n\u001b[1;32m-> 1185\u001b[0m     \u001b[38;5;28;01mreturn\u001b[39;00m \u001b[43mF\u001b[49m\u001b[38;5;241;43m.\u001b[39;49m\u001b[43mcross_entropy\u001b[49m\u001b[43m(\u001b[49m\u001b[38;5;28;43minput\u001b[39;49m\u001b[43m,\u001b[49m\u001b[43m \u001b[49m\u001b[43mtarget\u001b[49m\u001b[43m,\u001b[49m\u001b[43m \u001b[49m\u001b[43mweight\u001b[49m\u001b[38;5;241;43m=\u001b[39;49m\u001b[38;5;28;43mself\u001b[39;49m\u001b[38;5;241;43m.\u001b[39;49m\u001b[43mweight\u001b[49m\u001b[43m,\u001b[49m\n\u001b[0;32m   1186\u001b[0m \u001b[43m                           \u001b[49m\u001b[43mignore_index\u001b[49m\u001b[38;5;241;43m=\u001b[39;49m\u001b[38;5;28;43mself\u001b[39;49m\u001b[38;5;241;43m.\u001b[39;49m\u001b[43mignore_index\u001b[49m\u001b[43m,\u001b[49m\u001b[43m \u001b[49m\u001b[43mreduction\u001b[49m\u001b[38;5;241;43m=\u001b[39;49m\u001b[38;5;28;43mself\u001b[39;49m\u001b[38;5;241;43m.\u001b[39;49m\u001b[43mreduction\u001b[49m\u001b[43m,\u001b[49m\n\u001b[0;32m   1187\u001b[0m \u001b[43m                           \u001b[49m\u001b[43mlabel_smoothing\u001b[49m\u001b[38;5;241;43m=\u001b[39;49m\u001b[38;5;28;43mself\u001b[39;49m\u001b[38;5;241;43m.\u001b[39;49m\u001b[43mlabel_smoothing\u001b[49m\u001b[43m)\u001b[49m\n",
      "File \u001b[1;32mc:\\Users\\rjn\\miniconda3\\envs\\gpt\\Lib\\site-packages\\torch\\nn\\functional.py:3086\u001b[0m, in \u001b[0;36mcross_entropy\u001b[1;34m(input, target, weight, size_average, ignore_index, reduce, reduction, label_smoothing)\u001b[0m\n\u001b[0;32m   3084\u001b[0m \u001b[38;5;28;01mif\u001b[39;00m size_average \u001b[38;5;129;01mis\u001b[39;00m \u001b[38;5;129;01mnot\u001b[39;00m \u001b[38;5;28;01mNone\u001b[39;00m \u001b[38;5;129;01mor\u001b[39;00m reduce \u001b[38;5;129;01mis\u001b[39;00m \u001b[38;5;129;01mnot\u001b[39;00m \u001b[38;5;28;01mNone\u001b[39;00m:\n\u001b[0;32m   3085\u001b[0m     reduction \u001b[38;5;241m=\u001b[39m _Reduction\u001b[38;5;241m.\u001b[39mlegacy_get_string(size_average, reduce)\n\u001b[1;32m-> 3086\u001b[0m \u001b[38;5;28;01mreturn\u001b[39;00m \u001b[43mtorch\u001b[49m\u001b[38;5;241;43m.\u001b[39;49m\u001b[43m_C\u001b[49m\u001b[38;5;241;43m.\u001b[39;49m\u001b[43m_nn\u001b[49m\u001b[38;5;241;43m.\u001b[39;49m\u001b[43mcross_entropy_loss\u001b[49m\u001b[43m(\u001b[49m\u001b[38;5;28;43minput\u001b[39;49m\u001b[43m,\u001b[49m\u001b[43m \u001b[49m\u001b[43mtarget\u001b[49m\u001b[43m,\u001b[49m\u001b[43m \u001b[49m\u001b[43mweight\u001b[49m\u001b[43m,\u001b[49m\u001b[43m \u001b[49m\u001b[43m_Reduction\u001b[49m\u001b[38;5;241;43m.\u001b[39;49m\u001b[43mget_enum\u001b[49m\u001b[43m(\u001b[49m\u001b[43mreduction\u001b[49m\u001b[43m)\u001b[49m\u001b[43m,\u001b[49m\u001b[43m \u001b[49m\u001b[43mignore_index\u001b[49m\u001b[43m,\u001b[49m\u001b[43m \u001b[49m\u001b[43mlabel_smoothing\u001b[49m\u001b[43m)\u001b[49m\n",
      "\u001b[1;31mIndexError\u001b[0m: Target 3 is out of bounds."
     ]
    }
   ],
   "source": [
    "for epoch in range(num_epochs):\n",
    "    print(\"Epoch: \",(epoch + 1))\n",
    "    # TRAINING BLOCK STARTS\n",
    "    bert_model.train()\n",
    "    for i,batch in enumerate(train_loader):    \n",
    "        batch = {k: v.to(device) for k, v in batch.items()}\n",
    "        \n",
    "        # Setting the gradients to zero\n",
    "        optimizer.zero_grad()\n",
    "        \n",
    "        # Passing the data to the model\n",
    "        outputs = bert_model(input_ids = batch['input_ids'], attention_mask = batch['attention_mask'])\n",
    "        \n",
    "        # The logits will be used for measuring the loss\n",
    "        pred = outputs.logits\n",
    "        loss = loss_fn(pred, batch['labels'])\n",
    "\n",
    "        # Calculating the gradient for the loss function\n",
    "        loss.backward()\n",
    "        \n",
    "        # Optimizing the parameters of the bert model\n",
    "        optimizer.step()\n",
    "\n",
    "        # Calculating the running loss for logging purposes\n",
    "        train_batch_loss = loss.item()\n",
    "        train_last_loss = train_batch_loss / batch_size\n",
    "\n",
    "        print('Training batch {} last loss: {}'.format(i + 1, train_last_loss))\n",
    "    # Logging epoch-wise training loss\n",
    "    print(f\"\\nTraining epoch {epoch + 1} loss: \",train_last_loss)\n",
    "    # TRAINING BLOCK ENDS \n",
    "\n",
    "    # TESTING BLOCK STARTS\n",
    "    bert_model.eval()\n",
    "    correct = 0\n",
    "    test_pred = []\n",
    "    for i, batch in enumerate(test_loader):\n",
    "        batch = {k: v.to(device) for k, v in batch.items()}\n",
    "        \n",
    "        # We don't need gradients for testing\n",
    "        with torch.no_grad():\n",
    "            outputs = bert_model(input_ids = batch['input_ids'], attention_mask = batch['attention_mask'])\n",
    "        \n",
    "        # Logits act as predictions\n",
    "        logits = outputs.logits\n",
    "        \n",
    "        # Calculating total batch loss using the logits and labels\n",
    "        loss = loss_fn(logits, batch['labels'])\n",
    "        test_batch_loss = loss.item()\n",
    "        \n",
    "        # Calculating the mean batch loss\n",
    "        test_last_loss = test_batch_loss / batch_size\n",
    "        print('Testing batch {} loss: {}'.format(i + 1, test_last_loss))\n",
    "        \n",
    "        # Comparing the predicted target with the labels in the batch\n",
    "        correct += (logits.argmax(1) == batch['labels']).sum().item()\n",
    "        print(\"Testing accuracy: \",correct/((i + 1) * batch_size))\n",
    "    \n",
    "    print(f\"\\nTesting epoch {epoch + 1} last loss: \",test_last_loss)\n",
    "    # TESTING BLOCK ENDS"
   ]
  },
  {
   "cell_type": "code",
   "execution_count": 52,
   "metadata": {},
   "outputs": [
    {
     "name": "stdout",
     "output_type": "stream",
     "text": [
      "{'input_ids': tensor([[  101,  1137,  1968,  ...,     0,     0,     0],\n",
      "        [  101, 12488, 10401,  ...,     0,     0,     0],\n",
      "        [  101,  2936,  1782,  ...,     0,     0,     0],\n",
      "        ...,\n",
      "        [  101,  1112,  1358,  ...,     0,     0,     0],\n",
      "        [  101,  1821,  1403,  ...,     0,     0,     0],\n",
      "        [  101,  8468,  4578,  ...,     0,     0,     0]]), 'token_type_ids': tensor([[0, 0, 0,  ..., 0, 0, 0],\n",
      "        [0, 0, 0,  ..., 0, 0, 0],\n",
      "        [0, 0, 0,  ..., 0, 0, 0],\n",
      "        ...,\n",
      "        [0, 0, 0,  ..., 0, 0, 0],\n",
      "        [0, 0, 0,  ..., 0, 0, 0],\n",
      "        [0, 0, 0,  ..., 0, 0, 0]]), 'attention_mask': tensor([[1, 1, 1,  ..., 0, 0, 0],\n",
      "        [1, 1, 1,  ..., 0, 0, 0],\n",
      "        [1, 1, 1,  ..., 0, 0, 0],\n",
      "        ...,\n",
      "        [1, 1, 1,  ..., 0, 0, 0],\n",
      "        [1, 1, 1,  ..., 0, 0, 0],\n",
      "        [1, 1, 1,  ..., 0, 0, 0]]), 'labels': tensor([3, 2, 0, 3, 0, 1, 2, 3, 0, 2, 1, 1, 3, 0, 2, 2, 0, 3, 0, 3, 2, 3, 2, 2,\n",
      "        1, 0, 3, 2, 2, 2, 2, 3])}\n"
     ]
    }
   ],
   "source": [
    "for i,batch in enumerate(train_loader):    \n",
    "    batch = {k: v.to(device) for k, v in batch.items()}\n",
    "    print(batch)\n",
    "    break\n",
    "    \n",
    "        "
   ]
  },
  {
   "cell_type": "code",
   "execution_count": null,
   "metadata": {},
   "outputs": [],
   "source": []
  }
 ],
 "metadata": {
  "kernelspec": {
   "display_name": "main_env",
   "language": "python",
   "name": "python3"
  },
  "language_info": {
   "codemirror_mode": {
    "name": "ipython",
    "version": 3
   },
   "file_extension": ".py",
   "mimetype": "text/x-python",
   "name": "python",
   "nbconvert_exporter": "python",
   "pygments_lexer": "ipython3",
   "version": "3.12.3"
  }
 },
 "nbformat": 4,
 "nbformat_minor": 2
}
