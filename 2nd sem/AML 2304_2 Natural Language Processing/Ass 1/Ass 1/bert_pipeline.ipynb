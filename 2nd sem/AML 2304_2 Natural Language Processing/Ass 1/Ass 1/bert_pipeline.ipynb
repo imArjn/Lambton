{
 "cells": [
  {
   "cell_type": "code",
   "execution_count": 1,
   "metadata": {},
   "outputs": [
    {
     "name": "stderr",
     "output_type": "stream",
     "text": [
      "/home/rjn/.conda/envs/main_env/lib/python3.12/site-packages/requests/__init__.py:86: RequestsDependencyWarning: Unable to find acceptable character detection dependency (chardet or charset_normalizer).\n",
      "  warnings.warn(\n",
      "/home/rjn/.conda/envs/main_env/lib/python3.12/site-packages/tqdm/auto.py:21: TqdmWarning: IProgress not found. Please update jupyter and ipywidgets. See https://ipywidgets.readthedocs.io/en/stable/user_install.html\n",
      "  from .autonotebook import tqdm as notebook_tqdm\n"
     ]
    }
   ],
   "source": [
    "import numpy as np\n",
    "import pandas as pd \n",
    "import matplotlib.pyplot as plt\n",
    "import torch\n",
    "import torch.nn as nn\n",
    "import torch.optim as optim\n",
    "from torch.utils.data import Dataset, DataLoader\n",
    "from transformers import BertForSequenceClassification\n",
    "from transformers import BertModel\n",
    "from transformers import get_linear_schedule_with_warmup\n",
    "from tqdm import tqdm"
   ]
  },
  {
   "cell_type": "code",
   "execution_count": 2,
   "metadata": {},
   "outputs": [],
   "source": [
    "import pandas as pd\n",
    "\n",
    "from sklearn.utils import shuffle\n",
    "df = pd.read_csv(\n",
    "    'https://raw.githubusercontent.com/sugatagh/E-commerce-Text-Classification/main/Dataset/ecommerceDataset.csv', \n",
    "    names = ['label', 'description']\n",
    ")\n",
    "df = df[['description', 'label']]\n",
    "\n",
    "df.drop_duplicates(inplace = True) \n",
    "\n",
    "df = df.dropna(subset=['description'])\n",
    "\n",
    "df.reset_index(drop = True, inplace = True)\n",
    "\n",
    "df = shuffle(df)\n",
    "\n",
    "df = df[0:100]"
   ]
  },
  {
   "cell_type": "code",
   "execution_count": 3,
   "metadata": {},
   "outputs": [],
   "source": [
    "from transformers import BertTokenizer\n",
    "from torch.utils.data import random_split\n",
    "\n",
    "\n",
    "class TensorDataLoader(Dataset):\n",
    "    def __init__(self, input_ids, attention_mask, labels):\n",
    "        self.input_ids = input_ids\n",
    "        self.attention_mask = attention_mask\n",
    "        self.labels = labels\n",
    "        \n",
    "    def __len__(self):\n",
    "        return len(self.labels)\n",
    "    \n",
    "    def __getitem__(self, idx):\n",
    "        return {\n",
    "            'input_ids': self.input_ids[idx],\n",
    "            'attention_mask': self.attention_mask[idx],\n",
    "            'labels': self.labels[idx]\n",
    "        }\n",
    "\n",
    "class PrepareDataset:\n",
    "    \n",
    "    def __init__(self, dataframe, text_column_name : str, labels_column_name: str, encoding : bool = False, split : float = 0.75) -> None:\n",
    "        self.df = dataframe\n",
    "        \n",
    "        self.text_column_name = text_column_name\n",
    "        self.labels_column_name = labels_column_name\n",
    "        \n",
    "        if encoding:\n",
    "            self.convert_label()\n",
    "            \n",
    "        self.tokenizer = BertTokenizer.from_pretrained('bert-base-cased')\n",
    "        \n",
    "        self.split = split\n",
    "        \n",
    "        self.unique_labels = self.df[self.labels_column_name].nunique()\n",
    "    \n",
    "    def convert_label(self):\n",
    "        unique = self.df[self.labels_column_name].unique()\n",
    "        map_value = {v: i for i, v in enumerate(unique)}\n",
    "        self.df[f\"{self.labels_column_name}\"] = self.df[self.labels_column_name].map(map_value)\n",
    "\n",
    "\n",
    "    def get_input_id_attention_mask(self, sentence):\n",
    "        tokens = self.tokenizer.encode_plus(\n",
    "        sentence,\n",
    "        add_special_tokens=True,\n",
    "        max_length=512,\n",
    "        padding='max_length',\n",
    "        truncation=True,\n",
    "        return_token_type_ids=False,\n",
    "        return_tensors='pt'\n",
    "    )\n",
    "    \n",
    "        return tokens['input_ids'].squeeze(), tokens['attention_mask'].squeeze()\n",
    "    \n",
    "    \n",
    "    def get_data_loader(self):\n",
    "        \n",
    "        ids = torch.zeros(((len(df), 512)), dtype=torch.long)\n",
    "        masks = torch.zeros(((len(df), 512)), dtype=torch.long)\n",
    "\n",
    "        # Iterate over each text in the 'text' column of the DataFrame\n",
    "        for i, txt in enumerate(self.df[self.text_column_name]):\n",
    "            # Tokenize the current text using the tokenize function\n",
    "            input_ids, attention_masks = self.get_input_id_attention_mask(txt)\n",
    "            \n",
    "            # Assign the tokenized input IDs to the corresponding row in the ids tensor\n",
    "            ids[i,:]=input_ids\n",
    "            \n",
    "            # Assign the attention masks to the corresponding row in the masks tensor\n",
    "            masks[i,:]=attention_masks\n",
    "            \n",
    "        arr = df[self.labels_column_name].values\n",
    "        labels = torch.zeros((arr.size, arr.max()+1), dtype=torch.float)\n",
    "        labels[torch.arange(arr.size), arr] = 1\n",
    "        \n",
    "        dataset = TensorDataLoader(ids, masks, labels)\n",
    "        \n",
    "        train_size = int(len(dataset) * self.split)\n",
    "        test_size = len(dataset) - train_size\n",
    "\n",
    "        train_dataset, test_dataset = random_split(dataset, [train_size, test_size])\n",
    "        \n",
    "        return train_dataset, test_dataset"
   ]
  },
  {
   "cell_type": "code",
   "execution_count": 4,
   "metadata": {},
   "outputs": [],
   "source": [
    "bert_data_loader = PrepareDataset(dataframe=df,\n",
    "                                  text_column_name=\"description\",\n",
    "                                  labels_column_name=\"label\",\n",
    "                                  encoding=True)"
   ]
  },
  {
   "cell_type": "code",
   "execution_count": 5,
   "metadata": {},
   "outputs": [],
   "source": [
    "train_dataset, test_dataset = bert_data_loader.get_data_loader()"
   ]
  },
  {
   "cell_type": "code",
   "execution_count": 6,
   "metadata": {},
   "outputs": [],
   "source": [
    "# Create data loaders\n",
    "batch_size = 32\n",
    "train_loader = DataLoader(train_dataset, batch_size=batch_size, shuffle=True)\n",
    "test_loader = DataLoader(test_dataset, batch_size=batch_size, shuffle=False)"
   ]
  },
  {
   "cell_type": "code",
   "execution_count": 7,
   "metadata": {},
   "outputs": [],
   "source": [
    "seed = 42\n",
    "torch.manual_seed(seed)\n",
    "np.random.seed(seed)\n",
    "\n",
    "\n",
    "# Define NN Architecture\n",
    "class ClassificationModel(nn.Module):\n",
    "    def __init__(self, bert, n_lables : int):\n",
    "        \"\"\"\n",
    "        Initialize the sentiment classifier model with BERT.\n",
    "        \n",
    "        Parameters:\n",
    "        - bert (BertModel): Pretrained BERT model.\n",
    "        \"\"\"\n",
    "        super(ClassificationModel, self).__init__()\n",
    "        self.bert = bert\n",
    "        self.dropout = nn.Dropout(p=0.25)\n",
    "        self.fc = nn.Linear(bert.config.hidden_size, n_lables)\n",
    "        \n",
    "    def forward(self, input_ids, attention_mask):\n",
    "        \"\"\"\n",
    "        Forward pass for the sentiment classifier.\n",
    "        \n",
    "        Parameters:\n",
    "        - input_ids (torch.Tensor): Input IDs tensor.\n",
    "        - attention_mask (torch.Tensor): Attention mask tensor.\n",
    "        \n",
    "        Returns:\n",
    "        - torch.Tensor: Output logits.\n",
    "        \"\"\"\n",
    "        # Pass the inputs through the BERT model\n",
    "        outputs = self.bert(input_ids=input_ids, attention_mask=attention_mask)\n",
    "        \n",
    "        # Use the pooled output from BERT\n",
    "        pooled_output = outputs.pooler_output\n",
    "        \n",
    "        # Apply dropout\n",
    "        pooled_output = self.dropout(pooled_output)\n",
    "        \n",
    "        # Pass through the fully connected layer to get logits\n",
    "        logits = self.fc(pooled_output)\n",
    "        \n",
    "        return logits"
   ]
  },
  {
   "cell_type": "code",
   "execution_count": 8,
   "metadata": {},
   "outputs": [
    {
     "name": "stdout",
     "output_type": "stream",
     "text": [
      "Device: cuda\n"
     ]
    }
   ],
   "source": [
    "# Initialize Bert Architecture\n",
    "bert = BertModel.from_pretrained('bert-base-cased')\n",
    "\n",
    "# Initialize NN Architecture\n",
    "BertClassifier = ClassificationModel(bert,bert_data_loader.unique_labels)\n",
    "\n",
    "# set the unfreeze layer 10 or layer 11\n",
    "for name, param in BertClassifier.bert.named_parameters():\n",
    "    if 'layer.11' in name or 'layer.10' in name:\n",
    "        param.requires_grad = True\n",
    "    else:\n",
    "        param.requires_grad = False\n",
    "        \n",
    "device = torch.device('cuda' if torch.cuda.is_available() else 'cpu')\n",
    "print('Device:', device)\n",
    "\n",
    "# if multiple devices, convert the model into model parallel.\n",
    "if torch.cuda.device_count() > 1:\n",
    "    print(\"Let's use\", torch.cuda.device_count(), \"GPUs!\")\n",
    "    BertClassifier = nn.DataParallel(BertClassifier)\n",
    "    \n",
    "else:\n",
    "    # if not, just convert the model into device\n",
    "    BertClassifier.to(device)"
   ]
  },
  {
   "cell_type": "code",
   "execution_count": 9,
   "metadata": {},
   "outputs": [
    {
     "name": "stderr",
     "output_type": "stream",
     "text": [
      "/home/rjn/.conda/envs/main_env/lib/python3.12/site-packages/transformers/optimization.py:588: FutureWarning: This implementation of AdamW is deprecated and will be removed in a future version. Use the PyTorch implementation torch.optim.AdamW instead, or set `no_deprecation_warning=True` to disable this warning\n",
      "  warnings.warn(\n"
     ]
    }
   ],
   "source": [
    "from transformers import AdamW, get_linear_schedule_with_warmup\n",
    "\n",
    "#No of Epochs\n",
    "epochs = 15\n",
    "\n",
    "# Define criterion\n",
    "criterion = nn.CrossEntropyLoss()\n",
    "\n",
    "# Define optimizer\n",
    "optimizer = AdamW(filter(lambda p: p.requires_grad, BertClassifier.parameters()), lr=2e-5)\n",
    "\n",
    "# Define Scheduler with total seteps \n",
    "total_steps = len(train_loader) * epochs\n",
    "scheduler = get_linear_schedule_with_warmup(optimizer, num_warmup_steps=0, num_training_steps=total_steps)"
   ]
  },
  {
   "cell_type": "code",
   "execution_count": 10,
   "metadata": {},
   "outputs": [
    {
     "name": "stderr",
     "output_type": "stream",
     "text": [
      "Epoch 1/15: 100%|██████████| 3/3 [00:15<00:00,  5.27s/batch, loss=1.3628, acc=36.36%]\n"
     ]
    },
    {
     "name": "stdout",
     "output_type": "stream",
     "text": [
      "Epoch 1/15, Training Loss: 1.4031, Training Accuracy: 25.33%\n"
     ]
    },
    {
     "name": "stderr",
     "output_type": "stream",
     "text": [
      "Epoch 1/15: 100%|██████████| 1/1 [00:03<00:00,  3.85s/batch, loss=1.4916, acc=16.00%]\n"
     ]
    },
    {
     "name": "stdout",
     "output_type": "stream",
     "text": [
      "Epoch 1/15, Test Loss: 1.4916, Test Accuracy: 16.00%\n"
     ]
    },
    {
     "name": "stderr",
     "output_type": "stream",
     "text": [
      "Epoch 2/15: 100%|██████████| 3/3 [00:15<00:00,  5.16s/batch, loss=1.5167, acc=18.18%]\n"
     ]
    },
    {
     "name": "stdout",
     "output_type": "stream",
     "text": [
      "Epoch 2/15, Training Loss: 1.4660, Training Accuracy: 18.67%\n"
     ]
    },
    {
     "name": "stderr",
     "output_type": "stream",
     "text": [
      "Epoch 2/15: 100%|██████████| 1/1 [00:03<00:00,  3.89s/batch, loss=1.4656, acc=16.00%]\n"
     ]
    },
    {
     "name": "stdout",
     "output_type": "stream",
     "text": [
      "Epoch 2/15, Test Loss: 1.4656, Test Accuracy: 16.00%\n"
     ]
    },
    {
     "name": "stderr",
     "output_type": "stream",
     "text": [
      "Epoch 3/15: 100%|██████████| 3/3 [00:15<00:00,  5.17s/batch, loss=1.4387, acc=27.27%]\n"
     ]
    },
    {
     "name": "stdout",
     "output_type": "stream",
     "text": [
      "Epoch 3/15, Training Loss: 1.3756, Training Accuracy: 28.00%\n"
     ]
    },
    {
     "name": "stderr",
     "output_type": "stream",
     "text": [
      "Epoch 3/15: 100%|██████████| 1/1 [00:03<00:00,  3.90s/batch, loss=1.4445, acc=28.00%]\n"
     ]
    },
    {
     "name": "stdout",
     "output_type": "stream",
     "text": [
      "Epoch 3/15, Test Loss: 1.4445, Test Accuracy: 28.00%\n"
     ]
    },
    {
     "name": "stderr",
     "output_type": "stream",
     "text": [
      "Epoch 4/15: 100%|██████████| 3/3 [00:15<00:00,  5.19s/batch, loss=1.2449, acc=54.55%]\n"
     ]
    },
    {
     "name": "stdout",
     "output_type": "stream",
     "text": [
      "Epoch 4/15, Training Loss: 1.3489, Training Accuracy: 36.00%\n"
     ]
    },
    {
     "name": "stderr",
     "output_type": "stream",
     "text": [
      "Epoch 4/15: 100%|██████████| 1/1 [00:03<00:00,  3.85s/batch, loss=1.4219, acc=24.00%]\n"
     ]
    },
    {
     "name": "stdout",
     "output_type": "stream",
     "text": [
      "Epoch 4/15, Test Loss: 1.4219, Test Accuracy: 24.00%\n"
     ]
    },
    {
     "name": "stderr",
     "output_type": "stream",
     "text": [
      "Epoch 5/15: 100%|██████████| 3/3 [00:15<00:00,  5.18s/batch, loss=1.1893, acc=54.55%]\n"
     ]
    },
    {
     "name": "stdout",
     "output_type": "stream",
     "text": [
      "Epoch 5/15, Training Loss: 1.2887, Training Accuracy: 33.33%\n"
     ]
    },
    {
     "name": "stderr",
     "output_type": "stream",
     "text": [
      "Epoch 5/15: 100%|██████████| 1/1 [00:03<00:00,  3.88s/batch, loss=1.4051, acc=32.00%]\n"
     ]
    },
    {
     "name": "stdout",
     "output_type": "stream",
     "text": [
      "Epoch 5/15, Test Loss: 1.4051, Test Accuracy: 32.00%\n"
     ]
    },
    {
     "name": "stderr",
     "output_type": "stream",
     "text": [
      "Epoch 6/15: 100%|██████████| 3/3 [00:15<00:00,  5.19s/batch, loss=1.2639, acc=45.45%]\n"
     ]
    },
    {
     "name": "stdout",
     "output_type": "stream",
     "text": [
      "Epoch 6/15, Training Loss: 1.2992, Training Accuracy: 41.33%\n"
     ]
    },
    {
     "name": "stderr",
     "output_type": "stream",
     "text": [
      "Epoch 6/15: 100%|██████████| 1/1 [00:03<00:00,  3.88s/batch, loss=1.3899, acc=32.00%]\n"
     ]
    },
    {
     "name": "stdout",
     "output_type": "stream",
     "text": [
      "Epoch 6/15, Test Loss: 1.3899, Test Accuracy: 32.00%\n"
     ]
    },
    {
     "name": "stderr",
     "output_type": "stream",
     "text": [
      "Epoch 7/15: 100%|██████████| 3/3 [00:15<00:00,  5.20s/batch, loss=1.1377, acc=54.55%]\n"
     ]
    },
    {
     "name": "stdout",
     "output_type": "stream",
     "text": [
      "Epoch 7/15, Training Loss: 1.2606, Training Accuracy: 45.33%\n"
     ]
    },
    {
     "name": "stderr",
     "output_type": "stream",
     "text": [
      "Epoch 7/15: 100%|██████████| 1/1 [00:03<00:00,  3.88s/batch, loss=1.3772, acc=36.00%]\n"
     ]
    },
    {
     "name": "stdout",
     "output_type": "stream",
     "text": [
      "Epoch 7/15, Test Loss: 1.3772, Test Accuracy: 36.00%\n"
     ]
    },
    {
     "name": "stderr",
     "output_type": "stream",
     "text": [
      "Epoch 8/15: 100%|██████████| 3/3 [00:15<00:00,  5.16s/batch, loss=1.3250, acc=18.18%]\n"
     ]
    },
    {
     "name": "stdout",
     "output_type": "stream",
     "text": [
      "Epoch 8/15, Training Loss: 1.3167, Training Accuracy: 37.33%\n"
     ]
    },
    {
     "name": "stderr",
     "output_type": "stream",
     "text": [
      "Epoch 8/15: 100%|██████████| 1/1 [00:03<00:00,  3.85s/batch, loss=1.3673, acc=36.00%]\n"
     ]
    },
    {
     "name": "stdout",
     "output_type": "stream",
     "text": [
      "Epoch 8/15, Test Loss: 1.3673, Test Accuracy: 36.00%\n"
     ]
    },
    {
     "name": "stderr",
     "output_type": "stream",
     "text": [
      "Epoch 9/15: 100%|██████████| 3/3 [00:15<00:00,  5.17s/batch, loss=1.0523, acc=90.91%]\n"
     ]
    },
    {
     "name": "stdout",
     "output_type": "stream",
     "text": [
      "Epoch 9/15, Training Loss: 1.2271, Training Accuracy: 44.00%\n"
     ]
    },
    {
     "name": "stderr",
     "output_type": "stream",
     "text": [
      "Epoch 9/15: 100%|██████████| 1/1 [00:03<00:00,  3.92s/batch, loss=1.3594, acc=40.00%]\n"
     ]
    },
    {
     "name": "stdout",
     "output_type": "stream",
     "text": [
      "Epoch 9/15, Test Loss: 1.3594, Test Accuracy: 40.00%\n"
     ]
    },
    {
     "name": "stderr",
     "output_type": "stream",
     "text": [
      "Epoch 10/15: 100%|██████████| 3/3 [00:15<00:00,  5.17s/batch, loss=1.2010, acc=54.55%]\n"
     ]
    },
    {
     "name": "stdout",
     "output_type": "stream",
     "text": [
      "Epoch 10/15, Training Loss: 1.2693, Training Accuracy: 38.67%\n"
     ]
    },
    {
     "name": "stderr",
     "output_type": "stream",
     "text": [
      "Epoch 10/15: 100%|██████████| 1/1 [00:03<00:00,  3.89s/batch, loss=1.3510, acc=36.00%]\n"
     ]
    },
    {
     "name": "stdout",
     "output_type": "stream",
     "text": [
      "Epoch 10/15, Test Loss: 1.3510, Test Accuracy: 36.00%\n"
     ]
    },
    {
     "name": "stderr",
     "output_type": "stream",
     "text": [
      "Epoch 11/15: 100%|██████████| 3/3 [00:15<00:00,  5.17s/batch, loss=1.3705, acc=36.36%]\n"
     ]
    },
    {
     "name": "stdout",
     "output_type": "stream",
     "text": [
      "Epoch 11/15, Training Loss: 1.3480, Training Accuracy: 34.67%\n"
     ]
    },
    {
     "name": "stderr",
     "output_type": "stream",
     "text": [
      "Epoch 11/15: 100%|██████████| 1/1 [00:03<00:00,  3.87s/batch, loss=1.3406, acc=32.00%]\n"
     ]
    },
    {
     "name": "stdout",
     "output_type": "stream",
     "text": [
      "Epoch 11/15, Test Loss: 1.3406, Test Accuracy: 32.00%\n"
     ]
    },
    {
     "name": "stderr",
     "output_type": "stream",
     "text": [
      "Epoch 12/15: 100%|██████████| 3/3 [00:15<00:00,  5.18s/batch, loss=1.2498, acc=36.36%]\n"
     ]
    },
    {
     "name": "stdout",
     "output_type": "stream",
     "text": [
      "Epoch 12/15, Training Loss: 1.2784, Training Accuracy: 38.67%\n"
     ]
    },
    {
     "name": "stderr",
     "output_type": "stream",
     "text": [
      "Epoch 12/15: 100%|██████████| 1/1 [00:03<00:00,  3.88s/batch, loss=1.3297, acc=32.00%]\n"
     ]
    },
    {
     "name": "stdout",
     "output_type": "stream",
     "text": [
      "Epoch 12/15, Test Loss: 1.3297, Test Accuracy: 32.00%\n"
     ]
    },
    {
     "name": "stderr",
     "output_type": "stream",
     "text": [
      "Epoch 13/15: 100%|██████████| 3/3 [00:15<00:00,  5.17s/batch, loss=1.1168, acc=72.73%]\n"
     ]
    },
    {
     "name": "stdout",
     "output_type": "stream",
     "text": [
      "Epoch 13/15, Training Loss: 1.2199, Training Accuracy: 46.67%\n"
     ]
    },
    {
     "name": "stderr",
     "output_type": "stream",
     "text": [
      "Epoch 13/15: 100%|██████████| 1/1 [00:03<00:00,  3.88s/batch, loss=1.3183, acc=36.00%]\n"
     ]
    },
    {
     "name": "stdout",
     "output_type": "stream",
     "text": [
      "Epoch 13/15, Test Loss: 1.3183, Test Accuracy: 36.00%\n"
     ]
    },
    {
     "name": "stderr",
     "output_type": "stream",
     "text": [
      "Epoch 14/15: 100%|██████████| 3/3 [00:15<00:00,  5.18s/batch, loss=1.3645, acc=9.09%] \n"
     ]
    },
    {
     "name": "stdout",
     "output_type": "stream",
     "text": [
      "Epoch 14/15, Training Loss: 1.2636, Training Accuracy: 38.67%\n"
     ]
    },
    {
     "name": "stderr",
     "output_type": "stream",
     "text": [
      "Epoch 14/15: 100%|██████████| 1/1 [00:03<00:00,  3.86s/batch, loss=1.3066, acc=36.00%]\n"
     ]
    },
    {
     "name": "stdout",
     "output_type": "stream",
     "text": [
      "Epoch 14/15, Test Loss: 1.3066, Test Accuracy: 36.00%\n"
     ]
    },
    {
     "name": "stderr",
     "output_type": "stream",
     "text": [
      "Epoch 15/15: 100%|██████████| 3/3 [03:03<00:00, 61.01s/batch, loss=1.3036, acc=27.27%] \n"
     ]
    },
    {
     "name": "stdout",
     "output_type": "stream",
     "text": [
      "Epoch 15/15, Training Loss: 1.2197, Training Accuracy: 49.33%\n"
     ]
    },
    {
     "name": "stderr",
     "output_type": "stream",
     "text": [
      "Epoch 15/15: 100%|██████████| 1/1 [00:03<00:00,  3.84s/batch, loss=1.2954, acc=36.00%]"
     ]
    },
    {
     "name": "stdout",
     "output_type": "stream",
     "text": [
      "Epoch 15/15, Test Loss: 1.2954, Test Accuracy: 36.00%\n"
     ]
    },
    {
     "name": "stderr",
     "output_type": "stream",
     "text": [
      "\n"
     ]
    }
   ],
   "source": [
    "train_loss, test_loss = [], []\n",
    "train_acc, test_acc = [], []\n",
    "\n",
    "all_epoch_preds, all_epoch_labels = [], []\n",
    "\n",
    "for epoch in range(epochs):\n",
    "    # Set the model to training mode\n",
    "    BertClassifier.train()\n",
    "    total_loss, total_correct = 0, 0\n",
    "    total_samples = 0  # Initialize total samples for train\n",
    "\n",
    "    # Create a progress bar for the training loop\n",
    "    train_loader_tqdm = tqdm(train_loader, desc=f\"Epoch {epoch+1}/{epochs}\", unit=\"batch\")\n",
    "\n",
    "    # Iterate over the training batches\n",
    "    for i, batch in enumerate(train_loader_tqdm):\n",
    "        # Zero the gradients\n",
    "        optimizer.zero_grad()\n",
    "\n",
    "        # Move the batch data to the device\n",
    "        input_ids = batch[\"input_ids\"].to(device)\n",
    "        attention_mask = batch[\"attention_mask\"].to(device)\n",
    "        labels = batch[\"labels\"].to(device)\n",
    "\n",
    "        # Convert one-hot encoded labels to class indices\n",
    "        labels = torch.argmax(labels, dim=1)\n",
    "\n",
    "        # Forward pass through the model\n",
    "        outputs = BertClassifier(input_ids, attention_mask)\n",
    "\n",
    "        # Calculate the loss\n",
    "        loss = criterion(outputs, labels)\n",
    "\n",
    "        # Backpropagate the gradients\n",
    "        loss.backward()\n",
    "\n",
    "        # Update the model parameters\n",
    "        optimizer.step()\n",
    "\n",
    "        # Update the total loss, correct predictions, and total samples\n",
    "        total_loss += loss.item()\n",
    "        total_correct += (outputs.argmax(dim=1) == labels).sum().item()\n",
    "        total_samples += len(batch[\"input_ids\"])\n",
    "\n",
    "        # Update the progress bar with the current loss and accuracy\n",
    "        train_loader_tqdm.set_postfix({\"loss\": f\"{loss.item():.4f}\",\n",
    "                                        \"acc\": f\"{(outputs.argmax(dim=1) == labels).float().mean().item() * 100:.2f}%\"})\n",
    "\n",
    "    # Update the learning rate scheduler\n",
    "    scheduler.step()\n",
    "\n",
    "    # Calculate the average training loss and accuracy\n",
    "    avg_loss = total_loss / len(train_loader)\n",
    "    avg_acc = total_correct / total_samples\n",
    "\n",
    "    # Append the training loss and accuracy to the lists\n",
    "    train_loss.append(avg_loss)\n",
    "    train_acc.append(avg_acc)\n",
    "\n",
    "    # Print the training loss and accuracy for the current epoch\n",
    "    print(f\"Epoch {epoch+1}/{epochs}, Training Loss: {avg_loss:.4f}, Training Accuracy: {avg_acc * 100:.2f}%\")\n",
    "\n",
    "    # Set the model to evaluation mode\n",
    "    BertClassifier.eval()\n",
    "    total_test_loss, total_test_correct = 0, 0\n",
    "    total_test_samples = 0  # Initialize total samples for test\n",
    "    all_preds = []\n",
    "    all_labels = []\n",
    "\n",
    "    # Create a progress bar for the test loop\n",
    "    test_loader_tqdm = tqdm(test_loader, desc=f\"Epoch {epoch+1}/{epochs}\", unit=\"batch\")\n",
    "\n",
    "    # Disable gradient calculation for the test loop\n",
    "    with torch.no_grad():\n",
    "        # Iterate over the test batches\n",
    "        for i, batch in enumerate(test_loader_tqdm):\n",
    "            # Move the batch data to the device\n",
    "            input_ids = batch[\"input_ids\"].to(device)\n",
    "            attention_mask = batch[\"attention_mask\"].to(device)\n",
    "            labels = batch[\"labels\"].to(device)\n",
    "\n",
    "            # Convert one-hot encoded labels to class indices\n",
    "            labels = torch.argmax(labels, dim=1)\n",
    "\n",
    "            # Forward pass through the model\n",
    "            outputs = BertClassifier(input_ids, attention_mask)\n",
    "\n",
    "            # Calculate the loss\n",
    "            loss = criterion(outputs, labels)\n",
    "\n",
    "            # Update the total validation loss, correct predictions, and total samples\n",
    "            total_test_loss += loss.item()\n",
    "            total_test_correct += (outputs.argmax(dim=1) == labels).sum().item()\n",
    "            total_test_samples += len(batch[\"input_ids\"])\n",
    "\n",
    "            # Collect predictions and true labels\n",
    "            all_preds.extend(outputs.argmax(dim=1).cpu().numpy())\n",
    "            all_labels.extend(labels.cpu().numpy())\n",
    "\n",
    "            # Update the progress bar with the current validation loss and accuracy\n",
    "            test_loader_tqdm.set_postfix({\"loss\": f\"{loss.item():.4f}\",\n",
    "                                           \"acc\": f\"{(outputs.argmax(dim=1) == labels).float().mean().item() * 100:.2f}%\"})\n",
    "\n",
    "    # Calculate the average validation loss and accuracy\n",
    "    avg_test_loss = total_test_loss / len(test_loader)\n",
    "    avg_test_acc = total_test_correct / total_test_samples\n",
    "\n",
    "    # Append the validation loss and accuracy to the lists\n",
    "    test_loss.append(avg_test_loss)\n",
    "    test_acc.append(avg_test_acc)\n",
    "\n",
    "    # Append epoch predictions and labels to the lists\n",
    "    all_epoch_preds.extend(all_preds)\n",
    "    all_epoch_labels.extend(all_labels)\n",
    "\n",
    "    # Print the validation loss and accuracy for the current epoch\n",
    "    print(f\"Epoch {epoch+1}/{epochs}, Test Loss: {avg_test_loss:.4f}, Test Accuracy: {avg_test_acc * 100:.2f}%\")"
   ]
  },
  {
   "cell_type": "code",
   "execution_count": 18,
   "metadata": {},
   "outputs": [
    {
     "data": {
      "image/png": "[encoded data removed]",
      "text/plain": [
       "<Figure size 1400x600 with 2 Axes>"
      ]
     },
     "metadata": {},
     "output_type": "display_data"
    }
   ],
   "source": [
    "fig, (ax1, ax2) = plt.subplots(1, 2, figsize=(14, 6))\n",
    "ax1.plot(train_loss, label='Train Loss', color='blue')\n",
    "ax1.plot(test_loss, label='Test Loss', color='red')\n",
    "ax1.set_title('Loss')\n",
    "ax1.set_xlabel('Epoch')\n",
    "ax1.set_ylabel('Loss')\n",
    "ax1.legend()\n",
    "\n",
    "# Plotting train and test accuracy on the second subplot\n",
    "ax2.plot(train_acc, label='Train Accuracy', color='green')\n",
    "ax2.plot(test_acc, label='Test Accuracy', color='orange')\n",
    "ax2.set_title('Accuracy')\n",
    "ax2.set_xlabel('Epoch')\n",
    "ax2.set_ylabel('Accuracy')\n",
    "ax2.legend()\n",
    "\n",
    "# Display the plots\n",
    "plt.tight_layout()\n",
    "plt.show()"
   ]
  },
  {
   "cell_type": "code",
   "execution_count": 11,
   "metadata": {},
   "outputs": [
    {
     "name": "stdout",
     "output_type": "stream",
     "text": [
      "   Predictions  True Labels\n",
      "0            1            0\n",
      "1            2            0\n",
      "2            1            2\n",
      "3            2            0\n",
      "4            2            3\n"
     ]
    }
   ],
   "source": [
    "# Create a DataFrame for all epoch predictions and true labels\n",
    "df_results = pd.DataFrame({\"Predictions\": all_epoch_preds, \"True Labels\": all_epoch_labels})\n",
    "print(df_results.head())  # Print the first few rows of the DataFrame\n",
    "\n",
    "# Save the DataFrame to a CSV file (optional)\n",
    "df_results.to_csv('predictions_vs_true_labels.csv', index=False)"
   ]
  },
  {
   "cell_type": "code",
   "execution_count": 17,
   "metadata": {},
   "outputs": [
    {
     "name": "stdout",
     "output_type": "stream",
     "text": [
      "              precision    recall  f1-score   support\n",
      "\n",
      "           0       0.39      0.55      0.46       165\n",
      "           1       0.13      0.22      0.16        45\n",
      "           2       0.25      0.27      0.26        60\n",
      "           3       0.00      0.00      0.00       105\n",
      "\n",
      "    accuracy                           0.31       375\n",
      "   macro avg       0.19      0.26      0.22       375\n",
      "weighted avg       0.23      0.31      0.26       375\n",
      "\n"
     ]
    },
    {
     "data": {
      "image/png": "[encoded data removed]",
      "text/plain": [
       "<Figure size 800x600 with 2 Axes>"
      ]
     },
     "metadata": {},
     "output_type": "display_data"
    }
   ],
   "source": [
    "import warnings \n",
    "warnings.filterwarnings(action=\"ignore\")\n",
    "import matplotlib.pyplot as plt\n",
    "import seaborn as sns\n",
    "from sklearn.metrics import classification_report, confusion_matrix\n",
    "\n",
    "\n",
    "# Extract predictions and true labels\n",
    "y_pred = df_results['Predictions']\n",
    "y_true = df_results['True Labels']\n",
    "\n",
    "# Generate classification report\n",
    "report = classification_report(y_true, y_pred)\n",
    "\n",
    "print(report)\n",
    "\n",
    "# Generate confusion matrix\n",
    "cm = confusion_matrix(y_true, y_pred)\n",
    "\n",
    "# Plot confusion matrix\n",
    "plt.figure(figsize=(8, 6))\n",
    "sns.heatmap(cm, annot=True, fmt='d', cmap='Blues')\n",
    "plt.xlabel('Predicted Labels')\n",
    "plt.ylabel('True Labels')\n",
    "plt.title('Confusion Matrix')\n",
    "plt.show()\n"
   ]
  },
  {
   "cell_type": "code",
   "execution_count": null,
   "metadata": {},
   "outputs": [],
   "source": []
  }
 ],
 "metadata": {
  "kernelspec": {
   "display_name": "gpt",
   "language": "python",
   "name": "python3"
  },
  "language_info": {
   "codemirror_mode": {
    "name": "ipython",
    "version": 3
   },
   "file_extension": ".py",
   "mimetype": "text/x-python",
   "name": "python",
   "nbconvert_exporter": "python",
   "pygments_lexer": "ipython3",
   "version": "3.1.undefined"
  }
 },
 "nbformat": 4,
 "nbformat_minor": 2
}
