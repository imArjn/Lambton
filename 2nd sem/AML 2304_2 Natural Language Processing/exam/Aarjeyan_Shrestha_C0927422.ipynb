{
 "cells": [
  {
   "cell_type": "markdown",
   "metadata": {},
   "source": [
    "# Question 1   (10 Marks)"
   ]
  },
  {
   "cell_type": "markdown",
   "metadata": {},
   "source": [
    "Given a string s, Return the length of the longest substring  without repeating characters. \n",
    "\n",
    "and also retun that substring\n",
    "\n",
    "how many times does that repeat in your main string?\n",
    "\n",
    "use input method to test your code!\n",
    "\n",
    "Your answer must be in the form of a function.\n",
    "\n",
    " \n",
    "\n",
    "Example 1:\n",
    "\n",
    "Input: s = \"abcabcbb\"\n",
    "\n",
    "Output: 3, abc , 2\n",
    "\n",
    "Explanation: The answer is \"abc\", with the length of 3 and repeats 2 times\n",
    "\n",
    "\n",
    "Example 2:\n",
    "\n",
    "Input: s = \"bbbbb\"\n",
    "\n",
    "Output: 1, b , 4\n",
    "\n",
    "Explanation: The answer is \"b\", with the length of 1 and repeats 4 times\n",
    "\n"
   ]
  },
  {
   "cell_type": "code",
   "execution_count": 2,
   "metadata": {},
   "outputs": [
    {
     "name": "stdout",
     "output_type": "stream",
     "text": [
      "(3, 'abc', 2)\n"
     ]
    }
   ],
   "source": [
    "def longest_substring_without_repeating_characters(s):\n",
    "    def longest_substring_with_length(s):\n",
    "        n = len(s)\n",
    "        if n == 0:\n",
    "            return \"\",0\n",
    "        longest = \"\"\n",
    "        longest_length = 0\n",
    "        seen = {}\n",
    "        start = 0\n",
    "        \n",
    "        for end in range(n):\n",
    "            char = s[end]\n",
    "            if char in seen and seen[char] >= start:\n",
    "                start = seen[char] +1 \n",
    "            seen[char] = end\n",
    "            \n",
    "            current_length = end + 1 -start\n",
    "            if current_length > longest_length:\n",
    "                longest_length = current_length\n",
    "                longest = s[start:end+1]\n",
    "        return longest, longest_length\n",
    "    longest_string,longest_length = longest_substring_with_length(s)\n",
    "    \n",
    "    count = 0\n",
    "    for i in range(len(s) - longest_length + 1):\n",
    "        if s[i:i+longest_length] == longest_string:\n",
    "            count += 1\n",
    "            \n",
    "    \n",
    "    \n",
    "    return longest_length,longest_string,count\n",
    "\n",
    "s = \"abcabcba\"\n",
    "print(longest_substring_without_repeating_characters(s))"
   ]
  },
  {
   "cell_type": "code",
   "execution_count": null,
   "metadata": {},
   "outputs": [],
   "source": []
  },
  {
   "cell_type": "code",
   "execution_count": null,
   "metadata": {},
   "outputs": [],
   "source": []
  },
  {
   "cell_type": "code",
   "execution_count": null,
   "metadata": {},
   "outputs": [],
   "source": []
  },
  {
   "cell_type": "code",
   "execution_count": null,
   "metadata": {},
   "outputs": [],
   "source": []
  },
  {
   "cell_type": "code",
   "execution_count": null,
   "metadata": {},
   "outputs": [],
   "source": []
  },
  {
   "cell_type": "code",
   "execution_count": null,
   "metadata": {},
   "outputs": [],
   "source": []
  },
  {
   "cell_type": "code",
   "execution_count": null,
   "metadata": {},
   "outputs": [],
   "source": []
  },
  {
   "cell_type": "code",
   "execution_count": 2,
   "metadata": {},
   "outputs": [
    {
     "name": "stdout",
     "output_type": "stream",
     "text": [
      "Output: 1, b, 5\n"
     ]
    }
   ],
   "source": [
    "def longest_substring_without_repeating_characters(s):\n",
    "    def find_longest_unique_substring(s):\n",
    "        n = len(s)\n",
    "        if n == 0:\n",
    "            return \"\", 0\n",
    "        \n",
    "        longest = \"\"\n",
    "        longest_len = 0\n",
    "        seen = {}  # Dictionary to store the last seen index of each character\n",
    "        start = 0\n",
    "        \n",
    "        for end in range(n):\n",
    "            char = s[end]\n",
    "            \n",
    "            # Check if the character is already in the seen dictionary and within the current window\n",
    "            if char in seen and seen[char] >= start:\n",
    "                # Move the start pointer to exclude the repeated character\n",
    "                start = seen[char] + 1\n",
    "            \n",
    "            # Update the last seen index of the character\n",
    "            seen[char] = end\n",
    "            \n",
    "            # Calculate the length of the current window\n",
    "            current_len = end - start + 1\n",
    "            if current_len > longest_len:\n",
    "                # Update the longest substring if the current window is longer\n",
    "                longest = s[start:end+1]\n",
    "                longest_len = current_len\n",
    "        \n",
    "        return longest, longest_len\n",
    "\n",
    "    # Find the longest substring without repeating characters\n",
    "    longest_substring, length = find_longest_unique_substring(s)\n",
    "    \n",
    "    # Count the number of times this substring appears in the original string\n",
    "    count = 0\n",
    "    for i in range(len(s) - length + 1):\n",
    "        if s[i:i+length] == longest_substring:\n",
    "            count += 1\n",
    "    \n",
    "    return length, longest_substring, count\n",
    "\n",
    "# Test the function with input method\n",
    "s = input(\"Enter the string: \")\n",
    "length, substring, count = longest_substring_without_repeating_characters(s)\n",
    "print(f\"Output: {length}, {substring}, {count}\")\n"
   ]
  },
  {
   "cell_type": "code",
   "execution_count": 3,
   "metadata": {},
   "outputs": [
    {
     "name": "stdout",
     "output_type": "stream",
     "text": [
      "0\n",
      "1\n",
      "2\n",
      "3\n",
      "4\n",
      "5\n",
      "6\n",
      "7\n",
      "8\n",
      "9\n"
     ]
    }
   ],
   "source": []
  },
  {
   "cell_type": "markdown",
   "metadata": {},
   "source": [
    "# Question 2 (15 Marks)"
   ]
  },
  {
   "cell_type": "markdown",
   "metadata": {},
   "source": [
    "Write and test a fucntion to determine if a number n is happy. Make sure to use input method to test it!\n",
    "\n",
    "A happy number is a number defined by the following process:\n",
    "\n",
    "Starting with any positive integer, replace the number by the sum of the squares of its digits.\n",
    "\n",
    "Repeat the process until the number equals 1 (where it will stay), or it loops endlessly in a cycle which does not include 1.\n",
    "\n",
    "Those numbers for which this process ends in 1 are happy.\n",
    "\n",
    "Return true if n is a happy number, and false if not.\n",
    "\n",
    "Example 1:\n",
    "\n",
    "Input: n = 19\n",
    "\n",
    "Output: true\n",
    "\n",
    "Explanation:\n",
    "\n",
    "1 ** 2 + 9 ** 2 = 82\n",
    "\n",
    "8 ** 2 + 2 ** 2 = 68\n",
    "\n",
    "6 ** 2 + 8 ** 2 = 100\n",
    "\n",
    "1 ** 2 + 0 ** 2 + 0 **2 = 1\n",
    "\n",
    "\n"
   ]
  },
  {
   "cell_type": "code",
   "execution_count": 27,
   "metadata": {},
   "outputs": [
    {
     "name": "stdout",
     "output_type": "stream",
     "text": [
      "9\n",
      "1\n",
      "81\n",
      "1\n",
      "0\n",
      "82\n",
      "82\n",
      "None\n"
     ]
    }
   ],
   "source": [
    "#Answer\n",
    "def happy_number(num:int)->bool:\n",
    "    \n",
    "    result = 0\n",
    "    \n",
    "    while num > 0:\n",
    "        last = num % 10\n",
    "        print(last)\n",
    "        num = num//10\n",
    "        print(num)\n",
    "        result += last ** 2\n",
    "        print(result)\n",
    "        \n",
    "        \n",
    "        \n",
    "        \n",
    "    print(result)\n",
    "          \n",
    "    \n",
    "    \n",
    "    \n",
    "    \n",
    "\n",
    "num = 19\n",
    "print(happy_number(num))"
   ]
  },
  {
   "cell_type": "code",
   "execution_count": 17,
   "metadata": {},
   "outputs": [
    {
     "data": {
      "text/plain": [
       "1"
      ]
     },
     "execution_count": 17,
     "metadata": {},
     "output_type": "execute_result"
    }
   ],
   "source": [
    "19//10\n"
   ]
  },
  {
   "cell_type": "markdown",
   "metadata": {},
   "source": [
    "# Question 3  (15 Marks)"
   ]
  },
  {
   "cell_type": "markdown",
   "metadata": {},
   "source": [
    "Write a function and use input method!\n",
    "\n",
    "Roman numerals are represented by seven different symbols: I, V, X, L, C, D and M.\n",
    "\n",
    "Symbol   :    Value\n",
    "\n",
    "I   :          1\n",
    "\n",
    "V   :          5\n",
    "\n",
    "X    :         10\n",
    "\n",
    "L    :         50\n",
    "\n",
    "C    :         100\n",
    "\n",
    "D     :        500\n",
    "\n",
    "M     :        1000\n",
    "\n",
    "For example, 2 is written as II in Roman numeral, just two one's added together. 12 is written as XII, which is simply X + II. The number 27 is written as XXVII, which is XX + V + II.\n",
    "\n",
    "Roman numerals are usually written largest to smallest from left to right. However, the numeral for four is not IIII. Instead, the number four is written as IV. Because the one is before the five we subtract it making four. The same principle applies to the number nine, which is written as IX. There are six instances where subtraction is used:\n",
    "\n",
    "I can be placed before V (5) and X (10) to make 4 and 9. \n",
    "\n",
    "X can be placed before L (50) and C (100) to make 40 and 90. \n",
    "\n",
    "C can be placed before D (500) and M (1000) to make 400 and 900.\n",
    "\n",
    "Given an integer, convert it to a roman numeral.\n",
    "\n",
    "\n",
    " \n",
    "\n",
    "Example 1:\n",
    "\n",
    "Input: num = 3\n",
    "\n",
    "Output: \"III\"\n",
    "\n",
    "Explanation: 3 is represented as 3 ones.\n",
    "\n",
    "Example 2:\n",
    "\n",
    "Input: num = 58\n",
    "\n",
    "Output: \"LVIII\"\n",
    "\n",
    "Explanation: L = 50, V = 5, III = 3."
   ]
  },
  {
   "cell_type": "code",
   "execution_count": null,
   "metadata": {},
   "outputs": [],
   "source": [
    "#Answer\n",
    "def number_to_roman(num):\n",
    "    roman_dict = {\"I\":1, \"V\":5, \"X\":10, \"L\":50, \"C\":100, \"D\":500, \"M\":1000}\n",
    "    \n",
    "    if num\n"
   ]
  },
  {
   "cell_type": "code",
   "execution_count": null,
   "metadata": {},
   "outputs": [],
   "source": []
  },
  {
   "cell_type": "code",
   "execution_count": null,
   "metadata": {},
   "outputs": [],
   "source": []
  },
  {
   "cell_type": "markdown",
   "metadata": {},
   "source": [
    "# Good Luck "
   ]
  },
  {
   "cell_type": "code",
   "execution_count": null,
   "metadata": {},
   "outputs": [],
   "source": []
  }
 ],
 "metadata": {
  "kernelspec": {
   "display_name": "Python 3 (ipykernel)",
   "language": "python",
   "name": "python3"
  },
  "language_info": {
   "codemirror_mode": {
    "name": "ipython",
    "version": 3
   },
   "file_extension": ".py",
   "mimetype": "text/x-python",
   "name": "python",
   "nbconvert_exporter": "python",
   "pygments_lexer": "ipython3",
   "version": "3.12.2"
  }
 },
 "nbformat": 4,
 "nbformat_minor": 2
}
