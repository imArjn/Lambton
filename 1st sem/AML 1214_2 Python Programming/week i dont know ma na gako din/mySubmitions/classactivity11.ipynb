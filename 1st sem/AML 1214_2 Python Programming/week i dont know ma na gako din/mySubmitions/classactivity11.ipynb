{
 "cells": [
  {
   "cell_type": "markdown",
   "metadata": {},
   "source": [
    "#### 10-1. Learning Python: \n",
    "Open a blank file in your text editor and write a few\n",
    "lines summarizing what you’ve learned about Python so far. Start each line\n",
    "with the phrase In Python you can. . . . Save the file as learning_python.txt in\n",
    "the same directory as your exercises from this chapter. Write a program that\n",
    "reads the file and prints what you wrote three times. Print the contents once by\n",
    "reading in the entire file, once by looping over the file object, and once by storing the lines in a list and then working with them outside the with block."
   ]
  },
  {
   "cell_type": "code",
   "execution_count": 2,
   "metadata": {},
   "outputs": [],
   "source": [
    "# writing in learning_python.txt file\n",
    "with open(\"learning_python.txt\",\"w\") as f:\n",
    "    f.write(\"In Python you can learn to code.\\n\")\n",
    "    f.write(\"In Python you can learn data Processing.\\n\")\n",
    "    f.write(\"In Python you can learn Machine Learning.\\n\")"
   ]
  },
  {
   "cell_type": "code",
   "execution_count": 3,
   "metadata": {},
   "outputs": [
    {
     "name": "stdout",
     "output_type": "stream",
     "text": [
      "Reading all the contents of the file at once:\n",
      "In Python you can learn to code.\n",
      "In Python you can learn data Processing.\n",
      "In Python you can learn Machine Learning.\n",
      "\n"
     ]
    }
   ],
   "source": [
    "# printing the condents by reading in the entire file\n",
    "print(\"Reading all the contents of the file at once:\")\n",
    "with open(\"learning_python.txt\",\"r\") as f:\n",
    "    print(f.read())\n",
    "    "
   ]
  },
  {
   "cell_type": "code",
   "execution_count": 6,
   "metadata": {},
   "outputs": [
    {
     "name": "stdout",
     "output_type": "stream",
     "text": [
      "Reading the contents of the file by looping over the file object:\n",
      "In Python you can learn to code.\n",
      "In Python you can learn data Processing.\n",
      "In Python you can learn Machine Learning.\n"
     ]
    }
   ],
   "source": [
    "# printing the contents by looping over the file object\n",
    "print(\"Reading the contents of the file by looping over the file object:\")\n",
    "with open(\"learning_python.txt\", \"r\") as f:\n",
    "    for text in f:\n",
    "        print(text.strip())"
   ]
  },
  {
   "cell_type": "code",
   "execution_count": 11,
   "metadata": {},
   "outputs": [
    {
     "name": "stdout",
     "output_type": "stream",
     "text": [
      "Reading the contents of file by list:\n",
      "In Python you can learn to code.\n",
      "In Python you can learn data Processing.\n",
      "In Python you can learn Machine Learning.\n"
     ]
    }
   ],
   "source": [
    "# Printing the lines through a list\n",
    "print(\"Reading the contents of file by list:\")\n",
    "# creating a list\n",
    "l = []\n",
    "with open(\"learning_python.txt\",\"r\") as f:\n",
    "    for  line in f:\n",
    "        l.append(line.strip())\n",
    "# looping through the list to display contents\n",
    "for each in l:\n",
    "    print(each)\n",
    "    "
   ]
  },
  {
   "cell_type": "markdown",
   "metadata": {},
   "source": [
    "#### 10-2. Learning C: \n",
    "You can use the replace() method to replace any word in a\n",
    "string with a different word. Here’s a quick example showing how to replace\n",
    "'dog' with 'cat' in a sentence:\n",
    ">>> message = \"I really like dogs.\"\n",
    ">>> message.replace('dog', 'cat')\n",
    "'I really like cats.'\n",
    "Read in each line from the file you just created, learning_python.txt, and\n",
    "replace the word Python with the name of another language, such as C. Print\n",
    "each modified line to the screen."
   ]
  },
  {
   "cell_type": "code",
   "execution_count": 16,
   "metadata": {},
   "outputs": [
    {
     "name": "stdout",
     "output_type": "stream",
     "text": [
      "In C you can learn to code.\n",
      "In C you can learn data Processing.\n",
      "In C you can learn Machine Learning.\n",
      "\n"
     ]
    }
   ],
   "source": [
    "# opening file to read the contents\n",
    "with open(\"learning_python.txt\",\"r\") as file:\n",
    "    # storing the read files in message\n",
    "    message = file.read()\n",
    "    # replacing the content of the message \n",
    "    new_msg = message.replace(\"Python\",\"C\")\n",
    "    # printing the new message \n",
    "    print(new_msg)"
   ]
  },
  {
   "cell_type": "markdown",
   "metadata": {},
   "source": [
    "#### 10-3. Guest: \n",
    "Write a program that prompts the user for their name. When they\n",
    "respond, write their name to a file called guest.txt."
   ]
  },
  {
   "cell_type": "code",
   "execution_count": 17,
   "metadata": {},
   "outputs": [
    {
     "name": "stdout",
     "output_type": "stream",
     "text": [
      "Aarjeyan Shrestha is added to the guest.txt file.\n"
     ]
    }
   ],
   "source": [
    "# prommt for the user name\n",
    "name = input(\"Enter your name: \")\n",
    "# opening guest.txt file as writable to insert the username\n",
    "with open(\"guest.txt\",\"w\") as g:\n",
    "    g.write(name)\n",
    "    # printing the message that the name has been added\n",
    "    print(f\"{name} is added to the guest.txt file.\")"
   ]
  },
  {
   "cell_type": "markdown",
   "metadata": {},
   "source": [
    "#### 10-4. Guest Book: \n",
    "Write a while loop that prompts users for their name. When\n",
    "they enter their name, print a greeting to the screen and add a line recording\n",
    "their visit in a file called guest_book.txt. Make sure each entry appears on a\n",
    "new line in the file."
   ]
  },
  {
   "cell_type": "code",
   "execution_count": 35,
   "metadata": {},
   "outputs": [
    {
     "name": "stdout",
     "output_type": "stream",
     "text": [
      "Hey!!! Arjn. Welcome to the club.\n",
      "Arjn added successfully.\n",
      "Hey!!! Sudip. Welcome to the club.\n",
      "Sudip added successfully.\n",
      "Hey!!! Rajan. Welcome to the club.\n",
      "Rajan added successfully.\n",
      "\n",
      "3 guests are added successfully to the file\n",
      "Arjn\n",
      "Sudip\n",
      "Rajan\n",
      "\n"
     ]
    }
   ],
   "source": [
    "\n",
    "count = 0 # counter for the number of users added\n",
    "with open(\"guest_book.txt\",\"w\") as g:\n",
    "    while True:\n",
    "        # taking a username\n",
    "        username = input(\"Enter your name (or type 'exit' to stop)\")\n",
    "        # break if \"exit\"\n",
    "        if username.lower() == \"exit\":\n",
    "            break\n",
    "        # write the username in the file\n",
    "        g.write(username + \"\\n\")\n",
    "        # incrementing if the  user is added \n",
    "        count += 1\n",
    "        # displaying the welcome message\n",
    "        print(f\"Hey!!! {username}. Welcome to the club.\")\n",
    "        print(f\"{username} added successfully.\")\n",
    "print()\n",
    "# display the total users added\n",
    "print(f\"{count} guests are added successfully to the file\")\n",
    "# displating the content of the file\n",
    "with open(\"guest_book.txt\",\"r\") as re:\n",
    "    print(re.read())      "
   ]
  },
  {
   "cell_type": "markdown",
   "metadata": {},
   "source": [
    "#### 10-5. Programming Poll: \n",
    "Write a while loop that asks people why they like\n",
    "programming. Each time someone enters a reason, add their reason to a file\n",
    "that stores all the responses."
   ]
  },
  {
   "cell_type": "code",
   "execution_count": 38,
   "metadata": {},
   "outputs": [
    {
     "name": "stdout",
     "output_type": "stream",
     "text": [
      "Programming Poll!\n",
      "Enter 'quit' when done.\n",
      "Why do you like programming? simple and easy\n",
      "Why do you like programming? use in data preprocessing\n",
      "Why do you like programming? user friendly\n",
      "Why do you like programming? quit\n",
      "Thank you for participating in the poll!\n"
     ]
    }
   ],
   "source": [
    "# Prompting users to enter why they like programming\n",
    "print(\"Programming Poll!\")\n",
    "print(\"Enter 'quit' when done.\")\n",
    "\n",
    "responses = []  # Initializing an empty list to store responses\n",
    "while True:\n",
    "    reason = input(\"Why do you like programming? (Type 'quit' to finish): \")\n",
    "    print(f\"Why do you like programming? {reason}\")\n",
    "    if reason.lower() == 'quit':\n",
    "        break  # Exiting the loop if the user enters 'quit'\n",
    "    responses.append(reason)  # Adding the reason to the list of responses\n",
    "\n",
    "# Writing the responses to a file\n",
    "with open('programming_poll.txt', 'a') as file:\n",
    "    for response in responses:\n",
    "        file.write(response + '\\n')\n",
    "\n",
    "print(\"Thank you for participating in the poll!\")"
   ]
  },
  {
   "cell_type": "code",
   "execution_count": 39,
   "metadata": {},
   "outputs": [
    {
     "name": "stdout",
     "output_type": "stream",
     "text": [
      "simple and easy\n",
      "use in data preprocessing\n",
      "user friendly\n",
      "\n"
     ]
    }
   ],
   "source": [
    "with open(\"programming_poll.txt\",\"r\") as file:\n",
    "    print(file.read())"
   ]
  },
  {
   "cell_type": "markdown",
   "metadata": {},
   "source": [
    "#### Create a file called ```credentials``` that contains rows including username and password of various users (like the example below).\n",
    "\n",
    "Username:  user1 , Password: password1\n",
    "Username:  user2 , Password: password2\n",
    "Username:  John, Password: JonPa$$1\n",
    "\n",
    "Then write a python program that ask for the user and password (as for of input) and then return “User authenticated” if the username/password is found in the file and return “User not authenticated” if a matching username AND password is not present (remember, even if user matches, but password doesn’t match or vise versa, we can not authenticate the user).\n"
   ]
  },
  {
   "cell_type": "code",
   "execution_count": 51,
   "metadata": {},
   "outputs": [
    {
     "name": "stdout",
     "output_type": "stream",
     "text": [
      "Enter a username: user1\n",
      "Enter a password: password1\n",
      "User authenticated\n"
     ]
    }
   ],
   "source": [
    "# getting the username and password from the user\n",
    "username = input(\"Enter a username:\")\n",
    "print(f\"Enter a username: {username}\")\n",
    "password = input(\"Enter the password:\")\n",
    "print(f\"Enter a password: {password}\")\n",
    "\n",
    "# opening a file to read\n",
    "with open(\"credentials.txt\",\"r\") as file:\n",
    "    # reading each line\n",
    "    for line in file:\n",
    "        # checking if the line exist for the username\n",
    "        if \"Username:\" + username.strip() in line:\n",
    "            # checking for the correct password \n",
    "            if line.split(\"Password:\")[1].strip() == password:\n",
    "                # authenticate if the username and password match\n",
    "                print(\"User authenticated\")\n",
    "            else:\n",
    "                print(\"User not authenticated\")# if the username is right but password is wrong\n",
    "            break\n",
    "    else:\n",
    "        # if the username is wrong\n",
    "        print(\"User not authenticated\")\n"
   ]
  },
  {
   "cell_type": "code",
   "execution_count": null,
   "metadata": {},
   "outputs": [],
   "source": []
  }
 ],
 "metadata": {
  "kernelspec": {
   "display_name": "Python 3",
   "language": "python",
   "name": "python3"
  },
  "language_info": {
   "codemirror_mode": {
    "name": "ipython",
    "version": 3
   },
   "file_extension": ".py",
   "mimetype": "text/x-python",
   "name": "python",
   "nbconvert_exporter": "python",
   "pygments_lexer": "ipython3",
   "version": "3.12.2"
  }
 },
 "nbformat": 4,
 "nbformat_minor": 2
}
