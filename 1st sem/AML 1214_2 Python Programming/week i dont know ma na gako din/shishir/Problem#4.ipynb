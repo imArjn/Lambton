{
 "cells": [
  {
   "cell_type": "markdown",
   "metadata": {},
   "source": [
    "### Class-Based Structure:\n",
    "    1. Implement an InventoryItem class to represent individual items, with attributes for name, quantity, and added_on (a datetime object indicating when the item was added to the inventory).\n",
    "    2. Implement an Inventory class to manage a collection of InventoryItem objects, including methods for adding, removing, and searching items, as well as calculating total inventory."
   ]
  },
  {
   "cell_type": "code",
   "execution_count": 49,
   "metadata": {},
   "outputs": [],
   "source": [
    "# Creating the class InventoryItem class with attributes for name, quantity and added_on    \n",
    "class InverntoryItem:\n",
    "    def __init__(self,name,quantity,added_on):\n",
    "        #Using self connector to assign variables\n",
    "        self.name = name\n",
    "        self.quantity=quantity\n",
    "        self.added_on=added_on\n",
    "    "
   ]
  },
  {
   "cell_type": "markdown",
   "metadata": {},
   "source": [
    "### Item Addition and Removal:\n",
    "\n",
    "Within the Inventory class, create methods add_item(name, quantity) and remove_item(name, quantity) for adding and removing items. The add_item method should also record the current date and time using the datetime module when a new item is added.\n",
    "\n",
    "### Item Search Functionality:\n",
    "\n",
    "Add a search_item(name) method to the Inventory class to enable searching for an item by name, displaying its quantity and the date it was added if found, or a message indicating it is not in stock otherwise.\n",
    "\n",
    "### Total Inventory Calculation:\n",
    "\n",
    "Implement a get_total_inventory() method within the Inventory class that calculates and returns the total number of items in the inventory."
   ]
  },
  {
   "cell_type": "code",
   "execution_count": 50,
   "metadata": {},
   "outputs": [],
   "source": [
    "import datetime\n",
    "class Inventory:\n",
    "    def __init__(self):\n",
    "        self.items = []\n",
    "        \n",
    "    def add_item(self,name,quantity):\n",
    "        # Method to add an item in the inventory\n",
    "        added_on=datetime.datetime.now()\n",
    "        # Checking for the value of quantity so that it cannot be negative or zero \n",
    "        if quantity<=0:\n",
    "            print(\"Quantity cannot be zero or negative\")\n",
    "            return\n",
    "        item=InverntoryItem(name, quantity, added_on)\n",
    "        self.items.append(item)\n",
    "        print(f\"You have added {quantity} {name}s in the inventory on {added_on}\")\n",
    "\n",
    "    # Method to remove item from the inventory\n",
    "    def remove_item(self,name,quantity):\n",
    "        for item in self.items:\n",
    "            #Checking if the entered item is in the list or not\n",
    "            if item.name==name:\n",
    "                #subtracting the quantity given by the user from t he inventory\n",
    "                item.quantity-=quantity\n",
    "                print(f\"{quantity} amount of {name} is removed on {item.added_on}\")\n",
    "            else:\n",
    "                print(\"Item not fount\") \n",
    "    \n",
    "    # Methodto search item in the Inventory         \n",
    "    def search_item(self, name):\n",
    "        for item in self.items:\n",
    "            #Checking for the name if it is in teh list or not\n",
    "            if item.name == name:\n",
    "                \n",
    "                print(f\"{item.name}: Quantity - {item.quantity}, Added on - {item.added_on}\")\n",
    "                return\n",
    "        print(f\"{name} not found in inventory.\")\n",
    "    \n",
    "    # Method to calculate the total amount of quantity in the inventory\n",
    "    def total_inventory(self):\n",
    "        # Finding the toal quantity from the list using sum function\n",
    "        total = sum(item.quantity for item in self.items)\n",
    "        print(f\"Total inventory: {total}\")\n",
    "           "
   ]
  },
  {
   "cell_type": "markdown",
   "metadata": {},
   "source": [
    "### User Interaction Menu:\n",
    "\n",
    "Design a user interaction menu with options to add items, remove items, search for items, display the total number of items, and exit the program. This menu should repeatedly display until the user chooses to exit."
   ]
  },
  {
   "cell_type": "code",
   "execution_count": 51,
   "metadata": {},
   "outputs": [
    {
     "name": "stdout",
     "output_type": "stream",
     "text": [
      "\n",
      "Inventory Management System\n",
      "1. Add Item\n",
      "2. Remove Item\n",
      "3. Search Item\n",
      "4. Total Inventory\n",
      "5. Exit\n",
      "You have added 10 macs in the inventory on 2024-04-05 20:18:48.956383\n",
      "\n",
      "Inventory Management System\n",
      "1. Add Item\n",
      "2. Remove Item\n",
      "3. Search Item\n",
      "4. Total Inventory\n",
      "5. Exit\n",
      "You have added 10 macs in the inventory on 2024-04-05 20:18:59.413203\n",
      "\n",
      "Inventory Management System\n",
      "1. Add Item\n",
      "2. Remove Item\n",
      "3. Search Item\n",
      "4. Total Inventory\n",
      "5. Exit\n",
      "\n",
      "Inventory Management System\n",
      "1. Add Item\n",
      "2. Remove Item\n",
      "3. Search Item\n",
      "4. Total Inventory\n",
      "5. Exit\n",
      "You have added 10 5s in the inventory on 2024-04-05 20:19:29.499449\n",
      "\n",
      "Inventory Management System\n",
      "1. Add Item\n",
      "2. Remove Item\n",
      "3. Search Item\n",
      "4. Total Inventory\n",
      "5. Exit\n"
     ]
    }
   ],
   "source": [
    "def main():\n",
    "    while True:\n",
    "        print(\"\\nInventory Management System\")\n",
    "        print(\"1. Add\")\n",
    "        print(\"2. Remove\")\n",
    "        print(\"3. Search\")\n",
    "        print(\"4. Total\")\n",
    "        print(\"5. Exit\")\n",
    "\n",
    "        choice = input(\"Enter your choice: \")\n",
    "        # To add an item\n",
    "        if choice == \"1\":\n",
    "            name = input(\"Enter item name: \")\n",
    "            quantity = int(input(\"Enter quantity: \"))\n",
    "            Inventory().add_item(name, quantity)\n",
    "        # To remove the item\n",
    "        elif choice == \"2\":\n",
    "            name = input(\"Enter item name: \")\n",
    "            quantity = int(input(\"Enter quantity to remove: \"))\n",
    "            Inventory().remove_item(name, quantity)\n",
    "        # To search for an item in the inventory\n",
    "        elif choice == \"3\":\n",
    "            name = input(\"Enter item name to search: \")\n",
    "            Inventory().search_item(name)\n",
    "        # For total number of items in the inventory\n",
    "        elif choice == \"4\":\n",
    "            Inventory().total_inventory()\n",
    "        elif choice == \"5\":\n",
    "            break\n",
    "        else:\n",
    "            print(\"Invalid choice. Please try again.\")\n",
    "\n",
    "if __name__ == \"__main__\":\n",
    "    main()"
   ]
  }
 ],
 "metadata": {
  "kernelspec": {
   "display_name": "base",
   "language": "python",
   "name": "python3"
  },
  "language_info": {
   "codemirror_mode": {
    "name": "ipython",
    "version": 3
   },
   "file_extension": ".py",
   "mimetype": "text/x-python",
   "name": "python",
   "nbconvert_exporter": "python",
   "pygments_lexer": "ipython3",
   "version": "3.11.5"
  }
 },
 "nbformat": 4,
 "nbformat_minor": 2
}
