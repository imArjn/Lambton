{
 "cells": [
  {
   "cell_type": "markdown",
   "id": "b459c137",
   "metadata": {},
   "source": [
    "#### 10-1. Learning Python: Open a blank file in your text editor and write a few\n",
    "lines summarizing what you’ve learned about Python so far. Start each line\n",
    "with the phrase In Python you can. . . . Save the file as learning_python.txt in\n",
    "the same directory as your exercises from this chapter. Write a program that\n",
    "reads the file and prints what you wrote three times. Print the contents once by\n",
    "reading in the entire file, once by looping over the file object, and once by storing the lines in a list and then working with them outside the with block."
   ]
  },
  {
   "cell_type": "code",
   "execution_count": 16,
   "id": "36cb2b0f",
   "metadata": {},
   "outputs": [],
   "source": [
    "# Writing to learning_python.txt\n",
    "with open('learning_python.txt', 'w') as file:\n",
    "    file.write(\"In python you can learn data processing.\\n\")\n",
    "    file.write(\"In python you can learn web development.\\n\")\n",
    "    file.write(\"In python you can learn date/time modules.\\n\")"
   ]
  },
  {
   "cell_type": "code",
   "execution_count": 17,
   "id": "336c8519",
   "metadata": {},
   "outputs": [
    {
     "name": "stdout",
     "output_type": "stream",
     "text": [
      "Reading the entire file at once:\n",
      "In python you can learn data processing.\n",
      "In python you can learn web development.\n",
      "In python you can learn date/time modules.\n",
      "\n"
     ]
    }
   ],
   "source": [
    "# Reading from learning_python.txt and printing the contents three times\n",
    "# Reading the entire file at once\n",
    "print(\"Reading the entire file at once:\")\n",
    "with open('learning_python.txt', 'r') as file:\n",
    "    contents = file.read()\n",
    "    print(contents)"
   ]
  },
  {
   "cell_type": "code",
   "execution_count": 18,
   "id": "34208d74",
   "metadata": {},
   "outputs": [
    {
     "name": "stdout",
     "output_type": "stream",
     "text": [
      "\n",
      "Looping over the file object:\n",
      "In python you can learn data processing.\n",
      "In python you can learn web development.\n",
      "In python you can learn date/time modules.\n"
     ]
    }
   ],
   "source": [
    "# Looping over the file object\n",
    "print(\"\\nLooping over the file object:\")\n",
    "with open('learning_python.txt', 'r') as file:\n",
    "    for line in file:\n",
    "        print(line.strip())\n"
   ]
  },
  {
   "cell_type": "code",
   "execution_count": 19,
   "id": "c5843f9b",
   "metadata": {},
   "outputs": [
    {
     "name": "stdout",
     "output_type": "stream",
     "text": [
      "\n",
      "Storing the lines in a list and then working with them outside the with block:\n",
      "['In python you can learn data processing.', 'In python you can learn web development.', 'In python you can learn date/time modules.']\n"
     ]
    }
   ],
   "source": [
    "# Storing the lines in a list and then working with them outside the with block\n",
    "print(\"\\nStoring the lines in a list and then working with them outside the with block:\")\n",
    "lines = []\n",
    "with open('learning_python.txt', 'r') as file:\n",
    "    for line in file:\n",
    "        lines.append(line.strip())\n",
    "print(lines)\n"
   ]
  },
  {
   "cell_type": "markdown",
   "id": "5e563ca2",
   "metadata": {},
   "source": [
    "#### 10-2. Learning C: You can use the replace() method to replace any word in a\n",
    "string with a different word. Here’s a quick example showing how to replace\n",
    "'dog' with 'cat' in a sentence:\n",
    " message = \"I really like dogs.\"\n",
    ">>> message.replace('dog', 'cat')\n",
    "'I really like cats.'\n",
    "Read in each line from the file you just created, learning_python.txt, and\n",
    "replace the word Python with the name of another language, such as C. Print\n",
    "each modified line to the screen."
   ]
  },
  {
   "cell_type": "code",
   "execution_count": 20,
   "id": "f2a74a56",
   "metadata": {},
   "outputs": [
    {
     "name": "stdout",
     "output_type": "stream",
     "text": [
      "In python you can learn data processing.\n",
      "\n",
      "In python you can learn web development.\n",
      "\n",
      "In python you can learn date/time modules.\n",
      "\n"
     ]
    }
   ],
   "source": [
    "# Opening the file for reading\n",
    "with open('learning_python.txt', 'r') as file:\n",
    "    # Iterating over each line in the file\n",
    "    for line in file:\n",
    "        # Replacing 'Python' with 'C' in the line\n",
    "        modified_line = line.replace('Python', 'C')\n",
    "        # Printing the modified line\n",
    "        print(modified_line)"
   ]
  },
  {
   "cell_type": "markdown",
   "id": "8c5bfd3c",
   "metadata": {},
   "source": [
    "#### 0-3. Guest: Write a program that prompts the user for their name. When they\n",
    "respond, write their name to a file called guest.txt."
   ]
  },
  {
   "cell_type": "code",
   "execution_count": 21,
   "id": "332f89c4",
   "metadata": {},
   "outputs": [
    {
     "name": "stdout",
     "output_type": "stream",
     "text": [
      "Please enter your name: Jharana Adhikari\n",
      "Name has been written to guest.txt.\n"
     ]
    }
   ],
   "source": [
    "# Prompting the user for their name\n",
    "name = input(\"Please enter your name: \")\n",
    "\n",
    "# Writing the user's name to a file called guest.txt\n",
    "with open('guest.txt', 'w') as file:\n",
    "    file.write(name)\n",
    "    print(\"Name has been written to guest.txt.\")"
   ]
  },
  {
   "cell_type": "markdown",
   "id": "13389866",
   "metadata": {},
   "source": [
    "#### 10-4. Guest Book: Write a while loop that prompts users for their name. When\n",
    "they enter their name, print a greeting to the screen and add a line recording\n",
    "their visit in a file called guest_book.txt. Make sure each entry appears on a\n",
    "new line in the file."
   ]
  },
  {
   "cell_type": "code",
   "execution_count": 22,
   "id": "26b8ff91",
   "metadata": {},
   "outputs": [
    {
     "name": "stdout",
     "output_type": "stream",
     "text": [
      "\n",
      "Hi, what's your name? \n",
      "Enter 'quit' if you're the last guest. Sadhana Dahal\n",
      "Thanks Sadhana Dahal, we'll add you to the guest book.\n",
      "\n",
      "Hi, what's your name? \n",
      "Enter 'quit' if you're the last guest. Gita Adk\n",
      "Thanks Gita Adk, we'll add you to the guest book.\n",
      "\n",
      "Hi, what's your name? \n",
      "Enter 'quit' if you're the last guest. Roma Ruth\n",
      "Thanks Roma Ruth, we'll add you to the guest book.\n",
      "\n",
      "Hi, what's your name? \n",
      "Enter 'quit' if you're the last guest. quit\n"
     ]
    },
    {
     "data": {
      "text/plain": [
       "33"
      ]
     },
     "execution_count": 22,
     "metadata": {},
     "output_type": "execute_result"
    }
   ],
   "source": [
    "from pathlib import Path  # Importing the Path class from pathlib\n",
    "\n",
    "# Creating a Path object for the guest_book.txt file\n",
    "path = Path('guest_book.txt')\n",
    "\n",
    "# Prompt message for user input\n",
    "prompt = \"\\nHi, what's your name? \"\n",
    "prompt += \"\\nEnter 'quit' if you're the last guest. \"\n",
    "\n",
    "guest_names = []  # Initializing an empty list to store guest names\n",
    "while True:\n",
    "    name = input(prompt)  # Prompting the user for their name\n",
    "    if name == 'quit':\n",
    "        break  # Exiting the loop if the user enters 'quit'\n",
    "\n",
    "    # Printing a thank-you message and adding the guest's name to the list\n",
    "    print(f\"Thanks {name}, we'll add you to the guest book.\")\n",
    "    guest_names.append(name)\n",
    "\n",
    "# Building a string where \"\\n\" is added after each name\n",
    "file_string = ''\n",
    "for name in guest_names:\n",
    "    file_string += f\"{name}\\n\"\n",
    "\n",
    "# Writing the constructed string to the guest_book.txt file\n",
    "path.write_text(file_string)\n"
   ]
  },
  {
   "cell_type": "markdown",
   "id": "37e1a807",
   "metadata": {},
   "source": [
    "#### 10-5. Programming Poll: Write a while loop that asks people why they like\n",
    "programming. Each time someone enters a reason, add their reason to a file\n",
    "that stores all the responses."
   ]
  },
  {
   "cell_type": "code",
   "execution_count": 23,
   "id": "6ec6675c",
   "metadata": {},
   "outputs": [
    {
     "name": "stdout",
     "output_type": "stream",
     "text": [
      "Welcome to the Programming Poll!\n",
      "Enter 'quit' when you're done.\n",
      "Why do you like programming? Simple and fun\n",
      "Why do you like programming? Lots of creative\n",
      "Why do you like programming? Can explore\n",
      "Why do you like programming? quit\n",
      "Thank you for participating in the poll!\n"
     ]
    }
   ],
   "source": [
    "# Prompting users to enter why they like programming\n",
    "print(\"Welcome to the Programming Poll!\")\n",
    "print(\"Enter 'quit' when you're done.\")\n",
    "\n",
    "responses = []  # Initializing an empty list to store responses\n",
    "while True:\n",
    "    reason = input(\"Why do you like programming? \")\n",
    "    if reason.lower() == 'quit':\n",
    "        break  # Exiting the loop if the user enters 'quit'\n",
    "    responses.append(reason)  # Adding the reason to the list of responses\n",
    "\n",
    "# Writing the responses to a file\n",
    "with open('programming_poll_responses.txt', 'a') as file:\n",
    "    for response in responses:\n",
    "        file.write(response + '\\n')\n",
    "\n",
    "print(\"Thank you for participating in the poll!\")\n"
   ]
  },
  {
   "cell_type": "markdown",
   "id": "767f569e",
   "metadata": {},
   "source": [
    "#### Credentials"
   ]
  },
  {
   "cell_type": "code",
   "execution_count": 25,
   "id": "f9af7919",
   "metadata": {},
   "outputs": [
    {
     "name": "stdout",
     "output_type": "stream",
     "text": [
      "Enter your username: Jharana\n",
      "Enter your password: AdkJharana01\n",
      "User authenticated\n"
     ]
    }
   ],
   "source": [
    "# Function to check if username and password are valid\n",
    "def authenticate(username, password):\n",
    "    with open('credentials.txt', 'r') as file:\n",
    "        for line in file:\n",
    "            # Extracting username and password from each line\n",
    "            if 'Username:' + username.strip() in line:\n",
    "                stored_password = line.split('Password:')[1].strip()\n",
    "                if stored_password == password:\n",
    "                    return \"User authenticated\"\n",
    "                else:\n",
    "                    return \"User not authenticated\"\n",
    "    return \"User not authenticated\"\n",
    "\n",
    "# Main function to prompt for username and password\n",
    "def main():\n",
    "    username = input(\"Enter your username: \")\n",
    "    password = input(\"Enter your password: \")\n",
    "    result = authenticate(username, password)\n",
    "    print(result)\n",
    "\n",
    "# Calling the main function\n",
    "if __name__ == \"__main__\":\n",
    "    main()\n"
   ]
  },
  {
   "cell_type": "code",
   "execution_count": null,
   "id": "9a81a7ba",
   "metadata": {},
   "outputs": [],
   "source": []
  }
 ],
 "metadata": {
  "kernelspec": {
   "display_name": "Python 3 (ipykernel)",
   "language": "python",
   "name": "python3"
  },
  "language_info": {
   "codemirror_mode": {
    "name": "ipython",
    "version": 3
   },
   "file_extension": ".py",
   "mimetype": "text/x-python",
   "name": "python",
   "nbconvert_exporter": "python",
   "pygments_lexer": "ipython3",
   "version": "3.11.5"
  }
 },
 "nbformat": 4,
 "nbformat_minor": 5
}
