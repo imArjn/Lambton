{
 "cells": [
  {
   "cell_type": "markdown",
   "id": "f1d9a267",
   "metadata": {},
   "source": [
    "### Python exercises with if-else, for and while loops"
   ]
  },
  {
   "cell_type": "markdown",
   "id": "17cb8feb",
   "metadata": {},
   "source": [
    "#### Question 1: Print First 10 natural numbers using while loop."
   ]
  },
  {
   "cell_type": "code",
   "execution_count": 85,
   "id": "ec12c417",
   "metadata": {},
   "outputs": [
    {
     "name": "stdout",
     "output_type": "stream",
     "text": [
      "1\n",
      "2\n",
      "3\n",
      "4\n",
      "5\n",
      "6\n",
      "7\n",
      "8\n",
      "9\n"
     ]
    }
   ],
   "source": [
    "#implementing the for loop and range to loop till that range\n",
    "for number in range(1, 10, 1):\n",
    "    #printing the number\n",
    "    print(number)"
   ]
  },
  {
   "cell_type": "markdown",
   "id": "77038a8e",
   "metadata": {},
   "source": [
    "#### Question 2: Print the following pattern. "
   ]
  },
  {
   "cell_type": "code",
   "execution_count": 86,
   "id": "b16bc1ae",
   "metadata": {},
   "outputs": [
    {
     "name": "stdout",
     "output_type": "stream",
     "text": [
      "1        1\n",
      "12       1\n",
      "123      1\n",
      "1234     1\n"
     ]
    }
   ],
   "source": [
    "#initializing the num\n",
    "num = 4\n",
    "\n",
    "# Outer loop for each row\n",
    "for i in range(1, num + 1):\n",
    "    # Printing numbers in increasing order\n",
    "    for j in range(1, i + 1):\n",
    "        print(j, end=\"\")\n",
    "    # Printing spaces\n",
    "    for k in range(2 * num - 2 * i):\n",
    "        print(\" \", end=\"\")\n",
    "    # Printing 1 at the end of each row\n",
    "    print(' '*j,\"1\")"
   ]
  },
  {
   "cell_type": "markdown",
   "id": "30e225e4",
   "metadata": {},
   "source": [
    "#### Question 3: Accept number from user and calculate the sum of all number between 1 and given number. "
   ]
  },
  {
   "cell_type": "code",
   "execution_count": 87,
   "id": "29ddd6f0",
   "metadata": {},
   "outputs": [
    {
     "name": "stdout",
     "output_type": "stream",
     "text": [
      "Enter a number: 7\n",
      "The sum of all numbers between 1 and 7 is: 28\n"
     ]
    }
   ],
   "source": [
    "# Accept a number from the user\n",
    "num = int(input(\"Enter a number: \"))\n",
    "\n",
    "# Initialize a variable to store the sum\n",
    "total_sum = 0\n",
    "\n",
    "# Loop through numbers from 1 to the given number\n",
    "for i in range(1, num + 1):\n",
    "    # Add each number to the total sum\n",
    "    total_sum += i\n",
    "\n",
    "# Print the sum\n",
    "print(\"The sum of all numbers between 1 and\", num, \"is:\", total_sum)\n"
   ]
  },
  {
   "cell_type": "markdown",
   "id": "2c16e85a",
   "metadata": {},
   "source": [
    "#### Question 4: Print multiplication table of given number. "
   ]
  },
  {
   "cell_type": "code",
   "execution_count": 88,
   "id": "b251a8ae",
   "metadata": {},
   "outputs": [
    {
     "name": "stdout",
     "output_type": "stream",
     "text": [
      "Enter the number: 7\n",
      "7\n",
      "14\n",
      "21\n",
      "28\n",
      "35\n",
      "42\n",
      "49\n",
      "56\n",
      "63\n",
      "70\n"
     ]
    }
   ],
   "source": [
    "#asking user to input the num of thier choice to get multiplication\n",
    "num = int(input(\"Enter the number: \"))\n",
    "\n",
    "# Iterate 10 times from i = 1 to 10\n",
    "for i in range(1, 11):\n",
    "    print(num*i)"
   ]
  },
  {
   "cell_type": "markdown",
   "id": "0f8a465d",
   "metadata": {},
   "source": [
    "#### Question 5: Given a list iterate it and display numbers which are divisible by 5 and if you find number greater than 150 stop the loop iteration."
   ]
  },
  {
   "cell_type": "code",
   "execution_count": 89,
   "id": "4a9b694c",
   "metadata": {},
   "outputs": [
    {
     "name": "stdout",
     "output_type": "stream",
     "text": [
      "15\n",
      "55\n",
      "75\n",
      "150\n"
     ]
    }
   ],
   "source": [
    "#defining the list named list1\n",
    "list1 = [12, 15, 32, 42, 55, 75, 122, 132, 150, 180, 200]\n",
    "#using the for loop to loop the list\n",
    "for i in list1:\n",
    "    #checking whether the number is greater than 150\n",
    "    if(i > 150):\n",
    "        #break the loop if the number is greater tgan 150\n",
    "        break \n",
    "        #using the modulus function to find the no divisible by the 5\n",
    "    elif(i%5 ==0):\n",
    "        #printing all the number divisible by 5\n",
    "        print(i)\n",
    "        "
   ]
  },
  {
   "cell_type": "markdown",
   "id": "9cb0f491",
   "metadata": {},
   "source": [
    "#### Question 6: Given a number count the total number of digits in a number. "
   ]
  },
  {
   "cell_type": "code",
   "execution_count": 90,
   "id": "51ec636d",
   "metadata": {},
   "outputs": [
    {
     "name": "stdout",
     "output_type": "stream",
     "text": [
      "enter the number:2345\n",
      "4\n"
     ]
    }
   ],
   "source": [
    "#asking user to input the number\n",
    "num = int(input(\"enter the number:\"))\n",
    "#converting the int to str to count \n",
    "a = str(num)\n",
    "#using the len function to count the number of the digits in a number\n",
    "print(len(a))"
   ]
  },
  {
   "cell_type": "markdown",
   "id": "72f22a2c",
   "metadata": {},
   "source": [
    "#### Question 7: Print the following pattern using for loop."
   ]
  },
  {
   "cell_type": "code",
   "execution_count": 91,
   "id": "ccbaba91",
   "metadata": {
    "scrolled": true
   },
   "outputs": [
    {
     "name": "stdout",
     "output_type": "stream",
     "text": [
      "5 4 3 2 1 \n",
      "4 3 2 1 \n",
      "3 2 1 \n",
      "2 1 \n",
      "1 \n",
      "\n"
     ]
    }
   ],
   "source": [
    "#intializing the num to 5\n",
    "num = 5\n",
    "# using the for loop to range and adding by 1\n",
    "for i in range(0, num + 1):\n",
    "    \n",
    "    for j in range(num - i, 0, -1):\n",
    "        print(j, end=' ')\n",
    "    print()"
   ]
  },
  {
   "cell_type": "markdown",
   "id": "6513e331",
   "metadata": {},
   "source": [
    "#### Question 8: Reverse the following list using for loop. list = [10, 20, 30, 40, 50]"
   ]
  },
  {
   "cell_type": "code",
   "execution_count": 92,
   "id": "7c1d1804",
   "metadata": {},
   "outputs": [
    {
     "name": "stdout",
     "output_type": "stream",
     "text": [
      "[15, 14, 13, 12, 11, 10]\n"
     ]
    }
   ],
   "source": [
    "# input list as lst\n",
    "lst = [10, 11, 12, 13, 14, 15]\n",
    "new_list = []  # defining an new empty list as new_list\n",
    " \n",
    "# iterate to reverse the list\n",
    "for i in lst:\n",
    "    # reversing the list\n",
    "    new_list.insert(0, i)\n",
    "# printing result\n",
    "print(new_list)"
   ]
  },
  {
   "cell_type": "markdown",
   "id": "8f1cdb36",
   "metadata": {},
   "source": [
    "#### Question 9: Display a message “Done” after successful execution of for loop. "
   ]
  },
  {
   "cell_type": "code",
   "execution_count": 93,
   "id": "9b7da735",
   "metadata": {},
   "outputs": [
    {
     "name": "stdout",
     "output_type": "stream",
     "text": [
      "0\n",
      "1\n",
      "Done!\n"
     ]
    }
   ],
   "source": [
    "#inintilizing the loop in range 2\n",
    "for i in range(2):\n",
    "    print(i)\n",
    "# print “Done” after successful execution of for loop\n",
    "print(\"Done!\")"
   ]
  },
  {
   "cell_type": "markdown",
   "id": "9adca1b0",
   "metadata": {},
   "source": [
    "#### Question 10: Display Fibonacci series up to 10 terms.Fibonacci sequence: Each number is the sum of the two preceding ones, starting from 0 and 1. "
   ]
  },
  {
   "cell_type": "code",
   "execution_count": 94,
   "id": "cea27d8a",
   "metadata": {},
   "outputs": [
    {
     "name": "stdout",
     "output_type": "stream",
     "text": [
      "Fibonacci sequence:\n",
      "0\n",
      "1\n",
      "1\n",
      "2\n",
      "3\n",
      "5\n",
      "8\n",
      "13\n",
      "21\n",
      "34\n"
     ]
    }
   ],
   "source": [
    "#inintilizing the value of n\n",
    "n=10\n",
    "\n",
    "# inintilizing the first two terms\n",
    "n1, n2 = 0, 1\n",
    "count = 0\n",
    "\n",
    "# checking if the number of terms is valid\n",
    "if n<= 0:\n",
    "    print(\"Please enter a positive integer\")\n",
    "\n",
    "# if there is only one term, returning the n1\n",
    "elif n == 1:\n",
    "    print(\"Fibonacci sequence upto\",nterms,\":\")\n",
    "    print(n1)\n",
    "    \n",
    "# generating  fibonacci sequence\n",
    "else:\n",
    "    print(\"Fibonacci sequence:\")\n",
    "    #using the while loop \n",
    "    while count < n:\n",
    "        print(n1)\n",
    "        nth = n1 + n2\n",
    "       # updating theS values\n",
    "        n1 = n2\n",
    "        n2 = nth\n",
    "        count += 1"
   ]
  },
  {
   "cell_type": "markdown",
   "id": "920f505b",
   "metadata": {},
   "source": [
    "#### Question 11: Write a loop to find the factorial of any number. Note: The factorial (symbol: !) means to multiply all whole numbers from our chosen number down to 1."
   ]
  },
  {
   "cell_type": "code",
   "execution_count": 95,
   "id": "ee340285",
   "metadata": {},
   "outputs": [
    {
     "name": "stdout",
     "output_type": "stream",
     "text": [
      "The factorial of 5 is 120\n"
     ]
    }
   ],
   "source": [
    "# defining the num as 7 \n",
    "num = 5\n",
    "\n",
    "factorial =1\n",
    "# check if the number is negative, positive or zero\n",
    "if num < 0:\n",
    "    print(\"Sorry, factorial does not exist for negative numbers\")\n",
    "elif num == 0:\n",
    "    print(\"The factorial of 0 is 1\")\n",
    "else:\n",
    "    #using for loop to calculate the factorial \n",
    "    for i in range(1,num + 1):\n",
    "        # calculating the factorial by mutiplying using loop\n",
    "        factorial = factorial*i\n",
    "    # printing the factorial of the number\n",
    "    print(\"The factorial of\",num,\"is\",factorial)\n"
   ]
  },
  {
   "cell_type": "markdown",
   "id": "a7b21046",
   "metadata": {},
   "source": [
    "#### Question 12: Python program to display all the prime numbers within a range.\n",
    "Note: A Prime Number is a whole number that cannot be made by multiplying other whole numbers.\n",
    "Examples:\n",
    "37 is a Prime Number because no other whole numbers multiply together to make it. o 6\n",
    "is not a Prime Number because it can be made by 2×3 = 6 "
   ]
  },
  {
   "cell_type": "code",
   "execution_count": 96,
   "id": "298f7e18",
   "metadata": {},
   "outputs": [
    {
     "name": "stdout",
     "output_type": "stream",
     "text": [
      "Prime numbers between 20 and 50 are:\n",
      "23\n",
      "29\n",
      "31\n",
      "37\n",
      "41\n",
      "43\n",
      "47\n"
     ]
    }
   ],
   "source": [
    "# Python program to display all the prime numbers within an interval\n",
    "\n",
    "start_num = 20 #Starting index\n",
    "end_num = 50 #ending value\n",
    "# displying the meaasge that I am printing in between this range\n",
    "print(\"Prime numbers between\", start_num, \"and\", end_num, \"are:\")\n",
    "\n",
    "#using the for-loop and range of strat_num and end_num\n",
    "for num in range(start_num, end_num + 1):\n",
    "   # all prime numbers are greater than 1 so checking the condition\n",
    "   if num > 1:\n",
    "        for i in range(2, num):\n",
    "            if (num % i) == 0:\n",
    "                break\n",
    "        else:\n",
    "            print(num)"
   ]
  },
  {
   "cell_type": "code",
   "execution_count": null,
   "id": "d00855d1",
   "metadata": {},
   "outputs": [],
   "source": []
  }
 ],
 "metadata": {
  "kernelspec": {
   "display_name": "Python 3 (ipykernel)",
   "language": "python",
   "name": "python3"
  },
  "language_info": {
   "codemirror_mode": {
    "name": "ipython",
    "version": 3
   },
   "file_extension": ".py",
   "mimetype": "text/x-python",
   "name": "python",
   "nbconvert_exporter": "python",
   "pygments_lexer": "ipython3",
   "version": "3.11.5"
  }
 },
 "nbformat": 4,
 "nbformat_minor": 5
}
