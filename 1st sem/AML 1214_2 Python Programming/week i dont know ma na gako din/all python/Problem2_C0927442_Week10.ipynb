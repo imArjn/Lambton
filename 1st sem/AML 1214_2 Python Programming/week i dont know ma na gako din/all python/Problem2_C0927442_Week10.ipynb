{
 "cells": [
  {
   "cell_type": "markdown",
   "id": "9c8ad66f",
   "metadata": {},
   "source": [
    "#### Objective: Create a simple number-guessing game that does the following:\n",
    "       The program generates a random number between 1 and 20 (inclusive).\n",
    "\n",
    "       The player has to guess the number with hints provided after each guess.\n",
    "\n",
    "       The game gives feedback on whether the guess is too high, too low, or correct.\n",
    "\n",
    "       The game ends when the player guesses the correct number.\n",
    "\n",
    "#### Requirements:\n",
    "       Use the random module to generate a random number.\n",
    "\n",
    "       Use a while loop to allow the player to keep guessing.\n",
    "\n",
    "       Use if-elif-else statements to check the player's guess and give feedback.\n",
    "\n",
    "       Use the input function to get the player's guess.\n",
    "\n",
    "       The game should tell the player how many guesses they took when they guess correctly.\n",
    "\n"
   ]
  },
  {
   "cell_type": "code",
   "execution_count": 5,
   "id": "3da53d13",
   "metadata": {},
   "outputs": [
    {
     "name": "stdout",
     "output_type": "stream",
     "text": [
      "Welcome to the Number Guessing Game!\n",
      "Guess the number between 1 and 20: 9\n",
      "Too low! Try again.\n",
      "Guess the number between 1 and 20: 18\n",
      "Too low! Try again.\n",
      "Guess the number between 1 and 20: 19\n",
      "Too low! Try again.\n",
      "Guess the number between 1 and 20: 20\n",
      "Congratulations! You guessed the correct number in 4 guesses!\n"
     ]
    }
   ],
   "source": [
    "#importing the random library to get random no generation\n",
    "import random\n",
    "\n",
    "#defining the function number gusessing game \n",
    "def number_guess_game():\n",
    "# inintilizing the varible to the random no that generated using randint between 1 and 20 (inclusive)\n",
    "    secret_number = random.randint(1, 20)\n",
    "    \n",
    "# Initializing the guess count\n",
    "    guess_count = 0\n",
    "    \n",
    "#  printing the welcoming message to the user before getting the guess no\n",
    "    print(\"Welcome to the Number Guessing Game!\")\n",
    "    \n",
    "#using the while loop to get how many times does the take to guess the player\n",
    "    while True:\n",
    "        # getting the number the player's guess\n",
    "        guess = int(input(\"Guess the number between 1 and 20: \"))\n",
    "        \n",
    "        # Incrementing the guess count\n",
    "        guess_count += 1\n",
    "        \n",
    "        # Checking if the guess is correct or not\n",
    "        if guess == secret_number:\n",
    "            #if correct printing the congratulation message and guess count and break the loop \n",
    "            print(\"Congratulations! You guessed the correct number in\", guess_count, \"guesses!\")\n",
    "            break\n",
    "            #if the guess is not correct then we should compare and give the user the hint\n",
    "        elif guess < secret_number: \n",
    "            #comparing the both guess and secret number and printing hint accordingly\n",
    "            print(\"Too low! Try again.\")\n",
    "        else:\n",
    "            print(\"Too high! Try again.\")\n",
    "\n",
    "# Starting the game\n",
    "number_guess_game()\n",
    "\n"
   ]
  },
  {
   "cell_type": "code",
   "execution_count": null,
   "id": "53ade555",
   "metadata": {},
   "outputs": [],
   "source": []
  }
 ],
 "metadata": {
  "kernelspec": {
   "display_name": "Python 3 (ipykernel)",
   "language": "python",
   "name": "python3"
  },
  "language_info": {
   "codemirror_mode": {
    "name": "ipython",
    "version": 3
   },
   "file_extension": ".py",
   "mimetype": "text/x-python",
   "name": "python",
   "nbconvert_exporter": "python",
   "pygments_lexer": "ipython3",
   "version": "3.11.5"
  }
 },
 "nbformat": 4,
 "nbformat_minor": 5
}
