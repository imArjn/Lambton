{
 "cells": [
  {
   "cell_type": "markdown",
   "id": "19f49a8f",
   "metadata": {},
   "source": [
    "#### 1) Write a Python function that takes a string and calculates the length of a string and returns it. Print the returned value."
   ]
  },
  {
   "cell_type": "code",
   "execution_count": 3,
   "id": "2bbd11b0",
   "metadata": {},
   "outputs": [
    {
     "name": "stdout",
     "output_type": "stream",
     "text": [
      "13\n"
     ]
    }
   ],
   "source": [
    "#using the length function to calculate the length of strung and return it\n",
    "my_string = \"Hello, World!\"\n",
    "length = len(my_string)\n",
    "print(length)"
   ]
  },
  {
   "cell_type": "markdown",
   "id": "34c0494c",
   "metadata": {},
   "source": [
    "#### 2) Write a Python function that takes a string and counts the number of characters (character frequency) in a string. For example, if we send 'google.com' to the function, it should return a dictionary like this {'g': 2, 'o': 3, 'l': 1, 'e': 1, '.': 1, 'c': 1, 'm': 1}\n"
   ]
  },
  {
   "cell_type": "code",
   "execution_count": 4,
   "id": "792a2449",
   "metadata": {},
   "outputs": [
    {
     "name": "stdout",
     "output_type": "stream",
     "text": [
      "{'g': 2, 'o': 3, 'l': 1, 'e': 1, '.': 1, 'c': 1, 'm': 1}\n"
     ]
    }
   ],
   "source": [
    "my_string = \"google.com\"\n",
    " \n",
    "# using for and if else combination method to get count of each element in string\n",
    "char_freq = {}\n",
    " \n",
    "for i in my_string:\n",
    "    if i in char_freq:\n",
    "        char_freq[i] += 1\n",
    "    else:\n",
    "        char_freq[i] = 1\n",
    "#printing the dictionary of the my_string character frequency     \n",
    "print(str(char_freq))"
   ]
  },
  {
   "cell_type": "markdown",
   "id": "366f39b4",
   "metadata": {},
   "source": [
    "#### 3) Create a string of your choice and apply a minimum of 8 of following methods to it and print the result."
   ]
  },
  {
   "cell_type": "markdown",
   "id": "6b221571",
   "metadata": {},
   "source": [
    "#### 1.Capitalize()"
   ]
  },
  {
   "cell_type": "code",
   "execution_count": 19,
   "id": "6037b5fb",
   "metadata": {},
   "outputs": [
    {
     "name": "stdout",
     "output_type": "stream",
     "text": [
      "Hello, world!\n"
     ]
    }
   ],
   "source": [
    "#using the capitalize method\n",
    "my_choice = \"Hello, World!\"\n",
    "print(my_choice.capitalize()) "
   ]
  },
  {
   "cell_type": "markdown",
   "id": "674f243c",
   "metadata": {},
   "source": [
    "#### 2. Casefold()"
   ]
  },
  {
   "cell_type": "code",
   "execution_count": 31,
   "id": "5b5b7b7a",
   "metadata": {},
   "outputs": [
    {
     "name": "stdout",
     "output_type": "stream",
     "text": [
      "this is a python programming course\n"
     ]
    }
   ],
   "source": [
    "#using the casefold method\n",
    "my_choice = \"THIS IS A PYTHON PROGRAMMING COURSE\"\n",
    "print(my_choice.casefold())"
   ]
  },
  {
   "cell_type": "markdown",
   "id": "b7e87fe5",
   "metadata": {},
   "source": [
    "#### 3. endswith()"
   ]
  },
  {
   "cell_type": "code",
   "execution_count": 33,
   "id": "a998dba4",
   "metadata": {},
   "outputs": [
    {
     "name": "stdout",
     "output_type": "stream",
     "text": [
      "True\n"
     ]
    }
   ],
   "source": [
    "#using the endswith method\n",
    "my_choice = \"Hello, to the programming\"  \n",
    "print(my_choice.endswith('programming'))"
   ]
  },
  {
   "cell_type": "markdown",
   "id": "c3b5a784",
   "metadata": {},
   "source": [
    "#### 4. format()"
   ]
  },
  {
   "cell_type": "code",
   "execution_count": 34,
   "id": "2430b077",
   "metadata": {},
   "outputs": [
    {
     "name": "stdout",
     "output_type": "stream",
     "text": [
      "Hi, Uma and Jharana what's up \n"
     ]
    }
   ],
   "source": [
    "#usinf the format method\n",
    "my_choice = \"Hi, {} and {} what's up \"\n",
    "print(my_choice.format('Uma', 'Jharana'))"
   ]
  },
  {
   "cell_type": "markdown",
   "id": "b205150f",
   "metadata": {},
   "source": [
    "#### 5. format_map()"
   ]
  },
  {
   "cell_type": "code",
   "execution_count": 39,
   "id": "eb339ebd",
   "metadata": {},
   "outputs": [
    {
     "name": "stdout",
     "output_type": "stream",
     "text": [
      "Hello, Uma and Jharana what's up girls\n"
     ]
    }
   ],
   "source": [
    "#usig the format map method defining the dictionary name data\n",
    "data = {'first':'Uma', 'second':'Jharana'}\n",
    "my_choice = \"Hello, {first} and {second} what's up girls\"\n",
    "print(my_choice.format_map(data))"
   ]
  },
  {
   "cell_type": "markdown",
   "id": "b2ac477f",
   "metadata": {},
   "source": [
    "#### 6. isalpha()"
   ]
  },
  {
   "cell_type": "code",
   "execution_count": 44,
   "id": "8fb88cf6",
   "metadata": {},
   "outputs": [
    {
     "name": "stdout",
     "output_type": "stream",
     "text": [
      "True\n"
     ]
    }
   ],
   "source": [
    "#using the isalpha method to find it is alphabet or not\n",
    "my_choice =\"universe\"\n",
    "print(my_choice.isalpha())"
   ]
  },
  {
   "cell_type": "markdown",
   "id": "591e3063",
   "metadata": {},
   "source": [
    "#### 7. istitle()"
   ]
  },
  {
   "cell_type": "code",
   "execution_count": 42,
   "id": "ad3793f6",
   "metadata": {},
   "outputs": [
    {
     "name": "stdout",
     "output_type": "stream",
     "text": [
      "False\n"
     ]
    }
   ],
   "source": [
    "#using the title method to find wheather the text is title or not\n",
    "my_choice =\"hello, universe\"\n",
    "print(my_choice.istitle())"
   ]
  },
  {
   "cell_type": "markdown",
   "id": "6acc4905",
   "metadata": {},
   "source": [
    "#### 8. isalnum()"
   ]
  },
  {
   "cell_type": "code",
   "execution_count": 49,
   "id": "58d91911",
   "metadata": {},
   "outputs": [
    {
     "name": "stdout",
     "output_type": "stream",
     "text": [
      "True\n"
     ]
    }
   ],
   "source": [
    "#using the isalnum() to find wheather the given value is numeric or nor\n",
    "my_choice = \"123456666678\"\n",
    "print(my_choice.isalnum())"
   ]
  },
  {
   "cell_type": "markdown",
   "id": "126cebab",
   "metadata": {},
   "source": [
    "### 4) Write a Python function that converts temperatures from Fahrenheit to Celsius. "
   ]
  },
  {
   "cell_type": "code",
   "execution_count": 55,
   "id": "e7a7fafd",
   "metadata": {},
   "outputs": [
    {
     "name": "stdout",
     "output_type": "stream",
     "text": [
      "the temperature in celsius\n"
     ]
    },
    {
     "data": {
      "text/plain": [
       "148.88888888888889"
      ]
     },
     "execution_count": 55,
     "metadata": {},
     "output_type": "execute_result"
    }
   ],
   "source": [
    "#defining the fahernheight to celsius function \n",
    "def fahernheit_to_celsisu(fahrenheit):\n",
    "    #formula for converting the fahrenheit to Celsius\n",
    "    celsius = float(fahrenheit - 32) * 5 / 9\n",
    "    return celsius\n",
    "#printing the final output\n",
    "print(\"the temperature in celsius\")\n",
    "#passing the value that we wanna convert\n",
    "fahernheit_to_celsisu(300)"
   ]
  },
  {
   "cell_type": "markdown",
   "id": "56a5d31d",
   "metadata": {},
   "source": [
    "#### Python Challenge: Word Frequency Analysis\n",
    "Problem Statement\n",
    "You are tasked with writing a Python function named word_frequency_analysis that analyzes the frequency of words in a given text. The function should perform the following operations:\n",
    "\n",
    "Preprocessing:\n",
    "\n",
    "Convert the entire text to lowercase to ensure case-insensitive processing.\n",
    "Remove any characters that are not alphabetic or spaces (to ensure only words are processed).\n",
    "Word Extraction:\n",
    "\n",
    "Using a while loop, iterate through the preprocessed text to extract individual words.\n",
    "Words are defined as sequences of alphabetic characters separated by spaces.\n",
    "Frequency Analysis:\n",
    "\n",
    "Use a dictionary to track the frequency of each word encountered.\n",
    "The keys in the dictionary should be the unique words, and the corresponding values should be the counts of those words in the text.\n",
    "Unique Letter Count:\n",
    "\n",
    "For each word, also calculate the number of unique letters it contains.\n",
    "Store this information in another dictionary where each word is a key, and the value is the count of unique letters in that word.\n",
    "Return Data:\n",
    "\n",
    "The function should return a tuple containing two elements:\n",
    "The first element is the word frequency dictionary.\n",
    "The second element is the dictionary with counts of unique letters in each word.\n",
    "Example\n",
    "Input: \"Hello, world! Hello, everyone.\"\n",
    "Output: ({'hello': 2, 'world': 1, 'everyone': 1}, {'hello': 4, 'world': 5, 'everyone': 6})\n",
    "Implementation Tips\n",
    "Consider using the .replace() method to handle unwanted characters during preprocessing.\n",
    "Use a while loop to iterate through the text for word extraction.\n",
    "Utilize a set to easily calculate the number of unique letters in each word.\n",
    "Pay attention to edge cases, such as texts with no alphabetic characters or multiple consecutive spaces.\n",
    "This challenge will test your ability to manipulate strings, iterate with control structures, and effectively use collections like dictionaries and sets. Good luck!\n",
    "\n",
    "Preprocessing:Convert the entire text to lowercase to ensure case-insensitive processing."
   ]
  },
  {
   "cell_type": "code",
   "execution_count": 56,
   "id": "5daa116f",
   "metadata": {},
   "outputs": [
    {
     "data": {
      "text/plain": [
       "({'hi': 1, 'there': 1, 'its': 1, 'me': 1, 'jharana': 2},\n",
       " {'hi': 2, 'there': 4, 'its': 3, 'me': 2, 'jharana': 5})"
      ]
     },
     "execution_count": 56,
     "metadata": {},
     "output_type": "execute_result"
    }
   ],
   "source": [
    "#definig the word_frequency_analysis function\n",
    "def word_frequency_analysis(my_string):\n",
    "    #Preprocessing\n",
    "    my_string = my_string.lower()  \n",
    "    # removing non-alphabetic characters using the join \n",
    "    my_string = ''.join(char for char in my_string if char.isalpha() or char.isspace())  \n",
    "    \n",
    "    # word Extraction and Frequency Analysis\n",
    "    word_freq = {}\n",
    "    unique_letter_count = {}\n",
    "    words = my_string.split()\n",
    "    for word in words:\n",
    "        # frequency Analysis\n",
    "        if word in word_freq:\n",
    "            word_freq[word] += 1\n",
    "        else:\n",
    "            word_freq[word] = 1\n",
    "        \n",
    "        # unique Letter Count\n",
    "        unique_letter_count[word] = len(set(word))\n",
    "    \n",
    "    return word_freq, unique_letter_count\n",
    "\n",
    "\n",
    "word_frequency_analysis(\"Hi There, its me Jharana jharana.\")\n",
    "   "
   ]
  },
  {
   "cell_type": "code",
   "execution_count": null,
   "id": "bb506045",
   "metadata": {},
   "outputs": [],
   "source": []
  }
 ],
 "metadata": {
  "kernelspec": {
   "display_name": "Python 3 (ipykernel)",
   "language": "python",
   "name": "python3"
  },
  "language_info": {
   "codemirror_mode": {
    "name": "ipython",
    "version": 3
   },
   "file_extension": ".py",
   "mimetype": "text/x-python",
   "name": "python",
   "nbconvert_exporter": "python",
   "pygments_lexer": "ipython3",
   "version": "3.11.5"
  }
 },
 "nbformat": 4,
 "nbformat_minor": 5
}
