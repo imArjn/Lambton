{
 "cells": [
  {
   "cell_type": "markdown",
   "id": "a0202fda",
   "metadata": {},
   "source": [
    "#### 9-1. Restaurant: Make a class called Restaurant. The __init__() method for Restaurant should store two attributes: a restaurant_name and a cuisine_type.\n",
    "Make a method called describe_restaurant() that prints these two pieces of\n",
    "information, and a method called open_restaurant() that prints a message indicating that the restaurant is open.\n",
    "Make an instance called restaurant from your class. Print the two attributes individually, and then call both methods."
   ]
  },
  {
   "cell_type": "code",
   "execution_count": 15,
   "id": "83b3c9b2",
   "metadata": {},
   "outputs": [
    {
     "name": "stdout",
     "output_type": "stream",
     "text": [
      "Mama Mia Italian\n",
      "The Mama Mia is open.\n"
     ]
    }
   ],
   "source": [
    "#defining the class resturant to store the resturant_name and cuisine_type\n",
    "class Resturant:\n",
    "    #inintaizing the attributes resturant_name and cuisine_type\n",
    "    def __init__(self, restaurant_name, cuisine_type):\n",
    "        self.restaurant_name = restaurant_name\n",
    "        self.cuisine_type = cuisine_type\n",
    "    \n",
    "    #defining the method that prints the  resturant_name and cuisine_type \n",
    "    def describe_restaurant(self):\n",
    "        restaurant_details = f\"{self.restaurant_name} {self.cuisine_type}\"\n",
    "        return restaurant_details.title()\n",
    "    #defining the method that prints the message with the resturant name that it is open\n",
    "    def open_restaurant(self):\n",
    "        print(f\"The {self.restaurant_name} is open.\")\n",
    "\n",
    "#printing attributes\n",
    "restaurant = Resturant(\"Mama Mia\", \"Italian\")\n",
    "#calling both methods\n",
    "print(restaurant.describe_restaurant())\n",
    "restaurant.open_restaurant()\n",
    "        "
   ]
  },
  {
   "cell_type": "markdown",
   "id": "0d8e7ac6",
   "metadata": {},
   "source": [
    "#### 9-2. Three Restaurants: Start with your class from Exercise 9-1. \n",
    "Create three different instances from the class, and call describe_restaurant() for each instance"
   ]
  },
  {
   "cell_type": "code",
   "execution_count": 17,
   "id": "88f43c58",
   "metadata": {},
   "outputs": [
    {
     "name": "stdout",
     "output_type": "stream",
     "text": [
      "Mama Mia Italian\n",
      "Jimbo Thakali Nepali\n",
      "Chattamari Newari\n"
     ]
    }
   ],
   "source": [
    "#defining the class resturant to store the resturant_name and cuisine_type\n",
    "class Resturant:\n",
    "    #inintaizing the attributes resturant_name and cuisine_type\n",
    "    def __init__(self, restaurant_name, cuisine_type):\n",
    "        self.restaurant_name = restaurant_name\n",
    "        self.cuisine_type = cuisine_type\n",
    "     #defining the method that prints the  resturant_name and cuisine_type \n",
    "    def describe_restaurant(self):\n",
    "        restaurant_details = f\"{self.restaurant_name} {self.cuisine_type}\"\n",
    "        return restaurant_details.title()\n",
    "    \n",
    "    \n",
    "    #printing the result and calling methods\n",
    "restaurant = Resturant(\"Mama Mia\", \"Italian\")\n",
    "restaurant1 = Resturant(\"Jimbo Thakali\", \"Nepali\")\n",
    "restaurant2 = Resturant(\"Chattamari\", \"Newari\")\n",
    "print(restaurant.describe_restaurant())\n",
    "print(restaurant1.describe_restaurant())\n",
    "print(restaurant2.describe_restaurant())"
   ]
  },
  {
   "cell_type": "markdown",
   "id": "282307c6",
   "metadata": {},
   "source": [
    "#### 9-3. Users: Make a class called User. Create two attributes called first_name\n",
    "and last_name, and then create several other attributes that are typically stored\n",
    "in a user profile. Make a method called describe_user() that prints a summary\n",
    "of the user’s information. Make another method called greet_user() that prints\n",
    "a personalized greeting to the user.\n",
    "Create several instances representing different users, and call both methods\n",
    "for each user.                                                                                     "
   ]
  },
  {
   "cell_type": "code",
   "execution_count": 23,
   "id": "913ce796",
   "metadata": {},
   "outputs": [
    {
     "name": "stdout",
     "output_type": "stream",
     "text": [
      "The username is Sadhana Dahal the contact is saddal@gmail.com and +187635752 .\n",
      "The username is Uma Maheshwori the contact is umamah@gmail.com and +19728963 .\n",
      "The username is Abee Adhikari the contact is asb356@gmail.com and +16253781 .\n",
      "The username is Prateek Khadka the contact is khapar25l@gmail.com and +12651251 .\n",
      " Good morning Sadhana Dahal\n",
      " Good morning Uma Maheshwori\n",
      " Good morning Abee Adhikari\n",
      " Good morning Prateek Khadka\n"
     ]
    }
   ],
   "source": [
    "#defining the User Class\n",
    "class User:\n",
    "     #inintaizing the attributes first_name, last_name, email, phone_no\n",
    "    def __init__(self, first_name, last_name, email, phone_no):\n",
    "        self.first_name = first_name\n",
    "        self.last_name = last_name\n",
    "        self.email = email\n",
    "        self.phone_no = phone_no\n",
    "        \n",
    "    #methods to decribe the user by all its inofrmation\n",
    "    def describe_user(self):\n",
    "        print(f\"The username is {self.first_name} {self.last_name} the contact is {self.email} and {self.phone_no} .\")\n",
    "        \n",
    "    #methods to greeting the user using its firts name and last name\n",
    "    def greet_user(self):\n",
    "        print(f\" Good morning {self.first_name} {self.last_name}\")\n",
    "# Creating instances of the User class       \n",
    "user = User(\"Sadhana\", \"Dahal\", \"saddal@gmail.com\", \"+187635752\")\n",
    "user1 = User(\"Uma\", \"Maheshwori\", \"umamah@gmail.com\", \"+19728963\")\n",
    "user2 = User(\"Abee\", \"Adhikari\", \"asb356@gmail.com\", \"+16253781\")\n",
    "user3 = User(\"Prateek\", \"Khadka\", \"khapar25l@gmail.com\", \"+12651251\")\n",
    "\n",
    "\n",
    "#printing the description of user\n",
    "user.describe_user()\n",
    "user1.describe_user()\n",
    "user2.describe_user()\n",
    "user3.describe_user()\n",
    "\n",
    "#prinitng the greeting for user with its first_name and last_name\n",
    "user.greet_user()\n",
    "user1.greet_user()\n",
    "user2.greet_user()\n",
    "user3.greet_user()"
   ]
  },
  {
   "cell_type": "markdown",
   "id": "bdf833e8",
   "metadata": {},
   "source": [
    "#### Write a method that updates the odometer in the following code and then instantiate an object and test your newly added method. "
   ]
  },
  {
   "cell_type": "code",
   "execution_count": 46,
   "id": "3c62163a",
   "metadata": {},
   "outputs": [
    {
     "name": "stdout",
     "output_type": "stream",
     "text": [
      "2019 Audi A4\n",
      "This cars has 0 miles on it.\n",
      "This cars has 40 miles on it.\n",
      "Increament value of odometer : 60\n"
     ]
    }
   ],
   "source": [
    "class Car:\n",
    "    #initializing attributes to describe th car like: make, model, year, odometer_reading\n",
    "    def __init__(self, make, model, year):\n",
    "        self.make= make\n",
    "        self.model = model\n",
    "        self.year = year\n",
    "        self.odometer_reading = 0\n",
    "        \n",
    "     #method for decripption of the car   \n",
    "    def get_descriptive_name(self):\n",
    "        long_name = f\"{self.year} {self.make} {self.model}\"\n",
    "        return long_name.title()\n",
    "    \n",
    "    #method to read the odometer\n",
    "    def read_odometer(self):\n",
    "        print(f\"This cars has {self.odometer_reading} miles on it.\")\n",
    "        \n",
    "    #method the odometer with attribute called miles\n",
    "    def increment_odometer(self, miles):\n",
    "        \"\"\"Add the given amount to the odometer reading.\"\"\"\n",
    "        self.odometer_reading += miles   \n",
    "\n",
    "        #calling and prinitng all the function\n",
    "my_new_car = Car('Audi','a4', 2019)\n",
    "print(my_new_car.get_descriptive_name())\n",
    "my_new_car.read_odometer()\n",
    "my_new_car.odometer_reading = 40\n",
    "my_new_car.read_odometer()\n",
    "\n",
    "#increasing the value of the odometer and printing itS\n",
    "my_new_car.increment_odometer(20)\n",
    "print(\"Increament value of odometer :\", my_new_car.odometer_reading)"
   ]
  },
  {
   "cell_type": "markdown",
   "id": "4da2bb6e",
   "metadata": {},
   "source": [
    "#### 9-4. Number Served: Start with your program from Exercise 9-1 (page 162).\n",
    "Add an attribute called number_served with a default value of 0. Create an\n",
    "instance called restaurant from this class. Print the number of customers the\n",
    "restaurant has served, and then change this value and print it again.\n",
    "Add a method called set_number_served() that lets you set the number\n",
    "of customers that have been served. Call this method with a new number and\n",
    "print the value again.\n",
    "Add a method called increment_number_served() that lets you increment\n",
    "the number of customers who’ve been served. Call this method with any number you like that could represent how many customers were served in, say, a\n",
    "day of business."
   ]
  },
  {
   "cell_type": "code",
   "execution_count": 47,
   "id": "a85056f3",
   "metadata": {},
   "outputs": [
    {
     "name": "stdout",
     "output_type": "stream",
     "text": [
      "The number of customers that have been served is: 0 .\n",
      "The number of customers that have been served is: 120 .\n",
      "Number of customers served after incrementing: 170\n"
     ]
    }
   ],
   "source": [
    "#defining the Resturant class\n",
    "class Resturant:\n",
    "    #inintaizing the attributes resturant_name and cuisine_typ\n",
    "    def __init__(self, restaurant_name, cuisine_type):\n",
    "        self.restaurant_name = restaurant_name\n",
    "        self.cuisine_type = cuisine_type\n",
    "        self.number_served = 0\n",
    "    #defining the function called set_number_served() that lets you set the number of customers that have been served  \n",
    "    def set_number_served(self):\n",
    "        print(f\"The number of customers that have been served is: {self.number_served} .\")\n",
    "    \n",
    "    #defining the function increment_number_served() that lets you increment the number of customers who’ve been served\n",
    "    def increment_number_served(self, increment):\n",
    "        self.number_served += increment   \n",
    "\n",
    "    #printing the information\n",
    "restaurant = Resturant(\"Mama Mia\", \"Italian\")\n",
    "restaurant.set_number_served()\n",
    "restaurant.number_served = 120\n",
    "restaurant.set_number_served()\n",
    "\n",
    "# Using the increment_number_served() method to increment the number served\n",
    "restaurant.increment_number_served(50)\n",
    "print(\"Number of customers served after incrementing:\", restaurant.number_served)"
   ]
  },
  {
   "cell_type": "markdown",
   "id": "d05f482c",
   "metadata": {},
   "source": [
    "#### 9-5. Login Attempts: Add an attribute called login_attempts to your User\n",
    "class from Exercise 9-3 (page 162). Write a method called increment_login\n",
    "_attempts() that increments the value of login_attempts by 1. Write another\n",
    "method called reset_login_attempts() that resets the value of login_attempts\n",
    "to 0.\n",
    "Make an instance of the User class and call increment_login_attempts()\n",
    "several times. Print the value of login_attempts to make sure it was incremented\n",
    "properly, and then call reset_login_attempts(). Print login_attempts again to\n",
    "make sure it was reset to 0."
   ]
  },
  {
   "cell_type": "code",
   "execution_count": 48,
   "id": "4203060c",
   "metadata": {},
   "outputs": [
    {
     "name": "stdout",
     "output_type": "stream",
     "text": [
      "The username is Sadhana Dahal, the contact is saddal@gmail.com, and +187635752.\n",
      "The username is Uma Maheshwori, the contact is umamah@gmail.com, and +19728963.\n",
      "The username is Abee Adhikari, the contact is asb356@gmail.com, and +16253781.\n",
      "The username is Prateek Khadka, the contact is khapar25l@gmail.com, and +12651251.\n",
      "Good morning Sadhana Dahal\n",
      "Good morning Uma Maheshwori\n",
      "Good morning Abee Adhikari\n",
      "Good morning Prateek Khadka\n",
      "Login Attempts for user: 1\n",
      "Login Attempts for user: 2\n",
      "Login Attempts for user: 1\n",
      "Login Attempts for user: 1\n",
      "Login Attempts for user  after reset: 0\n",
      "Login Attempts for user1 after reset: 0\n",
      "Login Attempts for user2 after reset: 0\n",
      "Login Attempts for user3 after reset: 0\n"
     ]
    }
   ],
   "source": [
    "class User:\n",
    "    #inintaizing the attributes first_name, last_name, email, phone_no, login_attempts\n",
    "    def __init__(self, first_name, last_name, email, phone_no):\n",
    "        self.first_name = first_name\n",
    "        self.last_name = last_name\n",
    "        self.email = email\n",
    "        self.phone_no = phone_no\n",
    "        self.login_attempts = 0\n",
    "      \n",
    "     #methods to decribe the user by all its inofrmation\n",
    "    def describe_user(self):\n",
    "        print(f\"The username is {self.first_name} {self.last_name}, the contact is {self.email}, and {self.phone_no}.\")\n",
    "    \n",
    "    #methods to greeting the user using its firts name and last name   \n",
    "    def greet_user(self):\n",
    "        print(f\"Good morning {self.first_name} {self.last_name}\")\n",
    "     \n",
    "     #methods to increment the login attempts\n",
    "    def increment_login_attempts(self):\n",
    "        self.login_attempts += 1\n",
    "    \n",
    "       #methods to reset the login attempts  \n",
    "    def reset_login_attempts(self):\n",
    "        self.login_attempts = 0\n",
    "\n",
    "# Creating instances of the User class\n",
    "user = User(\"Sadhana\", \"Dahal\", \"saddal@gmail.com\", \"+187635752\")\n",
    "user1 = User(\"Uma\", \"Maheshwori\", \"umamah@gmail.com\", \"+19728963\")\n",
    "user2 = User(\"Abee\", \"Adhikari\", \"asb356@gmail.com\", \"+16253781\")\n",
    "user3 = User(\"Prateek\", \"Khadka\", \"khapar25l@gmail.com\", \"+12651251\")\n",
    "\n",
    "# Calling the describe_user method for each user\n",
    "user.describe_user()\n",
    "user1.describe_user()\n",
    "user2.describe_user()\n",
    "user3.describe_user()\n",
    "\n",
    "# Calling the greet_user method for each user\n",
    "user.greet_user()\n",
    "user1.greet_user()\n",
    "user2.greet_user()\n",
    "user3.greet_user()\n",
    "\n",
    "# Incrementing login attempts for users\n",
    "user.increment_login_attempts()\n",
    "user1.increment_login_attempts()\n",
    "user1.increment_login_attempts()\n",
    "user2.increment_login_attempts()\n",
    "user3.increment_login_attempts()\n",
    "\n",
    "# Printing the value of login_attempts for users\n",
    "print(f\"Login Attempts for user: {user.login_attempts}\")\n",
    "print(f\"Login Attempts for user: {user1.login_attempts}\")\n",
    "print(f\"Login Attempts for user: {user2.login_attempts}\")\n",
    "print(f\"Login Attempts for user: {user3.login_attempts}\")\n",
    "\n",
    "# Resetting login_attempts for users\n",
    "user.reset_login_attempts()\n",
    "user1.reset_login_attempts()\n",
    "user2.reset_login_attempts()\n",
    "user3.reset_login_attempts()\n",
    "\n",
    "# Printing the value of login_attempts for user after resetting\n",
    "print(f\"Login Attempts for user  after reset: {user.login_attempts}\")\n",
    "print(f\"Login Attempts for user1 after reset: {user1.login_attempts}\")\n",
    "print(f\"Login Attempts for user2 after reset: {user2.login_attempts}\")\n",
    "print(f\"Login Attempts for user3 after reset: {user3.login_attempts}\")"
   ]
  }
 ],
 "metadata": {
  "kernelspec": {
   "display_name": "Python 3 (ipykernel)",
   "language": "python",
   "name": "python3"
  },
  "language_info": {
   "codemirror_mode": {
    "name": "ipython",
    "version": 3
   },
   "file_extension": ".py",
   "mimetype": "text/x-python",
   "name": "python",
   "nbconvert_exporter": "python",
   "pygments_lexer": "ipython3",
   "version": "3.11.5"
  }
 },
 "nbformat": 4,
 "nbformat_minor": 5
}
