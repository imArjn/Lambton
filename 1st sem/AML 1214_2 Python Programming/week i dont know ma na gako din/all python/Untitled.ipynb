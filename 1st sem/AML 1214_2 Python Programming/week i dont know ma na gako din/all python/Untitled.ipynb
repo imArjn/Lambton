{
 "cells": [
  {
   "cell_type": "code",
   "execution_count": 6,
   "id": "60348b22",
   "metadata": {},
   "outputs": [
    {
     "name": "stdout",
     "output_type": "stream",
     "text": [
      "2024-04-06\n",
      "6\n"
     ]
    }
   ],
   "source": [
    "from datetime import date\n",
    "print(date.today())\n",
    "print(date.today().strftime(\"%w\"))"
   ]
  },
  {
   "cell_type": "code",
   "execution_count": 9,
   "id": "f2a505e8",
   "metadata": {},
   "outputs": [
    {
     "name": "stdout",
     "output_type": "stream",
     "text": [
      "The date of today is: 2024-04-06\n",
      "the day of week is: 6\n"
     ]
    }
   ],
   "source": [
    "#elaborate this function\n",
    "from datetime import date\n",
    "\n",
    "today_date = date.today()\n",
    "\n",
    "print(\"The date of today is:\", today_date)\n",
    "week_day = today_date.strftime('%w')\n",
    "print(\"The day of week is:\", week_day)"
   ]
  },
  {
   "cell_type": "code",
   "execution_count": null,
   "id": "d5512dd1",
   "metadata": {},
   "outputs": [],
   "source": []
  }
 ],
 "metadata": {
  "kernelspec": {
   "display_name": "Python 3 (ipykernel)",
   "language": "python",
   "name": "python3"
  },
  "language_info": {
   "codemirror_mode": {
    "name": "ipython",
    "version": 3
   },
   "file_extension": ".py",
   "mimetype": "text/x-python",
   "name": "python",
   "nbconvert_exporter": "python",
   "pygments_lexer": "ipython3",
   "version": "3.11.5"
  }
 },
 "nbformat": 4,
 "nbformat_minor": 5
}
