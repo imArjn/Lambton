{
 "cells": [
  {
   "cell_type": "markdown",
   "metadata": {},
   "source": [
    "## 9.1"
   ]
  },
  {
   "cell_type": "code",
   "execution_count": 6,
   "metadata": {},
   "outputs": [
    {
     "name": "stdout",
     "output_type": "stream",
     "text": [
      "Hello MOMO LAND servers VEG MOMO\n",
      "Hey, we MOMO LAND is ready to serve\n"
     ]
    }
   ],
   "source": [
    "class Restruant:\n",
    "    # resturant attributes initialization\n",
    "    def __init__(self, restruant_name : str, cusine_type : str) -> None:\n",
    "        self.restruant_name = restruant_name\n",
    "        self.cuisine_type = cusine_type\n",
    "    \n",
    "\n",
    "    def describe_restaurant(self):\n",
    "        \"\"\"Method to describe a restaurant\"\"\"\n",
    "        print(f\"Hello {self.restruant_name} servers {self.cuisine_type}\")\n",
    "    \n",
    "    def open_restaurant(self):\n",
    "        \"\"\"Method to open greet message\"\"\"\n",
    "        print(f\"Hey, we {self.restruant_name} is ready to serve\")\n",
    "\n",
    "    \n",
    "\n",
    "if __name__ == \"__main__\":\n",
    "    ## 9.1\n",
    "    # define instance 1\n",
    "    instance_1 = Restruant(restruant_name=\"MOMO LAND\", cusine_type=\"VEG MOMO\")\n",
    "    instance_1.describe_restaurant()\n",
    "    instance_1.open_restaurant()\n",
    "\n",
    " \n",
    "\n",
    "    \n"
   ]
  },
  {
   "cell_type": "code",
   "execution_count": 7,
   "metadata": {},
   "outputs": [
    {
     "name": "stdout",
     "output_type": "stream",
     "text": [
      "Hello Lumbini Tandoori servers NAN\n",
      "Hey, we Lumbini Tandoori is ready to serve\n",
      "Hello AANTARDRISTI servers WAFFLE\n",
      "Hey, we AANTARDRISTI is ready to serve\n"
     ]
    }
   ],
   "source": [
    "## 9.2\n",
    "# define instance 2\n",
    "instance_2 = Restruant(restruant_name=\"Lumbini Tandoori\", cusine_type=\"NAN\")    \n",
    "instance_2.describe_restaurant()\n",
    "instance_2.open_restaurant()\n",
    "\n",
    "# define instance 3\n",
    "instance_3 = Restruant(restruant_name=\"AANTARDRISTI\", cusine_type=\"WAFFLE\")    \n",
    "instance_3.describe_restaurant()\n",
    "instance_3.open_restaurant()"
   ]
  },
  {
   "cell_type": "markdown",
   "metadata": {},
   "source": [
    "## 9.2"
   ]
  },
  {
   "cell_type": "code",
   "execution_count": 2,
   "metadata": {},
   "outputs": [
    {
     "name": "stdout",
     "output_type": "stream",
     "text": [
      "User: Rajan Ghimire is 30.\n",
      "Rajan Ghimire your email : rajan@example.com is listed in a data breach.\n",
      "Hello, Rajan! Hows goinng on\n",
      "User: Prajwal Mishra is 25.\n",
      "Prajwal Mishra your email : prajwal@example.com is listed in a data breach.\n",
      "Hello, Prajwal! Hows goinng on\n",
      "User: Sishir Luitel is 22.\n",
      "Sishir Luitel your email : sishir@example.com is listed in a data breach.\n",
      "Hello, Sishir! Hows goinng on\n"
     ]
    }
   ],
   "source": [
    "class User:\n",
    "    def __init__(self, first_name: str, last_name: str, age : int, email: str):\n",
    "        self.first_name : str = first_name\n",
    "        self.last_name : str = last_name\n",
    "        self.age : int = age\n",
    "        self.email : str= email\n",
    "\n",
    "    def describe_user(self):\n",
    "        \"\"\"Print the user info\"\"\"\n",
    "        print(f\"User: {self.first_name} {self.last_name} is {self.age}.\")\n",
    "        print(f\"{self.first_name} {self.last_name} your email : {self.email} is listed in a data breach.\")\n",
    "\n",
    "    def greet_user(self):\n",
    "        \"\"\"Print a message\"\"\"\n",
    "        print(f\"Hello, {self.first_name}! Hows goinng on\")\n",
    "\n",
    "# Creating user name with different instnacess\n",
    "user1 = User(\"Rajan\", \"Ghimire\", 30, \"rajan@example.com\")\n",
    "user2 = User(\"Prajwal\", \"Mishra\", 25, \"prajwal@example.com\")\n",
    "user3 = User(\"Sishir\", \"Luitel\", 22, \"sishir@example.com\")\n",
    "\n",
    "# call user info for 1\n",
    "user1.describe_user()\n",
    "user1.greet_user()\n",
    "\n",
    "# call user info for 2\n",
    "user2.describe_user()\n",
    "user2.greet_user()\n",
    "\n",
    "# call user info for 3\n",
    "user3.describe_user()\n",
    "user3.greet_user()\n"
   ]
  },
  {
   "cell_type": "markdown",
   "metadata": {},
   "source": [
    "### Write a method that updates the odometer in the following code and then instantiate an object and test your newly added method."
   ]
  },
  {
   "cell_type": "code",
   "execution_count": 4,
   "metadata": {},
   "outputs": [
    {
     "name": "stdout",
     "output_type": "stream",
     "text": [
      "20203 Bmw 9\n",
      "This car has 0 miles on it.\n",
      "This car has 123 miles on it.\n"
     ]
    }
   ],
   "source": [
    "class Car: \n",
    "    def __init__(self, make, model, year): \n",
    "        # initialize class attributes\n",
    "        self.make = make \n",
    "        self.model = model \n",
    "        self.year = year \n",
    "        self.odometer_reading = 0 \n",
    " \n",
    "    def get_descriptive_name(self): \n",
    "        # print user name\n",
    "        car_info = f\"{self.year} {self.make} {self.model}\" \n",
    "        return car_info.title()  # returnt the title case\n",
    " \n",
    "    def read_odometer(self): \n",
    "        # print the car's ododmeter\n",
    "        print(f\"This car has {self.odometer_reading} miles on it.\") \n",
    "    \n",
    "    def increment_odometer(self, miles):\n",
    "        # update odometer reading\n",
    "        # get positive miles onlyu\n",
    "        assert miles >= 0, \"Distance cannot be negative\"\n",
    "        self.odometer_reading += miles \n",
    " \n",
    "car_obj = Car('BMW', '9', 20203) \n",
    "print(car_obj.get_descriptive_name()) \n",
    "car_obj.read_odometer() \n",
    "\n",
    "# updating the car odometer reading\n",
    "car_obj.increment_odometer(123)\n",
    "car_obj.read_odometer()"
   ]
  },
  {
   "cell_type": "markdown",
   "metadata": {},
   "source": [
    "## 9-4"
   ]
  },
  {
   "cell_type": "code",
   "execution_count": 8,
   "metadata": {},
   "outputs": [],
   "source": [
    "class Restruant:\n",
    "    # resturant attributes initialization\n",
    "    def __init__(self, restruant_name : str, cusine_type : str, open : bool = True ) -> None:\n",
    "        self.restruant_name = restruant_name\n",
    "        self.cuisine_type = cusine_type\n",
    "\n",
    "        # sore open as boolean\n",
    "        self.open = open\n",
    "        # store the served amount\n",
    "        self.number_served = 0 \n",
    "\n",
    "\n",
    "    def describe_restaurant(self):\n",
    "        \"\"\"Method to describe a restaurant\"\"\"\n",
    "        print(f\"Hello {self.restruant_name} servers {self.cuisine_type}\")\n",
    "    \n",
    "\n",
    "    def open_restaurant(self):\n",
    "        if self.open:\n",
    "            print(\"This restaurant is open\")\n",
    "        else:\n",
    "            print(\"Sorry we are closed.\")\n",
    "\n",
    "    #set the number of customers served\n",
    "    def set_number_served(self, number_served):\n",
    "        self.number_served = number_served\n",
    "        return f\"The number served is set as {self.number_served} successfully !!\"\n",
    "\n",
    "    #add the number of customers served\n",
    "    def increment_number_served(self, number_served):\n",
    "        self.number_served += number_served\n",
    "        return f\"Number served has been increased by {number_served}, so now it's {self.number_served}\"\n"
   ]
  },
  {
   "cell_type": "code",
   "execution_count": 10,
   "metadata": {},
   "outputs": [
    {
     "name": "stdout",
     "output_type": "stream",
     "text": [
      "Hello Lumbini Tandoori servers NAN\n",
      "This restaurant is open !!\n",
      "This restaurant is closed, sorry !\n"
     ]
    },
    {
     "data": {
      "text/plain": [
       "\"Number served has been increased by 32, so now it's 64\""
      ]
     },
     "execution_count": 10,
     "metadata": {},
     "output_type": "execute_result"
    }
   ],
   "source": [
    "instance_2 = Restruant(restruant_name=\"Lumbini Tandoori\", cusine_type=\"NAN\")    \n",
    "instance_2.describe_restaurant()\n",
    "instance_2.open_restaurant()\n",
    "\n",
    "# update the open status \n",
    "instance_2.open = False\n",
    "instance_2.open_restaurant()\n",
    "\n",
    "# check the number of customers serverd.\n",
    "instance_2.set_number_served(32)\n",
    "instance_2.increment_number_served(32)\n",
    "\n"
   ]
  },
  {
   "cell_type": "markdown",
   "metadata": {},
   "source": [
    "## 9-5"
   ]
  },
  {
   "cell_type": "code",
   "execution_count": 11,
   "metadata": {},
   "outputs": [
    {
     "name": "stdout",
     "output_type": "stream",
     "text": [
      "User: Rajan Ghimire is 30.\n",
      "Rajan Ghimire your email : rajan@example.com is listed in a data breach.\n",
      "Hello, Rajan! Hows goinng on\n",
      "User: Prajwal Mishra is 25.\n",
      "Prajwal Mishra your email : prajwal@example.com is listed in a data breach.\n",
      "Hello, Prajwal! Hows goinng on\n",
      "User: Sishir Luitel is 22.\n",
      "Sishir Luitel your email : sishir@example.com is listed in a data breach.\n",
      "Hello, Sishir! Hows goinng on\n",
      "The login attempts for Rajan Ghimire has been successfully incremented to 1\n",
      "The login attempts for Prajwal Mishra has been successfully incremented to 1\n",
      "The login attempts for Sishir Luitel has been successfully incremented to 1\n",
      "The login attempts for Prajwal Mishra has been successfully incremented to 2\n",
      "The login attempts for Sishir Luitel has been successfully incremented to 2\n",
      "The login attempts for Rajan Ghimire has been reset to 0\n",
      "The login attempts for Prajwal Mishra has been reset to 0\n"
     ]
    }
   ],
   "source": [
    "class User:\n",
    "    def __init__(self, first_name: str, last_name: str, age : int, email: str):\n",
    "        self.first_name : str = first_name\n",
    "        self.last_name : str = last_name\n",
    "        self.age : int = age\n",
    "        self.email : str= email\n",
    "        self.login_attempts = 0\n",
    "\n",
    "    def describe_user(self):\n",
    "        \"\"\"Print the user info\"\"\"\n",
    "        print(f\"User: {self.first_name} {self.last_name} is {self.age}.\")\n",
    "        print(f\"{self.first_name} {self.last_name} your email : {self.email} is listed in a data breach.\")\n",
    "\n",
    "    def greet_user(self):\n",
    "        \"\"\"Print a message\"\"\"\n",
    "        print(f\"Hello, {self.first_name}! Hows goinng on\")\n",
    "    \n",
    "    def increment_login_attempts(self):\n",
    "        self.login_attempts += 1\n",
    "        print(f\"The login attempts for {self.first_name} {self.last_name} has been successfully incremented to {self.login_attempts}\")\n",
    "\n",
    "    def reset_login_attempts(self):\n",
    "        self.login_attempts = 0\n",
    "        print(f\"The login attempts for {self.first_name} {self.last_name} has been reset to {self.login_attempts}\")\n",
    "\n",
    "# Creating user name with different instnacess\n",
    "user1 = User(\"Rajan\", \"Ghimire\", 30, \"rajan@example.com\")\n",
    "user2 = User(\"Prajwal\", \"Mishra\", 25, \"prajwal@example.com\")\n",
    "user3 = User(\"Sishir\", \"Luitel\", 22, \"sishir@example.com\")\n",
    "\n",
    "# call user info for 1\n",
    "user1.describe_user()\n",
    "user1.greet_user()\n",
    "\n",
    "# call user info for 2\n",
    "user2.describe_user()\n",
    "user2.greet_user()\n",
    "\n",
    "# call user info for 3\n",
    "user3.describe_user()\n",
    "user3.greet_user()\n",
    "\n",
    "\n",
    "# Increase user login\n",
    "user1.increment_login_attempts()\n",
    "user2.increment_login_attempts()\n",
    "user3.increment_login_attempts()\n",
    "user2.increment_login_attempts()\n",
    "user3.increment_login_attempts()\n",
    "\n",
    "# Reset user login\n",
    "user1.reset_login_attempts()\n",
    "user2.reset_login_attempts()\n"
   ]
  }
 ],
 "metadata": {
  "kernelspec": {
   "display_name": "Python 3",
   "language": "python",
   "name": "python3"
  },
  "language_info": {
   "codemirror_mode": {
    "name": "ipython",
    "version": 3
   },
   "file_extension": ".py",
   "mimetype": "text/x-python",
   "name": "python",
   "nbconvert_exporter": "python",
   "pygments_lexer": "ipython3",
   "version": "3.11.5"
  }
 },
 "nbformat": 4,
 "nbformat_minor": 2
}
