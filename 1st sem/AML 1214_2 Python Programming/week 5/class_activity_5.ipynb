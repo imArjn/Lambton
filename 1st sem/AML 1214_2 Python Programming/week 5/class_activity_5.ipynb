{
 "cells": [
  {
   "cell_type": "markdown",
   "metadata": {},
   "source": [
    "##### 4-1. Pizzas: Think of at least three kinds of your favorite pizza. Store these pizza names in a list, and then use a for loop to print the name of each pizza.\n",
    "##### • Modify your for loop to print a sentence using the name of the pizza instead of printing just the name of the pizza. For each pizza you should have one line of output containing a simple statement like I like pepperoni pizza.\n",
    "##### • Add a line at the end of your program, outside the for loop, that states how much you like pizza. The output should consist of three or more lines about the kinds of pizza you like and then an additional sentence, such as I really love pizzal"
   ]
  },
  {
   "cell_type": "code",
   "execution_count": 2,
   "metadata": {},
   "outputs": [
    {
     "name": "stdout",
     "output_type": "stream",
     "text": [
      "Pepperoni\n",
      "Canadian\n",
      "Hawaiian\n",
      "I  really love Pepperoni pizza.\n",
      "I  really love Canadian pizza.\n",
      "I  really love Hawaiian pizza.\n",
      "I really like  Pepperoni pizza because it is my favorite.\n",
      "I like Canadian, but not as much as Hawaiian.\n",
      "I would love to eat pizza in class.\n"
     ]
    }
   ],
   "source": [
    "# creating the list for pizza holder\n",
    "pizza_list = [\"Pepperoni\",\"Canadian\",\"Hawaiian\"]\n",
    "\n",
    "#displaying the names using for loop\n",
    "for each in pizza_list:\n",
    "    print(each)\n",
    "    \n",
    "#displaying which pizza I like\n",
    "for each in pizza_list:\n",
    "    print(f\"I  really love {each} pizza.\")\n",
    "\n",
    "#printing extra lines of how much i like these pizza\n",
    "print(f\"I really like  {pizza_list[0]} pizza because it is my favorite.\")\n",
    "print(f\"I like {pizza_list[1]}, but not as much as {pizza_list[2]}.\")\n",
    "print(\"I would love to eat pizza in class.\")"
   ]
  },
  {
   "cell_type": "code",
   "execution_count": null,
   "metadata": {},
   "outputs": [],
   "source": []
  }
 ],
 "metadata": {
  "kernelspec": {
   "display_name": "Python 3",
   "language": "python",
   "name": "python3"
  },
  "language_info": {
   "codemirror_mode": {
    "name": "ipython",
    "version": 3
   },
   "file_extension": ".py",
   "mimetype": "text/x-python",
   "name": "python",
   "nbconvert_exporter": "python",
   "pygments_lexer": "ipython3",
   "version": "3.11.1"
  }
 },
 "nbformat": 4,
 "nbformat_minor": 2
}
