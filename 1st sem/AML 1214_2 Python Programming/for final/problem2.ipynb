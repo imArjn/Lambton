{
 "cells": [
  {
   "cell_type": "markdown",
   "metadata": {},
   "source": [
    "Objective: Create a simple number-guessing game that does the following:\n",
    "\n",
    "\n",
    "\n",
    "       The program generates a random number between 1 and 20 (inclusive).\n",
    "\n",
    "       The player has to guess the number with hints provided after each guess.\n",
    "\n",
    "       The game gives feedback on whether the guess is too high, too low, or correct.\n",
    "\n",
    "       The game ends when the player guesses the correct number.\n",
    "\n",
    "Requirements:\n",
    "\n",
    "\n",
    "\n",
    "       Use the random module to generate a random number.\n",
    "\n",
    "       Use a while loop to allow the player to keep guessing.\n",
    "\n",
    "       Use if-elif-else statements to check the player's guess and give feedback.\n",
    "\n",
    "       Use the input function to get the player's guess.\n",
    "\n",
    "       The game should tell the player how many guesses they took when they guess correctly."
   ]
  },
  {
   "cell_type": "code",
   "execution_count": 1,
   "metadata": {},
   "outputs": [],
   "source": [
    "import random"
   ]
  },
  {
   "cell_type": "code",
   "execution_count": 10,
   "metadata": {},
   "outputs": [
    {
     "name": "stdout",
     "output_type": "stream",
     "text": [
      "Your guess 6 is too low!\n",
      "Your guess 10 is too low!\n",
      "Your guess 17 is too high!\n",
      "Your guess 14 is too low!\n",
      "Congratulations! You guessed the right number: 16 in 5 guesses\n"
     ]
    }
   ],
   "source": [
    "# taking random number for guessing using random module\n",
    "randomnumber = random.randint(1,20)\n",
    "# to count the number of guesses\n",
    "count=1\n",
    "# taking a input from the user\n",
    "user_input = int(input(\"Enter a number between  1 and 20: \"))\n",
    "# checking if the user input and randomnumber are equal or not using  while loop\n",
    "while  user_input != randomnumber : \n",
    "    # if the user input is higher than randomnumber  \n",
    "    if user_input > randomnumber:\n",
    "        print (f\"Your guess {user_input} is too high!\")\n",
    "        user_input = int(input(\"Please enter a lower number: \"))\n",
    "        # incrementing on the count\n",
    "        count += 1\n",
    "    else: # if the user input is lower than randomnumber\n",
    "        print (f\"Your guess {user_input} is too low!\")\n",
    "        user_input = int(input( \"Please enter a higher number:\" ))\n",
    "        # incrementation on the count\n",
    "        count += 1\n",
    "# breaking out of loop to display the result with the correct count on guesses\n",
    "print (f\"Congratulations! You guessed the right number: {user_input} in {count} guesses\")\n"
   ]
  },
  {
   "cell_type": "code",
   "execution_count": null,
   "metadata": {},
   "outputs": [],
   "source": []
  }
 ],
 "metadata": {
  "kernelspec": {
   "display_name": "Python 3",
   "language": "python",
   "name": "python3"
  },
  "language_info": {
   "codemirror_mode": {
    "name": "ipython",
    "version": 3
   },
   "file_extension": ".py",
   "mimetype": "text/x-python",
   "name": "python",
   "nbconvert_exporter": "python",
   "pygments_lexer": "ipython3",
   "version": "3.12.2"
  }
 },
 "nbformat": 4,
 "nbformat_minor": 2
}
