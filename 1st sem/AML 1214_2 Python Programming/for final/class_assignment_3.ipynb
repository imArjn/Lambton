{
 "cells": [
  {
   "cell_type": "markdown",
   "metadata": {},
   "source": [
    "### Class Assignment 3"
   ]
  },
  {
   "cell_type": "code",
   "execution_count": 1,
   "metadata": {},
   "outputs": [
    {
     "name": "stdout",
     "output_type": "stream",
     "text": [
      "I like Python\n",
      "I love Coding in Python\n"
     ]
    }
   ],
   "source": [
    "\"\"\"A program does 2 things:\n",
    "        1. This program takes the predefined message of the Variable and displays it to the user.\n",
    "        2. We change the existing variable and print out the new value, which is different from the original one.\n",
    "\"\"\"\n",
    "#assigning the variable\n",
    "message = \"I like Python\"\n",
    "#printing the variable\n",
    "print(message) \n",
    "\n",
    "\n",
    "#changing the message in  the variable\n",
    "message = \"I love Coding in Python\"\n",
    "#printing the new message using same variable \n",
    "print(message)\n"
   ]
  },
  {
   "cell_type": "code",
   "execution_count": 5,
   "metadata": {},
   "outputs": [
    {
     "name": "stdout",
     "output_type": "stream",
     "text": [
      "Hello Aarjeyan, Do you like Coding?\n"
     ]
    }
   ],
   "source": [
    "\"\"\"This program takes the variable as a person name and prints some message using the \n",
    "    variable\n",
    "\"\"\"\n",
    "#taking the variable to store person's name\n",
    "personName = \"Aarjeyan\"\n",
    "#Displaying the result using a variable\n",
    "print(\"Hello\", personName +\", Do you like Coding?\")\n"
   ]
  },
  {
   "cell_type": "code",
   "execution_count": 9,
   "metadata": {},
   "outputs": [
    {
     "name": "stdout",
     "output_type": "stream",
     "text": [
      "Name in Lower Case: aarjeyan\n",
      "Name in Upper Case: AARJEYAN\n",
      "Name in Upper Case: Aarjeyan\n"
     ]
    }
   ],
   "source": [
    "\"\"\"This program takes the variable as a person name and displays the same in lowercase\n",
    "    uppercase and title case.\n",
    "\"\"\"\n",
    "#taking the variable to store person's name\n",
    "personName = \"Aarjeyan\"\n",
    "\n",
    "#changing the person's name in lowercase and displaying it\n",
    "lowerCase = personName.lower()\n",
    "print(\"Name in Lower Case: \" + lowerCase)\n",
    "\n",
    "#changing the person's name in uppercase and displaying it\n",
    "upperCase = personName.upper()\n",
    "print(\"Name in Upper Case: \" + upperCase)\n",
    "\n",
    "#changing the person's name in titlecase and displaying it\n",
    "titleCase = personName.title()\n",
    "print(\"Name in Upper Case: \" + titleCase)\n",
    "\n"
   ]
  },
  {
   "cell_type": "code",
   "execution_count": 13,
   "metadata": {},
   "outputs": [
    {
     "name": "stdout",
     "output_type": "stream",
     "text": [
      "Albert Einstein once said, \"A person who never made a mistake never tried anyting new.\"\n"
     ]
    }
   ],
   "source": [
    "\"\"\"This program shows the name of a famous person and quote by that famous person.\n",
    "\"\"\"\n",
    "#taking the name of the famous person\n",
    "famousPerson = \"Albert Einstein\"\n",
    "\n",
    "#displaying the message\n",
    "print(famousPerson + ' once said, \"A person who never made a mistake never tried anyting new.\"')"
   ]
  },
  {
   "cell_type": "code",
   "execution_count": 12,
   "metadata": {},
   "outputs": [
    {
     "name": "stdout",
     "output_type": "stream",
     "text": [
      "Pablo Picasso once said, \"Every child is an artist, the problem is staying an artist when you grow up.\"\n"
     ]
    }
   ],
   "source": [
    "\"\"\"This program shows the name of a famous person and quote by that famous person \n",
    "    by concatenating them.\n",
    "\"\"\"\n",
    "#taking the name of the famous person\n",
    "famous_person = \"Pablo Picasso\"\n",
    "\n",
    "#taking the quote by that famous person\n",
    "message = \"Every child is an artist, the problem is staying an artist when you grow up\"\n",
    "\n",
    "#displaying the message\n",
    "print(famous_person + \" once said, \" + '\"' + message +'.\"')"
   ]
  },
  {
   "cell_type": "code",
   "execution_count": 33,
   "metadata": {},
   "outputs": [
    {
     "name": "stdout",
     "output_type": "stream",
     "text": [
      "\tMickey \n",
      "Hamal \n",
      "Output using lstrip():Mickey \n",
      "Hamal is his name.\n",
      "\n",
      "Output  using rstrip():\tMickey \n",
      "Hamalis his name.\n",
      "\n",
      "Output using strip():\n",
      "Mickey \n",
      "Hamalis his name.\n",
      "\n"
     ]
    }
   ],
   "source": [
    "\"\"\"This program takes the person's name and prints the name using the different \n",
    "    stripping function lstrip(), rstrip(), strip()\n",
    "\"\"\"\n",
    "#taking the name of a person\n",
    "personName = \"\\tMickey \\nHamal \"\n",
    "print(personName)\n",
    "\n",
    "#using lstrip function to remove leading whitespaces\n",
    "print(\"Output using lstrip():\" + personName.lstrip() + \"is his name.\\n\") \n",
    "\n",
    "#usin rstrip funciton to remove trailing whitespaces\n",
    "print(\"Output  using rstrip():\" + personName.rstrip() + \"is his name.\\n\") \n",
    "\n",
    "#Using strip() function to remove both leading and trailing whitespaces\n",
    "print(\"Output using strip():\\n\" + personName.strip() + \"is his name.\\n\")  "
   ]
  },
  {
   "cell_type": "code",
   "execution_count": 30,
   "metadata": {},
   "outputs": [
    {
     "name": "stdout",
     "output_type": "stream",
     "text": [
      "8\n",
      "8\n",
      "8\n",
      "8\n"
     ]
    }
   ],
   "source": [
    "\"\"\"This code shows the addition, substraction, multiplication and division operations \n",
    "    that each result in the number 8\n",
    "\"\"\"\n",
    "#using the + operator to get result 8\n",
    "print(5+3)\n",
    "\n",
    "#using the - operator to get result 8\n",
    "print(10-2)\n",
    "\n",
    "#using the * operator to get result 8\n",
    "print(4*2)\n",
    "\n",
    "#using the / operator to get result 8\n",
    "print(int(16/2))"
   ]
  },
  {
   "cell_type": "code",
   "execution_count": 32,
   "metadata": {},
   "outputs": [
    {
     "name": "stdout",
     "output_type": "stream",
     "text": [
      "My favorite number is 288\n"
     ]
    }
   ],
   "source": [
    "\"\"\"This code takes the favorite number in a variable and displays the favorite number in\n",
    "a message.\n",
    "\"\"\"\n",
    "#taking a variable for the favorite number\n",
    "favoriteNumber = 288\n",
    "\n",
    "#displaying the favorite number\n",
    "print(\"My favorite number is\", str(favoriteNumber))\n"
   ]
  },
  {
   "cell_type": "code",
   "execution_count": null,
   "metadata": {},
   "outputs": [],
   "source": []
  }
 ],
 "metadata": {
  "kernelspec": {
   "display_name": "Python 3",
   "language": "python",
   "name": "python3"
  },
  "language_info": {
   "codemirror_mode": {
    "name": "ipython",
    "version": 3
   },
   "file_extension": ".py",
   "mimetype": "text/x-python",
   "name": "python",
   "nbconvert_exporter": "python",
   "pygments_lexer": "ipython3",
   "version": "3.11.1"
  }
 },
 "nbformat": 4,
 "nbformat_minor": 2
}
