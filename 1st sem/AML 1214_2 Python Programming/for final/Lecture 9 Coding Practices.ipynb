{
 "cells": [
  {
   "cell_type": "markdown",
   "id": "e81c7daf",
   "metadata": {},
   "source": [
    "#### 1. Use the datetime module to write a program that gets the current date and prints the day of the week.\n"
   ]
  },
  {
   "cell_type": "code",
   "execution_count": 20,
   "id": "ec9d1454",
   "metadata": {},
   "outputs": [
    {
     "name": "stdout",
     "output_type": "stream",
     "text": [
      "Today's date is 2024-03-19\n",
      "2\n"
     ]
    }
   ],
   "source": [
    "#importing date from datetime library\n",
    "from datetime import date\n",
    " \n",
    "#initilzing the variable as today and setting the value as date.today()\n",
    "today = date.today()\n",
    "#printing the current sate\n",
    "print(\"Today's date is\", today)\n",
    "#printing the days of the week\n",
    "print(today.strftime('%w'))"
   ]
  },
  {
   "cell_type": "markdown",
   "id": "abc31711",
   "metadata": {},
   "source": [
    "#### 2. Write a program that takes a birthday of user as input and prints the user’s age and the number of days, hours, minutes and seconds until their next birthday."
   ]
  },
  {
   "cell_type": "code",
   "execution_count": 21,
   "id": "d177f31c",
   "metadata": {},
   "outputs": [
    {
     "name": "stdout",
     "output_type": "stream",
     "text": [
      "Enter your birthday in format (YYYY-MM-DD): 2000-05-12\n",
      "Your age is: 23\n",
      "Time until your next birthday: 53 days, 4:38:59.993367\n"
     ]
    }
   ],
   "source": [
    "#importing date from datetime library\n",
    "from datetime import datetime\n",
    "\n",
    "#definig the function for the number of days, hours, minutes and seconds until next birthday\n",
    "def get_next_birthday(birthday):\n",
    "    # Getting the current date\n",
    "    today = datetime.now()\n",
    "    \n",
    "    # Calculating next birthday for the current year\n",
    "    next_birthday = datetime(today.year, birthday.month, birthday.day)\n",
    "    \n",
    "    # If next birthday has already passed this year, calculating for the next year\n",
    "    if next_birthday < today:\n",
    "        next_birthday = datetime(today.year + 1, birthday.month, birthday.day)\n",
    "    \n",
    "    return next_birthday\n",
    "\n",
    "# Asking user to imput their birthday\n",
    "birthday_input = input(\"Enter your birthday in format (YYYY-MM-DD): \")\n",
    "birthday = datetime.strptime(birthday_input, \"%Y-%m-%d\")\n",
    "\n",
    "# Calculating the age of the user from today's date to get answer in \n",
    "today = datetime.now()\n",
    "age = today.year - birthday.year - ((today.month, today.day) < (birthday.month, birthday.day))\n",
    "\n",
    "# Calculate time until next birthday\n",
    "next_birthday = get_next_birthday(birthday)\n",
    "time_until_birthday = next_birthday - today\n",
    "\n",
    "# Print results\n",
    "print(\"Your age is:\", age)\n",
    "print(\"Time until your next birthday:\", time_until_birthday)\n"
   ]
  },
  {
   "cell_type": "markdown",
   "id": "7dbae6bd",
   "metadata": {},
   "source": [
    "#### 3. Write a program that takes birthday of a person and calculates the total number of seconds they have been living in epoch time"
   ]
  },
  {
   "cell_type": "code",
   "execution_count": 22,
   "id": "88740026",
   "metadata": {},
   "outputs": [
    {
     "name": "stdout",
     "output_type": "stream",
     "text": [
      "Enter your birthday in format (YYYY-MM-DD): 2000-05-12\n",
      "Total seconds lived since epoch: 958089600\n"
     ]
    }
   ],
   "source": [
    "#importing date from datetime library\n",
    "from datetime import datetime\n",
    "\n",
    "#defining a function to calulate no of seconds till now from birthday\n",
    "def calculate_seconds(birthday):\n",
    "    # Getting the epoch start time using the utc (Universal Time) stamp\n",
    "    epoch_start = datetime.utcfromtimestamp(0)\n",
    "    \n",
    "    # Calculating the total seconds lived by subtracting the birthday from the current time\n",
    "    seconds_lived = (birthday - epoch_start).total_seconds()\n",
    "    \n",
    "    return seconds_lived\n",
    "\n",
    "#Asking user to input birthday\n",
    "birthday_input = input(\"Enter your birthday in format (YYYY-MM-DD): \")\n",
    "#Changing the time format using the strptime() to calcuate\n",
    "birthday = datetime.strptime(birthday_input, \"%Y-%m-%d\")\n",
    "\n",
    "# Calculating total seconds lived\n",
    "seconds_lived = calculate_seconds(birthday)\n",
    "\n",
    "# Printing  results\n",
    "print(\"Total seconds lived since epoch:\", int(seconds_lived))\n"
   ]
  },
  {
   "cell_type": "markdown",
   "id": "ead8d691",
   "metadata": {},
   "source": [
    "#### 4. Write a Python program to print the date for yesterday, today, and tomorrow."
   ]
  },
  {
   "cell_type": "code",
   "execution_count": 23,
   "id": "cc3c80bc",
   "metadata": {},
   "outputs": [
    {
     "name": "stdout",
     "output_type": "stream",
     "text": [
      "Yesterday's date: 2024-03-18\n",
      "Today's date: 2024-03-19\n",
      "Tomorrow's date: 2024-03-20\n"
     ]
    }
   ],
   "source": [
    "#importing date from datetime library\n",
    "from datetime import datetime, timedelta\n",
    "\n",
    "def print_dates():\n",
    "    # Getting the today's date\n",
    "    today = datetime.now().date()\n",
    "\n",
    "    # Calculating  yesterday and tomorrow's date using timedelta(days=x) to represent a duration of time\n",
    "    yesterday = today - timedelta(days=1) #today's date - 1day\n",
    "    tomorrow = today + timedelta(days=1) #today's date + 1day\n",
    "\n",
    "    # Printing the dates\n",
    "    print(\"Yesterday's date:\", yesterday)\n",
    "    print(\"Today's date:\", today)\n",
    "    print(\"Tomorrow's date:\", tomorrow)\n",
    "\n",
    "# Calling the function to print the dates\n",
    "print_dates()\n"
   ]
  }
 ],
 "metadata": {
  "kernelspec": {
   "display_name": "Python 3 (ipykernel)",
   "language": "python",
   "name": "python3"
  },
  "language_info": {
   "codemirror_mode": {
    "name": "ipython",
    "version": 3
   },
   "file_extension": ".py",
   "mimetype": "text/x-python",
   "name": "python",
   "nbconvert_exporter": "python",
   "pygments_lexer": "ipython3",
   "version": "3.11.5"
  }
 },
 "nbformat": 4,
 "nbformat_minor": 5
}
