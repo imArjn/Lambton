{
 "cells": [
  {
   "cell_type": "code",
   "execution_count": 1,
   "metadata": {},
   "outputs": [
    {
     "name": "stdout",
     "output_type": "stream",
     "text": [
      "Hey Prajwal, Could you please come to my dinner party. Thanks\n",
      "Hey Sudip, Could you please come to my dinner party. Thanks\n",
      "Hey Rajan, Could you please come to my dinner party. Thanks\n",
      "Hey Shishir, Could you please come to my dinner party. Thanks\n"
     ]
    }
   ],
   "source": [
    "\"\"\"\n",
    "3.4 This program prints the message to invite a person in the list\n",
    "\"\"\"\n",
    "dinner_invite = [\"Prajwal\",\"Sudip\",\"Rajan\",\"Shishir\"]\n",
    "for person in dinner_invite:\n",
    "    print(f\"Hey {person}, Could you please come to my dinner party. Thanks\")\n"
   ]
  },
  {
   "cell_type": "code",
   "execution_count": 2,
   "metadata": {},
   "outputs": [
    {
     "name": "stdout",
     "output_type": "stream",
     "text": [
      "Sudip could not make it\n",
      "Please come to the dinner party,  Prajwal\n",
      "Please come to the dinner party,  Rajan\n",
      "Please come to the dinner party,  Shishir\n",
      "Please come to the dinner party,  Hanuman\n"
     ]
    }
   ],
   "source": [
    "\"\"\"\n",
    "3.5 This program replaces the name of the guest and invite the new list \n",
    "of people and prints out a message to all invited guests.\n",
    "\"\"\"\n",
    "#displaying who could not make it\n",
    "print( dinner_invite[1] ,\"could not make it\" )\n",
    "\n",
    "#now removing the person who coulnot make it from the list\n",
    "dinner_invite.remove(\"Sudip\")\n",
    "\n",
    "#adding the new person in the list\n",
    "dinner_invite.append(\"Hanuman\")\n",
    "\n",
    "#Inviting all the person in the new list\n",
    "for each in dinner_invite:\n",
    "    print (\"Please come to the dinner party, \",each)"
   ]
  },
  {
   "cell_type": "code",
   "execution_count": 3,
   "metadata": {},
   "outputs": [
    {
     "name": "stdout",
     "output_type": "stream",
     "text": [
      "Till now we have these people for the party:\n",
      " ['Prajwal', 'Rajan', 'Shishir', 'Hanuman']\n",
      " Hey guys I'm going to buy a new large table!\n",
      "\n",
      "We added someone in the front seat.\n",
      "['Rameshwor', 'Prajwal', 'Rajan', 'Shishir', 'Hanuman']\n",
      "We added someone in the middle seat.\n",
      "['Rameshwor', 'Prajwal', 'Arjn', 'Rajan', 'Shishir', 'Hanuman']\n",
      "We added someone in the last seat.\n",
      "['Rameshwor', 'Prajwal', 'Arjn', 'Rajan', 'Shishir', 'Hanuman', 'Kera']\n",
      "Please come to the dinner party,  Rameshwor\n",
      "Please come to the dinner party,  Prajwal\n",
      "Please come to the dinner party,  Arjn\n",
      "Please come to the dinner party,  Rajan\n",
      "Please come to the dinner party,  Shishir\n",
      "Please come to the dinner party,  Hanuman\n",
      "Please come to the dinner party,  Kera\n"
     ]
    }
   ],
   "source": [
    "\"\"\"\n",
    "3.6 This program invites more people for the dinner using the same list as above\n",
    "and prints out a new list that contains only those who are invited to the dinner\n",
    "\"\"\"\n",
    "#list of people till now \n",
    "print(\"Till now we have these people for the party:\\n\",dinner_invite)\n",
    "\n",
    "#displaying that we got a bigger dinner table\n",
    "print(\" Hey guys I'm going to buy a new large table!\\n\")\n",
    "\n",
    "#adding the guest to the beginning of the list\n",
    "dinner_invite.insert(0,\"Rameshwor\")\n",
    "print(\"We added someone in the front seat.\")\n",
    "print(dinner_invite)\n",
    "\n",
    "#adding the guest to the middle of the list\n",
    "dinner_invite.insert((int(len(dinner_invite)/2)),\"Arjn\")\n",
    "print(\"We added someone in the middle seat.\")\n",
    "print(dinner_invite)\n",
    "\n",
    "#adding the new guest to the end of list\n",
    "dinner_invite.append(\"Kera\")\n",
    "print(\"We added someone in the last seat.\")\n",
    "print(dinner_invite)\n",
    "\n",
    "#Inviting all the person in the new list\n",
    "for each in dinner_invite:\n",
    "    print (\"Please come to the dinner party, \",each)\n",
    "    \n",
    "#copying the list into another list for program number 3.9\n",
    "guest = dinner_invite.copy()"
   ]
  },
  {
   "cell_type": "code",
   "execution_count": 4,
   "metadata": {},
   "outputs": [
    {
     "name": "stdout",
     "output_type": "stream",
     "text": [
      "Till now we have these people for the party:\n",
      " ['Rameshwor', 'Prajwal', 'Arjn', 'Rajan', 'Shishir', 'Hanuman', 'Kera']\n",
      "Sorry Kera I can't invite you to party\n",
      "Sorry Hanuman I can't invite you to party\n",
      "Sorry Shishir I can't invite you to party\n",
      "Sorry Rajan I can't invite you to party\n",
      "Sorry Arjn I can't invite you to party\n",
      "\n",
      "\n",
      "Hey Rameshwor, You are still invited to the party\n",
      "Hey Prajwal, You are still invited to the party\n",
      "[]\n"
     ]
    }
   ],
   "source": [
    "\"\"\"\n",
    "3.7 This program invites only two people from the above list and removes\n",
    "all other people from the list\n",
    "\"\"\"\n",
    "#list of people till now \n",
    "print(\"Till now we have these people for the party:\\n\",dinner_invite)\n",
    "\n",
    "#removing all the person till only 2 are left in the party using pop()\n",
    "count = len(dinner_invite)\n",
    "while  count > 2:\n",
    "    print(f\"Sorry {dinner_invite[-1]} I can't invite you to party\")\n",
    "    dinner_invite.pop()\n",
    "    count -= 1 \n",
    "print(\"\\n\")\n",
    "\n",
    "#displaying who are still invited\n",
    "for each in dinner_invite:\n",
    "    print (f\"Hey {each}, You are still invited to the party\")\n",
    "    \n",
    "#using del to remove all the person from the list\n",
    "del dinner_invite[:]\n",
    "print(dinner_invite)"
   ]
  },
  {
   "cell_type": "code",
   "execution_count": 5,
   "metadata": {},
   "outputs": [
    {
     "name": "stdout",
     "output_type": "stream",
     "text": [
      "Original List:  ['Paris', 'London', 'Tokyo', 'Niagra Falls', 'San Francisco']\n",
      "\n",
      " Printing in alphabetical order\n",
      "['London', 'Niagra Falls', 'Paris', 'San Francisco', 'Tokyo']\n",
      "Original is still not sorted ['Paris', 'London', 'Tokyo', 'Niagra Falls', 'San Francisco']\n",
      "\n",
      " Printing in reverse alphabetical order\n",
      "['Tokyo', 'San Francisco', 'Paris', 'Niagra Falls', 'London']\n",
      "Original is still not sorted ['Paris', 'London', 'Tokyo', 'Niagra Falls', 'San Francisco']\n",
      "\n",
      "List after using reverse(): \n",
      "['San Francisco', 'Niagra Falls', 'Tokyo', 'London', 'Paris']\n",
      "\n",
      "Again after using reverse() to change to original \n",
      "['Paris', 'London', 'Tokyo', 'Niagra Falls', 'San Francisco']\n",
      "\n",
      "The original list is now changed to alphabetical order\n",
      "['London', 'Niagra Falls', 'Paris', 'San Francisco', 'Tokyo']\n",
      "\n",
      "The original list is now changed to reverse alphabetical order\n",
      "['Tokyo', 'San Francisco', 'Paris', 'Niagra Falls', 'London']\n"
     ]
    }
   ],
   "source": [
    "\"\"\"\n",
    "3.8 this program does a lot of things \n",
    "\"\"\"\n",
    "#list of the place I want to visit\n",
    "places = [\"Paris\", \"London\", \"Tokyo\",\"Niagra Falls\",\"San Francisco\"]\n",
    "\n",
    "#displaying as it is\n",
    "print(\"Original List: \", places)\n",
    "\n",
    "#using sorted() to print in alphabetial order\n",
    "print(\"\\n Printing in alphabetical order\")\n",
    "print(sorted(places))\n",
    "\n",
    "#still in the original place\n",
    "print(\"Original is still not sorted\", places)\n",
    "\n",
    "#using sorted() to print in reverse alphabetical order\n",
    "print(\"\\n Printing in reverse alphabetical order\")\n",
    "print(sorted(places,reverse=True))\n",
    "\n",
    "#still in the original place\n",
    "print(\"Original is still not sorted\", places)\n",
    "\n",
    "#using reverse() to change the order of the list\n",
    "places.reverse()\n",
    "print(\"\\nList after using reverse(): \")\n",
    "print(places)\n",
    "\n",
    "#using reverse() to change the order again\n",
    "places.reverse()\n",
    "print(\"\\nAgain after using reverse() to change to original \")\n",
    "print(places)\n",
    "\n",
    "#using sort() to sort in alphabetical order and displaying\n",
    "places.sort()\n",
    "print(\"\\nThe original list is now changed to alphabetical order\")\n",
    "print(places)\n",
    "\n",
    "#using sort() to sort in reverse alphabetical order\n",
    "places.sort(reverse=True)\n",
    "print(\"\\nThe original list is now changed to reverse alphabetical order\")\n",
    "print(places)\n"
   ]
  },
  {
   "cell_type": "code",
   "execution_count": 6,
   "metadata": {},
   "outputs": [
    {
     "name": "stdout",
     "output_type": "stream",
     "text": [
      "['Rameshwor', 'Prajwal', 'Arjn', 'Rajan', 'Shishir', 'Hanuman', 'Kera']\n",
      "Number of People Invited: 7\n"
     ]
    }
   ],
   "source": [
    "\"\"\"\n",
    "3.9 This program shows the number of people invited to dinner .\n",
    "I am doing it for the program number 3.6\n",
    "\"\"\"\n",
    "#displaying who are invited in the party from exercise 3.6\n",
    "print(guest)\n",
    "\n",
    "#displaying the number of people I am inviting to dinner from exercise 3.6 \n",
    "num_invited = len(guest)\n",
    "print(\"Number of People Invited:\", num_invited)"
   ]
  },
  {
   "cell_type": "code",
   "execution_count": 7,
   "metadata": {},
   "outputs": [
    {
     "name": "stdout",
     "output_type": "stream",
     "text": [
      "\n",
      "After removing India from the list: ['Nepal', 'Canada', 'USA', 'Iran']\n",
      "\n",
      "After adding Bangladesh to the list: ['Nepal', 'Canada', 'USA', 'Iran', 'Bangladesh']\n",
      "\n",
      "After inserting Pakistan at index 2: ['Nepal', 'Canada', 'Pakistan', 'USA', 'Iran', 'Bangladesh']\n",
      "\n",
      "Country removed using pop(): Iran\n",
      "\n",
      "List after popping an item: ['Nepal', 'Canada', 'Pakistan', 'USA', 'Bangladesh']\n",
      "\n",
      "Countries sorted in Alphabetical Order using sort(): ['Bangladesh', 'Canada', 'Nepal', 'Pakistan', 'USA']\n",
      "\n",
      "Countries sorted in Reverse Alphabetical Order using reverse(): ['USA', 'Pakistan', 'Nepal', 'Canada', 'Bangladesh']\n",
      "\n",
      "The list after clearing all items: []\n"
     ]
    }
   ],
   "source": [
    "\"\"\"\n",
    "3.10 This program store a list of countries and uses each functions till now\n",
    "do\n",
    "\"\"\"\n",
    "#creating the list of countries\n",
    "countries = [\"Nepal\",\"Canada\",\"USA\",\"Iran\",\"India\"]\n",
    "\n",
    "#using remove() function\n",
    "countries.remove(\"India\")\n",
    "print(f\"\\nAfter removing India from the list: {countries}\")\n",
    "\n",
    "#using append() function to add new country\n",
    "countries.append(\"Bangladesh\")\n",
    "print(f\"\\nAfter adding Bangladesh to the list: {countries}\")\n",
    "\n",
    "#using insert() function to add new country\n",
    "countries.insert(2,\"Pakistan\") \n",
    "print(f\"\\nAfter inserting Pakistan at index 2: {countries}\")\n",
    "\n",
    "#using pop() function to remove element by its index\n",
    "country_removed = countries.pop(4) #removing Iran from the list\n",
    "print(f\"\\nCountry removed using pop(): {country_removed}\")\n",
    "print(f\"\\nList after popping an item: {countries}\")\n",
    "\n",
    "#using sort() and reverse() function to sort element\n",
    "countries.sort()\n",
    "print(f\"\\nCountries sorted in Alphabetical Order using sort(): {countries}\")\n",
    "\n",
    "countries.reverse()\n",
    "print(f\"\\nCountries sorted in Reverse Alphabetical Order using reverse(): {countries}\")\n",
    "\n",
    "#using clear() function to empty the entire list\n",
    "countries.clear()\n",
    "print(\"\\nThe list after clearing all items: {}\".format(countries))\n",
    "\n"
   ]
  },
  {
   "cell_type": "code",
   "execution_count": 8,
   "metadata": {},
   "outputs": [
    {
     "name": "stdout",
     "output_type": "stream",
     "text": [
      "Before changing all the values \n",
      "\n",
      "Reena Shaw taught us Data Science and Machine Learning\n",
      "Pouria Modaresi taught us Python Programming\n",
      "Linchen Wang taught us Careers in Artificial Intelligence and Machine Learning Canada\n",
      "Ashish Gupta taught us Introduction to Artificial Intelligence\n",
      "Mike Aleshams taught us Big Data Fundamental Data Storage Networking\n",
      "Ian Fox taught us Professional Communications\n",
      "\n",
      "After changing the value of one item\n",
      "\n",
      "Now Rajan teaches us Data Science and Machine Learning\n",
      "Now Pouria Modaresi teaches us Python Programming\n",
      "Now Linchen Wang teaches us Careers in Artificial Intelligence and Machine Learning Canada\n",
      "Now Ashish Gupta teaches us Introduction to Artificial Intelligence\n",
      "Now Mike Aleshams teaches us Big Data Fundamental Data Storage Networking\n",
      "Now Ian Fox teaches us Professional Communications\n"
     ]
    }
   ],
   "source": [
    "\"\"\"Dictionary Practices\n",
    "This program creates the dictionary of all the semester coursesa as a key\n",
    "and name of the instructors as the value\n",
    "Then it will replace the name of the instructor of one course and print the \n",
    "dictionary before and after the changeing the name of the instructor.\n",
    "\"\"\"\n",
    "#creating the dictionary of the semester courses:\n",
    "course_name={\"Data Science and Machine Learning\":\"Reena Shaw\",\"Python Programming\":\"Pouria Modaresi\",\"Careers in Artificial Intelligence and Machine Learning Canada\":\n",
    "    \"Linchen Wang\",\"Introduction to Artificial Intelligence\":\"Ashish Gupta\",\"Big Data Fundamental Data Storage Networking\":\"Mike Aleshams\",\"Professional Communications\":\"Ian Fox\"}\n",
    "\n",
    "#printing the value of the dictionary before changing any value\n",
    "print(\"Before changing all the values \\n\")\n",
    "for i,j in course_name.items():\n",
    "    print(f\"{j} taught us {i}\")\n",
    "\n",
    "#changing the name of one instructor\n",
    "course_name[\"Data Science and Machine Learning\"]= \"Rajan\"\n",
    "\n",
    "#displaying  the dictionary after changing the value of one item\n",
    "print(\"\\nAfter changing the value of one item\\n\")\n",
    "for i, j in course_name.items():\n",
    "    print(f\"Now {j} teaches us {i}\")\n",
    "    \n",
    "\n"
   ]
  },
  {
   "cell_type": "code",
   "execution_count": null,
   "metadata": {},
   "outputs": [],
   "source": []
  }
 ],
 "metadata": {
  "kernelspec": {
   "display_name": "Python 3",
   "language": "python",
   "name": "python3"
  },
  "language_info": {
   "codemirror_mode": {
    "name": "ipython",
    "version": 3
   },
   "file_extension": ".py",
   "mimetype": "text/x-python",
   "name": "python",
   "nbconvert_exporter": "python",
   "pygments_lexer": "ipython3",
   "version": "3.11.1"
  }
 },
 "nbformat": 4,
 "nbformat_minor": 2
}
