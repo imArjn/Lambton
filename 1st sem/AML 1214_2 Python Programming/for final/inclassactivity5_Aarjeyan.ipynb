{
 "cells": [
  {
   "cell_type": "markdown",
   "metadata": {},
   "source": [
    "Inclass activity 5\n",
    "\n",
    "4-1. Pizzas: Think of at least three kinds of your favorite pizza. Store these\n",
    "pizza names in a list, and then use a for loop to print the name of each pizza.\n",
    "\n",
    "• Modify your for loop to print a sentence using the name of the pizza\n",
    "instead of printing just the name of the pizza. For each pizza you should\n",
    "have one line of output containing a simple statement like I like pepperoni\n",
    "pizza.\n",
    "\n",
    "•Add a line at the end of your program, outside the for loop, that states\n",
    "how much you like pizza. The output should consist of three or more lines\n",
    "about the kinds of pizza you like and then an additional sentence, such as\n",
    "I really love pizzal"
   ]
  },
  {
   "cell_type": "code",
   "execution_count": 85,
   "metadata": {},
   "outputs": [
    {
     "name": "stdout",
     "output_type": "stream",
     "text": [
      "peporine\n",
      "mushroom\n",
      "margherita\n",
      "\n",
      "I like peporine pizza.\n",
      "\n",
      "I like mushroom pizza.\n",
      "\n",
      "I like margherita pizza.\n",
      "\n",
      "I love pizza!\n",
      "\n",
      "Pizza is my favourite food.\n"
     ]
    }
   ],
   "source": [
    "#creating the list of pizza\n",
    "pizza = [\"peporine\", \"mushroom\",\"margherita\"] \n",
    "\n",
    "#printing each pizza\n",
    "for p in pizza: \n",
    "    print(p) \n",
    "#displatyin the pizza I like\n",
    "for p in pizza: \n",
    "    print(f\"\\nI like {p} pizza.\") \n",
    "    \n",
    "#Printing an additional statement \n",
    "print(\"\\nI love pizza!\") \n",
    "print(\"\\nPizza is my favourite food.\")"
   ]
  },
  {
   "cell_type": "markdown",
   "metadata": {},
   "source": [
    "4-2. Animals: Think of at least three different animals that have a common char-\n",
    "acteristic. Store the names of these animals in a list, and then use a for loop to\n",
    "print out the name of each animal.\n",
    "\n",
    "• Modify your program to print a statement about each animal, such as\n",
    "A dog would make a great pet.\n",
    "\n",
    "• Add a line at the end of your program stating what these animals have in\n",
    "common. You could print a sentence such as Any of these animals would\n",
    "make a great pet"
   ]
  },
  {
   "cell_type": "code",
   "execution_count": 86,
   "metadata": {},
   "outputs": [
    {
     "name": "stdout",
     "output_type": "stream",
     "text": [
      "dog\n",
      "cat\n",
      "rabbit\n",
      "\n",
      "a dog would be a great pet.\n",
      "\n",
      "a cat would be a great pet.\n",
      "\n",
      "a rabbit would be a great pet.\n",
      "\n",
      "These animals are most cutest in the world.\n"
     ]
    }
   ],
   "source": [
    "#creating the list for animals\n",
    "pets = [\"dog\", \"cat\", \"rabbit\"] \n",
    "\n",
    "#printing out each animal in the list one by one\n",
    "for pet in pets: \n",
    "    print(pet)   \n",
    "\n",
    "#printing with message\n",
    "for pet in pets: \n",
    "    print(f\"\\na {pet} would be a great pet.\") \n",
    "\n",
    "#printing additional message\n",
    "print(\"\\nThese animals are most cutest in the world.\")\n"
   ]
  },
  {
   "cell_type": "markdown",
   "metadata": {},
   "source": [
    "4-3. Counting to Twenty: Use a for loop to print the numbers from 1 to 20,\n",
    "inclusive."
   ]
  },
  {
   "cell_type": "code",
   "execution_count": 87,
   "metadata": {},
   "outputs": [
    {
     "name": "stdout",
     "output_type": "stream",
     "text": [
      "1\n",
      "2\n",
      "3\n",
      "4\n",
      "5\n",
      "6\n",
      "7\n",
      "8\n",
      "9\n",
      "10\n",
      "11\n",
      "12\n",
      "13\n",
      "14\n",
      "15\n",
      "16\n",
      "17\n",
      "18\n",
      "19\n",
      "20\n"
     ]
    }
   ],
   "source": [
    "#creating list from 1 to 20\n",
    "numbers = list(range(1, 20+1))\n",
    "\n",
    "#printing each number\n",
    "for number in numbers:\n",
    "    print(number)"
   ]
  },
  {
   "cell_type": "markdown",
   "metadata": {},
   "source": [
    "4-4. One Million: Make a list of the numbers from one to one million, and then\n",
    "use a for loop to print the numbers. (If the output is taking too long, stop it by\n",
    "pressing CTRI-C or by closing the output window.)"
   ]
  },
  {
   "cell_type": "code",
   "execution_count": null,
   "metadata": {},
   "outputs": [],
   "source": [
    "# printing form 1 to million\n",
    "for i in range(1, 1000001):\n",
    "    print(i)"
   ]
  },
  {
   "cell_type": "markdown",
   "metadata": {},
   "source": [
    "4-5. Summing a Million: Make a list of the numbers from one to one million,\n",
    "and then use min() and max() to make sure your list actually starts at one and\n",
    "ends at one million. Also, use the sum() function to see how quickly Python can\n",
    "add a million numbers."
   ]
  },
  {
   "cell_type": "code",
   "execution_count": 89,
   "metadata": {},
   "outputs": [
    {
     "name": "stdout",
     "output_type": "stream",
     "text": [
      "1\n",
      "1000000\n",
      "500000500000\n"
     ]
    }
   ],
   "source": [
    "#printing min value from 1 to mil\n",
    "print(min(range(1, 1000001)))\n",
    "\n",
    "#printing max value from 1 to mil\n",
    "print(max(range(1, 1000001)))\n",
    "\n",
    "#printing the sum from 1 to mil\n",
    "print(sum(range(1, 1000001)))"
   ]
  },
  {
   "cell_type": "markdown",
   "metadata": {},
   "source": [
    "4-6. Odd Numbers: Use the third argument of the range() function to make a\n",
    "list of the odd numbers from 1 to 20. Use a for loop to print each number."
   ]
  },
  {
   "cell_type": "code",
   "execution_count": 90,
   "metadata": {},
   "outputs": [
    {
     "name": "stdout",
     "output_type": "stream",
     "text": [
      "1\n",
      "3\n",
      "5\n",
      "7\n",
      "9\n",
      "11\n",
      "13\n",
      "15\n",
      "17\n",
      "19\n"
     ]
    }
   ],
   "source": [
    "#printing the odd numbers form 1 to 20\n",
    "for i in range(1, 20+1, 2):\n",
    "    print(i)"
   ]
  },
  {
   "cell_type": "markdown",
   "metadata": {},
   "source": [
    "4-13. Buffet: A buffet-style restaurant offers only five basic foods. Think of five\n",
    "simple foods, and store them in a tuple.\n",
    "• Use a for loop to print each food the restaurant offers.\n",
    "• Try to modify one of the items, and make sure that Python rejects the\n",
    "change.\n",
    "•\n",
    "The restaurant changes its menu, replacing two of the items with different\n",
    "foods. Add a line that rewrites the tuple, and then use a for loop to print\n",
    "each of the items on the revised menu."
   ]
  },
  {
   "cell_type": "code",
   "execution_count": 91,
   "metadata": {},
   "outputs": [
    {
     "name": "stdout",
     "output_type": "stream",
     "text": [
      "rice\n",
      "dal\n",
      "tarkari\n",
      "choila\n",
      "alu\n"
     ]
    },
    {
     "ename": "TypeError",
     "evalue": "'tuple' object does not support item assignment",
     "output_type": "error",
     "traceback": [
      "\u001b[1;31m---------------------------------------------------------------------------\u001b[0m",
      "\u001b[1;31mTypeError\u001b[0m                                 Traceback (most recent call last)",
      "Cell \u001b[1;32mIn[91], line 9\u001b[0m\n\u001b[0;32m      6\u001b[0m     \u001b[38;5;28mprint\u001b[39m(eachfood)\n\u001b[0;32m      8\u001b[0m \u001b[38;5;66;03m#try to change menu\u001b[39;00m\n\u001b[1;32m----> 9\u001b[0m \u001b[43mmenu\u001b[49m\u001b[43m[\u001b[49m\u001b[38;5;241;43m0\u001b[39;49m\u001b[43m]\u001b[49m \u001b[38;5;241m=\u001b[39m \u001b[38;5;124m\"\u001b[39m\u001b[38;5;124mthukpa\u001b[39m\u001b[38;5;124m\"\u001b[39m\n",
      "\u001b[1;31mTypeError\u001b[0m: 'tuple' object does not support item assignment"
     ]
    }
   ],
   "source": [
    "#creating a list of food\n",
    "menu =(\"rice\", \"dal\", \"tarkari\", \"choila\", \"alu\")\n",
    "\n",
    "#displaying each food form list\n",
    "for eachfood in menu:\n",
    "    print(eachfood)\n",
    "\n",
    "#try to change menu\n",
    "menu[0] = \"thukpa\"\n"
   ]
  },
  {
   "cell_type": "code",
   "execution_count": 92,
   "metadata": {},
   "outputs": [
    {
     "name": "stdout",
     "output_type": "stream",
     "text": [
      "I like momo.\n",
      "I like chowmin.\n",
      "I like rice.\n",
      "I like dal.\n",
      "I like tarkari.\n"
     ]
    }
   ],
   "source": [
    "#creating new menu\n",
    "newmenu = (\"momo\", \"chowmin\", \"rice\", \"dal\", \"tarkari\")\n",
    "#printing message\n",
    "for food in newmenu:\n",
    "    print(f\"I like {food}.\")"
   ]
  },
  {
   "cell_type": "markdown",
   "metadata": {},
   "source": [
    "8-3. T-Shirt: Write a function called make_shirt() that accepts a size and the\n",
    "text of a message that should be printed on the shirt. The function should print\n",
    "a sentence summarizing the size of the shirt and the message printed on it.\n",
    "Call the function once using positional arguments to make a shirt. Call the\n",
    "function a second time using keyword arguments."
   ]
  },
  {
   "cell_type": "code",
   "execution_count": 93,
   "metadata": {},
   "outputs": [
    {
     "name": "stdout",
     "output_type": "stream",
     "text": [
      "Size of the shirt is :large \t Shirt message: This shirt is Large\n",
      "Size of the shirt is :small \t Shirt message: Small\n"
     ]
    }
   ],
   "source": [
    "def make_shirt(size, message):\n",
    "    print(f\"Size of the shirt is :{size} \\t Shirt message: {message}\")\n",
    "\n",
    "# Call the function once using positional\n",
    "make_shirt(\"large\", \"This shirt is Large\")\n",
    "\n",
    "# Call the function a second time using keyword arguments\n",
    "make_shirt(size=\"small\", message=\"Small\")"
   ]
  },
  {
   "cell_type": "markdown",
   "metadata": {},
   "source": [
    "8-5. Cities: Write a function called describe_city() that accepts the name of\n",
    "a city and its country. The function should print a simple sentence, such as\n",
    "Reykjavik is in Iceland. Give the parameter for the country a default value.\n",
    "Call your function for three different cities, at least one of which is not in the\n",
    "default country."
   ]
  },
  {
   "cell_type": "code",
   "execution_count": 94,
   "metadata": {},
   "outputs": [
    {
     "name": "stdout",
     "output_type": "stream",
     "text": [
      "Reykjavik is in Iceland.\n",
      "Bejing is in China.\n",
      "San Franscisco is in United States.\n",
      "New Delhi is in India.\n"
     ]
    }
   ],
   "source": [
    "def describe_city(city, country='Iceland'): #defining a function\n",
    "    print(f'{city} is in {country}.')\n",
    "\n",
    "#Calling all the function\n",
    "describe_city('Reykjavik') \n",
    "describe_city('Bejing', 'China')  \n",
    "describe_city('San Franscisco', 'United States')\n",
    "describe_city(\"New Delhi\",\"India\") "
   ]
  },
  {
   "cell_type": "markdown",
   "metadata": {},
   "source": [
    "8-6. City Names: Write a function called city_country) that takes in the name\n",
    "of a city and its country. The function should return a string formatted like this:\n",
    "\"Santiago, Chile\"\n",
    "Call your function with at least three city-country pairs, and print the\n",
    "values that are returned."
   ]
  },
  {
   "cell_type": "code",
   "execution_count": 95,
   "metadata": {},
   "outputs": [
    {
     "name": "stdout",
     "output_type": "stream",
     "text": [
      "\"Kathmandu,Nepal\"\n",
      "\"Torronto,Canada\"\n",
      "\"SA,USA\"\n"
     ]
    }
   ],
   "source": [
    "def city_country(city='Kathmandu', country='Nepal'): #defining a function\n",
    "    print(f'\"{city},{country}\"')\n",
    "\n",
    "#Calling the function 3 times providing different values    \n",
    "city_country()\n",
    "city_country(city=\"Torronto\",  country=\"Canada\")\n",
    "city_country(city=\"SA\", country=\"USA\")"
   ]
  },
  {
   "cell_type": "markdown",
   "metadata": {},
   "source": [
    "8-7. Album: Write a function called make _album () that builds a dictionary\n",
    "describing a music album. The function should take in an artist name and an\n",
    "album title, and it should return a dictionary containing these two pieces of\n",
    "information. Use the function to make three dictionaries representing different\n",
    "albums. Print each return value to show that the dictionaries are storing the\n",
    "album information correctly.\n",
    "Use None to add an optional parameter to make _album() that allows you to\n",
    "store the number of songs on an album. If the calling line includes a value for\n",
    "the number of songs, add that value to the album's dictionary. Make at least\n",
    "one new function call that includes the number of songs on an album."
   ]
  },
  {
   "cell_type": "code",
   "execution_count": 96,
   "metadata": {},
   "outputs": [
    {
     "name": "stdout",
     "output_type": "stream",
     "text": [
      "{'artist': 'Ed Sherren', 'title': 'Shape of you'}\n",
      "{'artist': 'Tribal Rain', 'title': 'Chhinta'}\n",
      "{'artist': 'Arjn', 'title': 'Haluwa'}\n",
      "{'artist': 'Ed Sheeran', 'title': 'A Little Bit of Everything', 'count': 5}\n"
     ]
    }
   ],
   "source": [
    "def make_album(artist, title, count=None):#Defining a function\n",
    "    if count == None:\n",
    "        return {'artist': artist, 'title': title}\n",
    "    return {'artist': artist, 'title': title, 'count':count}\n",
    "\n",
    "#Calling the function\n",
    "print(make_album('Ed Sherren', 'Shape of you'))\n",
    "print(make_album('Tribal Rain', 'Chhinta'))\n",
    "print(make_album('Arjn', 'Haluwa'))\n",
    "\n",
    "#printing the function to check the count\n",
    "print(make_album('Ed Sheeran','A Little Bit of Everything', 5))"
   ]
  },
  {
   "cell_type": "markdown",
   "metadata": {},
   "source": [
    "8-8. User Albums: Start with your program from Exercise 8-7. Write a while\n",
    "loop that allows users to enter an album's artist and title. Once you have that\n",
    "information, call make_album () with the user's input and print the dictionary\n",
    "that's created. Be sure to include a quit value in the while loop."
   ]
  },
  {
   "cell_type": "code",
   "execution_count": 97,
   "metadata": {},
   "outputs": [
    {
     "name": "stdout",
     "output_type": "stream",
     "text": [
      "{'artist': 'Ed Sherren', 'title': 'Shape of you'}\n",
      "{'artist': 'Tribal Rain', 'title': 'Chhinta'}\n",
      "{'artist': 'Arjn', 'title': 'Haluwa'}\n",
      "{'artist': 'Ed Sheeran', 'title': 'A Little Bit of Everything', 'count': 5}\n",
      "\n",
      "Enter an album's artist and title. Type 'quit' to stop.\n",
      "\n",
      "Enter an album's artist and title. Type 'quit' to stop.\n",
      "\n",
      "Enter an album's artist and title. Type 'quit' to stop.\n",
      "\n",
      "Added Albums:\n",
      "{'artist': 'Arjn', 'title': 'Haluwa ko Haluwa'}\n",
      "{'artist': 'RJN', 'title': 'Dancing on my own'}\n"
     ]
    }
   ],
   "source": [
    "def make_album(artist, title, count=None):#Defining a function\n",
    "    if count == None:\n",
    "        return {'artist': artist, 'title': title}\n",
    "    return {'artist': artist, 'title': title, 'count':count}\n",
    "\n",
    "#Calling the function\n",
    "print(make_album('Ed Sherren', 'Shape of you'))\n",
    "print(make_album('Tribal Rain', 'Chhinta'))\n",
    "print(make_album('Arjn', 'Haluwa'))\n",
    "\n",
    "#printing the function to check the count\n",
    "print(make_album('Ed Sheeran','A Little Bit of Everything', 5))\n",
    "\n",
    "addedalbums = []\n",
    "\n",
    "#Using while loop that allows users to enter an album's artist and title\n",
    "while True:\n",
    "    print(\"\\nEnter an album's artist and title. Type 'quit' to stop.\")\n",
    "    artist = input(\"Artist: \") #Taking then value for artist\n",
    "    if artist.lower() == 'quit':\n",
    "        break\n",
    "    title = input(\"Title: \") #Taking the value for title\n",
    "    if title.lower() == 'quit':\n",
    "        break\n",
    "    #Adding the data into  user_albums list using append method\n",
    "    addedalbums.append(make_album(artist, title))\n",
    "\n",
    "print(\"\\nAdded Albums:\")\n",
    "for album in addedalbums:\n",
    "    print(album)"
   ]
  },
  {
   "cell_type": "markdown",
   "metadata": {},
   "source": [
    "Inclass activity 6\n",
    "\n",
    "5-1. Conditional Tests: Write a series of conditional tests. Print a statement\n",
    "describing each test and your prediction for the results of each test. Your code\n",
    "should look something like this:\n",
    "car = 'subaru'\n",
    "print(\"Is car == 'subaru'? I predict True.\")\n",
    "print (car == 'subaru')\n",
    "print (\"\\nIs car == 'audi'? I predict False.\")\n",
    "print(car == 'audi')\n",
    "• Look closely at your results, and make sure you understand why each line\n",
    "evaluates to True or False.\n",
    "• Create at least ten tests. Have at least five tests evaluate to True and\n",
    "another five tests evaluate to False.\n",
    "\n"
   ]
  },
  {
   "cell_type": "code",
   "execution_count": 98,
   "metadata": {},
   "outputs": [
    {
     "name": "stdout",
     "output_type": "stream",
     "text": [
      "Is number between 1 and 100 ? I predict False : False\n",
      "Is the number greater than 500? I predict True: True\n",
      "Is the number  divisible by 7? I predict False: False\n",
      "Is the number even? I predict True: True\n",
      "Is the number  a perfect square? I predict False :False\n",
      "Is the number greater than 900? I predict True: True\n",
      "Is the number multiple of 5? I predict False: False\n",
      "Is the number divisible by 10? I predict False: False\n",
      "Is the number 998? I predict True : True\n"
     ]
    }
   ],
   "source": [
    "import math\n",
    "num = 998\n",
    "\n",
    "print(f\"Is number between 1 and 100 ? I predict False : {num>1 and num<100}\")\n",
    "print(f\"Is the number greater than 500? I predict True: {num > 500}\")\n",
    "print(f\"Is the number  divisible by 7? I predict False: {num % 7 == 0}\")\n",
    "print(f\"Is the number even? I predict True: {num %2==0}\")\n",
    "print(f\"Is the number  a perfect square? I predict False :{math.isqrt(num)**2 == num}\")\n",
    "print(f\"Is the number greater than 900? I predict True: {num  > 900}\")\n",
    "print(f\"Is the number multiple of 5? I predict False: {num%5==0}\")\n",
    "print(f\"Is the number divisible by 10? I predict False: {num%10==0}\")\n",
    "print(f\"Is the number 998? I predict True : {num==998}\")\n",
    "\n"
   ]
  },
  {
   "cell_type": "markdown",
   "metadata": {},
   "source": [
    "5-2. More Conditional Tests: You don't have to limit the number of tests you\n",
    "create to ten. If you want to try more comparisons, write more tests and add\n",
    "them to conditional _tests.py. Have at least one True and one False result for\n",
    "each of the following:\n",
    "• Tests for equality and inequality with strings\n",
    "• Tests using the lower() method\n",
    "Numerical tests involving equality and inequality, greater than and\n",
    "less than, greater than or equal to, and less than or equal to\n",
    "• Tests using the and keyword and the or keyword\n",
    "• Test whether an item is in a list\n",
    "Test whether an item is not in a list\n"
   ]
  },
  {
   "cell_type": "code",
   "execution_count": 99,
   "metadata": {},
   "outputs": [
    {
     "name": "stdout",
     "output_type": "stream",
     "text": [
      "Is the string A= 'arjn' equal to B='ARJN'? False\n",
      "Is the string A= 'arjn' equal to B='arjn'? True\n",
      "Is ABC equal to ABC.lower ? False\n",
      "Is abc equal to ABC.lower ? True\n",
      "Is the number 7 equal to 14 divide by 2?  True\n",
      "Is the number 500 greater than 600?   False\n",
      "Is the number 5 greater than or equal to 90 divide by 5? True\n",
      "Is the number 998 divisible by number 2 and 3? False\n",
      "Is the number 998 divisible by number 2 or 3? True\n",
      "Is the number 3 in list? True\n",
      "Is the number 4 in list? True\n"
     ]
    }
   ],
   "source": [
    "print(f\"Is the string A= 'arjn' equal to B='ARJN'? {'arjn'=='ARJN'}\")\n",
    "print(f\"Is the string A= 'arjn' equal to B='arjn'? {'arjn'=='arjn'}\")\n",
    "\n",
    "print(f\"Is ABC equal to ABC.lower ? {'ABC' == 'ABC'.lower()}\")\n",
    "print(f\"Is abc equal to ABC.lower ? {'abc' == 'ABC'.lower()}\")\n",
    "\n",
    "print(f\"Is the number 7 equal to 14 divide by 2?  {7 == (14//2)}\")\n",
    "print(f\"Is the number 500 greater than 600?   {500 > 600}\")\n",
    "print(f\"Is the number 5 greater than or equal to 90 divide by 5? {90//5 >= 5}\")\n",
    "\n",
    "print(f\"Is the number 998 divisible by number 2 and 3? {998%2 ==0 and 998%3 == 0}\")\n",
    "print(f\"Is the number 998 divisible by number 2 or 3? {998%2 ==0 or 998%3 == 0}\")\n",
    "\n",
    "l =[1,2,3]\n",
    "print(f\"Is the number 3 in list? {3 in l}\")\n",
    "print(f\"Is the number 4 in list? {4 not in l}\")"
   ]
  },
  {
   "cell_type": "markdown",
   "metadata": {},
   "source": [
    "5-3. Alien Colors #1: Imagine an alien was just shot down in a game. Create a\n",
    "variable called alien color and assign it a value of 'green\", 'yellow', or 'red\".\n",
    "• Write an if statement to test whether the alien's color is green. If it is, print\n",
    "a message that the player just earned 5 points.\n",
    "Write one version of this program that passes the if test and another that\n",
    "fails. (The version that fails will have no output.)"
   ]
  },
  {
   "cell_type": "code",
   "execution_count": 100,
   "metadata": {},
   "outputs": [
    {
     "name": "stdout",
     "output_type": "stream",
     "text": [
      " you earned 5 points.\n"
     ]
    }
   ],
   "source": [
    "# passed version\n",
    "alien_color = \"green\"\n",
    "\n",
    "if alien_color == \"green\":\n",
    "    print(\" you earned 5 points.\")\n",
    "\n",
    "#failed version\n",
    "alien_color = \"green\"\n",
    "\n",
    "if alien_color == 'red':\n",
    "    print(\"you earned 15 points.\")"
   ]
  },
  {
   "cell_type": "markdown",
   "metadata": {},
   "source": [
    "5-4. Alien Colors #2: Choose a color for an alien as you did in Exercise 5-3, and\n",
    "write an if-else chain.\n",
    "• If the alien's color is green, print a statement that the player just earned\n",
    "5 points for shooting the alien.\n",
    "• If the alien's color isn't green, print a statement that the player just earned\n",
    "10 points.\n",
    "• Write one version of this program that runs the if block and another that\n",
    "runs the else block."
   ]
  },
  {
   "cell_type": "code",
   "execution_count": 101,
   "metadata": {},
   "outputs": [
    {
     "name": "stdout",
     "output_type": "stream",
     "text": [
      "You earned 5 points.\n",
      "Your earned 10 points.\n"
     ]
    }
   ],
   "source": [
    "#taking the color as green\n",
    "alien_color = \"green\"\n",
    "if alien_color == \"green\":\n",
    "    print(\"You earned 5 points.\")\n",
    "else:\n",
    "    print(\"Your earned 10 points.\")\n",
    "\n",
    "#taking the color as red\n",
    "alien_color = \"red\"\n",
    "if alien_color == \"green\":\n",
    "    print(\"You earned 5 points.\")\n",
    "else:\n",
    "    print(\"Your earned 10 points.\")\n"
   ]
  },
  {
   "cell_type": "markdown",
   "metadata": {},
   "source": [
    "5-5. Alien Colors #3: Turn your if-else chain from Exercise 5-4 into an if-elif-\n",
    "else chain.\n",
    "• If the alien is green, print a message that the player earned 5 points.\n",
    "• If the alien is yellow, print a message that the player earned 10 points.\n",
    "• If the alien is red, print a message that the player earned 15 points.\n",
    "• Write three versions of this program, making sure each message is printed\n",
    "for the appropriate color alien."
   ]
  },
  {
   "cell_type": "code",
   "execution_count": 102,
   "metadata": {},
   "outputs": [
    {
     "name": "stdout",
     "output_type": "stream",
     "text": [
      "You earned 5 points.\n",
      "Your earned 10 points.\n",
      "You earned 15 points.\n",
      "Invalid Input\n"
     ]
    }
   ],
   "source": [
    "# first taking color as green\n",
    "alien_color = \"green\"\n",
    "\n",
    "# checking if the color is green, yellow or red.\n",
    "if alien_color == \"green\":\n",
    "    print(\"You earned 5 points.\")\n",
    "elif alien_color == \"yellow\":\n",
    "    print(\"Your earned 10 points.\")\n",
    "elif alien_color == \"red\":\n",
    "    print(\"You earned 15 points.\")\n",
    "else:\n",
    "    print(\"Invalid Input\")\n",
    "    \n",
    "#checking for color yellow\n",
    "alien_color = \"yellow\"\n",
    "# checking if the color is green, yellow or red.\n",
    "if alien_color == \"green\":\n",
    "    print(\"You earned 5 points.\")\n",
    "elif alien_color == \"yellow\":\n",
    "    print(\"Your earned 10 points.\")\n",
    "elif alien_color == \"red\":\n",
    "    print(\"You earned 15 points.\")\n",
    "else:\n",
    "    print(\"Invalid Input\")\n",
    "    \n",
    "#checking for color red\n",
    "alien_color = \"red\"\n",
    "# checking if the color is green, yellow or red.\n",
    "if alien_color == \"green\":\n",
    "    print(\"You earned 5 points.\")\n",
    "elif alien_color == \"yellow\":\n",
    "    print(\"Your earned 10 points.\")\n",
    "elif alien_color == \"red\":\n",
    "    print(\"You earned 15 points.\")\n",
    "else:\n",
    "    print(\"Invalid Input\")  \n",
    "    \n",
    "#checking for input other than  green, yellow and red\n",
    "alien_color = \"pink\"\n",
    "# checking if the color is green, yellow or red.\n",
    "if alien_color == \"green\":\n",
    "    print(\"You earned 5 points.\")\n",
    "elif alien_color == \"yellow\":\n",
    "    print(\"Your earned 10 points.\")\n",
    "elif alien_color == \"red\":\n",
    "    print(\"You earned 15 points.\")\n",
    "else:\n",
    "    print(\"Invalid Input\")  "
   ]
  },
  {
   "cell_type": "markdown",
   "metadata": {},
   "source": [
    "5-6. Stages of Life: Write an if-elif-else chain that determines a person's\n",
    "stage of life. Set a value for the variable age, and then:\n",
    "•If the person is less than 2 years old, print a message that the person is\n",
    "a baby.\n",
    "•If the person is at least 2 years old but less than 4, print a message that\n",
    "the person is a toddler.\n",
    "•If the person is at least 4 years old but less than 13, print a message that\n",
    "the person is a kid.\n",
    "•If the person is at least 13 years old but less than 20, print a message that\n",
    "the person is a teenager.\n",
    "•If the person is at least 20 years old but less than 65, print a message that\n",
    "the person is an adult.\n",
    "•If the person is age 65 or older, print a message that the person is an\n",
    "elder."
   ]
  },
  {
   "cell_type": "code",
   "execution_count": 103,
   "metadata": {},
   "outputs": [
    {
     "name": "stdout",
     "output_type": "stream",
     "text": [
      "The person is a adult.\n"
     ]
    }
   ],
   "source": [
    "# taking age from user.\n",
    "while True:\n",
    "    age = input(\"Enter an age: \")\n",
    "    if age.isdigit():\n",
    "        age = int(age)\n",
    "        break\n",
    "\n",
    "#printing message according to the age\n",
    "if age < 2:\n",
    "    print(\"The person is a baby.\")\n",
    "elif age >=2 and age < 4:\n",
    "    print(\"The person is a toddler.\")\n",
    "elif age >=4 and age < 13:\n",
    "    print(\"The person is a kid\")\n",
    "elif age >=13 and age < 20:\n",
    "    print(\"The person is a teenager.\")\n",
    "elif age >=20 and age < 65:\n",
    "    print(\"The person is a adult.\")\n",
    "else:\n",
    "    print(\"The person is elder.\")\n"
   ]
  },
  {
   "cell_type": "markdown",
   "metadata": {},
   "source": [
    "5-7. Favorite Fruit: Make a list of your favorite fruits, and then write a series of independent if statements that check for certain fruits in your list.\n",
    "• Make a list of your three favorite fruits and call it favorite_ fruits.\n",
    "• Write five if statements. Each should check whether a certain kind of fruit\n",
    "is in your list. If the fruit is in your list, the if block should print a statement, such as You really like bananas!\n"
   ]
  },
  {
   "cell_type": "code",
   "execution_count": 104,
   "metadata": {},
   "outputs": [
    {
     "name": "stdout",
     "output_type": "stream",
     "text": [
      "You really like Guava!\n",
      "You really like Apple!\n",
      "You really like Banana!\n"
     ]
    }
   ],
   "source": [
    "# making list of favorite fruits\n",
    "favorite_fruits = [\"Apple\",\"Banana\",\"Guava\"]\n",
    "\n",
    "#cheking if the user likes individual fruits or not\n",
    "if \"Guava\" in favorite_fruits:\n",
    "    print(\"You really like Guava!\")\n",
    "if \"Apple\" in favorite_fruits:\n",
    "    print(\"You really like Apple!\")\n",
    "if \"Pineapple\" in favorite_fruits:\n",
    "    print(\"You really like Pineapple!\")\n",
    "if \"Banana\" in favorite_fruits:\n",
    "    print(\"You really like Banana!\")\n",
    "if \"Mango\" in favorite_fruits:\n",
    "    print(\"You really like Mango!\")\n"
   ]
  },
  {
   "cell_type": "markdown",
   "metadata": {},
   "source": [
    "5-8. Hello Admin: Make a list of five or more usernames, including the name\n",
    "'admin'. Imagine you are writing code that will print a greeting to each user\n",
    "after they log in to a website. Loop through the list, and print a greeting to\n",
    "each user:\n",
    "• If the username is 'admin', print a special greeting, such as Hello admin,\n",
    "would you like to see a status report?\n",
    "• Otherwise, print a generic greeting, such as Hello Jaden, thank you for\n",
    "logging in again."
   ]
  },
  {
   "cell_type": "code",
   "execution_count": 105,
   "metadata": {},
   "outputs": [
    {
     "name": "stdout",
     "output_type": "stream",
     "text": [
      "Hello Aarjeyan, thank you for logging in again.\n",
      "Hello Prajwal, thank you for logging in again.\n",
      "Hello ADMIN, Would you like to see a status report?\n",
      "Hello Sudip, thank you for logging in again.\n",
      "Hello Shisir, thank you for logging in again.\n",
      "Hello Rajan, thank you for logging in again.\n"
     ]
    }
   ],
   "source": [
    "# creating a list for usernames\n",
    "usernames = [\"Aarjeyan\",\"Prajwal\",\"admin\",\"Sudip\",\"Shisir\",\"Rajan\"]\n",
    "\n",
    "# looping to get which user is active\n",
    "for each_user in usernames:\n",
    "    if each_user.lower() == \"admin\":\n",
    "        print(\"Hello ADMIN, Would you like to see a status report?\")\n",
    "    else:\n",
    "        print(f\"Hello {each_user}, thank you for logging in again.\")\n",
    "    "
   ]
  },
  {
   "cell_type": "markdown",
   "metadata": {},
   "source": [
    "5-9. No Users: Add an if test to hello_admin.py to make sure the list of users is not empty.\n",
    "• If the list is empty, print the message We need to find some users!\n",
    "• Remove all of the usernames from your list, and make sure the correct\n",
    "message is printed."
   ]
  },
  {
   "cell_type": "code",
   "execution_count": 106,
   "metadata": {},
   "outputs": [
    {
     "name": "stdout",
     "output_type": "stream",
     "text": [
      "There are 6 users in the list.\n",
      "We need to find some users!\n"
     ]
    }
   ],
   "source": [
    "# taking same list as 5-8 \"usernames\"\n",
    "#checking if the list is empty or not\n",
    "if len(usernames) == 0:\n",
    "    print(\"We need to find some users!\")\n",
    "else:\n",
    "    print(f\"There are {len(usernames)} users in the list.\")\n",
    "\n",
    "# removing all the usernames from list\n",
    "usernames.clear()\n",
    "\n",
    "#checking if the list is empty or not\n",
    "if len(usernames) == 0:\n",
    "    print(\"We need to find some users!\")\n"
   ]
  },
  {
   "cell_type": "markdown",
   "metadata": {},
   "source": [
    "5-10. Checking Usernames: Do the following to create a program that simulates\n",
    "how websites ensure that everyone has a unique username.\n",
    "• Make a list of five or more usernames called current _users.\n",
    "• Make another list of five usernames called new users. Make sure one or\n",
    "two of the new usernames are also in the current_users list.\n",
    "• Loop through the new users list to see if each new username has already\n",
    "been used. If it has, print a message that the person will need to enter a\n",
    "new username. If a username has not been used, print a message saying\n",
    "that the username is available.\n",
    "• Make sure your comparison is case insensitive. If 'John' has been used,\n",
    "'JOHN' should not be accepted. (To do this, you'll need to make a copy of\n",
    "current _users containing the lowercase versions of all existing users.)\n"
   ]
  },
  {
   "cell_type": "code",
   "execution_count": 107,
   "metadata": {},
   "outputs": [
    {
     "name": "stdout",
     "output_type": "stream",
     "text": [
      "Username : Ram is available for registration.\n",
      "\n",
      "Username : Hari is available for registration.\n",
      "\n",
      "Username : Sudip!!! You need to enter a new username.\n",
      "\n",
      "Username : Shyam is available for registration.\n",
      "\n",
      "Username : Aarjeyan!!! You need to enter a new username.\n",
      "\n",
      "Username : Sita is available for registration.\n",
      "\n",
      "Username : PRAJWAL!!! You need to enter a new username.\n",
      "\n"
     ]
    }
   ],
   "source": [
    "# creating 1st list of users\n",
    "current_users = [\"Aarjeyan\",\"Prajwal\",\"Sudip\",\"Shisir\",\"Rajan\"]\n",
    "\n",
    "#creating 2nd list of users\n",
    "new_users = [\"Ram\",\"Hari\",\"Sudip\",\"Shyam\",\"Aarjeyan\",\"Sita\",\"PRAJWAL\"]\n",
    "\n",
    "#making a copy list of current_users which contain the lowercase versions\n",
    "copy_current_users = []\n",
    "for each_current_user in current_users:\n",
    "    copy_current_users.append(each_current_user.lower())\n",
    "\n",
    "#checking if the new user is already present in current user    \n",
    "for each_new_user in new_users:\n",
    "    if each_new_user.lower() in  copy_current_users:\n",
    "        print(f\"Username : {each_new_user}!!! You need to enter a new username.\\n\")\n",
    "    else:\n",
    "        print(f\"Username : {each_new_user} is available for registration.\\n\")\n"
   ]
  },
  {
   "cell_type": "markdown",
   "metadata": {},
   "source": [
    "5-11. Ordinal Numbers: Ordinal numbers indicate their position in a list, such\n",
    "as Ist or 2nd. Most ordinal numbers end in th, except 1, 2, and 3.\n",
    "• Store the numbers 1 through 9 in a list.\n",
    "• Loop through the list.\n",
    "•\n",
    "Use an if-elif-else chain inside the loop to print the proper ordinal end-\n",
    "ing for each number. Your output should read \"ist 2nd 3rd 4th 5th 6th\n",
    "7th 8th 9th\", and each result should be on a separate line."
   ]
  },
  {
   "cell_type": "code",
   "execution_count": 108,
   "metadata": {},
   "outputs": [
    {
     "name": "stdout",
     "output_type": "stream",
     "text": [
      "1st\n",
      "2nd\n",
      "3rd\n",
      "4th\n",
      "5th\n",
      "6th\n",
      "7th\n",
      "8th\n",
      "9th\n"
     ]
    }
   ],
   "source": [
    "# creating the list from number 1 to 9\n",
    "n1to9 =  [i for i in range(1, 10)]\n",
    "\n",
    "#using for loop to loop through the list\n",
    "for num in n1to9:\n",
    "    if num == 1: #checking condition for num 1\n",
    "        print(f\"{1}st\")\n",
    "    elif num == 2: # checking condition for num 2\n",
    "        print(f\"{num}nd\")\n",
    "    elif num == 3: # checking condition for num 3 \n",
    "        print(f\"{num}rd\")\n",
    "    else:\n",
    "        print(f\"{num}th\") # printing with \"th\" for other numbers"
   ]
  }
 ],
 "metadata": {
  "kernelspec": {
   "display_name": "Python 3",
   "language": "python",
   "name": "python3"
  },
  "language_info": {
   "codemirror_mode": {
    "name": "ipython",
    "version": 3
   },
   "file_extension": ".py",
   "mimetype": "text/x-python",
   "name": "python",
   "nbconvert_exporter": "python",
   "pygments_lexer": "ipython3",
   "version": "3.12.2"
  }
 },
 "nbformat": 4,
 "nbformat_minor": 2
}
