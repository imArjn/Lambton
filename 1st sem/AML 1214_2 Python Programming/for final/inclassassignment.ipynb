{
 "cells": [
  {
   "cell_type": "markdown",
   "metadata": {},
   "source": [
    "Question 1: Print First 10 natural numbers using while loop.\n"
   ]
  },
  {
   "cell_type": "code",
   "execution_count": 2,
   "metadata": {},
   "outputs": [
    {
     "name": "stdout",
     "output_type": "stream",
     "text": [
      "1\n",
      "2\n",
      "3\n",
      "4\n",
      "5\n",
      "6\n",
      "7\n",
      "8\n",
      "9\n",
      "10\n"
     ]
    }
   ],
   "source": [
    "# print first 10 natural numbers using while loop\n",
    "#initialzing i\n",
    "i = 1\n",
    "# using while loop\n",
    "while i <= 10:\n",
    "    print(i)\n",
    "    # increamenting i by 1\n",
    "    i += 1"
   ]
  },
  {
   "cell_type": "markdown",
   "metadata": {},
   "source": [
    "Question 2: Print the following pattern."
   ]
  },
  {
   "cell_type": "code",
   "execution_count": 74,
   "metadata": {},
   "outputs": [
    {
     "name": "stdout",
     "output_type": "stream",
     "text": [
      "1         1\n",
      "1 2       1\n",
      "1 2 3     1\n",
      "1 2 3 4   1\n"
     ]
    }
   ],
   "source": [
    "# for the rows\n",
    "for x in range(1,5):\n",
    "    #loop for columns\n",
    "    for y in range(1,x+1):\n",
    "        print(y,end=\" \")\n",
    "    print(\"  \"*(5-x),end = \"1\\n\") \n",
    "    \n",
    "\n",
    "\n",
    "        \n",
    "    "
   ]
  },
  {
   "cell_type": "markdown",
   "metadata": {},
   "source": [
    "Question 3: Accept number from user and calculate the sum of all number between 1 and given\n",
    "number."
   ]
  },
  {
   "cell_type": "code",
   "execution_count": 15,
   "metadata": {},
   "outputs": [
    {
     "name": "stdout",
     "output_type": "stream",
     "text": [
      "The user given number is: 10\n",
      "The sum is: 55\n"
     ]
    }
   ],
   "source": [
    "# calculate the sum of all numbers between 1 and user number\n",
    "# taking a number from a user\n",
    "num = int(input(\"Enter the value: \"))\n",
    "sum = 0\n",
    "for  i in range(1, num+1):\n",
    "    # incrementing sum  by adding each element to it.\n",
    "    sum += i\n",
    "#displaying results\n",
    "print(\"The user given number is:\", num)\n",
    "print(\"The sum is:\", sum)"
   ]
  },
  {
   "cell_type": "markdown",
   "metadata": {},
   "source": [
    "Question 4: Print multiplication table of given number. "
   ]
  },
  {
   "cell_type": "code",
   "execution_count": 16,
   "metadata": {},
   "outputs": [
    {
     "name": "stdout",
     "output_type": "stream",
     "text": [
      "2\n",
      "4\n",
      "6\n",
      "8\n",
      "10\n",
      "12\n",
      "14\n",
      "16\n",
      "18\n",
      "20\n"
     ]
    }
   ],
   "source": [
    "# multiplication table of user defined number\n",
    "# taking a user defined number\n",
    "num = int(input(\"Enter a number:\"))\n",
    "for  i in range(1, 11):\n",
    "    print(num * i)\n"
   ]
  },
  {
   "cell_type": "markdown",
   "metadata": {},
   "source": [
    "Question 5: Given a list iterate it and display numbers which are divisible by 5 and if you find number\n",
    "greater than 150 stop the loop iteration.\n"
   ]
  },
  {
   "cell_type": "code",
   "execution_count": 18,
   "metadata": {},
   "outputs": [
    {
     "name": "stdout",
     "output_type": "stream",
     "text": [
      "15\n",
      "55\n",
      "75\n",
      "150\n"
     ]
    }
   ],
   "source": [
    "# taking a list\n",
    "list1 = [12, 15, 32, 42, 55, 75, 122, 132, 150, 180, 200]\n",
    "\n",
    "# iterating through the list\n",
    "for i in list1:\n",
    "    # checking if the element is greater than 150\n",
    "    if i > 150:\n",
    "        break\n",
    "    # checking if the number is divisible by 5\n",
    "    if i % 5 == 0:\n",
    "        print(i)\n"
   ]
  },
  {
   "cell_type": "markdown",
   "metadata": {},
   "source": [
    "Question 6: Given a number count the total number of digits in a number. "
   ]
  },
  {
   "cell_type": "code",
   "execution_count": 20,
   "metadata": {},
   "outputs": [
    {
     "name": "stdout",
     "output_type": "stream",
     "text": [
      "The number is: 12345\n",
      "Total Digits are : 5\n"
     ]
    }
   ],
   "source": [
    "# program to count the total number of digits in a number\n",
    "# taking a number from user\n",
    "num = int(input(\"Enter a Number: \"))\n",
    "count = 0\n",
    "temp = num\n",
    "while temp > 0:\n",
    "    digit = temp % 10\n",
    "    if digit != 0:\n",
    "        count += 1\n",
    "    temp //= 10\n",
    "print(\"The number is:\", num)\n",
    "print(\"Total Digits are :\", count)"
   ]
  },
  {
   "cell_type": "markdown",
   "metadata": {},
   "source": [
    "Question 7: Print the following pattern using for loop. "
   ]
  },
  {
   "cell_type": "code",
   "execution_count": 33,
   "metadata": {},
   "outputs": [
    {
     "name": "stdout",
     "output_type": "stream",
     "text": [
      "5 4 3 2 1 \n",
      "4 3 2 1 \n",
      "3 2 1 \n",
      "2 1 \n",
      "1 \n"
     ]
    }
   ],
   "source": [
    "# for the rows\n",
    "for x in range(1,6):\n",
    "    #loop for columns\n",
    "    for y in range(6-x,0,-1): \n",
    "        print(y,end=\" \")\n",
    "    print()"
   ]
  },
  {
   "cell_type": "markdown",
   "metadata": {},
   "source": [
    "Question 8: Reverse the following list using for loop.\n"
   ]
  },
  {
   "cell_type": "code",
   "execution_count": 39,
   "metadata": {},
   "outputs": [
    {
     "name": "stdout",
     "output_type": "stream",
     "text": [
      "50\n",
      "40\n",
      "30\n",
      "20\n",
      "10\n"
     ]
    }
   ],
   "source": [
    "# taking a list\n",
    "list2 = [10, 20, 30, 40, 50]\n",
    "\n",
    "#reversing the list using for loop\n",
    "for i in range(len(list2)-1,-1,-1):\n",
    "    print(list2[i])\n"
   ]
  },
  {
   "cell_type": "markdown",
   "metadata": {},
   "source": [
    "Question 9: Display a message “Done” after successful execution of for loop. "
   ]
  },
  {
   "cell_type": "code",
   "execution_count": 41,
   "metadata": {},
   "outputs": [
    {
     "name": "stdout",
     "output_type": "stream",
     "text": [
      "0\n",
      "1\n",
      "Done!\n"
     ]
    }
   ],
   "source": [
    "l = [0,1]\n",
    "#looping\n",
    "for i in l:\n",
    "    print(i)\n",
    "#displaying \"Done!\" message after successful loop\n",
    "print(\"Done!\")"
   ]
  },
  {
   "cell_type": "markdown",
   "metadata": {},
   "source": [
    "Question 10: Display Fibonacci series up to 10 terms. "
   ]
  },
  {
   "cell_type": "code",
   "execution_count": 54,
   "metadata": {},
   "outputs": [
    {
     "name": "stdout",
     "output_type": "stream",
     "text": [
      "Fibonacci sequence:\n",
      "0 1 1 2 3 5 8 13 21 34 "
     ]
    }
   ],
   "source": [
    "\n",
    "# initiating the nterm\n",
    "nterm = 10\n",
    "a = 0\n",
    "b = 1\n",
    "print(\"Fibonacci sequence:\")\n",
    "print(a, end=\" \")\n",
    "print(b,end=\" \")\n",
    "# looping for the 3rd to nterm\n",
    "for  i in range(3, nterm+1):\n",
    "    c = a + b\n",
    "    print(c, end=\" \")\n",
    "    a = b\n",
    "    b = c\n",
    "\n",
    "\n",
    "        "
   ]
  },
  {
   "cell_type": "markdown",
   "metadata": {},
   "source": [
    "Question 11: Write a loop to find the factorial of any number. "
   ]
  },
  {
   "cell_type": "code",
   "execution_count": 57,
   "metadata": {},
   "outputs": [
    {
     "name": "stdout",
     "output_type": "stream",
     "text": [
      "The factorial of 5\n",
      "120\n"
     ]
    }
   ],
   "source": [
    "# creating a function to display the factorial  of a number\n",
    "def fact(n):\n",
    "    if n == 0:\n",
    "        return 1\n",
    "    else:\n",
    "        return  n * fact(n-1)\n",
    "# taking the value of n from userL\n",
    "num = int(input(\"Enter a positive integer : \"))\n",
    "print(\"The factorial of\",num)\n",
    "# calling the function and displaying its output\n",
    "print(fact(num))\n",
    "\n"
   ]
  },
  {
   "cell_type": "markdown",
   "metadata": {},
   "source": [
    "Question 12: Python program to display all the prime numbers within a range. "
   ]
  },
  {
   "cell_type": "code",
   "execution_count": 63,
   "metadata": {},
   "outputs": [
    {
     "name": "stdout",
     "output_type": "stream",
     "text": [
      "Prime numbers between  25 to 40 are:\n",
      "29\n",
      "31\n",
      "37\n"
     ]
    }
   ],
   "source": [
    "# define a function that takes two range and displays the prime numbers between the range\n",
    "def  display_prime(start, end): \n",
    "    print(f\"Prime numbers between  {start} to {end} are:\") \n",
    "    # to loop between the range\n",
    "    for  num in range(start,end+1): \n",
    "        # check if number is greater than one \n",
    "        if num > 1:  \n",
    "            # to check the prime we have to check if the number is divisible \n",
    "            # by other number from 2 to num/2 \n",
    "            for i in range(2,int(num/2)): \n",
    "                # dividing  the number by each number till half of it.\n",
    "                if (num % i) == 0:   \n",
    "                    break\n",
    "            else:    \n",
    "                print(num)  \n",
    " \n",
    "# take a range of number from user and print all the prime numbers between the  given range\n",
    "start= int(input(\"Enter the starting value: \"))\n",
    "end = int(input(\"Enter the ending value: \"))\n",
    "\n",
    "#calling the function \n",
    "display_prime(start,end)\n",
    "\n"
   ]
  },
  {
   "cell_type": "code",
   "execution_count": null,
   "metadata": {},
   "outputs": [],
   "source": []
  }
 ],
 "metadata": {
  "kernelspec": {
   "display_name": "Python 3",
   "language": "python",
   "name": "python3"
  },
  "language_info": {
   "codemirror_mode": {
    "name": "ipython",
    "version": 3
   },
   "file_extension": ".py",
   "mimetype": "text/x-python",
   "name": "python",
   "nbconvert_exporter": "python",
   "pygments_lexer": "ipython3",
   "version": "3.12.2"
  }
 },
 "nbformat": 4,
 "nbformat_minor": 2
}
