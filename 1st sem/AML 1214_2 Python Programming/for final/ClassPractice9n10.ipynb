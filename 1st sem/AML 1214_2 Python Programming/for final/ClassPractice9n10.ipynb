{
 "cells": [
  {
   "cell_type": "markdown",
   "metadata": {},
   "source": [
    "#### 9-1. Restaurant: Make a class called Restaurant. The __init__() method for Restaurant should store two attributes: a restaurant_name and a cuisine_type.\n",
    "Make a method called describe_restaurant() that prints these two pieces of\n",
    "information, and a method called open_restaurant() that prints a message indicating that the restaurant is open.\n",
    "Make an instance called restaurant from your class. Print the two attributes individually, and then call both methods."
   ]
  },
  {
   "cell_type": "code",
   "execution_count": 15,
   "metadata": {},
   "outputs": [
    {
     "name": "stdout",
     "output_type": "stream",
     "text": [
      "Himalayan House serves Nepalese Cuisine.\n",
      "Himalayan House is now open.\n"
     ]
    }
   ],
   "source": [
    "#defining a class Restaurant to store restaurant details\n",
    "class Restaurant:\n",
    "    #initializing the attributes restaurant name and cuisine type\n",
    "    def  __init__(self, restaurant_name, cuisine_type):\n",
    "        self.restaurant_name =  restaurant_name\n",
    "        self.cuisine_type = cuisine_type\n",
    "    #defining a method to describe restaurant\n",
    "    def describe_restaurant(self):\n",
    "        print(f\"{self.restaurant_name} serves {self.cuisine_type}.\")\n",
    "    # defining a method to print the message that the restaurant is open\n",
    "    def open_restaurant(self):\n",
    "        print(f\"{self.restaurant_name} is now open.\")\n",
    "        \n",
    "if __name__ == \"__main__\":\n",
    "    #defining a instance named restaurant\n",
    "    restaurant1 = Restaurant(\"Himalayan House\", \"Nepalese Cuisine\")\n",
    "    #calling both the methods\n",
    "    restaurant1.describe_restaurant()\n",
    "    restaurant1.open_restaurant()"
   ]
  },
  {
   "cell_type": "markdown",
   "metadata": {},
   "source": [
    "#### 9-2. Three Restaurants: Start with your class from Exercise 9-1. \n",
    "Create three different instances from the class, and call describe_restaurant() for each instance"
   ]
  },
  {
   "cell_type": "code",
   "execution_count": 16,
   "metadata": {},
   "outputs": [
    {
     "name": "stdout",
     "output_type": "stream",
     "text": [
      "Pizzaville serves Italian Cuisine.\n",
      "Tim Hortons serves Canadian Cuisine.\n",
      "Paramount serves Arabic Cuisine.\n"
     ]
    }
   ],
   "source": [
    "#creating restaurant2 instance\n",
    "restaurant2 = Restaurant(\"Pizzaville\",\"Italian Cuisine\")\n",
    "#calling the describe restaurant method\n",
    "restaurant2.describe_restaurant()\n",
    "\n",
    "#creating restaurant3 instance\n",
    "restaurant3 = Restaurant(\"Tim Hortons\",\"Canadian Cuisine\")\n",
    "#calling the describe restaurant method\n",
    "restaurant3.describe_restaurant()\n",
    "\n",
    "#creating restaurant4 instance\n",
    "restaurant4 = Restaurant(\"Paramount\",\"Arabic Cuisine\")\n",
    "#calling the describe restaurant method\n",
    "restaurant4.describe_restaurant()"
   ]
  },
  {
   "cell_type": "markdown",
   "metadata": {},
   "source": [
    "#### 9-3. Users: Make a class called User. \n",
    "Create two attributes called first_name and last_name, and then create several other attributes that are typically stored in a user profile. Make a method called describe_user() that prints a summary of the user’s information. Make another method called greet_user() that prints a personalized greeting to the user.\n",
    "Create several instances representing different users, and call both methods\n",
    "for each\n",
    "user.                                                                                     "
   ]
  },
  {
   "cell_type": "code",
   "execution_count": 17,
   "metadata": {},
   "outputs": [
    {
     "name": "stdout",
     "output_type": "stream",
     "text": [
      "The username is Aarjeyan Shrestha. Your contact is as@example.com and +165484651 .\n",
      "The username is Rajan Ghimire. Your contact is rg@gmail.com and +168735431 .\n",
      "The username is Sudip Chaudhari. Your contact is sc@gmail.com and +16532184 .\n",
      "The username is Ramu Kaka. Your contact is aaila@gmail.com and +1647594408 .\n",
      " Greetings!!! Aarjeyan Shrestha\n",
      " Greetings!!! Rajan Ghimire\n",
      " Greetings!!! Sudip Chaudhari\n",
      " Greetings!!! Ramu Kaka\n"
     ]
    }
   ],
   "source": [
    "#defining the User Class\n",
    "class User:\n",
    "     #inintaizing the attributes first_name, last_name, email, phone_no\n",
    "    def __init__(self, first_name, last_name, email, phone_no):\n",
    "        self.first_name = first_name\n",
    "        self.last_name = last_name\n",
    "        self.email = email\n",
    "        self.phone_no = phone_no\n",
    "        \n",
    "    #methods to decribe the user by all its inofrmation\n",
    "    def describe_user(self):\n",
    "        print(f\"The username is {self.first_name} {self.last_name}. Your contact is {self.email} and {self.phone_no} .\")\n",
    "        \n",
    "    #methods to greeting the user using its firts name and last name\n",
    "    def greet_user(self):\n",
    "        print(f\" Greetings!!! {self.first_name} {self.last_name}\")\n",
    "\n",
    "# Creating instances of the User class       \n",
    "user = User(\"Aarjeyan\", \"Shrestha\", \"as@example.com\", \"+165484651\")\n",
    "user1 = User(\"Rajan\", \"Ghimire\", \"rg@gmail.com\", \"+168735431\")\n",
    "user2 = User(\"Sudip\", \"Chaudhari\", \"sc@gmail.com\", \"+16532184\")\n",
    "user3 = User(\"Ramu\", \"Kaka\", \"aaila@gmail.com\", \"+1647594408\")\n",
    "\n",
    "\n",
    "#printing the description of user\n",
    "user.describe_user()\n",
    "user1.describe_user()\n",
    "user2.describe_user()\n",
    "user3.describe_user()\n",
    "\n",
    "#prinitng the greeting for user with its first_name and last_name\n",
    "user.greet_user()\n",
    "user1.greet_user()\n",
    "user2.greet_user()\n",
    "user3.greet_user()"
   ]
  },
  {
   "cell_type": "markdown",
   "metadata": {},
   "source": [
    "#### Write a method that updates the odometer in the following code and then instantiate an object and test your newly added method. "
   ]
  },
  {
   "cell_type": "code",
   "execution_count": 18,
   "metadata": {},
   "outputs": [
    {
     "name": "stdout",
     "output_type": "stream",
     "text": [
      "2019 Audi A4\n",
      "This cars has 0 miles on it.\n",
      "This cars has 40 miles on it.\n",
      "Increament value of odometer : 60\n"
     ]
    }
   ],
   "source": [
    "class Car:\n",
    "    #initializing attributes to describe th car like: make, model, year, odometer_reading\n",
    "    def __init__(self, make, model, year):\n",
    "        self.make= make\n",
    "        self.model = model\n",
    "        self.year = year\n",
    "        self.odometer_reading = 0\n",
    "        \n",
    "     #method for decripption of the car   \n",
    "    def get_descriptive_name(self):\n",
    "        long_name = f\"{self.year} {self.make} {self.model}\"\n",
    "        return long_name.title()\n",
    "    \n",
    "    #method to read the odometer\n",
    "    def read_odometer(self):\n",
    "        print(f\"This cars has {self.odometer_reading} miles on it.\")\n",
    "        \n",
    "    #method the odometer with attribute called miles\n",
    "    def increment_odometer(self, miles):\n",
    "        \"\"\"Add the given amount to the odometer reading.\"\"\"\n",
    "        self.odometer_reading += miles   \n",
    "\n",
    "        #calling and prinitng all the function\n",
    "my_new_car = Car('Audi','a4', 2019)\n",
    "print(my_new_car.get_descriptive_name())\n",
    "my_new_car.read_odometer()\n",
    "my_new_car.odometer_reading = 40\n",
    "my_new_car.read_odometer()\n",
    "\n",
    "#increasing the value of the odometer and printing itS\n",
    "my_new_car.increment_odometer(20)\n",
    "print(\"Increament value of odometer :\", my_new_car.odometer_reading)"
   ]
  },
  {
   "cell_type": "markdown",
   "metadata": {},
   "source": [
    "#### 9-4. Number Served: Start with your program from Exercise 9-1.\n",
    "Add an attribute called number_served with a default value of 0. Create an\n",
    "instance called restaurant from this class. Print the number of customers the\n",
    "restaurant has served, and then change this value and print it again.\n",
    "Add a method called set_number_served() that lets you set the number\n",
    "of customers that have been served. Call this method with a new number and\n",
    "print the value again.\n",
    "Add a method called increment_number_served() that lets you increment\n",
    "the number of customers who’ve been served. Call this method with any number you like that could represent how many customers were served in, say, a\n",
    "day of business."
   ]
  },
  {
   "cell_type": "code",
   "execution_count": 19,
   "metadata": {},
   "outputs": [
    {
     "name": "stdout",
     "output_type": "stream",
     "text": [
      "The number of customers served: 0\n",
      "The number of customers served: 120\n",
      "We added 50 customer.\n",
      "Number of customers served after incrementing: 170\n"
     ]
    }
   ],
   "source": [
    "#defining the Resturant class\n",
    "class Resturant:\n",
    "    #inintaizing the attributes resturant_name and cuisine_typ\n",
    "    def __init__(self, restaurant_name, cuisine_type):\n",
    "        self.restaurant_name = restaurant_name\n",
    "        self.cuisine_type = cuisine_type\n",
    "        self.number_served = 0\n",
    "    #defining the function called set_number_served() that lets you set the number of customers that have been served  \n",
    "    def set_number_served(self):\n",
    "        print(f\"The number of customers served: {self.number_served}\")\n",
    "    \n",
    "    #defining the function increment_number_served() that lets you increment the number of customers who’ve been served\n",
    "    def increment_number_served(self, increment):\n",
    "        self.number_served += increment \n",
    "        # displaying how many  customer were added to the system\n",
    "        print(f\"We added {increment} customer.\") \n",
    "\n",
    "    #printing the information\n",
    "restaurant = Resturant(\"Pizzaville\", \"Italian\")\n",
    "restaurant.set_number_served()\n",
    "restaurant.number_served = 120\n",
    "restaurant.set_number_served()\n",
    "\n",
    "# Using the increment_number_served() method to increment the number served\n",
    "restaurant.increment_number_served(50)\n",
    "print(\"Number of customers served after incrementing:\", restaurant.number_served)"
   ]
  },
  {
   "cell_type": "markdown",
   "metadata": {},
   "source": [
    "#### 9-5. Login Attempts:\n",
    " Add an attribute called login_attempts to your Userclass from Exercise 9-3. Write a method called increment_login\n",
    "_attempts() that increments the value of login_attempts by 1. Write another\n",
    "method called reset_login_attempts() that resets the value of login_attempts\n",
    "to 0.\n",
    "Make an instance of the User class and call increment_login_attempts()\n",
    "several times. Print the value of login_attempts to make sure it was incremented\n",
    "properly, and then call reset_login_attempts(). Print login_attempts again to\n",
    "make sure it was reset to 0."
   ]
  },
  {
   "cell_type": "code",
   "execution_count": 20,
   "metadata": {},
   "outputs": [
    {
     "name": "stdout",
     "output_type": "stream",
     "text": [
      "The username is Rajan Ghimire. Your contact is rg@gmail.com and +168735431 .\n",
      " Greetings!!! Rajan Ghimire\n",
      "The username is Sudip Chaudhari. Your contact is sc@gmail.com and +16532184 .\n",
      " Greetings!!! Sudip Chaudhari\n",
      "The username is Ramu Kaka. Your contact is aaila@gmail.com and +1647594408 .\n",
      " Greetings!!! Ramu Kaka\n",
      "The login attempts for Rajan Ghimire has been successfully incremented to 1\n",
      "The login attempts for Rajan Ghimire has been successfully incremented to 2\n",
      "The login attempts for Ramu Kaka has been successfully incremented to 1\n",
      "The login attempts for Sudip Chaudhari has been successfully incremented to 1\n",
      "The login attempts for Ramu Kaka has been successfully incremented to 2\n",
      "The login attempts for Rajan Ghimire has been reset to 0\n",
      "The login attempts for Ramu Kaka has been reset to 0\n"
     ]
    }
   ],
   "source": [
    "#defining the User Class\n",
    "class User:\n",
    "     #inintaizing the attributes first_name, last_name, email, phone_no\n",
    "    def __init__(self, first_name, last_name, email, phone_no):\n",
    "        self.first_name = first_name\n",
    "        self.last_name = last_name\n",
    "        self.email = email\n",
    "        self.phone_no = phone_no\n",
    "        self.login_attempts = 0\n",
    "        \n",
    "    #methods to decribe the user by all its inofrmation\n",
    "    def describe_user(self):\n",
    "        print(f\"The username is {self.first_name} {self.last_name}. Your contact is {self.email} and {self.phone_no} .\")\n",
    "        \n",
    "    #methods to greeting the user using its firts name and last name\n",
    "    def greet_user(self):\n",
    "        print(f\" Greetings!!! {self.first_name} {self.last_name}\")\n",
    "        \n",
    "    def increment_login_attempts(self):\n",
    "        self.login_attempts += 1\n",
    "        print(f\"The login attempts for {self.first_name} {self.last_name} has been successfully incremented to {self.login_attempts}\")\n",
    "\n",
    "    def reset_login_attempts(self):\n",
    "        self.login_attempts = 0\n",
    "        print(f\"The login attempts for {self.first_name} {self.last_name} has been reset to {self.login_attempts}\")\n",
    "\n",
    "#creating different instances\n",
    "user = User(\"Aarjeyan\", \"Shrestha\", \"as@example.com\", \"+165484651\")\n",
    "user1 = User(\"Rajan\", \"Ghimire\", \"rg@gmail.com\", \"+168735431\")\n",
    "user2 = User(\"Sudip\", \"Chaudhari\", \"sc@gmail.com\", \"+16532184\")\n",
    "user3 = User(\"Ramu\", \"Kaka\", \"aaila@gmail.com\", \"+1647594408\")\n",
    "\n",
    "# call user info for 1\n",
    "user1.describe_user()\n",
    "user1.greet_user()\n",
    "\n",
    "# call user info for 2\n",
    "user2.describe_user()\n",
    "user2.greet_user()\n",
    "\n",
    "# call user info for 3\n",
    "user3.describe_user()\n",
    "user3.greet_user()\n",
    "\n",
    "# Increase user login\n",
    "user1.increment_login_attempts()\n",
    "user1.increment_login_attempts()\n",
    "user3.increment_login_attempts()\n",
    "user2.increment_login_attempts()\n",
    "user3.increment_login_attempts()\n",
    "\n",
    "# Reset user login\n",
    "user1.reset_login_attempts()\n",
    "user3.reset_login_attempts()"
   ]
  }
 ],
 "metadata": {
  "kernelspec": {
   "display_name": "Python 3",
   "language": "python",
   "name": "python3"
  },
  "language_info": {
   "codemirror_mode": {
    "name": "ipython",
    "version": 3
   },
   "file_extension": ".py",
   "mimetype": "text/x-python",
   "name": "python",
   "nbconvert_exporter": "python",
   "pygments_lexer": "ipython3",
   "version": "3.12.2"
  }
 },
 "nbformat": 4,
 "nbformat_minor": 2
}
