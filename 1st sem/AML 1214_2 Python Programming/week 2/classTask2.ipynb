{
 "cells": [
  {
   "cell_type": "markdown",
   "metadata": {},
   "source": [
    "## Class Task 2"
   ]
  },
  {
   "cell_type": "markdown",
   "metadata": {},
   "source": [
    "#### Write a program to display your name,\n",
    "#### Program Name and courses you are taking this semester"
   ]
  },
  {
   "cell_type": "code",
   "execution_count": 14,
   "metadata": {},
   "outputs": [],
   "source": [
    "\"\"\"This section of the code declares all the variables \n",
    "    name : string : takes the name of the student\n",
    "    program_name : string : takes the name of the program the student is involved \n",
    "    courses : tuple : takes all the courses the student is enrolled to \n",
    "\"\"\"\n",
    "\n",
    "name = \"Aarjeyan Shrestha\" \n",
    "program_name = \"Artificial Intelligence and Machine Learning (AIMT)\"\n",
    "courses = (\"AML 1114_2 Data Science and Machine Learning\",\"AML 1214_2 Python Programming\",\"AML 1301_2 Careers in Artificial Intelligence\",\"AML 1413_2 Introduction to Artificial Intelligence\",\"CBD 2214_2 Big data fundamental Data storage and Networking\",\"COM 2013_2 Professionaal Communications\")\n"
   ]
  },
  {
   "cell_type": "code",
   "execution_count": 15,
   "metadata": {},
   "outputs": [
    {
     "name": "stdout",
     "output_type": "stream",
     "text": [
      "Hello! My name is Aarjeyan Shrestha.\n",
      "I am enrolled in Post Graduate Course in Artificial Intelligence and Machine Learning (AIMT).\n",
      "The courses that I am taking this semester is: \n",
      "1. AML 1114_2 Data Science and Machine Learning\n",
      "2. AML 1214_2 Python Programming\n",
      "3. AML 1301_2 Careers in Artificial Intelligence\n",
      "4. AML 1413_2 Introduction to Artificial Intelligence\n",
      "5. CBD 2214_2 Big data fundamental Data storage and Networking\n",
      "6. COM 2013_2 Professionaal Communications\n"
     ]
    }
   ],
   "source": [
    "\"\"\"This section of the code displays the student name, program name and\n",
    "    courses the student is taking this semester\n",
    "    to display the different courses \"for loop\" is used\n",
    "    x : int : counter for the loop\n",
    "\"\"\"\n",
    "print(\"Hello! My name is \" + name + \".\")\n",
    "print(\"I am enrolled in Post Graduate Course in \" + program_name + \".\")\n",
    "\n",
    "print(\"The courses that I am taking this semester is: \")\n",
    "#displaying all the courses using a for loop\n",
    "x = 1\n",
    "for each_course in courses:\n",
    "    print(str(x) + \". \" + each_course)\n",
    "    x +=1\n"
   ]
  }
 ],
 "metadata": {
  "kernelspec": {
   "display_name": "Python 3",
   "language": "python",
   "name": "python3"
  },
  "language_info": {
   "codemirror_mode": {
    "name": "ipython",
    "version": 3
   },
   "file_extension": ".py",
   "mimetype": "text/x-python",
   "name": "python",
   "nbconvert_exporter": "python",
   "pygments_lexer": "ipython3",
   "version": "3.11.1"
  }
 },
 "nbformat": 4,
 "nbformat_minor": 2
}
