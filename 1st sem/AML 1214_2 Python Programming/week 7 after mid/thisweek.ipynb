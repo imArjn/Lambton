{
 "cells": [
  {
   "cell_type": "code",
   "execution_count": 1,
   "metadata": {},
   "outputs": [
    {
     "name": "stdout",
     "output_type": "stream",
     "text": [
      "He said,'What is your name?'\n",
      "He said,\"What is your name?\"\n"
     ]
    }
   ],
   "source": [
    "print(\"He said,'What is your name?'\")\n",
    "print('He said,\"What is your name?\"')"
   ]
  },
  {
   "cell_type": "code",
   "execution_count": 4,
   "metadata": {},
   "outputs": [
    {
     "name": "stdout",
     "output_type": "stream",
     "text": [
      "He said,\"\"\"What's up?\"\"\"\n"
     ]
    }
   ],
   "source": [
    "print(\"He said,\\\"\\\"\\\"What's up?\\\"\\\"\\\"\")"
   ]
  },
  {
   "cell_type": "code",
   "execution_count": 6,
   "metadata": {},
   "outputs": [
    {
     "name": "stdout",
     "output_type": "stream",
     "text": [
      "He said,'''Wnat's up?'''\n"
     ]
    }
   ],
   "source": [
    "print('He said,\\'\\'\\'Wnat\\'s up?\\'\\'\\'')"
   ]
  },
  {
   "cell_type": "code",
   "execution_count": 7,
   "metadata": {},
   "outputs": [
    {
     "name": "stdout",
     "output_type": "stream",
     "text": [
      "My name is \n",
      " AArjeyan\n"
     ]
    }
   ],
   "source": [
    "print(\"My name is \\n AArjeyan\")"
   ]
  },
  {
   "cell_type": "code",
   "execution_count": 8,
   "metadata": {},
   "outputs": [
    {
     "name": "stdout",
     "output_type": "stream",
     "text": [
      "This is going to show the single tab\t this portion is the tab\n"
     ]
    }
   ],
   "source": [
    "print(\"This is going to show the single tab\\t this portion is the tab\")"
   ]
  },
  {
   "cell_type": "code",
   "execution_count": 13,
   "metadata": {},
   "outputs": [
    {
     "name": "stdout",
     "output_type": "stream",
     "text": [
      "Life is not easy in Canada\n",
      "Arjn12\n"
     ]
    }
   ],
   "source": [
    "statement = \"Life is not easy in Canada\"\n",
    "author = \"Arjn\"\n",
    "quote = statement + \"\\n\" + author + \"1\" + str(2)\n",
    "print(quote)"
   ]
  },
  {
   "cell_type": "code",
   "execution_count": 26,
   "metadata": {},
   "outputs": [
    {
     "name": "stdout",
     "output_type": "stream",
     "text": [
      "I like Python ß éI like Python ß éI like Python ß é\n"
     ]
    }
   ],
   "source": [
    "first = \"I like Python ß é\"\n",
    "print(3 * first)"
   ]
  },
  {
   "cell_type": "code",
   "execution_count": 27,
   "metadata": {},
   "outputs": [
    {
     "name": "stdout",
     "output_type": "stream",
     "text": [
      "i like python ß é\n",
      "i like python ss é\n"
     ]
    }
   ],
   "source": [
    "print(first.lower())\n",
    "print(first.casefold())"
   ]
  },
  {
   "cell_type": "code",
   "execution_count": 29,
   "metadata": {},
   "outputs": [
    {
     "data": {
      "text/plain": [
       "True"
      ]
     },
     "execution_count": 29,
     "metadata": {},
     "output_type": "execute_result"
    }
   ],
   "source": [
    "first.endswith(\"é\")"
   ]
  },
  {
   "cell_type": "code",
   "execution_count": 37,
   "metadata": {},
   "outputs": [
    {
     "name": "stdout",
     "output_type": "stream",
     "text": [
      "-1\n",
      "7\n"
     ]
    }
   ],
   "source": [
    "a = \"I like Python\"\n",
    "print(a.find(\"A\")) # if not found , It does not give error instead returns -1\n",
    "print(a.index(\"Python\")) # if not found, returns error (substring not found)"
   ]
  },
  {
   "cell_type": "code",
   "execution_count": 38,
   "metadata": {},
   "outputs": [
    {
     "data": {
      "text/plain": [
       "-1"
      ]
     },
     "execution_count": 38,
     "metadata": {},
     "output_type": "execute_result"
    }
   ],
   "source": [
    "a.find(\"A\")"
   ]
  },
  {
   "cell_type": "code",
   "execution_count": 47,
   "metadata": {},
   "outputs": [
    {
     "name": "stdout",
     "output_type": "stream",
     "text": [
      "My age is 20\n",
      "My age is 20\n"
     ]
    }
   ],
   "source": [
    "age = 20 \n",
    "print(f\"My age is {age}\")\n",
    "print(\"My age is {}\".format(age))"
   ]
  },
  {
   "cell_type": "code",
   "execution_count": 49,
   "metadata": {},
   "outputs": [
    {
     "name": "stdout",
     "output_type": "stream",
     "text": [
      "Sudip age is 20\n"
     ]
    }
   ],
   "source": [
    "name = \"Sudip\"\n",
    "print(\"{} age is {}\".format(name,age))"
   ]
  },
  {
   "cell_type": "code",
   "execution_count": 50,
   "metadata": {},
   "outputs": [
    {
     "data": {
      "text/plain": [
       "'Lole Lole Lole'"
      ]
     },
     "execution_count": 50,
     "metadata": {},
     "output_type": "execute_result"
    }
   ],
   "source": [
    "b = \"lole lole lole\"\n",
    "b.title()"
   ]
  },
  {
   "cell_type": "code",
   "execution_count": null,
   "metadata": {},
   "outputs": [],
   "source": []
  }
 ],
 "metadata": {
  "kernelspec": {
   "display_name": "Python 3",
   "language": "python",
   "name": "python3"
  },
  "language_info": {
   "codemirror_mode": {
    "name": "ipython",
    "version": 3
   },
   "file_extension": ".py",
   "mimetype": "text/x-python",
   "name": "python",
   "nbconvert_exporter": "python",
   "pygments_lexer": "ipython3",
   "version": "3.12.2"
  }
 },
 "nbformat": 4,
 "nbformat_minor": 2
}
