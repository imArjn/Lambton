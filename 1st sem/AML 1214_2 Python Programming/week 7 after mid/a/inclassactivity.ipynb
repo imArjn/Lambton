{
 "cells": [
  {
   "cell_type": "markdown",
   "metadata": {},
   "source": [
    "1) Write a Python function that takes a string and calculates the length of a string and returns it.\n",
    "Print the returned value."
   ]
  },
  {
   "cell_type": "code",
   "execution_count": 3,
   "metadata": {},
   "outputs": [
    {
     "name": "stdout",
     "output_type": "stream",
     "text": [
      "Length of 'I like Python' is: 13\n"
     ]
    }
   ],
   "source": [
    "# creating a function that takes a string to calculate the length of a string\n",
    "def calculate_length_of_string(text):\n",
    "    return  len(text)\n",
    "# calling the function with an example text\n",
    "example_text = \"I like Python\"\n",
    "print(\"Length of '{}' is: {}\".format(example_text,calculate_length_of_string(example_text)))"
   ]
  },
  {
   "cell_type": "markdown",
   "metadata": {},
   "source": [
    "2) Write a Python function that takes a string and counts the number of characters (character\n",
    "frequency) in a string. For example, if we send 'google.com' to the function, it should return a\n",
    "dictionary like this {'g': 2, 'o': 3, 'l': 1, 'e': 1, '.': 1, 'c': 1, 'm': 1}\n"
   ]
  },
  {
   "cell_type": "code",
   "execution_count": 6,
   "metadata": {},
   "outputs": [
    {
     "name": "stdout",
     "output_type": "stream",
     "text": [
      "{'g': 2, 'o': 3, 'l': 1, 'e': 1, '.': 1, 'c': 1, 'm': 1}\n",
      "{'f': 1, 'a': 1, 'c': 2, 'e': 1, 'b': 1, 'o': 3, 'k': 1, '.': 1, 'm': 1}\n"
     ]
    }
   ],
   "source": [
    "# creating a function that takes a string and counts the character frequency.\n",
    "def frequency_of_string(string):\n",
    "    frequency = {}\n",
    "    for  char in string:\n",
    "        if char in frequency:\n",
    "            frequency[char] +=1\n",
    "        else:\n",
    "            frequency[char] = 1 \n",
    "    return frequency\n",
    "\n",
    "# testing the function with an example\n",
    "print(frequency_of_string(\"google.com\"))\n",
    "print(frequency_of_string(\"facebook.com\"))\n",
    "            \n",
    "    "
   ]
  },
  {
   "cell_type": "markdown",
   "metadata": {},
   "source": [
    "Create a string of your choice and apply a minimum of 8 of following methods to it and print the\n",
    "result.\n",
    "https://docs.python.org/3.8/library/string.html"
   ]
  },
  {
   "cell_type": "code",
   "execution_count": 32,
   "metadata": {},
   "outputs": [],
   "source": [
    "#declaring a string\n",
    "astring = \"Hello  World ß\""
   ]
  },
  {
   "cell_type": "code",
   "execution_count": 33,
   "metadata": {},
   "outputs": [
    {
     "data": {
      "text/plain": [
       "'Hello  world ß'"
      ]
     },
     "execution_count": 33,
     "metadata": {},
     "output_type": "execute_result"
    }
   ],
   "source": [
    "# using str.capitalize()\n",
    "astring.capitalize()"
   ]
  },
  {
   "cell_type": "code",
   "execution_count": 34,
   "metadata": {},
   "outputs": [
    {
     "data": {
      "text/plain": [
       "'hello  world ss'"
      ]
     },
     "execution_count": 34,
     "metadata": {},
     "output_type": "execute_result"
    }
   ],
   "source": [
    "#using str.casefold()\n",
    "astring.casefold()"
   ]
  },
  {
   "cell_type": "code",
   "execution_count": 37,
   "metadata": {},
   "outputs": [
    {
     "data": {
      "text/plain": [
       "3"
      ]
     },
     "execution_count": 37,
     "metadata": {},
     "output_type": "execute_result"
    }
   ],
   "source": [
    "#using str.count()\n",
    "astring.count(\"l\")"
   ]
  },
  {
   "cell_type": "code",
   "execution_count": 39,
   "metadata": {},
   "outputs": [
    {
     "data": {
      "text/plain": [
       "'   Hello  World ß   '"
      ]
     },
     "execution_count": 39,
     "metadata": {},
     "output_type": "execute_result"
    }
   ],
   "source": [
    "#using str.center()\n",
    "astring.center(20)"
   ]
  },
  {
   "cell_type": "code",
   "execution_count": 40,
   "metadata": {},
   "outputs": [
    {
     "data": {
      "text/plain": [
       "13"
      ]
     },
     "execution_count": 40,
     "metadata": {},
     "output_type": "execute_result"
    }
   ],
   "source": [
    "#using str.find()\n",
    "astring.find(\"ß\")"
   ]
  },
  {
   "cell_type": "code",
   "execution_count": 42,
   "metadata": {},
   "outputs": [
    {
     "name": "stdout",
     "output_type": "stream",
     "text": [
      "My name is Arjn and I am 23 years old living in KTM\n"
     ]
    }
   ],
   "source": [
    "#declaring a dictionary\n",
    "myInfo = {\"name\":\"Arjn\",\"age\":23,\"city\":\"KTM\"}\n",
    "\n",
    "# using str.format_map\n",
    "print(\"My name is {name} and I am {age} years old living in {city}\".format_map(myInfo))"
   ]
  },
  {
   "cell_type": "code",
   "execution_count": 48,
   "metadata": {},
   "outputs": [
    {
     "data": {
      "text/plain": [
       "7"
      ]
     },
     "execution_count": 48,
     "metadata": {},
     "output_type": "execute_result"
    }
   ],
   "source": [
    "#using str.index()\n",
    "astring.index(\"World\")"
   ]
  },
  {
   "cell_type": "code",
   "execution_count": 56,
   "metadata": {},
   "outputs": [
    {
     "name": "stdout",
     "output_type": "stream",
     "text": [
      "False\n",
      "True\n"
     ]
    }
   ],
   "source": [
    "#using is str.islower()\n",
    "print(astring.islower())\n",
    "\n",
    "alower = astring.lower()\n",
    "print(alower.islower())\n",
    "\n"
   ]
  },
  {
   "cell_type": "markdown",
   "metadata": {},
   "source": [
    "Write a Python function that converts temperatures from Fahrenheit to Celsius. "
   ]
  },
  {
   "cell_type": "code",
   "execution_count": 26,
   "metadata": {},
   "outputs": [
    {
     "name": "stdout",
     "output_type": "stream",
     "text": [
      "Temperature in Celsius is : 37.77777777777778 C\n"
     ]
    }
   ],
   "source": [
    "#defining a functin to convert temperature from Fahrenheit to Celsius\n",
    "def  f_to_c(temp):\n",
    "    return (temp - 32) * 5/9\n",
    "#taking user input for the temperature in Fahrenheit\n",
    "user_input = float(input(\"Enter Temperature in Fahrenheit: \"))\n",
    "#calling the function and displaying the result\n",
    "print(\"Temperature in Celsius is :\",f_to_c(user_input),\"C\")\n"
   ]
  },
  {
   "cell_type": "markdown",
   "metadata": {},
   "source": [
    "# Python Challenge: Word Frequency Analysis\n",
    "\n",
    "## Problem Statement\n",
    "\n",
    "You are tasked with writing a Python function named `word_frequency_analysis` that analyzes the frequency of words in a given text. The function should perform the following operations:\n",
    "\n",
    "1. **Preprocessing:**\n",
    "   - Convert the entire text to lowercase to ensure case-insensitive processing.\n",
    "   - Remove any characters that are not alphabetic or spaces (to ensure only words are processed).\n",
    "\n",
    "2. **Word Extraction:**\n",
    "   - Using a while loop, iterate through the preprocessed text to extract individual words.\n",
    "   - Words are defined as sequences of alphabetic characters separated by spaces.\n",
    "\n",
    "3. **Frequency Analysis:**\n",
    "   - Use a dictionary to track the frequency of each word encountered.\n",
    "   - The keys in the dictionary should be the unique words, and the corresponding values should be the counts of those words in the text.\n",
    "\n",
    "4. **Unique Letter Count:**\n",
    "   - For each word, also calculate the number of unique letters it contains.\n",
    "   - Store this information in another dictionary where each word is a key, and the value is the count of unique letters in that word.\n",
    "\n",
    "5. **Return Data:**\n",
    "   - The function should return a tuple containing two elements:\n",
    "     - The first element is the word frequency dictionary.\n",
    "     - The second element is the dictionary with counts of unique letters in each word.\n",
    "\n",
    "### Example\n",
    "\n",
    "- **Input:** `\"Hello, world! Hello, everyone.\"`\n",
    "- **Output:** `({'hello': 2, 'world': 1, 'everyone': 1}, {'hello': 4, 'world': 5, 'everyone': 6})`\n",
    "\n",
    "### Implementation Tips\n",
    "\n",
    "- Consider using the `.replace()` method to handle unwanted characters during preprocessing.\n",
    "- Use a `while` loop to iterate through the text for word extraction.\n",
    "- Utilize a `set` to easily calculate the number of unique letters in each word.\n",
    "- Pay attention to edge cases, such as texts with no alphabetic characters or multiple consecutive spaces.\n",
    "\n",
    "---\n",
    "\n",
    "This challenge will test your ability to manipulate strings, iterate with control structures, and effectively use collections like dictionaries and sets. Good luck!\n"
   ]
  },
  {
   "cell_type": "code",
   "execution_count": 91,
   "metadata": {},
   "outputs": [
    {
     "data": {
      "text/plain": [
       "({'hello': 1,\n",
       "  'everyone': 1,\n",
       "  'my': 1,\n",
       "  'name': 1,\n",
       "  'is': 1,\n",
       "  'aarjeyan': 1,\n",
       "  'shrestha': 1,\n",
       "  'i': 1,\n",
       "  'have': 1},\n",
       " {'hello': 4,\n",
       "  'everyone': 6,\n",
       "  'my': 2,\n",
       "  'name': 4,\n",
       "  'is': 2,\n",
       "  'aarjeyan': 6,\n",
       "  'shrestha': 6,\n",
       "  'i': 1,\n",
       "  'have': 4})"
      ]
     },
     "execution_count": 91,
     "metadata": {},
     "output_type": "execute_result"
    }
   ],
   "source": [
    "import string\n",
    "# defining a function to display the word frequency from the string of words\n",
    "def word_frequency_analysis(mystring):\n",
    "    #preprocessing\n",
    "    #converting  all characters in lower case \n",
    "    mystring = mystring.lower()\n",
    "    \n",
    "    #removing special characters and numbers using .replace() method to convert into whitespace\n",
    "    for each_char in mystring:\n",
    "        if each_char in string.punctuation or each_char.isdigit():\n",
    "            mystring = mystring.replace(each_char, \"\")\n",
    "    #word extraction\n",
    "    #Using a while loop, iterate through the preprocessed text to extract individual words\n",
    "    i=0\n",
    "    start=i\n",
    "    wordlist=[]\n",
    "    while i < len(mystring):\n",
    "        if mystring[i] != ' ':\n",
    "            i += 1\n",
    "        else:\n",
    "            wordlist.append(mystring[start:i])\n",
    "            i+=1\n",
    "            start = i\n",
    "    # removing the \"\" (empty object) from the list\n",
    "    wordlist = [x for x in wordlist if x]\n",
    "\n",
    "    \n",
    "    #frequency analysis\n",
    "    #using dictionary to track the frequency of the words\n",
    "    freq_dict={}\n",
    "    for word in wordlist:\n",
    "        if word in freq_dict:\n",
    "            freq_dict[word]+=1\n",
    "        else:\n",
    "            freq_dict[word]=1\n",
    "    \n",
    "    #unique letter count\n",
    "    # checking the unique alphabets for each words using a set function and creating new dictionary\n",
    "    uclc_dict={}\n",
    "    for  word in wordlist:\n",
    "        uclc_dict[word] = len(set(word))\n",
    "        \n",
    "    #returning the value  as per requirement\n",
    "    return  freq_dict, uclc_dict\n",
    "\n",
    "word_frequency_analysis(\"Hello Everyone! My name is Aarjeyan Shrestha. I have $100\")\n"
   ]
  },
  {
   "cell_type": "code",
   "execution_count": null,
   "metadata": {},
   "outputs": [],
   "source": []
  }
 ],
 "metadata": {
  "kernelspec": {
   "display_name": "Python 3",
   "language": "python",
   "name": "python3"
  },
  "language_info": {
   "codemirror_mode": {
    "name": "ipython",
    "version": 3
   },
   "file_extension": ".py",
   "mimetype": "text/x-python",
   "name": "python",
   "nbconvert_exporter": "python",
   "pygments_lexer": "ipython3",
   "version": "3.12.2"
  }
 },
 "nbformat": 4,
 "nbformat_minor": 2
}
