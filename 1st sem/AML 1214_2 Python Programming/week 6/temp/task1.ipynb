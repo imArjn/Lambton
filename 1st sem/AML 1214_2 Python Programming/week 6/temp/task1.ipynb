{
 "cells": [
  {
   "cell_type": "code",
   "execution_count": 1,
   "metadata": {},
   "outputs": [],
   "source": [
    "import math\n",
    "import statistics\n",
    "\n",
    "\n"
   ]
  },
  {
   "cell_type": "markdown",
   "metadata": {},
   "source": [
    "# List"
   ]
  },
  {
   "cell_type": "code",
   "execution_count": 3,
   "metadata": {},
   "outputs": [
    {
     "name": "stdout",
     "output_type": "stream",
     "text": [
      "Addtion of the list : 150\n"
     ]
    }
   ],
   "source": [
    "# Numerical collections operations\n",
    "numbers_list = [10, 20, 30, 40, 50]\n",
    "# Apply sum, min, max, calculate average, and call standard deviation function\n",
    "\n",
    "# summing all the numbers form the list and making variable list_addtion\n",
    "list_addition = sum(numbers_list)\n",
    "print(f\"Addtion of the list : {list_addition}\")\n"
   ]
  },
  {
   "cell_type": "code",
   "execution_count": 4,
   "metadata": {},
   "outputs": [
    {
     "name": "stdout",
     "output_type": "stream",
     "text": [
      "10\n"
     ]
    }
   ],
   "source": [
    "# displaying min value from the list\n",
    "print(min(numbers_list))\n"
   ]
  },
  {
   "cell_type": "code",
   "execution_count": 5,
   "metadata": {},
   "outputs": [
    {
     "name": "stdout",
     "output_type": "stream",
     "text": [
      "50\n"
     ]
    }
   ],
   "source": [
    "# Displaying max value using max operations\n",
    "print(max(numbers_list))"
   ]
  },
  {
   "cell_type": "code",
   "execution_count": 6,
   "metadata": {},
   "outputs": [
    {
     "name": "stdout",
     "output_type": "stream",
     "text": [
      "30.0\n"
     ]
    }
   ],
   "source": [
    "# Calculate the average of the list\n",
    "sum_of_the_list = sum(numbers_list)\n",
    "length = len(numbers_list)\n",
    "avg = sum_of_the_list/length\n",
    "print(avg)"
   ]
  },
  {
   "cell_type": "code",
   "execution_count": 7,
   "metadata": {},
   "outputs": [
    {
     "name": "stdout",
     "output_type": "stream",
     "text": [
      "15.811388300841896\n"
     ]
    }
   ],
   "source": [
    "#Calculating the standard deviation from the given list\n",
    "numbers_list = [10, 20, 30, 40, 50]\n",
    "#calling the function for calculating standard deviation\n",
    "print(statistics.stdev(numbers_list))\n"
   ]
  },
  {
   "cell_type": "markdown",
   "metadata": {},
   "source": [
    "# Nested Lists\n"
   ]
  },
  {
   "cell_type": "code",
   "execution_count": 8,
   "metadata": {},
   "outputs": [],
   "source": [
    "nested_numbers_list = [[1, 2, 3], [4, 5, 6], [7, 8, 9]]\n",
    "# Calculate total sum, find min and max values across nested lists\n",
    "\n"
   ]
  },
  {
   "cell_type": "code",
   "execution_count": 9,
   "metadata": {},
   "outputs": [],
   "source": [
    "# changing the nested list into flat list\n",
    "flat_list = [each for sublist in nested_numbers_list for each in sublist]"
   ]
  },
  {
   "cell_type": "code",
   "execution_count": 10,
   "metadata": {},
   "outputs": [
    {
     "name": "stdout",
     "output_type": "stream",
     "text": [
      "45\n"
     ]
    }
   ],
   "source": [
    "# summing all the numbers form the nested list using flat list \n",
    "print(sum(flat_list))"
   ]
  },
  {
   "cell_type": "code",
   "execution_count": 11,
   "metadata": {},
   "outputs": [
    {
     "name": "stdout",
     "output_type": "stream",
     "text": [
      "1\n"
     ]
    }
   ],
   "source": [
    "print(min(flat_list))"
   ]
  },
  {
   "cell_type": "code",
   "execution_count": 12,
   "metadata": {},
   "outputs": [
    {
     "name": "stdout",
     "output_type": "stream",
     "text": [
      "9\n"
     ]
    }
   ],
   "source": [
    "print(max(flat_list))"
   ]
  },
  {
   "cell_type": "markdown",
   "metadata": {},
   "source": [
    "# Tuples\n"
   ]
  },
  {
   "cell_type": "code",
   "execution_count": 13,
   "metadata": {},
   "outputs": [],
   "source": [
    "numbers_tuple = (5, 10, 15, 20, 25)\n",
    "# Perform min, max, and calculate average\n"
   ]
  },
  {
   "cell_type": "code",
   "execution_count": 14,
   "metadata": {},
   "outputs": [
    {
     "name": "stdout",
     "output_type": "stream",
     "text": [
      "5\n"
     ]
    }
   ],
   "source": [
    "# Displaying minimum elements from tuples\n",
    "print(min(numbers_tuple))"
   ]
  },
  {
   "cell_type": "code",
   "execution_count": 15,
   "metadata": {},
   "outputs": [
    {
     "name": "stdout",
     "output_type": "stream",
     "text": [
      "25\n"
     ]
    }
   ],
   "source": [
    "#Displaying maximum elements from tuples\n",
    "print(max(numbers_tuple))"
   ]
  },
  {
   "cell_type": "code",
   "execution_count": 16,
   "metadata": {},
   "outputs": [
    {
     "name": "stdout",
     "output_type": "stream",
     "text": [
      "15.0\n"
     ]
    }
   ],
   "source": [
    "#calculate the average of the tuples\n",
    "print(sum(numbers_tuple)/len(numbers_tuple))"
   ]
  },
  {
   "cell_type": "markdown",
   "metadata": {},
   "source": [
    "# Sets"
   ]
  },
  {
   "cell_type": "code",
   "execution_count": 17,
   "metadata": {},
   "outputs": [],
   "source": [
    "# Set operations\n",
    "set_a = {1, 2, 3, 4}\n",
    "set_b = {3, 4, 5, 6}\n",
    "# Demonstrate union, intersection, and difference\n"
   ]
  },
  {
   "cell_type": "code",
   "execution_count": 18,
   "metadata": {},
   "outputs": [
    {
     "name": "stdout",
     "output_type": "stream",
     "text": [
      "{1, 2, 3, 4, 5, 6}\n"
     ]
    }
   ],
   "source": [
    "# Displating Union of the set\n",
    "print(set_a.union(set_b))"
   ]
  },
  {
   "cell_type": "code",
   "execution_count": 19,
   "metadata": {},
   "outputs": [
    {
     "name": "stdout",
     "output_type": "stream",
     "text": [
      "{3, 4}\n"
     ]
    }
   ],
   "source": [
    "#Displaying Intersection of the set\n",
    "print(set_a.intersection(set_b))"
   ]
  },
  {
   "cell_type": "code",
   "execution_count": 20,
   "metadata": {},
   "outputs": [
    {
     "name": "stdout",
     "output_type": "stream",
     "text": [
      "{1, 2}\n"
     ]
    }
   ],
   "source": [
    "#Displating the difference of the set\n",
    "print(set_a.difference(set_b))"
   ]
  },
  {
   "cell_type": "code",
   "execution_count": 21,
   "metadata": {},
   "outputs": [
    {
     "name": "stdout",
     "output_type": "stream",
     "text": [
      "[1, 2, 3, 4, 5, 6]\n"
     ]
    }
   ],
   "source": [
    "# To show the removal of the duplicate form the list\n",
    "l = [1,2,2,2,3,4,5,5,6]\n",
    "newlist = []\n",
    "set(l)\n",
    "for each in set(l):\n",
    "    newlist.append(each)\n",
    "print(newlist)"
   ]
  },
  {
   "cell_type": "code",
   "execution_count": 22,
   "metadata": {},
   "outputs": [
    {
     "name": "stdout",
     "output_type": "stream",
     "text": [
      "Sum of the set is 15\n"
     ]
    }
   ],
   "source": [
    "# perform the sum in the set\n",
    "numbers_set = {1, 2, 3, 4, 5}\n",
    "sum1 = 0\n",
    "for each in numbers_set:\n",
    "    sum1 += each\n",
    "print(f\"Sum of the set is {sum1}\")"
   ]
  },
  {
   "cell_type": "code",
   "execution_count": 23,
   "metadata": {},
   "outputs": [
    {
     "name": "stdout",
     "output_type": "stream",
     "text": [
      "1\n"
     ]
    }
   ],
   "source": [
    "# Display the min from the set\n",
    "numbers_set = {1, 2, 3, 4, 5}\n",
    "print(min(numbers_set))"
   ]
  },
  {
   "cell_type": "code",
   "execution_count": 24,
   "metadata": {},
   "outputs": [
    {
     "name": "stdout",
     "output_type": "stream",
     "text": [
      "5\n"
     ]
    }
   ],
   "source": [
    "#Displaying the max from the set\n",
    "numbers_set = {1, 2, 3, 4, 5}\n",
    "print(max(numbers_set))"
   ]
  },
  {
   "cell_type": "markdown",
   "metadata": {},
   "source": [
    "# String Operations\n"
   ]
  },
  {
   "cell_type": "code",
   "execution_count": 25,
   "metadata": {},
   "outputs": [],
   "source": [
    "# String collections operations\n",
    "strings_list = [\"hello\", \"world\", \"python\", \"programming\"]\n",
    "# Perform uppercase, lowercase conversion, join strings, and replace words"
   ]
  },
  {
   "cell_type": "code",
   "execution_count": 26,
   "metadata": {},
   "outputs": [
    {
     "name": "stdout",
     "output_type": "stream",
     "text": [
      "HELLO\n",
      "WORLD\n",
      "PYTHON\n",
      "PROGRAMMING\n"
     ]
    }
   ],
   "source": [
    "# Converting all the strings to uppercase\n",
    "for each in strings_list:\n",
    "    print(each.upper())"
   ]
  },
  {
   "cell_type": "code",
   "execution_count": 27,
   "metadata": {},
   "outputs": [
    {
     "name": "stdout",
     "output_type": "stream",
     "text": [
      "hello\n",
      "world\n",
      "python\n",
      "programming\n"
     ]
    }
   ],
   "source": [
    "# Converting all the strings into lowercase\n",
    "for each in strings_list:\n",
    "    print(each.lower())"
   ]
  },
  {
   "cell_type": "code",
   "execution_count": 28,
   "metadata": {},
   "outputs": [
    {
     "name": "stdout",
     "output_type": "stream",
     "text": [
      "hello,world,python,programming\n"
     ]
    }
   ],
   "source": [
    "# Concatenate strings with a seperator\n",
    "seperator = \",\"\n",
    "print(seperator.join(strings_list))"
   ]
  },
  {
   "cell_type": "code",
   "execution_count": 29,
   "metadata": {},
   "outputs": [
    {
     "name": "stdout",
     "output_type": "stream",
     "text": [
      "['Hello', 'there', 'my', 'name', 'is', 'Aarjeyan']\n"
     ]
    }
   ],
   "source": [
    "# to show the split of string into list of words\n",
    "my_string = \"Hello there my name is Aarjeyan\"\n",
    "my_list = my_string.split(\" \")\n",
    "print(my_list)\n",
    "\n"
   ]
  },
  {
   "cell_type": "code",
   "execution_count": 30,
   "metadata": {},
   "outputs": [
    {
     "name": "stdout",
     "output_type": "stream",
     "text": [
      "['Hello', 'there', 'my', 'name', 'is', 'Arjn']\n"
     ]
    }
   ],
   "source": [
    "#Replacing the specific word in the list of words\n",
    "my_list[5] = \"Arjn\"\n",
    "print(my_list)"
   ]
  },
  {
   "cell_type": "markdown",
   "metadata": {},
   "source": [
    "# Dictionary Operations"
   ]
  },
  {
   "cell_type": "code",
   "execution_count": 31,
   "metadata": {},
   "outputs": [],
   "source": [
    "# Dictionary operations\n",
    "string_dict = {\"a\": \"apple\", \"b\": \"banana\", \"c\": \"cherry\"}\n",
    "# Manipulate dictionary values: uppercase conversion, find specific keys, concatenate values"
   ]
  },
  {
   "cell_type": "code",
   "execution_count": 32,
   "metadata": {},
   "outputs": [
    {
     "name": "stdout",
     "output_type": "stream",
     "text": [
      "APPLE\n",
      "BANANA\n",
      "CHERRY\n"
     ]
    }
   ],
   "source": [
    "# Changing values to uppercase\n",
    "for key in string_dict:\n",
    "    print(string_dict[key].upper())\n",
    "    "
   ]
  },
  {
   "cell_type": "code",
   "execution_count": 33,
   "metadata": {},
   "outputs": [
    {
     "name": "stdout",
     "output_type": "stream",
     "text": [
      "Key with the value cherry is c\n"
     ]
    }
   ],
   "source": [
    "# finding keys with specific value\n",
    "for key in string_dict:\n",
    "    if string_dict[key] == \"cherry\":\n",
    "        print(f\"Key with the value cherry is {key}\")"
   ]
  },
  {
   "cell_type": "code",
   "execution_count": 34,
   "metadata": {},
   "outputs": [
    {
     "name": "stdout",
     "output_type": "stream",
     "text": [
      "apple,banana,cherry\n"
     ]
    }
   ],
   "source": [
    "# concatenate all the values with a seperator\n",
    "seperator = \",\"\n",
    "new_list = []\n",
    "for each_value in string_dict.values():\n",
    "    new_list.append(each_value)\n",
    "\n",
    "print(seperator.join(new_list))"
   ]
  },
  {
   "cell_type": "markdown",
   "metadata": {},
   "source": [
    "# Additional Challenges\n"
   ]
  },
  {
   "cell_type": "code",
   "execution_count": 35,
   "metadata": {},
   "outputs": [],
   "source": [
    "nested_numbers_list = [[1, 2, 3], [4, 5, 6], [7, 8, 9]]"
   ]
  },
  {
   "cell_type": "code",
   "execution_count": 39,
   "metadata": {},
   "outputs": [
    {
     "name": "stdout",
     "output_type": "stream",
     "text": [
      "[1, 2, 3]\n",
      "Sum of each subset is 6\n",
      "[4, 5, 6]\n",
      "Sum of each subset is 15\n",
      "[7, 8, 9]\n",
      "Sum of each subset is 24\n"
     ]
    }
   ],
   "source": [
    "# Average for each inner list in nested lists\n",
    "for sublist in nested_numbers_list:\n",
    "    print(sublist)\n",
    "    print(f\"Sum of each subset is {sum(sublist)}\")\n",
    "    "
   ]
  },
  {
   "cell_type": "code",
   "execution_count": 38,
   "metadata": {},
   "outputs": [
    {
     "name": "stdout",
     "output_type": "stream",
     "text": [
      "5.0\n"
     ]
    }
   ],
   "source": [
    "# Overall average\n",
    "flat_list = [each for sublist in nested_numbers_list for each in sublist]\n",
    "print(sum(flat_list)/len(flat_list))\n",
    "\n"
   ]
  },
  {
   "cell_type": "code",
   "execution_count": null,
   "metadata": {},
   "outputs": [],
   "source": [
    "jupyter nbconvert --to webpdf --allow-chromium-download your-notebook-file.ipynb"
   ]
  }
 ],
 "metadata": {
  "kernelspec": {
   "display_name": "Python 3",
   "language": "python",
   "name": "python3"
  },
  "language_info": {
   "codemirror_mode": {
    "name": "ipython",
    "version": 3
   },
   "file_extension": ".py",
   "mimetype": "text/x-python",
   "name": "python",
   "nbconvert_exporter": "python",
   "pygments_lexer": "ipython3",
   "version": "3.12.2"
  }
 },
 "nbformat": 4,
 "nbformat_minor": 2
}
