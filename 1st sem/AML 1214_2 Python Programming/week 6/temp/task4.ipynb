{
 "cells": [
  {
   "cell_type": "code",
   "execution_count": 3,
   "metadata": {},
   "outputs": [
    {
     "name": "stdout",
     "output_type": "stream",
     "text": [
      "0.82\n",
      "You have not reached the amount\n"
     ]
    }
   ],
   "source": [
    "# Constants for coin values\n",
    "PENNY_VALUE = 1\n",
    "NICKEL_VALUE = 5\n",
    "DIME_VALUE = 10\n",
    "QUARTER_VALUE = 25\n",
    "PENNIES_IN_DOLLAR = 100\n",
    "\n",
    "def play_dollar_game():\n",
    "    # Initialize variables for the number of each coin type\n",
    "    # Prompt the user for the number of pennies, nickels, dimes, and quarters\n",
    "    # Use input() function and convert the input to integers\n",
    "    # numPennies\n",
    "    numPennies = int(input(\"Enter the number of pennies: \"))\n",
    "    \n",
    "    # numNickels\n",
    "    numNickels = int(input(\"Enter the number of Nickels: \"))\n",
    "    \n",
    "    # numDimes\n",
    "    numDimes = int(input(\"Enter the number of Dimes: \"))\n",
    "    \n",
    "    # numQuarters\n",
    "    numQuarters = int(input(\"Enter the number of Quarters: \"))\n",
    "\n",
    "    # Calculate the total cent value of all coins\n",
    "    total_cent_value = (numPennies * PENNY_VALUE) + (numNickels * NICKEL_VALUE) + (numDimes * DIME_VALUE) + (numQuarters * QUARTER_VALUE)\n",
    "\n",
    "    # Convert the total cent value to dollars\n",
    "    dollor_conversion = total_cent_value/PENNIES_IN_DOLLAR\n",
    "    print(dollor_conversion)\n",
    "\n",
    "    # Determine if the total value equals one dollar and print an appropriate message\n",
    "    # Use conditional statements (if/elif/else) to check the total dollar value\n",
    "    if dollor_conversion == 1:\n",
    "        print(\"You have won the game.\")\n",
    "    elif dollor_conversion > 1:\n",
    "        print(\"You Lose ! You exceeded the amount.\")\n",
    "    else:\n",
    "        print(\"You Lose ! You have not reached the amount\")\n",
    "\n",
    "# Call the function to play the game\n",
    "play_dollar_game()"
   ]
  },
  {
   "cell_type": "code",
   "execution_count": null,
   "metadata": {},
   "outputs": [],
   "source": []
  }
 ],
 "metadata": {
  "kernelspec": {
   "display_name": "Python 3",
   "language": "python",
   "name": "python3"
  },
  "language_info": {
   "codemirror_mode": {
    "name": "ipython",
    "version": 3
   },
   "file_extension": ".py",
   "mimetype": "text/x-python",
   "name": "python",
   "nbconvert_exporter": "python",
   "pygments_lexer": "ipython3",
   "version": "3.12.2"
  }
 },
 "nbformat": 4,
 "nbformat_minor": 2
}
