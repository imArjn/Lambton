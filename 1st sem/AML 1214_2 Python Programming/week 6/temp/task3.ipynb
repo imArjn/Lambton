{
 "cells": [
  {
   "cell_type": "code",
   "execution_count": 9,
   "metadata": {},
   "outputs": [
    {
     "name": "stdout",
     "output_type": "stream",
     "text": [
      "Estimated value of π using 10 terms: 3.141592653589793\n"
     ]
    }
   ],
   "source": [
    "import math\n",
    "\n",
    "def factorial(n):\n",
    "    \"\"\"Calculate the factorial of n.\"\"\"\n",
    "    if n<=1:\n",
    "        return 1\n",
    "    else:\n",
    "        return n*factorial(n-1)\n",
    "\n",
    "\n",
    "def estimate_pi(terms=10):\n",
    "    \"\"\"Estimate the value of π using Ramanujan's infinite series with a fixed number of terms.\"\"\"\n",
    "    total = 0\n",
    "    factor = 2 * math.sqrt(2) / 9801\n",
    "\n",
    "    for k in range(terms):\n",
    "        # Calculate each term in the series\n",
    "        numerator = (factorial(4*k))*(1103+26390*k)\n",
    "        denominator = ((factorial(k))**4) * (396**(4*k))\n",
    "        term = numerator/denominator\n",
    "        # Add the term to the total\n",
    "        total += term\n",
    "\n",
    "    # Calculate the estimate of pi\n",
    "    estimate = (total * factor)\n",
    "    return 1/estimate\n",
    "\n",
    "# Call the estimate_pi function with a predefined number of terms and print the result\n",
    "pi_estimate = estimate_pi(10)  # Using 10 terms for the approximation\n",
    "print(f\"Estimated value of π using 10 terms: {pi_estimate}\")\n",
    "\n",
    "\n",
    "\n"
   ]
  },
  {
   "cell_type": "code",
   "execution_count": null,
   "metadata": {},
   "outputs": [],
   "source": []
  }
 ],
 "metadata": {
  "kernelspec": {
   "display_name": "Python 3",
   "language": "python",
   "name": "python3"
  },
  "language_info": {
   "codemirror_mode": {
    "name": "ipython",
    "version": 3
   },
   "file_extension": ".py",
   "mimetype": "text/x-python",
   "name": "python",
   "nbconvert_exporter": "python",
   "pygments_lexer": "ipython3",
   "version": "3.12.2"
  }
 },
 "nbformat": 4,
 "nbformat_minor": 2
}
