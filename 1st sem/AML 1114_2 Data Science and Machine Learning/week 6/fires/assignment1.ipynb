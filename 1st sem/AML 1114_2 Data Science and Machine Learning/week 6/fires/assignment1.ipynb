{
 "cells": [
  {
   "cell_type": "markdown",
   "metadata": {},
   "source": [
    "## Assignment 1 (10%)"
   ]
  },
  {
   "cell_type": "markdown",
   "metadata": {},
   "source": [
    "#### Submitted by: Aarjeyan Shrestha\n",
    "#### Student ID: C0927422\n"
   ]
  },
  {
   "cell_type": "code",
   "execution_count": null,
   "metadata": {},
   "outputs": [],
   "source": [
    "# importing  necessary libraries\n",
    "import pandas as pd\n",
    "import seaborn as sns\n",
    "import matplotlib.pyplot as plt\n"
   ]
  },
  {
   "cell_type": "code",
   "execution_count": 2,
   "metadata": {},
   "outputs": [],
   "source": [
    "# reading the dataframe\n",
    "df = pd.read_csv(\"fires.csv\", low_memory=False)"
   ]
  },
  {
   "cell_type": "code",
   "execution_count": 3,
   "metadata": {},
   "outputs": [
    {
     "data": {
      "text/html": [
       "<div>\n",
       "<style scoped>\n",
       "    .dataframe tbody tr th:only-of-type {\n",
       "        vertical-align: middle;\n",
       "    }\n",
       "\n",
       "    .dataframe tbody tr th {\n",
       "        vertical-align: top;\n",
       "    }\n",
       "\n",
       "    .dataframe thead th {\n",
       "        text-align: right;\n",
       "    }\n",
       "</style>\n",
       "<table border=\"1\" class=\"dataframe\">\n",
       "  <thead>\n",
       "    <tr style=\"text-align: right;\">\n",
       "      <th></th>\n",
       "      <th>FIRE_NAME</th>\n",
       "      <th>FIRE_SIZE</th>\n",
       "      <th>STATE</th>\n",
       "      <th>LATITUDE</th>\n",
       "      <th>LONGITUDE</th>\n",
       "      <th>FIRE_YEAR</th>\n",
       "      <th>discovery_date</th>\n",
       "      <th>contain_date</th>\n",
       "    </tr>\n",
       "  </thead>\n",
       "  <tbody>\n",
       "    <tr>\n",
       "      <th>0</th>\n",
       "      <td>FOUNTAIN</td>\n",
       "      <td>0.10</td>\n",
       "      <td>CA</td>\n",
       "      <td>40.036944</td>\n",
       "      <td>-121.005833</td>\n",
       "      <td>2005</td>\n",
       "      <td>2005-02-02 00:00:00</td>\n",
       "      <td>2005-02-02 00:00:00</td>\n",
       "    </tr>\n",
       "    <tr>\n",
       "      <th>1</th>\n",
       "      <td>PIGEON</td>\n",
       "      <td>0.25</td>\n",
       "      <td>CA</td>\n",
       "      <td>38.933056</td>\n",
       "      <td>-120.404444</td>\n",
       "      <td>2004</td>\n",
       "      <td>2004-05-12 00:00:00</td>\n",
       "      <td>2004-05-12 00:00:00</td>\n",
       "    </tr>\n",
       "    <tr>\n",
       "      <th>2</th>\n",
       "      <td>SLACK</td>\n",
       "      <td>0.10</td>\n",
       "      <td>CA</td>\n",
       "      <td>38.984167</td>\n",
       "      <td>-120.735556</td>\n",
       "      <td>2004</td>\n",
       "      <td>2004-05-31 00:00:00</td>\n",
       "      <td>2004-05-31 00:00:00</td>\n",
       "    </tr>\n",
       "    <tr>\n",
       "      <th>3</th>\n",
       "      <td>DEER</td>\n",
       "      <td>0.10</td>\n",
       "      <td>CA</td>\n",
       "      <td>38.559167</td>\n",
       "      <td>-119.913333</td>\n",
       "      <td>2004</td>\n",
       "      <td>2004-06-28 00:00:00</td>\n",
       "      <td>2004-07-03 00:00:00</td>\n",
       "    </tr>\n",
       "    <tr>\n",
       "      <th>4</th>\n",
       "      <td>STEVENOT</td>\n",
       "      <td>0.10</td>\n",
       "      <td>CA</td>\n",
       "      <td>38.559167</td>\n",
       "      <td>-119.933056</td>\n",
       "      <td>2004</td>\n",
       "      <td>2004-06-28 00:00:00</td>\n",
       "      <td>2004-07-03 00:00:00</td>\n",
       "    </tr>\n",
       "  </tbody>\n",
       "</table>\n",
       "</div>"
      ],
      "text/plain": [
       "  FIRE_NAME  FIRE_SIZE STATE   LATITUDE   LONGITUDE  FIRE_YEAR  \\\n",
       "0  FOUNTAIN       0.10    CA  40.036944 -121.005833       2005   \n",
       "1    PIGEON       0.25    CA  38.933056 -120.404444       2004   \n",
       "2     SLACK       0.10    CA  38.984167 -120.735556       2004   \n",
       "3      DEER       0.10    CA  38.559167 -119.913333       2004   \n",
       "4  STEVENOT       0.10    CA  38.559167 -119.933056       2004   \n",
       "\n",
       "        discovery_date         contain_date  \n",
       "0  2005-02-02 00:00:00  2005-02-02 00:00:00  \n",
       "1  2004-05-12 00:00:00  2004-05-12 00:00:00  \n",
       "2  2004-05-31 00:00:00  2004-05-31 00:00:00  \n",
       "3  2004-06-28 00:00:00  2004-07-03 00:00:00  \n",
       "4  2004-06-28 00:00:00  2004-07-03 00:00:00  "
      ]
     },
     "execution_count": 3,
     "metadata": {},
     "output_type": "execute_result"
    }
   ],
   "source": [
    "# viewing the dataframe using head() function\n",
    "df.head()"
   ]
  },
  {
   "cell_type": "code",
   "execution_count": 4,
   "metadata": {},
   "outputs": [
    {
     "data": {
      "text/plain": [
       "(1880465, 8)"
      ]
     },
     "execution_count": 4,
     "metadata": {},
     "output_type": "execute_result"
    }
   ],
   "source": [
    "# viewing the shape of the dataframe\n",
    "df.shape"
   ]
  },
  {
   "cell_type": "code",
   "execution_count": 5,
   "metadata": {},
   "outputs": [
    {
     "data": {
      "text/plain": [
       "FIRE_NAME         960479\n",
       "FIRE_SIZE              0\n",
       "STATE                  0\n",
       "LATITUDE               0\n",
       "LONGITUDE              0\n",
       "FIRE_YEAR              0\n",
       "discovery_date         0\n",
       "contain_date      891531\n",
       "dtype: int64"
      ]
     },
     "execution_count": 5,
     "metadata": {},
     "output_type": "execute_result"
    }
   ],
   "source": [
    "# checking the number of null values in the dataframe\n",
    "df.isnull().sum()"
   ]
  },
  {
   "cell_type": "markdown",
   "metadata": {},
   "source": [
    "## (I) Explore the data:"
   ]
  },
  {
   "cell_type": "markdown",
   "metadata": {},
   "source": [
    "#### Q1. Find the dimensions of the DF. Make the colnames lowercase."
   ]
  },
  {
   "cell_type": "code",
   "execution_count": 6,
   "metadata": {},
   "outputs": [
    {
     "name": "stdout",
     "output_type": "stream",
     "text": [
      "(1880465, 8)\n",
      "Number of Rows: 1880465\n",
      "Number of Columns: 8\n",
      "\n"
     ]
    }
   ],
   "source": [
    "#dimension of dataframe\n",
    "print(df.shape)\n",
    "#number of rows and columns in the dataframe\n",
    "print(f\"Number of Rows: {df.shape[0]}\\nNumber of Columns: {df.shape[1]}\\n\")"
   ]
  },
  {
   "cell_type": "code",
   "execution_count": 7,
   "metadata": {},
   "outputs": [
    {
     "data": {
      "text/plain": [
       "Index(['FIRE_NAME', 'FIRE_SIZE', 'STATE', 'LATITUDE', 'LONGITUDE', 'FIRE_YEAR',\n",
       "       'discovery_date', 'contain_date'],\n",
       "      dtype='object')"
      ]
     },
     "execution_count": 7,
     "metadata": {},
     "output_type": "execute_result"
    }
   ],
   "source": [
    "#checking the column names \n",
    "df.columns"
   ]
  },
  {
   "cell_type": "code",
   "execution_count": 8,
   "metadata": {},
   "outputs": [],
   "source": [
    "#changing the column name  of a dataframe\n",
    "df.columns = df.columns.str.lower()"
   ]
  },
  {
   "cell_type": "code",
   "execution_count": 9,
   "metadata": {},
   "outputs": [
    {
     "data": {
      "text/plain": [
       "Index(['fire_name', 'fire_size', 'state', 'latitude', 'longitude', 'fire_year',\n",
       "       'discovery_date', 'contain_date'],\n",
       "      dtype='object')"
      ]
     },
     "execution_count": 9,
     "metadata": {},
     "output_type": "execute_result"
    }
   ],
   "source": [
    "df.columns"
   ]
  },
  {
   "cell_type": "markdown",
   "metadata": {},
   "source": [
    "#### Q2. Rename the column `fire_size` to `acres_burned`."
   ]
  },
  {
   "cell_type": "code",
   "execution_count": 10,
   "metadata": {},
   "outputs": [
    {
     "data": {
      "text/html": [
       "<div>\n",
       "<style scoped>\n",
       "    .dataframe tbody tr th:only-of-type {\n",
       "        vertical-align: middle;\n",
       "    }\n",
       "\n",
       "    .dataframe tbody tr th {\n",
       "        vertical-align: top;\n",
       "    }\n",
       "\n",
       "    .dataframe thead th {\n",
       "        text-align: right;\n",
       "    }\n",
       "</style>\n",
       "<table border=\"1\" class=\"dataframe\">\n",
       "  <thead>\n",
       "    <tr style=\"text-align: right;\">\n",
       "      <th></th>\n",
       "      <th>fire_name</th>\n",
       "      <th>acers_burned</th>\n",
       "      <th>state</th>\n",
       "      <th>latitude</th>\n",
       "      <th>longitude</th>\n",
       "      <th>fire_year</th>\n",
       "      <th>discovery_date</th>\n",
       "      <th>contain_date</th>\n",
       "    </tr>\n",
       "  </thead>\n",
       "  <tbody>\n",
       "    <tr>\n",
       "      <th>0</th>\n",
       "      <td>FOUNTAIN</td>\n",
       "      <td>0.10</td>\n",
       "      <td>CA</td>\n",
       "      <td>40.036944</td>\n",
       "      <td>-121.005833</td>\n",
       "      <td>2005</td>\n",
       "      <td>2005-02-02 00:00:00</td>\n",
       "      <td>2005-02-02 00:00:00</td>\n",
       "    </tr>\n",
       "    <tr>\n",
       "      <th>1</th>\n",
       "      <td>PIGEON</td>\n",
       "      <td>0.25</td>\n",
       "      <td>CA</td>\n",
       "      <td>38.933056</td>\n",
       "      <td>-120.404444</td>\n",
       "      <td>2004</td>\n",
       "      <td>2004-05-12 00:00:00</td>\n",
       "      <td>2004-05-12 00:00:00</td>\n",
       "    </tr>\n",
       "    <tr>\n",
       "      <th>2</th>\n",
       "      <td>SLACK</td>\n",
       "      <td>0.10</td>\n",
       "      <td>CA</td>\n",
       "      <td>38.984167</td>\n",
       "      <td>-120.735556</td>\n",
       "      <td>2004</td>\n",
       "      <td>2004-05-31 00:00:00</td>\n",
       "      <td>2004-05-31 00:00:00</td>\n",
       "    </tr>\n",
       "    <tr>\n",
       "      <th>3</th>\n",
       "      <td>DEER</td>\n",
       "      <td>0.10</td>\n",
       "      <td>CA</td>\n",
       "      <td>38.559167</td>\n",
       "      <td>-119.913333</td>\n",
       "      <td>2004</td>\n",
       "      <td>2004-06-28 00:00:00</td>\n",
       "      <td>2004-07-03 00:00:00</td>\n",
       "    </tr>\n",
       "    <tr>\n",
       "      <th>4</th>\n",
       "      <td>STEVENOT</td>\n",
       "      <td>0.10</td>\n",
       "      <td>CA</td>\n",
       "      <td>38.559167</td>\n",
       "      <td>-119.933056</td>\n",
       "      <td>2004</td>\n",
       "      <td>2004-06-28 00:00:00</td>\n",
       "      <td>2004-07-03 00:00:00</td>\n",
       "    </tr>\n",
       "  </tbody>\n",
       "</table>\n",
       "</div>"
      ],
      "text/plain": [
       "  fire_name  acers_burned state   latitude   longitude  fire_year  \\\n",
       "0  FOUNTAIN          0.10    CA  40.036944 -121.005833       2005   \n",
       "1    PIGEON          0.25    CA  38.933056 -120.404444       2004   \n",
       "2     SLACK          0.10    CA  38.984167 -120.735556       2004   \n",
       "3      DEER          0.10    CA  38.559167 -119.913333       2004   \n",
       "4  STEVENOT          0.10    CA  38.559167 -119.933056       2004   \n",
       "\n",
       "        discovery_date         contain_date  \n",
       "0  2005-02-02 00:00:00  2005-02-02 00:00:00  \n",
       "1  2004-05-12 00:00:00  2004-05-12 00:00:00  \n",
       "2  2004-05-31 00:00:00  2004-05-31 00:00:00  \n",
       "3  2004-06-28 00:00:00  2004-07-03 00:00:00  \n",
       "4  2004-06-28 00:00:00  2004-07-03 00:00:00  "
      ]
     },
     "execution_count": 10,
     "metadata": {},
     "output_type": "execute_result"
    }
   ],
   "source": [
    "#renaming the column name \"fire_size\" to \"acers_burned\"\n",
    "df.rename(columns={'fire_size':'acers_burned'},inplace=True)\n",
    "#checking if the rename was successful\n",
    "df.head()\n"
   ]
  },
  {
   "cell_type": "markdown",
   "metadata": {},
   "source": [
    "#### Q3. Convert the data in the `fire_name` column such that the data starts with a capital letter. (ie `PIGEON LAKE` -> `Pigeon lake`)"
   ]
  },
  {
   "cell_type": "code",
   "execution_count": 11,
   "metadata": {},
   "outputs": [
    {
     "data": {
      "text/plain": [
       "0                           Fountain\n",
       "1                             Pigeon\n",
       "2                              Slack\n",
       "3                               Deer\n",
       "4                           Stevenot\n",
       "                     ...            \n",
       "1880460                     Odessa 2\n",
       "1880461                          NaN\n",
       "1880462                          NaN\n",
       "1880463                          NaN\n",
       "1880464    Barker bl  big_bear_lake_\n",
       "Name: fire_name, Length: 1880465, dtype: object"
      ]
     },
     "execution_count": 11,
     "metadata": {},
     "output_type": "execute_result"
    }
   ],
   "source": [
    "# Capitalizing values in fire_name column\n",
    "df[\"fire_name\"] = df[\"fire_name\"].str.capitalize()\n",
    "\n",
    "#checking the updated values\n",
    "df.fire_name\n"
   ]
  },
  {
   "cell_type": "markdown",
   "metadata": {},
   "source": [
    "#### Q4. Drop unnecessary rows- having fire size less than 10 acres."
   ]
  },
  {
   "cell_type": "code",
   "execution_count": 12,
   "metadata": {},
   "outputs": [
    {
     "data": {
      "text/html": [
       "<div>\n",
       "<style scoped>\n",
       "    .dataframe tbody tr th:only-of-type {\n",
       "        vertical-align: middle;\n",
       "    }\n",
       "\n",
       "    .dataframe tbody tr th {\n",
       "        vertical-align: top;\n",
       "    }\n",
       "\n",
       "    .dataframe thead th {\n",
       "        text-align: right;\n",
       "    }\n",
       "</style>\n",
       "<table border=\"1\" class=\"dataframe\">\n",
       "  <thead>\n",
       "    <tr style=\"text-align: right;\">\n",
       "      <th></th>\n",
       "      <th>fire_name</th>\n",
       "      <th>acers_burned</th>\n",
       "      <th>state</th>\n",
       "      <th>latitude</th>\n",
       "      <th>longitude</th>\n",
       "      <th>fire_year</th>\n",
       "      <th>discovery_date</th>\n",
       "      <th>contain_date</th>\n",
       "    </tr>\n",
       "  </thead>\n",
       "  <tbody>\n",
       "    <tr>\n",
       "      <th>16</th>\n",
       "      <td>Power</td>\n",
       "      <td>16823.0</td>\n",
       "      <td>CA</td>\n",
       "      <td>38.523333</td>\n",
       "      <td>-120.211667</td>\n",
       "      <td>2004</td>\n",
       "      <td>2004-10-06 00:00:00</td>\n",
       "      <td>2004-10-21 00:00:00</td>\n",
       "    </tr>\n",
       "    <tr>\n",
       "      <th>17</th>\n",
       "      <td>Freds</td>\n",
       "      <td>7700.0</td>\n",
       "      <td>CA</td>\n",
       "      <td>38.780000</td>\n",
       "      <td>-120.260000</td>\n",
       "      <td>2004</td>\n",
       "      <td>2004-10-13 00:00:00</td>\n",
       "      <td>2004-10-17 00:00:00</td>\n",
       "    </tr>\n",
       "    <tr>\n",
       "      <th>25</th>\n",
       "      <td>Bachelor</td>\n",
       "      <td>10.0</td>\n",
       "      <td>NM</td>\n",
       "      <td>33.315833</td>\n",
       "      <td>-105.512222</td>\n",
       "      <td>2004</td>\n",
       "      <td>2004-07-20 00:00:00</td>\n",
       "      <td>2004-07-20 00:00:00</td>\n",
       "    </tr>\n",
       "    <tr>\n",
       "      <th>37</th>\n",
       "      <td>Howard gap</td>\n",
       "      <td>50.3</td>\n",
       "      <td>NC</td>\n",
       "      <td>35.000278</td>\n",
       "      <td>-83.351111</td>\n",
       "      <td>2005</td>\n",
       "      <td>2005-01-27 00:00:00</td>\n",
       "      <td>2005-01-28 00:00:00</td>\n",
       "    </tr>\n",
       "    <tr>\n",
       "      <th>39</th>\n",
       "      <td>Austin creek</td>\n",
       "      <td>125.0</td>\n",
       "      <td>NC</td>\n",
       "      <td>36.001667</td>\n",
       "      <td>-81.590000</td>\n",
       "      <td>2005</td>\n",
       "      <td>2005-02-12 00:00:00</td>\n",
       "      <td>2005-02-13 00:00:00</td>\n",
       "    </tr>\n",
       "    <tr>\n",
       "      <th>...</th>\n",
       "      <td>...</td>\n",
       "      <td>...</td>\n",
       "      <td>...</td>\n",
       "      <td>...</td>\n",
       "      <td>...</td>\n",
       "      <td>...</td>\n",
       "      <td>...</td>\n",
       "      <td>...</td>\n",
       "    </tr>\n",
       "    <tr>\n",
       "      <th>1880387</th>\n",
       "      <td>Soda</td>\n",
       "      <td>24.0</td>\n",
       "      <td>CA</td>\n",
       "      <td>39.045908</td>\n",
       "      <td>-123.265522</td>\n",
       "      <td>2015</td>\n",
       "      <td>2015-07-04 00:00:00</td>\n",
       "      <td>2015-07-04 00:00:00</td>\n",
       "    </tr>\n",
       "    <tr>\n",
       "      <th>1880399</th>\n",
       "      <td>Gilman</td>\n",
       "      <td>73.0</td>\n",
       "      <td>CA</td>\n",
       "      <td>33.892120</td>\n",
       "      <td>-117.079065</td>\n",
       "      <td>2009</td>\n",
       "      <td>2009-05-03 00:00:00</td>\n",
       "      <td>2009-05-03 00:00:00</td>\n",
       "    </tr>\n",
       "    <tr>\n",
       "      <th>1880411</th>\n",
       "      <td>Terra</td>\n",
       "      <td>23.0</td>\n",
       "      <td>CA</td>\n",
       "      <td>35.985512</td>\n",
       "      <td>-118.915364</td>\n",
       "      <td>2009</td>\n",
       "      <td>2009-06-19 00:00:00</td>\n",
       "      <td>2009-06-19 00:00:00</td>\n",
       "    </tr>\n",
       "    <tr>\n",
       "      <th>1880419</th>\n",
       "      <td>Slaughterhouse</td>\n",
       "      <td>50.0</td>\n",
       "      <td>CA</td>\n",
       "      <td>32.906591</td>\n",
       "      <td>-116.942448</td>\n",
       "      <td>2010</td>\n",
       "      <td>2010-05-29 00:00:00</td>\n",
       "      <td>NaN</td>\n",
       "    </tr>\n",
       "    <tr>\n",
       "      <th>1880441</th>\n",
       "      <td>NaN</td>\n",
       "      <td>11.0</td>\n",
       "      <td>CA</td>\n",
       "      <td>34.450000</td>\n",
       "      <td>-118.583333</td>\n",
       "      <td>2015</td>\n",
       "      <td>2015-12-07 00:00:00</td>\n",
       "      <td>NaN</td>\n",
       "    </tr>\n",
       "  </tbody>\n",
       "</table>\n",
       "<p>274170 rows × 8 columns</p>\n",
       "</div>"
      ],
      "text/plain": [
       "              fire_name  acers_burned state   latitude   longitude  fire_year  \\\n",
       "16                Power       16823.0    CA  38.523333 -120.211667       2004   \n",
       "17                Freds        7700.0    CA  38.780000 -120.260000       2004   \n",
       "25             Bachelor          10.0    NM  33.315833 -105.512222       2004   \n",
       "37           Howard gap          50.3    NC  35.000278  -83.351111       2005   \n",
       "39         Austin creek         125.0    NC  36.001667  -81.590000       2005   \n",
       "...                 ...           ...   ...        ...         ...        ...   \n",
       "1880387            Soda          24.0    CA  39.045908 -123.265522       2015   \n",
       "1880399          Gilman          73.0    CA  33.892120 -117.079065       2009   \n",
       "1880411           Terra          23.0    CA  35.985512 -118.915364       2009   \n",
       "1880419  Slaughterhouse          50.0    CA  32.906591 -116.942448       2010   \n",
       "1880441             NaN          11.0    CA  34.450000 -118.583333       2015   \n",
       "\n",
       "              discovery_date         contain_date  \n",
       "16       2004-10-06 00:00:00  2004-10-21 00:00:00  \n",
       "17       2004-10-13 00:00:00  2004-10-17 00:00:00  \n",
       "25       2004-07-20 00:00:00  2004-07-20 00:00:00  \n",
       "37       2005-01-27 00:00:00  2005-01-28 00:00:00  \n",
       "39       2005-02-12 00:00:00  2005-02-13 00:00:00  \n",
       "...                      ...                  ...  \n",
       "1880387  2015-07-04 00:00:00  2015-07-04 00:00:00  \n",
       "1880399  2009-05-03 00:00:00  2009-05-03 00:00:00  \n",
       "1880411  2009-06-19 00:00:00  2009-06-19 00:00:00  \n",
       "1880419  2010-05-29 00:00:00                  NaN  \n",
       "1880441  2015-12-07 00:00:00                  NaN  \n",
       "\n",
       "[274170 rows x 8 columns]"
      ]
     },
     "execution_count": 12,
     "metadata": {},
     "output_type": "execute_result"
    }
   ],
   "source": [
    "#dropping the rows whose fire_size/now:acers_burned is less than 10 acers\n",
    "df = df.drop(df[df[\"acers_burned\"] < 10].index)\n",
    "\n",
    "#viewing  the data after dropping the rows \n",
    "df"
   ]
  },
  {
   "cell_type": "markdown",
   "metadata": {},
   "source": [
    "#### Q5. Drop duplicate rows, if any. If so, keep the first duplicate of each such duplicate set."
   ]
  },
  {
   "cell_type": "code",
   "execution_count": 13,
   "metadata": {},
   "outputs": [
    {
     "data": {
      "text/html": [
       "<div>\n",
       "<style scoped>\n",
       "    .dataframe tbody tr th:only-of-type {\n",
       "        vertical-align: middle;\n",
       "    }\n",
       "\n",
       "    .dataframe tbody tr th {\n",
       "        vertical-align: top;\n",
       "    }\n",
       "\n",
       "    .dataframe thead th {\n",
       "        text-align: right;\n",
       "    }\n",
       "</style>\n",
       "<table border=\"1\" class=\"dataframe\">\n",
       "  <thead>\n",
       "    <tr style=\"text-align: right;\">\n",
       "      <th></th>\n",
       "      <th>fire_name</th>\n",
       "      <th>acers_burned</th>\n",
       "      <th>state</th>\n",
       "      <th>latitude</th>\n",
       "      <th>longitude</th>\n",
       "      <th>fire_year</th>\n",
       "      <th>discovery_date</th>\n",
       "      <th>contain_date</th>\n",
       "    </tr>\n",
       "  </thead>\n",
       "  <tbody>\n",
       "    <tr>\n",
       "      <th>16</th>\n",
       "      <td>Power</td>\n",
       "      <td>16823.0</td>\n",
       "      <td>CA</td>\n",
       "      <td>38.523333</td>\n",
       "      <td>-120.211667</td>\n",
       "      <td>2004</td>\n",
       "      <td>2004-10-06 00:00:00</td>\n",
       "      <td>2004-10-21 00:00:00</td>\n",
       "    </tr>\n",
       "    <tr>\n",
       "      <th>17</th>\n",
       "      <td>Freds</td>\n",
       "      <td>7700.0</td>\n",
       "      <td>CA</td>\n",
       "      <td>38.780000</td>\n",
       "      <td>-120.260000</td>\n",
       "      <td>2004</td>\n",
       "      <td>2004-10-13 00:00:00</td>\n",
       "      <td>2004-10-17 00:00:00</td>\n",
       "    </tr>\n",
       "    <tr>\n",
       "      <th>25</th>\n",
       "      <td>Bachelor</td>\n",
       "      <td>10.0</td>\n",
       "      <td>NM</td>\n",
       "      <td>33.315833</td>\n",
       "      <td>-105.512222</td>\n",
       "      <td>2004</td>\n",
       "      <td>2004-07-20 00:00:00</td>\n",
       "      <td>2004-07-20 00:00:00</td>\n",
       "    </tr>\n",
       "    <tr>\n",
       "      <th>37</th>\n",
       "      <td>Howard gap</td>\n",
       "      <td>50.3</td>\n",
       "      <td>NC</td>\n",
       "      <td>35.000278</td>\n",
       "      <td>-83.351111</td>\n",
       "      <td>2005</td>\n",
       "      <td>2005-01-27 00:00:00</td>\n",
       "      <td>2005-01-28 00:00:00</td>\n",
       "    </tr>\n",
       "    <tr>\n",
       "      <th>39</th>\n",
       "      <td>Austin creek</td>\n",
       "      <td>125.0</td>\n",
       "      <td>NC</td>\n",
       "      <td>36.001667</td>\n",
       "      <td>-81.590000</td>\n",
       "      <td>2005</td>\n",
       "      <td>2005-02-12 00:00:00</td>\n",
       "      <td>2005-02-13 00:00:00</td>\n",
       "    </tr>\n",
       "    <tr>\n",
       "      <th>...</th>\n",
       "      <td>...</td>\n",
       "      <td>...</td>\n",
       "      <td>...</td>\n",
       "      <td>...</td>\n",
       "      <td>...</td>\n",
       "      <td>...</td>\n",
       "      <td>...</td>\n",
       "      <td>...</td>\n",
       "    </tr>\n",
       "    <tr>\n",
       "      <th>1880387</th>\n",
       "      <td>Soda</td>\n",
       "      <td>24.0</td>\n",
       "      <td>CA</td>\n",
       "      <td>39.045908</td>\n",
       "      <td>-123.265522</td>\n",
       "      <td>2015</td>\n",
       "      <td>2015-07-04 00:00:00</td>\n",
       "      <td>2015-07-04 00:00:00</td>\n",
       "    </tr>\n",
       "    <tr>\n",
       "      <th>1880399</th>\n",
       "      <td>Gilman</td>\n",
       "      <td>73.0</td>\n",
       "      <td>CA</td>\n",
       "      <td>33.892120</td>\n",
       "      <td>-117.079065</td>\n",
       "      <td>2009</td>\n",
       "      <td>2009-05-03 00:00:00</td>\n",
       "      <td>2009-05-03 00:00:00</td>\n",
       "    </tr>\n",
       "    <tr>\n",
       "      <th>1880411</th>\n",
       "      <td>Terra</td>\n",
       "      <td>23.0</td>\n",
       "      <td>CA</td>\n",
       "      <td>35.985512</td>\n",
       "      <td>-118.915364</td>\n",
       "      <td>2009</td>\n",
       "      <td>2009-06-19 00:00:00</td>\n",
       "      <td>2009-06-19 00:00:00</td>\n",
       "    </tr>\n",
       "    <tr>\n",
       "      <th>1880419</th>\n",
       "      <td>Slaughterhouse</td>\n",
       "      <td>50.0</td>\n",
       "      <td>CA</td>\n",
       "      <td>32.906591</td>\n",
       "      <td>-116.942448</td>\n",
       "      <td>2010</td>\n",
       "      <td>2010-05-29 00:00:00</td>\n",
       "      <td>NaN</td>\n",
       "    </tr>\n",
       "    <tr>\n",
       "      <th>1880441</th>\n",
       "      <td>NaN</td>\n",
       "      <td>11.0</td>\n",
       "      <td>CA</td>\n",
       "      <td>34.450000</td>\n",
       "      <td>-118.583333</td>\n",
       "      <td>2015</td>\n",
       "      <td>2015-12-07 00:00:00</td>\n",
       "      <td>NaN</td>\n",
       "    </tr>\n",
       "  </tbody>\n",
       "</table>\n",
       "<p>274123 rows × 8 columns</p>\n",
       "</div>"
      ],
      "text/plain": [
       "              fire_name  acers_burned state   latitude   longitude  fire_year  \\\n",
       "16                Power       16823.0    CA  38.523333 -120.211667       2004   \n",
       "17                Freds        7700.0    CA  38.780000 -120.260000       2004   \n",
       "25             Bachelor          10.0    NM  33.315833 -105.512222       2004   \n",
       "37           Howard gap          50.3    NC  35.000278  -83.351111       2005   \n",
       "39         Austin creek         125.0    NC  36.001667  -81.590000       2005   \n",
       "...                 ...           ...   ...        ...         ...        ...   \n",
       "1880387            Soda          24.0    CA  39.045908 -123.265522       2015   \n",
       "1880399          Gilman          73.0    CA  33.892120 -117.079065       2009   \n",
       "1880411           Terra          23.0    CA  35.985512 -118.915364       2009   \n",
       "1880419  Slaughterhouse          50.0    CA  32.906591 -116.942448       2010   \n",
       "1880441             NaN          11.0    CA  34.450000 -118.583333       2015   \n",
       "\n",
       "              discovery_date         contain_date  \n",
       "16       2004-10-06 00:00:00  2004-10-21 00:00:00  \n",
       "17       2004-10-13 00:00:00  2004-10-17 00:00:00  \n",
       "25       2004-07-20 00:00:00  2004-07-20 00:00:00  \n",
       "37       2005-01-27 00:00:00  2005-01-28 00:00:00  \n",
       "39       2005-02-12 00:00:00  2005-02-13 00:00:00  \n",
       "...                      ...                  ...  \n",
       "1880387  2015-07-04 00:00:00  2015-07-04 00:00:00  \n",
       "1880399  2009-05-03 00:00:00  2009-05-03 00:00:00  \n",
       "1880411  2009-06-19 00:00:00  2009-06-19 00:00:00  \n",
       "1880419  2010-05-29 00:00:00                  NaN  \n",
       "1880441  2015-12-07 00:00:00                  NaN  \n",
       "\n",
       "[274123 rows x 8 columns]"
      ]
     },
     "execution_count": 13,
     "metadata": {},
     "output_type": "execute_result"
    }
   ],
   "source": [
    "# dropping the duplicate rows by keeping the first duplicate\n",
    "df.drop_duplicates(keep='first', inplace=True)\n",
    "\n",
    "df"
   ]
  },
  {
   "cell_type": "markdown",
   "metadata": {},
   "source": [
    "#### Q6. Ensure that the `date` columns have the correct datatype."
   ]
  },
  {
   "cell_type": "code",
   "execution_count": 14,
   "metadata": {},
   "outputs": [
    {
     "data": {
      "text/plain": [
       "fire_name          object\n",
       "acers_burned      float64\n",
       "state              object\n",
       "latitude          float64\n",
       "longitude         float64\n",
       "fire_year           int64\n",
       "discovery_date     object\n",
       "contain_date       object\n",
       "dtype: object"
      ]
     },
     "execution_count": 14,
     "metadata": {},
     "output_type": "execute_result"
    }
   ],
   "source": [
    "#checking the datatypes \n",
    "df.dtypes"
   ]
  },
  {
   "cell_type": "code",
   "execution_count": 15,
   "metadata": {},
   "outputs": [
    {
     "data": {
      "text/plain": [
       "fire_name                 object\n",
       "acers_burned             float64\n",
       "state                     object\n",
       "latitude                 float64\n",
       "longitude                float64\n",
       "fire_year                  int64\n",
       "discovery_date    datetime64[ns]\n",
       "contain_date      datetime64[ns]\n",
       "dtype: object"
      ]
     },
     "execution_count": 15,
     "metadata": {},
     "output_type": "execute_result"
    }
   ],
   "source": [
    "# converting the date columns to have correct datatype\n",
    "df[\"discovery_date\"] = pd.to_datetime(df[\"discovery_date\"])\n",
    "df[\"contain_date\"] = pd.to_datetime(df[\"contain_date\"])\n",
    "\n",
    "#checking the data types after changin the date columns\n",
    "df.dtypes"
   ]
  },
  {
   "cell_type": "markdown",
   "metadata": {},
   "source": [
    "#### Q7. Check for missing values in the `contain_date` column. Find the number.\n",
    "\n",
    "#### a) Check for missing values of  `contain_date`  where fires exceed 10000 acres."
   ]
  },
  {
   "cell_type": "code",
   "execution_count": 16,
   "metadata": {},
   "outputs": [],
   "source": [
    "checkdf = df.copy()"
   ]
  },
  {
   "cell_type": "code",
   "execution_count": 17,
   "metadata": {},
   "outputs": [
    {
     "name": "stdout",
     "output_type": "stream",
     "text": [
      "The total missing value in contain_date is: 136747\n"
     ]
    }
   ],
   "source": [
    "# missing values in the contain_date column\n",
    "print(f\"The total missing value in contain_date is: {df[\"contain_date\"].isnull().sum()}\")\n"
   ]
  },
  {
   "cell_type": "code",
   "execution_count": 18,
   "metadata": {},
   "outputs": [
    {
     "data": {
      "text/plain": [
       "fire_name          30\n",
       "acers_burned        0\n",
       "state               0\n",
       "latitude            0\n",
       "longitude           0\n",
       "fire_year           0\n",
       "discovery_date      0\n",
       "contain_date      263\n",
       "dtype: int64"
      ]
     },
     "execution_count": 18,
     "metadata": {},
     "output_type": "execute_result"
    }
   ],
   "source": [
    "# missing values in contain_date column where fire exceeds 10000 acers\n",
    "df[df[\"acers_burned\"] > 10000].isnull().sum()"
   ]
  },
  {
   "cell_type": "markdown",
   "metadata": {},
   "source": [
    "#### b) Check the values of  `contain_date` to see if they are reasonable.\n",
    "#### Now explain whether you think the existing data is dependable or not, and whether you should/should not want to handle the missing data in `contain_date`.\n"
   ]
  },
  {
   "cell_type": "code",
   "execution_count": 19,
   "metadata": {},
   "outputs": [
    {
     "name": "stdout",
     "output_type": "stream",
     "text": [
      "Total values in dataframe is: 274123\n",
      "The total missing value in contain_date is: 136747\n",
      "Percentage of missing values in contain_date is :49.885270480769584 %\n"
     ]
    }
   ],
   "source": [
    "# finding total value in dataframe\n",
    "total_values = df.shape[0]\n",
    "print(f\"Total values in dataframe is: {total_values}\")\n",
    "\n",
    "# missing values in the contain_date column\n",
    "print(f\"The total missing value in contain_date is: {df[\"contain_date\"].isnull().sum()}\")\n",
    "\n",
    "#percentage of the missing value in contain_date\n",
    "missing_value_percentage = (df[\"contain_date\"].isnull().sum()/df.shape[0])*100\n",
    "print(f\"Percentage of missing values in contain_date is :{missing_value_percentage} %\")\n"
   ]
  },
  {
   "cell_type": "markdown",
   "metadata": {},
   "source": [
    "Since, the missing value in the contain_date is almost the half of the total datasets. We cannot  simply drop it because it's not a random missing data and we need to keep all the information for further analysis.\n",
    "So, I tried to handle it by adding the mean value of the days_burned which is the difference in contain_date and discovery_date."
   ]
  },
  {
   "cell_type": "code",
   "execution_count": 20,
   "metadata": {},
   "outputs": [],
   "source": [
    "# calculating the days_burned  for each day\n",
    "days_burned = (df['contain_date'] - df['discovery_date']).dt.days\n",
    "# Since we are adding the mean value to each date, we keep it in a variable\n",
    "avg_time = days_burned.mean()\n"
   ]
  },
  {
   "cell_type": "code",
   "execution_count": 21,
   "metadata": {},
   "outputs": [],
   "source": [
    "# handling the missing value in contain_date with the mean of days_burned\n",
    "df[\"contain_date\"] = df[\"contain_date\"].fillna(df[\"discovery_date\"] + pd.to_timedelta(round(avg_time), unit='D'))"
   ]
  },
  {
   "cell_type": "code",
   "execution_count": 22,
   "metadata": {},
   "outputs": [
    {
     "name": "stdout",
     "output_type": "stream",
     "text": [
      "Now the missing value in contain_date column is: 0\n"
     ]
    }
   ],
   "source": [
    "#checking the missing values in contain_date\n",
    "print(f\"Now the missing value in contain_date column is: {df[\"contain_date\"].isnull().sum()}\")"
   ]
  },
  {
   "cell_type": "markdown",
   "metadata": {},
   "source": [
    "## (II) Prepare the data:"
   ]
  },
  {
   "cell_type": "markdown",
   "metadata": {},
   "source": [
    "\n",
    "#### Q9. Add the `fire_month` and `days_burning` columns"
   ]
  },
  {
   "cell_type": "code",
   "execution_count": 23,
   "metadata": {},
   "outputs": [],
   "source": [
    "# creating the fire_month column\n",
    "df[\"fire_month\"] = df[\"discovery_date\"].dt.month"
   ]
  },
  {
   "cell_type": "code",
   "execution_count": 24,
   "metadata": {},
   "outputs": [],
   "source": [
    "# creating the days_burning column \n",
    "df['days_burning'] = df['contain_date'] - df['discovery_date']"
   ]
  },
  {
   "cell_type": "code",
   "execution_count": 25,
   "metadata": {},
   "outputs": [
    {
     "data": {
      "text/html": [
       "<div>\n",
       "<style scoped>\n",
       "    .dataframe tbody tr th:only-of-type {\n",
       "        vertical-align: middle;\n",
       "    }\n",
       "\n",
       "    .dataframe tbody tr th {\n",
       "        vertical-align: top;\n",
       "    }\n",
       "\n",
       "    .dataframe thead th {\n",
       "        text-align: right;\n",
       "    }\n",
       "</style>\n",
       "<table border=\"1\" class=\"dataframe\">\n",
       "  <thead>\n",
       "    <tr style=\"text-align: right;\">\n",
       "      <th></th>\n",
       "      <th>fire_name</th>\n",
       "      <th>acers_burned</th>\n",
       "      <th>state</th>\n",
       "      <th>latitude</th>\n",
       "      <th>longitude</th>\n",
       "      <th>fire_year</th>\n",
       "      <th>discovery_date</th>\n",
       "      <th>contain_date</th>\n",
       "      <th>fire_month</th>\n",
       "      <th>days_burning</th>\n",
       "    </tr>\n",
       "  </thead>\n",
       "  <tbody>\n",
       "    <tr>\n",
       "      <th>16</th>\n",
       "      <td>Power</td>\n",
       "      <td>16823.0</td>\n",
       "      <td>CA</td>\n",
       "      <td>38.523333</td>\n",
       "      <td>-120.211667</td>\n",
       "      <td>2004</td>\n",
       "      <td>2004-10-06</td>\n",
       "      <td>2004-10-21</td>\n",
       "      <td>10</td>\n",
       "      <td>15 days</td>\n",
       "    </tr>\n",
       "    <tr>\n",
       "      <th>17</th>\n",
       "      <td>Freds</td>\n",
       "      <td>7700.0</td>\n",
       "      <td>CA</td>\n",
       "      <td>38.780000</td>\n",
       "      <td>-120.260000</td>\n",
       "      <td>2004</td>\n",
       "      <td>2004-10-13</td>\n",
       "      <td>2004-10-17</td>\n",
       "      <td>10</td>\n",
       "      <td>4 days</td>\n",
       "    </tr>\n",
       "    <tr>\n",
       "      <th>25</th>\n",
       "      <td>Bachelor</td>\n",
       "      <td>10.0</td>\n",
       "      <td>NM</td>\n",
       "      <td>33.315833</td>\n",
       "      <td>-105.512222</td>\n",
       "      <td>2004</td>\n",
       "      <td>2004-07-20</td>\n",
       "      <td>2004-07-20</td>\n",
       "      <td>7</td>\n",
       "      <td>0 days</td>\n",
       "    </tr>\n",
       "    <tr>\n",
       "      <th>37</th>\n",
       "      <td>Howard gap</td>\n",
       "      <td>50.3</td>\n",
       "      <td>NC</td>\n",
       "      <td>35.000278</td>\n",
       "      <td>-83.351111</td>\n",
       "      <td>2005</td>\n",
       "      <td>2005-01-27</td>\n",
       "      <td>2005-01-28</td>\n",
       "      <td>1</td>\n",
       "      <td>1 days</td>\n",
       "    </tr>\n",
       "    <tr>\n",
       "      <th>39</th>\n",
       "      <td>Austin creek</td>\n",
       "      <td>125.0</td>\n",
       "      <td>NC</td>\n",
       "      <td>36.001667</td>\n",
       "      <td>-81.590000</td>\n",
       "      <td>2005</td>\n",
       "      <td>2005-02-12</td>\n",
       "      <td>2005-02-13</td>\n",
       "      <td>2</td>\n",
       "      <td>1 days</td>\n",
       "    </tr>\n",
       "    <tr>\n",
       "      <th>...</th>\n",
       "      <td>...</td>\n",
       "      <td>...</td>\n",
       "      <td>...</td>\n",
       "      <td>...</td>\n",
       "      <td>...</td>\n",
       "      <td>...</td>\n",
       "      <td>...</td>\n",
       "      <td>...</td>\n",
       "      <td>...</td>\n",
       "      <td>...</td>\n",
       "    </tr>\n",
       "    <tr>\n",
       "      <th>1880387</th>\n",
       "      <td>Soda</td>\n",
       "      <td>24.0</td>\n",
       "      <td>CA</td>\n",
       "      <td>39.045908</td>\n",
       "      <td>-123.265522</td>\n",
       "      <td>2015</td>\n",
       "      <td>2015-07-04</td>\n",
       "      <td>2015-07-04</td>\n",
       "      <td>7</td>\n",
       "      <td>0 days</td>\n",
       "    </tr>\n",
       "    <tr>\n",
       "      <th>1880399</th>\n",
       "      <td>Gilman</td>\n",
       "      <td>73.0</td>\n",
       "      <td>CA</td>\n",
       "      <td>33.892120</td>\n",
       "      <td>-117.079065</td>\n",
       "      <td>2009</td>\n",
       "      <td>2009-05-03</td>\n",
       "      <td>2009-05-03</td>\n",
       "      <td>5</td>\n",
       "      <td>0 days</td>\n",
       "    </tr>\n",
       "    <tr>\n",
       "      <th>1880411</th>\n",
       "      <td>Terra</td>\n",
       "      <td>23.0</td>\n",
       "      <td>CA</td>\n",
       "      <td>35.985512</td>\n",
       "      <td>-118.915364</td>\n",
       "      <td>2009</td>\n",
       "      <td>2009-06-19</td>\n",
       "      <td>2009-06-19</td>\n",
       "      <td>6</td>\n",
       "      <td>0 days</td>\n",
       "    </tr>\n",
       "    <tr>\n",
       "      <th>1880419</th>\n",
       "      <td>Slaughterhouse</td>\n",
       "      <td>50.0</td>\n",
       "      <td>CA</td>\n",
       "      <td>32.906591</td>\n",
       "      <td>-116.942448</td>\n",
       "      <td>2010</td>\n",
       "      <td>2010-05-29</td>\n",
       "      <td>2010-06-01</td>\n",
       "      <td>5</td>\n",
       "      <td>3 days</td>\n",
       "    </tr>\n",
       "    <tr>\n",
       "      <th>1880441</th>\n",
       "      <td>NaN</td>\n",
       "      <td>11.0</td>\n",
       "      <td>CA</td>\n",
       "      <td>34.450000</td>\n",
       "      <td>-118.583333</td>\n",
       "      <td>2015</td>\n",
       "      <td>2015-12-07</td>\n",
       "      <td>2015-12-10</td>\n",
       "      <td>12</td>\n",
       "      <td>3 days</td>\n",
       "    </tr>\n",
       "  </tbody>\n",
       "</table>\n",
       "<p>274123 rows × 10 columns</p>\n",
       "</div>"
      ],
      "text/plain": [
       "              fire_name  acers_burned state   latitude   longitude  fire_year  \\\n",
       "16                Power       16823.0    CA  38.523333 -120.211667       2004   \n",
       "17                Freds        7700.0    CA  38.780000 -120.260000       2004   \n",
       "25             Bachelor          10.0    NM  33.315833 -105.512222       2004   \n",
       "37           Howard gap          50.3    NC  35.000278  -83.351111       2005   \n",
       "39         Austin creek         125.0    NC  36.001667  -81.590000       2005   \n",
       "...                 ...           ...   ...        ...         ...        ...   \n",
       "1880387            Soda          24.0    CA  39.045908 -123.265522       2015   \n",
       "1880399          Gilman          73.0    CA  33.892120 -117.079065       2009   \n",
       "1880411           Terra          23.0    CA  35.985512 -118.915364       2009   \n",
       "1880419  Slaughterhouse          50.0    CA  32.906591 -116.942448       2010   \n",
       "1880441             NaN          11.0    CA  34.450000 -118.583333       2015   \n",
       "\n",
       "        discovery_date contain_date  fire_month days_burning  \n",
       "16          2004-10-06   2004-10-21          10      15 days  \n",
       "17          2004-10-13   2004-10-17          10       4 days  \n",
       "25          2004-07-20   2004-07-20           7       0 days  \n",
       "37          2005-01-27   2005-01-28           1       1 days  \n",
       "39          2005-02-12   2005-02-13           2       1 days  \n",
       "...                ...          ...         ...          ...  \n",
       "1880387     2015-07-04   2015-07-04           7       0 days  \n",
       "1880399     2009-05-03   2009-05-03           5       0 days  \n",
       "1880411     2009-06-19   2009-06-19           6       0 days  \n",
       "1880419     2010-05-29   2010-06-01           5       3 days  \n",
       "1880441     2015-12-07   2015-12-10          12       3 days  \n",
       "\n",
       "[274123 rows x 10 columns]"
      ]
     },
     "execution_count": 25,
     "metadata": {},
     "output_type": "execute_result"
    }
   ],
   "source": [
    "df"
   ]
  },
  {
   "cell_type": "code",
   "execution_count": 26,
   "metadata": {},
   "outputs": [
    {
     "data": {
      "text/plain": [
       "0"
      ]
     },
     "execution_count": 26,
     "metadata": {},
     "output_type": "execute_result"
    }
   ],
   "source": [
    "#checking for null value for the new days_burning column\n",
    "df[\"days_burning\"].isnull().sum()"
   ]
  },
  {
   "cell_type": "markdown",
   "metadata": {},
   "source": [
    "#### Q10. Get the statistical summary of the `days_burning` column. What trends do you see in the 3rd quartile, mean and Max length of the fires? Is or isn't anything fishy?"
   ]
  },
  {
   "cell_type": "code",
   "execution_count": 27,
   "metadata": {},
   "outputs": [
    {
     "data": {
      "text/plain": [
       "count                        274123\n",
       "mean      3 days 03:03:40.512689559\n",
       "std      11 days 08:45:16.525157806\n",
       "min                 0 days 00:00:00\n",
       "25%                 0 days 00:00:00\n",
       "50%                 3 days 00:00:00\n",
       "75%                 3 days 00:00:00\n",
       "max              1881 days 00:00:00\n",
       "Name: days_burning, dtype: object"
      ]
     },
     "execution_count": 27,
     "metadata": {},
     "output_type": "execute_result"
    }
   ],
   "source": [
    "df[\"days_burning\"].describe()"
   ]
  },
  {
   "cell_type": "markdown",
   "metadata": {},
   "source": [
    "From the above we can analyze that:\n",
    "1. mean : 3 days \n",
    "2. standard deviation : 11 days\n",
    "3. 1st quartile : 0 days\n",
    "4. median : 3 days\n",
    "5. 3rd quartile : 3 days\n",
    "6. maximum length of days burned : 1881 days\n",
    "\n",
    "We can  conclude from this analysis that there are some outliers in the days_burning column."
   ]
  },
  {
   "cell_type": "markdown",
   "metadata": {},
   "source": [
    "We plot the days_burning column to visualize the outliers"
   ]
  },
  {
   "cell_type": "code",
   "execution_count": 28,
   "metadata": {},
   "outputs": [
    {
     "data": {
      "image/png": "[encoded data removed]",
      "text/plain": [
       "<Figure size 1200x600 with 1 Axes>"
      ]
     },
     "metadata": {},
     "output_type": "display_data"
    }
   ],
   "source": [
    "# plotting the value of days_burning to see an outliers\n",
    "plt.figure(figsize=(12, 6))\n",
    "sns.boxplot(x=df['days_burning'])\n",
    "plt.xlabel('Days Burning')\n",
    "plt.title('Box Plot of Days Burning')\n",
    "plt.show()"
   ]
  },
  {
   "cell_type": "markdown",
   "metadata": {},
   "source": [
    "After visualization, we can see that,\n",
    "We can remove the days above 0.5(500 days) as an outliers"
   ]
  },
  {
   "cell_type": "code",
   "execution_count": 29,
   "metadata": {},
   "outputs": [
    {
     "data": {
      "text/html": [
       "<div>\n",
       "<style scoped>\n",
       "    .dataframe tbody tr th:only-of-type {\n",
       "        vertical-align: middle;\n",
       "    }\n",
       "\n",
       "    .dataframe tbody tr th {\n",
       "        vertical-align: top;\n",
       "    }\n",
       "\n",
       "    .dataframe thead th {\n",
       "        text-align: right;\n",
       "    }\n",
       "</style>\n",
       "<table border=\"1\" class=\"dataframe\">\n",
       "  <thead>\n",
       "    <tr style=\"text-align: right;\">\n",
       "      <th></th>\n",
       "      <th>fire_name</th>\n",
       "      <th>acers_burned</th>\n",
       "      <th>state</th>\n",
       "      <th>latitude</th>\n",
       "      <th>longitude</th>\n",
       "      <th>fire_year</th>\n",
       "      <th>discovery_date</th>\n",
       "      <th>contain_date</th>\n",
       "      <th>fire_month</th>\n",
       "      <th>days_burning</th>\n",
       "    </tr>\n",
       "  </thead>\n",
       "  <tbody>\n",
       "    <tr>\n",
       "      <th>305237</th>\n",
       "      <td>Kiliovilik</td>\n",
       "      <td>100.0</td>\n",
       "      <td>AK</td>\n",
       "      <td>66.566100</td>\n",
       "      <td>-157.519400</td>\n",
       "      <td>2001</td>\n",
       "      <td>2001-06-11</td>\n",
       "      <td>2004-06-16</td>\n",
       "      <td>6</td>\n",
       "      <td>1101 days</td>\n",
       "    </tr>\n",
       "    <tr>\n",
       "      <th>356156</th>\n",
       "      <td>Buenavista</td>\n",
       "      <td>120.0</td>\n",
       "      <td>CA</td>\n",
       "      <td>37.658900</td>\n",
       "      <td>-119.522800</td>\n",
       "      <td>2000</td>\n",
       "      <td>2000-08-07</td>\n",
       "      <td>2005-10-01</td>\n",
       "      <td>8</td>\n",
       "      <td>1881 days</td>\n",
       "    </tr>\n",
       "    <tr>\n",
       "      <th>357487</th>\n",
       "      <td>Road 09-08 wf</td>\n",
       "      <td>900.0</td>\n",
       "      <td>AL</td>\n",
       "      <td>34.449700</td>\n",
       "      <td>-85.597800</td>\n",
       "      <td>2006</td>\n",
       "      <td>2006-03-05</td>\n",
       "      <td>2008-03-09</td>\n",
       "      <td>3</td>\n",
       "      <td>735 days</td>\n",
       "    </tr>\n",
       "    <tr>\n",
       "      <th>738317</th>\n",
       "      <td>NaN</td>\n",
       "      <td>52.0</td>\n",
       "      <td>SC</td>\n",
       "      <td>32.220833</td>\n",
       "      <td>-81.008333</td>\n",
       "      <td>1994</td>\n",
       "      <td>1994-02-27</td>\n",
       "      <td>1999-02-28</td>\n",
       "      <td>2</td>\n",
       "      <td>1827 days</td>\n",
       "    </tr>\n",
       "    <tr>\n",
       "      <th>1227849</th>\n",
       "      <td>30305</td>\n",
       "      <td>250.0</td>\n",
       "      <td>OK</td>\n",
       "      <td>36.035600</td>\n",
       "      <td>-94.743133</td>\n",
       "      <td>2003</td>\n",
       "      <td>2003-03-25</td>\n",
       "      <td>2005-03-25</td>\n",
       "      <td>3</td>\n",
       "      <td>731 days</td>\n",
       "    </tr>\n",
       "    <tr>\n",
       "      <th>1276621</th>\n",
       "      <td>NaN</td>\n",
       "      <td>10.0</td>\n",
       "      <td>PA</td>\n",
       "      <td>40.017222</td>\n",
       "      <td>-79.827778</td>\n",
       "      <td>2002</td>\n",
       "      <td>2002-03-19</td>\n",
       "      <td>2005-03-19</td>\n",
       "      <td>3</td>\n",
       "      <td>1096 days</td>\n",
       "    </tr>\n",
       "    <tr>\n",
       "      <th>1324066</th>\n",
       "      <td>Jims branch</td>\n",
       "      <td>158.0</td>\n",
       "      <td>WV</td>\n",
       "      <td>37.511007</td>\n",
       "      <td>-81.349864</td>\n",
       "      <td>1994</td>\n",
       "      <td>1994-11-05</td>\n",
       "      <td>1996-11-06</td>\n",
       "      <td>11</td>\n",
       "      <td>732 days</td>\n",
       "    </tr>\n",
       "  </tbody>\n",
       "</table>\n",
       "</div>"
      ],
      "text/plain": [
       "             fire_name  acers_burned state   latitude   longitude  fire_year  \\\n",
       "305237      Kiliovilik         100.0    AK  66.566100 -157.519400       2001   \n",
       "356156      Buenavista         120.0    CA  37.658900 -119.522800       2000   \n",
       "357487   Road 09-08 wf         900.0    AL  34.449700  -85.597800       2006   \n",
       "738317             NaN          52.0    SC  32.220833  -81.008333       1994   \n",
       "1227849          30305         250.0    OK  36.035600  -94.743133       2003   \n",
       "1276621            NaN          10.0    PA  40.017222  -79.827778       2002   \n",
       "1324066    Jims branch         158.0    WV  37.511007  -81.349864       1994   \n",
       "\n",
       "        discovery_date contain_date  fire_month days_burning  \n",
       "305237      2001-06-11   2004-06-16           6    1101 days  \n",
       "356156      2000-08-07   2005-10-01           8    1881 days  \n",
       "357487      2006-03-05   2008-03-09           3     735 days  \n",
       "738317      1994-02-27   1999-02-28           2    1827 days  \n",
       "1227849     2003-03-25   2005-03-25           3     731 days  \n",
       "1276621     2002-03-19   2005-03-19           3    1096 days  \n",
       "1324066     1994-11-05   1996-11-06          11     732 days  "
      ]
     },
     "execution_count": 29,
     "metadata": {},
     "output_type": "execute_result"
    }
   ],
   "source": [
    "#checking the outliers\n",
    "df[df[\"days_burning\"].dt.days > 500]"
   ]
  },
  {
   "cell_type": "markdown",
   "metadata": {},
   "source": [
    "#### Q11. Check the value of `days_burning` for fires that exceed 100 acres. What do you notice about the acreage and the `days_burning` for certain outliers?\n"
   ]
  },
  {
   "cell_type": "code",
   "execution_count": 30,
   "metadata": {},
   "outputs": [
    {
     "data": {
      "text/html": [
       "<div>\n",
       "<style scoped>\n",
       "    .dataframe tbody tr th:only-of-type {\n",
       "        vertical-align: middle;\n",
       "    }\n",
       "\n",
       "    .dataframe tbody tr th {\n",
       "        vertical-align: top;\n",
       "    }\n",
       "\n",
       "    .dataframe thead th {\n",
       "        text-align: right;\n",
       "    }\n",
       "</style>\n",
       "<table border=\"1\" class=\"dataframe\">\n",
       "  <thead>\n",
       "    <tr style=\"text-align: right;\">\n",
       "      <th></th>\n",
       "      <th>days_burning</th>\n",
       "    </tr>\n",
       "  </thead>\n",
       "  <tbody>\n",
       "    <tr>\n",
       "      <th>16</th>\n",
       "      <td>15 days</td>\n",
       "    </tr>\n",
       "    <tr>\n",
       "      <th>17</th>\n",
       "      <td>4 days</td>\n",
       "    </tr>\n",
       "    <tr>\n",
       "      <th>39</th>\n",
       "      <td>1 days</td>\n",
       "    </tr>\n",
       "    <tr>\n",
       "      <th>116</th>\n",
       "      <td>1 days</td>\n",
       "    </tr>\n",
       "    <tr>\n",
       "      <th>117</th>\n",
       "      <td>0 days</td>\n",
       "    </tr>\n",
       "    <tr>\n",
       "      <th>...</th>\n",
       "      <td>...</td>\n",
       "    </tr>\n",
       "    <tr>\n",
       "      <th>1879825</th>\n",
       "      <td>0 days</td>\n",
       "    </tr>\n",
       "    <tr>\n",
       "      <th>1879892</th>\n",
       "      <td>3 days</td>\n",
       "    </tr>\n",
       "    <tr>\n",
       "      <th>1879968</th>\n",
       "      <td>3 days</td>\n",
       "    </tr>\n",
       "    <tr>\n",
       "      <th>1880293</th>\n",
       "      <td>2 days</td>\n",
       "    </tr>\n",
       "    <tr>\n",
       "      <th>1880328</th>\n",
       "      <td>0 days</td>\n",
       "    </tr>\n",
       "  </tbody>\n",
       "</table>\n",
       "<p>49797 rows × 1 columns</p>\n",
       "</div>"
      ],
      "text/plain": [
       "        days_burning\n",
       "16           15 days\n",
       "17            4 days\n",
       "39            1 days\n",
       "116           1 days\n",
       "117           0 days\n",
       "...              ...\n",
       "1879825       0 days\n",
       "1879892       3 days\n",
       "1879968       3 days\n",
       "1880293       2 days\n",
       "1880328       0 days\n",
       "\n",
       "[49797 rows x 1 columns]"
      ]
     },
     "execution_count": 30,
     "metadata": {},
     "output_type": "execute_result"
    }
   ],
   "source": [
    "# fire that exceeds 100 acers\n",
    "df[df[\"acers_burned\"] > 100][[\"days_burning\"]]\n"
   ]
  },
  {
   "cell_type": "code",
   "execution_count": 31,
   "metadata": {},
   "outputs": [
    {
     "data": {
      "text/html": [
       "<div>\n",
       "<style scoped>\n",
       "    .dataframe tbody tr th:only-of-type {\n",
       "        vertical-align: middle;\n",
       "    }\n",
       "\n",
       "    .dataframe tbody tr th {\n",
       "        vertical-align: top;\n",
       "    }\n",
       "\n",
       "    .dataframe thead th {\n",
       "        text-align: right;\n",
       "    }\n",
       "</style>\n",
       "<table border=\"1\" class=\"dataframe\">\n",
       "  <thead>\n",
       "    <tr style=\"text-align: right;\">\n",
       "      <th></th>\n",
       "      <th>days_burning</th>\n",
       "    </tr>\n",
       "  </thead>\n",
       "  <tbody>\n",
       "    <tr>\n",
       "      <th>356156</th>\n",
       "      <td>1881 days</td>\n",
       "    </tr>\n",
       "    <tr>\n",
       "      <th>357487</th>\n",
       "      <td>735 days</td>\n",
       "    </tr>\n",
       "    <tr>\n",
       "      <th>1324066</th>\n",
       "      <td>732 days</td>\n",
       "    </tr>\n",
       "    <tr>\n",
       "      <th>1227849</th>\n",
       "      <td>731 days</td>\n",
       "    </tr>\n",
       "    <tr>\n",
       "      <th>1286202</th>\n",
       "      <td>371 days</td>\n",
       "    </tr>\n",
       "    <tr>\n",
       "      <th>1572579</th>\n",
       "      <td>371 days</td>\n",
       "    </tr>\n",
       "    <tr>\n",
       "      <th>1579684</th>\n",
       "      <td>370 days</td>\n",
       "    </tr>\n",
       "    <tr>\n",
       "      <th>720670</th>\n",
       "      <td>370 days</td>\n",
       "    </tr>\n",
       "    <tr>\n",
       "      <th>1286272</th>\n",
       "      <td>369 days</td>\n",
       "    </tr>\n",
       "    <tr>\n",
       "      <th>1360116</th>\n",
       "      <td>368 days</td>\n",
       "    </tr>\n",
       "  </tbody>\n",
       "</table>\n",
       "</div>"
      ],
      "text/plain": [
       "        days_burning\n",
       "356156     1881 days\n",
       "357487      735 days\n",
       "1324066     732 days\n",
       "1227849     731 days\n",
       "1286202     371 days\n",
       "1572579     371 days\n",
       "1579684     370 days\n",
       "720670      370 days\n",
       "1286272     369 days\n",
       "1360116     368 days"
      ]
     },
     "execution_count": 31,
     "metadata": {},
     "output_type": "execute_result"
    }
   ],
   "source": [
    "#displaying the potential outliers in the dataframe\n",
    "forsorting = df[df[\"acers_burned\"] > 100][[\"days_burning\"]]\n",
    "forsorting.sort_values(by=\"days_burning\",ascending=False).head(10)"
   ]
  },
  {
   "cell_type": "code",
   "execution_count": 32,
   "metadata": {},
   "outputs": [
    {
     "data": {
      "image/png": "[encoded data removed]",
      "text/plain": [
       "<Figure size 1200x600 with 1 Axes>"
      ]
     },
     "metadata": {},
     "output_type": "display_data"
    }
   ],
   "source": [
    "# creating the conditon for the plot\n",
    "conditiondf = df[df[\"acers_burned\"] > 100]\n",
    "\n",
    "# plotting the relationship between the acers_burned and days_burning for the over 100 acers \n",
    "plt.figure(figsize=(12, 6))\n",
    "sns.scatterplot(x='acers_burned', y='days_burning', data=conditiondf)\n",
    "plt.title('Acers burned  vs Days Burning for acers burned over 100 Acers')\n",
    "plt.xlabel(\"acers_burned\")\n",
    "plt.ylabel(\"days_burning\")\n",
    "plt.grid(True)\n",
    "plt.show()"
   ]
  },
  {
   "cell_type": "markdown",
   "metadata": {},
   "source": [
    "From the above we can analyze that\n",
    "Some of the data have the large days_burning but having the acers_burned to almost none. This means that some fire was burning for more days but with less damage. So, the days_burning greater than 0.5 (500 days) could be potential outilers. \n",
    "\n",
    "Similarly, there are some points having more acers_burned with less burning days. We can take some of them (for example acers_burned greater than 500,000) as a potential outliers."
   ]
  }
 ],
 "metadata": {
  "kernelspec": {
   "display_name": "Python 3",
   "language": "python",
   "name": "python3"
  },
  "language_info": {
   "codemirror_mode": {
    "name": "ipython",
    "version": 3
   },
   "file_extension": ".py",
   "mimetype": "text/x-python",
   "name": "python",
   "nbconvert_exporter": "python",
   "pygments_lexer": "ipython3",
   "version": "3.12.2"
  }
 },
 "nbformat": 4,
 "nbformat_minor": 2
}
