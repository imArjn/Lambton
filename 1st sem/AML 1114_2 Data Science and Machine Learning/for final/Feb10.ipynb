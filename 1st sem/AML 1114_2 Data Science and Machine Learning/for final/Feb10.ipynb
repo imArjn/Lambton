{
 "cells": [
  {
   "cell_type": "code",
   "execution_count": 2,
   "id": "9a8a670c",
   "metadata": {},
   "outputs": [],
   "source": [
    "import pandas as pd"
   ]
  },
  {
   "cell_type": "code",
   "execution_count": 3,
   "id": "ab4dd10e",
   "metadata": {},
   "outputs": [],
   "source": [
    "df = pd.read_csv('president_polls_2016.csv')"
   ]
  },
  {
   "cell_type": "code",
   "execution_count": 4,
   "id": "67c0605d",
   "metadata": {},
   "outputs": [
    {
     "data": {
      "text/plain": [
       "(12624, 27)"
      ]
     },
     "execution_count": 4,
     "metadata": {},
     "output_type": "execute_result"
    }
   ],
   "source": [
    "df.shape"
   ]
  },
  {
   "cell_type": "code",
   "execution_count": 5,
   "id": "4468d004",
   "metadata": {},
   "outputs": [
    {
     "name": "stdout",
     "output_type": "stream",
     "text": [
      "<class 'pandas.core.frame.DataFrame'>\n",
      "RangeIndex: 12624 entries, 0 to 12623\n",
      "Data columns (total 27 columns):\n",
      " #   Column            Non-Null Count  Dtype  \n",
      "---  ------            --------------  -----  \n",
      " 0   cycle             12624 non-null  int64  \n",
      " 1   branch            12624 non-null  object \n",
      " 2   type              12624 non-null  object \n",
      " 3   matchup           12624 non-null  object \n",
      " 4   forecastdate      12624 non-null  object \n",
      " 5   state             12624 non-null  object \n",
      " 6   startdate         12624 non-null  object \n",
      " 7   enddate           12624 non-null  object \n",
      " 8   pollster          12624 non-null  object \n",
      " 9   grade             11337 non-null  object \n",
      " 10  samplesize        12621 non-null  float64\n",
      " 11  population        12624 non-null  object \n",
      " 12  poll_wt           12624 non-null  float64\n",
      " 13  rawpoll_clinton   12624 non-null  float64\n",
      " 14  rawpoll_trump     12624 non-null  float64\n",
      " 15  rawpoll_johnson   8397 non-null   float64\n",
      " 16  rawpoll_mcmullin  90 non-null     float64\n",
      " 17  adjpoll_clinton   12624 non-null  float64\n",
      " 18  adjpoll_trump     12624 non-null  float64\n",
      " 19  adjpoll_johnson   8397 non-null   float64\n",
      " 20  adjpoll_mcmullin  90 non-null     float64\n",
      " 21  multiversions     36 non-null     object \n",
      " 22  url               12621 non-null  object \n",
      " 23  poll_id           12624 non-null  int64  \n",
      " 24  question_id       12624 non-null  int64  \n",
      " 25  createddate       12624 non-null  object \n",
      " 26  timestamp         12624 non-null  object \n",
      "dtypes: float64(10), int64(3), object(14)\n",
      "memory usage: 2.6+ MB\n"
     ]
    }
   ],
   "source": [
    "df.info()"
   ]
  },
  {
   "cell_type": "code",
   "execution_count": 6,
   "id": "5e783ed3",
   "metadata": {},
   "outputs": [
    {
     "data": {
      "text/plain": [
       "Index(['cycle', 'branch', 'type', 'matchup', 'forecastdate', 'state',\n",
       "       'startdate', 'enddate', 'pollster', 'grade', 'samplesize', 'population',\n",
       "       'poll_wt', 'rawpoll_clinton', 'rawpoll_trump', 'rawpoll_johnson',\n",
       "       'rawpoll_mcmullin', 'adjpoll_clinton', 'adjpoll_trump',\n",
       "       'adjpoll_johnson', 'adjpoll_mcmullin', 'multiversions', 'url',\n",
       "       'poll_id', 'question_id', 'createddate', 'timestamp'],\n",
       "      dtype='object')"
      ]
     },
     "execution_count": 6,
     "metadata": {},
     "output_type": "execute_result"
    }
   ],
   "source": [
    "df.columns"
   ]
  },
  {
   "cell_type": "code",
   "execution_count": 7,
   "id": "bcadfc61",
   "metadata": {},
   "outputs": [
    {
     "data": {
      "text/html": [
       "<div>\n",
       "<style scoped>\n",
       "    .dataframe tbody tr th:only-of-type {\n",
       "        vertical-align: middle;\n",
       "    }\n",
       "\n",
       "    .dataframe tbody tr th {\n",
       "        vertical-align: top;\n",
       "    }\n",
       "\n",
       "    .dataframe thead th {\n",
       "        text-align: right;\n",
       "    }\n",
       "</style>\n",
       "<table border=\"1\" class=\"dataframe\">\n",
       "  <thead>\n",
       "    <tr style=\"text-align: right;\">\n",
       "      <th></th>\n",
       "      <th>cycle</th>\n",
       "      <th>branch</th>\n",
       "      <th>type</th>\n",
       "      <th>matchup</th>\n",
       "      <th>forecastdate</th>\n",
       "      <th>state</th>\n",
       "      <th>startdate</th>\n",
       "      <th>enddate</th>\n",
       "      <th>pollster</th>\n",
       "      <th>grade</th>\n",
       "      <th>...</th>\n",
       "      <th>adjpoll_clinton</th>\n",
       "      <th>adjpoll_trump</th>\n",
       "      <th>adjpoll_johnson</th>\n",
       "      <th>adjpoll_mcmullin</th>\n",
       "      <th>multiversions</th>\n",
       "      <th>url</th>\n",
       "      <th>poll_id</th>\n",
       "      <th>question_id</th>\n",
       "      <th>createddate</th>\n",
       "      <th>timestamp</th>\n",
       "    </tr>\n",
       "  </thead>\n",
       "  <tbody>\n",
       "    <tr>\n",
       "      <th>0</th>\n",
       "      <td>2016</td>\n",
       "      <td>President</td>\n",
       "      <td>polls-plus</td>\n",
       "      <td>Clinton vs. Trump vs. Johnson</td>\n",
       "      <td>11/8/16</td>\n",
       "      <td>U.S.</td>\n",
       "      <td>11/3/2016</td>\n",
       "      <td>11/6/2016</td>\n",
       "      <td>ABC News/Washington Post</td>\n",
       "      <td>A+</td>\n",
       "      <td>...</td>\n",
       "      <td>45.20163</td>\n",
       "      <td>41.72430</td>\n",
       "      <td>4.626221</td>\n",
       "      <td>NaN</td>\n",
       "      <td>NaN</td>\n",
       "      <td>https://www.washingtonpost.com/news/the-fix/wp...</td>\n",
       "      <td>48630</td>\n",
       "      <td>76192</td>\n",
       "      <td>11/7/16</td>\n",
       "      <td>09:35:33  8 Nov 2016</td>\n",
       "    </tr>\n",
       "    <tr>\n",
       "      <th>1</th>\n",
       "      <td>2016</td>\n",
       "      <td>President</td>\n",
       "      <td>polls-plus</td>\n",
       "      <td>Clinton vs. Trump vs. Johnson</td>\n",
       "      <td>11/8/16</td>\n",
       "      <td>U.S.</td>\n",
       "      <td>11/1/2016</td>\n",
       "      <td>11/7/2016</td>\n",
       "      <td>Google Consumer Surveys</td>\n",
       "      <td>B</td>\n",
       "      <td>...</td>\n",
       "      <td>43.34557</td>\n",
       "      <td>41.21439</td>\n",
       "      <td>5.175792</td>\n",
       "      <td>NaN</td>\n",
       "      <td>NaN</td>\n",
       "      <td>https://datastudio.google.com/u/0/#/org//repor...</td>\n",
       "      <td>48847</td>\n",
       "      <td>76443</td>\n",
       "      <td>11/7/16</td>\n",
       "      <td>09:35:33  8 Nov 2016</td>\n",
       "    </tr>\n",
       "    <tr>\n",
       "      <th>2</th>\n",
       "      <td>2016</td>\n",
       "      <td>President</td>\n",
       "      <td>polls-plus</td>\n",
       "      <td>Clinton vs. Trump vs. Johnson</td>\n",
       "      <td>11/8/16</td>\n",
       "      <td>U.S.</td>\n",
       "      <td>11/2/2016</td>\n",
       "      <td>11/6/2016</td>\n",
       "      <td>Ipsos</td>\n",
       "      <td>A-</td>\n",
       "      <td>...</td>\n",
       "      <td>42.02638</td>\n",
       "      <td>38.81620</td>\n",
       "      <td>6.844734</td>\n",
       "      <td>NaN</td>\n",
       "      <td>NaN</td>\n",
       "      <td>http://projects.fivethirtyeight.com/polls/2016...</td>\n",
       "      <td>48922</td>\n",
       "      <td>76636</td>\n",
       "      <td>11/8/16</td>\n",
       "      <td>09:35:33  8 Nov 2016</td>\n",
       "    </tr>\n",
       "    <tr>\n",
       "      <th>3</th>\n",
       "      <td>2016</td>\n",
       "      <td>President</td>\n",
       "      <td>polls-plus</td>\n",
       "      <td>Clinton vs. Trump vs. Johnson</td>\n",
       "      <td>11/8/16</td>\n",
       "      <td>U.S.</td>\n",
       "      <td>11/4/2016</td>\n",
       "      <td>11/7/2016</td>\n",
       "      <td>YouGov</td>\n",
       "      <td>B</td>\n",
       "      <td>...</td>\n",
       "      <td>45.65676</td>\n",
       "      <td>40.92004</td>\n",
       "      <td>6.069454</td>\n",
       "      <td>NaN</td>\n",
       "      <td>NaN</td>\n",
       "      <td>https://d25d2506sfb94s.cloudfront.net/cumulus_...</td>\n",
       "      <td>48687</td>\n",
       "      <td>76262</td>\n",
       "      <td>11/7/16</td>\n",
       "      <td>09:35:33  8 Nov 2016</td>\n",
       "    </tr>\n",
       "    <tr>\n",
       "      <th>4</th>\n",
       "      <td>2016</td>\n",
       "      <td>President</td>\n",
       "      <td>polls-plus</td>\n",
       "      <td>Clinton vs. Trump vs. Johnson</td>\n",
       "      <td>11/8/16</td>\n",
       "      <td>U.S.</td>\n",
       "      <td>11/3/2016</td>\n",
       "      <td>11/6/2016</td>\n",
       "      <td>Gravis Marketing</td>\n",
       "      <td>B-</td>\n",
       "      <td>...</td>\n",
       "      <td>46.84089</td>\n",
       "      <td>42.33184</td>\n",
       "      <td>3.726098</td>\n",
       "      <td>NaN</td>\n",
       "      <td>NaN</td>\n",
       "      <td>http://www.gravispolls.com/2016/11/final-natio...</td>\n",
       "      <td>48848</td>\n",
       "      <td>76444</td>\n",
       "      <td>11/7/16</td>\n",
       "      <td>09:35:33  8 Nov 2016</td>\n",
       "    </tr>\n",
       "  </tbody>\n",
       "</table>\n",
       "<p>5 rows × 27 columns</p>\n",
       "</div>"
      ],
      "text/plain": [
       "   cycle     branch        type                        matchup forecastdate  \\\n",
       "0   2016  President  polls-plus  Clinton vs. Trump vs. Johnson      11/8/16   \n",
       "1   2016  President  polls-plus  Clinton vs. Trump vs. Johnson      11/8/16   \n",
       "2   2016  President  polls-plus  Clinton vs. Trump vs. Johnson      11/8/16   \n",
       "3   2016  President  polls-plus  Clinton vs. Trump vs. Johnson      11/8/16   \n",
       "4   2016  President  polls-plus  Clinton vs. Trump vs. Johnson      11/8/16   \n",
       "\n",
       "  state  startdate    enddate                  pollster grade  ...  \\\n",
       "0  U.S.  11/3/2016  11/6/2016  ABC News/Washington Post    A+  ...   \n",
       "1  U.S.  11/1/2016  11/7/2016   Google Consumer Surveys     B  ...   \n",
       "2  U.S.  11/2/2016  11/6/2016                     Ipsos    A-  ...   \n",
       "3  U.S.  11/4/2016  11/7/2016                    YouGov     B  ...   \n",
       "4  U.S.  11/3/2016  11/6/2016          Gravis Marketing    B-  ...   \n",
       "\n",
       "   adjpoll_clinton adjpoll_trump  adjpoll_johnson  adjpoll_mcmullin  \\\n",
       "0         45.20163      41.72430         4.626221               NaN   \n",
       "1         43.34557      41.21439         5.175792               NaN   \n",
       "2         42.02638      38.81620         6.844734               NaN   \n",
       "3         45.65676      40.92004         6.069454               NaN   \n",
       "4         46.84089      42.33184         3.726098               NaN   \n",
       "\n",
       "   multiversions                                                url  poll_id  \\\n",
       "0            NaN  https://www.washingtonpost.com/news/the-fix/wp...    48630   \n",
       "1            NaN  https://datastudio.google.com/u/0/#/org//repor...    48847   \n",
       "2            NaN  http://projects.fivethirtyeight.com/polls/2016...    48922   \n",
       "3            NaN  https://d25d2506sfb94s.cloudfront.net/cumulus_...    48687   \n",
       "4            NaN  http://www.gravispolls.com/2016/11/final-natio...    48848   \n",
       "\n",
       "   question_id  createddate             timestamp  \n",
       "0        76192      11/7/16  09:35:33  8 Nov 2016  \n",
       "1        76443      11/7/16  09:35:33  8 Nov 2016  \n",
       "2        76636      11/8/16  09:35:33  8 Nov 2016  \n",
       "3        76262      11/7/16  09:35:33  8 Nov 2016  \n",
       "4        76444      11/7/16  09:35:33  8 Nov 2016  \n",
       "\n",
       "[5 rows x 27 columns]"
      ]
     },
     "execution_count": 7,
     "metadata": {},
     "output_type": "execute_result"
    }
   ],
   "source": [
    "df.head()"
   ]
  },
  {
   "cell_type": "code",
   "execution_count": 8,
   "id": "5b336d6d",
   "metadata": {},
   "outputs": [
    {
     "data": {
      "text/html": [
       "<div>\n",
       "<style scoped>\n",
       "    .dataframe tbody tr th:only-of-type {\n",
       "        vertical-align: middle;\n",
       "    }\n",
       "\n",
       "    .dataframe tbody tr th {\n",
       "        vertical-align: top;\n",
       "    }\n",
       "\n",
       "    .dataframe thead th {\n",
       "        text-align: right;\n",
       "    }\n",
       "</style>\n",
       "<table border=\"1\" class=\"dataframe\">\n",
       "  <thead>\n",
       "    <tr style=\"text-align: right;\">\n",
       "      <th></th>\n",
       "      <th>cycle</th>\n",
       "      <th>branch</th>\n",
       "      <th>type</th>\n",
       "      <th>matchup</th>\n",
       "      <th>forecastdate</th>\n",
       "      <th>state</th>\n",
       "      <th>startdate</th>\n",
       "      <th>enddate</th>\n",
       "      <th>pollster</th>\n",
       "      <th>grade</th>\n",
       "      <th>...</th>\n",
       "      <th>adjpoll_clinton</th>\n",
       "      <th>adjpoll_trump</th>\n",
       "      <th>adjpoll_johnson</th>\n",
       "      <th>adjpoll_mcmullin</th>\n",
       "      <th>multiversions</th>\n",
       "      <th>url</th>\n",
       "      <th>poll_id</th>\n",
       "      <th>question_id</th>\n",
       "      <th>createddate</th>\n",
       "      <th>timestamp</th>\n",
       "    </tr>\n",
       "  </thead>\n",
       "  <tbody>\n",
       "    <tr>\n",
       "      <th>0</th>\n",
       "      <td>2016</td>\n",
       "      <td>President</td>\n",
       "      <td>polls-plus</td>\n",
       "      <td>Clinton vs. Trump vs. Johnson</td>\n",
       "      <td>11/8/16</td>\n",
       "      <td>U.S.</td>\n",
       "      <td>11/3/2016</td>\n",
       "      <td>11/6/2016</td>\n",
       "      <td>ABC News/Washington Post</td>\n",
       "      <td>A+</td>\n",
       "      <td>...</td>\n",
       "      <td>45.20163</td>\n",
       "      <td>41.72430</td>\n",
       "      <td>4.626221</td>\n",
       "      <td>NaN</td>\n",
       "      <td>NaN</td>\n",
       "      <td>https://www.washingtonpost.com/news/the-fix/wp...</td>\n",
       "      <td>48630</td>\n",
       "      <td>76192</td>\n",
       "      <td>11/7/16</td>\n",
       "      <td>09:35:33  8 Nov 2016</td>\n",
       "    </tr>\n",
       "    <tr>\n",
       "      <th>1</th>\n",
       "      <td>2016</td>\n",
       "      <td>President</td>\n",
       "      <td>polls-plus</td>\n",
       "      <td>Clinton vs. Trump vs. Johnson</td>\n",
       "      <td>11/8/16</td>\n",
       "      <td>U.S.</td>\n",
       "      <td>11/1/2016</td>\n",
       "      <td>11/7/2016</td>\n",
       "      <td>Google Consumer Surveys</td>\n",
       "      <td>B</td>\n",
       "      <td>...</td>\n",
       "      <td>43.34557</td>\n",
       "      <td>41.21439</td>\n",
       "      <td>5.175792</td>\n",
       "      <td>NaN</td>\n",
       "      <td>NaN</td>\n",
       "      <td>https://datastudio.google.com/u/0/#/org//repor...</td>\n",
       "      <td>48847</td>\n",
       "      <td>76443</td>\n",
       "      <td>11/7/16</td>\n",
       "      <td>09:35:33  8 Nov 2016</td>\n",
       "    </tr>\n",
       "    <tr>\n",
       "      <th>2</th>\n",
       "      <td>2016</td>\n",
       "      <td>President</td>\n",
       "      <td>polls-plus</td>\n",
       "      <td>Clinton vs. Trump vs. Johnson</td>\n",
       "      <td>11/8/16</td>\n",
       "      <td>U.S.</td>\n",
       "      <td>11/2/2016</td>\n",
       "      <td>11/6/2016</td>\n",
       "      <td>Ipsos</td>\n",
       "      <td>A-</td>\n",
       "      <td>...</td>\n",
       "      <td>42.02638</td>\n",
       "      <td>38.81620</td>\n",
       "      <td>6.844734</td>\n",
       "      <td>NaN</td>\n",
       "      <td>NaN</td>\n",
       "      <td>http://projects.fivethirtyeight.com/polls/2016...</td>\n",
       "      <td>48922</td>\n",
       "      <td>76636</td>\n",
       "      <td>11/8/16</td>\n",
       "      <td>09:35:33  8 Nov 2016</td>\n",
       "    </tr>\n",
       "  </tbody>\n",
       "</table>\n",
       "<p>3 rows × 27 columns</p>\n",
       "</div>"
      ],
      "text/plain": [
       "   cycle     branch        type                        matchup forecastdate  \\\n",
       "0   2016  President  polls-plus  Clinton vs. Trump vs. Johnson      11/8/16   \n",
       "1   2016  President  polls-plus  Clinton vs. Trump vs. Johnson      11/8/16   \n",
       "2   2016  President  polls-plus  Clinton vs. Trump vs. Johnson      11/8/16   \n",
       "\n",
       "  state  startdate    enddate                  pollster grade  ...  \\\n",
       "0  U.S.  11/3/2016  11/6/2016  ABC News/Washington Post    A+  ...   \n",
       "1  U.S.  11/1/2016  11/7/2016   Google Consumer Surveys     B  ...   \n",
       "2  U.S.  11/2/2016  11/6/2016                     Ipsos    A-  ...   \n",
       "\n",
       "   adjpoll_clinton adjpoll_trump  adjpoll_johnson  adjpoll_mcmullin  \\\n",
       "0         45.20163      41.72430         4.626221               NaN   \n",
       "1         43.34557      41.21439         5.175792               NaN   \n",
       "2         42.02638      38.81620         6.844734               NaN   \n",
       "\n",
       "   multiversions                                                url  poll_id  \\\n",
       "0            NaN  https://www.washingtonpost.com/news/the-fix/wp...    48630   \n",
       "1            NaN  https://datastudio.google.com/u/0/#/org//repor...    48847   \n",
       "2            NaN  http://projects.fivethirtyeight.com/polls/2016...    48922   \n",
       "\n",
       "   question_id  createddate             timestamp  \n",
       "0        76192      11/7/16  09:35:33  8 Nov 2016  \n",
       "1        76443      11/7/16  09:35:33  8 Nov 2016  \n",
       "2        76636      11/8/16  09:35:33  8 Nov 2016  \n",
       "\n",
       "[3 rows x 27 columns]"
      ]
     },
     "execution_count": 8,
     "metadata": {},
     "output_type": "execute_result"
    }
   ],
   "source": [
    "df.head(3)"
   ]
  },
  {
   "cell_type": "markdown",
   "id": "756adac9",
   "metadata": {},
   "source": [
    "#### 1) Check for repetition of values across columns --so as to drop a column"
   ]
  },
  {
   "cell_type": "code",
   "execution_count": 9,
   "id": "b76e08ce",
   "metadata": {},
   "outputs": [
    {
     "data": {
      "text/plain": [
       "array([2016], dtype=int64)"
      ]
     },
     "execution_count": 9,
     "metadata": {},
     "output_type": "execute_result"
    }
   ],
   "source": [
    "df['cycle'].unique()"
   ]
  },
  {
   "cell_type": "code",
   "execution_count": 10,
   "id": "d5ee7bff",
   "metadata": {},
   "outputs": [
    {
     "data": {
      "text/plain": [
       "array(['President'], dtype=object)"
      ]
     },
     "execution_count": 10,
     "metadata": {},
     "output_type": "execute_result"
    }
   ],
   "source": [
    "df['branch'].unique()"
   ]
  },
  {
   "cell_type": "code",
   "execution_count": 11,
   "id": "bc9d1010",
   "metadata": {},
   "outputs": [
    {
     "data": {
      "text/plain": [
       "array(['Clinton vs. Trump vs. Johnson'], dtype=object)"
      ]
     },
     "execution_count": 11,
     "metadata": {},
     "output_type": "execute_result"
    }
   ],
   "source": [
    "df['matchup'].unique()"
   ]
  },
  {
   "cell_type": "markdown",
   "id": "6ff6a874",
   "metadata": {},
   "source": [
    "Thus, can dtop atleast these columns:\n",
    "* df['cycle']\n",
    "* df['branch']\n",
    "* df['match']"
   ]
  },
  {
   "cell_type": "code",
   "execution_count": 12,
   "id": "35f73596",
   "metadata": {},
   "outputs": [
    {
     "data": {
      "text/plain": [
       "array([2016, 'President', 'polls-plus', ..., 66966, '6/15/16',\n",
       "       '09:14:14  8 Nov 2016'], dtype=object)"
      ]
     },
     "execution_count": 12,
     "metadata": {},
     "output_type": "execute_result"
    }
   ],
   "source": [
    "df[['cycle', 'branch', 'type', 'matchup', 'forecastdate', 'state',\n",
    "       'startdate', 'enddate', 'pollster', 'grade', 'samplesize', 'population',\n",
    "       'poll_wt', 'rawpoll_clinton', 'rawpoll_trump', 'rawpoll_johnson',\n",
    "       'rawpoll_mcmullin', 'adjpoll_clinton', 'adjpoll_trump',\n",
    "       'adjpoll_johnson', 'adjpoll_mcmullin', 'multiversions', 'url',\n",
    "       'poll_id', 'question_id', 'createddate', 'timestamp']].values.ravel()"
   ]
  },
  {
   "cell_type": "code",
   "execution_count": 13,
   "id": "054e626d",
   "metadata": {},
   "outputs": [
    {
     "name": "stdout",
     "output_type": "stream",
     "text": [
      "cycle : [2016]\n",
      "branch : ['President']\n",
      "type : ['polls-plus' 'now-cast' 'polls-only']\n",
      "matchup : ['Clinton vs. Trump vs. Johnson']\n",
      "forecastdate : ['11/8/16']\n",
      "state : ['U.S.' 'New Mexico' 'Virginia' 'Iowa' 'Wisconsin' 'North Carolina'\n",
      " 'Georgia' 'Florida' 'Oregon' 'Ohio' 'South Carolina' 'New York'\n",
      " 'Michigan' 'Pennsylvania' 'Missouri' 'New Hampshire' 'Arizona' 'Nevada'\n",
      " 'Colorado' 'California' 'Washington' 'Texas' 'Utah' 'Illinois' 'Indiana'\n",
      " 'Tennessee' 'Connecticut' 'Massachusetts' 'New Jersey' 'Kansas'\n",
      " 'Kentucky' 'Minnesota' 'Oklahoma' 'Maryland' 'Alabama' 'Nebraska'\n",
      " 'Louisiana' 'Maine' 'Arkansas' 'Alaska' 'Vermont' 'Idaho' 'Mississippi'\n",
      " 'West Virginia' 'South Dakota' 'Montana' 'Hawaii' 'Maine CD-1'\n",
      " 'Maine CD-2' 'Rhode Island' 'Nebraska CD-3' 'Nebraska CD-1' 'Delaware'\n",
      " 'North Dakota' 'District of Columbia' 'Nebraska CD-2' 'Wyoming']\n",
      "startdate : ['11/3/2016' '11/1/2016' '11/2/2016' '11/4/2016' '11/6/2016' '11/5/2016'\n",
      " '10/26/2016' '10/27/2016' '10/31/2016' '10/20/2016' '10/25/2016'\n",
      " '10/30/2016' '10/22/2016' '10/28/2016' '10/29/2016' '10/21/2016'\n",
      " '10/23/2016' '10/14/2016' '10/17/2016' '10/24/2016' '10/16/2016'\n",
      " '10/18/2016' '10/19/2016' '10/11/2016' '10/12/2016' '10/10/2016'\n",
      " '10/7/2016' '9/25/2016' '10/13/2016' '10/8/2016' '10/15/2016' '9/29/2016'\n",
      " '10/3/2016' '10/5/2016' '10/6/2016' '10/9/2016' '10/4/2016' '9/27/2016'\n",
      " '9/21/2016' '10/1/2016' '9/1/2016' '9/19/2016' '9/28/2016' '10/2/2016'\n",
      " '9/26/2016' '9/20/2016' '9/30/2016' '9/22/2016' '9/23/2016' '9/18/2016'\n",
      " '9/16/2016' '9/9/2016' '9/15/2016' '9/4/2016' '9/17/2016' '9/24/2016'\n",
      " '9/13/2016' '9/11/2016' '9/12/2016' '9/2/2016' '9/6/2016' '9/10/2016'\n",
      " '8/30/2016' '8/22/2016' '9/14/2016' '9/7/2016' '9/8/2016' '8/21/2016'\n",
      " '8/26/2016' '9/3/2016' '8/28/2016' '8/19/2016' '8/18/2016' '8/29/2016'\n",
      " '8/15/2016' '8/17/2016' '8/25/2016' '8/27/2016' '8/23/2016' '9/5/2016'\n",
      " '8/12/2016' '8/20/2016' '8/31/2016' '8/24/2016' '8/9/2016' '8/4/2016'\n",
      " '8/11/2016' '8/13/2016' '8/16/2016' '8/3/2016' '7/19/2016' '8/8/2016'\n",
      " '7/20/2016' '8/7/2016' '7/13/2016' '8/10/2016' '8/5/2016' '8/1/2016'\n",
      " '7/29/2016' '7/9/2016' '7/5/2016' '7/7/2016' '7/6/2016' '7/31/2016'\n",
      " '8/14/2016' '7/11/2016' '8/2/2016' '7/26/2016' '7/8/2016' '7/25/2016'\n",
      " '6/30/2016' '7/14/2016' '7/21/2016' '7/23/2016' '8/6/2016' '6/26/2016'\n",
      " '7/18/2016' '6/8/2016' '6/1/2016' '5/29/2016' '6/15/2016' '6/22/2016'\n",
      " '6/19/2016' '6/10/2016' '7/22/2016' '6/13/2016' '6/14/2016' '5/31/2016'\n",
      " '7/30/2016' '7/12/2016' '6/21/2016' '6/7/2016' '7/27/2016' '5/10/2016'\n",
      " '5/26/2016' '5/23/2016' '6/11/2016' '6/24/2016' '6/23/2016' '6/4/2016'\n",
      " '5/27/2016' '4/26/2016' '6/25/2016' '7/1/2016' '6/16/2016' '5/25/2016'\n",
      " '5/18/2016' '6/27/2016' '7/17/2016' '5/16/2016' '6/9/2016' '4/25/2016'\n",
      " '4/29/2016' '6/5/2016' '5/19/2016' '5/12/2016' '5/11/2016' '5/24/2016'\n",
      " '4/5/2016' '6/20/2016' '5/2/2016' '4/15/2016' '4/4/2016' '7/28/2016'\n",
      " '5/21/2016' '5/13/2016' '4/7/2016' '6/28/2016' '7/24/2016' '3/28/2016'\n",
      " '5/6/2016' '4/6/2016' '6/17/2016' '3/30/2016' '3/31/2016' '3/4/2016'\n",
      " '4/12/2016' '4/10/2016' '4/11/2016' '5/9/2016' '3/23/2016' '5/15/2016'\n",
      " '3/22/2016' '4/1/2016' '5/5/2016' '4/18/2016' '3/1/2016' '6/2/2016'\n",
      " '5/14/2016' '4/20/2016' '4/17/2016' '3/29/2016' '3/7/2016' '5/17/2016'\n",
      " '4/28/2016' '3/19/2016' '3/17/2016' '2/21/2016' '7/16/2016' '7/15/2016'\n",
      " '7/10/2016' '4/22/2016' '4/23/2016' '3/3/2016' '7/4/2016' '7/3/2016'\n",
      " '3/20/2016' '3/16/2016' '7/2/2016' '4/8/2016' '3/14/2016' '6/29/2016'\n",
      " '3/2/2016' '2/11/2016' '2/26/2016' '6/18/2016' '3/24/2016' '2/5/2016'\n",
      " '2/22/2016' '4/19/2016' '1/30/2016' '6/12/2016' '1/9/2016' '3/13/2016'\n",
      " '6/6/2016' '1/18/2016' '5/30/2016' '2/15/2016' '2/24/2016' '5/28/2016'\n",
      " '3/21/2016' '2/18/2016' '1/8/2016' '5/22/2016' '3/18/2016' '5/20/2016'\n",
      " '2/4/2016' '2/10/2016' '2/19/2016' '2/3/2016' '2/2/2016' '2/14/2016'\n",
      " '1/12/2016' '12/4/2015' '5/8/2016' '5/7/2016' '6/3/2016' '5/4/2016'\n",
      " '5/3/2016' '1/5/2016' '1/15/2016' '11/15/2015' '5/1/2016' '4/27/2016'\n",
      " '4/24/2016' '4/30/2016' '12/17/2015' '11/10/2015' '1/21/2016' '4/21/2016'\n",
      " '4/16/2016' '11/16/2015' '4/14/2016' '11/6/2015' '4/13/2016' '11/7/2015'\n",
      " '4/9/2016' '1/4/2016' '4/3/2016' '4/2/2016' '3/27/2016' '12/10/2015'\n",
      " '3/26/2016' '3/25/2016' '12/16/2015' '12/2/2015' '3/15/2016' '3/12/2016'\n",
      " '3/11/2016' '12/6/2015' '1/19/2016' '3/10/2016' '3/9/2016' '3/8/2016'\n",
      " '3/6/2016' '3/5/2016' '2/29/2016' '11/27/2015' '11/23/2015' '11/29/2015'\n",
      " '2/28/2016' '2/25/2016' '2/27/2016' '2/23/2016' '2/17/2016' '2/20/2016'\n",
      " '2/16/2016' '11/9/2015' '2/13/2016' '2/12/2016' '2/9/2016' '2/8/2016'\n",
      " '2/7/2016' '2/6/2016' '1/10/2016' '1/29/2016' '2/1/2016' '1/31/2016'\n",
      " '1/28/2016' '1/27/2016' '1/26/2016' '1/25/2016' '1/24/2016' '1/23/2016'\n",
      " '1/22/2016' '1/20/2016' '1/17/2016' '1/14/2016' '1/16/2016' '1/13/2016'\n",
      " '1/11/2016' '12/22/2015' '1/7/2016' '1/3/2016' '1/6/2016' '1/2/2016'\n",
      " '1/1/2016' '12/7/2015' '12/26/2015' '12/27/2015' '12/25/2015'\n",
      " '12/31/2015' '12/24/2015' '12/23/2015' '12/21/2015' '12/30/2015'\n",
      " '12/20/2015' '12/19/2015' '12/18/2015' '12/11/2015' '12/29/2015'\n",
      " '12/15/2015' '12/14/2015' '12/28/2015' '12/3/2015' '12/13/2015'\n",
      " '11/13/2015' '11/11/2015' '11/30/2015' '11/12/2015' '12/8/2015'\n",
      " '12/5/2015']\n",
      "enddate : ['11/6/2016' '11/7/2016' '11/5/2016' '11/4/2016' '11/3/2016' '10/31/2016'\n",
      " '10/30/2016' '11/2/2016' '11/1/2016' '10/25/2016' '10/24/2016'\n",
      " '10/26/2016' '10/27/2016' '10/28/2016' '10/23/2016' '10/29/2016'\n",
      " '10/22/2016' '10/18/2016' '10/21/2016' '10/17/2016' '10/20/2016'\n",
      " '10/19/2016' '10/14/2016' '10/12/2016' '10/16/2016' '10/11/2016'\n",
      " '9/26/2016' '10/15/2016' '10/13/2016' '10/10/2016' '10/2/2016'\n",
      " '10/6/2016' '10/7/2016' '9/30/2016' '10/8/2016' '9/29/2016' '9/23/2016'\n",
      " '10/5/2016' '10/4/2016' '9/27/2016' '9/25/2016' '10/9/2016' '9/24/2016'\n",
      " '10/3/2016' '10/1/2016' '9/20/2016' '9/28/2016' '9/12/2016' '9/10/2016'\n",
      " '9/21/2016' '9/19/2016' '9/17/2016' '9/22/2016' '9/13/2016' '9/18/2016'\n",
      " '9/14/2016' '9/5/2016' '8/31/2016' '8/23/2016' '9/8/2016' '9/11/2016'\n",
      " '8/28/2016' '8/30/2016' '8/21/2016' '9/15/2016' '9/1/2016' '9/7/2016'\n",
      " '9/16/2016' '8/19/2016' '8/27/2016' '8/29/2016' '9/9/2016' '9/2/2016'\n",
      " '8/14/2016' '8/24/2016' '8/22/2016' '9/4/2016' '8/10/2016' '8/11/2016'\n",
      " '8/16/2016' '8/8/2016' '9/6/2016' '8/7/2016' '8/13/2016' '8/15/2016'\n",
      " '7/19/2016' '7/24/2016' '8/17/2016' '7/17/2016' '8/12/2016' '8/4/2016'\n",
      " '7/15/2016' '8/3/2016' '8/1/2016' '7/12/2016' '7/11/2016' '7/10/2016'\n",
      " '7/29/2016' '7/8/2016' '7/31/2016' '8/18/2016' '7/23/2016' '8/5/2016'\n",
      " '7/27/2016' '7/21/2016' '7/16/2016' '8/9/2016' '7/13/2016' '7/9/2016'\n",
      " '8/20/2016' '7/6/2016' '6/29/2016' '7/18/2016' '7/20/2016' '7/26/2016'\n",
      " '7/2/2016' '6/28/2016' '6/5/2016' '5/31/2016' '6/20/2016' '6/24/2016'\n",
      " '7/14/2016' '6/22/2016' '6/14/2016' '6/15/2016' '6/23/2016' '6/3/2016'\n",
      " '6/21/2016' '7/30/2016' '6/26/2016' '6/8/2016' '6/18/2016' '6/7/2016'\n",
      " '5/16/2016' '7/22/2016' '6/19/2016' '7/25/2016' '5/27/2016' '6/13/2016'\n",
      " '7/7/2016' '6/27/2016' '6/6/2016' '5/30/2016' '8/2/2016' '4/28/2016'\n",
      " '7/5/2016' '5/28/2016' '5/22/2016' '5/19/2016' '8/25/2016' '6/10/2016'\n",
      " '5/11/2016' '5/1/2016' '5/15/2016' '5/12/2016' '5/24/2016' '6/2/2016'\n",
      " '4/9/2016' '9/3/2016' '5/4/2016' '4/17/2016' '4/7/2016' '8/26/2016'\n",
      " '5/5/2016' '5/23/2016' '8/6/2016' '5/25/2016' '6/16/2016' '4/10/2016'\n",
      " '3/30/2016' '5/9/2016' '4/27/2016' '5/26/2016' '4/3/2016' '4/11/2016'\n",
      " '5/13/2016' '3/10/2016' '4/15/2016' '4/16/2016' '6/4/2016' '3/24/2016'\n",
      " '3/29/2016' '5/6/2016' '4/8/2016' '4/21/2016' '3/3/2016' '5/17/2016'\n",
      " '4/24/2016' '4/20/2016' '3/31/2016' '3/11/2016' '5/18/2016' '3/22/2016'\n",
      " '7/28/2016' '2/22/2016' '3/20/2016' '5/20/2016' '4/25/2016' '4/14/2016'\n",
      " '3/23/2016' '4/19/2016' '7/4/2016' '7/3/2016' '3/6/2016' '7/1/2016'\n",
      " '4/13/2016' '3/2/2016' '4/12/2016' '6/30/2016' '3/16/2016' '2/16/2016'\n",
      " '2/29/2016' '6/25/2016' '3/21/2016' '3/26/2016' '2/7/2016' '4/2/2016'\n",
      " '2/23/2016' '2/6/2016' '6/17/2016' '2/20/2016' '1/9/2016' '6/12/2016'\n",
      " '6/11/2016' '3/17/2016' '2/27/2016' '1/20/2016' '2/19/2016' '2/28/2016'\n",
      " '6/1/2016' '6/9/2016' '2/15/2016' '5/29/2016' '1/10/2016' '5/21/2016'\n",
      " '2/26/2016' '2/5/2016' '2/4/2016' '1/12/2016' '5/14/2016' '2/17/2016'\n",
      " '12/9/2015' '5/10/2016' '2/3/2016' '5/8/2016' '5/7/2016' '1/18/2016'\n",
      " '11/17/2015' '4/29/2016' '4/30/2016' '5/3/2016' '5/2/2016' '3/4/2016'\n",
      " '4/26/2016' '12/20/2015' '11/16/2015' '1/24/2016' '4/23/2016' '12/2/2015'\n",
      " '4/22/2016' '11/23/2015' '1/26/2016' '4/18/2016' '11/8/2015' '1/13/2016'\n",
      " '1/7/2016' '4/6/2016' '4/1/2016' '4/4/2016' '4/5/2016' '12/13/2015'\n",
      " '3/28/2016' '12/21/2015' '3/27/2016' '12/17/2015' '12/6/2015' '3/25/2016'\n",
      " '3/19/2016' '3/18/2016' '3/15/2016' '3/14/2016' '3/13/2016' '3/12/2016'\n",
      " '3/9/2016' '3/8/2016' '3/1/2016' '12/1/2015' '11/30/2015' '3/7/2016'\n",
      " '3/5/2016' '12/3/2015' '2/25/2016' '2/21/2016' '2/24/2016' '11/19/2015'\n",
      " '2/18/2016' '11/13/2015' '2/14/2016' '2/13/2016' '2/12/2016' '2/11/2016'\n",
      " '2/10/2016' '2/9/2016' '2/8/2016' '2/2/2016' '2/1/2016' '1/31/2016'\n",
      " '1/30/2016' '1/29/2016' '1/28/2016' '1/27/2016' '1/25/2016' '1/23/2016'\n",
      " '1/22/2016' '1/21/2016' '1/17/2016' '1/19/2016' '1/16/2016' '1/15/2016'\n",
      " '1/14/2016' '12/23/2015' '1/11/2016' '1/8/2016' '1/6/2016' '1/5/2016'\n",
      " '12/8/2015' '12/30/2015' '12/31/2015' '12/29/2015' '1/4/2016'\n",
      " '12/28/2015' '12/27/2015' '12/26/2015' '12/25/2015' '1/3/2016'\n",
      " '12/24/2015' '12/22/2015' '12/15/2015' '1/2/2016' '12/19/2015'\n",
      " '12/18/2015' '1/1/2016' '12/7/2015' '11/15/2015' '12/14/2015']\n",
      "pollster : ['ABC News/Washington Post' 'Google Consumer Surveys' 'Ipsos' 'YouGov'\n",
      " 'Gravis Marketing'\n",
      " 'Fox News/Anderson Robbins Research/Shaw & Company Research'\n",
      " 'CBS News/New York Times' 'NBC News/Wall Street Journal' 'Zia Poll'\n",
      " 'IBD/TIPP' 'Selzer & Company' 'Angus Reid Global' 'Monmouth University'\n",
      " 'Public Policy Polling' 'Marist College' 'The Times-Picayune/Lucid'\n",
      " 'Marquette University' 'Siena College' 'Landmark Communications'\n",
      " 'Quinnipiac University' 'USC Dornsife/LA Times'\n",
      " 'RKM Research and Communications, Inc.' 'Remington'\n",
      " 'Christopher Newport University' 'Emerson College' 'CVOTER International'\n",
      " 'Morning Consult' 'SurveyMonkey' 'Clarity Campaign Labs'\n",
      " 'University of New Hampshire' 'Pew Research Center' 'SurveyUSA'\n",
      " 'Rasmussen Reports/Pulse Opinion Research'\n",
      " 'Greenberg Quinlan Rosner/American Viewpoint' 'Saguaro Strategies'\n",
      " 'Hampton University' 'Insights West' 'CNN/Opinion Research Corp.'\n",
      " 'Trafalgar Group' 'RAND (American Life Panel)' 'RABA Research'\n",
      " 'GfK Group' 'EPIC-MRA' 'BK Strategies'\n",
      " 'Public Policy Institute of California' 'Columbus Dispatch'\n",
      " 'Keating Research, Inc.' 'Opinion Savvy/InsiderAdvantage'\n",
      " 'Research & Polling, Inc.' 'University of Massachusetts Lowell'\n",
      " 'TargetSmart/William & Mary' 'Public Opinion Strategies'\n",
      " 'Susquehanna Polling & Research, Inc.' 'Stockton College'\n",
      " 'Winthrop University' 'Franklin & Marshall College' 'Dixie Strategies'\n",
      " 'University of North Florida' 'Data Orbital' 'Cygnal Political'\n",
      " 'Suffolk University' 'MassINC Polling Group' 'Muhlenberg College'\n",
      " 'Political Marketing International, Inc./Red Racing Horses'\n",
      " 'Starboard Communications' 'Harper Polling'\n",
      " 'Mitchell Research & Communications' 'Elon University'\n",
      " 'Strategic National' 'Time/Abt SRBI' 'Loras College'\n",
      " 'American Research Group' 'Roanoke College'\n",
      " 'Mason-Dixon Polling & Research, Inc.'\n",
      " 'Greenberg Quinlan Rosner (Democracy Corps)' 'University of Denver'\n",
      " 'Y2 Analytics' 'Saint Leo University' 'DFM Research' 'Victory Research'\n",
      " 'Magellan Strategies' 'University of Arkansas' 'JMC Enterprises'\n",
      " 'Bendixen & Amandi International' 'Davis, Hibbitts & Midghall, Inc.'\n",
      " 'Associated Industries of Florida' 'Western Kentucky University'\n",
      " 'Crosswind Media & Public Relations' 'Dan Jones & Associates'\n",
      " 'Western New England University' 'Elway Research'\n",
      " 'Princeton Survey Research Associates International'\n",
      " \"Maine People's Resource Center\" 'St. Norbert College' 'Braun Research'\n",
      " 'University of Houston' 'Centre College'\n",
      " 'Public Religion Research Institute' 'National Research, Inc.'\n",
      " 'SoonerPoll.com' 'Praecones Analytica' 'Nielson Brothers Polling'\n",
      " 'George Washington University (Battleground)'\n",
      " 'North Star Opinion Research/Ayres, McHenry & Associates'\n",
      " 'Southern Media & Opinion Research' 'Craciun Research'\n",
      " 'Fort Hays State University' 'University of Colorado'\n",
      " 'Florida Atlantic University' 'Marketing Resource Group (MRG)'\n",
      " 'Hendrix College' 'Baldwin Wallace University'\n",
      " 'University of New Orleans' 'McLaughlin & Associates' 'Tarrance Group'\n",
      " 'Arizona State University' 'Global Strategy Group'\n",
      " 'Riley Research Associates' 'Ball State University'\n",
      " 'Lake Research Partners' 'Illinois Public Opinion Strategies'\n",
      " 'University of Wyoming' 'Cherry Communications' 'Glengariff Group, Inc.'\n",
      " 'Castleton University' 'Southern Illinois University'\n",
      " 'Clout Research/Wenzel Strategies' 'University of Akron' 'icitizen'\n",
      " 'Sacramento State' 'HighGround' 'Edison Research'\n",
      " 'Michigan State University' 'Garin-Hart-Yang Research Group'\n",
      " 'Fairleigh Dickinson University (PublicMind)' 'Vanderbilt University'\n",
      " 'Moore Information' 'High Point University' 'Market Research Insight'\n",
      " 'Echelon Insights' 'Normington, Petts & Associates'\n",
      " 'Hoffman Research Group' 'Strategies 360' 'MBQF'\n",
      " 'Montana State University Billings' 'Anzalone Liszt Grove Research'\n",
      " 'GBA Strategies' 'Middle Tennessee State University'\n",
      " 'University of Delaware' 'Ivan Moore Research' 'Goucher College'\n",
      " 'Meredith College' 'Target Insyght' 'University of Mary Washington'\n",
      " 'Mercyhurst University' 'We Ask America' 'Rutgers University'\n",
      " 'Just Win Strategies' 'Texas Lyceum' 'First Tuesday Strategies'\n",
      " 'OpinionWorks' 'Utah Valley University' 'Tulchin Research'\n",
      " 'Feldman Group' 'R.L. Repass & Partners' 'Zogby Interactive/JZ Analytics'\n",
      " 'Strategy Research' 'Vox Populi Communications' 'Expedition Strategies'\n",
      " 'Penn Schoen Berland' 'Integrated Web Strategy' 'Basswood Research'\n",
      " 'Fairbank, Maslin, Maullin, Metz & Associates'\n",
      " 'Field Research Corporation (Field Poll)' 'OnMessage Inc.'\n",
      " 'Hickman Analytics' 'American Strategies' 'National Journal'\n",
      " 'Evolving Strategies' 'Leland Beatty' 'TargetPoint'\n",
      " 'Political Callers, Inc.' 'Schoen Consulting' 'Data Targeting'\n",
      " 'Bellwether Research & Consulting' 'Cole Hargrave Snodgrass & Associates'\n",
      " 'Baruch College' 'Behavior Research Center (Rocky Mountain)'\n",
      " 'Harvard University' 'Dartmouth College' 'Merrill Poll'\n",
      " 'Critical Insights' 'Orion Strategies' 'Robert Morris University'\n",
      " 'Florida Southern College' 'Ogden & Fry']\n",
      "grade : ['A+' 'B' 'A-' 'B-' 'A' nan 'B+' 'C+' 'C-' 'C' 'D']\n",
      "samplesize : [ 2220. 26574.  2195. ...  2422.  1576.   950.]\n",
      "population : ['lv' 'rv' 'a' 'v']\n",
      "poll_wt : [8.720654e+00 7.628472e+00 6.424334e+00 ... 1.460000e-06 1.374718e-01\n",
      " 1.013230e-02]\n",
      "rawpoll_clinton : [47.   38.03 42.   ... 46.54 21.33 46.46]\n",
      "rawpoll_trump : [43.   35.69 39.   ... 40.04 35.05 37.41]\n",
      "rawpoll_johnson : [ 4.    5.46  6.    5.    3.    7.1   1.    2.     nan  4.3   4.5   8.\n",
      "  6.8   7.    9.    6.6  10.   11.    1.89  2.89  7.7   2.43  3.89  2.3\n",
      "  3.9   2.58  4.9   5.04  2.96  3.59  5.4   2.6  16.    3.2   7.6   4.95\n",
      "  5.6  22.    4.2   6.3  12.    6.22  4.56  3.53  5.31  5.36  4.89  4.4\n",
      "  8.9   3.33  4.03  4.8   6.42  5.15  7.26  6.55  2.7   8.4   5.97  5.88\n",
      "  6.47  3.5   5.12  9.5   5.57  4.48  4.04  3.98  4.14  3.21  6.5   5.82\n",
      "  5.8   7.04 10.3   4.7   4.15  5.2   1.9   2.54  5.3   4.73  8.84  6.87\n",
      "  8.3   3.8   2.9   3.4   3.3   5.5   4.6   6.1   6.71 14.    3.6   4.94\n",
      "  8.1  13.    3.7   6.2   6.79  7.3   5.1   3.36 11.4   8.5   6.67  5.9\n",
      "  2.39  5.7   8.8   2.17  6.7   6.61  4.1  17.9   9.43  7.9  24.   10.7\n",
      "  5.99  4.72  2.2   1.32  7.8   4.05  6.4   8.2  15.    4.78  4.23 10.86\n",
      "  6.13  8.7  10.4   2.77  5.48 14.47  2.68  8.01  6.18  9.73  5.54  8.32\n",
      "  4.12  8.88  7.5   1.93  4.54  6.35  3.51  6.19  6.17  4.07  9.3   3.79\n",
      "  6.69  2.8   9.9   9.38  5.87  6.92 10.06  3.86  7.21  6.59  6.23  9.8\n",
      "  7.4   5.73  5.27  7.19  5.29  7.45  7.53  7.74  8.95  7.57  6.46 10.35\n",
      "  9.51  7.16  4.27  6.66  5.21  3.37  7.94  6.9   8.99  7.51 19.    7.41\n",
      "  6.56 11.78  6.36  6.51  9.09  4.59  4.87  7.2   5.64  9.2   3.81 12.04\n",
      "  5.53  8.71 12.1   9.4  17.    7.31  6.97  3.12  6.31  5.45 10.11  5.74\n",
      "  6.37  2.15  3.14  5.66 18.    9.31 10.1  16.91  8.21 13.27 11.55  3.97\n",
      "  8.11  8.85  7.47  7.69  5.86  6.06  6.39  5.85  1.81  4.76 20.   11.46\n",
      "  9.15  7.17 10.23 11.1   1.49  3.69  5.07  3.64  5.83  6.33  6.75  8.63\n",
      "  6.21  7.46  9.22  2.26 12.22  5.19  5.26  7.98 13.84  6.96  6.49 10.78\n",
      "  9.55  6.04  7.33  4.88 14.35  6.24  5.41  5.11  4.55  5.71  8.34 13.99\n",
      "  6.91  8.59 14.3   6.52  7.64  7.62  7.37  8.15 17.1  10.5   3.71  9.66\n",
      "  5.14  4.57  7.18  7.82  3.77  4.65  6.99  2.85 10.26 21.    8.61  6.62\n",
      "  7.85  6.88  8.09  2.05  6.65  5.62  2.51  5.25 10.98  5.49  7.23  7.01\n",
      " 14.56 11.85  7.76  2.74  5.17 16.1   9.39 10.8   6.01  4.46 11.42  7.81\n",
      "  7.58  8.17  6.68  7.75  9.7   4.64  7.56  4.17 10.83  5.24  6.54  0.\n",
      " 14.54  7.77 11.77 11.86 17.14 12.39  9.92  4.84  7.24  6.76 11.6   3.96\n",
      "  5.78 12.73  4.92  7.83  9.94  9.59 10.02  7.66  6.43  3.91  9.23  7.12\n",
      "  6.48  3.58  6.95  6.86  9.04 12.96  3.99 10.38 25.   10.64  7.02  4.68\n",
      "  5.33  4.93  6.32  7.39 13.38  5.16 12.95  8.53 17.4   5.03  4.38  5.77\n",
      "  7.28 13.28  8.91 14.78  8.49  7.03 10.44  9.46  8.26  4.85  2.79  9.21\n",
      "  7.86  4.33  8.46 14.24  6.93  8.14  7.61 15.06  7.91  5.61  5.65 10.58\n",
      "  9.37  9.48  5.09  4.86  8.96  6.77  4.98  8.68  7.68 12.98  8.45  0.98\n",
      "  6.94  8.44  6.08 17.29 15.6   5.93 12.97  7.07  6.07  8.06 10.22  9.14\n",
      "  7.92  8.74  9.78  6.82  4.69  7.79 11.39 14.61 10.52 12.76  9.98 15.58\n",
      " 14.66 10.73 12.52  7.93  8.18  8.35  6.85  9.18  5.52 13.01  8.57  8.86\n",
      "  5.67 11.35  9.61  8.75  8.69  6.15 10.43  9.36  9.49  9.91  8.51 10.37\n",
      " 11.65 15.04  9.47 11.18  9.42 12.7   5.91  6.38 12.2  18.44 10.36  8.12\n",
      " 15.45 10.63  9.96  4.77  5.89 10.42 12.02  8.52  8.39 12.77 13.39  8.64\n",
      " 11.13  8.87 10.2   8.07  7.08  5.47  7.73  6.34  6.05 11.37 12.78  9.74\n",
      " 14.71  9.24 10.88 11.5   9.34 10.59 16.45  8.76  8.23  7.78 11.43  7.88\n",
      "  9.84  9.75  9.33  9.81 11.97 10.51  9.86 11.95  8.54  8.48  7.13  7.44\n",
      "  3.31 10.15  8.31 11.3  19.84  8.72 10.74 15.11 12.84  9.06  9.6  11.48\n",
      "  8.62  8.19 12.88  9.77  8.79  8.92  9.12  7.65  9.69 12.32 20.47  6.98\n",
      "  7.87 11.12  7.42  8.24  5.69  8.47  8.22  9.62 10.55  7.48 12.4   9.02\n",
      "  6.57 12.19  8.66 10.97 10.27  7.36  7.63  9.83 13.75 10.92 16.75 13.26\n",
      " 11.45 12.93 15.32 14.51  8.38 12.3  23.   10.89  9.99]\n",
      "rawpoll_mcmullin : [  nan 24.   27.6  24.52 25.   21.   28.   30.   20.   29.   31.   18.\n",
      " 22.    9.   12.   27.   26.  ]\n",
      "adjpoll_clinton : [45.20163 43.34557 42.02638 ... 53.83622 49.57558 46.40999]\n",
      "adjpoll_trump : [41.7243  41.21439 38.8162  ... 32.47939 39.96954 39.19839]\n",
      "adjpoll_johnson : [4.626221 5.175792 6.844734 ... 3.904715 6.92411  3.881193]\n",
      "adjpoll_mcmullin : [     nan 24.      27.70142 24.13522 24.52    25.      24.10142 21.16903\n",
      " 28.06761 30.37186 20.81133 20.74372 29.37186 31.57469 18.87894 25.03381\n",
      " 29.67611 22.81133 29.6423  11.5692  13.65646 25.10142 27.37186 26.13522\n",
      " 25.16903 11.02832 26.20283 26.23664 29.43947 26.27044 29.47327 27.70303\n",
      " 24.13737 24.10303 21.17171 28.06868 30.37776 20.8242  20.75552 29.37776\n",
      " 31.58381 18.89288 25.03434 29.68683 22.8242  29.65249 11.60996 13.68274\n",
      " 25.10303 27.37776 26.13737 25.17171 11.0605  26.20605 26.24039 29.44644\n",
      " 26.27473 29.48078]\n",
      "multiversions : [nan '*']\n",
      "url : ['https://www.washingtonpost.com/news/the-fix/wp/2016/11/07/post-abc-tracking-poll-clinton-47-trump-43-on-election-eve/'\n",
      " 'https://datastudio.google.com/u/0/#/org//reporting/0B29GVb5ISrT0TGk1TW5tVF9Ed2M/page/GsS'\n",
      " 'http://projects.fivethirtyeight.com/polls/20161108_National_2.pdf' ...\n",
      " 'http://www.publicpolicypolling.com/pdf/2015/PPP_Release_NC_32216.pdf'\n",
      " 'https://law.marquette.edu/poll/2016/08/10/new-marquette-law-school-poll-finds/'\n",
      " 'http://www.epicmra.com/press/Stwd_Survey_Jan2016_Media_Freq.pdf']\n",
      "poll_id : [48630 48847 48922 ... 48838 48248 44180]\n",
      "question_id : [76192 76443 76636 ... 76427 75549 66128]\n",
      "createddate : ['11/7/16' '11/8/16' '11/6/16' '11/4/16' '11/5/16' '11/2/16' '11/1/16'\n",
      " '10/27/16' '10/25/16' '11/3/16' '10/30/16' '10/26/16' '10/31/16'\n",
      " '10/29/16' '10/23/16' '10/28/16' '10/19/16' '10/24/16' '10/21/16'\n",
      " '10/16/16' '10/17/16' '10/13/16' '9/28/16' '10/18/16' '10/14/16'\n",
      " '10/20/16' '10/22/16' '10/3/16' '10/9/16' '10/12/16' '10/6/16' '10/4/16'\n",
      " '10/7/16' '9/30/16' '9/25/16' '10/5/16' '10/8/16' '10/10/16' '9/26/16'\n",
      " '10/11/16' '9/21/16' '9/29/16' '9/14/16' '10/2/16' '9/13/16' '9/22/16'\n",
      " '9/23/16' '10/15/16' '9/24/16' '9/20/16' '9/15/16' '9/19/16' '9/7/16'\n",
      " '9/27/16' '10/1/16' '9/2/16' '9/11/16' '9/16/16' '9/12/16' '9/1/16'\n",
      " '9/18/16' '8/31/16' '8/23/16' '9/17/16' '9/6/16' '9/9/16' '8/24/16'\n",
      " '8/21/16' '8/29/16' '9/8/16' '8/30/16' '9/4/16' '8/16/16' '8/25/16'\n",
      " '8/22/16' '8/11/16' '8/26/16' '8/12/16' '8/17/16' '8/9/16' '8/19/16'\n",
      " '8/2/16' '7/27/16' '8/10/16' '9/10/16' '8/18/16' '7/19/16' '8/14/16'\n",
      " '8/15/16' '8/8/16' '7/17/16' '8/3/16' '7/13/16' '7/15/16' '7/30/16'\n",
      " '8/4/16' '8/5/16' '7/29/16' '8/1/16' '7/28/16' '8/7/16' '7/12/16'\n",
      " '7/18/16' '7/25/16' '7/11/16' '7/26/16' '7/7/16' '7/21/16' '6/30/16'\n",
      " '6/1/16' '6/29/16' '6/23/16' '6/18/16' '6/27/16' '6/5/16' '6/26/16'\n",
      " '6/13/16' '7/14/16' '7/8/16' '6/22/16' '5/19/16' '7/23/16' '6/2/16'\n",
      " '6/20/16' '7/31/16' '6/15/16' '7/4/16' '6/14/16' '7/24/16' '5/2/16'\n",
      " '7/16/16' '7/22/16' '5/31/16' '5/25/16' '7/1/16' '5/23/16' '6/16/16'\n",
      " '5/20/16' '5/4/16' '6/6/16' '6/17/16' '5/27/16' '6/3/16' '4/18/16'\n",
      " '6/21/16' '4/20/16' '4/24/16' '5/10/16' '5/18/16' '3/31/16' '5/11/16'\n",
      " '8/28/16' '5/5/16' '6/9/16' '4/25/16' '4/5/16' '5/16/16' '5/22/16'\n",
      " '3/28/16' '4/6/16' '3/6/16' '9/5/16' '4/8/16' '3/18/16' '4/22/16'\n",
      " '8/27/16' '3/14/16' '4/19/16' '8/20/16' '7/5/16' '3/24/16' '4/1/16'\n",
      " '8/13/16' '2/26/16' '3/22/16' '4/28/16' '2/9/16' '3/23/16' '8/6/16'\n",
      " '6/7/16' '1/25/16' '6/4/16' '7/20/16' '3/1/16' '7/6/16' '5/28/16'\n",
      " '5/24/16' '2/18/16' '3/4/16' '5/17/16' '12/21/15' '5/15/16' '5/13/16'\n",
      " '5/9/16' '1/20/16' '11/19/15' '12/29/15' '12/7/15' '4/29/16' '6/8/16'\n",
      " '2/7/16' '5/3/16' '1/17/16' '1/8/16' '6/28/16' '12/10/15' '3/29/16'\n",
      " '3/3/16' '3/21/16' '4/27/16' '1/12/16' '1/27/16' '1/19/16' '1/14/16'\n",
      " '11/17/15' '2/24/16' '1/10/16' '3/11/16' '5/26/16' '1/28/16' '2/8/16'\n",
      " '2/23/16']\n",
      "timestamp : ['09:35:33  8 Nov 2016' '09:24:53  8 Nov 2016' '09:14:14  8 Nov 2016']\n"
     ]
    }
   ],
   "source": [
    "#appying the 'unique()' function for all the columns\n",
    "for col in df:\n",
    "    print(col,':',df[col].unique())"
   ]
  },
  {
   "cell_type": "code",
   "execution_count": 14,
   "id": "5d8d4bc8",
   "metadata": {},
   "outputs": [
    {
     "data": {
      "text/plain": [
       "cycle                                                          [2016]\n",
       "branch                                                    [President]\n",
       "type                               [polls-plus, now-cast, polls-only]\n",
       "matchup                               [Clinton vs. Trump vs. Johnson]\n",
       "forecastdate                                                [11/8/16]\n",
       "state               [U.S., New Mexico, Virginia, Iowa, Wisconsin, ...\n",
       "startdate           [11/3/2016, 11/1/2016, 11/2/2016, 11/4/2016, 1...\n",
       "enddate             [11/6/2016, 11/7/2016, 11/5/2016, 11/4/2016, 1...\n",
       "pollster            [ABC News/Washington Post, Google Consumer Sur...\n",
       "grade                       [A+, B, A-, B-, A, nan, B+, C+, C-, C, D]\n",
       "samplesize          [2220.0, 26574.0, 2195.0, 3677.0, 16639.0, 129...\n",
       "population                                             [lv, rv, a, v]\n",
       "poll_wt             [8.720654, 7.628472, 6.424334, 6.087135, 5.316...\n",
       "rawpoll_clinton     [47.0, 38.03, 42.0, 45.0, 48.0, 44.0, 46.0, 41...\n",
       "rawpoll_trump       [43.0, 35.69, 39.0, 41.0, 44.0, 40.0, 42.7, 46...\n",
       "rawpoll_johnson     [4.0, 5.46, 6.0, 5.0, 3.0, 7.1, 1.0, 2.0, nan,...\n",
       "rawpoll_mcmullin    [nan, 24.0, 27.6, 24.52, 25.0, 21.0, 28.0, 30....\n",
       "adjpoll_clinton     [45.20163, 43.34557, 42.02638, 45.65676, 46.84...\n",
       "adjpoll_trump       [41.7243, 41.21439, 38.8162, 40.92004, 42.3318...\n",
       "adjpoll_johnson     [4.626221, 5.175792, 6.844734, 6.069454, 3.726...\n",
       "adjpoll_mcmullin    [nan, 24.0, 27.70142, 24.13522, 24.52, 25.0, 2...\n",
       "multiversions                                                [nan, *]\n",
       "url                 [https://www.washingtonpost.com/news/the-fix/w...\n",
       "poll_id             [48630, 48847, 48922, 48687, 48848, 48619, 485...\n",
       "question_id         [76192, 76443, 76636, 76262, 76444, 76163, 760...\n",
       "createddate         [11/7/16, 11/8/16, 11/6/16, 11/4/16, 11/5/16, ...\n",
       "timestamp           [09:35:33  8 Nov 2016, 09:24:53  8 Nov 2016, 0...\n",
       "dtype: object"
      ]
     },
     "execution_count": 14,
     "metadata": {},
     "output_type": "execute_result"
    }
   ],
   "source": [
    "#alternative using apply function\n",
    "df.apply(pd.unique)"
   ]
  },
  {
   "cell_type": "code",
   "execution_count": 15,
   "id": "a9e817f1",
   "metadata": {},
   "outputs": [
    {
     "data": {
      "text/plain": [
       "57"
      ]
     },
     "execution_count": 15,
     "metadata": {},
     "output_type": "execute_result"
    }
   ],
   "source": [
    "#number of unique values in a columns:\n",
    "df['state'].nunique()"
   ]
  },
  {
   "cell_type": "code",
   "execution_count": 16,
   "id": "3987dccb",
   "metadata": {},
   "outputs": [
    {
     "data": {
      "text/plain": [
       "state\n",
       "U.S.                    3318\n",
       "Florida                  444\n",
       "North Carolina           375\n",
       "Pennsylvania             375\n",
       "Ohio                     345\n",
       "New Hampshire            336\n",
       "Nevada                   279\n",
       "Virginia                 273\n",
       "Michigan                 258\n",
       "Wisconsin                240\n",
       "Georgia                  240\n",
       "Colorado                 240\n",
       "Arizona                  237\n",
       "California               213\n",
       "Iowa                     210\n",
       "Missouri                 204\n",
       "Utah                     198\n",
       "New York                 189\n",
       "Illinois                 180\n",
       "Texas                    174\n",
       "Indiana                  168\n",
       "New Jersey               162\n",
       "Oregon                   162\n",
       "Maine                    159\n",
       "South Carolina           156\n",
       "Washington               153\n",
       "Massachusetts            153\n",
       "New Mexico               153\n",
       "Kansas                   153\n",
       "Louisiana                150\n",
       "Kentucky                 147\n",
       "Idaho                    144\n",
       "Minnesota                144\n",
       "Maryland                 141\n",
       "West Virginia            141\n",
       "Tennessee                138\n",
       "Arkansas                 135\n",
       "Oklahoma                 132\n",
       "Connecticut              132\n",
       "Alabama                  129\n",
       "Mississippi              129\n",
       "Nebraska                 126\n",
       "Montana                  123\n",
       "Delaware                 120\n",
       "Alaska                   114\n",
       "South Dakota             111\n",
       "Vermont                  105\n",
       "North Dakota              93\n",
       "Rhode Island              87\n",
       "Wyoming                   87\n",
       "Hawaii                    84\n",
       "District of Columbia      78\n",
       "Maine CD-2                42\n",
       "Maine CD-1                33\n",
       "Nebraska CD-2              6\n",
       "Nebraska CD-3              3\n",
       "Nebraska CD-1              3\n",
       "Name: count, dtype: int64"
      ]
     },
     "execution_count": 16,
     "metadata": {},
     "output_type": "execute_result"
    }
   ],
   "source": [
    "# why 57 states, when the US only has 50 states?\n",
    "df['state'].value_counts()"
   ]
  },
  {
   "cell_type": "markdown",
   "id": "f9cc211e",
   "metadata": {},
   "source": [
    "* 'US' itself has been listed as a state\n",
    "* 'Maine', 'Nebraska' has been broken up into multiple districts(??)"
   ]
  },
  {
   "cell_type": "code",
   "execution_count": 17,
   "id": "177cb21d",
   "metadata": {},
   "outputs": [
    {
     "data": {
      "text/plain": [
       "state\n",
       "U.S.                    0.262833\n",
       "Florida                 0.035171\n",
       "North Carolina          0.029705\n",
       "Pennsylvania            0.029705\n",
       "Ohio                    0.027329\n",
       "New Hampshire           0.026616\n",
       "Nevada                  0.022101\n",
       "Virginia                0.021625\n",
       "Michigan                0.020437\n",
       "Wisconsin               0.019011\n",
       "Georgia                 0.019011\n",
       "Colorado                0.019011\n",
       "Arizona                 0.018774\n",
       "California              0.016873\n",
       "Iowa                    0.016635\n",
       "Missouri                0.016160\n",
       "Utah                    0.015684\n",
       "New York                0.014971\n",
       "Illinois                0.014259\n",
       "Texas                   0.013783\n",
       "Indiana                 0.013308\n",
       "New Jersey              0.012833\n",
       "Oregon                  0.012833\n",
       "Maine                   0.012595\n",
       "South Carolina          0.012357\n",
       "Washington              0.012120\n",
       "Massachusetts           0.012120\n",
       "New Mexico              0.012120\n",
       "Kansas                  0.012120\n",
       "Louisiana               0.011882\n",
       "Kentucky                0.011644\n",
       "Idaho                   0.011407\n",
       "Minnesota               0.011407\n",
       "Maryland                0.011169\n",
       "West Virginia           0.011169\n",
       "Tennessee               0.010932\n",
       "Arkansas                0.010694\n",
       "Oklahoma                0.010456\n",
       "Connecticut             0.010456\n",
       "Alabama                 0.010219\n",
       "Mississippi             0.010219\n",
       "Nebraska                0.009981\n",
       "Montana                 0.009743\n",
       "Delaware                0.009506\n",
       "Alaska                  0.009030\n",
       "South Dakota            0.008793\n",
       "Vermont                 0.008317\n",
       "North Dakota            0.007367\n",
       "Rhode Island            0.006892\n",
       "Wyoming                 0.006892\n",
       "Hawaii                  0.006654\n",
       "District of Columbia    0.006179\n",
       "Maine CD-2              0.003327\n",
       "Maine CD-1              0.002614\n",
       "Nebraska CD-2           0.000475\n",
       "Nebraska CD-3           0.000238\n",
       "Nebraska CD-1           0.000238\n",
       "Name: proportion, dtype: float64"
      ]
     },
     "execution_count": 17,
     "metadata": {},
     "output_type": "execute_result"
    }
   ],
   "source": [
    "#find out the proportion of wuinque values within 'state'\n",
    "df['state'].value_counts(normalize = True)"
   ]
  },
  {
   "cell_type": "markdown",
   "id": "255e2cd9",
   "metadata": {},
   "source": [
    "* 'US' occurs about 25% of the time\n",
    "* 'Florida'is the most frequently occuring state at ~3.5%"
   ]
  },
  {
   "cell_type": "code",
   "execution_count": 18,
   "id": "a6fcadfd",
   "metadata": {},
   "outputs": [
    {
     "name": "stdout",
     "output_type": "stream",
     "text": [
      "cycle : 1\n",
      "branch : 1\n",
      "type : 3\n",
      "matchup : 1\n",
      "forecastdate : 1\n",
      "state : 57\n",
      "startdate : 352\n",
      "enddate : 345\n",
      "pollster : 196\n",
      "grade : 10\n",
      "samplesize : 1766\n",
      "population : 4\n",
      "poll_wt : 4399\n",
      "rawpoll_clinton : 1312\n",
      "rawpoll_trump : 1385\n",
      "rawpoll_johnson : 584\n",
      "rawpoll_mcmullin : 16\n",
      "adjpoll_clinton : 12569\n",
      "adjpoll_trump : 12582\n",
      "adjpoll_johnson : 6629\n",
      "adjpoll_mcmullin : 57\n",
      "multiversions : 1\n",
      "url : 1304\n",
      "poll_id : 4208\n",
      "question_id : 4208\n",
      "createddate : 222\n",
      "timestamp : 3\n"
     ]
    }
   ],
   "source": [
    "#find out the no of unique values per colums:\n",
    "for col in df:\n",
    "    print(col,':',df[col].nunique())"
   ]
  },
  {
   "cell_type": "code",
   "execution_count": 19,
   "id": "f3ce869a",
   "metadata": {},
   "outputs": [
    {
     "data": {
      "text/plain": [
       "cycle                   1\n",
       "branch                  1\n",
       "type                    3\n",
       "matchup                 1\n",
       "forecastdate            1\n",
       "state                  57\n",
       "startdate             352\n",
       "enddate               345\n",
       "pollster              196\n",
       "grade                  10\n",
       "samplesize           1766\n",
       "population              4\n",
       "poll_wt              4399\n",
       "rawpoll_clinton      1312\n",
       "rawpoll_trump        1385\n",
       "rawpoll_johnson       584\n",
       "rawpoll_mcmullin       16\n",
       "adjpoll_clinton     12569\n",
       "adjpoll_trump       12582\n",
       "adjpoll_johnson      6629\n",
       "adjpoll_mcmullin       57\n",
       "multiversions           1\n",
       "url                  1304\n",
       "poll_id              4208\n",
       "question_id          4208\n",
       "createddate           222\n",
       "timestamp               3\n",
       "dtype: int64"
      ]
     },
     "execution_count": 19,
     "metadata": {},
     "output_type": "execute_result"
    }
   ],
   "source": [
    "#find the number of distinct values, per column:\n",
    "df.nunique()"
   ]
  },
  {
   "cell_type": "markdown",
   "id": "38d83bbc",
   "metadata": {},
   "source": [
    "==> Cols that can be dropped, coz only 1 value is present throughout:\n",
    " * cylcle\n",
    " * branch\n",
    " * matchup\n",
    " * forcastedate\n",
    " * multiversion\n",
    "\n",
    "Can also drop:\n",
    "   * url\n",
    "   * poll_id\n",
    "   * question_id\n",
    "    \n",
    "    "
   ]
  },
  {
   "cell_type": "code",
   "execution_count": 20,
   "id": "16888657",
   "metadata": {},
   "outputs": [],
   "source": [
    "#### 2) Dropping cols:\n",
    "df.drop(columns=['cycle','branch','matchup', 'forecastdate', 'multiversions',\n",
    "                'url', 'poll_id', 'question_id'],axis=1, inplace=True)"
   ]
  },
  {
   "cell_type": "code",
   "execution_count": 21,
   "id": "967bfbf2",
   "metadata": {},
   "outputs": [
    {
     "name": "stdout",
     "output_type": "stream",
     "text": [
      "<class 'pandas.core.frame.DataFrame'>\n",
      "RangeIndex: 12624 entries, 0 to 12623\n",
      "Data columns (total 19 columns):\n",
      " #   Column            Non-Null Count  Dtype  \n",
      "---  ------            --------------  -----  \n",
      " 0   type              12624 non-null  object \n",
      " 1   state             12624 non-null  object \n",
      " 2   startdate         12624 non-null  object \n",
      " 3   enddate           12624 non-null  object \n",
      " 4   pollster          12624 non-null  object \n",
      " 5   grade             11337 non-null  object \n",
      " 6   samplesize        12621 non-null  float64\n",
      " 7   population        12624 non-null  object \n",
      " 8   poll_wt           12624 non-null  float64\n",
      " 9   rawpoll_clinton   12624 non-null  float64\n",
      " 10  rawpoll_trump     12624 non-null  float64\n",
      " 11  rawpoll_johnson   8397 non-null   float64\n",
      " 12  rawpoll_mcmullin  90 non-null     float64\n",
      " 13  adjpoll_clinton   12624 non-null  float64\n",
      " 14  adjpoll_trump     12624 non-null  float64\n",
      " 15  adjpoll_johnson   8397 non-null   float64\n",
      " 16  adjpoll_mcmullin  90 non-null     float64\n",
      " 17  createddate       12624 non-null  object \n",
      " 18  timestamp         12624 non-null  object \n",
      "dtypes: float64(10), object(9)\n",
      "memory usage: 1.8+ MB\n"
     ]
    }
   ],
   "source": [
    "df.info()"
   ]
  },
  {
   "cell_type": "code",
   "execution_count": 22,
   "id": "4a35a9d3",
   "metadata": {},
   "outputs": [
    {
     "data": {
      "text/plain": [
       "(12624, 19)"
      ]
     },
     "execution_count": 22,
     "metadata": {},
     "output_type": "execute_result"
    }
   ],
   "source": [
    "df.shape"
   ]
  },
  {
   "cell_type": "code",
   "execution_count": 23,
   "id": "4760f250",
   "metadata": {},
   "outputs": [
    {
     "data": {
      "text/plain": [
       "Index(['type', 'state', 'startdate', 'enddate', 'pollster', 'grade',\n",
       "       'samplesize', 'population', 'poll_wt', 'rawpoll_clinton',\n",
       "       'rawpoll_trump', 'rawpoll_johnson', 'rawpoll_mcmullin',\n",
       "       'adjpoll_clinton', 'adjpoll_trump', 'adjpoll_johnson',\n",
       "       'adjpoll_mcmullin', 'createddate', 'timestamp'],\n",
       "      dtype='object')"
      ]
     },
     "execution_count": 23,
     "metadata": {},
     "output_type": "execute_result"
    }
   ],
   "source": [
    "df.columns"
   ]
  },
  {
   "cell_type": "markdown",
   "id": "3acdfd11",
   "metadata": {},
   "source": [
    "#### 3) Rename columns"
   ]
  },
  {
   "cell_type": "code",
   "execution_count": 24,
   "id": "437ab0ae",
   "metadata": {},
   "outputs": [],
   "source": [
    "# Rename the columns \n",
    "# 'adjpoll_clinton'-> 'clinton_believers_pc'\n",
    "# 'adjpoll_trump'-> 'trump_believers_pc'\n",
    "# 'adjpoll_johnson'-> 'johnson_believers_pc'\n",
    "# 'adjpoll_mcmullin'-> 'mcmullin_believers_pc'\n"
   ]
  },
  {
   "cell_type": "code",
   "execution_count": 25,
   "id": "7245ffb0",
   "metadata": {},
   "outputs": [],
   "source": [
    "df.rename(columns ={\n",
    "    'adjpoll_clinton':'clinton_believers_pc',\n",
    "    'adjpoll_trump':'trump_believers_pc',\n",
    "    'adjpoll_johnson':'johnson_believers_pc',\n",
    "    'adjpoll_mcmullin':'mcmullin_believers_pc'}, inplace=True)"
   ]
  },
  {
   "cell_type": "markdown",
   "id": "60159bab",
   "metadata": {},
   "source": [
    "#### Checking for the data types"
   ]
  },
  {
   "cell_type": "code",
   "execution_count": 26,
   "id": "344401ca",
   "metadata": {},
   "outputs": [
    {
     "name": "stdout",
     "output_type": "stream",
     "text": [
      "<class 'pandas.core.frame.DataFrame'>\n",
      "RangeIndex: 12624 entries, 0 to 12623\n",
      "Data columns (total 19 columns):\n",
      " #   Column                 Non-Null Count  Dtype  \n",
      "---  ------                 --------------  -----  \n",
      " 0   type                   12624 non-null  object \n",
      " 1   state                  12624 non-null  object \n",
      " 2   startdate              12624 non-null  object \n",
      " 3   enddate                12624 non-null  object \n",
      " 4   pollster               12624 non-null  object \n",
      " 5   grade                  11337 non-null  object \n",
      " 6   samplesize             12621 non-null  float64\n",
      " 7   population             12624 non-null  object \n",
      " 8   poll_wt                12624 non-null  float64\n",
      " 9   rawpoll_clinton        12624 non-null  float64\n",
      " 10  rawpoll_trump          12624 non-null  float64\n",
      " 11  rawpoll_johnson        8397 non-null   float64\n",
      " 12  rawpoll_mcmullin       90 non-null     float64\n",
      " 13  clinton_believers_pc   12624 non-null  float64\n",
      " 14  trump_believers_pc     12624 non-null  float64\n",
      " 15  johnson_believers_pc   8397 non-null   float64\n",
      " 16  mcmullin_believers_pc  90 non-null     float64\n",
      " 17  createddate            12624 non-null  object \n",
      " 18  timestamp              12624 non-null  object \n",
      "dtypes: float64(10), object(9)\n",
      "memory usage: 1.8+ MB\n"
     ]
    }
   ],
   "source": [
    "df.info()"
   ]
  },
  {
   "cell_type": "markdown",
   "id": "79dc6374",
   "metadata": {},
   "source": [
    "==> Need to change the datatypes of:\n",
    "* startdaye\n",
    "* enddate\n",
    "* createddate\n",
    "* timestamp"
   ]
  },
  {
   "cell_type": "code",
   "execution_count": 27,
   "id": "129d29d8",
   "metadata": {},
   "outputs": [
    {
     "data": {
      "text/html": [
       "<div>\n",
       "<style scoped>\n",
       "    .dataframe tbody tr th:only-of-type {\n",
       "        vertical-align: middle;\n",
       "    }\n",
       "\n",
       "    .dataframe tbody tr th {\n",
       "        vertical-align: top;\n",
       "    }\n",
       "\n",
       "    .dataframe thead th {\n",
       "        text-align: right;\n",
       "    }\n",
       "</style>\n",
       "<table border=\"1\" class=\"dataframe\">\n",
       "  <thead>\n",
       "    <tr style=\"text-align: right;\">\n",
       "      <th></th>\n",
       "      <th>startdate</th>\n",
       "      <th>enddate</th>\n",
       "      <th>createddate</th>\n",
       "      <th>timestamp</th>\n",
       "    </tr>\n",
       "  </thead>\n",
       "  <tbody>\n",
       "    <tr>\n",
       "      <th>0</th>\n",
       "      <td>11/3/2016</td>\n",
       "      <td>11/6/2016</td>\n",
       "      <td>11/7/16</td>\n",
       "      <td>09:35:33  8 Nov 2016</td>\n",
       "    </tr>\n",
       "    <tr>\n",
       "      <th>1</th>\n",
       "      <td>11/1/2016</td>\n",
       "      <td>11/7/2016</td>\n",
       "      <td>11/7/16</td>\n",
       "      <td>09:35:33  8 Nov 2016</td>\n",
       "    </tr>\n",
       "    <tr>\n",
       "      <th>2</th>\n",
       "      <td>11/2/2016</td>\n",
       "      <td>11/6/2016</td>\n",
       "      <td>11/8/16</td>\n",
       "      <td>09:35:33  8 Nov 2016</td>\n",
       "    </tr>\n",
       "    <tr>\n",
       "      <th>3</th>\n",
       "      <td>11/4/2016</td>\n",
       "      <td>11/7/2016</td>\n",
       "      <td>11/7/16</td>\n",
       "      <td>09:35:33  8 Nov 2016</td>\n",
       "    </tr>\n",
       "    <tr>\n",
       "      <th>4</th>\n",
       "      <td>11/3/2016</td>\n",
       "      <td>11/6/2016</td>\n",
       "      <td>11/7/16</td>\n",
       "      <td>09:35:33  8 Nov 2016</td>\n",
       "    </tr>\n",
       "  </tbody>\n",
       "</table>\n",
       "</div>"
      ],
      "text/plain": [
       "   startdate    enddate createddate             timestamp\n",
       "0  11/3/2016  11/6/2016     11/7/16  09:35:33  8 Nov 2016\n",
       "1  11/1/2016  11/7/2016     11/7/16  09:35:33  8 Nov 2016\n",
       "2  11/2/2016  11/6/2016     11/8/16  09:35:33  8 Nov 2016\n",
       "3  11/4/2016  11/7/2016     11/7/16  09:35:33  8 Nov 2016\n",
       "4  11/3/2016  11/6/2016     11/7/16  09:35:33  8 Nov 2016"
      ]
     },
     "execution_count": 27,
     "metadata": {},
     "output_type": "execute_result"
    }
   ],
   "source": [
    "date_cols = ['startdate', 'enddate', 'createddate', 'timestamp']\n",
    "df[date_cols].head()\n"
   ]
  },
  {
   "cell_type": "code",
   "execution_count": 28,
   "id": "d792305a",
   "metadata": {},
   "outputs": [
    {
     "name": "stderr",
     "output_type": "stream",
     "text": [
      "C:\\Users\\yoga1st\\AppData\\Local\\Temp\\ipykernel_4792\\1368475128.py:1: UserWarning: Could not infer format, so each element will be parsed individually, falling back to `dateutil`. To ensure parsing is consistent and as-expected, please specify a format.\n",
      "  df[date_cols].apply(pd.to_datetime)\n"
     ]
    },
    {
     "data": {
      "text/html": [
       "<div>\n",
       "<style scoped>\n",
       "    .dataframe tbody tr th:only-of-type {\n",
       "        vertical-align: middle;\n",
       "    }\n",
       "\n",
       "    .dataframe tbody tr th {\n",
       "        vertical-align: top;\n",
       "    }\n",
       "\n",
       "    .dataframe thead th {\n",
       "        text-align: right;\n",
       "    }\n",
       "</style>\n",
       "<table border=\"1\" class=\"dataframe\">\n",
       "  <thead>\n",
       "    <tr style=\"text-align: right;\">\n",
       "      <th></th>\n",
       "      <th>startdate</th>\n",
       "      <th>enddate</th>\n",
       "      <th>createddate</th>\n",
       "      <th>timestamp</th>\n",
       "    </tr>\n",
       "  </thead>\n",
       "  <tbody>\n",
       "    <tr>\n",
       "      <th>0</th>\n",
       "      <td>2016-11-03</td>\n",
       "      <td>2016-11-06</td>\n",
       "      <td>2016-11-07</td>\n",
       "      <td>2016-11-08 09:35:33</td>\n",
       "    </tr>\n",
       "    <tr>\n",
       "      <th>1</th>\n",
       "      <td>2016-11-01</td>\n",
       "      <td>2016-11-07</td>\n",
       "      <td>2016-11-07</td>\n",
       "      <td>2016-11-08 09:35:33</td>\n",
       "    </tr>\n",
       "    <tr>\n",
       "      <th>2</th>\n",
       "      <td>2016-11-02</td>\n",
       "      <td>2016-11-06</td>\n",
       "      <td>2016-11-08</td>\n",
       "      <td>2016-11-08 09:35:33</td>\n",
       "    </tr>\n",
       "    <tr>\n",
       "      <th>3</th>\n",
       "      <td>2016-11-04</td>\n",
       "      <td>2016-11-07</td>\n",
       "      <td>2016-11-07</td>\n",
       "      <td>2016-11-08 09:35:33</td>\n",
       "    </tr>\n",
       "    <tr>\n",
       "      <th>4</th>\n",
       "      <td>2016-11-03</td>\n",
       "      <td>2016-11-06</td>\n",
       "      <td>2016-11-07</td>\n",
       "      <td>2016-11-08 09:35:33</td>\n",
       "    </tr>\n",
       "    <tr>\n",
       "      <th>...</th>\n",
       "      <td>...</td>\n",
       "      <td>...</td>\n",
       "      <td>...</td>\n",
       "      <td>...</td>\n",
       "    </tr>\n",
       "    <tr>\n",
       "      <th>12619</th>\n",
       "      <td>2016-07-09</td>\n",
       "      <td>2016-07-18</td>\n",
       "      <td>2016-07-21</td>\n",
       "      <td>2016-11-08 09:14:14</td>\n",
       "    </tr>\n",
       "    <tr>\n",
       "      <th>12620</th>\n",
       "      <td>2016-10-21</td>\n",
       "      <td>2016-11-02</td>\n",
       "      <td>2016-11-03</td>\n",
       "      <td>2016-11-08 09:14:14</td>\n",
       "    </tr>\n",
       "    <tr>\n",
       "      <th>12621</th>\n",
       "      <td>2016-08-07</td>\n",
       "      <td>2016-08-10</td>\n",
       "      <td>2016-08-15</td>\n",
       "      <td>2016-11-08 09:14:14</td>\n",
       "    </tr>\n",
       "    <tr>\n",
       "      <th>12622</th>\n",
       "      <td>2016-09-30</td>\n",
       "      <td>2016-10-06</td>\n",
       "      <td>2016-10-10</td>\n",
       "      <td>2016-11-08 09:14:14</td>\n",
       "    </tr>\n",
       "    <tr>\n",
       "      <th>12623</th>\n",
       "      <td>2016-06-09</td>\n",
       "      <td>2016-06-12</td>\n",
       "      <td>2016-06-15</td>\n",
       "      <td>2016-11-08 09:14:14</td>\n",
       "    </tr>\n",
       "  </tbody>\n",
       "</table>\n",
       "<p>12624 rows × 4 columns</p>\n",
       "</div>"
      ],
      "text/plain": [
       "       startdate    enddate createddate           timestamp\n",
       "0     2016-11-03 2016-11-06  2016-11-07 2016-11-08 09:35:33\n",
       "1     2016-11-01 2016-11-07  2016-11-07 2016-11-08 09:35:33\n",
       "2     2016-11-02 2016-11-06  2016-11-08 2016-11-08 09:35:33\n",
       "3     2016-11-04 2016-11-07  2016-11-07 2016-11-08 09:35:33\n",
       "4     2016-11-03 2016-11-06  2016-11-07 2016-11-08 09:35:33\n",
       "...          ...        ...         ...                 ...\n",
       "12619 2016-07-09 2016-07-18  2016-07-21 2016-11-08 09:14:14\n",
       "12620 2016-10-21 2016-11-02  2016-11-03 2016-11-08 09:14:14\n",
       "12621 2016-08-07 2016-08-10  2016-08-15 2016-11-08 09:14:14\n",
       "12622 2016-09-30 2016-10-06  2016-10-10 2016-11-08 09:14:14\n",
       "12623 2016-06-09 2016-06-12  2016-06-15 2016-11-08 09:14:14\n",
       "\n",
       "[12624 rows x 4 columns]"
      ]
     },
     "execution_count": 28,
     "metadata": {},
     "output_type": "execute_result"
    }
   ],
   "source": [
    "df[date_cols].apply(pd.to_datetime)\n",
    "#df[date_cols].apply(pd.to_datetime)"
   ]
  },
  {
   "cell_type": "code",
   "execution_count": 29,
   "id": "fc52598a",
   "metadata": {},
   "outputs": [
    {
     "name": "stdout",
     "output_type": "stream",
     "text": [
      "<class 'pandas.core.frame.DataFrame'>\n",
      "RangeIndex: 12624 entries, 0 to 12623\n",
      "Data columns (total 4 columns):\n",
      " #   Column       Non-Null Count  Dtype \n",
      "---  ------       --------------  ----- \n",
      " 0   startdate    12624 non-null  object\n",
      " 1   enddate      12624 non-null  object\n",
      " 2   createddate  12624 non-null  object\n",
      " 3   timestamp    12624 non-null  object\n",
      "dtypes: object(4)\n",
      "memory usage: 394.6+ KB\n"
     ]
    }
   ],
   "source": [
    "df[date_cols].info()"
   ]
  },
  {
   "cell_type": "markdown",
   "id": "b0239e3f",
   "metadata": {},
   "source": [
    "### MORTALITY"
   ]
  },
  {
   "cell_type": "code",
   "execution_count": 30,
   "id": "6eeabdea",
   "metadata": {},
   "outputs": [],
   "source": [
    "mort_df = pd.read_csv('mortality_missing_values.csv')"
   ]
  },
  {
   "cell_type": "code",
   "execution_count": 31,
   "id": "9ec38515",
   "metadata": {},
   "outputs": [
    {
     "data": {
      "text/html": [
       "<div>\n",
       "<style scoped>\n",
       "    .dataframe tbody tr th:only-of-type {\n",
       "        vertical-align: middle;\n",
       "    }\n",
       "\n",
       "    .dataframe tbody tr th {\n",
       "        vertical-align: top;\n",
       "    }\n",
       "\n",
       "    .dataframe thead th {\n",
       "        text-align: right;\n",
       "    }\n",
       "</style>\n",
       "<table border=\"1\" class=\"dataframe\">\n",
       "  <thead>\n",
       "    <tr style=\"text-align: right;\">\n",
       "      <th></th>\n",
       "      <th>Year</th>\n",
       "      <th>AgeGroup</th>\n",
       "      <th>DeathRate</th>\n",
       "    </tr>\n",
       "  </thead>\n",
       "  <tbody>\n",
       "    <tr>\n",
       "      <th>0</th>\n",
       "      <td>1900.0</td>\n",
       "      <td>01-04 Years</td>\n",
       "      <td>1983.8</td>\n",
       "    </tr>\n",
       "    <tr>\n",
       "      <th>1</th>\n",
       "      <td>NaN</td>\n",
       "      <td>01-04 Years</td>\n",
       "      <td>1695.0</td>\n",
       "    </tr>\n",
       "    <tr>\n",
       "      <th>2</th>\n",
       "      <td>1902.0</td>\n",
       "      <td>01-04 Years</td>\n",
       "      <td>NaN</td>\n",
       "    </tr>\n",
       "    <tr>\n",
       "      <th>3</th>\n",
       "      <td>1903.0</td>\n",
       "      <td>01-04 Years</td>\n",
       "      <td>1542.1</td>\n",
       "    </tr>\n",
       "    <tr>\n",
       "      <th>4</th>\n",
       "      <td>NaN</td>\n",
       "      <td>01-04 Years</td>\n",
       "      <td>NaN</td>\n",
       "    </tr>\n",
       "  </tbody>\n",
       "</table>\n",
       "</div>"
      ],
      "text/plain": [
       "     Year     AgeGroup  DeathRate\n",
       "0  1900.0  01-04 Years     1983.8\n",
       "1     NaN  01-04 Years     1695.0\n",
       "2  1902.0  01-04 Years        NaN\n",
       "3  1903.0  01-04 Years     1542.1\n",
       "4     NaN  01-04 Years        NaN"
      ]
     },
     "execution_count": 31,
     "metadata": {},
     "output_type": "execute_result"
    }
   ],
   "source": [
    "mort_df.head()"
   ]
  },
  {
   "cell_type": "code",
   "execution_count": 33,
   "id": "1465d354",
   "metadata": {},
   "outputs": [
    {
     "data": {
      "text/plain": [
       "(476, 3)"
      ]
     },
     "execution_count": 33,
     "metadata": {},
     "output_type": "execute_result"
    }
   ],
   "source": [
    "mort_df.shape"
   ]
  },
  {
   "cell_type": "code",
   "execution_count": 32,
   "id": "802daac0",
   "metadata": {},
   "outputs": [
    {
     "data": {
      "text/plain": [
       "Year         3\n",
       "AgeGroup     0\n",
       "DeathRate    4\n",
       "dtype: int64"
      ]
     },
     "execution_count": 32,
     "metadata": {},
     "output_type": "execute_result"
    }
   ],
   "source": [
    "#no of missing values, per col:\n",
    "mort_df.isnull().sum()"
   ]
  },
  {
   "cell_type": "code",
   "execution_count": 34,
   "id": "ba178b2f",
   "metadata": {},
   "outputs": [
    {
     "data": {
      "text/plain": [
       "Year         473\n",
       "AgeGroup     476\n",
       "DeathRate    472\n",
       "dtype: int64"
      ]
     },
     "execution_count": 34,
     "metadata": {},
     "output_type": "execute_result"
    }
   ],
   "source": [
    "#try to find out no of not null values each columns\n",
    "mort_df.notnull().sum()"
   ]
  },
  {
   "cell_type": "code",
   "execution_count": 40,
   "id": "2577afbd",
   "metadata": {},
   "outputs": [
    {
     "data": {
      "text/html": [
       "<div>\n",
       "<style scoped>\n",
       "    .dataframe tbody tr th:only-of-type {\n",
       "        vertical-align: middle;\n",
       "    }\n",
       "\n",
       "    .dataframe tbody tr th {\n",
       "        vertical-align: top;\n",
       "    }\n",
       "\n",
       "    .dataframe thead th {\n",
       "        text-align: right;\n",
       "    }\n",
       "</style>\n",
       "<table border=\"1\" class=\"dataframe\">\n",
       "  <thead>\n",
       "    <tr style=\"text-align: right;\">\n",
       "      <th></th>\n",
       "      <th>Year</th>\n",
       "      <th>AgeGroup</th>\n",
       "      <th>DeathRate</th>\n",
       "    </tr>\n",
       "  </thead>\n",
       "  <tbody>\n",
       "    <tr>\n",
       "      <th>1</th>\n",
       "      <td>NaN</td>\n",
       "      <td>01-04 Years</td>\n",
       "      <td>1695.0</td>\n",
       "    </tr>\n",
       "    <tr>\n",
       "      <th>2</th>\n",
       "      <td>1902.0</td>\n",
       "      <td>01-04 Years</td>\n",
       "      <td>NaN</td>\n",
       "    </tr>\n",
       "    <tr>\n",
       "      <th>4</th>\n",
       "      <td>NaN</td>\n",
       "      <td>01-04 Years</td>\n",
       "      <td>NaN</td>\n",
       "    </tr>\n",
       "    <tr>\n",
       "      <th>6</th>\n",
       "      <td>NaN</td>\n",
       "      <td>01-04 Years</td>\n",
       "      <td>NaN</td>\n",
       "    </tr>\n",
       "    <tr>\n",
       "      <th>7</th>\n",
       "      <td>1907.0</td>\n",
       "      <td>01-04 Years</td>\n",
       "      <td>NaN</td>\n",
       "    </tr>\n",
       "  </tbody>\n",
       "</table>\n",
       "</div>"
      ],
      "text/plain": [
       "     Year     AgeGroup  DeathRate\n",
       "1     NaN  01-04 Years     1695.0\n",
       "2  1902.0  01-04 Years        NaN\n",
       "4     NaN  01-04 Years        NaN\n",
       "6     NaN  01-04 Years        NaN\n",
       "7  1907.0  01-04 Years        NaN"
      ]
     },
     "execution_count": 40,
     "metadata": {},
     "output_type": "execute_result"
    }
   ],
   "source": [
    "#Display the rows that contains missing values:\n",
    "mort_df[mort_df.isnull().any(axis=1)]"
   ]
  },
  {
   "cell_type": "code",
   "execution_count": 49,
   "id": "775ce572",
   "metadata": {},
   "outputs": [
    {
     "data": {
      "text/html": [
       "<div>\n",
       "<style scoped>\n",
       "    .dataframe tbody tr th:only-of-type {\n",
       "        vertical-align: middle;\n",
       "    }\n",
       "\n",
       "    .dataframe tbody tr th {\n",
       "        vertical-align: top;\n",
       "    }\n",
       "\n",
       "    .dataframe thead th {\n",
       "        text-align: right;\n",
       "    }\n",
       "</style>\n",
       "<table border=\"1\" class=\"dataframe\">\n",
       "  <thead>\n",
       "    <tr style=\"text-align: right;\">\n",
       "      <th></th>\n",
       "      <th>Year</th>\n",
       "      <th>AgeGroup</th>\n",
       "      <th>DeathRate</th>\n",
       "    </tr>\n",
       "  </thead>\n",
       "  <tbody>\n",
       "    <tr>\n",
       "      <th>2</th>\n",
       "      <td>1902.0</td>\n",
       "      <td>01-04 Years</td>\n",
       "      <td>NaN</td>\n",
       "    </tr>\n",
       "    <tr>\n",
       "      <th>4</th>\n",
       "      <td>NaN</td>\n",
       "      <td>01-04 Years</td>\n",
       "      <td>NaN</td>\n",
       "    </tr>\n",
       "    <tr>\n",
       "      <th>6</th>\n",
       "      <td>NaN</td>\n",
       "      <td>01-04 Years</td>\n",
       "      <td>NaN</td>\n",
       "    </tr>\n",
       "    <tr>\n",
       "      <th>7</th>\n",
       "      <td>1907.0</td>\n",
       "      <td>01-04 Years</td>\n",
       "      <td>NaN</td>\n",
       "    </tr>\n",
       "  </tbody>\n",
       "</table>\n",
       "</div>"
      ],
      "text/plain": [
       "     Year     AgeGroup  DeathRate\n",
       "2  1902.0  01-04 Years        NaN\n",
       "4     NaN  01-04 Years        NaN\n",
       "6     NaN  01-04 Years        NaN\n",
       "7  1907.0  01-04 Years        NaN"
      ]
     },
     "execution_count": 49,
     "metadata": {},
     "output_type": "execute_result"
    }
   ],
   "source": [
    "#Display the rows that contain missing values in the [DeathRate] col:\n",
    "mort_df[mort_df[\"DeathRate\"].isnull()]"
   ]
  },
  {
   "cell_type": "code",
   "execution_count": 50,
   "id": "e5a03b2d",
   "metadata": {},
   "outputs": [
    {
     "data": {
      "text/html": [
       "<div>\n",
       "<style scoped>\n",
       "    .dataframe tbody tr th:only-of-type {\n",
       "        vertical-align: middle;\n",
       "    }\n",
       "\n",
       "    .dataframe tbody tr th {\n",
       "        vertical-align: top;\n",
       "    }\n",
       "\n",
       "    .dataframe thead th {\n",
       "        text-align: right;\n",
       "    }\n",
       "</style>\n",
       "<table border=\"1\" class=\"dataframe\">\n",
       "  <thead>\n",
       "    <tr style=\"text-align: right;\">\n",
       "      <th></th>\n",
       "      <th>Year</th>\n",
       "      <th>AgeGroup</th>\n",
       "      <th>DeathRate</th>\n",
       "    </tr>\n",
       "  </thead>\n",
       "  <tbody>\n",
       "    <tr>\n",
       "      <th>0</th>\n",
       "      <td>1900.0</td>\n",
       "      <td>01-04 Years</td>\n",
       "      <td>1983.8</td>\n",
       "    </tr>\n",
       "    <tr>\n",
       "      <th>1</th>\n",
       "      <td>NaN</td>\n",
       "      <td>01-04 Years</td>\n",
       "      <td>1695.0</td>\n",
       "    </tr>\n",
       "    <tr>\n",
       "      <th>3</th>\n",
       "      <td>1903.0</td>\n",
       "      <td>01-04 Years</td>\n",
       "      <td>1542.1</td>\n",
       "    </tr>\n",
       "    <tr>\n",
       "      <th>5</th>\n",
       "      <td>1905.0</td>\n",
       "      <td>01-04 Years</td>\n",
       "      <td>1498.9</td>\n",
       "    </tr>\n",
       "    <tr>\n",
       "      <th>8</th>\n",
       "      <td>1908.0</td>\n",
       "      <td>01-04 Years</td>\n",
       "      <td>1396.8</td>\n",
       "    </tr>\n",
       "    <tr>\n",
       "      <th>...</th>\n",
       "      <td>...</td>\n",
       "      <td>...</td>\n",
       "      <td>...</td>\n",
       "    </tr>\n",
       "    <tr>\n",
       "      <th>471</th>\n",
       "      <td>2014.0</td>\n",
       "      <td>15-19 Years</td>\n",
       "      <td>45.5</td>\n",
       "    </tr>\n",
       "    <tr>\n",
       "      <th>472</th>\n",
       "      <td>2015.0</td>\n",
       "      <td>15-19 Years</td>\n",
       "      <td>48.3</td>\n",
       "    </tr>\n",
       "    <tr>\n",
       "      <th>473</th>\n",
       "      <td>2016.0</td>\n",
       "      <td>15-19 Years</td>\n",
       "      <td>51.2</td>\n",
       "    </tr>\n",
       "    <tr>\n",
       "      <th>474</th>\n",
       "      <td>2017.0</td>\n",
       "      <td>15-19 Years</td>\n",
       "      <td>51.5</td>\n",
       "    </tr>\n",
       "    <tr>\n",
       "      <th>475</th>\n",
       "      <td>2018.0</td>\n",
       "      <td>15-19 Years</td>\n",
       "      <td>49.2</td>\n",
       "    </tr>\n",
       "  </tbody>\n",
       "</table>\n",
       "<p>472 rows × 3 columns</p>\n",
       "</div>"
      ],
      "text/plain": [
       "       Year     AgeGroup  DeathRate\n",
       "0    1900.0  01-04 Years     1983.8\n",
       "1       NaN  01-04 Years     1695.0\n",
       "3    1903.0  01-04 Years     1542.1\n",
       "5    1905.0  01-04 Years     1498.9\n",
       "8    1908.0  01-04 Years     1396.8\n",
       "..      ...          ...        ...\n",
       "471  2014.0  15-19 Years       45.5\n",
       "472  2015.0  15-19 Years       48.3\n",
       "473  2016.0  15-19 Years       51.2\n",
       "474  2017.0  15-19 Years       51.5\n",
       "475  2018.0  15-19 Years       49.2\n",
       "\n",
       "[472 rows x 3 columns]"
      ]
     },
     "execution_count": 50,
     "metadata": {},
     "output_type": "execute_result"
    }
   ],
   "source": [
    "#Display the rows that do not contain mising values in the [DeathRate] col:\n",
    "mort_df[mort_df[\"DeathRate\"].notnull()]"
   ]
  },
  {
   "cell_type": "markdown",
   "id": "b8a62030",
   "metadata": {},
   "source": [
    "#### Dealing with missing values:"
   ]
  },
  {
   "cell_type": "code",
   "execution_count": 51,
   "id": "f2d3c8a8",
   "metadata": {
    "scrolled": true
   },
   "outputs": [
    {
     "data": {
      "text/html": [
       "<div>\n",
       "<style scoped>\n",
       "    .dataframe tbody tr th:only-of-type {\n",
       "        vertical-align: middle;\n",
       "    }\n",
       "\n",
       "    .dataframe tbody tr th {\n",
       "        vertical-align: top;\n",
       "    }\n",
       "\n",
       "    .dataframe thead th {\n",
       "        text-align: right;\n",
       "    }\n",
       "</style>\n",
       "<table border=\"1\" class=\"dataframe\">\n",
       "  <thead>\n",
       "    <tr style=\"text-align: right;\">\n",
       "      <th></th>\n",
       "      <th>Year</th>\n",
       "      <th>AgeGroup</th>\n",
       "      <th>DeathRate</th>\n",
       "    </tr>\n",
       "  </thead>\n",
       "  <tbody>\n",
       "    <tr>\n",
       "      <th>0</th>\n",
       "      <td>1900.0</td>\n",
       "      <td>01-04 Years</td>\n",
       "      <td>1983.8</td>\n",
       "    </tr>\n",
       "    <tr>\n",
       "      <th>3</th>\n",
       "      <td>1903.0</td>\n",
       "      <td>01-04 Years</td>\n",
       "      <td>1542.1</td>\n",
       "    </tr>\n",
       "    <tr>\n",
       "      <th>5</th>\n",
       "      <td>1905.0</td>\n",
       "      <td>01-04 Years</td>\n",
       "      <td>1498.9</td>\n",
       "    </tr>\n",
       "    <tr>\n",
       "      <th>8</th>\n",
       "      <td>1908.0</td>\n",
       "      <td>01-04 Years</td>\n",
       "      <td>1396.8</td>\n",
       "    </tr>\n",
       "    <tr>\n",
       "      <th>9</th>\n",
       "      <td>1909.0</td>\n",
       "      <td>01-04 Years</td>\n",
       "      <td>1348.9</td>\n",
       "    </tr>\n",
       "    <tr>\n",
       "      <th>...</th>\n",
       "      <td>...</td>\n",
       "      <td>...</td>\n",
       "      <td>...</td>\n",
       "    </tr>\n",
       "    <tr>\n",
       "      <th>471</th>\n",
       "      <td>2014.0</td>\n",
       "      <td>15-19 Years</td>\n",
       "      <td>45.5</td>\n",
       "    </tr>\n",
       "    <tr>\n",
       "      <th>472</th>\n",
       "      <td>2015.0</td>\n",
       "      <td>15-19 Years</td>\n",
       "      <td>48.3</td>\n",
       "    </tr>\n",
       "    <tr>\n",
       "      <th>473</th>\n",
       "      <td>2016.0</td>\n",
       "      <td>15-19 Years</td>\n",
       "      <td>51.2</td>\n",
       "    </tr>\n",
       "    <tr>\n",
       "      <th>474</th>\n",
       "      <td>2017.0</td>\n",
       "      <td>15-19 Years</td>\n",
       "      <td>51.5</td>\n",
       "    </tr>\n",
       "    <tr>\n",
       "      <th>475</th>\n",
       "      <td>2018.0</td>\n",
       "      <td>15-19 Years</td>\n",
       "      <td>49.2</td>\n",
       "    </tr>\n",
       "  </tbody>\n",
       "</table>\n",
       "<p>471 rows × 3 columns</p>\n",
       "</div>"
      ],
      "text/plain": [
       "       Year     AgeGroup  DeathRate\n",
       "0    1900.0  01-04 Years     1983.8\n",
       "3    1903.0  01-04 Years     1542.1\n",
       "5    1905.0  01-04 Years     1498.9\n",
       "8    1908.0  01-04 Years     1396.8\n",
       "9    1909.0  01-04 Years     1348.9\n",
       "..      ...          ...        ...\n",
       "471  2014.0  15-19 Years       45.5\n",
       "472  2015.0  15-19 Years       48.3\n",
       "473  2016.0  15-19 Years       51.2\n",
       "474  2017.0  15-19 Years       51.5\n",
       "475  2018.0  15-19 Years       49.2\n",
       "\n",
       "[471 rows x 3 columns]"
      ]
     },
     "execution_count": 51,
     "metadata": {},
     "output_type": "execute_result"
    }
   ],
   "source": [
    "# 1) Drop missing values\n",
    "mort_df.dropna()"
   ]
  },
  {
   "cell_type": "code",
   "execution_count": 57,
   "id": "6d91ce98",
   "metadata": {},
   "outputs": [
    {
     "data": {
      "text/html": [
       "<div>\n",
       "<style scoped>\n",
       "    .dataframe tbody tr th:only-of-type {\n",
       "        vertical-align: middle;\n",
       "    }\n",
       "\n",
       "    .dataframe tbody tr th {\n",
       "        vertical-align: top;\n",
       "    }\n",
       "\n",
       "    .dataframe thead th {\n",
       "        text-align: right;\n",
       "    }\n",
       "</style>\n",
       "<table border=\"1\" class=\"dataframe\">\n",
       "  <thead>\n",
       "    <tr style=\"text-align: right;\">\n",
       "      <th></th>\n",
       "      <th>Year</th>\n",
       "      <th>AgeGroup</th>\n",
       "      <th>DeathRate</th>\n",
       "    </tr>\n",
       "  </thead>\n",
       "  <tbody>\n",
       "    <tr>\n",
       "      <th>4</th>\n",
       "      <td>NaN</td>\n",
       "      <td>01-04 Years</td>\n",
       "      <td>NaN</td>\n",
       "    </tr>\n",
       "    <tr>\n",
       "      <th>6</th>\n",
       "      <td>NaN</td>\n",
       "      <td>01-04 Years</td>\n",
       "      <td>NaN</td>\n",
       "    </tr>\n",
       "  </tbody>\n",
       "</table>\n",
       "</div>"
      ],
      "text/plain": [
       "   Year     AgeGroup  DeathRate\n",
       "4   NaN  01-04 Years        NaN\n",
       "6   NaN  01-04 Years        NaN"
      ]
     },
     "execution_count": 57,
     "metadata": {},
     "output_type": "execute_result"
    }
   ],
   "source": [
    "# Display thoes rows with missing values in 2 or more cols:\n",
    "mort_df[mort_df.isnull().sum(axis=1) >= 2]"
   ]
  },
  {
   "cell_type": "code",
   "execution_count": 63,
   "id": "37d93d44",
   "metadata": {},
   "outputs": [
    {
     "data": {
      "text/html": [
       "<div>\n",
       "<style scoped>\n",
       "    .dataframe tbody tr th:only-of-type {\n",
       "        vertical-align: middle;\n",
       "    }\n",
       "\n",
       "    .dataframe tbody tr th {\n",
       "        vertical-align: top;\n",
       "    }\n",
       "\n",
       "    .dataframe thead th {\n",
       "        text-align: right;\n",
       "    }\n",
       "</style>\n",
       "<table border=\"1\" class=\"dataframe\">\n",
       "  <thead>\n",
       "    <tr style=\"text-align: right;\">\n",
       "      <th></th>\n",
       "      <th>Year</th>\n",
       "      <th>AgeGroup</th>\n",
       "      <th>DeathRate</th>\n",
       "    </tr>\n",
       "  </thead>\n",
       "  <tbody>\n",
       "    <tr>\n",
       "      <th>0</th>\n",
       "      <td>1900.0</td>\n",
       "      <td>01-04 Years</td>\n",
       "      <td>1983.8</td>\n",
       "    </tr>\n",
       "    <tr>\n",
       "      <th>1</th>\n",
       "      <td>NaN</td>\n",
       "      <td>01-04 Years</td>\n",
       "      <td>1695.0</td>\n",
       "    </tr>\n",
       "    <tr>\n",
       "      <th>2</th>\n",
       "      <td>1902.0</td>\n",
       "      <td>01-04 Years</td>\n",
       "      <td>NaN</td>\n",
       "    </tr>\n",
       "    <tr>\n",
       "      <th>3</th>\n",
       "      <td>1903.0</td>\n",
       "      <td>01-04 Years</td>\n",
       "      <td>1542.1</td>\n",
       "    </tr>\n",
       "    <tr>\n",
       "      <th>5</th>\n",
       "      <td>1905.0</td>\n",
       "      <td>01-04 Years</td>\n",
       "      <td>1498.9</td>\n",
       "    </tr>\n",
       "    <tr>\n",
       "      <th>...</th>\n",
       "      <td>...</td>\n",
       "      <td>...</td>\n",
       "      <td>...</td>\n",
       "    </tr>\n",
       "    <tr>\n",
       "      <th>471</th>\n",
       "      <td>2014.0</td>\n",
       "      <td>15-19 Years</td>\n",
       "      <td>45.5</td>\n",
       "    </tr>\n",
       "    <tr>\n",
       "      <th>472</th>\n",
       "      <td>2015.0</td>\n",
       "      <td>15-19 Years</td>\n",
       "      <td>48.3</td>\n",
       "    </tr>\n",
       "    <tr>\n",
       "      <th>473</th>\n",
       "      <td>2016.0</td>\n",
       "      <td>15-19 Years</td>\n",
       "      <td>51.2</td>\n",
       "    </tr>\n",
       "    <tr>\n",
       "      <th>474</th>\n",
       "      <td>2017.0</td>\n",
       "      <td>15-19 Years</td>\n",
       "      <td>51.5</td>\n",
       "    </tr>\n",
       "    <tr>\n",
       "      <th>475</th>\n",
       "      <td>2018.0</td>\n",
       "      <td>15-19 Years</td>\n",
       "      <td>49.2</td>\n",
       "    </tr>\n",
       "  </tbody>\n",
       "</table>\n",
       "<p>474 rows × 3 columns</p>\n",
       "</div>"
      ],
      "text/plain": [
       "       Year     AgeGroup  DeathRate\n",
       "0    1900.0  01-04 Years     1983.8\n",
       "1       NaN  01-04 Years     1695.0\n",
       "2    1902.0  01-04 Years        NaN\n",
       "3    1903.0  01-04 Years     1542.1\n",
       "5    1905.0  01-04 Years     1498.9\n",
       "..      ...          ...        ...\n",
       "471  2014.0  15-19 Years       45.5\n",
       "472  2015.0  15-19 Years       48.3\n",
       "473  2016.0  15-19 Years       51.2\n",
       "474  2017.0  15-19 Years       51.5\n",
       "475  2018.0  15-19 Years       49.2\n",
       "\n",
       "[474 rows x 3 columns]"
      ]
     },
     "execution_count": 63,
     "metadata": {},
     "output_type": "execute_result"
    }
   ],
   "source": [
    "# Drop rows with 2 or more missing values:\n",
    "d = mort_df[mort_df.isnull().sum(axis=1) >= 2].index\n",
    "mort_df.drop(d,inplace=False)\n"
   ]
  },
  {
   "cell_type": "code",
   "execution_count": 64,
   "id": "e342058d",
   "metadata": {},
   "outputs": [
    {
     "data": {
      "text/html": [
       "<div>\n",
       "<style scoped>\n",
       "    .dataframe tbody tr th:only-of-type {\n",
       "        vertical-align: middle;\n",
       "    }\n",
       "\n",
       "    .dataframe tbody tr th {\n",
       "        vertical-align: top;\n",
       "    }\n",
       "\n",
       "    .dataframe thead th {\n",
       "        text-align: right;\n",
       "    }\n",
       "</style>\n",
       "<table border=\"1\" class=\"dataframe\">\n",
       "  <thead>\n",
       "    <tr style=\"text-align: right;\">\n",
       "      <th></th>\n",
       "      <th>Year</th>\n",
       "      <th>AgeGroup</th>\n",
       "      <th>DeathRate</th>\n",
       "    </tr>\n",
       "  </thead>\n",
       "  <tbody>\n",
       "    <tr>\n",
       "      <th>0</th>\n",
       "      <td>1900.0</td>\n",
       "      <td>01-04 Years</td>\n",
       "      <td>1983.8</td>\n",
       "    </tr>\n",
       "    <tr>\n",
       "      <th>1</th>\n",
       "      <td>NaN</td>\n",
       "      <td>01-04 Years</td>\n",
       "      <td>1695.0</td>\n",
       "    </tr>\n",
       "    <tr>\n",
       "      <th>2</th>\n",
       "      <td>1902.0</td>\n",
       "      <td>01-04 Years</td>\n",
       "      <td>NaN</td>\n",
       "    </tr>\n",
       "    <tr>\n",
       "      <th>3</th>\n",
       "      <td>1903.0</td>\n",
       "      <td>01-04 Years</td>\n",
       "      <td>1542.1</td>\n",
       "    </tr>\n",
       "    <tr>\n",
       "      <th>5</th>\n",
       "      <td>1905.0</td>\n",
       "      <td>01-04 Years</td>\n",
       "      <td>1498.9</td>\n",
       "    </tr>\n",
       "    <tr>\n",
       "      <th>...</th>\n",
       "      <td>...</td>\n",
       "      <td>...</td>\n",
       "      <td>...</td>\n",
       "    </tr>\n",
       "    <tr>\n",
       "      <th>471</th>\n",
       "      <td>2014.0</td>\n",
       "      <td>15-19 Years</td>\n",
       "      <td>45.5</td>\n",
       "    </tr>\n",
       "    <tr>\n",
       "      <th>472</th>\n",
       "      <td>2015.0</td>\n",
       "      <td>15-19 Years</td>\n",
       "      <td>48.3</td>\n",
       "    </tr>\n",
       "    <tr>\n",
       "      <th>473</th>\n",
       "      <td>2016.0</td>\n",
       "      <td>15-19 Years</td>\n",
       "      <td>51.2</td>\n",
       "    </tr>\n",
       "    <tr>\n",
       "      <th>474</th>\n",
       "      <td>2017.0</td>\n",
       "      <td>15-19 Years</td>\n",
       "      <td>51.5</td>\n",
       "    </tr>\n",
       "    <tr>\n",
       "      <th>475</th>\n",
       "      <td>2018.0</td>\n",
       "      <td>15-19 Years</td>\n",
       "      <td>49.2</td>\n",
       "    </tr>\n",
       "  </tbody>\n",
       "</table>\n",
       "<p>474 rows × 3 columns</p>\n",
       "</div>"
      ],
      "text/plain": [
       "       Year     AgeGroup  DeathRate\n",
       "0    1900.0  01-04 Years     1983.8\n",
       "1       NaN  01-04 Years     1695.0\n",
       "2    1902.0  01-04 Years        NaN\n",
       "3    1903.0  01-04 Years     1542.1\n",
       "5    1905.0  01-04 Years     1498.9\n",
       "..      ...          ...        ...\n",
       "471  2014.0  15-19 Years       45.5\n",
       "472  2015.0  15-19 Years       48.3\n",
       "473  2016.0  15-19 Years       51.2\n",
       "474  2017.0  15-19 Years       51.5\n",
       "475  2018.0  15-19 Years       49.2\n",
       "\n",
       "[474 rows x 3 columns]"
      ]
     },
     "execution_count": 64,
     "metadata": {},
     "output_type": "execute_result"
    }
   ],
   "source": [
    "mort_df.dropna(thresh= 2, inplace = False)"
   ]
  },
  {
   "cell_type": "code",
   "execution_count": 69,
   "id": "3c3f0a69",
   "metadata": {},
   "outputs": [
    {
     "data": {
      "text/html": [
       "<div>\n",
       "<style scoped>\n",
       "    .dataframe tbody tr th:only-of-type {\n",
       "        vertical-align: middle;\n",
       "    }\n",
       "\n",
       "    .dataframe tbody tr th {\n",
       "        vertical-align: top;\n",
       "    }\n",
       "\n",
       "    .dataframe thead th {\n",
       "        text-align: right;\n",
       "    }\n",
       "</style>\n",
       "<table border=\"1\" class=\"dataframe\">\n",
       "  <thead>\n",
       "    <tr style=\"text-align: right;\">\n",
       "      <th></th>\n",
       "      <th>Year</th>\n",
       "      <th>AgeGroup</th>\n",
       "      <th>DeathRate</th>\n",
       "    </tr>\n",
       "  </thead>\n",
       "  <tbody>\n",
       "    <tr>\n",
       "      <th>0</th>\n",
       "      <td>1900.0</td>\n",
       "      <td>01-04 Years</td>\n",
       "      <td>1983.8</td>\n",
       "    </tr>\n",
       "    <tr>\n",
       "      <th>1</th>\n",
       "      <td>NaN</td>\n",
       "      <td>01-04 Years</td>\n",
       "      <td>1695.0</td>\n",
       "    </tr>\n",
       "    <tr>\n",
       "      <th>3</th>\n",
       "      <td>1903.0</td>\n",
       "      <td>01-04 Years</td>\n",
       "      <td>1542.1</td>\n",
       "    </tr>\n",
       "    <tr>\n",
       "      <th>5</th>\n",
       "      <td>1905.0</td>\n",
       "      <td>01-04 Years</td>\n",
       "      <td>1498.9</td>\n",
       "    </tr>\n",
       "    <tr>\n",
       "      <th>8</th>\n",
       "      <td>1908.0</td>\n",
       "      <td>01-04 Years</td>\n",
       "      <td>1396.8</td>\n",
       "    </tr>\n",
       "    <tr>\n",
       "      <th>...</th>\n",
       "      <td>...</td>\n",
       "      <td>...</td>\n",
       "      <td>...</td>\n",
       "    </tr>\n",
       "    <tr>\n",
       "      <th>471</th>\n",
       "      <td>2014.0</td>\n",
       "      <td>15-19 Years</td>\n",
       "      <td>45.5</td>\n",
       "    </tr>\n",
       "    <tr>\n",
       "      <th>472</th>\n",
       "      <td>2015.0</td>\n",
       "      <td>15-19 Years</td>\n",
       "      <td>48.3</td>\n",
       "    </tr>\n",
       "    <tr>\n",
       "      <th>473</th>\n",
       "      <td>2016.0</td>\n",
       "      <td>15-19 Years</td>\n",
       "      <td>51.2</td>\n",
       "    </tr>\n",
       "    <tr>\n",
       "      <th>474</th>\n",
       "      <td>2017.0</td>\n",
       "      <td>15-19 Years</td>\n",
       "      <td>51.5</td>\n",
       "    </tr>\n",
       "    <tr>\n",
       "      <th>475</th>\n",
       "      <td>2018.0</td>\n",
       "      <td>15-19 Years</td>\n",
       "      <td>49.2</td>\n",
       "    </tr>\n",
       "  </tbody>\n",
       "</table>\n",
       "<p>472 rows × 3 columns</p>\n",
       "</div>"
      ],
      "text/plain": [
       "       Year     AgeGroup  DeathRate\n",
       "0    1900.0  01-04 Years     1983.8\n",
       "1       NaN  01-04 Years     1695.0\n",
       "3    1903.0  01-04 Years     1542.1\n",
       "5    1905.0  01-04 Years     1498.9\n",
       "8    1908.0  01-04 Years     1396.8\n",
       "..      ...          ...        ...\n",
       "471  2014.0  15-19 Years       45.5\n",
       "472  2015.0  15-19 Years       48.3\n",
       "473  2016.0  15-19 Years       51.2\n",
       "474  2017.0  15-19 Years       51.5\n",
       "475  2018.0  15-19 Years       49.2\n",
       "\n",
       "[472 rows x 3 columns]"
      ]
     },
     "execution_count": 69,
     "metadata": {},
     "output_type": "execute_result"
    }
   ],
   "source": [
    "#Drop rows with missing values in the [DeathRate] col:\n",
    "mort_df.dropna(subset = \"DeathRate\", inplace = False)\n"
   ]
  },
  {
   "cell_type": "code",
   "execution_count": 70,
   "id": "f9ed0092",
   "metadata": {},
   "outputs": [],
   "source": [
    "#2) Impute missing values:"
   ]
  },
  {
   "cell_type": "code",
   "execution_count": 75,
   "id": "36a063b6",
   "metadata": {},
   "outputs": [
    {
     "data": {
      "text/plain": [
       "Year         3\n",
       "AgeGroup     0\n",
       "DeathRate    4\n",
       "dtype: int64"
      ]
     },
     "execution_count": 75,
     "metadata": {},
     "output_type": "execute_result"
    }
   ],
   "source": [
    "mort_df.isnull().sum()"
   ]
  },
  {
   "cell_type": "code",
   "execution_count": 76,
   "id": "f3402958",
   "metadata": {},
   "outputs": [
    {
     "data": {
      "text/html": [
       "<div>\n",
       "<style scoped>\n",
       "    .dataframe tbody tr th:only-of-type {\n",
       "        vertical-align: middle;\n",
       "    }\n",
       "\n",
       "    .dataframe tbody tr th {\n",
       "        vertical-align: top;\n",
       "    }\n",
       "\n",
       "    .dataframe thead th {\n",
       "        text-align: right;\n",
       "    }\n",
       "</style>\n",
       "<table border=\"1\" class=\"dataframe\">\n",
       "  <thead>\n",
       "    <tr style=\"text-align: right;\">\n",
       "      <th></th>\n",
       "      <th>Year</th>\n",
       "      <th>DeathRate</th>\n",
       "    </tr>\n",
       "  </thead>\n",
       "  <tbody>\n",
       "    <tr>\n",
       "      <th>count</th>\n",
       "      <td>473.000000</td>\n",
       "      <td>472.000000</td>\n",
       "    </tr>\n",
       "    <tr>\n",
       "      <th>mean</th>\n",
       "      <td>1959.350951</td>\n",
       "      <td>181.221186</td>\n",
       "    </tr>\n",
       "    <tr>\n",
       "      <th>std</th>\n",
       "      <td>34.210953</td>\n",
       "      <td>265.215427</td>\n",
       "    </tr>\n",
       "    <tr>\n",
       "      <th>min</th>\n",
       "      <td>1900.000000</td>\n",
       "      <td>11.400000</td>\n",
       "    </tr>\n",
       "    <tr>\n",
       "      <th>25%</th>\n",
       "      <td>1930.000000</td>\n",
       "      <td>40.500000</td>\n",
       "    </tr>\n",
       "    <tr>\n",
       "      <th>50%</th>\n",
       "      <td>1959.000000</td>\n",
       "      <td>88.400000</td>\n",
       "    </tr>\n",
       "    <tr>\n",
       "      <th>75%</th>\n",
       "      <td>1989.000000</td>\n",
       "      <td>219.675000</td>\n",
       "    </tr>\n",
       "    <tr>\n",
       "      <th>max</th>\n",
       "      <td>2018.000000</td>\n",
       "      <td>1983.800000</td>\n",
       "    </tr>\n",
       "  </tbody>\n",
       "</table>\n",
       "</div>"
      ],
      "text/plain": [
       "              Year    DeathRate\n",
       "count   473.000000   472.000000\n",
       "mean   1959.350951   181.221186\n",
       "std      34.210953   265.215427\n",
       "min    1900.000000    11.400000\n",
       "25%    1930.000000    40.500000\n",
       "50%    1959.000000    88.400000\n",
       "75%    1989.000000   219.675000\n",
       "max    2018.000000  1983.800000"
      ]
     },
     "execution_count": 76,
     "metadata": {},
     "output_type": "execute_result"
    }
   ],
   "source": [
    "#impute 'DeathRate':\n",
    "mort_df.describe()"
   ]
  },
  {
   "cell_type": "code",
   "execution_count": 77,
   "id": "4a9e43b8",
   "metadata": {},
   "outputs": [
    {
     "data": {
      "text/plain": [
       "<Axes: ylabel='DeathRate'>"
      ]
     },
     "execution_count": 77,
     "metadata": {},
     "output_type": "execute_result"
    },
    {
     "data": {
      "image/png": "[encoded data removed]",
      "text/plain": [
       "<Figure size 640x480 with 1 Axes>"
      ]
     },
     "metadata": {},
     "output_type": "display_data"
    }
   ],
   "source": [
    "import seaborn as sns\n",
    "sns.boxplot(y = mort_df['DeathRate'])"
   ]
  },
  {
   "cell_type": "code",
   "execution_count": 78,
   "id": "67696254",
   "metadata": {},
   "outputs": [
    {
     "data": {
      "text/plain": [
       "88.4"
      ]
     },
     "execution_count": 78,
     "metadata": {},
     "output_type": "execute_result"
    }
   ],
   "source": [
    "mort_df['DeathRate'].median()"
   ]
  },
  {
   "cell_type": "code",
   "execution_count": 79,
   "id": "2c1baa49",
   "metadata": {},
   "outputs": [],
   "source": [
    "mort_df['DeathRate'].fillna(mort_df['DeathRate'].median(),inplace=True)"
   ]
  },
  {
   "cell_type": "code",
   "execution_count": 80,
   "id": "6f3042c4",
   "metadata": {},
   "outputs": [
    {
     "data": {
      "text/plain": [
       "Year         3\n",
       "AgeGroup     0\n",
       "DeathRate    0\n",
       "dtype: int64"
      ]
     },
     "execution_count": 80,
     "metadata": {},
     "output_type": "execute_result"
    }
   ],
   "source": [
    "mort_df.isnull().sum()"
   ]
  },
  {
   "cell_type": "code",
   "execution_count": null,
   "id": "e8f6d82b",
   "metadata": {},
   "outputs": [],
   "source": [
    "#Impute 'Year':"
   ]
  },
  {
   "cell_type": "code",
   "execution_count": 81,
   "id": "6f765ff0",
   "metadata": {},
   "outputs": [
    {
     "data": {
      "text/html": [
       "<div>\n",
       "<style scoped>\n",
       "    .dataframe tbody tr th:only-of-type {\n",
       "        vertical-align: middle;\n",
       "    }\n",
       "\n",
       "    .dataframe tbody tr th {\n",
       "        vertical-align: top;\n",
       "    }\n",
       "\n",
       "    .dataframe thead th {\n",
       "        text-align: right;\n",
       "    }\n",
       "</style>\n",
       "<table border=\"1\" class=\"dataframe\">\n",
       "  <thead>\n",
       "    <tr style=\"text-align: right;\">\n",
       "      <th></th>\n",
       "      <th>Year</th>\n",
       "      <th>AgeGroup</th>\n",
       "      <th>DeathRate</th>\n",
       "    </tr>\n",
       "  </thead>\n",
       "  <tbody>\n",
       "    <tr>\n",
       "      <th>0</th>\n",
       "      <td>1900.0</td>\n",
       "      <td>01-04 Years</td>\n",
       "      <td>1983.8</td>\n",
       "    </tr>\n",
       "    <tr>\n",
       "      <th>1</th>\n",
       "      <td>NaN</td>\n",
       "      <td>01-04 Years</td>\n",
       "      <td>1695.0</td>\n",
       "    </tr>\n",
       "    <tr>\n",
       "      <th>2</th>\n",
       "      <td>1902.0</td>\n",
       "      <td>01-04 Years</td>\n",
       "      <td>88.4</td>\n",
       "    </tr>\n",
       "    <tr>\n",
       "      <th>3</th>\n",
       "      <td>1903.0</td>\n",
       "      <td>01-04 Years</td>\n",
       "      <td>1542.1</td>\n",
       "    </tr>\n",
       "    <tr>\n",
       "      <th>4</th>\n",
       "      <td>NaN</td>\n",
       "      <td>01-04 Years</td>\n",
       "      <td>88.4</td>\n",
       "    </tr>\n",
       "  </tbody>\n",
       "</table>\n",
       "</div>"
      ],
      "text/plain": [
       "     Year     AgeGroup  DeathRate\n",
       "0  1900.0  01-04 Years     1983.8\n",
       "1     NaN  01-04 Years     1695.0\n",
       "2  1902.0  01-04 Years       88.4\n",
       "3  1903.0  01-04 Years     1542.1\n",
       "4     NaN  01-04 Years       88.4"
      ]
     },
     "execution_count": 81,
     "metadata": {},
     "output_type": "execute_result"
    }
   ],
   "source": [
    "mort_df.head()"
   ]
  },
  {
   "cell_type": "code",
   "execution_count": 88,
   "id": "9e6ff1fe",
   "metadata": {},
   "outputs": [],
   "source": [
    "# mort_df['Year'].fillna(method=\"ffill\")\n",
    "mort_df['Year'].fillna(method=\"ffill\", limit=2, inplace=True)"
   ]
  },
  {
   "cell_type": "code",
   "execution_count": 89,
   "id": "d9ba3d11",
   "metadata": {},
   "outputs": [
    {
     "data": {
      "text/html": [
       "<div>\n",
       "<style scoped>\n",
       "    .dataframe tbody tr th:only-of-type {\n",
       "        vertical-align: middle;\n",
       "    }\n",
       "\n",
       "    .dataframe tbody tr th {\n",
       "        vertical-align: top;\n",
       "    }\n",
       "\n",
       "    .dataframe thead th {\n",
       "        text-align: right;\n",
       "    }\n",
       "</style>\n",
       "<table border=\"1\" class=\"dataframe\">\n",
       "  <thead>\n",
       "    <tr style=\"text-align: right;\">\n",
       "      <th></th>\n",
       "      <th>Year</th>\n",
       "      <th>AgeGroup</th>\n",
       "      <th>DeathRate</th>\n",
       "    </tr>\n",
       "  </thead>\n",
       "  <tbody>\n",
       "    <tr>\n",
       "      <th>0</th>\n",
       "      <td>1900.0</td>\n",
       "      <td>01-04 Years</td>\n",
       "      <td>1983.8</td>\n",
       "    </tr>\n",
       "    <tr>\n",
       "      <th>1</th>\n",
       "      <td>1900.0</td>\n",
       "      <td>01-04 Years</td>\n",
       "      <td>1695.0</td>\n",
       "    </tr>\n",
       "    <tr>\n",
       "      <th>2</th>\n",
       "      <td>1902.0</td>\n",
       "      <td>01-04 Years</td>\n",
       "      <td>88.4</td>\n",
       "    </tr>\n",
       "    <tr>\n",
       "      <th>3</th>\n",
       "      <td>1903.0</td>\n",
       "      <td>01-04 Years</td>\n",
       "      <td>1542.1</td>\n",
       "    </tr>\n",
       "    <tr>\n",
       "      <th>4</th>\n",
       "      <td>1903.0</td>\n",
       "      <td>01-04 Years</td>\n",
       "      <td>88.4</td>\n",
       "    </tr>\n",
       "  </tbody>\n",
       "</table>\n",
       "</div>"
      ],
      "text/plain": [
       "     Year     AgeGroup  DeathRate\n",
       "0  1900.0  01-04 Years     1983.8\n",
       "1  1900.0  01-04 Years     1695.0\n",
       "2  1902.0  01-04 Years       88.4\n",
       "3  1903.0  01-04 Years     1542.1\n",
       "4  1903.0  01-04 Years       88.4"
      ]
     },
     "execution_count": 89,
     "metadata": {},
     "output_type": "execute_result"
    }
   ],
   "source": [
    "mort_df.head()"
   ]
  },
  {
   "cell_type": "markdown",
   "id": "77b8f697",
   "metadata": {},
   "source": [
    "#### Changing datatypes:"
   ]
  },
  {
   "cell_type": "code",
   "execution_count": 90,
   "id": "3a4cdcc3",
   "metadata": {},
   "outputs": [
    {
     "data": {
      "text/plain": [
       "Index(['Year', 'AgeGroup', 'DeathRate'], dtype='object')"
      ]
     },
     "execution_count": 90,
     "metadata": {},
     "output_type": "execute_result"
    }
   ],
   "source": [
    "mort_df.columns"
   ]
  },
  {
   "cell_type": "code",
   "execution_count": 91,
   "id": "25ebadc0",
   "metadata": {},
   "outputs": [
    {
     "name": "stdout",
     "output_type": "stream",
     "text": [
      "<class 'pandas.core.frame.DataFrame'>\n",
      "RangeIndex: 476 entries, 0 to 475\n",
      "Data columns (total 3 columns):\n",
      " #   Column     Non-Null Count  Dtype  \n",
      "---  ------     --------------  -----  \n",
      " 0   Year       476 non-null    float64\n",
      " 1   AgeGroup   476 non-null    object \n",
      " 2   DeathRate  476 non-null    float64\n",
      "dtypes: float64(2), object(1)\n",
      "memory usage: 11.3+ KB\n"
     ]
    }
   ],
   "source": [
    "mort_df.info()"
   ]
  },
  {
   "cell_type": "code",
   "execution_count": 92,
   "id": "44975fb7",
   "metadata": {},
   "outputs": [],
   "source": [
    "#['Year']:Convert From float into int:\n",
    "mort_df['Year'] = mort_df['Year'].astype(int) #impute the missing values, before datatype conversion`b"
   ]
  },
  {
   "cell_type": "code",
   "execution_count": 94,
   "id": "4de88f79",
   "metadata": {},
   "outputs": [
    {
     "name": "stdout",
     "output_type": "stream",
     "text": [
      "<class 'pandas.core.frame.DataFrame'>\n",
      "RangeIndex: 476 entries, 0 to 475\n",
      "Data columns (total 3 columns):\n",
      " #   Column     Non-Null Count  Dtype  \n",
      "---  ------     --------------  -----  \n",
      " 0   Year       476 non-null    int32  \n",
      " 1   AgeGroup   476 non-null    object \n",
      " 2   DeathRate  476 non-null    float64\n",
      "dtypes: float64(1), int32(1), object(1)\n",
      "memory usage: 9.4+ KB\n"
     ]
    }
   ],
   "source": [
    "mort_df.info()"
   ]
  },
  {
   "cell_type": "code",
   "execution_count": 93,
   "id": "22a9619f",
   "metadata": {},
   "outputs": [
    {
     "data": {
      "text/html": [
       "<div>\n",
       "<style scoped>\n",
       "    .dataframe tbody tr th:only-of-type {\n",
       "        vertical-align: middle;\n",
       "    }\n",
       "\n",
       "    .dataframe tbody tr th {\n",
       "        vertical-align: top;\n",
       "    }\n",
       "\n",
       "    .dataframe thead th {\n",
       "        text-align: right;\n",
       "    }\n",
       "</style>\n",
       "<table border=\"1\" class=\"dataframe\">\n",
       "  <thead>\n",
       "    <tr style=\"text-align: right;\">\n",
       "      <th></th>\n",
       "      <th>Year</th>\n",
       "      <th>AgeGroup</th>\n",
       "      <th>DeathRate</th>\n",
       "    </tr>\n",
       "  </thead>\n",
       "  <tbody>\n",
       "    <tr>\n",
       "      <th>0</th>\n",
       "      <td>1900</td>\n",
       "      <td>01-04 Years</td>\n",
       "      <td>1983.8</td>\n",
       "    </tr>\n",
       "    <tr>\n",
       "      <th>1</th>\n",
       "      <td>1900</td>\n",
       "      <td>01-04 Years</td>\n",
       "      <td>1695.0</td>\n",
       "    </tr>\n",
       "    <tr>\n",
       "      <th>2</th>\n",
       "      <td>1902</td>\n",
       "      <td>01-04 Years</td>\n",
       "      <td>88.4</td>\n",
       "    </tr>\n",
       "    <tr>\n",
       "      <th>3</th>\n",
       "      <td>1903</td>\n",
       "      <td>01-04 Years</td>\n",
       "      <td>1542.1</td>\n",
       "    </tr>\n",
       "    <tr>\n",
       "      <th>4</th>\n",
       "      <td>1903</td>\n",
       "      <td>01-04 Years</td>\n",
       "      <td>88.4</td>\n",
       "    </tr>\n",
       "  </tbody>\n",
       "</table>\n",
       "</div>"
      ],
      "text/plain": [
       "   Year     AgeGroup  DeathRate\n",
       "0  1900  01-04 Years     1983.8\n",
       "1  1900  01-04 Years     1695.0\n",
       "2  1902  01-04 Years       88.4\n",
       "3  1903  01-04 Years     1542.1\n",
       "4  1903  01-04 Years       88.4"
      ]
     },
     "execution_count": 93,
     "metadata": {},
     "output_type": "execute_result"
    }
   ],
   "source": [
    "mort_df.head()"
   ]
  },
  {
   "cell_type": "code",
   "execution_count": null,
   "id": "71eff979",
   "metadata": {},
   "outputs": [],
   "source": [
    "# mort_df.astype({'NumMen':'int',\"NumWomen\":'int',})"
   ]
  },
  {
   "cell_type": "code",
   "execution_count": null,
   "id": "55638e09",
   "metadata": {},
   "outputs": [],
   "source": []
  },
  {
   "cell_type": "code",
   "execution_count": null,
   "id": "c5110be7",
   "metadata": {},
   "outputs": [],
   "source": []
  },
  {
   "cell_type": "markdown",
   "id": "672da23b",
   "metadata": {},
   "source": [
    "#### Outlier:"
   ]
  },
  {
   "cell_type": "code",
   "execution_count": 95,
   "id": "f9da21d4",
   "metadata": {},
   "outputs": [
    {
     "data": {
      "text/plain": [
       "<Axes: xlabel='Year'>"
      ]
     },
     "execution_count": 95,
     "metadata": {},
     "output_type": "execute_result"
    },
    {
     "data": {
      "image/png": "[encoded data removed]",
      "text/plain": [
       "<Figure size 640x480 with 1 Axes>"
      ]
     },
     "metadata": {},
     "output_type": "display_data"
    }
   ],
   "source": [
    "mort_df.plot(x=\"Year\", y=\"DeathRate\")"
   ]
  },
  {
   "cell_type": "code",
   "execution_count": 96,
   "id": "9fea7911",
   "metadata": {},
   "outputs": [
    {
     "data": {
      "text/plain": [
       "array(['01-04 Years', '05-09 Years', '10-14 Years', '15-19 Years'],\n",
       "      dtype=object)"
      ]
     },
     "execution_count": 96,
     "metadata": {},
     "output_type": "execute_result"
    }
   ],
   "source": [
    "mort_df['AgeGroup'].unique()"
   ]
  },
  {
   "cell_type": "code",
   "execution_count": 97,
   "id": "4f49934d",
   "metadata": {},
   "outputs": [
    {
     "data": {
      "text/plain": [
       "<Axes: xlabel='Year'>"
      ]
     },
     "execution_count": 97,
     "metadata": {},
     "output_type": "execute_result"
    },
    {
     "data": {
      "image/png": "[encoded data removed]",
      "text/plain": [
       "<Figure size 640x480 with 1 Axes>"
      ]
     },
     "metadata": {},
     "output_type": "display_data"
    }
   ],
   "source": [
    "teen_df = mort_df[mort_df['AgeGroup'] == '15-19 Years']\n",
    "teen_df.plot(x=\"Year\", y =\"DeathRate\")"
   ]
  },
  {
   "cell_type": "code",
   "execution_count": 98,
   "id": "8cb7e616",
   "metadata": {},
   "outputs": [
    {
     "data": {
      "text/plain": [
       "(119, 3)"
      ]
     },
     "execution_count": 98,
     "metadata": {},
     "output_type": "execute_result"
    }
   ],
   "source": [
    "teen_df.shape"
   ]
  },
  {
   "cell_type": "code",
   "execution_count": 100,
   "id": "a1ab83de",
   "metadata": {},
   "outputs": [
    {
     "data": {
      "text/html": [
       "<div>\n",
       "<style scoped>\n",
       "    .dataframe tbody tr th:only-of-type {\n",
       "        vertical-align: middle;\n",
       "    }\n",
       "\n",
       "    .dataframe tbody tr th {\n",
       "        vertical-align: top;\n",
       "    }\n",
       "\n",
       "    .dataframe thead th {\n",
       "        text-align: right;\n",
       "    }\n",
       "</style>\n",
       "<table border=\"1\" class=\"dataframe\">\n",
       "  <thead>\n",
       "    <tr style=\"text-align: right;\">\n",
       "      <th></th>\n",
       "      <th>Year</th>\n",
       "      <th>AgeGroup</th>\n",
       "      <th>DeathRate</th>\n",
       "    </tr>\n",
       "  </thead>\n",
       "  <tbody>\n",
       "    <tr>\n",
       "      <th>375</th>\n",
       "      <td>1918</td>\n",
       "      <td>15-19 Years</td>\n",
       "      <td>777.4</td>\n",
       "    </tr>\n",
       "  </tbody>\n",
       "</table>\n",
       "</div>"
      ],
      "text/plain": [
       "     Year     AgeGroup  DeathRate\n",
       "375  1918  15-19 Years      777.4"
      ]
     },
     "execution_count": 100,
     "metadata": {},
     "output_type": "execute_result"
    }
   ],
   "source": [
    "#find the outliers if the daterate exceed of 500\n",
    "teen_df[teen_df['DeathRate'] >= 500]"
   ]
  },
  {
   "cell_type": "code",
   "execution_count": 101,
   "id": "99beb27e",
   "metadata": {},
   "outputs": [],
   "source": [
    "#just before 1920"
   ]
  },
  {
   "cell_type": "code",
   "execution_count": 102,
   "id": "02d13e8d",
   "metadata": {},
   "outputs": [
    {
     "data": {
      "text/html": [
       "<div>\n",
       "<style scoped>\n",
       "    .dataframe tbody tr th:only-of-type {\n",
       "        vertical-align: middle;\n",
       "    }\n",
       "\n",
       "    .dataframe tbody tr th {\n",
       "        vertical-align: top;\n",
       "    }\n",
       "\n",
       "    .dataframe thead th {\n",
       "        text-align: right;\n",
       "    }\n",
       "</style>\n",
       "<table border=\"1\" class=\"dataframe\">\n",
       "  <thead>\n",
       "    <tr style=\"text-align: right;\">\n",
       "      <th></th>\n",
       "      <th>Year</th>\n",
       "      <th>AgeGroup</th>\n",
       "      <th>DeathRate</th>\n",
       "    </tr>\n",
       "  </thead>\n",
       "  <tbody>\n",
       "    <tr>\n",
       "      <th>375</th>\n",
       "      <td>1918</td>\n",
       "      <td>15-19 Years</td>\n",
       "      <td>777.4</td>\n",
       "    </tr>\n",
       "  </tbody>\n",
       "</table>\n",
       "</div>"
      ],
      "text/plain": [
       "     Year     AgeGroup  DeathRate\n",
       "375  1918  15-19 Years      777.4"
      ]
     },
     "execution_count": 102,
     "metadata": {},
     "output_type": "execute_result"
    }
   ],
   "source": [
    "teen_df[teen_df['DeathRate']>500]"
   ]
  },
  {
   "cell_type": "code",
   "execution_count": 104,
   "id": "6d1520ac",
   "metadata": {},
   "outputs": [
    {
     "data": {
      "text/html": [
       "<div>\n",
       "<style scoped>\n",
       "    .dataframe tbody tr th:only-of-type {\n",
       "        vertical-align: middle;\n",
       "    }\n",
       "\n",
       "    .dataframe tbody tr th {\n",
       "        vertical-align: top;\n",
       "    }\n",
       "\n",
       "    .dataframe thead th {\n",
       "        text-align: right;\n",
       "    }\n",
       "</style>\n",
       "<table border=\"1\" class=\"dataframe\">\n",
       "  <thead>\n",
       "    <tr style=\"text-align: right;\">\n",
       "      <th></th>\n",
       "      <th>Year</th>\n",
       "      <th>AgeGroup</th>\n",
       "      <th>DeathRate</th>\n",
       "    </tr>\n",
       "  </thead>\n",
       "  <tbody>\n",
       "    <tr>\n",
       "      <th>357</th>\n",
       "      <td>1900</td>\n",
       "      <td>15-19 Years</td>\n",
       "      <td>484.8</td>\n",
       "    </tr>\n",
       "    <tr>\n",
       "      <th>358</th>\n",
       "      <td>1901</td>\n",
       "      <td>15-19 Years</td>\n",
       "      <td>454.4</td>\n",
       "    </tr>\n",
       "    <tr>\n",
       "      <th>359</th>\n",
       "      <td>1902</td>\n",
       "      <td>15-19 Years</td>\n",
       "      <td>421.5</td>\n",
       "    </tr>\n",
       "    <tr>\n",
       "      <th>360</th>\n",
       "      <td>1903</td>\n",
       "      <td>15-19 Years</td>\n",
       "      <td>434.1</td>\n",
       "    </tr>\n",
       "    <tr>\n",
       "      <th>361</th>\n",
       "      <td>1904</td>\n",
       "      <td>15-19 Years</td>\n",
       "      <td>471.4</td>\n",
       "    </tr>\n",
       "    <tr>\n",
       "      <th>362</th>\n",
       "      <td>1905</td>\n",
       "      <td>15-19 Years</td>\n",
       "      <td>439.3</td>\n",
       "    </tr>\n",
       "    <tr>\n",
       "      <th>363</th>\n",
       "      <td>1906</td>\n",
       "      <td>15-19 Years</td>\n",
       "      <td>445.2</td>\n",
       "    </tr>\n",
       "    <tr>\n",
       "      <th>364</th>\n",
       "      <td>1907</td>\n",
       "      <td>15-19 Years</td>\n",
       "      <td>437.7</td>\n",
       "    </tr>\n",
       "    <tr>\n",
       "      <th>365</th>\n",
       "      <td>1908</td>\n",
       "      <td>15-19 Years</td>\n",
       "      <td>397.7</td>\n",
       "    </tr>\n",
       "    <tr>\n",
       "      <th>366</th>\n",
       "      <td>1909</td>\n",
       "      <td>15-19 Years</td>\n",
       "      <td>363.6</td>\n",
       "    </tr>\n",
       "    <tr>\n",
       "      <th>367</th>\n",
       "      <td>1910</td>\n",
       "      <td>15-19 Years</td>\n",
       "      <td>371.9</td>\n",
       "    </tr>\n",
       "    <tr>\n",
       "      <th>368</th>\n",
       "      <td>1911</td>\n",
       "      <td>15-19 Years</td>\n",
       "      <td>366.0</td>\n",
       "    </tr>\n",
       "    <tr>\n",
       "      <th>369</th>\n",
       "      <td>1912</td>\n",
       "      <td>15-19 Years</td>\n",
       "      <td>347.2</td>\n",
       "    </tr>\n",
       "    <tr>\n",
       "      <th>370</th>\n",
       "      <td>1913</td>\n",
       "      <td>15-19 Years</td>\n",
       "      <td>360.3</td>\n",
       "    </tr>\n",
       "    <tr>\n",
       "      <th>371</th>\n",
       "      <td>1914</td>\n",
       "      <td>15-19 Years</td>\n",
       "      <td>340.5</td>\n",
       "    </tr>\n",
       "    <tr>\n",
       "      <th>372</th>\n",
       "      <td>1915</td>\n",
       "      <td>15-19 Years</td>\n",
       "      <td>330.9</td>\n",
       "    </tr>\n",
       "    <tr>\n",
       "      <th>373</th>\n",
       "      <td>1916</td>\n",
       "      <td>15-19 Years</td>\n",
       "      <td>355.8</td>\n",
       "    </tr>\n",
       "    <tr>\n",
       "      <th>374</th>\n",
       "      <td>1917</td>\n",
       "      <td>15-19 Years</td>\n",
       "      <td>380.3</td>\n",
       "    </tr>\n",
       "    <tr>\n",
       "      <th>375</th>\n",
       "      <td>1918</td>\n",
       "      <td>15-19 Years</td>\n",
       "      <td>777.4</td>\n",
       "    </tr>\n",
       "    <tr>\n",
       "      <th>376</th>\n",
       "      <td>1919</td>\n",
       "      <td>15-19 Years</td>\n",
       "      <td>438.5</td>\n",
       "    </tr>\n",
       "    <tr>\n",
       "      <th>377</th>\n",
       "      <td>1920</td>\n",
       "      <td>15-19 Years</td>\n",
       "      <td>402.9</td>\n",
       "    </tr>\n",
       "    <tr>\n",
       "      <th>378</th>\n",
       "      <td>1921</td>\n",
       "      <td>15-19 Years</td>\n",
       "      <td>326.5</td>\n",
       "    </tr>\n",
       "    <tr>\n",
       "      <th>379</th>\n",
       "      <td>1922</td>\n",
       "      <td>15-19 Years</td>\n",
       "      <td>319.6</td>\n",
       "    </tr>\n",
       "    <tr>\n",
       "      <th>380</th>\n",
       "      <td>1923</td>\n",
       "      <td>15-19 Years</td>\n",
       "      <td>325.8</td>\n",
       "    </tr>\n",
       "    <tr>\n",
       "      <th>381</th>\n",
       "      <td>1924</td>\n",
       "      <td>15-19 Years</td>\n",
       "      <td>313.5</td>\n",
       "    </tr>\n",
       "  </tbody>\n",
       "</table>\n",
       "</div>"
      ],
      "text/plain": [
       "     Year     AgeGroup  DeathRate\n",
       "357  1900  15-19 Years      484.8\n",
       "358  1901  15-19 Years      454.4\n",
       "359  1902  15-19 Years      421.5\n",
       "360  1903  15-19 Years      434.1\n",
       "361  1904  15-19 Years      471.4\n",
       "362  1905  15-19 Years      439.3\n",
       "363  1906  15-19 Years      445.2\n",
       "364  1907  15-19 Years      437.7\n",
       "365  1908  15-19 Years      397.7\n",
       "366  1909  15-19 Years      363.6\n",
       "367  1910  15-19 Years      371.9\n",
       "368  1911  15-19 Years      366.0\n",
       "369  1912  15-19 Years      347.2\n",
       "370  1913  15-19 Years      360.3\n",
       "371  1914  15-19 Years      340.5\n",
       "372  1915  15-19 Years      330.9\n",
       "373  1916  15-19 Years      355.8\n",
       "374  1917  15-19 Years      380.3\n",
       "375  1918  15-19 Years      777.4\n",
       "376  1919  15-19 Years      438.5\n",
       "377  1920  15-19 Years      402.9\n",
       "378  1921  15-19 Years      326.5\n",
       "379  1922  15-19 Years      319.6\n",
       "380  1923  15-19 Years      325.8\n",
       "381  1924  15-19 Years      313.5"
      ]
     },
     "execution_count": 104,
     "metadata": {},
     "output_type": "execute_result"
    }
   ],
   "source": [
    "teen_df.head(25)"
   ]
  },
  {
   "cell_type": "code",
   "execution_count": 105,
   "id": "45128bd7",
   "metadata": {},
   "outputs": [
    {
     "data": {
      "text/html": [
       "<div>\n",
       "<style scoped>\n",
       "    .dataframe tbody tr th:only-of-type {\n",
       "        vertical-align: middle;\n",
       "    }\n",
       "\n",
       "    .dataframe tbody tr th {\n",
       "        vertical-align: top;\n",
       "    }\n",
       "\n",
       "    .dataframe thead th {\n",
       "        text-align: right;\n",
       "    }\n",
       "</style>\n",
       "<table border=\"1\" class=\"dataframe\">\n",
       "  <thead>\n",
       "    <tr style=\"text-align: right;\">\n",
       "      <th></th>\n",
       "      <th>count</th>\n",
       "      <th>mean</th>\n",
       "      <th>std</th>\n",
       "      <th>min</th>\n",
       "      <th>25%</th>\n",
       "      <th>50%</th>\n",
       "      <th>75%</th>\n",
       "      <th>max</th>\n",
       "    </tr>\n",
       "  </thead>\n",
       "  <tbody>\n",
       "    <tr>\n",
       "      <th>Year</th>\n",
       "      <td>119.0</td>\n",
       "      <td>1959.00000</td>\n",
       "      <td>34.496377</td>\n",
       "      <td>1900.0</td>\n",
       "      <td>1929.50</td>\n",
       "      <td>1959.0</td>\n",
       "      <td>1988.50</td>\n",
       "      <td>2018.0</td>\n",
       "    </tr>\n",
       "    <tr>\n",
       "      <th>DeathRate</th>\n",
       "      <td>119.0</td>\n",
       "      <td>177.37479</td>\n",
       "      <td>138.362290</td>\n",
       "      <td>44.8</td>\n",
       "      <td>85.45</td>\n",
       "      <td>106.9</td>\n",
       "      <td>283.65</td>\n",
       "      <td>777.4</td>\n",
       "    </tr>\n",
       "  </tbody>\n",
       "</table>\n",
       "</div>"
      ],
      "text/plain": [
       "           count        mean         std     min      25%     50%      75%  \\\n",
       "Year       119.0  1959.00000   34.496377  1900.0  1929.50  1959.0  1988.50   \n",
       "DeathRate  119.0   177.37479  138.362290    44.8    85.45   106.9   283.65   \n",
       "\n",
       "              max  \n",
       "Year       2018.0  \n",
       "DeathRate   777.4  "
      ]
     },
     "execution_count": 105,
     "metadata": {},
     "output_type": "execute_result"
    }
   ],
   "source": [
    "teen_df.describe().T"
   ]
  },
  {
   "cell_type": "code",
   "execution_count": 106,
   "id": "36a58c95",
   "metadata": {},
   "outputs": [
    {
     "data": {
      "text/html": [
       "<div>\n",
       "<style scoped>\n",
       "    .dataframe tbody tr th:only-of-type {\n",
       "        vertical-align: middle;\n",
       "    }\n",
       "\n",
       "    .dataframe tbody tr th {\n",
       "        vertical-align: top;\n",
       "    }\n",
       "\n",
       "    .dataframe thead th {\n",
       "        text-align: right;\n",
       "    }\n",
       "</style>\n",
       "<table border=\"1\" class=\"dataframe\">\n",
       "  <thead>\n",
       "    <tr style=\"text-align: right;\">\n",
       "      <th></th>\n",
       "      <th>Year</th>\n",
       "      <th>AgeGroup</th>\n",
       "      <th>DeathRate</th>\n",
       "    </tr>\n",
       "  </thead>\n",
       "  <tbody>\n",
       "    <tr>\n",
       "      <th>375</th>\n",
       "      <td>1918</td>\n",
       "      <td>15-19 Years</td>\n",
       "      <td>777.4</td>\n",
       "    </tr>\n",
       "  </tbody>\n",
       "</table>\n",
       "</div>"
      ],
      "text/plain": [
       "     Year     AgeGroup  DeathRate\n",
       "375  1918  15-19 Years      777.4"
      ]
     },
     "execution_count": 106,
     "metadata": {},
     "output_type": "execute_result"
    }
   ],
   "source": [
    "# replace the outlier by mean\n",
    "teen_df[teen_df['DeathRate']>500]"
   ]
  },
  {
   "cell_type": "code",
   "execution_count": 108,
   "id": "1463cf39",
   "metadata": {},
   "outputs": [
    {
     "data": {
      "text/html": [
       "<div>\n",
       "<style scoped>\n",
       "    .dataframe tbody tr th:only-of-type {\n",
       "        vertical-align: middle;\n",
       "    }\n",
       "\n",
       "    .dataframe tbody tr th {\n",
       "        vertical-align: top;\n",
       "    }\n",
       "\n",
       "    .dataframe thead th {\n",
       "        text-align: right;\n",
       "    }\n",
       "</style>\n",
       "<table border=\"1\" class=\"dataframe\">\n",
       "  <thead>\n",
       "    <tr style=\"text-align: right;\">\n",
       "      <th></th>\n",
       "      <th>Year</th>\n",
       "      <th>AgeGroup</th>\n",
       "      <th>DeathRate</th>\n",
       "    </tr>\n",
       "  </thead>\n",
       "  <tbody>\n",
       "    <tr>\n",
       "      <th>357</th>\n",
       "      <td>1900</td>\n",
       "      <td>15-19 Years</td>\n",
       "      <td>484.8</td>\n",
       "    </tr>\n",
       "    <tr>\n",
       "      <th>358</th>\n",
       "      <td>1901</td>\n",
       "      <td>15-19 Years</td>\n",
       "      <td>454.4</td>\n",
       "    </tr>\n",
       "    <tr>\n",
       "      <th>359</th>\n",
       "      <td>1902</td>\n",
       "      <td>15-19 Years</td>\n",
       "      <td>421.5</td>\n",
       "    </tr>\n",
       "    <tr>\n",
       "      <th>360</th>\n",
       "      <td>1903</td>\n",
       "      <td>15-19 Years</td>\n",
       "      <td>434.1</td>\n",
       "    </tr>\n",
       "    <tr>\n",
       "      <th>361</th>\n",
       "      <td>1904</td>\n",
       "      <td>15-19 Years</td>\n",
       "      <td>471.4</td>\n",
       "    </tr>\n",
       "    <tr>\n",
       "      <th>...</th>\n",
       "      <td>...</td>\n",
       "      <td>...</td>\n",
       "      <td>...</td>\n",
       "    </tr>\n",
       "    <tr>\n",
       "      <th>471</th>\n",
       "      <td>2014</td>\n",
       "      <td>15-19 Years</td>\n",
       "      <td>45.5</td>\n",
       "    </tr>\n",
       "    <tr>\n",
       "      <th>472</th>\n",
       "      <td>2015</td>\n",
       "      <td>15-19 Years</td>\n",
       "      <td>48.3</td>\n",
       "    </tr>\n",
       "    <tr>\n",
       "      <th>473</th>\n",
       "      <td>2016</td>\n",
       "      <td>15-19 Years</td>\n",
       "      <td>51.2</td>\n",
       "    </tr>\n",
       "    <tr>\n",
       "      <th>474</th>\n",
       "      <td>2017</td>\n",
       "      <td>15-19 Years</td>\n",
       "      <td>51.5</td>\n",
       "    </tr>\n",
       "    <tr>\n",
       "      <th>475</th>\n",
       "      <td>2018</td>\n",
       "      <td>15-19 Years</td>\n",
       "      <td>49.2</td>\n",
       "    </tr>\n",
       "  </tbody>\n",
       "</table>\n",
       "<p>119 rows × 3 columns</p>\n",
       "</div>"
      ],
      "text/plain": [
       "     Year     AgeGroup  DeathRate\n",
       "357  1900  15-19 Years      484.8\n",
       "358  1901  15-19 Years      454.4\n",
       "359  1902  15-19 Years      421.5\n",
       "360  1903  15-19 Years      434.1\n",
       "361  1904  15-19 Years      471.4\n",
       "..    ...          ...        ...\n",
       "471  2014  15-19 Years       45.5\n",
       "472  2015  15-19 Years       48.3\n",
       "473  2016  15-19 Years       51.2\n",
       "474  2017  15-19 Years       51.5\n",
       "475  2018  15-19 Years       49.2\n",
       "\n",
       "[119 rows x 3 columns]"
      ]
     },
     "execution_count": 108,
     "metadata": {},
     "output_type": "execute_result"
    }
   ],
   "source": [
    "teen_df"
   ]
  },
  {
   "cell_type": "code",
   "execution_count": 109,
   "id": "7d1c1601",
   "metadata": {},
   "outputs": [
    {
     "data": {
      "text/plain": [
       "106.9"
      ]
     },
     "execution_count": 109,
     "metadata": {},
     "output_type": "execute_result"
    }
   ],
   "source": [
    "teen_df['DeathRate'].median()"
   ]
  },
  {
   "cell_type": "code",
   "execution_count": 110,
   "id": "48a8ad71",
   "metadata": {},
   "outputs": [
    {
     "data": {
      "text/plain": [
       "375    777.4\n",
       "Name: DeathRate, dtype: float64"
      ]
     },
     "execution_count": 110,
     "metadata": {},
     "output_type": "execute_result"
    }
   ],
   "source": [
    "teen_df.loc[teen_df['DeathRate']>500,'DeathRate']"
   ]
  },
  {
   "cell_type": "code",
   "execution_count": 111,
   "id": "d74dadf7",
   "metadata": {},
   "outputs": [],
   "source": [
    "teen_df.loc[teen_df['DeathRate']>500,'DeathRate']= teen_df['DeathRate'].median()"
   ]
  },
  {
   "cell_type": "code",
   "execution_count": 114,
   "id": "30501dbf",
   "metadata": {},
   "outputs": [
    {
     "data": {
      "text/html": [
       "<div>\n",
       "<style scoped>\n",
       "    .dataframe tbody tr th:only-of-type {\n",
       "        vertical-align: middle;\n",
       "    }\n",
       "\n",
       "    .dataframe tbody tr th {\n",
       "        vertical-align: top;\n",
       "    }\n",
       "\n",
       "    .dataframe thead th {\n",
       "        text-align: right;\n",
       "    }\n",
       "</style>\n",
       "<table border=\"1\" class=\"dataframe\">\n",
       "  <thead>\n",
       "    <tr style=\"text-align: right;\">\n",
       "      <th></th>\n",
       "      <th>Year</th>\n",
       "      <th>AgeGroup</th>\n",
       "      <th>DeathRate</th>\n",
       "    </tr>\n",
       "  </thead>\n",
       "  <tbody>\n",
       "    <tr>\n",
       "      <th>375</th>\n",
       "      <td>1918</td>\n",
       "      <td>15-19 Years</td>\n",
       "      <td>106.9</td>\n",
       "    </tr>\n",
       "  </tbody>\n",
       "</table>\n",
       "</div>"
      ],
      "text/plain": [
       "     Year     AgeGroup  DeathRate\n",
       "375  1918  15-19 Years      106.9"
      ]
     },
     "execution_count": 114,
     "metadata": {},
     "output_type": "execute_result"
    }
   ],
   "source": [
    "teen_df[teen_df['Year']== 1918]"
   ]
  },
  {
   "cell_type": "code",
   "execution_count": null,
   "id": "ad3b6aad",
   "metadata": {},
   "outputs": [],
   "source": []
  }
 ],
 "metadata": {
  "kernelspec": {
   "display_name": "Python 3 (ipykernel)",
   "language": "python",
   "name": "python3"
  },
  "language_info": {
   "codemirror_mode": {
    "name": "ipython",
    "version": 3
   },
   "file_extension": ".py",
   "mimetype": "text/x-python",
   "name": "python",
   "nbconvert_exporter": "python",
   "pygments_lexer": "ipython3",
   "version": "3.11.5"
  }
 },
 "nbformat": 4,
 "nbformat_minor": 5
}
