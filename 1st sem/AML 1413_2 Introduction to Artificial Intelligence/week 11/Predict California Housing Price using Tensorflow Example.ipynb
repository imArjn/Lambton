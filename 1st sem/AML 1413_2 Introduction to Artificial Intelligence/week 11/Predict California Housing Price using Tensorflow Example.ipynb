{
  "cells": [
    {
      "cell_type": "markdown",
      "metadata": {
        "id": "6HaPwVUfZJNW"
      },
      "source": [
        "## 1. Import libraries"
      ]
    },
    {
      "cell_type": "code",
      "execution_count": 1,
      "metadata": {
        "_cell_guid": "b1076dfc-b9ad-4769-8c92-a6c4dae69d19",
        "_uuid": "8f2839f25d086af736a60e9eeb907d3b93b6e0e5",
        "id": "S3QdZv4UZJNZ"
      },
      "outputs": [],
      "source": [
        "import os\n",
        "import tarfile\n",
        "from six.moves import urllib\n",
        "\n",
        "DOWNLOAD_ROOT = \"https://raw.githubusercontent.com/ageron/handson-ml/master/\"\n",
        "HOUSING_PATH = os.path.join(\"datasets\", \"housing\")\n",
        "HOUSING_URL = DOWNLOAD_ROOT + \"datasets/housing/housing.tgz\"\n",
        "\n",
        "def fetch_housing_data(housing_url=HOUSING_URL, housing_path=HOUSING_PATH):\n",
        "    if not os.path.isdir(housing_path):\n",
        "        os.makedirs(housing_path)\n",
        "    tgz_path = os.path.join(housing_path, \"housing.tgz\")\n",
        "    urllib.request.urlretrieve(housing_url, tgz_path)\n",
        "    housing_tgz = tarfile.open(tgz_path)\n",
        "    housing_tgz.extractall(path=housing_path)\n",
        "    housing_tgz.close()"
      ]
    },
    {
      "cell_type": "code",
      "source": [
        "fetch_housing_data()"
      ],
      "metadata": {
        "id": "D-Y_E3HvZVYJ"
      },
      "execution_count": 2,
      "outputs": []
    },
    {
      "cell_type": "code",
      "source": [
        "import pandas as pd\n",
        "\n",
        "def load_housing_data(housing_path=HOUSING_PATH):\n",
        "    csv_path = os.path.join(housing_path, \"housing.csv\")\n",
        "    return pd.read_csv(csv_path)"
      ],
      "metadata": {
        "id": "LeRdT-gTZaPh"
      },
      "execution_count": 3,
      "outputs": []
    },
    {
      "cell_type": "code",
      "execution_count": 4,
      "metadata": {
        "id": "SLj7oqgNZJNc"
      },
      "outputs": [],
      "source": [
        "# Importing tensorflow and keras\n",
        "import tensorflow as tf\n",
        "from tensorflow import keras\n",
        "from tensorflow.keras import Sequential\n",
        "from tensorflow.keras.layers import Flatten, Dense, Softmax, Dropout\n",
        "from tensorflow.keras import optimizers"
      ]
    },
    {
      "cell_type": "code",
      "execution_count": 5,
      "metadata": {
        "colab": {
          "base_uri": "https://localhost:8080/"
        },
        "id": "tVGYABPaZJNd",
        "outputId": "3b3ed1ab-4a01-4a6e-fd44-1c914fd54ba2"
      },
      "outputs": [
        {
          "output_type": "stream",
          "name": "stdout",
          "text": [
            "2.12.0\n"
          ]
        }
      ],
      "source": [
        "# Checking the tensorflow libraries\n",
        "print(tf.__version__)\n"
      ]
    },
    {
      "cell_type": "markdown",
      "metadata": {
        "id": "jJXd52lAZJNd"
      },
      "source": [
        "# 2. Data exploration"
      ]
    },
    {
      "cell_type": "code",
      "execution_count": 6,
      "metadata": {
        "id": "v1OD1sDNZJNe"
      },
      "outputs": [],
      "source": [
        "#Loading the dataset\n",
        "\n",
        "housing_df = load_housing_data()"
      ]
    },
    {
      "cell_type": "code",
      "execution_count": 7,
      "metadata": {
        "colab": {
          "base_uri": "https://localhost:8080/"
        },
        "id": "TcolnmpVZJNe",
        "outputId": "ca53931e-cd3a-44e7-fbcc-8de919e61a58"
      },
      "outputs": [
        {
          "output_type": "execute_result",
          "data": {
            "text/plain": [
              "(20640, 10)"
            ]
          },
          "metadata": {},
          "execution_count": 7
        }
      ],
      "source": [
        "housing_df.shape"
      ]
    },
    {
      "cell_type": "code",
      "execution_count": 8,
      "metadata": {
        "colab": {
          "base_uri": "https://localhost:8080/",
          "height": 226
        },
        "id": "Gb_hoqgRZJNf",
        "outputId": "721a03a5-9aaf-4c6d-dd41-8761ecf2fc38"
      },
      "outputs": [
        {
          "output_type": "execute_result",
          "data": {
            "text/plain": [
              "   longitude  latitude  housing_median_age  total_rooms  total_bedrooms  \\\n",
              "0    -122.23     37.88                41.0        880.0           129.0   \n",
              "1    -122.22     37.86                21.0       7099.0          1106.0   \n",
              "2    -122.24     37.85                52.0       1467.0           190.0   \n",
              "3    -122.25     37.85                52.0       1274.0           235.0   \n",
              "4    -122.25     37.85                52.0       1627.0           280.0   \n",
              "\n",
              "   population  households  median_income  median_house_value ocean_proximity  \n",
              "0       322.0       126.0         8.3252            452600.0        NEAR BAY  \n",
              "1      2401.0      1138.0         8.3014            358500.0        NEAR BAY  \n",
              "2       496.0       177.0         7.2574            352100.0        NEAR BAY  \n",
              "3       558.0       219.0         5.6431            341300.0        NEAR BAY  \n",
              "4       565.0       259.0         3.8462            342200.0        NEAR BAY  "
            ],
            "text/html": [
              "\n",
              "  <div id=\"df-d40af8a8-6151-4393-9f40-702a8f263fb3\" class=\"colab-df-container\">\n",
              "    <div>\n",
              "<style scoped>\n",
              "    .dataframe tbody tr th:only-of-type {\n",
              "        vertical-align: middle;\n",
              "    }\n",
              "\n",
              "    .dataframe tbody tr th {\n",
              "        vertical-align: top;\n",
              "    }\n",
              "\n",
              "    .dataframe thead th {\n",
              "        text-align: right;\n",
              "    }\n",
              "</style>\n",
              "<table border=\"1\" class=\"dataframe\">\n",
              "  <thead>\n",
              "    <tr style=\"text-align: right;\">\n",
              "      <th></th>\n",
              "      <th>longitude</th>\n",
              "      <th>latitude</th>\n",
              "      <th>housing_median_age</th>\n",
              "      <th>total_rooms</th>\n",
              "      <th>total_bedrooms</th>\n",
              "      <th>population</th>\n",
              "      <th>households</th>\n",
              "      <th>median_income</th>\n",
              "      <th>median_house_value</th>\n",
              "      <th>ocean_proximity</th>\n",
              "    </tr>\n",
              "  </thead>\n",
              "  <tbody>\n",
              "    <tr>\n",
              "      <th>0</th>\n",
              "      <td>-122.23</td>\n",
              "      <td>37.88</td>\n",
              "      <td>41.0</td>\n",
              "      <td>880.0</td>\n",
              "      <td>129.0</td>\n",
              "      <td>322.0</td>\n",
              "      <td>126.0</td>\n",
              "      <td>8.3252</td>\n",
              "      <td>452600.0</td>\n",
              "      <td>NEAR BAY</td>\n",
              "    </tr>\n",
              "    <tr>\n",
              "      <th>1</th>\n",
              "      <td>-122.22</td>\n",
              "      <td>37.86</td>\n",
              "      <td>21.0</td>\n",
              "      <td>7099.0</td>\n",
              "      <td>1106.0</td>\n",
              "      <td>2401.0</td>\n",
              "      <td>1138.0</td>\n",
              "      <td>8.3014</td>\n",
              "      <td>358500.0</td>\n",
              "      <td>NEAR BAY</td>\n",
              "    </tr>\n",
              "    <tr>\n",
              "      <th>2</th>\n",
              "      <td>-122.24</td>\n",
              "      <td>37.85</td>\n",
              "      <td>52.0</td>\n",
              "      <td>1467.0</td>\n",
              "      <td>190.0</td>\n",
              "      <td>496.0</td>\n",
              "      <td>177.0</td>\n",
              "      <td>7.2574</td>\n",
              "      <td>352100.0</td>\n",
              "      <td>NEAR BAY</td>\n",
              "    </tr>\n",
              "    <tr>\n",
              "      <th>3</th>\n",
              "      <td>-122.25</td>\n",
              "      <td>37.85</td>\n",
              "      <td>52.0</td>\n",
              "      <td>1274.0</td>\n",
              "      <td>235.0</td>\n",
              "      <td>558.0</td>\n",
              "      <td>219.0</td>\n",
              "      <td>5.6431</td>\n",
              "      <td>341300.0</td>\n",
              "      <td>NEAR BAY</td>\n",
              "    </tr>\n",
              "    <tr>\n",
              "      <th>4</th>\n",
              "      <td>-122.25</td>\n",
              "      <td>37.85</td>\n",
              "      <td>52.0</td>\n",
              "      <td>1627.0</td>\n",
              "      <td>280.0</td>\n",
              "      <td>565.0</td>\n",
              "      <td>259.0</td>\n",
              "      <td>3.8462</td>\n",
              "      <td>342200.0</td>\n",
              "      <td>NEAR BAY</td>\n",
              "    </tr>\n",
              "  </tbody>\n",
              "</table>\n",
              "</div>\n",
              "    <div class=\"colab-df-buttons\">\n",
              "\n",
              "  <div class=\"colab-df-container\">\n",
              "    <button class=\"colab-df-convert\" onclick=\"convertToInteractive('df-d40af8a8-6151-4393-9f40-702a8f263fb3')\"\n",
              "            title=\"Convert this dataframe to an interactive table.\"\n",
              "            style=\"display:none;\">\n",
              "\n",
              "  <svg xmlns=\"http://www.w3.org/2000/svg\" height=\"24px\" viewBox=\"0 -960 960 960\">\n",
              "    <path d=\"M120-120v-720h720v720H120Zm60-500h600v-160H180v160Zm220 220h160v-160H400v160Zm0 220h160v-160H400v160ZM180-400h160v-160H180v160Zm440 0h160v-160H620v160ZM180-180h160v-160H180v160Zm440 0h160v-160H620v160Z\"/>\n",
              "  </svg>\n",
              "    </button>\n",
              "\n",
              "  <style>\n",
              "    .colab-df-container {\n",
              "      display:flex;\n",
              "      gap: 12px;\n",
              "    }\n",
              "\n",
              "    .colab-df-convert {\n",
              "      background-color: #E8F0FE;\n",
              "      border: none;\n",
              "      border-radius: 50%;\n",
              "      cursor: pointer;\n",
              "      display: none;\n",
              "      fill: #1967D2;\n",
              "      height: 32px;\n",
              "      padding: 0 0 0 0;\n",
              "      width: 32px;\n",
              "    }\n",
              "\n",
              "    .colab-df-convert:hover {\n",
              "      background-color: #E2EBFA;\n",
              "      box-shadow: 0px 1px 2px rgba(60, 64, 67, 0.3), 0px 1px 3px 1px rgba(60, 64, 67, 0.15);\n",
              "      fill: #174EA6;\n",
              "    }\n",
              "\n",
              "    .colab-df-buttons div {\n",
              "      margin-bottom: 4px;\n",
              "    }\n",
              "\n",
              "    [theme=dark] .colab-df-convert {\n",
              "      background-color: #3B4455;\n",
              "      fill: #D2E3FC;\n",
              "    }\n",
              "\n",
              "    [theme=dark] .colab-df-convert:hover {\n",
              "      background-color: #434B5C;\n",
              "      box-shadow: 0px 1px 3px 1px rgba(0, 0, 0, 0.15);\n",
              "      filter: drop-shadow(0px 1px 2px rgba(0, 0, 0, 0.3));\n",
              "      fill: #FFFFFF;\n",
              "    }\n",
              "  </style>\n",
              "\n",
              "    <script>\n",
              "      const buttonEl =\n",
              "        document.querySelector('#df-d40af8a8-6151-4393-9f40-702a8f263fb3 button.colab-df-convert');\n",
              "      buttonEl.style.display =\n",
              "        google.colab.kernel.accessAllowed ? 'block' : 'none';\n",
              "\n",
              "      async function convertToInteractive(key) {\n",
              "        const element = document.querySelector('#df-d40af8a8-6151-4393-9f40-702a8f263fb3');\n",
              "        const dataTable =\n",
              "          await google.colab.kernel.invokeFunction('convertToInteractive',\n",
              "                                                    [key], {});\n",
              "        if (!dataTable) return;\n",
              "\n",
              "        const docLinkHtml = 'Like what you see? Visit the ' +\n",
              "          '<a target=\"_blank\" href=https://colab.research.google.com/notebooks/data_table.ipynb>data table notebook</a>'\n",
              "          + ' to learn more about interactive tables.';\n",
              "        element.innerHTML = '';\n",
              "        dataTable['output_type'] = 'display_data';\n",
              "        await google.colab.output.renderOutput(dataTable, element);\n",
              "        const docLink = document.createElement('div');\n",
              "        docLink.innerHTML = docLinkHtml;\n",
              "        element.appendChild(docLink);\n",
              "      }\n",
              "    </script>\n",
              "  </div>\n",
              "\n",
              "\n",
              "<div id=\"df-04194c39-7f78-4fca-8d49-81be5f2b057f\">\n",
              "  <button class=\"colab-df-quickchart\" onclick=\"quickchart('df-04194c39-7f78-4fca-8d49-81be5f2b057f')\"\n",
              "            title=\"Suggest charts.\"\n",
              "            style=\"display:none;\">\n",
              "\n",
              "<svg xmlns=\"http://www.w3.org/2000/svg\" height=\"24px\"viewBox=\"0 0 24 24\"\n",
              "     width=\"24px\">\n",
              "    <g>\n",
              "        <path d=\"M19 3H5c-1.1 0-2 .9-2 2v14c0 1.1.9 2 2 2h14c1.1 0 2-.9 2-2V5c0-1.1-.9-2-2-2zM9 17H7v-7h2v7zm4 0h-2V7h2v10zm4 0h-2v-4h2v4z\"/>\n",
              "    </g>\n",
              "</svg>\n",
              "  </button>\n",
              "\n",
              "<style>\n",
              "  .colab-df-quickchart {\n",
              "    background-color: #E8F0FE;\n",
              "    border: none;\n",
              "    border-radius: 50%;\n",
              "    cursor: pointer;\n",
              "    display: none;\n",
              "    fill: #1967D2;\n",
              "    height: 32px;\n",
              "    padding: 0 0 0 0;\n",
              "    width: 32px;\n",
              "  }\n",
              "\n",
              "  .colab-df-quickchart:hover {\n",
              "    background-color: #E2EBFA;\n",
              "    box-shadow: 0px 1px 2px rgba(60, 64, 67, 0.3), 0px 1px 3px 1px rgba(60, 64, 67, 0.15);\n",
              "    fill: #174EA6;\n",
              "  }\n",
              "\n",
              "  [theme=dark] .colab-df-quickchart {\n",
              "    background-color: #3B4455;\n",
              "    fill: #D2E3FC;\n",
              "  }\n",
              "\n",
              "  [theme=dark] .colab-df-quickchart:hover {\n",
              "    background-color: #434B5C;\n",
              "    box-shadow: 0px 1px 3px 1px rgba(0, 0, 0, 0.15);\n",
              "    filter: drop-shadow(0px 1px 2px rgba(0, 0, 0, 0.3));\n",
              "    fill: #FFFFFF;\n",
              "  }\n",
              "</style>\n",
              "\n",
              "  <script>\n",
              "    async function quickchart(key) {\n",
              "      const charts = await google.colab.kernel.invokeFunction(\n",
              "          'suggestCharts', [key], {});\n",
              "    }\n",
              "    (() => {\n",
              "      let quickchartButtonEl =\n",
              "        document.querySelector('#df-04194c39-7f78-4fca-8d49-81be5f2b057f button');\n",
              "      quickchartButtonEl.style.display =\n",
              "        google.colab.kernel.accessAllowed ? 'block' : 'none';\n",
              "    })();\n",
              "  </script>\n",
              "</div>\n",
              "    </div>\n",
              "  </div>\n"
            ]
          },
          "metadata": {},
          "execution_count": 8
        }
      ],
      "source": [
        "# Displaying the data\n",
        "\n",
        "housing_df.head()"
      ]
    },
    {
      "cell_type": "code",
      "execution_count": 9,
      "metadata": {
        "colab": {
          "base_uri": "https://localhost:8080/"
        },
        "id": "BGOvDuuNZJNg",
        "outputId": "91558d40-c4a0-41a3-ce84-633d31b8c229"
      },
      "outputs": [
        {
          "output_type": "execute_result",
          "data": {
            "text/plain": [
              "longitude             False\n",
              "latitude              False\n",
              "housing_median_age    False\n",
              "total_rooms           False\n",
              "total_bedrooms         True\n",
              "population            False\n",
              "households            False\n",
              "median_income         False\n",
              "median_house_value    False\n",
              "ocean_proximity       False\n",
              "dtype: bool"
            ]
          },
          "metadata": {},
          "execution_count": 9
        }
      ],
      "source": [
        "# Checking for the null values\n",
        "\n",
        "housing_df.isna().any()"
      ]
    },
    {
      "cell_type": "code",
      "execution_count": 10,
      "metadata": {
        "colab": {
          "base_uri": "https://localhost:8080/"
        },
        "id": "LAfLKdwEZJNg",
        "outputId": "3fc7828b-c0de-4b40-aff8-52cf9b10bba3"
      },
      "outputs": [
        {
          "output_type": "execute_result",
          "data": {
            "text/plain": [
              "longitude               0\n",
              "latitude                0\n",
              "housing_median_age      0\n",
              "total_rooms             0\n",
              "total_bedrooms        207\n",
              "population              0\n",
              "households              0\n",
              "median_income           0\n",
              "median_house_value      0\n",
              "ocean_proximity         0\n",
              "dtype: int64"
            ]
          },
          "metadata": {},
          "execution_count": 10
        }
      ],
      "source": [
        "#Count of the null values in each columns\n",
        "\n",
        "housing_df.isna().sum()"
      ]
    },
    {
      "cell_type": "code",
      "source": [
        "#FIX Categories\n",
        "d = {'<1H OCEAN':'LESS_1H_OCEAN', 'INLAND':'INLAND', 'ISLAND':'ISLAND', 'NEAR BAY':'NEAR_BAY', 'NEAR OCEAN':'NEAR_OCEAN'}\n",
        "housing_df['ocean_proximity'] = housing_df['ocean_proximity'].map(lambda s: d[s])"
      ],
      "metadata": {
        "id": "dlS_j-AfZxfX"
      },
      "execution_count": 11,
      "outputs": []
    },
    {
      "cell_type": "code",
      "source": [
        "#add New Variables\n",
        "housing_df[\"rooms_per_household\"] = housing_df[\"total_rooms\"]/housing_df[\"households\"]\n",
        "housing_df[\"population_per_household\"]=housing_df[\"population\"]/housing_df[\"households\"]"
      ],
      "metadata": {
        "id": "VLXjQw_PZ7gn"
      },
      "execution_count": 12,
      "outputs": []
    },
    {
      "cell_type": "code",
      "execution_count": 13,
      "metadata": {
        "id": "UAhPdUO8ZJNh"
      },
      "outputs": [],
      "source": [
        "#fix missing data\n",
        "median = housing_df[\"total_bedrooms\"].median()\n",
        "housing_df[\"total_bedrooms\"].fillna(median, inplace=True)"
      ]
    },
    {
      "cell_type": "code",
      "execution_count": 14,
      "metadata": {
        "id": "DvuJTX3CZJNh"
      },
      "outputs": [],
      "source": [
        "one_hot = pd.get_dummies(housing_df['ocean_proximity'])\n",
        "housing_df = housing_df.drop('ocean_proximity', axis=1)\n",
        "housing_df = housing_df.join(one_hot)"
      ]
    },
    {
      "cell_type": "code",
      "execution_count": 15,
      "metadata": {
        "colab": {
          "base_uri": "https://localhost:8080/"
        },
        "id": "OFU7E1-pZJNi",
        "outputId": "dd2fd45d-7c28-4484-adae-622c6f3a66d3"
      },
      "outputs": [
        {
          "output_type": "execute_result",
          "data": {
            "text/plain": [
              "(20640, 16)"
            ]
          },
          "metadata": {},
          "execution_count": 15
        }
      ],
      "source": [
        "housing_df.shape"
      ]
    },
    {
      "cell_type": "code",
      "source": [
        "housing_df.info()"
      ],
      "metadata": {
        "colab": {
          "base_uri": "https://localhost:8080/"
        },
        "id": "hon3CmHwacmQ",
        "outputId": "129e98b1-8439-4e3c-ebeb-092e01ac9771"
      },
      "execution_count": 16,
      "outputs": [
        {
          "output_type": "stream",
          "name": "stdout",
          "text": [
            "<class 'pandas.core.frame.DataFrame'>\n",
            "RangeIndex: 20640 entries, 0 to 20639\n",
            "Data columns (total 16 columns):\n",
            " #   Column                    Non-Null Count  Dtype  \n",
            "---  ------                    --------------  -----  \n",
            " 0   longitude                 20640 non-null  float64\n",
            " 1   latitude                  20640 non-null  float64\n",
            " 2   housing_median_age        20640 non-null  float64\n",
            " 3   total_rooms               20640 non-null  float64\n",
            " 4   total_bedrooms            20640 non-null  float64\n",
            " 5   population                20640 non-null  float64\n",
            " 6   households                20640 non-null  float64\n",
            " 7   median_income             20640 non-null  float64\n",
            " 8   median_house_value        20640 non-null  float64\n",
            " 9   rooms_per_household       20640 non-null  float64\n",
            " 10  population_per_household  20640 non-null  float64\n",
            " 11  INLAND                    20640 non-null  uint8  \n",
            " 12  ISLAND                    20640 non-null  uint8  \n",
            " 13  LESS_1H_OCEAN             20640 non-null  uint8  \n",
            " 14  NEAR_BAY                  20640 non-null  uint8  \n",
            " 15  NEAR_OCEAN                20640 non-null  uint8  \n",
            "dtypes: float64(11), uint8(5)\n",
            "memory usage: 1.8 MB\n"
          ]
        }
      ]
    },
    {
      "cell_type": "code",
      "execution_count": 17,
      "metadata": {
        "id": "TK2k7wMIZJNi"
      },
      "outputs": [],
      "source": [
        "# Dividing the dataset variables\n",
        "X=pd.DataFrame(columns=['longitude','latitude','housing_median_age','total_rooms','total_bedrooms','population','households','median_income','ocean_proximity'\n",
        "                        'rooms_per_household','population_per_household','INLAND','ISLAND','LESS_1H_OCEAN','NEAR_BAY','NEAR_OCEAN' ],data=housing_df)\n",
        "y=pd.DataFrame(columns=['median_house_value'],data=housing_df)"
      ]
    },
    {
      "cell_type": "code",
      "execution_count": 18,
      "metadata": {
        "colab": {
          "base_uri": "https://localhost:8080/",
          "height": 226
        },
        "id": "OuTr-22oZJNj",
        "outputId": "b01e5034-501b-4a9c-8b49-9bd79afbf5b0"
      },
      "outputs": [
        {
          "output_type": "execute_result",
          "data": {
            "text/plain": [
              "   longitude  latitude  housing_median_age  total_rooms  total_bedrooms  \\\n",
              "0    -122.23     37.88                41.0        880.0           129.0   \n",
              "1    -122.22     37.86                21.0       7099.0          1106.0   \n",
              "2    -122.24     37.85                52.0       1467.0           190.0   \n",
              "3    -122.25     37.85                52.0       1274.0           235.0   \n",
              "4    -122.25     37.85                52.0       1627.0           280.0   \n",
              "\n",
              "   population  households  median_income  ocean_proximityrooms_per_household  \\\n",
              "0       322.0       126.0         8.3252                                 NaN   \n",
              "1      2401.0      1138.0         8.3014                                 NaN   \n",
              "2       496.0       177.0         7.2574                                 NaN   \n",
              "3       558.0       219.0         5.6431                                 NaN   \n",
              "4       565.0       259.0         3.8462                                 NaN   \n",
              "\n",
              "   population_per_household  INLAND  ISLAND  LESS_1H_OCEAN  NEAR_BAY  \\\n",
              "0                  2.555556       0       0              0         1   \n",
              "1                  2.109842       0       0              0         1   \n",
              "2                  2.802260       0       0              0         1   \n",
              "3                  2.547945       0       0              0         1   \n",
              "4                  2.181467       0       0              0         1   \n",
              "\n",
              "   NEAR_OCEAN  \n",
              "0           0  \n",
              "1           0  \n",
              "2           0  \n",
              "3           0  \n",
              "4           0  "
            ],
            "text/html": [
              "\n",
              "  <div id=\"df-e07aefc9-6f59-4b5d-b260-956135c1208a\" class=\"colab-df-container\">\n",
              "    <div>\n",
              "<style scoped>\n",
              "    .dataframe tbody tr th:only-of-type {\n",
              "        vertical-align: middle;\n",
              "    }\n",
              "\n",
              "    .dataframe tbody tr th {\n",
              "        vertical-align: top;\n",
              "    }\n",
              "\n",
              "    .dataframe thead th {\n",
              "        text-align: right;\n",
              "    }\n",
              "</style>\n",
              "<table border=\"1\" class=\"dataframe\">\n",
              "  <thead>\n",
              "    <tr style=\"text-align: right;\">\n",
              "      <th></th>\n",
              "      <th>longitude</th>\n",
              "      <th>latitude</th>\n",
              "      <th>housing_median_age</th>\n",
              "      <th>total_rooms</th>\n",
              "      <th>total_bedrooms</th>\n",
              "      <th>population</th>\n",
              "      <th>households</th>\n",
              "      <th>median_income</th>\n",
              "      <th>ocean_proximityrooms_per_household</th>\n",
              "      <th>population_per_household</th>\n",
              "      <th>INLAND</th>\n",
              "      <th>ISLAND</th>\n",
              "      <th>LESS_1H_OCEAN</th>\n",
              "      <th>NEAR_BAY</th>\n",
              "      <th>NEAR_OCEAN</th>\n",
              "    </tr>\n",
              "  </thead>\n",
              "  <tbody>\n",
              "    <tr>\n",
              "      <th>0</th>\n",
              "      <td>-122.23</td>\n",
              "      <td>37.88</td>\n",
              "      <td>41.0</td>\n",
              "      <td>880.0</td>\n",
              "      <td>129.0</td>\n",
              "      <td>322.0</td>\n",
              "      <td>126.0</td>\n",
              "      <td>8.3252</td>\n",
              "      <td>NaN</td>\n",
              "      <td>2.555556</td>\n",
              "      <td>0</td>\n",
              "      <td>0</td>\n",
              "      <td>0</td>\n",
              "      <td>1</td>\n",
              "      <td>0</td>\n",
              "    </tr>\n",
              "    <tr>\n",
              "      <th>1</th>\n",
              "      <td>-122.22</td>\n",
              "      <td>37.86</td>\n",
              "      <td>21.0</td>\n",
              "      <td>7099.0</td>\n",
              "      <td>1106.0</td>\n",
              "      <td>2401.0</td>\n",
              "      <td>1138.0</td>\n",
              "      <td>8.3014</td>\n",
              "      <td>NaN</td>\n",
              "      <td>2.109842</td>\n",
              "      <td>0</td>\n",
              "      <td>0</td>\n",
              "      <td>0</td>\n",
              "      <td>1</td>\n",
              "      <td>0</td>\n",
              "    </tr>\n",
              "    <tr>\n",
              "      <th>2</th>\n",
              "      <td>-122.24</td>\n",
              "      <td>37.85</td>\n",
              "      <td>52.0</td>\n",
              "      <td>1467.0</td>\n",
              "      <td>190.0</td>\n",
              "      <td>496.0</td>\n",
              "      <td>177.0</td>\n",
              "      <td>7.2574</td>\n",
              "      <td>NaN</td>\n",
              "      <td>2.802260</td>\n",
              "      <td>0</td>\n",
              "      <td>0</td>\n",
              "      <td>0</td>\n",
              "      <td>1</td>\n",
              "      <td>0</td>\n",
              "    </tr>\n",
              "    <tr>\n",
              "      <th>3</th>\n",
              "      <td>-122.25</td>\n",
              "      <td>37.85</td>\n",
              "      <td>52.0</td>\n",
              "      <td>1274.0</td>\n",
              "      <td>235.0</td>\n",
              "      <td>558.0</td>\n",
              "      <td>219.0</td>\n",
              "      <td>5.6431</td>\n",
              "      <td>NaN</td>\n",
              "      <td>2.547945</td>\n",
              "      <td>0</td>\n",
              "      <td>0</td>\n",
              "      <td>0</td>\n",
              "      <td>1</td>\n",
              "      <td>0</td>\n",
              "    </tr>\n",
              "    <tr>\n",
              "      <th>4</th>\n",
              "      <td>-122.25</td>\n",
              "      <td>37.85</td>\n",
              "      <td>52.0</td>\n",
              "      <td>1627.0</td>\n",
              "      <td>280.0</td>\n",
              "      <td>565.0</td>\n",
              "      <td>259.0</td>\n",
              "      <td>3.8462</td>\n",
              "      <td>NaN</td>\n",
              "      <td>2.181467</td>\n",
              "      <td>0</td>\n",
              "      <td>0</td>\n",
              "      <td>0</td>\n",
              "      <td>1</td>\n",
              "      <td>0</td>\n",
              "    </tr>\n",
              "  </tbody>\n",
              "</table>\n",
              "</div>\n",
              "    <div class=\"colab-df-buttons\">\n",
              "\n",
              "  <div class=\"colab-df-container\">\n",
              "    <button class=\"colab-df-convert\" onclick=\"convertToInteractive('df-e07aefc9-6f59-4b5d-b260-956135c1208a')\"\n",
              "            title=\"Convert this dataframe to an interactive table.\"\n",
              "            style=\"display:none;\">\n",
              "\n",
              "  <svg xmlns=\"http://www.w3.org/2000/svg\" height=\"24px\" viewBox=\"0 -960 960 960\">\n",
              "    <path d=\"M120-120v-720h720v720H120Zm60-500h600v-160H180v160Zm220 220h160v-160H400v160Zm0 220h160v-160H400v160ZM180-400h160v-160H180v160Zm440 0h160v-160H620v160ZM180-180h160v-160H180v160Zm440 0h160v-160H620v160Z\"/>\n",
              "  </svg>\n",
              "    </button>\n",
              "\n",
              "  <style>\n",
              "    .colab-df-container {\n",
              "      display:flex;\n",
              "      gap: 12px;\n",
              "    }\n",
              "\n",
              "    .colab-df-convert {\n",
              "      background-color: #E8F0FE;\n",
              "      border: none;\n",
              "      border-radius: 50%;\n",
              "      cursor: pointer;\n",
              "      display: none;\n",
              "      fill: #1967D2;\n",
              "      height: 32px;\n",
              "      padding: 0 0 0 0;\n",
              "      width: 32px;\n",
              "    }\n",
              "\n",
              "    .colab-df-convert:hover {\n",
              "      background-color: #E2EBFA;\n",
              "      box-shadow: 0px 1px 2px rgba(60, 64, 67, 0.3), 0px 1px 3px 1px rgba(60, 64, 67, 0.15);\n",
              "      fill: #174EA6;\n",
              "    }\n",
              "\n",
              "    .colab-df-buttons div {\n",
              "      margin-bottom: 4px;\n",
              "    }\n",
              "\n",
              "    [theme=dark] .colab-df-convert {\n",
              "      background-color: #3B4455;\n",
              "      fill: #D2E3FC;\n",
              "    }\n",
              "\n",
              "    [theme=dark] .colab-df-convert:hover {\n",
              "      background-color: #434B5C;\n",
              "      box-shadow: 0px 1px 3px 1px rgba(0, 0, 0, 0.15);\n",
              "      filter: drop-shadow(0px 1px 2px rgba(0, 0, 0, 0.3));\n",
              "      fill: #FFFFFF;\n",
              "    }\n",
              "  </style>\n",
              "\n",
              "    <script>\n",
              "      const buttonEl =\n",
              "        document.querySelector('#df-e07aefc9-6f59-4b5d-b260-956135c1208a button.colab-df-convert');\n",
              "      buttonEl.style.display =\n",
              "        google.colab.kernel.accessAllowed ? 'block' : 'none';\n",
              "\n",
              "      async function convertToInteractive(key) {\n",
              "        const element = document.querySelector('#df-e07aefc9-6f59-4b5d-b260-956135c1208a');\n",
              "        const dataTable =\n",
              "          await google.colab.kernel.invokeFunction('convertToInteractive',\n",
              "                                                    [key], {});\n",
              "        if (!dataTable) return;\n",
              "\n",
              "        const docLinkHtml = 'Like what you see? Visit the ' +\n",
              "          '<a target=\"_blank\" href=https://colab.research.google.com/notebooks/data_table.ipynb>data table notebook</a>'\n",
              "          + ' to learn more about interactive tables.';\n",
              "        element.innerHTML = '';\n",
              "        dataTable['output_type'] = 'display_data';\n",
              "        await google.colab.output.renderOutput(dataTable, element);\n",
              "        const docLink = document.createElement('div');\n",
              "        docLink.innerHTML = docLinkHtml;\n",
              "        element.appendChild(docLink);\n",
              "      }\n",
              "    </script>\n",
              "  </div>\n",
              "\n",
              "\n",
              "<div id=\"df-575b2775-745c-4e7b-b7e0-d3bee2b46ab6\">\n",
              "  <button class=\"colab-df-quickchart\" onclick=\"quickchart('df-575b2775-745c-4e7b-b7e0-d3bee2b46ab6')\"\n",
              "            title=\"Suggest charts.\"\n",
              "            style=\"display:none;\">\n",
              "\n",
              "<svg xmlns=\"http://www.w3.org/2000/svg\" height=\"24px\"viewBox=\"0 0 24 24\"\n",
              "     width=\"24px\">\n",
              "    <g>\n",
              "        <path d=\"M19 3H5c-1.1 0-2 .9-2 2v14c0 1.1.9 2 2 2h14c1.1 0 2-.9 2-2V5c0-1.1-.9-2-2-2zM9 17H7v-7h2v7zm4 0h-2V7h2v10zm4 0h-2v-4h2v4z\"/>\n",
              "    </g>\n",
              "</svg>\n",
              "  </button>\n",
              "\n",
              "<style>\n",
              "  .colab-df-quickchart {\n",
              "    background-color: #E8F0FE;\n",
              "    border: none;\n",
              "    border-radius: 50%;\n",
              "    cursor: pointer;\n",
              "    display: none;\n",
              "    fill: #1967D2;\n",
              "    height: 32px;\n",
              "    padding: 0 0 0 0;\n",
              "    width: 32px;\n",
              "  }\n",
              "\n",
              "  .colab-df-quickchart:hover {\n",
              "    background-color: #E2EBFA;\n",
              "    box-shadow: 0px 1px 2px rgba(60, 64, 67, 0.3), 0px 1px 3px 1px rgba(60, 64, 67, 0.15);\n",
              "    fill: #174EA6;\n",
              "  }\n",
              "\n",
              "  [theme=dark] .colab-df-quickchart {\n",
              "    background-color: #3B4455;\n",
              "    fill: #D2E3FC;\n",
              "  }\n",
              "\n",
              "  [theme=dark] .colab-df-quickchart:hover {\n",
              "    background-color: #434B5C;\n",
              "    box-shadow: 0px 1px 3px 1px rgba(0, 0, 0, 0.15);\n",
              "    filter: drop-shadow(0px 1px 2px rgba(0, 0, 0, 0.3));\n",
              "    fill: #FFFFFF;\n",
              "  }\n",
              "</style>\n",
              "\n",
              "  <script>\n",
              "    async function quickchart(key) {\n",
              "      const charts = await google.colab.kernel.invokeFunction(\n",
              "          'suggestCharts', [key], {});\n",
              "    }\n",
              "    (() => {\n",
              "      let quickchartButtonEl =\n",
              "        document.querySelector('#df-575b2775-745c-4e7b-b7e0-d3bee2b46ab6 button');\n",
              "      quickchartButtonEl.style.display =\n",
              "        google.colab.kernel.accessAllowed ? 'block' : 'none';\n",
              "    })();\n",
              "  </script>\n",
              "</div>\n",
              "    </div>\n",
              "  </div>\n"
            ]
          },
          "metadata": {},
          "execution_count": 18
        }
      ],
      "source": [
        "X.head()"
      ]
    },
    {
      "cell_type": "code",
      "execution_count": 19,
      "metadata": {
        "colab": {
          "base_uri": "https://localhost:8080/",
          "height": 206
        },
        "id": "p9BNmJehZJNj",
        "outputId": "b197e1be-6017-49c3-a46f-6f3674ffd308"
      },
      "outputs": [
        {
          "output_type": "execute_result",
          "data": {
            "text/plain": [
              "   median_house_value\n",
              "0            452600.0\n",
              "1            358500.0\n",
              "2            352100.0\n",
              "3            341300.0\n",
              "4            342200.0"
            ],
            "text/html": [
              "\n",
              "  <div id=\"df-6f96e0e3-badc-4f59-8283-c0717981e5f8\" class=\"colab-df-container\">\n",
              "    <div>\n",
              "<style scoped>\n",
              "    .dataframe tbody tr th:only-of-type {\n",
              "        vertical-align: middle;\n",
              "    }\n",
              "\n",
              "    .dataframe tbody tr th {\n",
              "        vertical-align: top;\n",
              "    }\n",
              "\n",
              "    .dataframe thead th {\n",
              "        text-align: right;\n",
              "    }\n",
              "</style>\n",
              "<table border=\"1\" class=\"dataframe\">\n",
              "  <thead>\n",
              "    <tr style=\"text-align: right;\">\n",
              "      <th></th>\n",
              "      <th>median_house_value</th>\n",
              "    </tr>\n",
              "  </thead>\n",
              "  <tbody>\n",
              "    <tr>\n",
              "      <th>0</th>\n",
              "      <td>452600.0</td>\n",
              "    </tr>\n",
              "    <tr>\n",
              "      <th>1</th>\n",
              "      <td>358500.0</td>\n",
              "    </tr>\n",
              "    <tr>\n",
              "      <th>2</th>\n",
              "      <td>352100.0</td>\n",
              "    </tr>\n",
              "    <tr>\n",
              "      <th>3</th>\n",
              "      <td>341300.0</td>\n",
              "    </tr>\n",
              "    <tr>\n",
              "      <th>4</th>\n",
              "      <td>342200.0</td>\n",
              "    </tr>\n",
              "  </tbody>\n",
              "</table>\n",
              "</div>\n",
              "    <div class=\"colab-df-buttons\">\n",
              "\n",
              "  <div class=\"colab-df-container\">\n",
              "    <button class=\"colab-df-convert\" onclick=\"convertToInteractive('df-6f96e0e3-badc-4f59-8283-c0717981e5f8')\"\n",
              "            title=\"Convert this dataframe to an interactive table.\"\n",
              "            style=\"display:none;\">\n",
              "\n",
              "  <svg xmlns=\"http://www.w3.org/2000/svg\" height=\"24px\" viewBox=\"0 -960 960 960\">\n",
              "    <path d=\"M120-120v-720h720v720H120Zm60-500h600v-160H180v160Zm220 220h160v-160H400v160Zm0 220h160v-160H400v160ZM180-400h160v-160H180v160Zm440 0h160v-160H620v160ZM180-180h160v-160H180v160Zm440 0h160v-160H620v160Z\"/>\n",
              "  </svg>\n",
              "    </button>\n",
              "\n",
              "  <style>\n",
              "    .colab-df-container {\n",
              "      display:flex;\n",
              "      gap: 12px;\n",
              "    }\n",
              "\n",
              "    .colab-df-convert {\n",
              "      background-color: #E8F0FE;\n",
              "      border: none;\n",
              "      border-radius: 50%;\n",
              "      cursor: pointer;\n",
              "      display: none;\n",
              "      fill: #1967D2;\n",
              "      height: 32px;\n",
              "      padding: 0 0 0 0;\n",
              "      width: 32px;\n",
              "    }\n",
              "\n",
              "    .colab-df-convert:hover {\n",
              "      background-color: #E2EBFA;\n",
              "      box-shadow: 0px 1px 2px rgba(60, 64, 67, 0.3), 0px 1px 3px 1px rgba(60, 64, 67, 0.15);\n",
              "      fill: #174EA6;\n",
              "    }\n",
              "\n",
              "    .colab-df-buttons div {\n",
              "      margin-bottom: 4px;\n",
              "    }\n",
              "\n",
              "    [theme=dark] .colab-df-convert {\n",
              "      background-color: #3B4455;\n",
              "      fill: #D2E3FC;\n",
              "    }\n",
              "\n",
              "    [theme=dark] .colab-df-convert:hover {\n",
              "      background-color: #434B5C;\n",
              "      box-shadow: 0px 1px 3px 1px rgba(0, 0, 0, 0.15);\n",
              "      filter: drop-shadow(0px 1px 2px rgba(0, 0, 0, 0.3));\n",
              "      fill: #FFFFFF;\n",
              "    }\n",
              "  </style>\n",
              "\n",
              "    <script>\n",
              "      const buttonEl =\n",
              "        document.querySelector('#df-6f96e0e3-badc-4f59-8283-c0717981e5f8 button.colab-df-convert');\n",
              "      buttonEl.style.display =\n",
              "        google.colab.kernel.accessAllowed ? 'block' : 'none';\n",
              "\n",
              "      async function convertToInteractive(key) {\n",
              "        const element = document.querySelector('#df-6f96e0e3-badc-4f59-8283-c0717981e5f8');\n",
              "        const dataTable =\n",
              "          await google.colab.kernel.invokeFunction('convertToInteractive',\n",
              "                                                    [key], {});\n",
              "        if (!dataTable) return;\n",
              "\n",
              "        const docLinkHtml = 'Like what you see? Visit the ' +\n",
              "          '<a target=\"_blank\" href=https://colab.research.google.com/notebooks/data_table.ipynb>data table notebook</a>'\n",
              "          + ' to learn more about interactive tables.';\n",
              "        element.innerHTML = '';\n",
              "        dataTable['output_type'] = 'display_data';\n",
              "        await google.colab.output.renderOutput(dataTable, element);\n",
              "        const docLink = document.createElement('div');\n",
              "        docLink.innerHTML = docLinkHtml;\n",
              "        element.appendChild(docLink);\n",
              "      }\n",
              "    </script>\n",
              "  </div>\n",
              "\n",
              "\n",
              "<div id=\"df-17250168-54e0-40c9-bd49-199a3dd6158f\">\n",
              "  <button class=\"colab-df-quickchart\" onclick=\"quickchart('df-17250168-54e0-40c9-bd49-199a3dd6158f')\"\n",
              "            title=\"Suggest charts.\"\n",
              "            style=\"display:none;\">\n",
              "\n",
              "<svg xmlns=\"http://www.w3.org/2000/svg\" height=\"24px\"viewBox=\"0 0 24 24\"\n",
              "     width=\"24px\">\n",
              "    <g>\n",
              "        <path d=\"M19 3H5c-1.1 0-2 .9-2 2v14c0 1.1.9 2 2 2h14c1.1 0 2-.9 2-2V5c0-1.1-.9-2-2-2zM9 17H7v-7h2v7zm4 0h-2V7h2v10zm4 0h-2v-4h2v4z\"/>\n",
              "    </g>\n",
              "</svg>\n",
              "  </button>\n",
              "\n",
              "<style>\n",
              "  .colab-df-quickchart {\n",
              "    background-color: #E8F0FE;\n",
              "    border: none;\n",
              "    border-radius: 50%;\n",
              "    cursor: pointer;\n",
              "    display: none;\n",
              "    fill: #1967D2;\n",
              "    height: 32px;\n",
              "    padding: 0 0 0 0;\n",
              "    width: 32px;\n",
              "  }\n",
              "\n",
              "  .colab-df-quickchart:hover {\n",
              "    background-color: #E2EBFA;\n",
              "    box-shadow: 0px 1px 2px rgba(60, 64, 67, 0.3), 0px 1px 3px 1px rgba(60, 64, 67, 0.15);\n",
              "    fill: #174EA6;\n",
              "  }\n",
              "\n",
              "  [theme=dark] .colab-df-quickchart {\n",
              "    background-color: #3B4455;\n",
              "    fill: #D2E3FC;\n",
              "  }\n",
              "\n",
              "  [theme=dark] .colab-df-quickchart:hover {\n",
              "    background-color: #434B5C;\n",
              "    box-shadow: 0px 1px 3px 1px rgba(0, 0, 0, 0.15);\n",
              "    filter: drop-shadow(0px 1px 2px rgba(0, 0, 0, 0.3));\n",
              "    fill: #FFFFFF;\n",
              "  }\n",
              "</style>\n",
              "\n",
              "  <script>\n",
              "    async function quickchart(key) {\n",
              "      const charts = await google.colab.kernel.invokeFunction(\n",
              "          'suggestCharts', [key], {});\n",
              "    }\n",
              "    (() => {\n",
              "      let quickchartButtonEl =\n",
              "        document.querySelector('#df-17250168-54e0-40c9-bd49-199a3dd6158f button');\n",
              "      quickchartButtonEl.style.display =\n",
              "        google.colab.kernel.accessAllowed ? 'block' : 'none';\n",
              "    })();\n",
              "  </script>\n",
              "</div>\n",
              "    </div>\n",
              "  </div>\n"
            ]
          },
          "metadata": {},
          "execution_count": 19
        }
      ],
      "source": [
        "y.head()"
      ]
    },
    {
      "cell_type": "markdown",
      "metadata": {
        "id": "bvYZ8OKwZJNk"
      },
      "source": [
        "# 3. Feature Scaling and test train split"
      ]
    },
    {
      "cell_type": "code",
      "execution_count": 20,
      "metadata": {
        "id": "1V8ZsNtYZJNk"
      },
      "outputs": [],
      "source": [
        "from sklearn.model_selection import train_test_split\n",
        "train_set, test_set = train_test_split(housing_df, test_size=0.3, random_state=42)"
      ]
    },
    {
      "cell_type": "code",
      "execution_count": 21,
      "metadata": {
        "id": "oYJGIjCeZJNl"
      },
      "outputs": [],
      "source": [
        "target = 'median_house_value'\n",
        "features = list(train_set.columns)\n",
        "features = [f for f in features if f!=target]"
      ]
    },
    {
      "cell_type": "code",
      "execution_count": 22,
      "metadata": {
        "id": "HrC9l-KaZJNl"
      },
      "outputs": [],
      "source": [
        "X_train = train_set[features]\n",
        "y_train = train_set[[target]]\n",
        "\n",
        "X_test = test_set[features]\n",
        "y_test = test_set[[target]]"
      ]
    },
    {
      "cell_type": "code",
      "source": [
        "X_train.shape"
      ],
      "metadata": {
        "colab": {
          "base_uri": "https://localhost:8080/"
        },
        "id": "jOyZiOUvcYKO",
        "outputId": "9951ceb1-6a77-4e3d-9c3f-290d74c579c2"
      },
      "execution_count": 23,
      "outputs": [
        {
          "output_type": "execute_result",
          "data": {
            "text/plain": [
              "(14448, 15)"
            ]
          },
          "metadata": {},
          "execution_count": 23
        }
      ]
    },
    {
      "cell_type": "code",
      "source": [
        "TARGET = \"median_house_value\"\n",
        "columns_predictors = [col for col in train_set.columns if col not in [TARGET]]\n",
        "columns_categorical = ['INLAND','ISLAND','LESS_1H_OCEAN','NEAR_BAY','NEAR_OCEAN']\n",
        "columns_numerical = [col for col in columns_predictors if col not in columns_categorical]\n",
        "print(f\"TARGET: {TARGET}\")\n",
        "print(f\"columns_predictors: {columns_predictors}\")\n",
        "print(f\"columns_categorical: {columns_categorical}\")\n",
        "print(f\"columns_numerical: {columns_numerical}\")"
      ],
      "metadata": {
        "colab": {
          "base_uri": "https://localhost:8080/"
        },
        "id": "3mPWY6Uqc9UO",
        "outputId": "a4994ad9-10fb-4aeb-abdf-3f8312c81178"
      },
      "execution_count": 24,
      "outputs": [
        {
          "output_type": "stream",
          "name": "stdout",
          "text": [
            "TARGET: median_house_value\n",
            "columns_predictors: ['longitude', 'latitude', 'housing_median_age', 'total_rooms', 'total_bedrooms', 'population', 'households', 'median_income', 'rooms_per_household', 'population_per_household', 'INLAND', 'ISLAND', 'LESS_1H_OCEAN', 'NEAR_BAY', 'NEAR_OCEAN']\n",
            "columns_categorical: ['INLAND', 'ISLAND', 'LESS_1H_OCEAN', 'NEAR_BAY', 'NEAR_OCEAN']\n",
            "columns_numerical: ['longitude', 'latitude', 'housing_median_age', 'total_rooms', 'total_bedrooms', 'population', 'households', 'median_income', 'rooms_per_household', 'population_per_household']\n"
          ]
        }
      ]
    },
    {
      "cell_type": "code",
      "source": [
        "#Create numerical pipeline to transform numerical values\n",
        "\n",
        "from sklearn.pipeline import Pipeline\n",
        "from sklearn.compose import ColumnTransformer\n",
        "from sklearn.preprocessing import MinMaxScaler, OneHotEncoder ,StandardScaler\n",
        "\n",
        "#Convert the non transformed Dataframe into list.\n",
        "columns_categorical_list = list(columns_categorical)\n",
        "columns_numerical_list = list(columns_numerical)\n",
        "\n",
        "pipeline_numerical = Pipeline([\n",
        "  ('scaler', StandardScaler()),\n",
        "])\n",
        "\n",
        "pipeline_full = ColumnTransformer([\n",
        "  (\"numerical\", pipeline_numerical, columns_numerical_list),\n",
        "])"
      ],
      "metadata": {
        "id": "znZ74yTjb_7r"
      },
      "execution_count": 25,
      "outputs": []
    },
    {
      "cell_type": "code",
      "source": [
        "pipeline_full.fit(X_train)\n",
        "X_train = pipeline_full.transform(X_train)\n",
        "X_test = pipeline_full.transform(X_test)\n",
        "print(f\"X_train transformed.shape: {X_train.shape}\")\n",
        "print(f\"X_test transformed.shape: {X_test.shape}\")"
      ],
      "metadata": {
        "colab": {
          "base_uri": "https://localhost:8080/"
        },
        "id": "ACaGUet6dE_M",
        "outputId": "8727adc4-e211-40be-badb-f053ce6d49bb"
      },
      "execution_count": 26,
      "outputs": [
        {
          "output_type": "stream",
          "name": "stdout",
          "text": [
            "X_train transformed.shape: (14448, 10)\n",
            "X_test transformed.shape: (6192, 10)\n"
          ]
        }
      ]
    },
    {
      "cell_type": "markdown",
      "metadata": {
        "id": "B8TyO07uZJNm"
      },
      "source": [
        "# Lets start building an Artificial Nueral Network"
      ]
    },
    {
      "cell_type": "code",
      "execution_count": 56,
      "metadata": {
        "id": "-M8MupHOZJNm"
      },
      "outputs": [],
      "source": [
        "Create_model = Sequential()\n",
        "\n",
        "#Input Layer\n",
        "Create_model.add(Dense(X_train.shape[1], activation='relu', input_dim = X_train.shape[1]))\n",
        "\n",
        "#Hidden Layer\n",
        "Create_model.add(Dense(512,kernel_initializer='normal', activation='relu'))\n",
        "Create_model.add(Dense(512,kernel_initializer='normal', activation='relu'))\n",
        "Create_model.add(Dense(256,kernel_initializer='normal', activation='relu'))\n",
        "Create_model.add(Dense(128,kernel_initializer='normal', activation='relu'))\n",
        "Create_model.add(Dense(64,kernel_initializer='normal', activation='relu'))\n",
        "Create_model.add(Dense(32,kernel_initializer='normal', activation='relu'))\n",
        "#Output Layer\n",
        "Create_model.add(Dense(1,kernel_initializer='normal', activation = 'relu'))\n"
      ]
    },
    {
      "cell_type": "code",
      "execution_count": 57,
      "metadata": {
        "colab": {
          "base_uri": "https://localhost:8080/"
        },
        "id": "eiM3xiGWZJNn",
        "outputId": "97c28390-d80d-43bf-d5a5-ce4f79fa590a"
      },
      "outputs": [
        {
          "output_type": "stream",
          "name": "stdout",
          "text": [
            "Model: \"sequential_1\"\n",
            "_________________________________________________________________\n",
            " Layer (type)                Output Shape              Param #   \n",
            "=================================================================\n",
            " dense_7 (Dense)             (None, 10)                110       \n",
            "                                                                 \n",
            " dense_8 (Dense)             (None, 512)               5632      \n",
            "                                                                 \n",
            " dense_9 (Dense)             (None, 512)               262656    \n",
            "                                                                 \n",
            " dense_10 (Dense)            (None, 256)               131328    \n",
            "                                                                 \n",
            " dense_11 (Dense)            (None, 128)               32896     \n",
            "                                                                 \n",
            " dense_12 (Dense)            (None, 64)                8256      \n",
            "                                                                 \n",
            " dense_13 (Dense)            (None, 32)                2080      \n",
            "                                                                 \n",
            " dense_14 (Dense)            (None, 1)                 33        \n",
            "                                                                 \n",
            "=================================================================\n",
            "Total params: 442,991\n",
            "Trainable params: 442,991\n",
            "Non-trainable params: 0\n",
            "_________________________________________________________________\n"
          ]
        }
      ],
      "source": [
        "#Compile the network\n",
        "\n",
        "Create_model.compile(loss = 'MeanSquaredError', optimizer='adam', metrics=['mse','mae'])\n",
        "Create_model.summary()"
      ]
    },
    {
      "cell_type": "markdown",
      "source": [
        "Create Image of your model"
      ],
      "metadata": {
        "id": "NAdkJGMs34Kw"
      }
    },
    {
      "cell_type": "code",
      "source": [
        "tf.keras.utils.plot_model(Create_model, show_shapes=True)"
      ],
      "metadata": {
        "colab": {
          "base_uri": "https://localhost:8080/",
          "height": 976
        },
        "id": "qLjJ7ZlJ3t5O",
        "outputId": "6dc85379-2381-4534-d2ee-090a528b8489"
      },
      "execution_count": 58,
      "outputs": [
        {
          "output_type": "execute_result",
          "data": {
            "image/png": "[encoded data removed]",
            "text/plain": [
              "<IPython.core.display.Image object>"
            ]
          },
          "metadata": {},
          "execution_count": 58
        }
      ]
    },
    {
      "cell_type": "code",
      "source": [
        "#library to use KerasClassifier\n",
        "!pip install scikeras"
      ],
      "metadata": {
        "colab": {
          "base_uri": "https://localhost:8080/"
        },
        "id": "PVoqffXljQ2Z",
        "outputId": "1e0ca827-94ce-4d3d-dd3d-01317aa05a3b"
      },
      "execution_count": 59,
      "outputs": [
        {
          "output_type": "stream",
          "name": "stdout",
          "text": [
            "Requirement already satisfied: scikeras in /usr/local/lib/python3.10/dist-packages (0.11.0)\n",
            "Requirement already satisfied: packaging>=0.21 in /usr/local/lib/python3.10/dist-packages (from scikeras) (23.1)\n",
            "Requirement already satisfied: scikit-learn>=1.0.0 in /usr/local/lib/python3.10/dist-packages (from scikeras) (1.2.2)\n",
            "Requirement already satisfied: numpy>=1.17.3 in /usr/local/lib/python3.10/dist-packages (from scikit-learn>=1.0.0->scikeras) (1.23.5)\n",
            "Requirement already satisfied: scipy>=1.3.2 in /usr/local/lib/python3.10/dist-packages (from scikit-learn>=1.0.0->scikeras) (1.10.1)\n",
            "Requirement already satisfied: joblib>=1.1.1 in /usr/local/lib/python3.10/dist-packages (from scikit-learn>=1.0.0->scikeras) (1.3.2)\n",
            "Requirement already satisfied: threadpoolctl>=2.0.0 in /usr/local/lib/python3.10/dist-packages (from scikit-learn>=1.0.0->scikeras) (3.2.0)\n"
          ]
        }
      ]
    },
    {
      "cell_type": "code",
      "source": [
        "from sklearn.model_selection import GridSearchCV\n",
        "from scikeras.wrappers import KerasRegressor\n",
        "\n",
        "batch_size = [50,75]\n",
        "epochs = [3,5]\n",
        "\n",
        "Hyp_Model_1 = KerasRegressor(model=Create_model)\n",
        "\n",
        "param_grid = dict(batch_size=batch_size, epochs = epochs)\n",
        "GridSearch = GridSearchCV(Hyp_Model_1, param_grid, cv=5, scoring='neg_mean_squared_error', error_score=\"raise\", n_jobs=-1, verbose=0)"
      ],
      "metadata": {
        "id": "Pi8B8FxojVkM"
      },
      "execution_count": 60,
      "outputs": []
    },
    {
      "cell_type": "code",
      "source": [
        "import os\n",
        "os.environ['TF_CPP_MIN_LOG_LEVEL'] = '3'\n",
        "history = GridSearch.fit(X_train, y_train)"
      ],
      "metadata": {
        "id": "SZp3mMdLgE6Z",
        "colab": {
          "base_uri": "https://localhost:8080/"
        },
        "outputId": "12539a05-b000-4681-9abd-fdb162dd9222"
      },
      "execution_count": 61,
      "outputs": [
        {
          "output_type": "stream",
          "name": "stderr",
          "text": [
            "WARNING:absl:Found untraced functions such as _update_step_xla while saving (showing 1 of 1). These functions will not be directly callable after loading.\n",
            "INFO:tensorflow:Assets written to: ram://17a1eb91090c4e33932738d3234ca50d/assets\n",
            "WARNING:absl:Found untraced functions such as _update_step_xla while saving (showing 1 of 1). These functions will not be directly callable after loading.\n",
            "INFO:tensorflow:Assets written to: ram://41b11372acef4071b83a3856488da2a3/assets\n",
            "WARNING:absl:Found untraced functions such as _update_step_xla while saving (showing 1 of 1). These functions will not be directly callable after loading.\n",
            "INFO:tensorflow:Assets written to: ram://d05b942689e945638ca685b681128999/assets\n",
            "WARNING:absl:Found untraced functions such as _update_step_xla while saving (showing 1 of 1). These functions will not be directly callable after loading.\n",
            "WARNING:absl:Found untraced functions such as _update_step_xla while saving (showing 1 of 1). These functions will not be directly callable after loading.\n",
            "INFO:tensorflow:Assets written to: ram://bb7ff75cb99b4ea4b38ac68b8fe95373/assets\n",
            "INFO:tensorflow:Assets written to: ram://a5ef88602c234628908854c2207d2a11/assets\n",
            "WARNING:absl:Found untraced functions such as _update_step_xla while saving (showing 1 of 1). These functions will not be directly callable after loading.\n",
            "INFO:tensorflow:Assets written to: ram://efd848b5a2eb4c709f2645a82ad03f26/assets\n",
            "WARNING:absl:Found untraced functions such as _update_step_xla while saving (showing 1 of 1). These functions will not be directly callable after loading.\n",
            "INFO:tensorflow:Assets written to: ram://2b074bdca8254ad39905b7c1595ae278/assets\n",
            "WARNING:absl:Found untraced functions such as _update_step_xla while saving (showing 1 of 1). These functions will not be directly callable after loading.\n",
            "INFO:tensorflow:Assets written to: ram://cc82d356092a4db1a0dfd6603ec153c5/assets\n",
            "WARNING:absl:Found untraced functions such as _update_step_xla while saving (showing 1 of 1). These functions will not be directly callable after loading.\n",
            "WARNING:absl:Found untraced functions such as _update_step_xla while saving (showing 1 of 1). These functions will not be directly callable after loading.\n",
            "INFO:tensorflow:Assets written to: ram://4b8ced303e424824977fb4d57aafc1d9/assets\n",
            "INFO:tensorflow:Assets written to: ram://3d34f59bc0f74c9786d391a01546b1e6/assets\n",
            "WARNING:absl:Found untraced functions such as _update_step_xla while saving (showing 1 of 1). These functions will not be directly callable after loading.\n",
            "INFO:tensorflow:Assets written to: ram://c3e669be0d44450baf1e361ea04a507c/assets\n",
            "WARNING:absl:Found untraced functions such as _update_step_xla while saving (showing 1 of 1). These functions will not be directly callable after loading.\n",
            "INFO:tensorflow:Assets written to: ram://44731181368946d1b7d7cbbf8290b769/assets\n",
            "INFO:tensorflow:Assets written to: ram://53a1acdc985a48e5b48fe9f967b9b10d/assets\n",
            "INFO:tensorflow:Assets written to: ram://e067a475bca942a69379643152d28763/assets\n",
            "INFO:tensorflow:Assets written to: ram://9b06a0597c7c4e9ca5669493488dd249/assets\n",
            "INFO:tensorflow:Assets written to: ram://43f6bcd2ff104aba9f776cd231c4e17a/assets\n",
            "INFO:tensorflow:Assets written to: ram://c9a0f885c7804725ac0becdf98d1ffce/assets\n",
            "WARNING:tensorflow:Detecting that an object or model or tf.train.Checkpoint is being deleted with unrestored values. See the following logs for the specific values in question. To silence these warnings, use `status.expect_partial()`. See https://www.tensorflow.org/api_docs/python/tf/train/Checkpoint#restorefor details about the status object returned by the restore function.\n",
            "WARNING:tensorflow:Value in checkpoint could not be found in the restored object: (root).keras_api.metrics.0.total\n",
            "WARNING:tensorflow:Value in checkpoint could not be found in the restored object: (root).keras_api.metrics.0.count\n",
            "WARNING:tensorflow:Value in checkpoint could not be found in the restored object: (root).keras_api.metrics.1.total\n",
            "WARNING:tensorflow:Value in checkpoint could not be found in the restored object: (root).keras_api.metrics.1.count\n",
            "WARNING:tensorflow:Value in checkpoint could not be found in the restored object: (root).keras_api.metrics.2.total\n",
            "WARNING:tensorflow:Value in checkpoint could not be found in the restored object: (root).keras_api.metrics.2.count\n",
            "WARNING:tensorflow:Detecting that an object or model or tf.train.Checkpoint is being deleted with unrestored values. See the following logs for the specific values in question. To silence these warnings, use `status.expect_partial()`. See https://www.tensorflow.org/api_docs/python/tf/train/Checkpoint#restorefor details about the status object returned by the restore function.\n",
            "WARNING:tensorflow:Value in checkpoint could not be found in the restored object: (root).keras_api.metrics.0.total\n",
            "WARNING:tensorflow:Value in checkpoint could not be found in the restored object: (root).keras_api.metrics.0.count\n",
            "WARNING:tensorflow:Value in checkpoint could not be found in the restored object: (root).keras_api.metrics.1.total\n",
            "WARNING:tensorflow:Value in checkpoint could not be found in the restored object: (root).keras_api.metrics.1.count\n",
            "WARNING:tensorflow:Value in checkpoint could not be found in the restored object: (root).keras_api.metrics.2.total\n",
            "WARNING:tensorflow:Value in checkpoint could not be found in the restored object: (root).keras_api.metrics.2.count\n",
            "INFO:tensorflow:Assets written to: ram://9c5c138381e54baa832897179a40a966/assets\n",
            "INFO:tensorflow:Assets written to: ram://52bcac627bd44b6ba496ca6a79673e3c/assets\n",
            "INFO:tensorflow:Assets written to: ram://90283db19f0a4b068e6d334b8f957d99/assets\n",
            "INFO:tensorflow:Assets written to: ram://aaf7eb2b87614e0e9306266080c86ae2/assets\n",
            "INFO:tensorflow:Assets written to: ram://7c61e9bb4a184f5b8f9f826c1b0df2c7/assets\n",
            "WARNING:tensorflow:Detecting that an object or model or tf.train.Checkpoint is being deleted with unrestored values. See the following logs for the specific values in question. To silence these warnings, use `status.expect_partial()`. See https://www.tensorflow.org/api_docs/python/tf/train/Checkpoint#restorefor details about the status object returned by the restore function.\n",
            "WARNING:tensorflow:Value in checkpoint could not be found in the restored object: (root).keras_api.metrics.0.total\n",
            "WARNING:tensorflow:Value in checkpoint could not be found in the restored object: (root).keras_api.metrics.0.count\n",
            "WARNING:tensorflow:Value in checkpoint could not be found in the restored object: (root).keras_api.metrics.1.total\n",
            "WARNING:tensorflow:Value in checkpoint could not be found in the restored object: (root).keras_api.metrics.1.count\n",
            "WARNING:tensorflow:Value in checkpoint could not be found in the restored object: (root).keras_api.metrics.2.total\n",
            "WARNING:tensorflow:Value in checkpoint could not be found in the restored object: (root).keras_api.metrics.2.count\n",
            "WARNING:tensorflow:Detecting that an object or model or tf.train.Checkpoint is being deleted with unrestored values. See the following logs for the specific values in question. To silence these warnings, use `status.expect_partial()`. See https://www.tensorflow.org/api_docs/python/tf/train/Checkpoint#restorefor details about the status object returned by the restore function.\n",
            "WARNING:tensorflow:Value in checkpoint could not be found in the restored object: (root).keras_api.metrics.0.total\n",
            "WARNING:tensorflow:Value in checkpoint could not be found in the restored object: (root).keras_api.metrics.0.count\n",
            "WARNING:tensorflow:Value in checkpoint could not be found in the restored object: (root).keras_api.metrics.1.total\n",
            "WARNING:tensorflow:Value in checkpoint could not be found in the restored object: (root).keras_api.metrics.1.count\n",
            "WARNING:tensorflow:Value in checkpoint could not be found in the restored object: (root).keras_api.metrics.2.total\n",
            "WARNING:tensorflow:Value in checkpoint could not be found in the restored object: (root).keras_api.metrics.2.count\n",
            "INFO:tensorflow:Assets written to: ram://a57ccaf911e94752bc28c2e4f7e20914/assets\n",
            "INFO:tensorflow:Assets written to: ram://f35ead99c2c44db4b2768f359e8b6ead/assets\n",
            "INFO:tensorflow:Assets written to: ram://eed66d01eaf04781af2d095f08f3e2bb/assets\n",
            "INFO:tensorflow:Assets written to: ram://28fe3ae82ad6492f8b2df9baa856c7e9/assets\n",
            "WARNING:tensorflow:Detecting that an object or model or tf.train.Checkpoint is being deleted with unrestored values. See the following logs for the specific values in question. To silence these warnings, use `status.expect_partial()`. See https://www.tensorflow.org/api_docs/python/tf/train/Checkpoint#restorefor details about the status object returned by the restore function.\n",
            "WARNING:tensorflow:Value in checkpoint could not be found in the restored object: (root).keras_api.metrics.0.total\n",
            "WARNING:tensorflow:Value in checkpoint could not be found in the restored object: (root).keras_api.metrics.0.count\n",
            "WARNING:tensorflow:Value in checkpoint could not be found in the restored object: (root).keras_api.metrics.1.total\n",
            "WARNING:tensorflow:Value in checkpoint could not be found in the restored object: (root).keras_api.metrics.1.count\n",
            "WARNING:tensorflow:Value in checkpoint could not be found in the restored object: (root).keras_api.metrics.2.total\n",
            "WARNING:tensorflow:Value in checkpoint could not be found in the restored object: (root).keras_api.metrics.2.count\n",
            "WARNING:tensorflow:Detecting that an object or model or tf.train.Checkpoint is being deleted with unrestored values. See the following logs for the specific values in question. To silence these warnings, use `status.expect_partial()`. See https://www.tensorflow.org/api_docs/python/tf/train/Checkpoint#restorefor details about the status object returned by the restore function.\n",
            "WARNING:tensorflow:Value in checkpoint could not be found in the restored object: (root).keras_api.metrics.0.total\n",
            "WARNING:tensorflow:Value in checkpoint could not be found in the restored object: (root).keras_api.metrics.0.count\n",
            "WARNING:tensorflow:Value in checkpoint could not be found in the restored object: (root).keras_api.metrics.1.total\n",
            "WARNING:tensorflow:Value in checkpoint could not be found in the restored object: (root).keras_api.metrics.1.count\n",
            "WARNING:tensorflow:Value in checkpoint could not be found in the restored object: (root).keras_api.metrics.2.total\n",
            "WARNING:tensorflow:Value in checkpoint could not be found in the restored object: (root).keras_api.metrics.2.count\n",
            "INFO:tensorflow:Assets written to: ram://ef919623c5d44048a7fb39645054bcba/assets\n",
            "INFO:tensorflow:Assets written to: ram://f3a920fe11c04ed6959426a513507a6e/assets\n",
            "INFO:tensorflow:Assets written to: ram://80cb4cebdcae47f9ba311d7611e17e70/assets\n",
            "INFO:tensorflow:Assets written to: ram://b74b0fa0d607472e97e1c80281bea214/assets\n",
            "INFO:tensorflow:Assets written to: ram://3a39790acef3444393319437a9142fb7/assets\n",
            "WARNING:tensorflow:Detecting that an object or model or tf.train.Checkpoint is being deleted with unrestored values. See the following logs for the specific values in question. To silence these warnings, use `status.expect_partial()`. See https://www.tensorflow.org/api_docs/python/tf/train/Checkpoint#restorefor details about the status object returned by the restore function.\n",
            "WARNING:tensorflow:Value in checkpoint could not be found in the restored object: (root).keras_api.metrics.0.total\n",
            "WARNING:tensorflow:Value in checkpoint could not be found in the restored object: (root).keras_api.metrics.0.count\n",
            "WARNING:tensorflow:Value in checkpoint could not be found in the restored object: (root).keras_api.metrics.1.total\n",
            "WARNING:tensorflow:Value in checkpoint could not be found in the restored object: (root).keras_api.metrics.1.count\n",
            "WARNING:tensorflow:Value in checkpoint could not be found in the restored object: (root).keras_api.metrics.2.total\n",
            "WARNING:tensorflow:Value in checkpoint could not be found in the restored object: (root).keras_api.metrics.2.count\n",
            "WARNING:tensorflow:Detecting that an object or model or tf.train.Checkpoint is being deleted with unrestored values. See the following logs for the specific values in question. To silence these warnings, use `status.expect_partial()`. See https://www.tensorflow.org/api_docs/python/tf/train/Checkpoint#restorefor details about the status object returned by the restore function.\n",
            "WARNING:tensorflow:Value in checkpoint could not be found in the restored object: (root).keras_api.metrics.0.total\n",
            "WARNING:tensorflow:Value in checkpoint could not be found in the restored object: (root).keras_api.metrics.0.count\n",
            "WARNING:tensorflow:Value in checkpoint could not be found in the restored object: (root).keras_api.metrics.1.total\n",
            "WARNING:tensorflow:Value in checkpoint could not be found in the restored object: (root).keras_api.metrics.1.count\n",
            "WARNING:tensorflow:Value in checkpoint could not be found in the restored object: (root).keras_api.metrics.2.total\n",
            "WARNING:tensorflow:Value in checkpoint could not be found in the restored object: (root).keras_api.metrics.2.count\n",
            "WARNING:tensorflow:Detecting that an object or model or tf.train.Checkpoint is being deleted with unrestored values. See the following logs for the specific values in question. To silence these warnings, use `status.expect_partial()`. See https://www.tensorflow.org/api_docs/python/tf/train/Checkpoint#restorefor details about the status object returned by the restore function.\n",
            "WARNING:tensorflow:Value in checkpoint could not be found in the restored object: (root).keras_api.metrics.0.total\n",
            "WARNING:tensorflow:Value in checkpoint could not be found in the restored object: (root).keras_api.metrics.0.count\n",
            "WARNING:tensorflow:Value in checkpoint could not be found in the restored object: (root).keras_api.metrics.1.total\n",
            "WARNING:tensorflow:Value in checkpoint could not be found in the restored object: (root).keras_api.metrics.1.count\n",
            "WARNING:tensorflow:Value in checkpoint could not be found in the restored object: (root).keras_api.metrics.2.total\n",
            "WARNING:tensorflow:Value in checkpoint could not be found in the restored object: (root).keras_api.metrics.2.count\n",
            "WARNING:tensorflow:Detecting that an object or model or tf.train.Checkpoint is being deleted with unrestored values. See the following logs for the specific values in question. To silence these warnings, use `status.expect_partial()`. See https://www.tensorflow.org/api_docs/python/tf/train/Checkpoint#restorefor details about the status object returned by the restore function.\n",
            "WARNING:tensorflow:Value in checkpoint could not be found in the restored object: (root).keras_api.metrics.0.total\n",
            "WARNING:tensorflow:Value in checkpoint could not be found in the restored object: (root).keras_api.metrics.0.count\n",
            "WARNING:tensorflow:Value in checkpoint could not be found in the restored object: (root).keras_api.metrics.1.total\n",
            "WARNING:tensorflow:Value in checkpoint could not be found in the restored object: (root).keras_api.metrics.1.count\n",
            "WARNING:tensorflow:Value in checkpoint could not be found in the restored object: (root).keras_api.metrics.2.total\n",
            "WARNING:tensorflow:Value in checkpoint could not be found in the restored object: (root).keras_api.metrics.2.count\n",
            "INFO:tensorflow:Assets written to: ram://989c8c152bde4b3da19090ba84b23a65/assets\n",
            "INFO:tensorflow:Assets written to: ram://62a1b3ff706a4443aa5f1bc94cd5c8d1/assets\n",
            "INFO:tensorflow:Assets written to: ram://b0c2e87cd1094253af388e41474e320b/assets\n",
            "INFO:tensorflow:Assets written to: ram://97185f06c860433a91f0cee762f9a858/assets\n",
            "WARNING:tensorflow:Detecting that an object or model or tf.train.Checkpoint is being deleted with unrestored values. See the following logs for the specific values in question. To silence these warnings, use `status.expect_partial()`. See https://www.tensorflow.org/api_docs/python/tf/train/Checkpoint#restorefor details about the status object returned by the restore function.\n",
            "WARNING:tensorflow:Value in checkpoint could not be found in the restored object: (root).keras_api.metrics.0.total\n",
            "WARNING:tensorflow:Value in checkpoint could not be found in the restored object: (root).keras_api.metrics.0.count\n",
            "WARNING:tensorflow:Value in checkpoint could not be found in the restored object: (root).keras_api.metrics.1.total\n",
            "WARNING:tensorflow:Value in checkpoint could not be found in the restored object: (root).keras_api.metrics.1.count\n",
            "WARNING:tensorflow:Value in checkpoint could not be found in the restored object: (root).keras_api.metrics.2.total\n",
            "WARNING:tensorflow:Value in checkpoint could not be found in the restored object: (root).keras_api.metrics.2.count\n",
            "WARNING:tensorflow:Detecting that an object or model or tf.train.Checkpoint is being deleted with unrestored values. See the following logs for the specific values in question. To silence these warnings, use `status.expect_partial()`. See https://www.tensorflow.org/api_docs/python/tf/train/Checkpoint#restorefor details about the status object returned by the restore function.\n",
            "WARNING:tensorflow:Value in checkpoint could not be found in the restored object: (root).keras_api.metrics.0.total\n",
            "WARNING:tensorflow:Value in checkpoint could not be found in the restored object: (root).keras_api.metrics.0.count\n",
            "WARNING:tensorflow:Value in checkpoint could not be found in the restored object: (root).keras_api.metrics.1.total\n",
            "WARNING:tensorflow:Value in checkpoint could not be found in the restored object: (root).keras_api.metrics.1.count\n",
            "WARNING:tensorflow:Value in checkpoint could not be found in the restored object: (root).keras_api.metrics.2.total\n",
            "WARNING:tensorflow:Value in checkpoint could not be found in the restored object: (root).keras_api.metrics.2.count\n",
            "INFO:tensorflow:Assets written to: ram://477e210093254da5838ecb4a2b1f558a/assets\n",
            "INFO:tensorflow:Assets written to: ram://7f6bd3cf25eb405eac7981af095d38c1/assets\n",
            "INFO:tensorflow:Assets written to: ram://3e680c437e14429aa9e34a4ba638b12b/assets\n",
            "INFO:tensorflow:Assets written to: ram://022aea3b7e4941bc91a5293b358ae2c6/assets\n",
            "WARNING:tensorflow:Detecting that an object or model or tf.train.Checkpoint is being deleted with unrestored values. See the following logs for the specific values in question. To silence these warnings, use `status.expect_partial()`. See https://www.tensorflow.org/api_docs/python/tf/train/Checkpoint#restorefor details about the status object returned by the restore function.\n",
            "WARNING:tensorflow:Value in checkpoint could not be found in the restored object: (root).keras_api.metrics.0.total\n",
            "WARNING:tensorflow:Value in checkpoint could not be found in the restored object: (root).keras_api.metrics.0.count\n",
            "WARNING:tensorflow:Value in checkpoint could not be found in the restored object: (root).keras_api.metrics.1.total\n",
            "WARNING:tensorflow:Value in checkpoint could not be found in the restored object: (root).keras_api.metrics.1.count\n",
            "WARNING:tensorflow:Value in checkpoint could not be found in the restored object: (root).keras_api.metrics.2.total\n",
            "WARNING:tensorflow:Value in checkpoint could not be found in the restored object: (root).keras_api.metrics.2.count\n",
            "WARNING:tensorflow:Detecting that an object or model or tf.train.Checkpoint is being deleted with unrestored values. See the following logs for the specific values in question. To silence these warnings, use `status.expect_partial()`. See https://www.tensorflow.org/api_docs/python/tf/train/Checkpoint#restorefor details about the status object returned by the restore function.\n",
            "WARNING:tensorflow:Value in checkpoint could not be found in the restored object: (root).keras_api.metrics.0.total\n",
            "WARNING:tensorflow:Value in checkpoint could not be found in the restored object: (root).keras_api.metrics.0.count\n",
            "WARNING:tensorflow:Value in checkpoint could not be found in the restored object: (root).keras_api.metrics.1.total\n",
            "WARNING:tensorflow:Value in checkpoint could not be found in the restored object: (root).keras_api.metrics.1.count\n",
            "WARNING:tensorflow:Value in checkpoint could not be found in the restored object: (root).keras_api.metrics.2.total\n",
            "WARNING:tensorflow:Value in checkpoint could not be found in the restored object: (root).keras_api.metrics.2.count\n",
            "INFO:tensorflow:Assets written to: ram://99e40c73eb8342628bcc9f7a98504258/assets\n",
            "INFO:tensorflow:Assets written to: ram://ad71c60dea564438a0f6ec96d79d742f/assets\n",
            "INFO:tensorflow:Assets written to: ram://4c06970c22924b29ac0a338782db3b8d/assets\n",
            "INFO:tensorflow:Assets written to: ram://5e2bc3c592d04df99aef4d2f80f316e4/assets\n"
          ]
        },
        {
          "output_type": "stream",
          "name": "stdout",
          "text": [
            "Epoch 1/5\n",
            "289/289 [==============================] - 4s 6ms/step - loss: 19077322752.0000 - mse: 19077322752.0000 - mae: 99486.2812\n",
            "Epoch 2/5\n",
            "289/289 [==============================] - 2s 6ms/step - loss: 5595227136.0000 - mse: 5595227136.0000 - mae: 53394.5508\n",
            "Epoch 3/5\n",
            "289/289 [==============================] - 2s 7ms/step - loss: 4716840448.0000 - mse: 4716840448.0000 - mae: 49427.5000\n",
            "Epoch 4/5\n",
            "289/289 [==============================] - 3s 10ms/step - loss: 4481528320.0000 - mse: 4481528320.0000 - mae: 48123.1211\n",
            "Epoch 5/5\n",
            "289/289 [==============================] - 2s 6ms/step - loss: 4305234944.0000 - mse: 4305234944.0000 - mae: 47202.5859\n"
          ]
        }
      ]
    },
    {
      "cell_type": "code",
      "source": [
        "best_params = GridSearch.best_params_\n",
        "best_estimators = GridSearch.best_estimator_\n",
        "\n",
        "print(best_params)\n",
        "print(best_estimators)"
      ],
      "metadata": {
        "colab": {
          "base_uri": "https://localhost:8080/"
        },
        "id": "7hlFvFphy2IN",
        "outputId": "6b65afeb-6359-4283-d732-bca3a971b84b"
      },
      "execution_count": 62,
      "outputs": [
        {
          "output_type": "stream",
          "name": "stdout",
          "text": [
            "{'batch_size': 50, 'epochs': 5}\n",
            "KerasRegressor(\n",
            "\tmodel=<keras.engine.sequential.Sequential object at 0x7b6e0619b8b0>\n",
            "\tbuild_fn=None\n",
            "\twarm_start=False\n",
            "\trandom_state=None\n",
            "\toptimizer=rmsprop\n",
            "\tloss=None\n",
            "\tmetrics=None\n",
            "\tbatch_size=50\n",
            "\tvalidation_batch_size=None\n",
            "\tverbose=1\n",
            "\tcallbacks=None\n",
            "\tvalidation_split=0.0\n",
            "\tshuffle=True\n",
            "\trun_eagerly=False\n",
            "\tepochs=5\n",
            ")\n"
          ]
        }
      ]
    },
    {
      "cell_type": "code",
      "execution_count": 63,
      "metadata": {
        "colab": {
          "base_uri": "https://localhost:8080/"
        },
        "id": "e2Bb0_UFZJNo",
        "outputId": "e947b7bf-01b2-4206-ca68-60341830ad1d"
      },
      "outputs": [
        {
          "output_type": "stream",
          "name": "stdout",
          "text": [
            "124/124 [==============================] - 0s 2ms/step\n"
          ]
        }
      ],
      "source": [
        "y_prediction = best_estimators.predict(X_test)\n"
      ]
    },
    {
      "cell_type": "code",
      "execution_count": 64,
      "metadata": {
        "colab": {
          "base_uri": "https://localhost:8080/"
        },
        "id": "2lGpmPgzZJNo",
        "outputId": "fd3f7828-1be7-4ada-c535-5fa6c0583090"
      },
      "outputs": [
        {
          "output_type": "stream",
          "name": "stdout",
          "text": [
            "64964.48681187192\n"
          ]
        }
      ],
      "source": [
        "from sklearn.metrics import mean_squared_error\n",
        "import numpy as np\n",
        "\n",
        "final_mse = mean_squared_error(y_prediction, y_test)\n",
        "final_rmse = np.sqrt(final_mse)\n",
        "print(final_rmse)"
      ]
    },
    {
      "cell_type": "markdown",
      "source": [
        "Another way to Train Keras Models with L2 and Dropouts and callbacks like Early Stopping and Reduce LR on Plateau"
      ],
      "metadata": {
        "id": "wBgf9tXtw-ud"
      }
    },
    {
      "cell_type": "code",
      "source": [
        "Create_model_2 = Sequential()\n",
        "\n",
        "#Input Layer\n",
        "Create_model_2.add(Dense(X_train.shape[1], activation='relu', input_dim = X_train.shape[1]))\n",
        "\n",
        "#Hidden Layer\n",
        "Create_model_2.add(Dense(512,kernel_initializer='normal', activation='relu', kernel_regularizer=tf.keras.regularizers.L1(0.01), bias_regularizer=tf.keras.regularizers.l2(0.015)))\n",
        "Create_model_2.add(Dropout(0.3))\n",
        "Create_model_2.add(Dense(256,kernel_initializer='normal', activation='relu'))\n",
        "Create_model_2.add(Dropout(0.3))\n",
        "Create_model_2.add(Dense(128,kernel_initializer='normal', activation='relu', kernel_regularizer=tf.keras.regularizers.L1(0.01), bias_regularizer=tf.keras.regularizers.l2(0.015)))\n",
        "Create_model_2.add(Dropout(0.3))\n",
        "Create_model_2.add(Dense(64,kernel_initializer='normal', activation='relu'))\n",
        "Create_model_2.add(Dropout(0.3))\n",
        "Create_model_2.add(Dense(32,kernel_initializer='normal', activation='relu'))\n",
        "Create_model_2.add(Dropout(0.3))\n",
        "#Output Layer\n",
        "Create_model_2.add(Dense(1,kernel_initializer='normal', activation = 'relu'))\n",
        "\n",
        "opt = keras.optimizers.Adam(learning_rate=0.01)\n",
        "\n",
        "Create_model_2.compile(loss = 'MeanSquaredError', optimizer=opt, metrics=['mse','mae'])\n",
        "Create_model_2.summary()"
      ],
      "metadata": {
        "colab": {
          "base_uri": "https://localhost:8080/"
        },
        "id": "cQ9zQS8Fa61N",
        "outputId": "b162d3fd-403c-4fdd-fe7a-d9cdcb8c974e"
      },
      "execution_count": 36,
      "outputs": [
        {
          "output_type": "stream",
          "name": "stdout",
          "text": [
            "Model: \"sequential_1\"\n",
            "_________________________________________________________________\n",
            " Layer (type)                Output Shape              Param #   \n",
            "=================================================================\n",
            " dense_8 (Dense)             (None, 10)                110       \n",
            "                                                                 \n",
            " dense_9 (Dense)             (None, 512)               5632      \n",
            "                                                                 \n",
            " dropout (Dropout)           (None, 512)               0         \n",
            "                                                                 \n",
            " dense_10 (Dense)            (None, 256)               131328    \n",
            "                                                                 \n",
            " dropout_1 (Dropout)         (None, 256)               0         \n",
            "                                                                 \n",
            " dense_11 (Dense)            (None, 128)               32896     \n",
            "                                                                 \n",
            " dropout_2 (Dropout)         (None, 128)               0         \n",
            "                                                                 \n",
            " dense_12 (Dense)            (None, 64)                8256      \n",
            "                                                                 \n",
            " dropout_3 (Dropout)         (None, 64)                0         \n",
            "                                                                 \n",
            " dense_13 (Dense)            (None, 32)                2080      \n",
            "                                                                 \n",
            " dropout_4 (Dropout)         (None, 32)                0         \n",
            "                                                                 \n",
            " dense_14 (Dense)            (None, 1)                 33        \n",
            "                                                                 \n",
            "=================================================================\n",
            "Total params: 180,335\n",
            "Trainable params: 180,335\n",
            "Non-trainable params: 0\n",
            "_________________________________________________________________\n"
          ]
        }
      ]
    },
    {
      "cell_type": "markdown",
      "source": [
        "Early Stopping using Keras Callback"
      ],
      "metadata": {
        "id": "RgRfM9Zj2nGC"
      }
    },
    {
      "cell_type": "code",
      "source": [
        "from keras.callbacks import EarlyStopping, ReduceLROnPlateau\n",
        "\n",
        "es = EarlyStopping(monitor='mse', verbose=1, patience=5)\n",
        "reduce_lr = ReduceLROnPlateau(monitor=\"loss\", factor=0.5, patience=3, verbose=1)\n",
        "\n",
        "history = Create_model_2.fit(X_train, y_train, batch_size=25, epochs=100, callbacks=[es,reduce_lr])"
      ],
      "metadata": {
        "colab": {
          "base_uri": "https://localhost:8080/"
        },
        "id": "TNJIJitsyl6R",
        "outputId": "9956d9b5-11c9-4590-aa6a-92de8021b0a8"
      },
      "execution_count": 37,
      "outputs": [
        {
          "output_type": "stream",
          "name": "stdout",
          "text": [
            "Epoch 1/100\n",
            "578/578 [==============================] - 8s 6ms/step - loss: 9248637952.0000 - mse: 9248637952.0000 - mae: 68197.5312 - lr: 0.0100\n",
            "Epoch 2/100\n",
            "578/578 [==============================] - 5s 9ms/step - loss: 6946739712.0000 - mse: 6946739712.0000 - mae: 59875.0625 - lr: 0.0100\n",
            "Epoch 3/100\n",
            "578/578 [==============================] - 7s 13ms/step - loss: 6835284480.0000 - mse: 6835284992.0000 - mae: 59740.3633 - lr: 0.0100\n",
            "Epoch 4/100\n",
            "578/578 [==============================] - 7s 12ms/step - loss: 6860276736.0000 - mse: 6860276736.0000 - mae: 59158.3906 - lr: 0.0100\n",
            "Epoch 5/100\n",
            "578/578 [==============================] - 8s 14ms/step - loss: 6647616000.0000 - mse: 6647616000.0000 - mae: 58600.0938 - lr: 0.0100\n",
            "Epoch 6/100\n",
            "578/578 [==============================] - 6s 10ms/step - loss: 6509350912.0000 - mse: 6509350912.0000 - mae: 57955.5391 - lr: 0.0100\n",
            "Epoch 7/100\n",
            "578/578 [==============================] - 4s 7ms/step - loss: 6727124480.0000 - mse: 6727124480.0000 - mae: 58982.7539 - lr: 0.0100\n",
            "Epoch 8/100\n",
            "578/578 [==============================] - 4s 7ms/step - loss: 6777762304.0000 - mse: 6777762304.0000 - mae: 59065.7539 - lr: 0.0100\n",
            "Epoch 9/100\n",
            "578/578 [==============================] - 3s 6ms/step - loss: 6364219904.0000 - mse: 6364219904.0000 - mae: 57393.6484 - lr: 0.0100\n",
            "Epoch 10/100\n",
            "578/578 [==============================] - 3s 6ms/step - loss: 6584559104.0000 - mse: 6584559104.0000 - mae: 57946.5859 - lr: 0.0100\n",
            "Epoch 11/100\n",
            "578/578 [==============================] - 4s 8ms/step - loss: 6431034880.0000 - mse: 6431034880.0000 - mae: 57620.5625 - lr: 0.0100\n",
            "Epoch 12/100\n",
            "573/578 [============================>.] - ETA: 0s - loss: 6373473280.0000 - mse: 6373473280.0000 - mae: 56902.2148\n",
            "Epoch 12: ReduceLROnPlateau reducing learning rate to 0.004999999888241291.\n",
            "578/578 [==============================] - 3s 6ms/step - loss: 6367998464.0000 - mse: 6367998464.0000 - mae: 56904.7891 - lr: 0.0100\n",
            "Epoch 13/100\n",
            "578/578 [==============================] - 4s 6ms/step - loss: 5842916864.0000 - mse: 5842916864.0000 - mae: 54765.6797 - lr: 0.0050\n",
            "Epoch 14/100\n",
            "578/578 [==============================] - 4s 7ms/step - loss: 5713273856.0000 - mse: 5713273856.0000 - mae: 53723.0195 - lr: 0.0050\n",
            "Epoch 15/100\n",
            "578/578 [==============================] - 4s 7ms/step - loss: 5538361344.0000 - mse: 5538361344.0000 - mae: 53112.0391 - lr: 0.0050\n",
            "Epoch 16/100\n",
            "578/578 [==============================] - 3s 6ms/step - loss: 5600419328.0000 - mse: 5600419328.0000 - mae: 53098.5000 - lr: 0.0050\n",
            "Epoch 17/100\n",
            "578/578 [==============================] - 4s 6ms/step - loss: 5540871168.0000 - mse: 5540871168.0000 - mae: 53219.0195 - lr: 0.0050\n",
            "Epoch 18/100\n",
            "574/578 [============================>.] - ETA: 0s - loss: 5568238080.0000 - mse: 5568238080.0000 - mae: 53194.6133\n",
            "Epoch 18: ReduceLROnPlateau reducing learning rate to 0.0024999999441206455.\n",
            "578/578 [==============================] - 5s 8ms/step - loss: 5568815616.0000 - mse: 5568815616.0000 - mae: 53200.6523 - lr: 0.0050\n",
            "Epoch 19/100\n",
            "578/578 [==============================] - 3s 6ms/step - loss: 5318263296.0000 - mse: 5318263296.0000 - mae: 51702.8789 - lr: 0.0025\n",
            "Epoch 20/100\n",
            "578/578 [==============================] - 3s 6ms/step - loss: 5288168960.0000 - mse: 5288168960.0000 - mae: 51432.4414 - lr: 0.0025\n",
            "Epoch 21/100\n",
            "578/578 [==============================] - 4s 7ms/step - loss: 5219927552.0000 - mse: 5219927552.0000 - mae: 51075.2031 - lr: 0.0025\n",
            "Epoch 22/100\n",
            "578/578 [==============================] - 4s 7ms/step - loss: 5133935104.0000 - mse: 5133935104.0000 - mae: 50980.1094 - lr: 0.0025\n",
            "Epoch 23/100\n",
            "578/578 [==============================] - 3s 6ms/step - loss: 5135712768.0000 - mse: 5135712768.0000 - mae: 50595.0938 - lr: 0.0025\n",
            "Epoch 24/100\n",
            "578/578 [==============================] - 4s 6ms/step - loss: 5178637824.0000 - mse: 5178637824.0000 - mae: 50791.9805 - lr: 0.0025\n",
            "Epoch 25/100\n",
            "575/578 [============================>.] - ETA: 0s - loss: 5227655168.0000 - mse: 5227654656.0000 - mae: 51219.5391\n",
            "Epoch 25: ReduceLROnPlateau reducing learning rate to 0.0012499999720603228.\n",
            "578/578 [==============================] - 5s 8ms/step - loss: 5223958016.0000 - mse: 5223957504.0000 - mae: 51212.4922 - lr: 0.0025\n",
            "Epoch 26/100\n",
            "578/578 [==============================] - 5s 8ms/step - loss: 5100110336.0000 - mse: 5100109824.0000 - mae: 50383.7656 - lr: 0.0012\n",
            "Epoch 27/100\n",
            "578/578 [==============================] - 3s 6ms/step - loss: 5052808704.0000 - mse: 5052809216.0000 - mae: 50457.0781 - lr: 0.0012\n",
            "Epoch 28/100\n",
            "578/578 [==============================] - 5s 8ms/step - loss: 5090462208.0000 - mse: 5090462208.0000 - mae: 50303.5234 - lr: 0.0012\n",
            "Epoch 29/100\n",
            "578/578 [==============================] - 4s 6ms/step - loss: 4996022272.0000 - mse: 4996022272.0000 - mae: 50015.8125 - lr: 0.0012\n",
            "Epoch 30/100\n",
            "578/578 [==============================] - 4s 6ms/step - loss: 4928828928.0000 - mse: 4928828928.0000 - mae: 49844.9844 - lr: 0.0012\n",
            "Epoch 31/100\n",
            "578/578 [==============================] - 4s 7ms/step - loss: 4950431744.0000 - mse: 4950431744.0000 - mae: 49856.7578 - lr: 0.0012\n",
            "Epoch 32/100\n",
            "578/578 [==============================] - 4s 7ms/step - loss: 4932311040.0000 - mse: 4932311040.0000 - mae: 49783.6133 - lr: 0.0012\n",
            "Epoch 33/100\n",
            "577/578 [============================>.] - ETA: 0s - loss: 4934754304.0000 - mse: 4934754304.0000 - mae: 49783.7969\n",
            "Epoch 33: ReduceLROnPlateau reducing learning rate to 0.0006249999860301614.\n",
            "578/578 [==============================] - 4s 6ms/step - loss: 4932020224.0000 - mse: 4932020224.0000 - mae: 49769.9961 - lr: 0.0012\n",
            "Epoch 34/100\n",
            "578/578 [==============================] - 4s 6ms/step - loss: 4741770240.0000 - mse: 4741770240.0000 - mae: 48810.0742 - lr: 6.2500e-04\n",
            "Epoch 35/100\n",
            "578/578 [==============================] - 5s 8ms/step - loss: 4964152320.0000 - mse: 4964152320.0000 - mae: 49521.4414 - lr: 6.2500e-04\n",
            "Epoch 36/100\n",
            "578/578 [==============================] - 4s 6ms/step - loss: 4899947520.0000 - mse: 4899947520.0000 - mae: 49504.5664 - lr: 6.2500e-04\n",
            "Epoch 37/100\n",
            "574/578 [============================>.] - ETA: 0s - loss: 4917229056.0000 - mse: 4917229056.0000 - mae: 49429.3242\n",
            "Epoch 37: ReduceLROnPlateau reducing learning rate to 0.0003124999930150807.\n",
            "578/578 [==============================] - 4s 6ms/step - loss: 4920619520.0000 - mse: 4920619520.0000 - mae: 49433.5820 - lr: 6.2500e-04\n",
            "Epoch 38/100\n",
            "578/578 [==============================] - 5s 9ms/step - loss: 4867372032.0000 - mse: 4867372032.0000 - mae: 49283.0781 - lr: 3.1250e-04\n",
            "Epoch 39/100\n",
            "578/578 [==============================] - 4s 6ms/step - loss: 4849259008.0000 - mse: 4849259008.0000 - mae: 49153.3320 - lr: 3.1250e-04\n",
            "Epoch 39: early stopping\n"
          ]
        }
      ]
    },
    {
      "cell_type": "code",
      "source": [
        "from matplotlib import pyplot\n",
        "\n",
        "train_acc = Create_model_2.evaluate(X_train, y_train)\n",
        "test_acc = Create_model_2.evaluate(X_test, y_test)\n",
        "\n",
        "y_prediction = Create_model_2.predict(X_test)\n",
        "\n",
        "from sklearn.metrics import mean_squared_error\n",
        "import numpy as np\n",
        "\n",
        "final_mse = mean_squared_error(y_prediction, y_test)\n",
        "final_rmse = np.sqrt(final_mse)\n",
        "print(final_rmse)"
      ],
      "metadata": {
        "colab": {
          "base_uri": "https://localhost:8080/"
        },
        "id": "lfrK5Zn92CDu",
        "outputId": "f782e395-8c98-41bc-e9b2-001f818fb2c5"
      },
      "execution_count": 38,
      "outputs": [
        {
          "output_type": "stream",
          "name": "stdout",
          "text": [
            "452/452 [==============================] - 2s 3ms/step - loss: 2751801088.0000 - mse: 2751801088.0000 - mae: 35586.7578\n",
            "194/194 [==============================] - 1s 3ms/step - loss: 2964397568.0000 - mse: 2964397568.0000 - mae: 36834.5898\n",
            "194/194 [==============================] - 0s 2ms/step\n",
            "54446.28644744702\n"
          ]
        }
      ]
    },
    {
      "cell_type": "markdown",
      "source": [
        "Hyper Parameter Tuning using Random Search"
      ],
      "metadata": {
        "id": "ErdNL_JSLj2J"
      }
    },
    {
      "cell_type": "code",
      "source": [
        "from keras_tuner.tuners import RandomSearch\n",
        "from keras_tuner.engine.hyperparameters import HyperParameters # library for hyperparameter tuning\n",
        "from keras.callbacks import EarlyStopping, ReduceLROnPlateau\n",
        "\n",
        "def build_NN_model(hp):\n",
        "  Create_model_2 = Sequential()\n",
        "\n",
        "  #Input Layer\n",
        "  Create_model_2.add(Dense(X_train.shape[1], activation='relu', input_dim = X_train.shape[1]))\n",
        "\n",
        "  #Hidden Layer\n",
        "  Create_model_2.add(Dense(512,kernel_initializer='normal', activation='relu', kernel_regularizer=tf.keras.regularizers.L1(0.01), bias_regularizer=tf.keras.regularizers.l2(0.015)))\n",
        "  Create_model_2.add(Dropout(0.3))\n",
        "  Create_model_2.add(Dense(256,kernel_initializer='normal', activation='relu'))\n",
        "  Create_model_2.add(Dropout(0.3))\n",
        "  Create_model_2.add(Dense(128,kernel_initializer='normal', activation='relu', kernel_regularizer=tf.keras.regularizers.L1(0.01), bias_regularizer=tf.keras.regularizers.l2(0.015)))\n",
        "  Create_model_2.add(Dropout(0.3))\n",
        "  Create_model_2.add(Dense(64,kernel_initializer='normal', activation='relu'))\n",
        "  Create_model_2.add(Dropout(0.3))\n",
        "  Create_model_2.add(Dense(32,kernel_initializer='normal', activation='relu'))\n",
        "  Create_model_2.add(Dropout(0.3))\n",
        "  #Output Layer\n",
        "  Create_model_2.add(Dense(1,kernel_initializer='normal', activation = 'relu'))\n",
        "  hp_learning_rate = hp.Choice('learning_rate', values = [0.0001,0.001])\n",
        "  opt = keras.optimizers.Adam(learning_rate=hp_learning_rate)\n",
        "  Create_model_2.compile(loss = 'MeanSquaredError', optimizer=opt, metrics=['mse','mae'])\n",
        "  return Create_model_2"
      ],
      "metadata": {
        "id": "t68adcMaM4pT"
      },
      "execution_count": 45,
      "outputs": []
    },
    {
      "cell_type": "code",
      "source": [
        "tuner = RandomSearch(\n",
        "    build_NN_model,\n",
        "    max_trials=15,\n",
        "    objective='mse',\n",
        "    executions_per_trial=3,\n",
        "    overwrite=True\n",
        ")\n",
        "es = EarlyStopping(monitor='mse', verbose=1, patience=5)\n",
        "reduce_lr = ReduceLROnPlateau(monitor=\"loss\", factor=0.5, patience=3, verbose=1)\n",
        "\n",
        "tuner.search_space_summary()\n",
        "os.environ['TF_CPP_MIN_LOG_LEVEL'] = '3'\n",
        "\n",
        "tuner.search(X_train, y_train, epochs=100,callbacks=[es,reduce_lr])\n",
        "best_model = tuner.get_best_models(num_models=1)[0]"
      ],
      "metadata": {
        "colab": {
          "base_uri": "https://localhost:8080/"
        },
        "id": "aG5E9ftpLXUb",
        "outputId": "60dd85eb-32e8-40b8-c61d-a002088ffcb8"
      },
      "execution_count": 52,
      "outputs": [
        {
          "output_type": "stream",
          "name": "stderr",
          "text": [
            "INFO:tensorflow:Oracle triggered exit\n"
          ]
        },
        {
          "output_type": "stream",
          "name": "stdout",
          "text": [
            "Trial 2 Complete [00h 08m 06s]\n",
            "mse: 6192502954.666667\n",
            "\n",
            "Best mse So Far: 5667502421.333333\n",
            "Total elapsed time: 00h 13m 08s\n"
          ]
        }
      ]
    },
    {
      "cell_type": "code",
      "source": [
        "train_acc = best_model.evaluate(X_train, y_train)\n",
        "test_acc = best_model.evaluate(X_test, y_test)\n"
      ],
      "metadata": {
        "colab": {
          "base_uri": "https://localhost:8080/"
        },
        "id": "E85UKnJYSSgM",
        "outputId": "675476f9-ae72-4a8b-dd18-3891be34112e"
      },
      "execution_count": 53,
      "outputs": [
        {
          "output_type": "stream",
          "name": "stderr",
          "text": [
            "WARNING:tensorflow:Detecting that an object or model or tf.train.Checkpoint is being deleted with unrestored values. See the following logs for the specific values in question. To silence these warnings, use `status.expect_partial()`. See https://www.tensorflow.org/api_docs/python/tf/train/Checkpoint#restorefor details about the status object returned by the restore function.\n",
            "WARNING:tensorflow:Value in checkpoint could not be found in the restored object: (root).optimizer._variables.1\n",
            "WARNING:tensorflow:Value in checkpoint could not be found in the restored object: (root).optimizer._variables.2\n",
            "WARNING:tensorflow:Value in checkpoint could not be found in the restored object: (root).optimizer._variables.3\n",
            "WARNING:tensorflow:Value in checkpoint could not be found in the restored object: (root).optimizer._variables.4\n",
            "WARNING:tensorflow:Value in checkpoint could not be found in the restored object: (root).optimizer._variables.5\n",
            "WARNING:tensorflow:Value in checkpoint could not be found in the restored object: (root).optimizer._variables.6\n",
            "WARNING:tensorflow:Value in checkpoint could not be found in the restored object: (root).optimizer._variables.7\n",
            "WARNING:tensorflow:Value in checkpoint could not be found in the restored object: (root).optimizer._variables.8\n",
            "WARNING:tensorflow:Value in checkpoint could not be found in the restored object: (root).optimizer._variables.9\n",
            "WARNING:tensorflow:Value in checkpoint could not be found in the restored object: (root).optimizer._variables.10\n",
            "WARNING:tensorflow:Value in checkpoint could not be found in the restored object: (root).optimizer._variables.11\n",
            "WARNING:tensorflow:Value in checkpoint could not be found in the restored object: (root).optimizer._variables.12\n",
            "WARNING:tensorflow:Value in checkpoint could not be found in the restored object: (root).optimizer._variables.13\n",
            "WARNING:tensorflow:Value in checkpoint could not be found in the restored object: (root).optimizer._variables.14\n",
            "WARNING:tensorflow:Value in checkpoint could not be found in the restored object: (root).optimizer._variables.15\n",
            "WARNING:tensorflow:Value in checkpoint could not be found in the restored object: (root).optimizer._variables.16\n",
            "WARNING:tensorflow:Value in checkpoint could not be found in the restored object: (root).optimizer._variables.17\n",
            "WARNING:tensorflow:Value in checkpoint could not be found in the restored object: (root).optimizer._variables.18\n",
            "WARNING:tensorflow:Value in checkpoint could not be found in the restored object: (root).optimizer._variables.19\n",
            "WARNING:tensorflow:Value in checkpoint could not be found in the restored object: (root).optimizer._variables.20\n",
            "WARNING:tensorflow:Value in checkpoint could not be found in the restored object: (root).optimizer._variables.21\n",
            "WARNING:tensorflow:Value in checkpoint could not be found in the restored object: (root).optimizer._variables.22\n",
            "WARNING:tensorflow:Value in checkpoint could not be found in the restored object: (root).optimizer._variables.23\n",
            "WARNING:tensorflow:Value in checkpoint could not be found in the restored object: (root).optimizer._variables.24\n",
            "WARNING:tensorflow:Value in checkpoint could not be found in the restored object: (root).optimizer._variables.25\n",
            "WARNING:tensorflow:Value in checkpoint could not be found in the restored object: (root).optimizer._variables.26\n",
            "WARNING:tensorflow:Value in checkpoint could not be found in the restored object: (root).optimizer._variables.27\n",
            "WARNING:tensorflow:Value in checkpoint could not be found in the restored object: (root).optimizer._variables.28\n"
          ]
        },
        {
          "output_type": "stream",
          "name": "stdout",
          "text": [
            "452/452 [==============================] - 2s 3ms/step - loss: 3422966272.0000 - mse: 3422966272.0000 - mae: 40613.2812\n",
            "194/194 [==============================] - 1s 5ms/step - loss: 3535642368.0000 - mse: 3535642368.0000 - mae: 41330.5391\n"
          ]
        }
      ]
    },
    {
      "cell_type": "code",
      "source": [
        "y_prediction = best_model.predict(X_test)\n",
        "\n",
        "from sklearn.metrics import mean_squared_error\n",
        "import numpy as np\n",
        "\n",
        "final_mse = mean_squared_error(y_prediction, y_test)\n",
        "final_rmse = np.sqrt(final_mse)\n",
        "print(final_rmse)"
      ],
      "metadata": {
        "colab": {
          "base_uri": "https://localhost:8080/"
        },
        "id": "tOiVqqn9SrP4",
        "outputId": "457e5caf-f14f-40ef-9c89-77c564f01f45"
      },
      "execution_count": 54,
      "outputs": [
        {
          "output_type": "stream",
          "name": "stdout",
          "text": [
            "194/194 [==============================] - 1s 3ms/step\n",
            "59461.25925224469\n"
          ]
        }
      ]
    }
  ],
  "metadata": {
    "kernelspec": {
      "display_name": "Python 3",
      "language": "python",
      "name": "python3"
    },
    "language_info": {
      "codemirror_mode": {
        "name": "ipython",
        "version": 3
      },
      "file_extension": ".py",
      "mimetype": "text/x-python",
      "name": "python",
      "nbconvert_exporter": "python",
      "pygments_lexer": "ipython3",
      "version": "3.6.6"
    },
    "colab": {
      "provenance": []
    },
    "accelerator": "GPU",
    "gpuClass": "standard"
  },
  "nbformat": 4,
  "nbformat_minor": 0
}