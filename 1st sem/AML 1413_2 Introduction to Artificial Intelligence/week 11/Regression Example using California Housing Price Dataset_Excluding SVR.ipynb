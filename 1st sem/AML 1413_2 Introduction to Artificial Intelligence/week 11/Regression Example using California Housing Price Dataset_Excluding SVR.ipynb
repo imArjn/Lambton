{
  "nbformat": 4,
  "nbformat_minor": 0,
  "metadata": {
    "kernelspec": {
      "display_name": "Python 3",
      "language": "python",
      "name": "python3"
    },
    "language_info": {
      "codemirror_mode": {
        "name": "ipython",
        "version": 3
      },
      "file_extension": ".py",
      "mimetype": "text/x-python",
      "name": "python",
      "nbconvert_exporter": "python",
      "pygments_lexer": "ipython3",
      "version": "3.6.3"
    },
    "colab": {
      "provenance": []
    }
  },
  "cells": [
    {
      "cell_type": "markdown",
      "metadata": {
        "id": "liJ4o8JJiRTV"
      },
      "source": [
        "## Assignment for Module 5, Training Models\n",
        "\n",
        "In this assignment you will train different models on a given data set, and find the one that performs best"
      ]
    },
    {
      "cell_type": "markdown",
      "metadata": {
        "id": "y5I5Tx3qiRTb"
      },
      "source": [
        "### Getting the data for the assignment (similar to the notebook from chapter 2 of Hands-On...)"
      ]
    },
    {
      "cell_type": "code",
      "metadata": {
        "id": "VWDKgBFliRTf"
      },
      "source": [
        "import os\n",
        "import tarfile\n",
        "from six.moves import urllib\n",
        "\n",
        "DOWNLOAD_ROOT = \"https://raw.githubusercontent.com/ageron/handson-ml/master/\"\n",
        "HOUSING_PATH = os.path.join(\"datasets\", \"housing\")\n",
        "HOUSING_URL = DOWNLOAD_ROOT + \"datasets/housing/housing.tgz\"\n",
        "\n",
        "def fetch_housing_data(housing_url=HOUSING_URL, housing_path=HOUSING_PATH):\n",
        "    if not os.path.isdir(housing_path):\n",
        "        os.makedirs(housing_path)\n",
        "    tgz_path = os.path.join(housing_path, \"housing.tgz\")\n",
        "    urllib.request.urlretrieve(housing_url, tgz_path)\n",
        "    housing_tgz = tarfile.open(tgz_path)\n",
        "    housing_tgz.extractall(path=housing_path)\n",
        "    housing_tgz.close()"
      ],
      "execution_count": 31,
      "outputs": []
    },
    {
      "cell_type": "code",
      "metadata": {
        "id": "WpmrNUWuiRTw"
      },
      "source": [
        "fetch_housing_data()"
      ],
      "execution_count": 32,
      "outputs": []
    },
    {
      "cell_type": "code",
      "metadata": {
        "id": "ED7jb-PSiRT7"
      },
      "source": [
        "import pandas as pd\n",
        "\n",
        "def load_housing_data(housing_path=HOUSING_PATH):\n",
        "    csv_path = os.path.join(housing_path, \"housing.csv\")\n",
        "    return pd.read_csv(csv_path)"
      ],
      "execution_count": 33,
      "outputs": []
    },
    {
      "cell_type": "code",
      "metadata": {
        "id": "Cs6c0Fz9iRUF"
      },
      "source": [
        "housing = load_housing_data()"
      ],
      "execution_count": 34,
      "outputs": []
    },
    {
      "cell_type": "code",
      "metadata": {
        "colab": {
          "base_uri": "https://localhost:8080/",
          "height": 226
        },
        "id": "3uVA-bIiN1LD",
        "outputId": "819208d0-b075-4a80-c489-cb41c4911c4e"
      },
      "source": [
        "housing.head(5)"
      ],
      "execution_count": 35,
      "outputs": [
        {
          "output_type": "execute_result",
          "data": {
            "text/plain": [
              "   longitude  latitude  housing_median_age  total_rooms  total_bedrooms  \\\n",
              "0    -122.23     37.88                41.0        880.0           129.0   \n",
              "1    -122.22     37.86                21.0       7099.0          1106.0   \n",
              "2    -122.24     37.85                52.0       1467.0           190.0   \n",
              "3    -122.25     37.85                52.0       1274.0           235.0   \n",
              "4    -122.25     37.85                52.0       1627.0           280.0   \n",
              "\n",
              "   population  households  median_income  median_house_value ocean_proximity  \n",
              "0       322.0       126.0         8.3252            452600.0        NEAR BAY  \n",
              "1      2401.0      1138.0         8.3014            358500.0        NEAR BAY  \n",
              "2       496.0       177.0         7.2574            352100.0        NEAR BAY  \n",
              "3       558.0       219.0         5.6431            341300.0        NEAR BAY  \n",
              "4       565.0       259.0         3.8462            342200.0        NEAR BAY  "
            ],
            "text/html": [
              "\n",
              "  <div id=\"df-03469724-577e-4c9e-97d0-c4ebc8784fe8\" class=\"colab-df-container\">\n",
              "    <div>\n",
              "<style scoped>\n",
              "    .dataframe tbody tr th:only-of-type {\n",
              "        vertical-align: middle;\n",
              "    }\n",
              "\n",
              "    .dataframe tbody tr th {\n",
              "        vertical-align: top;\n",
              "    }\n",
              "\n",
              "    .dataframe thead th {\n",
              "        text-align: right;\n",
              "    }\n",
              "</style>\n",
              "<table border=\"1\" class=\"dataframe\">\n",
              "  <thead>\n",
              "    <tr style=\"text-align: right;\">\n",
              "      <th></th>\n",
              "      <th>longitude</th>\n",
              "      <th>latitude</th>\n",
              "      <th>housing_median_age</th>\n",
              "      <th>total_rooms</th>\n",
              "      <th>total_bedrooms</th>\n",
              "      <th>population</th>\n",
              "      <th>households</th>\n",
              "      <th>median_income</th>\n",
              "      <th>median_house_value</th>\n",
              "      <th>ocean_proximity</th>\n",
              "    </tr>\n",
              "  </thead>\n",
              "  <tbody>\n",
              "    <tr>\n",
              "      <th>0</th>\n",
              "      <td>-122.23</td>\n",
              "      <td>37.88</td>\n",
              "      <td>41.0</td>\n",
              "      <td>880.0</td>\n",
              "      <td>129.0</td>\n",
              "      <td>322.0</td>\n",
              "      <td>126.0</td>\n",
              "      <td>8.3252</td>\n",
              "      <td>452600.0</td>\n",
              "      <td>NEAR BAY</td>\n",
              "    </tr>\n",
              "    <tr>\n",
              "      <th>1</th>\n",
              "      <td>-122.22</td>\n",
              "      <td>37.86</td>\n",
              "      <td>21.0</td>\n",
              "      <td>7099.0</td>\n",
              "      <td>1106.0</td>\n",
              "      <td>2401.0</td>\n",
              "      <td>1138.0</td>\n",
              "      <td>8.3014</td>\n",
              "      <td>358500.0</td>\n",
              "      <td>NEAR BAY</td>\n",
              "    </tr>\n",
              "    <tr>\n",
              "      <th>2</th>\n",
              "      <td>-122.24</td>\n",
              "      <td>37.85</td>\n",
              "      <td>52.0</td>\n",
              "      <td>1467.0</td>\n",
              "      <td>190.0</td>\n",
              "      <td>496.0</td>\n",
              "      <td>177.0</td>\n",
              "      <td>7.2574</td>\n",
              "      <td>352100.0</td>\n",
              "      <td>NEAR BAY</td>\n",
              "    </tr>\n",
              "    <tr>\n",
              "      <th>3</th>\n",
              "      <td>-122.25</td>\n",
              "      <td>37.85</td>\n",
              "      <td>52.0</td>\n",
              "      <td>1274.0</td>\n",
              "      <td>235.0</td>\n",
              "      <td>558.0</td>\n",
              "      <td>219.0</td>\n",
              "      <td>5.6431</td>\n",
              "      <td>341300.0</td>\n",
              "      <td>NEAR BAY</td>\n",
              "    </tr>\n",
              "    <tr>\n",
              "      <th>4</th>\n",
              "      <td>-122.25</td>\n",
              "      <td>37.85</td>\n",
              "      <td>52.0</td>\n",
              "      <td>1627.0</td>\n",
              "      <td>280.0</td>\n",
              "      <td>565.0</td>\n",
              "      <td>259.0</td>\n",
              "      <td>3.8462</td>\n",
              "      <td>342200.0</td>\n",
              "      <td>NEAR BAY</td>\n",
              "    </tr>\n",
              "  </tbody>\n",
              "</table>\n",
              "</div>\n",
              "    <div class=\"colab-df-buttons\">\n",
              "\n",
              "  <div class=\"colab-df-container\">\n",
              "    <button class=\"colab-df-convert\" onclick=\"convertToInteractive('df-03469724-577e-4c9e-97d0-c4ebc8784fe8')\"\n",
              "            title=\"Convert this dataframe to an interactive table.\"\n",
              "            style=\"display:none;\">\n",
              "\n",
              "  <svg xmlns=\"http://www.w3.org/2000/svg\" height=\"24px\" viewBox=\"0 -960 960 960\">\n",
              "    <path d=\"M120-120v-720h720v720H120Zm60-500h600v-160H180v160Zm220 220h160v-160H400v160Zm0 220h160v-160H400v160ZM180-400h160v-160H180v160Zm440 0h160v-160H620v160ZM180-180h160v-160H180v160Zm440 0h160v-160H620v160Z\"/>\n",
              "  </svg>\n",
              "    </button>\n",
              "\n",
              "  <style>\n",
              "    .colab-df-container {\n",
              "      display:flex;\n",
              "      gap: 12px;\n",
              "    }\n",
              "\n",
              "    .colab-df-convert {\n",
              "      background-color: #E8F0FE;\n",
              "      border: none;\n",
              "      border-radius: 50%;\n",
              "      cursor: pointer;\n",
              "      display: none;\n",
              "      fill: #1967D2;\n",
              "      height: 32px;\n",
              "      padding: 0 0 0 0;\n",
              "      width: 32px;\n",
              "    }\n",
              "\n",
              "    .colab-df-convert:hover {\n",
              "      background-color: #E2EBFA;\n",
              "      box-shadow: 0px 1px 2px rgba(60, 64, 67, 0.3), 0px 1px 3px 1px rgba(60, 64, 67, 0.15);\n",
              "      fill: #174EA6;\n",
              "    }\n",
              "\n",
              "    .colab-df-buttons div {\n",
              "      margin-bottom: 4px;\n",
              "    }\n",
              "\n",
              "    [theme=dark] .colab-df-convert {\n",
              "      background-color: #3B4455;\n",
              "      fill: #D2E3FC;\n",
              "    }\n",
              "\n",
              "    [theme=dark] .colab-df-convert:hover {\n",
              "      background-color: #434B5C;\n",
              "      box-shadow: 0px 1px 3px 1px rgba(0, 0, 0, 0.15);\n",
              "      filter: drop-shadow(0px 1px 2px rgba(0, 0, 0, 0.3));\n",
              "      fill: #FFFFFF;\n",
              "    }\n",
              "  </style>\n",
              "\n",
              "    <script>\n",
              "      const buttonEl =\n",
              "        document.querySelector('#df-03469724-577e-4c9e-97d0-c4ebc8784fe8 button.colab-df-convert');\n",
              "      buttonEl.style.display =\n",
              "        google.colab.kernel.accessAllowed ? 'block' : 'none';\n",
              "\n",
              "      async function convertToInteractive(key) {\n",
              "        const element = document.querySelector('#df-03469724-577e-4c9e-97d0-c4ebc8784fe8');\n",
              "        const dataTable =\n",
              "          await google.colab.kernel.invokeFunction('convertToInteractive',\n",
              "                                                    [key], {});\n",
              "        if (!dataTable) return;\n",
              "\n",
              "        const docLinkHtml = 'Like what you see? Visit the ' +\n",
              "          '<a target=\"_blank\" href=https://colab.research.google.com/notebooks/data_table.ipynb>data table notebook</a>'\n",
              "          + ' to learn more about interactive tables.';\n",
              "        element.innerHTML = '';\n",
              "        dataTable['output_type'] = 'display_data';\n",
              "        await google.colab.output.renderOutput(dataTable, element);\n",
              "        const docLink = document.createElement('div');\n",
              "        docLink.innerHTML = docLinkHtml;\n",
              "        element.appendChild(docLink);\n",
              "      }\n",
              "    </script>\n",
              "  </div>\n",
              "\n",
              "\n",
              "<div id=\"df-77b360b2-5e87-4fb1-a612-0b7e8dd70d81\">\n",
              "  <button class=\"colab-df-quickchart\" onclick=\"quickchart('df-77b360b2-5e87-4fb1-a612-0b7e8dd70d81')\"\n",
              "            title=\"Suggest charts\"\n",
              "            style=\"display:none;\">\n",
              "\n",
              "<svg xmlns=\"http://www.w3.org/2000/svg\" height=\"24px\"viewBox=\"0 0 24 24\"\n",
              "     width=\"24px\">\n",
              "    <g>\n",
              "        <path d=\"M19 3H5c-1.1 0-2 .9-2 2v14c0 1.1.9 2 2 2h14c1.1 0 2-.9 2-2V5c0-1.1-.9-2-2-2zM9 17H7v-7h2v7zm4 0h-2V7h2v10zm4 0h-2v-4h2v4z\"/>\n",
              "    </g>\n",
              "</svg>\n",
              "  </button>\n",
              "\n",
              "<style>\n",
              "  .colab-df-quickchart {\n",
              "      --bg-color: #E8F0FE;\n",
              "      --fill-color: #1967D2;\n",
              "      --hover-bg-color: #E2EBFA;\n",
              "      --hover-fill-color: #174EA6;\n",
              "      --disabled-fill-color: #AAA;\n",
              "      --disabled-bg-color: #DDD;\n",
              "  }\n",
              "\n",
              "  [theme=dark] .colab-df-quickchart {\n",
              "      --bg-color: #3B4455;\n",
              "      --fill-color: #D2E3FC;\n",
              "      --hover-bg-color: #434B5C;\n",
              "      --hover-fill-color: #FFFFFF;\n",
              "      --disabled-bg-color: #3B4455;\n",
              "      --disabled-fill-color: #666;\n",
              "  }\n",
              "\n",
              "  .colab-df-quickchart {\n",
              "    background-color: var(--bg-color);\n",
              "    border: none;\n",
              "    border-radius: 50%;\n",
              "    cursor: pointer;\n",
              "    display: none;\n",
              "    fill: var(--fill-color);\n",
              "    height: 32px;\n",
              "    padding: 0;\n",
              "    width: 32px;\n",
              "  }\n",
              "\n",
              "  .colab-df-quickchart:hover {\n",
              "    background-color: var(--hover-bg-color);\n",
              "    box-shadow: 0 1px 2px rgba(60, 64, 67, 0.3), 0 1px 3px 1px rgba(60, 64, 67, 0.15);\n",
              "    fill: var(--button-hover-fill-color);\n",
              "  }\n",
              "\n",
              "  .colab-df-quickchart-complete:disabled,\n",
              "  .colab-df-quickchart-complete:disabled:hover {\n",
              "    background-color: var(--disabled-bg-color);\n",
              "    fill: var(--disabled-fill-color);\n",
              "    box-shadow: none;\n",
              "  }\n",
              "\n",
              "  .colab-df-spinner {\n",
              "    border: 2px solid var(--fill-color);\n",
              "    border-color: transparent;\n",
              "    border-bottom-color: var(--fill-color);\n",
              "    animation:\n",
              "      spin 1s steps(1) infinite;\n",
              "  }\n",
              "\n",
              "  @keyframes spin {\n",
              "    0% {\n",
              "      border-color: transparent;\n",
              "      border-bottom-color: var(--fill-color);\n",
              "      border-left-color: var(--fill-color);\n",
              "    }\n",
              "    20% {\n",
              "      border-color: transparent;\n",
              "      border-left-color: var(--fill-color);\n",
              "      border-top-color: var(--fill-color);\n",
              "    }\n",
              "    30% {\n",
              "      border-color: transparent;\n",
              "      border-left-color: var(--fill-color);\n",
              "      border-top-color: var(--fill-color);\n",
              "      border-right-color: var(--fill-color);\n",
              "    }\n",
              "    40% {\n",
              "      border-color: transparent;\n",
              "      border-right-color: var(--fill-color);\n",
              "      border-top-color: var(--fill-color);\n",
              "    }\n",
              "    60% {\n",
              "      border-color: transparent;\n",
              "      border-right-color: var(--fill-color);\n",
              "    }\n",
              "    80% {\n",
              "      border-color: transparent;\n",
              "      border-right-color: var(--fill-color);\n",
              "      border-bottom-color: var(--fill-color);\n",
              "    }\n",
              "    90% {\n",
              "      border-color: transparent;\n",
              "      border-bottom-color: var(--fill-color);\n",
              "    }\n",
              "  }\n",
              "</style>\n",
              "\n",
              "  <script>\n",
              "    async function quickchart(key) {\n",
              "      const quickchartButtonEl =\n",
              "        document.querySelector('#' + key + ' button');\n",
              "      quickchartButtonEl.disabled = true;  // To prevent multiple clicks.\n",
              "      quickchartButtonEl.classList.add('colab-df-spinner');\n",
              "      try {\n",
              "        const charts = await google.colab.kernel.invokeFunction(\n",
              "            'suggestCharts', [key], {});\n",
              "      } catch (error) {\n",
              "        console.error('Error during call to suggestCharts:', error);\n",
              "      }\n",
              "      quickchartButtonEl.classList.remove('colab-df-spinner');\n",
              "      quickchartButtonEl.classList.add('colab-df-quickchart-complete');\n",
              "    }\n",
              "    (() => {\n",
              "      let quickchartButtonEl =\n",
              "        document.querySelector('#df-77b360b2-5e87-4fb1-a612-0b7e8dd70d81 button');\n",
              "      quickchartButtonEl.style.display =\n",
              "        google.colab.kernel.accessAllowed ? 'block' : 'none';\n",
              "    })();\n",
              "  </script>\n",
              "</div>\n",
              "    </div>\n",
              "  </div>\n"
            ]
          },
          "metadata": {},
          "execution_count": 35
        }
      ]
    },
    {
      "cell_type": "markdown",
      "metadata": {
        "id": "oBdO6LN9iRUR"
      },
      "source": [
        "### Fix the categories in the categorical variable"
      ]
    },
    {
      "cell_type": "code",
      "metadata": {
        "id": "QP1rz5vdiRUT"
      },
      "source": [
        "d = {'<1H OCEAN':'LESS_1H_OCEAN', 'INLAND':'INLAND', 'ISLAND':'ISLAND', 'NEAR BAY':'NEAR_BAY', 'NEAR OCEAN':'NEAR_OCEAN'}\n",
        "housing['ocean_proximity'] = housing['ocean_proximity'].map(lambda s: d[s])"
      ],
      "execution_count": 36,
      "outputs": []
    },
    {
      "cell_type": "markdown",
      "metadata": {
        "id": "T1vigA-tiRUd"
      },
      "source": [
        "### Add 2 more features"
      ]
    },
    {
      "cell_type": "code",
      "metadata": {
        "id": "tk9As7N6iRUf"
      },
      "source": [
        "housing[\"rooms_per_household\"] = housing[\"total_rooms\"]/housing[\"households\"]\n",
        "housing[\"population_per_household\"]=housing[\"population\"]/housing[\"households\"]"
      ],
      "execution_count": 37,
      "outputs": []
    },
    {
      "cell_type": "markdown",
      "metadata": {
        "id": "kHly0yl6iRUw"
      },
      "source": [
        "### Fix missing data"
      ]
    },
    {
      "cell_type": "code",
      "metadata": {
        "id": "MLi0kIKXiRUz"
      },
      "source": [
        "median = housing[\"total_bedrooms\"].median()\n",
        "housing[\"total_bedrooms\"].fillna(median, inplace=True)"
      ],
      "execution_count": 38,
      "outputs": []
    },
    {
      "cell_type": "markdown",
      "metadata": {
        "id": "QlOmX2Y8iRVA"
      },
      "source": [
        "### Create dummy variables based on the categorical variable"
      ]
    },
    {
      "cell_type": "code",
      "metadata": {
        "id": "MVAmQWm4iRVC"
      },
      "source": [
        "one_hot = pd.get_dummies(housing['ocean_proximity'])\n",
        "housing = housing.drop('ocean_proximity', axis=1)\n",
        "housing = housing.join(one_hot)"
      ],
      "execution_count": 39,
      "outputs": []
    },
    {
      "cell_type": "code",
      "metadata": {
        "colab": {
          "base_uri": "https://localhost:8080/",
          "height": 226
        },
        "id": "qU4BMwO7O5AQ",
        "outputId": "7729ed97-31a2-4c02-ff7d-3eec7ec5007f"
      },
      "source": [
        "housing.head(5)"
      ],
      "execution_count": 40,
      "outputs": [
        {
          "output_type": "execute_result",
          "data": {
            "text/plain": [
              "   longitude  latitude  housing_median_age  total_rooms  total_bedrooms  \\\n",
              "0    -122.23     37.88                41.0        880.0           129.0   \n",
              "1    -122.22     37.86                21.0       7099.0          1106.0   \n",
              "2    -122.24     37.85                52.0       1467.0           190.0   \n",
              "3    -122.25     37.85                52.0       1274.0           235.0   \n",
              "4    -122.25     37.85                52.0       1627.0           280.0   \n",
              "\n",
              "   population  households  median_income  median_house_value  \\\n",
              "0       322.0       126.0         8.3252            452600.0   \n",
              "1      2401.0      1138.0         8.3014            358500.0   \n",
              "2       496.0       177.0         7.2574            352100.0   \n",
              "3       558.0       219.0         5.6431            341300.0   \n",
              "4       565.0       259.0         3.8462            342200.0   \n",
              "\n",
              "   rooms_per_household  population_per_household  INLAND  ISLAND  \\\n",
              "0             6.984127                  2.555556       0       0   \n",
              "1             6.238137                  2.109842       0       0   \n",
              "2             8.288136                  2.802260       0       0   \n",
              "3             5.817352                  2.547945       0       0   \n",
              "4             6.281853                  2.181467       0       0   \n",
              "\n",
              "   LESS_1H_OCEAN  NEAR_BAY  NEAR_OCEAN  \n",
              "0              0         1           0  \n",
              "1              0         1           0  \n",
              "2              0         1           0  \n",
              "3              0         1           0  \n",
              "4              0         1           0  "
            ],
            "text/html": [
              "\n",
              "  <div id=\"df-f88ea6fb-e803-4822-bda5-20abd283931a\" class=\"colab-df-container\">\n",
              "    <div>\n",
              "<style scoped>\n",
              "    .dataframe tbody tr th:only-of-type {\n",
              "        vertical-align: middle;\n",
              "    }\n",
              "\n",
              "    .dataframe tbody tr th {\n",
              "        vertical-align: top;\n",
              "    }\n",
              "\n",
              "    .dataframe thead th {\n",
              "        text-align: right;\n",
              "    }\n",
              "</style>\n",
              "<table border=\"1\" class=\"dataframe\">\n",
              "  <thead>\n",
              "    <tr style=\"text-align: right;\">\n",
              "      <th></th>\n",
              "      <th>longitude</th>\n",
              "      <th>latitude</th>\n",
              "      <th>housing_median_age</th>\n",
              "      <th>total_rooms</th>\n",
              "      <th>total_bedrooms</th>\n",
              "      <th>population</th>\n",
              "      <th>households</th>\n",
              "      <th>median_income</th>\n",
              "      <th>median_house_value</th>\n",
              "      <th>rooms_per_household</th>\n",
              "      <th>population_per_household</th>\n",
              "      <th>INLAND</th>\n",
              "      <th>ISLAND</th>\n",
              "      <th>LESS_1H_OCEAN</th>\n",
              "      <th>NEAR_BAY</th>\n",
              "      <th>NEAR_OCEAN</th>\n",
              "    </tr>\n",
              "  </thead>\n",
              "  <tbody>\n",
              "    <tr>\n",
              "      <th>0</th>\n",
              "      <td>-122.23</td>\n",
              "      <td>37.88</td>\n",
              "      <td>41.0</td>\n",
              "      <td>880.0</td>\n",
              "      <td>129.0</td>\n",
              "      <td>322.0</td>\n",
              "      <td>126.0</td>\n",
              "      <td>8.3252</td>\n",
              "      <td>452600.0</td>\n",
              "      <td>6.984127</td>\n",
              "      <td>2.555556</td>\n",
              "      <td>0</td>\n",
              "      <td>0</td>\n",
              "      <td>0</td>\n",
              "      <td>1</td>\n",
              "      <td>0</td>\n",
              "    </tr>\n",
              "    <tr>\n",
              "      <th>1</th>\n",
              "      <td>-122.22</td>\n",
              "      <td>37.86</td>\n",
              "      <td>21.0</td>\n",
              "      <td>7099.0</td>\n",
              "      <td>1106.0</td>\n",
              "      <td>2401.0</td>\n",
              "      <td>1138.0</td>\n",
              "      <td>8.3014</td>\n",
              "      <td>358500.0</td>\n",
              "      <td>6.238137</td>\n",
              "      <td>2.109842</td>\n",
              "      <td>0</td>\n",
              "      <td>0</td>\n",
              "      <td>0</td>\n",
              "      <td>1</td>\n",
              "      <td>0</td>\n",
              "    </tr>\n",
              "    <tr>\n",
              "      <th>2</th>\n",
              "      <td>-122.24</td>\n",
              "      <td>37.85</td>\n",
              "      <td>52.0</td>\n",
              "      <td>1467.0</td>\n",
              "      <td>190.0</td>\n",
              "      <td>496.0</td>\n",
              "      <td>177.0</td>\n",
              "      <td>7.2574</td>\n",
              "      <td>352100.0</td>\n",
              "      <td>8.288136</td>\n",
              "      <td>2.802260</td>\n",
              "      <td>0</td>\n",
              "      <td>0</td>\n",
              "      <td>0</td>\n",
              "      <td>1</td>\n",
              "      <td>0</td>\n",
              "    </tr>\n",
              "    <tr>\n",
              "      <th>3</th>\n",
              "      <td>-122.25</td>\n",
              "      <td>37.85</td>\n",
              "      <td>52.0</td>\n",
              "      <td>1274.0</td>\n",
              "      <td>235.0</td>\n",
              "      <td>558.0</td>\n",
              "      <td>219.0</td>\n",
              "      <td>5.6431</td>\n",
              "      <td>341300.0</td>\n",
              "      <td>5.817352</td>\n",
              "      <td>2.547945</td>\n",
              "      <td>0</td>\n",
              "      <td>0</td>\n",
              "      <td>0</td>\n",
              "      <td>1</td>\n",
              "      <td>0</td>\n",
              "    </tr>\n",
              "    <tr>\n",
              "      <th>4</th>\n",
              "      <td>-122.25</td>\n",
              "      <td>37.85</td>\n",
              "      <td>52.0</td>\n",
              "      <td>1627.0</td>\n",
              "      <td>280.0</td>\n",
              "      <td>565.0</td>\n",
              "      <td>259.0</td>\n",
              "      <td>3.8462</td>\n",
              "      <td>342200.0</td>\n",
              "      <td>6.281853</td>\n",
              "      <td>2.181467</td>\n",
              "      <td>0</td>\n",
              "      <td>0</td>\n",
              "      <td>0</td>\n",
              "      <td>1</td>\n",
              "      <td>0</td>\n",
              "    </tr>\n",
              "  </tbody>\n",
              "</table>\n",
              "</div>\n",
              "    <div class=\"colab-df-buttons\">\n",
              "\n",
              "  <div class=\"colab-df-container\">\n",
              "    <button class=\"colab-df-convert\" onclick=\"convertToInteractive('df-f88ea6fb-e803-4822-bda5-20abd283931a')\"\n",
              "            title=\"Convert this dataframe to an interactive table.\"\n",
              "            style=\"display:none;\">\n",
              "\n",
              "  <svg xmlns=\"http://www.w3.org/2000/svg\" height=\"24px\" viewBox=\"0 -960 960 960\">\n",
              "    <path d=\"M120-120v-720h720v720H120Zm60-500h600v-160H180v160Zm220 220h160v-160H400v160Zm0 220h160v-160H400v160ZM180-400h160v-160H180v160Zm440 0h160v-160H620v160ZM180-180h160v-160H180v160Zm440 0h160v-160H620v160Z\"/>\n",
              "  </svg>\n",
              "    </button>\n",
              "\n",
              "  <style>\n",
              "    .colab-df-container {\n",
              "      display:flex;\n",
              "      gap: 12px;\n",
              "    }\n",
              "\n",
              "    .colab-df-convert {\n",
              "      background-color: #E8F0FE;\n",
              "      border: none;\n",
              "      border-radius: 50%;\n",
              "      cursor: pointer;\n",
              "      display: none;\n",
              "      fill: #1967D2;\n",
              "      height: 32px;\n",
              "      padding: 0 0 0 0;\n",
              "      width: 32px;\n",
              "    }\n",
              "\n",
              "    .colab-df-convert:hover {\n",
              "      background-color: #E2EBFA;\n",
              "      box-shadow: 0px 1px 2px rgba(60, 64, 67, 0.3), 0px 1px 3px 1px rgba(60, 64, 67, 0.15);\n",
              "      fill: #174EA6;\n",
              "    }\n",
              "\n",
              "    .colab-df-buttons div {\n",
              "      margin-bottom: 4px;\n",
              "    }\n",
              "\n",
              "    [theme=dark] .colab-df-convert {\n",
              "      background-color: #3B4455;\n",
              "      fill: #D2E3FC;\n",
              "    }\n",
              "\n",
              "    [theme=dark] .colab-df-convert:hover {\n",
              "      background-color: #434B5C;\n",
              "      box-shadow: 0px 1px 3px 1px rgba(0, 0, 0, 0.15);\n",
              "      filter: drop-shadow(0px 1px 2px rgba(0, 0, 0, 0.3));\n",
              "      fill: #FFFFFF;\n",
              "    }\n",
              "  </style>\n",
              "\n",
              "    <script>\n",
              "      const buttonEl =\n",
              "        document.querySelector('#df-f88ea6fb-e803-4822-bda5-20abd283931a button.colab-df-convert');\n",
              "      buttonEl.style.display =\n",
              "        google.colab.kernel.accessAllowed ? 'block' : 'none';\n",
              "\n",
              "      async function convertToInteractive(key) {\n",
              "        const element = document.querySelector('#df-f88ea6fb-e803-4822-bda5-20abd283931a');\n",
              "        const dataTable =\n",
              "          await google.colab.kernel.invokeFunction('convertToInteractive',\n",
              "                                                    [key], {});\n",
              "        if (!dataTable) return;\n",
              "\n",
              "        const docLinkHtml = 'Like what you see? Visit the ' +\n",
              "          '<a target=\"_blank\" href=https://colab.research.google.com/notebooks/data_table.ipynb>data table notebook</a>'\n",
              "          + ' to learn more about interactive tables.';\n",
              "        element.innerHTML = '';\n",
              "        dataTable['output_type'] = 'display_data';\n",
              "        await google.colab.output.renderOutput(dataTable, element);\n",
              "        const docLink = document.createElement('div');\n",
              "        docLink.innerHTML = docLinkHtml;\n",
              "        element.appendChild(docLink);\n",
              "      }\n",
              "    </script>\n",
              "  </div>\n",
              "\n",
              "\n",
              "<div id=\"df-2af3d43c-eaf7-4f25-9fdb-d5b945fee1c1\">\n",
              "  <button class=\"colab-df-quickchart\" onclick=\"quickchart('df-2af3d43c-eaf7-4f25-9fdb-d5b945fee1c1')\"\n",
              "            title=\"Suggest charts\"\n",
              "            style=\"display:none;\">\n",
              "\n",
              "<svg xmlns=\"http://www.w3.org/2000/svg\" height=\"24px\"viewBox=\"0 0 24 24\"\n",
              "     width=\"24px\">\n",
              "    <g>\n",
              "        <path d=\"M19 3H5c-1.1 0-2 .9-2 2v14c0 1.1.9 2 2 2h14c1.1 0 2-.9 2-2V5c0-1.1-.9-2-2-2zM9 17H7v-7h2v7zm4 0h-2V7h2v10zm4 0h-2v-4h2v4z\"/>\n",
              "    </g>\n",
              "</svg>\n",
              "  </button>\n",
              "\n",
              "<style>\n",
              "  .colab-df-quickchart {\n",
              "      --bg-color: #E8F0FE;\n",
              "      --fill-color: #1967D2;\n",
              "      --hover-bg-color: #E2EBFA;\n",
              "      --hover-fill-color: #174EA6;\n",
              "      --disabled-fill-color: #AAA;\n",
              "      --disabled-bg-color: #DDD;\n",
              "  }\n",
              "\n",
              "  [theme=dark] .colab-df-quickchart {\n",
              "      --bg-color: #3B4455;\n",
              "      --fill-color: #D2E3FC;\n",
              "      --hover-bg-color: #434B5C;\n",
              "      --hover-fill-color: #FFFFFF;\n",
              "      --disabled-bg-color: #3B4455;\n",
              "      --disabled-fill-color: #666;\n",
              "  }\n",
              "\n",
              "  .colab-df-quickchart {\n",
              "    background-color: var(--bg-color);\n",
              "    border: none;\n",
              "    border-radius: 50%;\n",
              "    cursor: pointer;\n",
              "    display: none;\n",
              "    fill: var(--fill-color);\n",
              "    height: 32px;\n",
              "    padding: 0;\n",
              "    width: 32px;\n",
              "  }\n",
              "\n",
              "  .colab-df-quickchart:hover {\n",
              "    background-color: var(--hover-bg-color);\n",
              "    box-shadow: 0 1px 2px rgba(60, 64, 67, 0.3), 0 1px 3px 1px rgba(60, 64, 67, 0.15);\n",
              "    fill: var(--button-hover-fill-color);\n",
              "  }\n",
              "\n",
              "  .colab-df-quickchart-complete:disabled,\n",
              "  .colab-df-quickchart-complete:disabled:hover {\n",
              "    background-color: var(--disabled-bg-color);\n",
              "    fill: var(--disabled-fill-color);\n",
              "    box-shadow: none;\n",
              "  }\n",
              "\n",
              "  .colab-df-spinner {\n",
              "    border: 2px solid var(--fill-color);\n",
              "    border-color: transparent;\n",
              "    border-bottom-color: var(--fill-color);\n",
              "    animation:\n",
              "      spin 1s steps(1) infinite;\n",
              "  }\n",
              "\n",
              "  @keyframes spin {\n",
              "    0% {\n",
              "      border-color: transparent;\n",
              "      border-bottom-color: var(--fill-color);\n",
              "      border-left-color: var(--fill-color);\n",
              "    }\n",
              "    20% {\n",
              "      border-color: transparent;\n",
              "      border-left-color: var(--fill-color);\n",
              "      border-top-color: var(--fill-color);\n",
              "    }\n",
              "    30% {\n",
              "      border-color: transparent;\n",
              "      border-left-color: var(--fill-color);\n",
              "      border-top-color: var(--fill-color);\n",
              "      border-right-color: var(--fill-color);\n",
              "    }\n",
              "    40% {\n",
              "      border-color: transparent;\n",
              "      border-right-color: var(--fill-color);\n",
              "      border-top-color: var(--fill-color);\n",
              "    }\n",
              "    60% {\n",
              "      border-color: transparent;\n",
              "      border-right-color: var(--fill-color);\n",
              "    }\n",
              "    80% {\n",
              "      border-color: transparent;\n",
              "      border-right-color: var(--fill-color);\n",
              "      border-bottom-color: var(--fill-color);\n",
              "    }\n",
              "    90% {\n",
              "      border-color: transparent;\n",
              "      border-bottom-color: var(--fill-color);\n",
              "    }\n",
              "  }\n",
              "</style>\n",
              "\n",
              "  <script>\n",
              "    async function quickchart(key) {\n",
              "      const quickchartButtonEl =\n",
              "        document.querySelector('#' + key + ' button');\n",
              "      quickchartButtonEl.disabled = true;  // To prevent multiple clicks.\n",
              "      quickchartButtonEl.classList.add('colab-df-spinner');\n",
              "      try {\n",
              "        const charts = await google.colab.kernel.invokeFunction(\n",
              "            'suggestCharts', [key], {});\n",
              "      } catch (error) {\n",
              "        console.error('Error during call to suggestCharts:', error);\n",
              "      }\n",
              "      quickchartButtonEl.classList.remove('colab-df-spinner');\n",
              "      quickchartButtonEl.classList.add('colab-df-quickchart-complete');\n",
              "    }\n",
              "    (() => {\n",
              "      let quickchartButtonEl =\n",
              "        document.querySelector('#df-2af3d43c-eaf7-4f25-9fdb-d5b945fee1c1 button');\n",
              "      quickchartButtonEl.style.display =\n",
              "        google.colab.kernel.accessAllowed ? 'block' : 'none';\n",
              "    })();\n",
              "  </script>\n",
              "</div>\n",
              "    </div>\n",
              "  </div>\n"
            ]
          },
          "metadata": {},
          "execution_count": 40
        }
      ]
    },
    {
      "cell_type": "markdown",
      "metadata": {
        "id": "bAKJCaHyiRVN"
      },
      "source": [
        "### Check the data"
      ]
    },
    {
      "cell_type": "code",
      "metadata": {
        "id": "59VM1sMdiRVP",
        "colab": {
          "base_uri": "https://localhost:8080/"
        },
        "outputId": "bd1bfac0-b98d-497d-c5e9-c3a3cce22895"
      },
      "source": [
        "housing.info()"
      ],
      "execution_count": 41,
      "outputs": [
        {
          "output_type": "stream",
          "name": "stdout",
          "text": [
            "<class 'pandas.core.frame.DataFrame'>\n",
            "RangeIndex: 20640 entries, 0 to 20639\n",
            "Data columns (total 16 columns):\n",
            " #   Column                    Non-Null Count  Dtype  \n",
            "---  ------                    --------------  -----  \n",
            " 0   longitude                 20640 non-null  float64\n",
            " 1   latitude                  20640 non-null  float64\n",
            " 2   housing_median_age        20640 non-null  float64\n",
            " 3   total_rooms               20640 non-null  float64\n",
            " 4   total_bedrooms            20640 non-null  float64\n",
            " 5   population                20640 non-null  float64\n",
            " 6   households                20640 non-null  float64\n",
            " 7   median_income             20640 non-null  float64\n",
            " 8   median_house_value        20640 non-null  float64\n",
            " 9   rooms_per_household       20640 non-null  float64\n",
            " 10  population_per_household  20640 non-null  float64\n",
            " 11  INLAND                    20640 non-null  uint8  \n",
            " 12  ISLAND                    20640 non-null  uint8  \n",
            " 13  LESS_1H_OCEAN             20640 non-null  uint8  \n",
            " 14  NEAR_BAY                  20640 non-null  uint8  \n",
            " 15  NEAR_OCEAN                20640 non-null  uint8  \n",
            "dtypes: float64(11), uint8(5)\n",
            "memory usage: 1.8 MB\n"
          ]
        }
      ]
    },
    {
      "cell_type": "markdown",
      "metadata": {
        "id": "OLGKlJafiRVc"
      },
      "source": [
        "# ASSIGNMENT"
      ]
    },
    {
      "cell_type": "markdown",
      "metadata": {
        "id": "p1RYtir9iRVf"
      },
      "source": [
        "### 1. Partition into train and test\n",
        "\n",
        "Use train_test_split from sklearn.model_selection to partition the dataset into 70% for training and 30% for testing.\n",
        "\n",
        "You can use the 70% for training set as both training and validation by using cross-validation.\n"
      ]
    },
    {
      "cell_type": "code",
      "metadata": {
        "id": "NE8W86ifiRVi"
      },
      "source": [
        "from sklearn.model_selection import train_test_split\n",
        "train_set, test_set = train_test_split(housing, test_size=0.3, random_state=42)"
      ],
      "execution_count": 42,
      "outputs": []
    },
    {
      "cell_type": "markdown",
      "metadata": {
        "id": "ZcOtL9fviRVw"
      },
      "source": [
        "### Features"
      ]
    },
    {
      "cell_type": "code",
      "metadata": {
        "id": "_ZhPrySHiRVy"
      },
      "source": [
        "target = 'median_house_value'\n",
        "features = list(train_set.columns)\n",
        "features = [f for f in features if f!=target]"
      ],
      "execution_count": 43,
      "outputs": []
    },
    {
      "cell_type": "code",
      "metadata": {
        "id": "dsX3EemdiRV_"
      },
      "source": [
        "X_tr = train_set[features]\n",
        "y_tr = train_set[[target]]\n",
        "\n",
        "X_te = test_set[features]\n",
        "y_te = test_set[[target]]"
      ],
      "execution_count": 44,
      "outputs": []
    },
    {
      "cell_type": "code",
      "metadata": {
        "colab": {
          "base_uri": "https://localhost:8080/"
        },
        "id": "Pb1tSVyQ4gNB",
        "outputId": "5994bd8c-1932-4f74-9c92-82ea918bc047"
      },
      "source": [
        "X_tr.shape"
      ],
      "execution_count": 45,
      "outputs": [
        {
          "output_type": "execute_result",
          "data": {
            "text/plain": [
              "(14448, 15)"
            ]
          },
          "metadata": {},
          "execution_count": 45
        }
      ]
    },
    {
      "cell_type": "markdown",
      "metadata": {
        "id": "pmIr9hF2iRWI"
      },
      "source": [
        "### 2. Polynomial transformations"
      ]
    },
    {
      "cell_type": "markdown",
      "metadata": {
        "id": "JC1cEGxeiRWL"
      },
      "source": [
        "Use PolynomialFeatures from sklearn.preprocessing"
      ]
    },
    {
      "cell_type": "code",
      "metadata": {
        "id": "D5qESv1HiRWN"
      },
      "source": [
        "from sklearn.preprocessing import PolynomialFeatures\n",
        "poly = PolynomialFeatures(2)\n",
        "poly.fit(X_tr)\n",
        "X_tr = poly.fit_transform(X_tr)\n",
        "X_te = poly.transform(X_te)"
      ],
      "execution_count": 46,
      "outputs": []
    },
    {
      "cell_type": "markdown",
      "metadata": {
        "id": "3WZJ011YiRWX"
      },
      "source": [
        "##### You should obtain X_tr and X_te with 136 columns each, since originally you had 15 features.\n",
        "\n",
        "##### With m original features, the new added polynomial features of degree 2 are: $(m^2-m)/2+m+1$. Why?\n",
        "\n",
        "##### These, plus the original features gives a total of  $(m^2-m)/2+2m+1$"
      ]
    },
    {
      "cell_type": "code",
      "metadata": {
        "id": "JvWp9LgHiRWZ",
        "colab": {
          "base_uri": "https://localhost:8080/"
        },
        "outputId": "bfeeea3b-519f-41b0-afc6-aa907c32a0df"
      },
      "source": [
        "print(\"Original number of features: \"+str(len(features)))\n",
        "print(\"Final number of features: \"+str(X_tr.shape[1]))"
      ],
      "execution_count": 47,
      "outputs": [
        {
          "output_type": "stream",
          "name": "stdout",
          "text": [
            "Original number of features: 15\n",
            "Final number of features: 136\n"
          ]
        }
      ]
    },
    {
      "cell_type": "code",
      "metadata": {
        "id": "D2ti9g6yI2vr",
        "colab": {
          "base_uri": "https://localhost:8080/",
          "height": 255
        },
        "outputId": "251056f0-86c6-4886-95c8-1f96d65cf2f9"
      },
      "source": [
        "X_tr = pd.DataFrame(X_tr)\n",
        "X_tr.head(5) # Check for Column 0 - having all 1's"
      ],
      "execution_count": 48,
      "outputs": [
        {
          "output_type": "execute_result",
          "data": {
            "text/plain": [
              "   0       1      2     3       4      5       6      7       8         9    \\\n",
              "0  1.0 -118.02  33.93  35.0  2400.0  398.0  1218.0  408.0  4.1312  5.882353   \n",
              "1  1.0 -117.09  32.79  20.0  2183.0  534.0   999.0  496.0  2.8631  4.401210   \n",
              "2  1.0 -120.14  34.59  24.0  1601.0  282.0   731.0  285.0  4.2026  5.617544   \n",
              "3  1.0 -121.00  39.26  14.0   810.0  151.0   302.0  138.0  3.1094  5.869565   \n",
              "4  1.0 -122.45  37.77  52.0  3188.0  708.0  1526.0  664.0  3.3068  4.801205   \n",
              "\n",
              "   ...  126  127  128  129  130  131  132  133  134  135  \n",
              "0  ...  0.0  0.0  0.0  0.0  1.0  0.0  0.0  0.0  0.0  0.0  \n",
              "1  ...  0.0  0.0  0.0  0.0  0.0  0.0  0.0  0.0  0.0  1.0  \n",
              "2  ...  0.0  0.0  0.0  0.0  0.0  0.0  0.0  0.0  0.0  1.0  \n",
              "3  ...  0.0  0.0  0.0  0.0  0.0  0.0  0.0  0.0  0.0  0.0  \n",
              "4  ...  0.0  0.0  0.0  0.0  0.0  0.0  0.0  1.0  0.0  0.0  \n",
              "\n",
              "[5 rows x 136 columns]"
            ],
            "text/html": [
              "\n",
              "  <div id=\"df-463d2c4b-a627-4326-b5ec-fab805ace1d3\" class=\"colab-df-container\">\n",
              "    <div>\n",
              "<style scoped>\n",
              "    .dataframe tbody tr th:only-of-type {\n",
              "        vertical-align: middle;\n",
              "    }\n",
              "\n",
              "    .dataframe tbody tr th {\n",
              "        vertical-align: top;\n",
              "    }\n",
              "\n",
              "    .dataframe thead th {\n",
              "        text-align: right;\n",
              "    }\n",
              "</style>\n",
              "<table border=\"1\" class=\"dataframe\">\n",
              "  <thead>\n",
              "    <tr style=\"text-align: right;\">\n",
              "      <th></th>\n",
              "      <th>0</th>\n",
              "      <th>1</th>\n",
              "      <th>2</th>\n",
              "      <th>3</th>\n",
              "      <th>4</th>\n",
              "      <th>5</th>\n",
              "      <th>6</th>\n",
              "      <th>7</th>\n",
              "      <th>8</th>\n",
              "      <th>9</th>\n",
              "      <th>...</th>\n",
              "      <th>126</th>\n",
              "      <th>127</th>\n",
              "      <th>128</th>\n",
              "      <th>129</th>\n",
              "      <th>130</th>\n",
              "      <th>131</th>\n",
              "      <th>132</th>\n",
              "      <th>133</th>\n",
              "      <th>134</th>\n",
              "      <th>135</th>\n",
              "    </tr>\n",
              "  </thead>\n",
              "  <tbody>\n",
              "    <tr>\n",
              "      <th>0</th>\n",
              "      <td>1.0</td>\n",
              "      <td>-118.02</td>\n",
              "      <td>33.93</td>\n",
              "      <td>35.0</td>\n",
              "      <td>2400.0</td>\n",
              "      <td>398.0</td>\n",
              "      <td>1218.0</td>\n",
              "      <td>408.0</td>\n",
              "      <td>4.1312</td>\n",
              "      <td>5.882353</td>\n",
              "      <td>...</td>\n",
              "      <td>0.0</td>\n",
              "      <td>0.0</td>\n",
              "      <td>0.0</td>\n",
              "      <td>0.0</td>\n",
              "      <td>1.0</td>\n",
              "      <td>0.0</td>\n",
              "      <td>0.0</td>\n",
              "      <td>0.0</td>\n",
              "      <td>0.0</td>\n",
              "      <td>0.0</td>\n",
              "    </tr>\n",
              "    <tr>\n",
              "      <th>1</th>\n",
              "      <td>1.0</td>\n",
              "      <td>-117.09</td>\n",
              "      <td>32.79</td>\n",
              "      <td>20.0</td>\n",
              "      <td>2183.0</td>\n",
              "      <td>534.0</td>\n",
              "      <td>999.0</td>\n",
              "      <td>496.0</td>\n",
              "      <td>2.8631</td>\n",
              "      <td>4.401210</td>\n",
              "      <td>...</td>\n",
              "      <td>0.0</td>\n",
              "      <td>0.0</td>\n",
              "      <td>0.0</td>\n",
              "      <td>0.0</td>\n",
              "      <td>0.0</td>\n",
              "      <td>0.0</td>\n",
              "      <td>0.0</td>\n",
              "      <td>0.0</td>\n",
              "      <td>0.0</td>\n",
              "      <td>1.0</td>\n",
              "    </tr>\n",
              "    <tr>\n",
              "      <th>2</th>\n",
              "      <td>1.0</td>\n",
              "      <td>-120.14</td>\n",
              "      <td>34.59</td>\n",
              "      <td>24.0</td>\n",
              "      <td>1601.0</td>\n",
              "      <td>282.0</td>\n",
              "      <td>731.0</td>\n",
              "      <td>285.0</td>\n",
              "      <td>4.2026</td>\n",
              "      <td>5.617544</td>\n",
              "      <td>...</td>\n",
              "      <td>0.0</td>\n",
              "      <td>0.0</td>\n",
              "      <td>0.0</td>\n",
              "      <td>0.0</td>\n",
              "      <td>0.0</td>\n",
              "      <td>0.0</td>\n",
              "      <td>0.0</td>\n",
              "      <td>0.0</td>\n",
              "      <td>0.0</td>\n",
              "      <td>1.0</td>\n",
              "    </tr>\n",
              "    <tr>\n",
              "      <th>3</th>\n",
              "      <td>1.0</td>\n",
              "      <td>-121.00</td>\n",
              "      <td>39.26</td>\n",
              "      <td>14.0</td>\n",
              "      <td>810.0</td>\n",
              "      <td>151.0</td>\n",
              "      <td>302.0</td>\n",
              "      <td>138.0</td>\n",
              "      <td>3.1094</td>\n",
              "      <td>5.869565</td>\n",
              "      <td>...</td>\n",
              "      <td>0.0</td>\n",
              "      <td>0.0</td>\n",
              "      <td>0.0</td>\n",
              "      <td>0.0</td>\n",
              "      <td>0.0</td>\n",
              "      <td>0.0</td>\n",
              "      <td>0.0</td>\n",
              "      <td>0.0</td>\n",
              "      <td>0.0</td>\n",
              "      <td>0.0</td>\n",
              "    </tr>\n",
              "    <tr>\n",
              "      <th>4</th>\n",
              "      <td>1.0</td>\n",
              "      <td>-122.45</td>\n",
              "      <td>37.77</td>\n",
              "      <td>52.0</td>\n",
              "      <td>3188.0</td>\n",
              "      <td>708.0</td>\n",
              "      <td>1526.0</td>\n",
              "      <td>664.0</td>\n",
              "      <td>3.3068</td>\n",
              "      <td>4.801205</td>\n",
              "      <td>...</td>\n",
              "      <td>0.0</td>\n",
              "      <td>0.0</td>\n",
              "      <td>0.0</td>\n",
              "      <td>0.0</td>\n",
              "      <td>0.0</td>\n",
              "      <td>0.0</td>\n",
              "      <td>0.0</td>\n",
              "      <td>1.0</td>\n",
              "      <td>0.0</td>\n",
              "      <td>0.0</td>\n",
              "    </tr>\n",
              "  </tbody>\n",
              "</table>\n",
              "<p>5 rows × 136 columns</p>\n",
              "</div>\n",
              "    <div class=\"colab-df-buttons\">\n",
              "\n",
              "  <div class=\"colab-df-container\">\n",
              "    <button class=\"colab-df-convert\" onclick=\"convertToInteractive('df-463d2c4b-a627-4326-b5ec-fab805ace1d3')\"\n",
              "            title=\"Convert this dataframe to an interactive table.\"\n",
              "            style=\"display:none;\">\n",
              "\n",
              "  <svg xmlns=\"http://www.w3.org/2000/svg\" height=\"24px\" viewBox=\"0 -960 960 960\">\n",
              "    <path d=\"M120-120v-720h720v720H120Zm60-500h600v-160H180v160Zm220 220h160v-160H400v160Zm0 220h160v-160H400v160ZM180-400h160v-160H180v160Zm440 0h160v-160H620v160ZM180-180h160v-160H180v160Zm440 0h160v-160H620v160Z\"/>\n",
              "  </svg>\n",
              "    </button>\n",
              "\n",
              "  <style>\n",
              "    .colab-df-container {\n",
              "      display:flex;\n",
              "      gap: 12px;\n",
              "    }\n",
              "\n",
              "    .colab-df-convert {\n",
              "      background-color: #E8F0FE;\n",
              "      border: none;\n",
              "      border-radius: 50%;\n",
              "      cursor: pointer;\n",
              "      display: none;\n",
              "      fill: #1967D2;\n",
              "      height: 32px;\n",
              "      padding: 0 0 0 0;\n",
              "      width: 32px;\n",
              "    }\n",
              "\n",
              "    .colab-df-convert:hover {\n",
              "      background-color: #E2EBFA;\n",
              "      box-shadow: 0px 1px 2px rgba(60, 64, 67, 0.3), 0px 1px 3px 1px rgba(60, 64, 67, 0.15);\n",
              "      fill: #174EA6;\n",
              "    }\n",
              "\n",
              "    .colab-df-buttons div {\n",
              "      margin-bottom: 4px;\n",
              "    }\n",
              "\n",
              "    [theme=dark] .colab-df-convert {\n",
              "      background-color: #3B4455;\n",
              "      fill: #D2E3FC;\n",
              "    }\n",
              "\n",
              "    [theme=dark] .colab-df-convert:hover {\n",
              "      background-color: #434B5C;\n",
              "      box-shadow: 0px 1px 3px 1px rgba(0, 0, 0, 0.15);\n",
              "      filter: drop-shadow(0px 1px 2px rgba(0, 0, 0, 0.3));\n",
              "      fill: #FFFFFF;\n",
              "    }\n",
              "  </style>\n",
              "\n",
              "    <script>\n",
              "      const buttonEl =\n",
              "        document.querySelector('#df-463d2c4b-a627-4326-b5ec-fab805ace1d3 button.colab-df-convert');\n",
              "      buttonEl.style.display =\n",
              "        google.colab.kernel.accessAllowed ? 'block' : 'none';\n",
              "\n",
              "      async function convertToInteractive(key) {\n",
              "        const element = document.querySelector('#df-463d2c4b-a627-4326-b5ec-fab805ace1d3');\n",
              "        const dataTable =\n",
              "          await google.colab.kernel.invokeFunction('convertToInteractive',\n",
              "                                                    [key], {});\n",
              "        if (!dataTable) return;\n",
              "\n",
              "        const docLinkHtml = 'Like what you see? Visit the ' +\n",
              "          '<a target=\"_blank\" href=https://colab.research.google.com/notebooks/data_table.ipynb>data table notebook</a>'\n",
              "          + ' to learn more about interactive tables.';\n",
              "        element.innerHTML = '';\n",
              "        dataTable['output_type'] = 'display_data';\n",
              "        await google.colab.output.renderOutput(dataTable, element);\n",
              "        const docLink = document.createElement('div');\n",
              "        docLink.innerHTML = docLinkHtml;\n",
              "        element.appendChild(docLink);\n",
              "      }\n",
              "    </script>\n",
              "  </div>\n",
              "\n",
              "\n",
              "<div id=\"df-08cd9fa3-f166-4b1c-a45d-cf72007fe429\">\n",
              "  <button class=\"colab-df-quickchart\" onclick=\"quickchart('df-08cd9fa3-f166-4b1c-a45d-cf72007fe429')\"\n",
              "            title=\"Suggest charts\"\n",
              "            style=\"display:none;\">\n",
              "\n",
              "<svg xmlns=\"http://www.w3.org/2000/svg\" height=\"24px\"viewBox=\"0 0 24 24\"\n",
              "     width=\"24px\">\n",
              "    <g>\n",
              "        <path d=\"M19 3H5c-1.1 0-2 .9-2 2v14c0 1.1.9 2 2 2h14c1.1 0 2-.9 2-2V5c0-1.1-.9-2-2-2zM9 17H7v-7h2v7zm4 0h-2V7h2v10zm4 0h-2v-4h2v4z\"/>\n",
              "    </g>\n",
              "</svg>\n",
              "  </button>\n",
              "\n",
              "<style>\n",
              "  .colab-df-quickchart {\n",
              "      --bg-color: #E8F0FE;\n",
              "      --fill-color: #1967D2;\n",
              "      --hover-bg-color: #E2EBFA;\n",
              "      --hover-fill-color: #174EA6;\n",
              "      --disabled-fill-color: #AAA;\n",
              "      --disabled-bg-color: #DDD;\n",
              "  }\n",
              "\n",
              "  [theme=dark] .colab-df-quickchart {\n",
              "      --bg-color: #3B4455;\n",
              "      --fill-color: #D2E3FC;\n",
              "      --hover-bg-color: #434B5C;\n",
              "      --hover-fill-color: #FFFFFF;\n",
              "      --disabled-bg-color: #3B4455;\n",
              "      --disabled-fill-color: #666;\n",
              "  }\n",
              "\n",
              "  .colab-df-quickchart {\n",
              "    background-color: var(--bg-color);\n",
              "    border: none;\n",
              "    border-radius: 50%;\n",
              "    cursor: pointer;\n",
              "    display: none;\n",
              "    fill: var(--fill-color);\n",
              "    height: 32px;\n",
              "    padding: 0;\n",
              "    width: 32px;\n",
              "  }\n",
              "\n",
              "  .colab-df-quickchart:hover {\n",
              "    background-color: var(--hover-bg-color);\n",
              "    box-shadow: 0 1px 2px rgba(60, 64, 67, 0.3), 0 1px 3px 1px rgba(60, 64, 67, 0.15);\n",
              "    fill: var(--button-hover-fill-color);\n",
              "  }\n",
              "\n",
              "  .colab-df-quickchart-complete:disabled,\n",
              "  .colab-df-quickchart-complete:disabled:hover {\n",
              "    background-color: var(--disabled-bg-color);\n",
              "    fill: var(--disabled-fill-color);\n",
              "    box-shadow: none;\n",
              "  }\n",
              "\n",
              "  .colab-df-spinner {\n",
              "    border: 2px solid var(--fill-color);\n",
              "    border-color: transparent;\n",
              "    border-bottom-color: var(--fill-color);\n",
              "    animation:\n",
              "      spin 1s steps(1) infinite;\n",
              "  }\n",
              "\n",
              "  @keyframes spin {\n",
              "    0% {\n",
              "      border-color: transparent;\n",
              "      border-bottom-color: var(--fill-color);\n",
              "      border-left-color: var(--fill-color);\n",
              "    }\n",
              "    20% {\n",
              "      border-color: transparent;\n",
              "      border-left-color: var(--fill-color);\n",
              "      border-top-color: var(--fill-color);\n",
              "    }\n",
              "    30% {\n",
              "      border-color: transparent;\n",
              "      border-left-color: var(--fill-color);\n",
              "      border-top-color: var(--fill-color);\n",
              "      border-right-color: var(--fill-color);\n",
              "    }\n",
              "    40% {\n",
              "      border-color: transparent;\n",
              "      border-right-color: var(--fill-color);\n",
              "      border-top-color: var(--fill-color);\n",
              "    }\n",
              "    60% {\n",
              "      border-color: transparent;\n",
              "      border-right-color: var(--fill-color);\n",
              "    }\n",
              "    80% {\n",
              "      border-color: transparent;\n",
              "      border-right-color: var(--fill-color);\n",
              "      border-bottom-color: var(--fill-color);\n",
              "    }\n",
              "    90% {\n",
              "      border-color: transparent;\n",
              "      border-bottom-color: var(--fill-color);\n",
              "    }\n",
              "  }\n",
              "</style>\n",
              "\n",
              "  <script>\n",
              "    async function quickchart(key) {\n",
              "      const quickchartButtonEl =\n",
              "        document.querySelector('#' + key + ' button');\n",
              "      quickchartButtonEl.disabled = true;  // To prevent multiple clicks.\n",
              "      quickchartButtonEl.classList.add('colab-df-spinner');\n",
              "      try {\n",
              "        const charts = await google.colab.kernel.invokeFunction(\n",
              "            'suggestCharts', [key], {});\n",
              "      } catch (error) {\n",
              "        console.error('Error during call to suggestCharts:', error);\n",
              "      }\n",
              "      quickchartButtonEl.classList.remove('colab-df-spinner');\n",
              "      quickchartButtonEl.classList.add('colab-df-quickchart-complete');\n",
              "    }\n",
              "    (() => {\n",
              "      let quickchartButtonEl =\n",
              "        document.querySelector('#df-08cd9fa3-f166-4b1c-a45d-cf72007fe429 button');\n",
              "      quickchartButtonEl.style.display =\n",
              "        google.colab.kernel.accessAllowed ? 'block' : 'none';\n",
              "    })();\n",
              "  </script>\n",
              "</div>\n",
              "    </div>\n",
              "  </div>\n"
            ]
          },
          "metadata": {},
          "execution_count": 48
        }
      ]
    },
    {
      "cell_type": "code",
      "metadata": {
        "id": "8nMkOqJ4iRWi"
      },
      "source": [
        "import numpy as np\n",
        "array_of_features = np.array(features)\n",
        "feature_names_transformed = poly.get_feature_names_out(array_of_features).tolist()"
      ],
      "execution_count": 54,
      "outputs": []
    },
    {
      "cell_type": "code",
      "metadata": {
        "id": "Kp72oZaKLbRH",
        "colab": {
          "base_uri": "https://localhost:8080/"
        },
        "outputId": "1fcc12f9-9e9e-4a35-bf4c-258f71eae2f3"
      },
      "source": [
        "feature_names_transformed"
      ],
      "execution_count": 55,
      "outputs": [
        {
          "output_type": "execute_result",
          "data": {
            "text/plain": [
              "['1',\n",
              " 'longitude',\n",
              " 'latitude',\n",
              " 'housing_median_age',\n",
              " 'total_rooms',\n",
              " 'total_bedrooms',\n",
              " 'population',\n",
              " 'households',\n",
              " 'median_income',\n",
              " 'rooms_per_household',\n",
              " 'population_per_household',\n",
              " 'INLAND',\n",
              " 'ISLAND',\n",
              " 'LESS_1H_OCEAN',\n",
              " 'NEAR_BAY',\n",
              " 'NEAR_OCEAN',\n",
              " 'longitude^2',\n",
              " 'longitude latitude',\n",
              " 'longitude housing_median_age',\n",
              " 'longitude total_rooms',\n",
              " 'longitude total_bedrooms',\n",
              " 'longitude population',\n",
              " 'longitude households',\n",
              " 'longitude median_income',\n",
              " 'longitude rooms_per_household',\n",
              " 'longitude population_per_household',\n",
              " 'longitude INLAND',\n",
              " 'longitude ISLAND',\n",
              " 'longitude LESS_1H_OCEAN',\n",
              " 'longitude NEAR_BAY',\n",
              " 'longitude NEAR_OCEAN',\n",
              " 'latitude^2',\n",
              " 'latitude housing_median_age',\n",
              " 'latitude total_rooms',\n",
              " 'latitude total_bedrooms',\n",
              " 'latitude population',\n",
              " 'latitude households',\n",
              " 'latitude median_income',\n",
              " 'latitude rooms_per_household',\n",
              " 'latitude population_per_household',\n",
              " 'latitude INLAND',\n",
              " 'latitude ISLAND',\n",
              " 'latitude LESS_1H_OCEAN',\n",
              " 'latitude NEAR_BAY',\n",
              " 'latitude NEAR_OCEAN',\n",
              " 'housing_median_age^2',\n",
              " 'housing_median_age total_rooms',\n",
              " 'housing_median_age total_bedrooms',\n",
              " 'housing_median_age population',\n",
              " 'housing_median_age households',\n",
              " 'housing_median_age median_income',\n",
              " 'housing_median_age rooms_per_household',\n",
              " 'housing_median_age population_per_household',\n",
              " 'housing_median_age INLAND',\n",
              " 'housing_median_age ISLAND',\n",
              " 'housing_median_age LESS_1H_OCEAN',\n",
              " 'housing_median_age NEAR_BAY',\n",
              " 'housing_median_age NEAR_OCEAN',\n",
              " 'total_rooms^2',\n",
              " 'total_rooms total_bedrooms',\n",
              " 'total_rooms population',\n",
              " 'total_rooms households',\n",
              " 'total_rooms median_income',\n",
              " 'total_rooms rooms_per_household',\n",
              " 'total_rooms population_per_household',\n",
              " 'total_rooms INLAND',\n",
              " 'total_rooms ISLAND',\n",
              " 'total_rooms LESS_1H_OCEAN',\n",
              " 'total_rooms NEAR_BAY',\n",
              " 'total_rooms NEAR_OCEAN',\n",
              " 'total_bedrooms^2',\n",
              " 'total_bedrooms population',\n",
              " 'total_bedrooms households',\n",
              " 'total_bedrooms median_income',\n",
              " 'total_bedrooms rooms_per_household',\n",
              " 'total_bedrooms population_per_household',\n",
              " 'total_bedrooms INLAND',\n",
              " 'total_bedrooms ISLAND',\n",
              " 'total_bedrooms LESS_1H_OCEAN',\n",
              " 'total_bedrooms NEAR_BAY',\n",
              " 'total_bedrooms NEAR_OCEAN',\n",
              " 'population^2',\n",
              " 'population households',\n",
              " 'population median_income',\n",
              " 'population rooms_per_household',\n",
              " 'population population_per_household',\n",
              " 'population INLAND',\n",
              " 'population ISLAND',\n",
              " 'population LESS_1H_OCEAN',\n",
              " 'population NEAR_BAY',\n",
              " 'population NEAR_OCEAN',\n",
              " 'households^2',\n",
              " 'households median_income',\n",
              " 'households rooms_per_household',\n",
              " 'households population_per_household',\n",
              " 'households INLAND',\n",
              " 'households ISLAND',\n",
              " 'households LESS_1H_OCEAN',\n",
              " 'households NEAR_BAY',\n",
              " 'households NEAR_OCEAN',\n",
              " 'median_income^2',\n",
              " 'median_income rooms_per_household',\n",
              " 'median_income population_per_household',\n",
              " 'median_income INLAND',\n",
              " 'median_income ISLAND',\n",
              " 'median_income LESS_1H_OCEAN',\n",
              " 'median_income NEAR_BAY',\n",
              " 'median_income NEAR_OCEAN',\n",
              " 'rooms_per_household^2',\n",
              " 'rooms_per_household population_per_household',\n",
              " 'rooms_per_household INLAND',\n",
              " 'rooms_per_household ISLAND',\n",
              " 'rooms_per_household LESS_1H_OCEAN',\n",
              " 'rooms_per_household NEAR_BAY',\n",
              " 'rooms_per_household NEAR_OCEAN',\n",
              " 'population_per_household^2',\n",
              " 'population_per_household INLAND',\n",
              " 'population_per_household ISLAND',\n",
              " 'population_per_household LESS_1H_OCEAN',\n",
              " 'population_per_household NEAR_BAY',\n",
              " 'population_per_household NEAR_OCEAN',\n",
              " 'INLAND^2',\n",
              " 'INLAND ISLAND',\n",
              " 'INLAND LESS_1H_OCEAN',\n",
              " 'INLAND NEAR_BAY',\n",
              " 'INLAND NEAR_OCEAN',\n",
              " 'ISLAND^2',\n",
              " 'ISLAND LESS_1H_OCEAN',\n",
              " 'ISLAND NEAR_BAY',\n",
              " 'ISLAND NEAR_OCEAN',\n",
              " 'LESS_1H_OCEAN^2',\n",
              " 'LESS_1H_OCEAN NEAR_BAY',\n",
              " 'LESS_1H_OCEAN NEAR_OCEAN',\n",
              " 'NEAR_BAY^2',\n",
              " 'NEAR_BAY NEAR_OCEAN',\n",
              " 'NEAR_OCEAN^2']"
            ]
          },
          "metadata": {},
          "execution_count": 55
        }
      ]
    },
    {
      "cell_type": "markdown",
      "metadata": {
        "id": "vlKjYPI7iRWs"
      },
      "source": [
        "### 3. Scaling features"
      ]
    },
    {
      "cell_type": "code",
      "metadata": {
        "id": "UWu8wroHiRWu"
      },
      "source": [
        "#Capture the categorical indexes - 'INLAND^2', 'ISLAND^2', 'LESS_1H_OCEAN^2', 'NEAR_BAY^2', 'NEAR_OCEAN^2', 'INLAND',\n",
        "#                                  'ISLAND', 'LESS_1H_OCEAN', 'NEAR_BAY', 'NEAR_OCEAN',INLAND ISLAND','INLAND LESS_1H_OCEAN',\n",
        "#                                  'INLAND NEAR_BAY', 'INLAND NEAR_OCEAN', 'ISLAND LESS_1H_OCEAN', 'ISLAND NEAR_BAY',\n",
        "#                                  'ISLAND NEAR_OCEAN', 'LESS_1H_OCEAN NEAR_BAY', 'LESS_1H_OCEAN NEAR_OCEAN',\n",
        "#                                  'NEAR_BAY NEAR_OCEAN',\n",
        "\n",
        "#Capture all the categorical features in a list.\n",
        "\n",
        "X_tr_Categorical = ['INLAND', 'ISLAND', 'LESS_1H_OCEAN', 'NEAR_BAY', 'NEAR_OCEAN','INLAND^2','INLAND ISLAND',\n",
        "                    'INLAND LESS_1H_OCEAN', 'INLAND NEAR_BAY', 'INLAND NEAR_OCEAN', 'ISLAND^2','ISLAND LESS_1H_OCEAN',\n",
        "                    'ISLAND NEAR_BAY','ISLAND NEAR_OCEAN','LESS_1H_OCEAN^2','LESS_1H_OCEAN NEAR_BAY',\n",
        "                    'LESS_1H_OCEAN NEAR_OCEAN', 'NEAR_BAY^2', 'NEAR_BAY NEAR_OCEAN','NEAR_OCEAN^2']\n",
        "\n",
        "\n",
        "X_tr_Categorical_index_ = [feature_names_transformed.index(item) for item in X_tr_Categorical]\n",
        "\n",
        "#indexes = [11, 12, 13, 14, 15, 121, 122, 123, 124, 125, 126, 127, 128, 129, 130, 131, 132, 133, 134, 135]\n",
        "\n",
        "#Get the overall index.\n",
        "\n",
        "X_tr_Total_index_ = [i for i in range(0,136)]\n",
        "\n",
        "#The Non Categorical index = Overall indexes - Categorical models.\n",
        "X_tr_Non_Categorical_index_ = list(pd.DataFrame(X_tr).drop(X_tr_Categorical_index_, axis = 1))"
      ],
      "execution_count": 56,
      "outputs": []
    },
    {
      "cell_type": "markdown",
      "metadata": {
        "id": "Js5Q89vYiRW2"
      },
      "source": [
        "Similarly, use StandardScaler from sklearn.preprocessing to normalize the training and testing data, using the training data"
      ]
    },
    {
      "cell_type": "code",
      "metadata": {
        "id": "G09yvcY9iRW4"
      },
      "source": [
        "from sklearn.base import BaseEstimator, TransformerMixin\n",
        "from sklearn.pipeline import Pipeline\n",
        "from sklearn.preprocessing import StandardScaler\n",
        "\n",
        "\n",
        "# Create a class to select numerical or categorical columns\n",
        "# since Scikit-Learn doesn't handle DataFrames yet\n",
        "class DataFrameSelector(BaseEstimator, TransformerMixin):\n",
        "    def __init__(self, attribute_names):\n",
        "        self.attribute_names = attribute_names\n",
        "    def fit(self, X, y=None):\n",
        "        return self\n",
        "    def transform(self, X):\n",
        "        return X[self.attribute_names].values\n",
        "\n",
        "num_pipeline = Pipeline([\n",
        "        ('selector', DataFrameSelector(X_tr_Non_Categorical_index_)),\n",
        "        ('std_scaler', StandardScaler()),\n",
        "    ])\n",
        "\n",
        "cat_pipeline = Pipeline([\n",
        "        ('selector', DataFrameSelector(X_tr_Categorical_index_))\n",
        "    ])\n",
        "\n",
        "\n",
        "from sklearn.pipeline import FeatureUnion\n",
        "\n",
        "full_pipeline = FeatureUnion(transformer_list=[\n",
        "    (\"num_pipeline\", num_pipeline),\n",
        "    (\"cat_pipeline\", cat_pipeline),\n",
        "\n",
        "    ])\n",
        "\n",
        "# Convert the X_tr and X_te lists into DataFrames, before transforming the data.\n",
        "X_tr = pd.DataFrame(X_tr)\n",
        "X_te = pd.DataFrame(X_te)\n",
        "\n",
        "X_train_transform = full_pipeline.fit_transform(X_tr)\n",
        "X_test_transform = full_pipeline.transform(X_te)"
      ],
      "execution_count": 57,
      "outputs": []
    },
    {
      "cell_type": "code",
      "metadata": {
        "id": "u8OPpHy7Cblq"
      },
      "source": [
        "X_train_transform = full_pipeline.fit_transform(X_tr)"
      ],
      "execution_count": 58,
      "outputs": []
    },
    {
      "cell_type": "code",
      "metadata": {
        "colab": {
          "base_uri": "https://localhost:8080/"
        },
        "id": "b_MMA3iVCoeq",
        "outputId": "2fc563c8-f082-4c06-f416-a5aa17c71ac3"
      },
      "source": [
        "X_train_transform"
      ],
      "execution_count": 59,
      "outputs": [
        {
          "output_type": "execute_result",
          "data": {
            "text/plain": [
              "array([[ 0.        ,  0.78093406, -0.80568191, ...,  0.        ,\n",
              "         0.        ,  0.        ],\n",
              "       [ 0.        ,  1.24526986, -1.33947268, ...,  0.        ,\n",
              "         0.        ,  1.        ],\n",
              "       [ 0.        , -0.27755183, -0.49664515, ...,  0.        ,\n",
              "         0.        ,  1.        ],\n",
              "       ...,\n",
              "       [ 0.        ,  0.60119118, -0.75885816, ...,  0.        ,\n",
              "         0.        ,  0.        ],\n",
              "       [ 0.        , -1.18625198,  0.90338501, ...,  0.        ,\n",
              "         0.        ,  0.        ],\n",
              "       [ 0.        , -1.41592345,  0.99235014, ...,  1.        ,\n",
              "         0.        ,  0.        ]])"
            ]
          },
          "metadata": {},
          "execution_count": 59
        }
      ]
    },
    {
      "cell_type": "code",
      "metadata": {
        "id": "dAw3bs1ICd1m"
      },
      "source": [
        "X_train_transform = full_pipeline.fit_transform(X_tr,y_tr)"
      ],
      "execution_count": 60,
      "outputs": []
    },
    {
      "cell_type": "code",
      "metadata": {
        "colab": {
          "base_uri": "https://localhost:8080/"
        },
        "id": "_iKCx4uFCr3g",
        "outputId": "dd45e6bd-8521-422a-ff49-ef40b911dd7d"
      },
      "source": [
        "X_train_transform"
      ],
      "execution_count": 61,
      "outputs": [
        {
          "output_type": "execute_result",
          "data": {
            "text/plain": [
              "array([[ 0.        ,  0.78093406, -0.80568191, ...,  0.        ,\n",
              "         0.        ,  0.        ],\n",
              "       [ 0.        ,  1.24526986, -1.33947268, ...,  0.        ,\n",
              "         0.        ,  1.        ],\n",
              "       [ 0.        , -0.27755183, -0.49664515, ...,  0.        ,\n",
              "         0.        ,  1.        ],\n",
              "       ...,\n",
              "       [ 0.        ,  0.60119118, -0.75885816, ...,  0.        ,\n",
              "         0.        ,  0.        ],\n",
              "       [ 0.        , -1.18625198,  0.90338501, ...,  0.        ,\n",
              "         0.        ,  0.        ],\n",
              "       [ 0.        , -1.41592345,  0.99235014, ...,  1.        ,\n",
              "         0.        ,  0.        ]])"
            ]
          },
          "metadata": {},
          "execution_count": 61
        }
      ]
    },
    {
      "cell_type": "markdown",
      "metadata": {
        "id": "NOvb8kRmiRXC"
      },
      "source": [
        "#### Comparing models"
      ]
    },
    {
      "cell_type": "code",
      "metadata": {
        "id": "cwW3E3E5iRXE"
      },
      "source": [
        "from sklearn.model_selection import cross_val_score\n",
        "from sklearn.model_selection import GridSearchCV, RandomizedSearchCV\n",
        "import numpy as np\n",
        "\n",
        "def display_scores(scores):\n",
        "    print(\"Scores:\", scores)\n",
        "    print(\"Mean:\", scores.mean())"
      ],
      "execution_count": 62,
      "outputs": []
    },
    {
      "cell_type": "markdown",
      "metadata": {
        "id": "0Sj3Nu33iRXM"
      },
      "source": [
        "### 4. Linear regression on original features (no transformations) --- benchmark\n",
        "\n",
        "#### Your goal is to find the model that minimizes the rmse score"
      ]
    },
    {
      "cell_type": "code",
      "metadata": {
        "id": "uwGKH9PaiRXN",
        "colab": {
          "base_uri": "https://localhost:8080/"
        },
        "outputId": "48892d04-c732-43e2-91b1-4cf65226c6f3"
      },
      "source": [
        "from sklearn.linear_model import LinearRegression\n",
        "lin_scores = cross_val_score(LinearRegression(), train_set[features], train_set[target], scoring=\"neg_mean_squared_error\", cv=10)\n",
        "lin_rmse_scores = np.sqrt(-lin_scores)\n",
        "display_scores(lin_rmse_scores)"
      ],
      "execution_count": 63,
      "outputs": [
        {
          "output_type": "stream",
          "name": "stdout",
          "text": [
            "Scores: [71638.62205417 68369.59766399 67555.56882232 67668.00470579\n",
            " 68568.29042969 66325.04204759 65360.8224899  70215.41434329\n",
            " 74926.32255192 68989.18585777]\n",
            "Mean: 68961.68709664323\n"
          ]
        }
      ]
    },
    {
      "cell_type": "markdown",
      "metadata": {
        "id": "h15ZN1T9iRXV"
      },
      "source": [
        "### 5. Linear regression  (on transformed features: polynomial transformation + scaling)"
      ]
    },
    {
      "cell_type": "markdown",
      "metadata": {
        "id": "MgdfV7GriRXX"
      },
      "source": [
        "Now do as in 4 but with the original and transformed features (136 features)"
      ]
    },
    {
      "cell_type": "code",
      "metadata": {
        "id": "pUQuex9RiRXY",
        "colab": {
          "base_uri": "https://localhost:8080/"
        },
        "outputId": "20e843c8-556f-4002-cae7-d2c702bcedc5"
      },
      "source": [
        "from sklearn.linear_model import LinearRegression\n",
        "lin_scores = cross_val_score(LinearRegression(), X_train_transform, y_tr, scoring=\"neg_mean_squared_error\", cv=10)\n",
        "lin_rmse_scores = np.sqrt(-lin_scores)\n",
        "display_scores(lin_rmse_scores)"
      ],
      "execution_count": 64,
      "outputs": [
        {
          "output_type": "stream",
          "name": "stdout",
          "text": [
            "Scores: [1.20295304e+15 6.04969219e+04 6.10825834e+04 6.20279755e+04\n",
            " 1.17610538e+15 1.32289806e+14 5.74533302e+04 6.64121606e+04\n",
            " 3.15366136e+14 6.23269333e+04]\n",
            "Mean: 282671435787689.7\n"
          ]
        }
      ]
    },
    {
      "cell_type": "markdown",
      "metadata": {
        "id": "OxwPzjbJiRXi"
      },
      "source": [
        "If the error on the cross-validation is too high it is because the model is over-fitting. Regularization is needed."
      ]
    },
    {
      "cell_type": "markdown",
      "metadata": {
        "id": "AahA8DECiRXl"
      },
      "source": [
        "### 6. Ridge regression"
      ]
    },
    {
      "cell_type": "code",
      "metadata": {
        "id": "h9wj3oQHiRXn",
        "colab": {
          "base_uri": "https://localhost:8080/",
          "height": 117
        },
        "outputId": "b931d4bc-f8b9-4e8e-a0a6-79c790f9dfd1"
      },
      "source": [
        "import warnings\n",
        "warnings.filterwarnings('ignore')\n",
        "from sklearn.linear_model import Ridge\n",
        "param_grid = [{'alpha': [0.005,0.04,0.2,1,20,400,10000]}]\n",
        "grid_search_rr = GridSearchCV(Ridge(random_state=42), param_grid, cv=10, scoring='neg_mean_squared_error')\n",
        "grid_search_rr.fit(X_train_transform,y_tr)"
      ],
      "execution_count": 65,
      "outputs": [
        {
          "output_type": "execute_result",
          "data": {
            "text/plain": [
              "GridSearchCV(cv=10, estimator=Ridge(random_state=42),\n",
              "             param_grid=[{'alpha': [0.005, 0.04, 0.2, 1, 20, 400, 10000]}],\n",
              "             scoring='neg_mean_squared_error')"
            ],
            "text/html": [
              "<style>#sk-container-id-1 {color: black;background-color: white;}#sk-container-id-1 pre{padding: 0;}#sk-container-id-1 div.sk-toggleable {background-color: white;}#sk-container-id-1 label.sk-toggleable__label {cursor: pointer;display: block;width: 100%;margin-bottom: 0;padding: 0.3em;box-sizing: border-box;text-align: center;}#sk-container-id-1 label.sk-toggleable__label-arrow:before {content: \"▸\";float: left;margin-right: 0.25em;color: #696969;}#sk-container-id-1 label.sk-toggleable__label-arrow:hover:before {color: black;}#sk-container-id-1 div.sk-estimator:hover label.sk-toggleable__label-arrow:before {color: black;}#sk-container-id-1 div.sk-toggleable__content {max-height: 0;max-width: 0;overflow: hidden;text-align: left;background-color: #f0f8ff;}#sk-container-id-1 div.sk-toggleable__content pre {margin: 0.2em;color: black;border-radius: 0.25em;background-color: #f0f8ff;}#sk-container-id-1 input.sk-toggleable__control:checked~div.sk-toggleable__content {max-height: 200px;max-width: 100%;overflow: auto;}#sk-container-id-1 input.sk-toggleable__control:checked~label.sk-toggleable__label-arrow:before {content: \"▾\";}#sk-container-id-1 div.sk-estimator input.sk-toggleable__control:checked~label.sk-toggleable__label {background-color: #d4ebff;}#sk-container-id-1 div.sk-label input.sk-toggleable__control:checked~label.sk-toggleable__label {background-color: #d4ebff;}#sk-container-id-1 input.sk-hidden--visually {border: 0;clip: rect(1px 1px 1px 1px);clip: rect(1px, 1px, 1px, 1px);height: 1px;margin: -1px;overflow: hidden;padding: 0;position: absolute;width: 1px;}#sk-container-id-1 div.sk-estimator {font-family: monospace;background-color: #f0f8ff;border: 1px dotted black;border-radius: 0.25em;box-sizing: border-box;margin-bottom: 0.5em;}#sk-container-id-1 div.sk-estimator:hover {background-color: #d4ebff;}#sk-container-id-1 div.sk-parallel-item::after {content: \"\";width: 100%;border-bottom: 1px solid gray;flex-grow: 1;}#sk-container-id-1 div.sk-label:hover label.sk-toggleable__label {background-color: #d4ebff;}#sk-container-id-1 div.sk-serial::before {content: \"\";position: absolute;border-left: 1px solid gray;box-sizing: border-box;top: 0;bottom: 0;left: 50%;z-index: 0;}#sk-container-id-1 div.sk-serial {display: flex;flex-direction: column;align-items: center;background-color: white;padding-right: 0.2em;padding-left: 0.2em;position: relative;}#sk-container-id-1 div.sk-item {position: relative;z-index: 1;}#sk-container-id-1 div.sk-parallel {display: flex;align-items: stretch;justify-content: center;background-color: white;position: relative;}#sk-container-id-1 div.sk-item::before, #sk-container-id-1 div.sk-parallel-item::before {content: \"\";position: absolute;border-left: 1px solid gray;box-sizing: border-box;top: 0;bottom: 0;left: 50%;z-index: -1;}#sk-container-id-1 div.sk-parallel-item {display: flex;flex-direction: column;z-index: 1;position: relative;background-color: white;}#sk-container-id-1 div.sk-parallel-item:first-child::after {align-self: flex-end;width: 50%;}#sk-container-id-1 div.sk-parallel-item:last-child::after {align-self: flex-start;width: 50%;}#sk-container-id-1 div.sk-parallel-item:only-child::after {width: 0;}#sk-container-id-1 div.sk-dashed-wrapped {border: 1px dashed gray;margin: 0 0.4em 0.5em 0.4em;box-sizing: border-box;padding-bottom: 0.4em;background-color: white;}#sk-container-id-1 div.sk-label label {font-family: monospace;font-weight: bold;display: inline-block;line-height: 1.2em;}#sk-container-id-1 div.sk-label-container {text-align: center;}#sk-container-id-1 div.sk-container {/* jupyter's `normalize.less` sets `[hidden] { display: none; }` but bootstrap.min.css set `[hidden] { display: none !important; }` so we also need the `!important` here to be able to override the default hidden behavior on the sphinx rendered scikit-learn.org. See: https://github.com/scikit-learn/scikit-learn/issues/21755 */display: inline-block !important;position: relative;}#sk-container-id-1 div.sk-text-repr-fallback {display: none;}</style><div id=\"sk-container-id-1\" class=\"sk-top-container\"><div class=\"sk-text-repr-fallback\"><pre>GridSearchCV(cv=10, estimator=Ridge(random_state=42),\n",
              "             param_grid=[{&#x27;alpha&#x27;: [0.005, 0.04, 0.2, 1, 20, 400, 10000]}],\n",
              "             scoring=&#x27;neg_mean_squared_error&#x27;)</pre><b>In a Jupyter environment, please rerun this cell to show the HTML representation or trust the notebook. <br />On GitHub, the HTML representation is unable to render, please try loading this page with nbviewer.org.</b></div><div class=\"sk-container\" hidden><div class=\"sk-item sk-dashed-wrapped\"><div class=\"sk-label-container\"><div class=\"sk-label sk-toggleable\"><input class=\"sk-toggleable__control sk-hidden--visually\" id=\"sk-estimator-id-1\" type=\"checkbox\" ><label for=\"sk-estimator-id-1\" class=\"sk-toggleable__label sk-toggleable__label-arrow\">GridSearchCV</label><div class=\"sk-toggleable__content\"><pre>GridSearchCV(cv=10, estimator=Ridge(random_state=42),\n",
              "             param_grid=[{&#x27;alpha&#x27;: [0.005, 0.04, 0.2, 1, 20, 400, 10000]}],\n",
              "             scoring=&#x27;neg_mean_squared_error&#x27;)</pre></div></div></div><div class=\"sk-parallel\"><div class=\"sk-parallel-item\"><div class=\"sk-item\"><div class=\"sk-label-container\"><div class=\"sk-label sk-toggleable\"><input class=\"sk-toggleable__control sk-hidden--visually\" id=\"sk-estimator-id-2\" type=\"checkbox\" ><label for=\"sk-estimator-id-2\" class=\"sk-toggleable__label sk-toggleable__label-arrow\">estimator: Ridge</label><div class=\"sk-toggleable__content\"><pre>Ridge(random_state=42)</pre></div></div></div><div class=\"sk-serial\"><div class=\"sk-item\"><div class=\"sk-estimator sk-toggleable\"><input class=\"sk-toggleable__control sk-hidden--visually\" id=\"sk-estimator-id-3\" type=\"checkbox\" ><label for=\"sk-estimator-id-3\" class=\"sk-toggleable__label sk-toggleable__label-arrow\">Ridge</label><div class=\"sk-toggleable__content\"><pre>Ridge(random_state=42)</pre></div></div></div></div></div></div></div></div></div></div>"
            ]
          },
          "metadata": {},
          "execution_count": 65
        }
      ]
    },
    {
      "cell_type": "code",
      "metadata": {
        "id": "kURekN_UiRYE",
        "colab": {
          "base_uri": "https://localhost:8080/"
        },
        "outputId": "aa06a8a7-4ae2-401b-ef28-94bbd7ac1dc8"
      },
      "source": [
        "print(grid_search_rr.best_params_)\n",
        "print(np.sqrt(-grid_search_rr.best_score_))"
      ],
      "execution_count": 66,
      "outputs": [
        {
          "output_type": "stream",
          "name": "stdout",
          "text": [
            "{'alpha': 400}\n",
            "65582.59402394743\n"
          ]
        }
      ]
    },
    {
      "cell_type": "markdown",
      "metadata": {
        "id": "YTGWo-biiRYP"
      },
      "source": [
        "### 7. Lasso regression\n",
        "\n",
        "Now do the same as in 6 but with Lasso"
      ]
    },
    {
      "cell_type": "code",
      "metadata": {
        "id": "McFcAOtoiRYR",
        "colab": {
          "base_uri": "https://localhost:8080/",
          "height": 117
        },
        "outputId": "21f9b687-a6c8-42c8-beeb-b70836f4a46f"
      },
      "source": [
        "from sklearn.linear_model import Lasso\n",
        "param_grid = [{'alpha': [0.005,0.04,0.2,1,20,400,10000]}]\n",
        "grid_search_lasso = GridSearchCV(Lasso(random_state=42), param_grid, cv=10, scoring='neg_mean_squared_error')\n",
        "grid_search_lasso.fit(X_train_transform, y_tr)"
      ],
      "execution_count": 67,
      "outputs": [
        {
          "output_type": "execute_result",
          "data": {
            "text/plain": [
              "GridSearchCV(cv=10, estimator=Lasso(random_state=42),\n",
              "             param_grid=[{'alpha': [0.005, 0.04, 0.2, 1, 20, 400, 10000]}],\n",
              "             scoring='neg_mean_squared_error')"
            ],
            "text/html": [
              "<style>#sk-container-id-2 {color: black;background-color: white;}#sk-container-id-2 pre{padding: 0;}#sk-container-id-2 div.sk-toggleable {background-color: white;}#sk-container-id-2 label.sk-toggleable__label {cursor: pointer;display: block;width: 100%;margin-bottom: 0;padding: 0.3em;box-sizing: border-box;text-align: center;}#sk-container-id-2 label.sk-toggleable__label-arrow:before {content: \"▸\";float: left;margin-right: 0.25em;color: #696969;}#sk-container-id-2 label.sk-toggleable__label-arrow:hover:before {color: black;}#sk-container-id-2 div.sk-estimator:hover label.sk-toggleable__label-arrow:before {color: black;}#sk-container-id-2 div.sk-toggleable__content {max-height: 0;max-width: 0;overflow: hidden;text-align: left;background-color: #f0f8ff;}#sk-container-id-2 div.sk-toggleable__content pre {margin: 0.2em;color: black;border-radius: 0.25em;background-color: #f0f8ff;}#sk-container-id-2 input.sk-toggleable__control:checked~div.sk-toggleable__content {max-height: 200px;max-width: 100%;overflow: auto;}#sk-container-id-2 input.sk-toggleable__control:checked~label.sk-toggleable__label-arrow:before {content: \"▾\";}#sk-container-id-2 div.sk-estimator input.sk-toggleable__control:checked~label.sk-toggleable__label {background-color: #d4ebff;}#sk-container-id-2 div.sk-label input.sk-toggleable__control:checked~label.sk-toggleable__label {background-color: #d4ebff;}#sk-container-id-2 input.sk-hidden--visually {border: 0;clip: rect(1px 1px 1px 1px);clip: rect(1px, 1px, 1px, 1px);height: 1px;margin: -1px;overflow: hidden;padding: 0;position: absolute;width: 1px;}#sk-container-id-2 div.sk-estimator {font-family: monospace;background-color: #f0f8ff;border: 1px dotted black;border-radius: 0.25em;box-sizing: border-box;margin-bottom: 0.5em;}#sk-container-id-2 div.sk-estimator:hover {background-color: #d4ebff;}#sk-container-id-2 div.sk-parallel-item::after {content: \"\";width: 100%;border-bottom: 1px solid gray;flex-grow: 1;}#sk-container-id-2 div.sk-label:hover label.sk-toggleable__label {background-color: #d4ebff;}#sk-container-id-2 div.sk-serial::before {content: \"\";position: absolute;border-left: 1px solid gray;box-sizing: border-box;top: 0;bottom: 0;left: 50%;z-index: 0;}#sk-container-id-2 div.sk-serial {display: flex;flex-direction: column;align-items: center;background-color: white;padding-right: 0.2em;padding-left: 0.2em;position: relative;}#sk-container-id-2 div.sk-item {position: relative;z-index: 1;}#sk-container-id-2 div.sk-parallel {display: flex;align-items: stretch;justify-content: center;background-color: white;position: relative;}#sk-container-id-2 div.sk-item::before, #sk-container-id-2 div.sk-parallel-item::before {content: \"\";position: absolute;border-left: 1px solid gray;box-sizing: border-box;top: 0;bottom: 0;left: 50%;z-index: -1;}#sk-container-id-2 div.sk-parallel-item {display: flex;flex-direction: column;z-index: 1;position: relative;background-color: white;}#sk-container-id-2 div.sk-parallel-item:first-child::after {align-self: flex-end;width: 50%;}#sk-container-id-2 div.sk-parallel-item:last-child::after {align-self: flex-start;width: 50%;}#sk-container-id-2 div.sk-parallel-item:only-child::after {width: 0;}#sk-container-id-2 div.sk-dashed-wrapped {border: 1px dashed gray;margin: 0 0.4em 0.5em 0.4em;box-sizing: border-box;padding-bottom: 0.4em;background-color: white;}#sk-container-id-2 div.sk-label label {font-family: monospace;font-weight: bold;display: inline-block;line-height: 1.2em;}#sk-container-id-2 div.sk-label-container {text-align: center;}#sk-container-id-2 div.sk-container {/* jupyter's `normalize.less` sets `[hidden] { display: none; }` but bootstrap.min.css set `[hidden] { display: none !important; }` so we also need the `!important` here to be able to override the default hidden behavior on the sphinx rendered scikit-learn.org. See: https://github.com/scikit-learn/scikit-learn/issues/21755 */display: inline-block !important;position: relative;}#sk-container-id-2 div.sk-text-repr-fallback {display: none;}</style><div id=\"sk-container-id-2\" class=\"sk-top-container\"><div class=\"sk-text-repr-fallback\"><pre>GridSearchCV(cv=10, estimator=Lasso(random_state=42),\n",
              "             param_grid=[{&#x27;alpha&#x27;: [0.005, 0.04, 0.2, 1, 20, 400, 10000]}],\n",
              "             scoring=&#x27;neg_mean_squared_error&#x27;)</pre><b>In a Jupyter environment, please rerun this cell to show the HTML representation or trust the notebook. <br />On GitHub, the HTML representation is unable to render, please try loading this page with nbviewer.org.</b></div><div class=\"sk-container\" hidden><div class=\"sk-item sk-dashed-wrapped\"><div class=\"sk-label-container\"><div class=\"sk-label sk-toggleable\"><input class=\"sk-toggleable__control sk-hidden--visually\" id=\"sk-estimator-id-4\" type=\"checkbox\" ><label for=\"sk-estimator-id-4\" class=\"sk-toggleable__label sk-toggleable__label-arrow\">GridSearchCV</label><div class=\"sk-toggleable__content\"><pre>GridSearchCV(cv=10, estimator=Lasso(random_state=42),\n",
              "             param_grid=[{&#x27;alpha&#x27;: [0.005, 0.04, 0.2, 1, 20, 400, 10000]}],\n",
              "             scoring=&#x27;neg_mean_squared_error&#x27;)</pre></div></div></div><div class=\"sk-parallel\"><div class=\"sk-parallel-item\"><div class=\"sk-item\"><div class=\"sk-label-container\"><div class=\"sk-label sk-toggleable\"><input class=\"sk-toggleable__control sk-hidden--visually\" id=\"sk-estimator-id-5\" type=\"checkbox\" ><label for=\"sk-estimator-id-5\" class=\"sk-toggleable__label sk-toggleable__label-arrow\">estimator: Lasso</label><div class=\"sk-toggleable__content\"><pre>Lasso(random_state=42)</pre></div></div></div><div class=\"sk-serial\"><div class=\"sk-item\"><div class=\"sk-estimator sk-toggleable\"><input class=\"sk-toggleable__control sk-hidden--visually\" id=\"sk-estimator-id-6\" type=\"checkbox\" ><label for=\"sk-estimator-id-6\" class=\"sk-toggleable__label sk-toggleable__label-arrow\">Lasso</label><div class=\"sk-toggleable__content\"><pre>Lasso(random_state=42)</pre></div></div></div></div></div></div></div></div></div></div>"
            ]
          },
          "metadata": {},
          "execution_count": 67
        }
      ]
    },
    {
      "cell_type": "code",
      "metadata": {
        "id": "lKMEJYhkiRYa",
        "colab": {
          "base_uri": "https://localhost:8080/"
        },
        "outputId": "ddd834f1-744c-4358-9d3a-327e09746aa6"
      },
      "source": [
        "print(grid_search_lasso.best_params_)\n",
        "print(np.sqrt(-grid_search_lasso.best_score_))"
      ],
      "execution_count": 68,
      "outputs": [
        {
          "output_type": "stream",
          "name": "stdout",
          "text": [
            "{'alpha': 400}\n",
            "65557.25610840356\n"
          ]
        }
      ]
    },
    {
      "cell_type": "markdown",
      "metadata": {
        "id": "CAbe_OnCiRYj"
      },
      "source": [
        "### 8. Elastic Net regression\n",
        "\n",
        "Do the same as in 6 and 7, but now with Elastic Net. However, the grid search should be over the parameters alpha and  l 1ratio. Use just 3 values for l1_ratio."
      ]
    },
    {
      "cell_type": "code",
      "metadata": {
        "id": "ed4A2eF_iRYl",
        "colab": {
          "base_uri": "https://localhost:8080/",
          "height": 117
        },
        "outputId": "75d061a3-b319-4313-edd3-79ffba4484dc"
      },
      "source": [
        "from sklearn.linear_model import ElasticNet\n",
        "\n",
        "param_grid = [{'alpha': [0.005,0.04,0.2,1,20,400,10000], 'l1_ratio' : [1, 2.5, 3, 3.5, 4]}]\n",
        "randomized_search_elastic_net = RandomizedSearchCV(ElasticNet(), param_grid, n_iter=10, cv=10, scoring='neg_mean_squared_error')\n",
        "randomized_search_elastic_net.fit(X_train_transform, y_tr)"
      ],
      "execution_count": 69,
      "outputs": [
        {
          "output_type": "execute_result",
          "data": {
            "text/plain": [
              "RandomizedSearchCV(cv=10, estimator=ElasticNet(),\n",
              "                   param_distributions=[{'alpha': [0.005, 0.04, 0.2, 1, 20, 400,\n",
              "                                                   10000],\n",
              "                                         'l1_ratio': [1, 2.5, 3, 3.5, 4]}],\n",
              "                   scoring='neg_mean_squared_error')"
            ],
            "text/html": [
              "<style>#sk-container-id-3 {color: black;background-color: white;}#sk-container-id-3 pre{padding: 0;}#sk-container-id-3 div.sk-toggleable {background-color: white;}#sk-container-id-3 label.sk-toggleable__label {cursor: pointer;display: block;width: 100%;margin-bottom: 0;padding: 0.3em;box-sizing: border-box;text-align: center;}#sk-container-id-3 label.sk-toggleable__label-arrow:before {content: \"▸\";float: left;margin-right: 0.25em;color: #696969;}#sk-container-id-3 label.sk-toggleable__label-arrow:hover:before {color: black;}#sk-container-id-3 div.sk-estimator:hover label.sk-toggleable__label-arrow:before {color: black;}#sk-container-id-3 div.sk-toggleable__content {max-height: 0;max-width: 0;overflow: hidden;text-align: left;background-color: #f0f8ff;}#sk-container-id-3 div.sk-toggleable__content pre {margin: 0.2em;color: black;border-radius: 0.25em;background-color: #f0f8ff;}#sk-container-id-3 input.sk-toggleable__control:checked~div.sk-toggleable__content {max-height: 200px;max-width: 100%;overflow: auto;}#sk-container-id-3 input.sk-toggleable__control:checked~label.sk-toggleable__label-arrow:before {content: \"▾\";}#sk-container-id-3 div.sk-estimator input.sk-toggleable__control:checked~label.sk-toggleable__label {background-color: #d4ebff;}#sk-container-id-3 div.sk-label input.sk-toggleable__control:checked~label.sk-toggleable__label {background-color: #d4ebff;}#sk-container-id-3 input.sk-hidden--visually {border: 0;clip: rect(1px 1px 1px 1px);clip: rect(1px, 1px, 1px, 1px);height: 1px;margin: -1px;overflow: hidden;padding: 0;position: absolute;width: 1px;}#sk-container-id-3 div.sk-estimator {font-family: monospace;background-color: #f0f8ff;border: 1px dotted black;border-radius: 0.25em;box-sizing: border-box;margin-bottom: 0.5em;}#sk-container-id-3 div.sk-estimator:hover {background-color: #d4ebff;}#sk-container-id-3 div.sk-parallel-item::after {content: \"\";width: 100%;border-bottom: 1px solid gray;flex-grow: 1;}#sk-container-id-3 div.sk-label:hover label.sk-toggleable__label {background-color: #d4ebff;}#sk-container-id-3 div.sk-serial::before {content: \"\";position: absolute;border-left: 1px solid gray;box-sizing: border-box;top: 0;bottom: 0;left: 50%;z-index: 0;}#sk-container-id-3 div.sk-serial {display: flex;flex-direction: column;align-items: center;background-color: white;padding-right: 0.2em;padding-left: 0.2em;position: relative;}#sk-container-id-3 div.sk-item {position: relative;z-index: 1;}#sk-container-id-3 div.sk-parallel {display: flex;align-items: stretch;justify-content: center;background-color: white;position: relative;}#sk-container-id-3 div.sk-item::before, #sk-container-id-3 div.sk-parallel-item::before {content: \"\";position: absolute;border-left: 1px solid gray;box-sizing: border-box;top: 0;bottom: 0;left: 50%;z-index: -1;}#sk-container-id-3 div.sk-parallel-item {display: flex;flex-direction: column;z-index: 1;position: relative;background-color: white;}#sk-container-id-3 div.sk-parallel-item:first-child::after {align-self: flex-end;width: 50%;}#sk-container-id-3 div.sk-parallel-item:last-child::after {align-self: flex-start;width: 50%;}#sk-container-id-3 div.sk-parallel-item:only-child::after {width: 0;}#sk-container-id-3 div.sk-dashed-wrapped {border: 1px dashed gray;margin: 0 0.4em 0.5em 0.4em;box-sizing: border-box;padding-bottom: 0.4em;background-color: white;}#sk-container-id-3 div.sk-label label {font-family: monospace;font-weight: bold;display: inline-block;line-height: 1.2em;}#sk-container-id-3 div.sk-label-container {text-align: center;}#sk-container-id-3 div.sk-container {/* jupyter's `normalize.less` sets `[hidden] { display: none; }` but bootstrap.min.css set `[hidden] { display: none !important; }` so we also need the `!important` here to be able to override the default hidden behavior on the sphinx rendered scikit-learn.org. See: https://github.com/scikit-learn/scikit-learn/issues/21755 */display: inline-block !important;position: relative;}#sk-container-id-3 div.sk-text-repr-fallback {display: none;}</style><div id=\"sk-container-id-3\" class=\"sk-top-container\"><div class=\"sk-text-repr-fallback\"><pre>RandomizedSearchCV(cv=10, estimator=ElasticNet(),\n",
              "                   param_distributions=[{&#x27;alpha&#x27;: [0.005, 0.04, 0.2, 1, 20, 400,\n",
              "                                                   10000],\n",
              "                                         &#x27;l1_ratio&#x27;: [1, 2.5, 3, 3.5, 4]}],\n",
              "                   scoring=&#x27;neg_mean_squared_error&#x27;)</pre><b>In a Jupyter environment, please rerun this cell to show the HTML representation or trust the notebook. <br />On GitHub, the HTML representation is unable to render, please try loading this page with nbviewer.org.</b></div><div class=\"sk-container\" hidden><div class=\"sk-item sk-dashed-wrapped\"><div class=\"sk-label-container\"><div class=\"sk-label sk-toggleable\"><input class=\"sk-toggleable__control sk-hidden--visually\" id=\"sk-estimator-id-7\" type=\"checkbox\" ><label for=\"sk-estimator-id-7\" class=\"sk-toggleable__label sk-toggleable__label-arrow\">RandomizedSearchCV</label><div class=\"sk-toggleable__content\"><pre>RandomizedSearchCV(cv=10, estimator=ElasticNet(),\n",
              "                   param_distributions=[{&#x27;alpha&#x27;: [0.005, 0.04, 0.2, 1, 20, 400,\n",
              "                                                   10000],\n",
              "                                         &#x27;l1_ratio&#x27;: [1, 2.5, 3, 3.5, 4]}],\n",
              "                   scoring=&#x27;neg_mean_squared_error&#x27;)</pre></div></div></div><div class=\"sk-parallel\"><div class=\"sk-parallel-item\"><div class=\"sk-item\"><div class=\"sk-label-container\"><div class=\"sk-label sk-toggleable\"><input class=\"sk-toggleable__control sk-hidden--visually\" id=\"sk-estimator-id-8\" type=\"checkbox\" ><label for=\"sk-estimator-id-8\" class=\"sk-toggleable__label sk-toggleable__label-arrow\">estimator: ElasticNet</label><div class=\"sk-toggleable__content\"><pre>ElasticNet()</pre></div></div></div><div class=\"sk-serial\"><div class=\"sk-item\"><div class=\"sk-estimator sk-toggleable\"><input class=\"sk-toggleable__control sk-hidden--visually\" id=\"sk-estimator-id-9\" type=\"checkbox\" ><label for=\"sk-estimator-id-9\" class=\"sk-toggleable__label sk-toggleable__label-arrow\">ElasticNet</label><div class=\"sk-toggleable__content\"><pre>ElasticNet()</pre></div></div></div></div></div></div></div></div></div></div>"
            ]
          },
          "metadata": {},
          "execution_count": 69
        }
      ]
    },
    {
      "cell_type": "code",
      "metadata": {
        "id": "BYRWsKjuiRYt",
        "colab": {
          "base_uri": "https://localhost:8080/"
        },
        "outputId": "0c756af3-6ac6-4c2e-bb82-901f40e5daae"
      },
      "source": [
        "print(randomized_search_elastic_net.best_params_)\n",
        "print(np.sqrt(-randomized_search_elastic_net.best_score_))"
      ],
      "execution_count": 70,
      "outputs": [
        {
          "output_type": "stream",
          "name": "stdout",
          "text": [
            "{'l1_ratio': 1, 'alpha': 400}\n",
            "65557.25610840356\n"
          ]
        }
      ]
    },
    {
      "cell_type": "markdown",
      "metadata": {
        "id": "QcOy7uVSiRY5"
      },
      "source": [
        "### Evaluating your best model on TESTING data\n",
        "\n",
        "Choose among grid_search_rr, grid_search_lr, and grid_search_enr, the model with best performance"
      ]
    },
    {
      "cell_type": "code",
      "metadata": {
        "id": "xaKde7NviRY8",
        "colab": {
          "base_uri": "https://localhost:8080/"
        },
        "outputId": "c80bdb9f-927a-4650-df88-5b28cd074815"
      },
      "source": [
        "from sklearn.metrics import mean_squared_error\n",
        "\n",
        "final_model = grid_search_lasso.best_estimator_   ## grid_search SHOULD BE THE BEST GRID SEARCH ##\n",
        "\n",
        "y_test_estimation = final_model.predict(X_test_transform)\n",
        "\n",
        "final_mse = mean_squared_error(y_test_estimation, y_te)\n",
        "final_rmse = np.sqrt(final_mse)\n",
        "print(final_rmse)"
      ],
      "execution_count": 71,
      "outputs": [
        {
          "output_type": "stream",
          "name": "stdout",
          "text": [
            "65965.22419917631\n"
          ]
        }
      ]
    },
    {
      "cell_type": "code",
      "metadata": {
        "id": "rxWWb9ajN3Pb"
      },
      "source": [
        "#Flatten y_te for the graph\n",
        "y_te = y_te.values.flatten()"
      ],
      "execution_count": 72,
      "outputs": []
    },
    {
      "cell_type": "code",
      "metadata": {
        "id": "64QXjt8AiRZF",
        "colab": {
          "base_uri": "https://localhost:8080/",
          "height": 837
        },
        "outputId": "071e6d2e-3169-44cc-b42e-319be457a3ad"
      },
      "source": [
        "import matplotlib.pyplot as plt\n",
        "\n",
        "import plotly.graph_objects as go\n",
        "fig = go.Figure(data=go.Scattergl(\n",
        "    x=y_te, y=y_test_estimation,\n",
        "    mode='markers',\n",
        "    marker=dict(\n",
        "        color = y_test_estimation,\n",
        "        size = 5,\n",
        "        coloraxis=\"coloraxis\")\n",
        "))\n",
        "fig.update_yaxes(title_text=\"Predicted Values\")\n",
        "fig.update_xaxes(title_text=\"Actual Values\")\n",
        "fig.update_layout(\n",
        "    autosize=False,\n",
        "    width=1000,\n",
        "    height=800,\n",
        "    title_text=\"Predicted vs Actual Housing Prices\",\n",
        "coloraxis=dict(colorscale='Viridis'))\n",
        "fig.show()"
      ],
      "execution_count": 73,
      "outputs": [
        {
          "output_type": "display_data",
          "data": {
            "text/html": [
              "<html>\n",
              "<head><meta charset=\"utf-8\" /></head>\n",
              "<body>\n",
              "    <div>            <script src=\"https://cdnjs.cloudflare.com/ajax/libs/mathjax/2.7.5/MathJax.js?config=TeX-AMS-MML_SVG\"></script><script type=\"text/javascript\">if (window.MathJax && window.MathJax.Hub && window.MathJax.Hub.Config) {window.MathJax.Hub.Config({SVG: {font: \"STIX-Web\"}});}</script>                <script type=\"text/javascript\">window.PlotlyConfig = {MathJaxConfig: 'local'};</script>\n",
              "        <script charset=\"utf-8\" src=\"https://cdn.plot.ly/plotly-2.24.1.min.js\"></script>                <div id=\"5cf20449-de39-49cb-a641-0fbc2442f971\" class=\"plotly-graph-div\" style=\"height:800px; width:1000px;\"></div>            <script type=\"text/javascript\">                                    window.PLOTLYENV=window.PLOTLYENV || {};                                    if (document.getElementById(\"5cf20449-de39-49cb-a641-0fbc2442f971\")) {                    Plotly.newPlot(                        \"5cf20449-de39-49cb-a641-0fbc2442f971\",                        [{\"marker\":{\"color\":[65893.42421339464,108212.29353034357,240350.25857236932,261859.4673578848,260085.78569658092,153020.37062477687,311414.21219401306,236614.6859676987,242490.69309090445,431849.64350756444,139994.83902592617,169836.26305836142,35851.696111107885,139973.98362133646,238297.635685951,19738.396227577527,299590.4267365335,215459.42908191044,244759.15948491875,117773.4705510194,233669.01528845888,290318.7046610562,174149.22653772432,304376.5411093257,193482.171503203,73241.50346104108,107937.05003573421,261851.88189536653,151564.26552546158,342189.127551413,167829.62220560593,159951.61675048916,196922.82857502688,378108.60735622706,250976.0369010737,116856.31889346591,323079.7652665452,164786.18938224606,162662.21687267185,216595.96224987326,254726.9752064505,165542.4653973987,136750.59786446457,170642.17879319692,131826.72948758793,137741.99636662626,219580.302835294,187646.25287372645,227743.49061005146,131455.17434268794,255642.29986843365,147469.21086490914,225453.8574605503,77891.89588796657,144939.25025549965,188558.6970655916,42663.26316570552,231600.2830257914,290720.52148841554,141447.877771788,268836.7848489034,241315.706914714,79517.56989890133,192711.7364229049,283663.92653763096,169048.09130005643,194997.6510868763,138767.75796976814,-2234.8943230194855,240760.67237581723,31440.318435314373,238672.25634958514,140546.56202709698,160372.65193001204,225421.18598950095,221287.59607897897,295368.12206004537,214444.83642744052,286978.5704488759,274409.1314227927,112580.0384989218,192389.69523579767,112031.50935634153,107275.67615597142,407346.07995538344,282694.6095179375,92836.5782138618,93271.19896139696,121005.63800134692,145801.32952653588,162690.32772062364,218906.83846339525,234436.72341527863,52169.87392451044,105434.39719880154,103149.82734193838,245100.1563883979,186334.19273568905,194877.70316542592,168831.01564118316,144445.6485557879,380358.174270601,279436.77179047506,360670.21334366256,253419.80920450392,154636.49773828633,188304.2068841994,368614.8482168882,183245.86210952338,109398.46088289499,43188.76430662323,301455.01290599594,488827.58391530876,333714.81061076093,126827.63753342006,221612.24046420318,262595.7516552664,305164.11829128175,299674.2708347118,170352.26902150683,131999.33212070086,263090.5272103701,299566.48609353456,81833.26142060389,145476.68610617035,126987.11539058984,77404.15536622675,153669.85490747954,127560.20448885964,95567.53485083574,223553.15084109711,700809.7243965602,309759.5907306854,144732.82752376836,177864.2465278448,115368.56736815616,317492.53346660937,258302.42050567782,176279.7174644097,249077.55659439854,-97053.53604684648,122610.92540366044,142505.151315943,202709.23390474872,356282.80463907553,-26860.784476276778,345920.6684144528,227680.29365833514,69983.79352120002,171725.5165794531,144678.65833433892,162394.64871350306,240841.29748844742,125812.2487215207,258525.20880064473,242463.48062992608,216762.27969123295,283725.9390165187,112423.11790452203,94324.76997437098,269562.3921731724,119430.11841958517,287962.567028676,225081.6548962036,87704.90618604954,289396.0740759695,204785.06650303467,157363.0551137428,116254.74149822762,201487.41792714555,289447.8513912913,294504.84564595006,259814.5344666724,351223.37025518855,45291.557655812125,60681.351755368756,219536.65428865267,69849.71480404935,134979.40116910852,-10563.3190863083,308616.6934965799,328596.9067745825,210119.3271936116,282966.3766838833,86473.27672027926,153014.54954112862,131324.58956209169,98013.38857027394,412667.2933980571,200636.7829529544,229190.08603109646,353589.72674929525,80644.21146422946,221926.85549673944,98969.25424539586,135382.7334746965,223664.11776466144,124876.10030298724,480497.8436486553,156878.7083832457,103997.07599093049,429128.46792450035,284337.97583513247,198642.24144961074,166786.79179913164,198717.96417989125,73427.65760069169,79355.42736184702,239371.88616319874,193400.93753484628,140992.3667823945,496267.2791496495,268569.61027490447,310691.0203610802,189149.84163082403,158151.44904429035,171275.5574883656,65231.379615982325,241196.59427086508,134333.14871453372,82798.50547242348,147711.67518112683,295943.0859934409,163810.5671814304,191016.7308994191,150643.42193971056,283320.24472975184,76553.84409647669,239967.62539094963,263133.9046296417,283286.82335679536,214301.6565967864,162182.58816677018,306566.89516341,105435.4479106149,94023.9249811355,392224.8028664916,441244.49019455584,177751.42671292496,275171.8242804447,221997.9752180479,143117.94448718973,181173.41577797488,191810.3380747703,135470.7067546139,264778.67483311414,298092.6930939864,272080.027588243,282926.24111264566,156994.34119874684,93316.12188195623,254344.02791229394,181894.3863654815,164357.0965947191,52263.112785921025,259857.36891935096,167195.51317243936,131265.1269187233,81162.08414827145,212013.55641654565,291325.5848613054,261431.7409359636,398216.1030984417,221394.04982759999,26882.595867135155,327779.6761366381,151056.58547290385,240740.73485713016,373456.3058705259,118460.0167832701,686041.8878125835,224434.39368885552,174402.76132406297,209530.5841554132,118499.34135907356,256427.85054291366,248556.82253522796,126620.78829875431,139517.52934719148,194110.67893577562,163594.0998606722,252421.60841970058,118530.56305562487,203670.89009430772,261046.3221313147,366583.61077509244,327678.55113299744,174556.71717001154,298013.1928765666,437545.5757502316,143071.9341682918,151353.3784740134,198930.0945093289,175738.2354600515,183811.39409814018,99131.74023617059,301711.5456475355,36883.686570854275,253470.64918614645,241651.02301305835,64807.15520695652,62597.90199189371,394149.2524863681,161109.07286292923,109518.31031662508,428608.44120799203,171410.3795529941,84992.00331993104,273147.84923390474,164565.351313904,151471.72300045146,115668.66724250306,260337.01901091012,280180.8599370086,620431.2588502525,179662.9541614962,96597.65505512658,179708.38107099122,180764.84394422616,299367.93722291023,277383.0686964651,279099.1624551491,203893.9834660824,437938.5841517912,255325.1980195021,133171.8795230439,176379.93051371095,95828.03548153969,139455.50580239922,171491.8115171467,130058.76144878505,216266.38978600738,308348.7965426011,209868.45835000518,112032.07098298214,278007.47817378934,138630.66658045052,44713.048354826984,69596.27239484189,376286.7766410649,223125.57436455897,63262.56538841082,64331.37484671257,263173.7621379058,223543.80466434185,120137.85123714505,339976.7142348073,310439.3772333401,563407.8239594388,217904.92451289715,163323.16648406503,238000.96158123086,113329.26245271636,74463.7042090341,239117.1397723016,222858.91516759945,70207.81471783438,240232.9533952506,287434.7862469744,202922.51072246215,373982.0763600358,251542.14971028778,231207.5413712972,148261.46963973867,205079.52855638304,208427.80352656957,216684.07405390442,414768.68031609483,283849.39821562165,245066.64119118146,196228.30907874726,137439.76241462817,56443.330142849125,130158.82957007867,290010.2500515026,261919.9262638083,179223.07319897698,171159.00550255383,84708.14490743609,96532.49153742763,309094.48981043405,480615.0808920974,224639.1340098389,114270.43701018023,240665.6656340411,326258.09040029283,83625.73749713284,173995.87260590005,158446.7270624182,223849.38158320205,247354.86695619192,138691.45512388484,141551.51983676918,86030.88014884353,220254.27702820703,166676.4000393475,620019.8950244293,329207.97172346537,215509.49844153778,196190.69432402155,288882.2454016488,243684.23319240275,197172.19213158102,161131.10903950687,218099.35355054578,69965.88144456048,410302.1935655588,200932.02700290646,102606.69113278383,210954.04368141672,182771.01929864753,465573.3450687209,246925.96329810508,118577.57777995456,138820.10428779083,273304.1989189103,299779.13650053134,74344.57990538486,316061.44889546325,175594.07599093948,120252.9401683208,147640.81891546218,197304.1052209508,132962.93023702697,428818.6474246859,243392.34925623407,237919.99005471202,236718.59618374202,289191.26728929277,203420.70099515002,96962.76122013725,191554.23034823374,282800.5870033825,154203.95369915702,208658.90877722442,316956.73235159466,309234.75785567134,118552.29465716422,219577.29887084634,261150.69731992262,238322.293159297,173191.11850442842,292105.2158072991,304034.46960959653,97647.31825858637,157919.61319177735,320356.7293822191,155370.2947013249,140761.98052472898,237113.85075251665,313221.114197863,200910.5564038405,387291.5845763508,97101.73437985883,199981.76218075905,314129.11369169917,231753.78830586575,199338.4809407959,263030.53804416145,42109.06111285827,44134.54695277539,387638.85398624185,144549.04612449915,140200.94692773937,140418.09671254334,150034.8749692882,256730.1576108555,256573.72202836015,103034.38103771092,121989.06845051367,193145.28937081163,154553.02129513008,148001.44134197079,114112.84689118032,272959.2602562356,189705.8646173629,131021.19507153079,96582.7926942198,196391.34579699504,86151.12178964839,233150.34623768245,173680.86384225782,231587.75450181286,270634.1725369026,118858.11719889568,203661.90619234613,213665.86626286808,271451.4289938952,117591.15481972249,257019.8086716137,134850.15507075615,76046.15642734415,103700.77933716147,60590.931759279454,291356.018969885,77381.09953673132,304964.980635199,340252.46054352826,195312.0590145916,263410.3186122431,215593.15695320838,302512.9699756214,193387.80856630864,84482.7774400993,249633.30185905285,288273.47250581824,219783.2792568447,334515.7328864441,335346.97312856937,254084.38857526268,141038.89505790913,243850.84566246072,298511.2224326115,372832.309876065,228251.63920649892,325595.0223548361,154408.96516056795,237176.06250076706,48912.844610769534,165774.75826545243,280939.9128557277,156422.48491298134,286460.0759174632,130506.47506779933,153513.06311211223,192085.68333502914,133328.7525747347,46420.25125691568,72109.32317613377,171688.67049649113,130013.2653948796,169641.02702780123,232630.605223912,188928.50082858806,194147.24603946126,188744.37582808733,287172.3379952961,113492.97656668565,240534.3476308077,46636.83530555901,275345.25639941404,342242.59807417024,284470.6398822671,186817.53824633383,231464.8058255622,422691.297209613,277887.21620726085,514015.36968344025,291290.7147296583,115884.80826141675,104275.17065897372,255226.62022293132,119276.38776581273,136256.17607248604,152918.32810044044,245733.91577390494,126532.6263468935,191918.57029886392,138090.24362957553,113361.11497729724,331859.0619492034,328290.3277781685,263720.26380641444,293040.4147238141,128984.1554062812,257438.83146664058,302647.76756935637,272944.43990014214,299898.0568981728,147724.1909953965,343852.75519072526,59084.397946826066,215893.04559682307,232934.51435597165,110822.05536490196,147121.64537403354,87675.14947064675,198784.4041978309,188617.6875468961,274147.9504291682,301983.1004086406,402513.57290321635,464144.23480209196,125707.57002394603,238778.95748393916,346683.5584499924,194169.36458852343,192615.56952781253,108879.54577509112,242149.79033860765,99374.73678786095,131136.15693832422,219424.01091488946,186534.6271451107,48322.09179116343,289494.7860869158,177154.70375548102,109489.61137723927,115965.73230868003,354166.14647282846,142339.22397186785,284138.7857703258,265702.91098898125,167177.80132714493,118352.94337034252,267489.77500802476,169258.64564159777,332847.10358557466,267587.2999953152,81168.74101504944,203472.3300891575,168316.0875213307,-11454.565825155209,289773.0104540914,292533.0297214167,261997.28132149152,258511.27200550967,265368.61615537957,196171.84062391202,131318.10517149884,296130.303304103,230662.61844873577,232031.82161284555,304529.4760838628,634361.0506796625,203056.8853001803,240330.29580715654,275999.2770034388,466185.41853433126,334672.0560270247,329754.7145989421,223039.1582516397,106905.90304253329,111031.64552100287,162429.46046761324,331310.5503540324,175634.43706287182,264143.0714536084,188300.56291843517,95016.62719797016,236036.03865420897,151377.32355730305,225982.50561097724,99069.35630617569,293441.7124174392,186127.20153645542,104793.0042237799,117481.86849199799,267857.74196911464,252980.70663742,94038.3974185794,191685.12156420917,72290.77412414941,102753.83022696932,116253.65285705109,245190.7991349596,162344.9785088165,102118.43712979186,208687.57576426005,227089.28755168308,199009.02625541817,168922.10800308146,334573.3407761688,96885.85503065375,177739.08718576038,123647.72727438045,78765.99289885441,137926.84740340506,76553.21991382215,254224.78286858008,226421.43397825476,203626.13177891553,443087.97444220213,164369.39409985926,116475.24455837364,174160.02397317108,103394.98762761583,111568.18535475817,318166.304144847,454170.2883928551,175027.28594148633,80605.89089534892,113593.78977682421,324324.8787249409,339266.66212473635,303366.8262577381,367912.4304832651,219869.70479099333,245091.857053774,74514.83899728733,74807.3766930133,215721.89773785297,226392.1890869587,202620.52707490814,264138.754181658,149736.23449471503,49473.98480034419,169168.79703057877,145413.88850734825,341323.4779062896,182898.36953491194,241482.25919099283,177354.4439180965,178524.0949117915,148259.28297921078,335092.62082717987,231262.42698177247,161829.68121797312,185748.40562708926,273345.3893676605,331263.6392028372,220323.86180309264,354512.1947447326,256910.59697666139,86212.72150828382,207831.3887655472,255994.51069599306,34999.502854181104,301915.7192924268,108155.34759585932,344728.58261327806,220356.87964860295,66159.68269875456,303562.5996826627,181641.50884273456,143204.53844056177,302596.3599864473,77496.10134963809,116203.86992958256,286850.2709874811,160756.30503158123,155481.59430784013,185024.9727476575,170397.11673344212,407692.2819462203,103125.31934957486,150246.1091859673,199658.82050560653,136396.46689883427,267969.01082283346,115234.38644098403,168782.1114672005,97627.30815323291,372216.84982213855,192091.2414083731,251288.2921003051,169464.57801647167,134064.04146822268,225488.96222917206,128135.607848869,91156.03203497967,337170.123691151,242988.17805999244,227972.9049475528,312802.86839595536,364818.59415125474,214090.15453926692,131276.55113674793,132179.56075689135,239353.04066163677,147757.72520673912,208594.19450248708,160334.2838336314,353519.0004383045,309388.224761232,84655.76403217163,254335.57964111184,305550.1472961195,295266.7307636759,105387.71537806628,176740.80699047912,523469.5640025672,68457.17411180385,153917.6066066258,187999.30011320772,212339.97824725282,99678.75299485796,138106.5367759099,205776.83947017405,206266.54956030054,136632.15673133847,155495.01712633448,226272.85243666015,382383.6747896388,130460.97171052963,232338.84813812666,260814.8672059954,107408.79940686906,86571.09075555293,253742.33809359503,106604.42331909662,108417.00004000666,164348.8253177416,154132.18791048575,424999.06943402893,185972.23599215286,394486.214403915,206254.2421909105,324442.4777808535,221832.71850131935,41499.598121150804,130078.42110625174,273123.3475293496,221935.42340643765,235194.8524607455,42006.323093097686,242282.68055151973,63456.73022612199,207244.31091176783,273858.32821807323,216636.76333596383,141159.034134286,143874.4664162827,238634.96803220335,106966.3855237063,274087.58990354365,197597.68274762013,253351.9650707284,164367.68237014036,150762.02510443912,319524.67955415486,105338.87045620981,175673.40781921343,266984.8387380926,251431.87914619505,519470.5256927914,401153.901615704,171770.38340185067,190153.21933714312,165961.82950966043,87744.17921198542,185165.29625323703,162522.42096940943,241214.6729830592,276810.3801866465,74959.49705667022,209989.346889081,479429.8570018948,204887.41053478408,246914.73021733627,208711.33684693303,192882.71203631326,339194.8666096332,78937.55562462263,172223.97352603788,107416.17576648691,58373.498027576075,150290.0361022149,204638.05953566643,304004.31407873274,157359.69684908984,213643.7298221857,336912.06613131636,128842.96046741659,181739.95481389892,236569.41005980351,288114.4419101796,189381.11824547825,191160.78825298563,276655.14230122423,178158.8058909116,292739.5299661855,222370.599601568,105078.67671166832,219969.6691699136,78951.56491287515,221122.93971942057,302613.1703964891,265507.7254159906,340567.248052689,235988.1865098909,162659.67652282614,159068.49618990693,184438.84477396088,260239.91460221185,18024.475015263888,332350.5053314106,274149.0798977372,165630.05715611627,174966.70748267625,284379.5214797837,184603.69542106203,293702.8197033136,215164.39687982167,237148.15321893367,196092.91164559082,116547.08445504514,199868.4940499864,230859.45614577248,232000.2234308052,156209.96422026982,114533.22937005962,78065.38193204999,294754.392382238,319697.8094151943,35843.23637193284,241499.62803078064,194221.66426308447,126634.72227186288,152634.13994268925,266947.65630493773,131154.19018248428,99499.98392034284,210477.12150211073,-31929.1955973921,162137.58625443056,439104.4530613546,280628.96542450995,154460.3755784273,315255.61888581654,172352.38910115368,284710.5523441444,228341.01922006847,162471.2120021729,439873.19522783114,46510.65184904891,246927.3934221503,86166.55241671011,143346.67959721189,292919.52997529786,118843.31101583826,292046.7682889707,149843.73188459518,96302.75059662317,121986.95537018758,83941.59734365405,151739.3023053265,317872.2419965437,221210.94534903666,349612.6006752645,218339.2362406367,337755.92253674613,199782.91189902308,95030.67435003107,251130.05820771775,216965.48804247924,271979.5429016313,276940.1926124291,116398.12069467,134157.31016730948,275628.77666160744,273241.69339088956,331828.62698730396,138717.74960306744,279746.4888745084,117370.76211917671,71618.33996145503,151427.3076684478,111290.72757240705,226341.27111437698,346906.6546185598,189962.30283368815,231392.1113833316,217627.03844566678,101633.6721355789,299544.4894577779,186755.13241131854,117600.58693768282,208833.925213753,102804.43907676495,120961.79501972708,577892.2576531407,213695.09688045052,521120.45743888104,308665.9632291052,111201.05890083173,256530.25451951096,226514.19386075222,217078.34506632542,58792.417178807606,209158.9275217151,262337.4073393668,248477.82001887323,193976.2865220144,146224.7256946779,223162.75000676635,244401.89324014302,253786.83595850412,114678.34594047259,154672.96059499355,92427.93064895642,270493.6030552341,230931.33900418217,246900.5769367033,307447.9513794689,136051.22058864863,263562.63280193944,499166.08371355507,178287.23980990518,320660.9157980839,231524.05430868574,309542.3989086166,116463.64557425451,105983.01906342417,186719.17426760224,276547.6815188925,118077.73646184,127308.97974000184,478224.3155927555,262500.83269011066,196829.13080793037,89882.40439005592,256328.31819263712,347122.2544822137,181956.3523496277,247596.95056096543,99076.69933526336,242493.75798641387,243642.045916923,289248.1590161394,232315.16693852338,245699.39633343127,268455.00593894505,246636.7764075491,407598.1908000722,117030.38683774647,260223.22455412272,248509.53726375249,120348.82163010597,236246.86516737833,118119.42477486035,534987.0538323377,184453.21437001156,255493.47593878806,174664.9648723157,176442.53887692635,213587.38706424503,201491.3343986607,286106.25716370734,255280.1801341613,343863.90213959524,344316.54896683403,201777.76212231402,295797.74068456946,141707.52797479858,174244.405649462,103115.26813022049,217011.4736181093,175733.54753494862,367368.44479209214,310844.2071667542,117314.462052838,118116.73218230534,30339.014868075872,218500.59039691853,223657.3036332903,222312.90923159238,203137.34003966508,110700.39764485671,292286.39587871294,163143.26037136346,129513.30226065425,168923.25700107045,197860.65556175422,96100.52489824087,102271.28384511438,114241.99715611016,382165.94583577465,84377.33303638728,104126.16608591427,201735.22974032385,168670.13381611538,104905.00802982665,361103.64436995646,190020.2616908407,153007.76009859078,81260.31241879104,213767.4468007667,122276.70726701478,163859.916804283,158011.1989107543,92879.98413286035,158742.99824975157,343845.24221793143,140969.92738210724,339395.08069072093,112783.49302363215,139459.75098926201,287538.6389763881,148231.57327809389,636227.0728730587,331624.7273721328,176960.46053500497,168277.10517051822,140516.39358258527,82710.65678637083,302638.7544802913,142601.09357655913,211955.56910378722,248380.85851625813,106376.0193794735,151743.930798461,113990.01358713911,244768.73058662046,313153.17490461015,194045.00348552756,265321.8999618301,252520.88859795794,247120.82310352582,195888.2444705888,90704.62041964747,125824.64761413852,298691.94513269456,84587.1968255749,163543.61677313334,61372.77217788572,124129.15235836463,303142.4022033479,92292.85580129334,184110.2043117152,98832.39071059253,334348.12957433495,356570.5502177948,278297.6785744751,263068.38191600126,236426.2960483282,279349.845432862,228826.41749301486,122017.00472150407,127976.94244856169,207248.35489487892,98472.03329437028,127626.25752191557,40328.36040238352,242244.7935970613,207137.69914853317,217747.6438544696,221772.8682424731,323796.96047866344,369715.89814206655,148536.39416753856,236760.54940716602,118220.47834807572,180560.0747708313,180465.89457987022,282732.8992330779,220148.151125931,79312.6827348718,265695.15169280366,141094.75265128922,131456.01413159783,178413.17732121368,94522.54010551452,147869.76174029123,104598.05745491506,273975.84820759937,118537.28392748881,82028.62255536483,109872.36808658784,147385.76339947182,468055.2218393614,161149.64636389917,227787.57719575125,109937.83549563443,94757.89354284326,167191.60185435042,156932.8925057316,241999.43981697885,139310.1891607076,465054.523541645,224745.08151679585,200634.17541056842,68560.3622157172,154389.33388275202,84589.72088257966,105849.97243675365,250423.18703923275,214108.6530351341,204389.33166219597,56444.879766242695,44535.01454747177,55111.26608908601,270060.58550861385,340219.72180879733,162294.37039291352,139108.65121535296,88801.1795872112,208248.60308482248,148259.87155140383,284602.2138139626,96203.79183628298,153963.61593179434,233803.29248421206,166372.08104165626,324919.79865200294,303835.5538046397,211240.04412397346,156001.92175883127,117491.33208954582,245071.47446727604,302709.7205774514,212895.5037623117,128897.7688782587,135531.7139861385,294245.6218237006,99664.52196439562,137358.93236941667,228578.6842962805,203085.14287476314,393580.2754567759,157158.3445578572,230361.09328157286,80431.53442611905,56744.109232156916,453808.69522989774,205345.63036417868,373859.33935890347,248294.50581681097,279956.0024460601,410832.574311001,244650.01121745666,125731.81747769713,101937.14591990838,198184.8324532382,332381.54013717256,222403.50439179782,84147.57388555739,399628.4219193631,181408.75768183696,269437.4573747531,266087.5130952719,159652.59971519612,340540.0341639345,244298.99222394545,198892.95646544814,228186.40323344234,106917.38077389105,259164.31140974187,155823.92122340764,279678.15394467994,553785.4087292128,123684.97010700393,80511.35869291057,125132.71925151811,118579.48527754277,87518.13821140016,187596.5782461234,205113.93890391,160042.96200690142,321276.9925633541,40868.647769335716,286001.2534383412,176515.7651032673,520669.98472942493,279359.2248290028,145632.75447017734,96451.6998555907,118446.51417613786,487862.15948756406,156944.68602163676,345650.02819629764,225197.63956761,283501.5137867527,243410.3480832934,248767.82973130004,271078.52871165285,312088.30499709485,117462.45113748955,250798.24375512497,275378.7909086936,237959.79857875346,165415.3692619279,77170.11400077479,208198.1565938186,273374.65069489385,98611.26303363676,180173.11797647664,198695.7420785086,224697.0445893068,236089.64338978348,203666.71917834308,160996.7148490908,208628.72691489896,104222.34931523,229775.1878725364,120089.531250814,318914.56305624405,214495.08867534672,417202.37982817105,246217.5647285797,94651.21684781075,114225.17686548836,257115.80784411053,243033.65137125243,233644.78727584466,197774.61535128002,360950.365076699,165688.2259548165,239969.730801615,227953.62297407712,203134.16749049257,361944.62143984914,260500.08093506665,319265.45713176153,62951.572923486354,91227.31769543362,79267.84020990154,84297.31102188348,243115.8030165658,245902.35112585567,261659.5762263877,207541.84835250513,172676.57761305146,331579.44928950665,124835.10224414973,65183.54026728519,93918.66622812975,257956.10230204067,168699.2947825519,280211.0087665877,307595.88270805497,256644.34037804953,313188.09532773204,180051.6427708327,66879.9339208022,356833.0982275683,210811.93976386485,307988.7311696545,210797.85802235614,45967.2539672906,225419.43301021546,312487.0299442662,99470.16076248382,297499.1868717213,79628.55848155438,254209.23228617074,73371.6775375843,342239.29002839467,349133.48514272115,262492.04294461675,102332.36135787987,194239.3745657781,273596.1645786441,141426.99179620005,192058.90541057353,424291.46737753367,304950.8389167734,100959.1104356118,267245.1345727517,382126.15877422877,161318.53053673124,200081.6902238444,214236.4785737502,67568.19570774122,212370.04425691668,160230.16537022646,126619.09290660112,195549.82944953546,269321.55650284956,105773.38023579234,161123.05232208932,188463.70102811552,206515.65205950127,320074.7906101056,237337.2619729405,392474.9109740132,92231.31900293849,120558.59156117841,164884.47866882113,233415.5944761309,234139.96504354326,101952.99370695095,277748.5767518626,165023.03062686938,245159.05401055966,318121.06482219964,79259.28173477591,221463.07173045125,88714.53902082573,68439.05980145148,318751.1561318843,385396.60722791904,239929.15730088484,122589.95527163605,221319.02116652607,193148.85268102124,252770.72828225975,240641.43130562227,33711.51810579878,84902.93962587474,60365.741153778974,141477.204676929,413075.8573971439,247889.74535001512,108007.94122081541,117156.1072529529,129052.20794673919,267527.03956857906,202700.01659948574,307204.87071369385,522775.1380588167,147645.3094730854,261882.59914213215,274563.6135507965,149561.83525263084,311365.33529583755,183995.42346585265,234954.93311699186,51820.545048682165,211515.87454905716,117588.34422792858,223848.6340413357,72647.45485500371,59205.51274589865,398394.7657998322,152382.3315052167,264721.63720599597,168232.18821230181,365597.5381834137,260805.47072386486,101298.4423627644,219450.9027201045,167403.2230366885,73582.48813578661,177788.38002130087,84223.69560466651,296104.0295431049,105826.00541677384,351456.85895698913,255398.73353120105,167393.28930708137,187964.81460829813,132910.92670766692,264749.3398801073,209552.8555603475,251926.83544498618,117545.60491666767,75554.32013288076,88777.16501004984,250086.0518851886,112950.0743643186,230420.18302889878,256769.24005926933,215592.39676683044,364102.6884460746,154655.15761972748,78512.02786670944,175947.96934946344,57783.95478960191,64001.15001654535,144059.77863772708,298100.29063651024,322398.16358238296,201704.36591811856,268315.92503223644,220957.32587437186,142868.01146585605,72381.15493857462,262334.57013302494,284208.53989923804,119505.58526207077,96004.38783872273,342016.84818069986,107626.47880952369,227919.82227516218,306854.9832026794,123270.50536446553,55548.033419412735,176495.4395092738,54744.059767359926,165750.23722875322,309538.5137092908,282217.3279718082,126725.86724943137,54473.542430027126,101645.58950852099,210241.99238841352,244563.6718689252,195515.09877624607,236092.34958324922,201771.1653254739,289201.9331642793,121105.89688970607,313464.8886743365,271937.4008790775,119683.61685973397,269713.5756626296,216214.837975271,187950.3243255235,162299.9866967609,114158.50337844648,240630.4453086247,151707.5734319471,203162.8868142895,411019.93661096465,102766.10768122361,296558.61117736995,259059.71889398753,91293.91834594563,235780.06616750662,113296.10040730225,175347.45388507258,168975.38919823966,29878.941763767012,308053.9282705432,233276.82311299402,32254.76692369778,88876.47177032856,224876.86714614934,137754.0154428572,187753.13767378152,77106.50487960907,274265.7066226802,211593.7771963128,224782.7170893963,197150.48269815452,179286.26577503356,132836.98678974263,249975.96889715118,151465.34447560814,229393.06417850172,194750.02779376047,237751.2169691917,241543.2129335177,103478.28433914654,284905.53221738915,236149.15057553805,127766.58394062855,231616.5862747606,128988.03146404223,123819.82242688411,292806.9091256209,269020.6424828997,36884.253263805644,76878.33882376298,114196.1022924619,241451.86977459257,120644.19327669413,143069.13767916893,47611.75180948165,309057.67206724145,168969.32840374782,104787.09515263443,74492.05082494876,287479.3040121533,265255.57806512224,92869.44663562,97399.2924968466,132963.7074470247,46882.726027454046,185163.7879414763,217937.87938833534,94559.87212042601,70025.07557099732,144778.10891360574,98476.30591115459,164686.6128782845,177584.29861292068,189087.62716703996,205568.30960034928,168450.827701614,194442.6395921447,295804.08019898075,210116.79887141834,259531.96988100896,235036.35315111707,151456.97764620927,76678.59846307954,199418.80079751668,250598.82411390595,282475.7098958021,126745.51868516492,199006.85655515705,254452.97785467375,239115.64449905412,160682.08445315523,270031.0188688273,139990.3018835518,149414.13431624376,217260.2002702962,238490.02978826017,264956.89417803474,31887.560143858835,150466.6646490541,125313.90239908273,315658.0801154099,160822.7108863268,185323.23517692724,369642.1999271971,281206.9805739103,160895.97075709258,50354.93736930544,185502.99518670753,275964.3310426482,235397.15640016226,139164.15021688072,77220.60987280836,76433.75266378804,65423.292200681666,286806.2181025903,261667.61346097192,145677.32452773483,320078.3154365085,279703.03755373356,497940.0922454255,163081.33304641,93671.98606163813,135693.5964948486,146995.82826458395,39506.557869221666,314077.2744647012,127705.44931905539,256522.8389144881,184975.94458878142,144525.26041948586,223711.01559030515,65206.47890892648,259194.53417360043,303429.3680385324,121345.45240237162,296338.6602318792,135485.69059264666,230031.8976160201,190058.09935965366,89812.21257823409,182531.53849722512,132005.98652719794,135936.93739709575,168218.21536703932,263893.4837386272,128096.8604418113,89646.26713762915,179889.8911239997,270826.6996042989,54071.37823504416,239986.24970906903,237858.93532748614,255692.1445808911,170839.82408480663,186514.93882631493,227833.49735429318,211234.35199094334,174500.52585081797,90598.70792457342,94794.47756187506,196775.30884298432,102078.46486399072,97910.70123016852,247081.2544148389,71850.29398243048,207984.4898289357,174200.73680355705,201901.92831577983,155177.99881659023,264343.20310455444,70354.6506205438,228773.95961818803,397679.462714724,126655.83993853195,40574.61662430773,567407.6086976789,94619.30611544012,134503.80778242383,173690.06175641046,349593.54060260043,272231.50985938194,273920.2295813535,330866.8682616524,224357.42047180666,243173.08235850162,284936.73087206593,139349.839085114,256277.05644421233,124598.92987307912,390144.4571095656,192015.71560185502,287969.72643502255,317372.0026829619,168111.59689643406,290192.0726983657,234085.16459037445,306944.2166116867,249658.23626387923,104158.8442113786,149731.40038988087,171077.27676794858,191441.92518585,126670.28354911084,347525.95061525283,282111.0823042686,232771.0215961202,255716.2183261899,266147.6837179705,275030.2153795211,236955.9172158886,309392.2122440289,140402.59017024335,151909.3371647475,222423.2208570797,353792.8402826751,251212.25125602953,190732.18087862458,271430.9471973102,216902.79912774666,127555.61749089014,269557.8475824171,210796.61926006534,130089.87284738474,160965.79551528842,92225.25614849907,230201.9455800734,142771.38645945938,252657.97340953472,331571.5684630377,191680.29208285344,136885.77691089895,74024.59544597511,335886.6220155933,200277.2727641824,263405.31787320325,101747.1403181254,350950.6327440098,269280.8501978297,194195.51451321004,189029.05162447752,222580.03613940658,173318.30464514464,173118.0565839566,205654.20669431804,265931.52911104134,134201.23237839836,108485.12393756176,287778.58238971455,252687.24928381536,184385.54472369357,110659.88515523837,206170.15075846185,98835.5300491945,159813.22743249362,75947.94761992313,244877.44126890652,193160.0491730321,141397.80901716166,139452.50241136382,145238.0082762563,107257.73298211966,287117.91483986273,233511.09717473265,317237.4321388781,75114.5167341822,79978.37854401338,70685.07568267576,197168.93906423854,379529.32984446513,182618.2149803307,135817.8224406161,523932.0181045171,134589.74328083242,275119.43688897823,191264.3196320641,311162.1315739722,155139.56823031357,331166.9819916183,285842.4548301323,285297.00595698133,259145.38298198715,329058.34756938973,166279.6348633839,243735.51400895306,39978.901923334925,215430.5265301096,205827.05086154313,249077.02523485114,279274.43774755154,163447.8834997809,277674.0433385064,122650.0571033583,139230.95177312716,304499.0784683615,215294.80029489298,214518.387239182,159079.51510241904,157609.65059689953,225708.55593646338,75552.19330814664,270366.4896277146,294755.77706736856,203479.62825638277,271047.68060830986,213744.4081233199,431718.6077830191,214153.12966479285,268251.9239885724,424132.82532132714,207154.7597717449,271457.0282585091,473687.2357988264,214293.53683677642,182876.1069248596,148877.58641930454,95581.4160148681,118476.55925940334,73526.00696835842,56915.09801743046,123258.22288886149,189610.71607283695,172275.87265706185,58177.04299978097,254497.7472255815,137293.04518588827,260654.08502979894,118312.77927212157,253627.88437515116,470622.88419637945,146530.66345737386,118767.29737485708,271977.8171769624,229830.41982161513,113340.15240771248,241309.35872668822,305067.8287694076,189922.0261661015,98243.18750900091,308400.55834093946,103875.9369421272,251249.4111872969,126280.00350462683,140689.98232027274,274698.18976152374,190422.93127732514,147035.42615056437,241312.60117353383,270540.2408184759,257701.9277442725,67753.26897888334,94132.4053866911,251186.96824070596,71930.78013737424,265607.13626368745,246359.24800360878,139605.8391938494,223451.22438805926,254664.92324205712,179267.24386380066,106750.05044869398,330836.7009553961,217168.06090300274,222998.42971854543,242279.47923335354,382647.75284872786,179395.06060354668,123092.96345101668,344452.5195942982,93970.17934798819,339142.89795185707,67244.49270788307,264073.13231162645,202401.54368581285,328466.1562051594,60204.617152161314,216195.03579533673,283561.04783026036,257118.31729214118,181738.45299540716,114357.89618378342,158609.8305645259,157237.6174542801,277976.477305073,695936.9992632882,370586.44040360453,275858.4616072472,152542.6150256376,285336.83693124726,311464.38714870415,264281.9635019101,80355.10719618812,282704.544598118,258228.20012335252,274153.3803798438,255222.65671897403,265410.1043701754,214904.44313374406,538544.0254444187,249976.61957770825,197717.7669543075,129461.2361175453,155872.97957880874,239881.16394230444,174660.23655124422,110471.78081700171,271075.1755317275,147547.25978915082,200931.8066606719,182269.44415611276,131443.48118849954,99514.26851980158,199162.36157460767,127480.27612206919,95891.71877591166,140011.97037903924,300988.1072456279,311209.0773439595,266594.91842727415,161647.6740354346,198860.32351014635,189249.7435888973,80990.80311496396,137021.29133270663,162832.8803346355,176327.77802322956,241509.17661903636,142866.6474194165,38051.60801729027,59225.57571770885,253233.60477329756,92979.09136434284,242339.2742002978,181856.1850119868,216152.01474622253,129050.65901122271,188220.15068267396,303598.97043869045,180912.5542686999,192651.07169559185,175542.02428094222,134478.58637530287,149445.1782094282,61388.3550002476,266137.0167256238,141697.8010406321,169114.7532618306,134440.68021513932,198665.88042353466,162261.6142758854,201186.73917658263,258296.552130756,339686.0716162955,424142.76052537165,182338.39777169516,172274.38590912288,250031.2355593434,268399.283862464,74014.3737312846,114855.24334839595,239178.56861257588,63035.69446725346,114435.22709855727,227207.70748481987,96425.19742467458,207078.1245621905,133867.65104248014,141720.72302926134,206489.96646359807,208336.80119589285,142028.015687434,171179.20289818573,387888.8000518633,121504.2189509505,224046.92052663298,251269.53365071176,274197.5251317819,116644.58476578291,128002.68052028438,239365.99837514234,252973.87269331305,183984.25979495212,205426.72480010235,146579.35525879965,191869.65684770315,413418.3455445251,288672.55509255716,58970.165638190665,265190.432820537,46336.1813696468,131881.67393614177,103655.75423012185,286492.71120654047,192009.21284716896,350119.60630780645,69749.03220286503,195254.13815155148,375277.1024588493,119300.91013661554,276177.61932969396,227338.98002982364,230729.60123184172,307256.81999788235,248111.39420243888,226041.00520912893,216647.98178741414,621151.2565701972,167457.75118193545,232307.3587546069,97015.95399014211,225109.81562899525,141899.63675028595,239330.98937125044,473621.50042312074,176000.14725344095,112679.50946088825,211709.12578178308,168769.56304800836,74542.62377717922,147336.0979860377,131267.6662519236,133529.12661491323,351546.8386224024,330852.14121065894,259153.17743374078,141026.782908089,215869.53640977657,148308.7086037869,208298.1434539708,226226.84447528006,160436.7694365093,626361.7675112196,163411.1230947313,153863.18493610556,223143.6099346389,240367.1732884937,328643.5398182197,153696.5652183677,450807.5996420615,413206.1308066326,226054.03673286282,239944.50708954566,196427.20179596613,299401.9960765894,117305.90759920998,142944.4818325314,182868.49270185217,155260.65252389022,251946.73631113424,159852.75440819646,61796.10653135629,251745.5151343082,258968.85747429202,110080.56536814665,186383.94044445013,137404.90223635943,125029.57247880822,127257.26066277613,234394.93717944837,211424.00475772974,213823.58601753716,140482.51552189118,257438.06390555445,259654.30429075722,50664.332286959834,217501.40321216264,248673.85648290787,188941.72319108047,98810.28507337795,249919.70488230488,283960.45153804193,185377.17279771314,270201.87749144924,169262.87913626223,309831.2417135731,231065.2912031419,341927.60761231877,659314.0133686826,260243.4028087362,413975.50703241886,109529.3536343921,118666.8471807856,232760.46623991232,103019.29740621045,27930.506049644115,212314.9856236767,195573.5330557018,276749.19191308494,154037.0485695754,141186.0647899055,248135.4851761309,452534.35270736413,286965.25114072266,111166.13226339652,172227.2437165203,51634.30224981648,327921.461673805,325817.14334545546,293783.67403625214,497386.6041793593,361889.5451818063,207989.14586391312,254205.445845114,260189.5810745342,259245.8959508698,371236.0471976239,181979.99141923283,183311.00312923337,225456.56543034082,150227.78536899402,67857.88932974116,214746.72588909118,296954.04633380525,158881.95659078832,74224.98266313312,218748.2027243375,34881.27373917686,91137.35230758312,200026.49612907929,206921.04411321727,175710.70915060825,173480.15207964956,252906.43882858398,314947.35618254985,281489.8338248506,404304.1792120512,107354.56851173795,250514.02567155415,153261.7582796528,234864.65612038906,525817.1670448291,166359.472587,274415.66518380493,204532.19425116543,117084.94866598785,186986.87409724953,261436.18005490233,343952.28103806585,203509.90510432253,-68418.2112782459,227269.57479805732,218599.52056765422,204051.91630145567,166851.35112550977,243006.88497829848,243239.91009555158,181742.91305898823,252930.11129185202,192472.65899087937,216218.08825720448,197191.22791158658,274813.7286342444,304295.4909558327,215208.2127112318,266838.79703083617,76127.69867934356,121631.78242525298,235965.26915812772,230030.2857506144,147573.71050650196,234681.6762891382,166660.7749948166,195711.11903982522,73466.270602228,113170.24053153291,177917.1151951966,151701.94568477984,75049.71826790576,262619.4260310503,251630.18591762285,211958.28680335742,143332.99884157258,163421.2937248067,197509.78379524997,183660.4058208009,224332.56569548848,89494.2233953982,238155.01023643464,261937.0110796011,226969.17144019267,126300.26609101259,204121.36672822296,191839.65823319004,299120.5311452706,184391.2172060768,206188.77954982294,115882.73208860564,115424.62952364059,227277.35352772393,232904.66160034045,70352.68502597418,213551.62430266276,199597.71422604896,174859.37460877857,344214.59849315835,121345.60475060782,165701.3068437621,284398.30913750466,135731.70120574418,212489.814569012,316465.116832852,109751.7813069982,127059.81520593714,199123.22663379787,125381.73102522123,488301.6942812867,319434.8165577875,91843.98929644475,153839.2547568743,75302.72004338948,10572.465883088356,140688.049431651,301923.20233472786,434578.7817188429,157099.72762338095,153257.09164438478,275922.94442916574,97797.93462616683,266002.69949846645,151463.4480303403,213382.57134667446,272149.2154956333,226925.3049975326,232876.1075679888,217888.32617586743,58124.655227121984,156059.59702627844,285555.14736281027,204801.39223654108,64872.92364085186,149508.97478659183,138253.58608617072,149069.66368740573,106179.09948692695,235950.42749505836,275314.5655060809,105234.6567848065,392317.46590858256,169481.01839866856,76647.018810593,210505.14441236167,276535.450905774,130243.12596597154,372714.65985430795,334824.61526605394,525544.8149852569,180943.68522905937,259189.4813799515,317524.45737510396,119046.67239940312,169240.07594957494,330242.3184806503,110970.33426275011,145336.83505826612,241064.09523619973,299978.4819910561,156088.3545341876,239198.80714453995,315517.107049912,196356.21301793604,313382.2475973701,167753.01933001445,302206.56624646886,156862.8521154176,51039.67530473342,37503.11381809774,251739.29337700928,270685.3253446674,161789.44488111662,236396.61220165848,204899.66386895732,189339.05225304145,318479.40342731064,131096.46620539,116747.29292668129,122345.9205538626,240020.5827313079,243308.0325401142,228200.02803794478,187111.03896589743,272342.5684676748,234621.76339427588,80289.13003681245,195579.15058050648,260006.10199750628,227339.76863507624,307342.434578461,233359.66294503902,118877.47872839824,145822.3057942315,159038.39620380328,279952.2818201655,183524.1114244337,228452.27972138213,286067.94538042886,120070.612806768,227861.40428799723,268606.74695417983,238116.41495534818,73588.45703238319,266155.9472436738,242058.7511044516,349128.3205620259,95916.34827755965,383494.2857831106,53156.13268677614,107020.63810586747,228455.77935113508,372144.9504209275,130381.68558621901,166653.87588358813,272946.8366645436,473072.31954731786,125980.67945794693,268391.0007140181,163914.0985003517,273629.1205283297,218443.9521205441,64855.0553872429,102562.61148001246,141639.29040872917,329246.3446770408,160215.68929602543,209694.5927337209,186284.33992109232,231706.6311889714,114361.98335878257,230102.1392887662,176660.03876674164,189950.51413354266,140040.0770889247,92836.49076962442,295206.6244164915,278066.07535658404,149271.485563993,183308.11146240952,199314.84975362953,150334.09335062694,172127.23324217918,155711.11707396826,251446.1000766172,177203.98188083997,148703.1101057052,308055.0276936755,125482.60107553605,298212.520369826,256722.487756822,143793.45492265106,199410.1123896221,212324.14533921477,217828.00143440437,251732.26630895445,107604.2029303831,305646.07072975655,213912.04559263051,192431.63562755726,276559.70378798415,231928.4110575625,139461.7040306759,246258.01736359726,214159.77104197472,165637.8027372468,163442.1217635504,41560.931075178174,289695.01593544165,335902.70167347137,140613.6282166087,142107.88849810837,173621.1551723407,220763.19612802053,107700.0729917917,109132.92864315091,139197.20449946873,237267.26451337786,330863.6835099446,191433.50624854342,293957.290040399,186228.41175124815,183200.23179564837,171221.1730363008,213035.9295639788,43766.31494039702,200737.28911548614,54330.011829664436,230872.2214950156,71055.18710800487,46259.84972417951,261813.83435713433,246722.08678651176,50014.644237805216,265817.36736272136,166739.01614021964,259294.09968485174,398933.68063972436,63584.89453365156,184404.4242987815,350486.8997095876,285431.6801732686,115683.46556793802,141455.3597486855,81091.3771765276,190520.04735569283,132771.93512656394,195081.97584795946,126910.85798785943,118485.08963408336,250577.7193039017,71329.19213192372,122037.25940555101,175660.49162564482,363298.6972701851,187424.98549535466,263407.80910550104,230446.29285125132,239006.5380161803,224629.4669382454,288535.3052337438,70732.75336759613,222870.52546283588,106895.36459110447,109572.58753477785,103881.44514932213,83118.71332361449,228223.89068122886,101065.91433473371,233698.6578511531,135415.94030276177,315368.9520436505,294990.3618757913,250097.2393587911,267084.9225394907,435971.24647332204,198723.7551925698,384263.4311538789,217941.13839192723,198068.43407981205,201386.6143752202,197027.12434842542,203273.5971164911,263294.3010539812,40213.73105965328,215736.08639549586,292614.3913816798,202996.5207244881,202291.57424124732,71704.48021771447,99943.3125174355,264549.5390896753,293482.6847231696,266018.00457667164,116106.3546467255,425856.90059219435,181883.78286056922,99859.77383253415,137402.11874360533,78935.7607812676,220971.39214916943,298406.49364036275,195441.8370723462,270057.2873148533,120821.25164870753,171331.35877262446,195966.5692370195,180284.84435513307,130709.88762611157,92651.95122690772,336764.88925279723,293316.23021733225,278271.5326932246,298077.74968742614,256557.0151880268,152708.93173847967,140625.93526226238,82743.23698970658,228260.5739379801,96994.923420657,242056.00128996038,215472.29882043428,116869.38303027922,201791.58218137713,300748.0352415283,390942.35716852697,117146.20813522438,160027.46038717133,109993.69409586053,96295.44394662813,144308.11988776855,148100.6225457231,104017.8746901974,131925.6674465349,90497.52486034874,132208.12388541712,140220.46300161368,251248.36385511784,101629.1144330248,136111.8474284584,324261.5168751824,173375.76220103618,134473.24883539169,107233.98787787245,185431.05066714998,389982.6400012565,196045.04247290286,108775.28718056492,209355.5127454056,195720.10451620835,222139.7004513064,312000.7803342957,219649.68559330588,61531.45180647925,433913.4154525129,258896.9732104973,207183.61316463287,247887.28130630482,297089.4774115096,223043.2931372436,86832.49554665937,198311.39928385592,204795.8226168084,246090.38364774833,134302.4108144494,264383.1897515574,329556.409290655,301995.84814972134,91175.18266480188,276393.6555562827,96747.26543593255,151338.6547738254,102199.61080595622,220928.34056110808,297083.2152079204,185936.38727486384,164770.04748070554,162306.72773485916,227962.37214154997,134484.64899085037,493713.0841934359,390520.54110021587,71675.55170296266,284311.5655723575,187748.1228691521,230531.7952228887,164070.66181304713,301695.7159495937,348735.6368270658,246908.71549692214,136011.1922662194,188736.7084741775,248197.68549141125,177924.5231664551,182559.0132645513,133513.76911933758,214027.95751126055,254983.86928912767,173455.88735071121,266464.5282487648,205633.98359754577,243609.55975220734,215557.1377143192,178918.555252043,279935.5803266558,145502.44030893233,445694.76503059437,191949.24396060748,277155.106192073,222621.54981836773,254152.76882226663,124585.21744894111,498469.2237049838,221592.01177229054,211390.55375854636,331290.23883341794,317525.77413964935,63762.84870959367,357011.6800585486,234922.50380370178,235130.72297965075,204659.32854020182,184038.49094965632,52182.234368403355,101357.84096863374,282775.3548057051,83211.30251511087,358774.1853994648,500521.8804667014,246905.03627818194,238899.52712506743,265189.2864482234,97581.00493139253,218672.76867814278,192585.45657783886,111162.66923877614,344460.00920784945,149019.63657357747,165463.61253363278,181351.69887252114,147052.71052958944,168746.49987368207,160029.5405024965,81208.81113937548,421439.7787549596,177931.7321719025,320910.28967061325,185481.3649318399,292908.8688556021,154140.44538925943,267712.7732610805,246988.90949454502,265140.2129070419,207759.12866929616,162053.11506638653,216327.97748705663,148870.43608572707,169233.0947074342,280598.0961331562,168590.2419887845,224484.8786176302,49170.263578085316,123810.41449251998,116827.4463745249,190977.68028997953,119312.21968132912,130155.09145729456,236564.41420609085,307662.484561816,68653.20704947517,258580.06702292192,214246.2960884134,316397.74782694306,178797.30261650527,126053.34666734138,141806.75845037278,266406.4880412742,15857.270142819965,264873.2382196513,257243.31002535304,313771.255025326,181978.34600317176,210432.84676906586,130818.4736048592,234108.00578733702,265500.2685135148,147721.1505862411,81140.90406094215,203000.4696697478,117227.16702423137,112003.39830289394,175987.76673554498,143956.88055698722,118384.88952463528,271718.8322892704,65313.78867886029,258518.1962038789,346461.20923142374,134960.76605927417,200067.18890869222,269205.48320269684,140047.46648721717,61979.000752076856,462462.7512290736,180650.78873043493,122485.97201471364,280891.28820138634,277342.7456409704,226467.1523071557,234682.66299495098,520033.88367407356,170141.06970109727,150620.43254527706,242647.72207676366,102802.01490254789,168480.98782076343,97276.5569729655,229715.9381806025,170455.74075040838,133955.24580941495,185485.7916797366,206368.64360961973,156296.56300126767,266186.0412208352,306571.6153795407,243875.76050074486,220524.07233035736,317937.76183995145,130640.76211592363,126908.03597615928,337174.3446807804,190022.82427625975,407273.8149770715,455669.02358626365,140299.55279303092,381735.9705356619,54704.77538415807,75654.20825047093,398174.63190501113,241049.85288168606,159453.5780415583,353627.73892313644,218784.56251302158,362297.0759869404,304800.86202046,139361.60751289566,258543.764990087,120441.97985108194,225713.10571544705,107047.29760823135,150302.02769194316,237931.11877749488,156213.30168108176,223479.257560182,127022.65366801301,369211.8445616984,254499.2798907468,80533.92803788737,114366.04132988851,147441.52728342512,260017.09010467387,136665.1293318927,307829.17192757735,163093.10084409252,232541.0929399945,71946.71070713137,334300.56095954095,194420.04123348626,69975.23366327284,160997.69548681632,380850.91108291625,50811.91493919713,352149.7957032255,266530.5563019979,171421.9405605301,384661.04962919635,98018.20135739699,228784.31315304784,146388.00118005986,257583.1350470498,245062.97521387367,253087.3756519992,125688.15257830308,106052.81108099973,396423.1938210053,267173.72130258835,136977.00766860382,214544.70803977764,224902.78228158504,185972.38314911374,120564.84607540915,121559.85067622476,97718.35067881519,210096.3887328601,98349.59922483246,114602.14763541792,260510.7444131325,109594.18778680314,310259.3342319686,121892.35235917114,159706.9325853841,138379.60415748807,50892.14113529032,345766.76490696555,114646.36566868136,232365.1188062642,410890.7601434568,243073.0521096018,67735.367564977,332889.3854884828,268240.36832199694,169153.13974624622,218600.35608602548,206501.0789083758,285730.3643883015,265229.6195351785,212963.05794185132,272017.5647937144,127510.73902122918,202974.66628913523,181956.47702928723,267092.7798415674,223665.31900808046,207163.08947685803,294184.23245576484,135717.86930391734,101795.77994831523,305565.90972834453,136395.79304199092,198466.47417642167,523296.2491367906,324629.0329375117,77620.76607935029,93379.57440098081,162029.65590118122,160992.93786103232,228438.25346027513,223134.02846118997,66044.58058103907,213304.27113348717,131044.29313525913,291261.5109691541,168810.2412880496,247821.52265107713,51650.472121659695,263435.3650699627,173193.28014335694,141071.3071019231,297240.55589889496,149654.58796084975,249968.79803172877,86034.5954343452,214921.7255204697,99389.9682090329,135279.6870295287,216804.9387229697,159669.54825014962,291525.6316735017,135471.65680757022,254390.72696875082,357259.2461709152,273603.5670636896,58142.63594293734,337887.8670217798,293011.291058617,339201.75634791586,169501.86359018716,227122.79021997785,245797.99779858883,157676.00827440992,236784.11881248082,225922.27524885826,269410.187134729,46576.480049050995,59498.615936095826,103981.17899694748,210954.3224407204,37277.38282222382,286989.0677921837,235391.10549299244,277647.91858550103,289080.38216635,356961.1998457126,145668.51928284043,124077.85260202162,320417.16006666323,138368.26989944698,111965.3573778912,70113.68122976064,156257.7515415477,151898.18575537115,309883.6121374067,99491.08865579154,113908.59066221683,271342.3729633582,254294.74878300686,103865.98182549729,280370.3123528835,210356.8286131036,285848.6169594794,390911.23247448896,226628.13783968874,256726.00848483667,203711.49114394005,272941.544151252,128400.22338805147,259066.0399127726,282167.9011912976,171339.91622629872,211774.88405710825,159303.03262395685,282328.65279358823,166347.06696482952,96468.28270213283,38924.844931787695,50068.40007547196,61185.001331630396,126084.39222033626,228780.17567113132,147725.65125679903,133654.5788806827,261390.7196824231,375083.05220400426,161387.30696704774,112927.43597051819,313937.7231432908,62861.05687061889,99700.62944451877,252731.90237901954,311199.59110851237,301817.3505433259,188890.34397070247,37364.12843994805,213180.18401385297,212329.8369988819,168782.63759601838,265781.08270245936,148309.31347214844,302494.3427792281,325313.0498430191,153014.94318539486,270551.3519706207,172554.50968404248,295058.3225616402,321822.06025780994,96709.39858624304,289111.1726242198,76774.34184882898,210645.39121298224,140192.59811571482,323192.24727357476,162834.26039635486,158433.38810625245,321545.5529194715,296549.39350611094,215939.0317066097,94009.6504120592,433941.7126573621,77688.49668446458,136973.229799764,88183.35778137419,302577.58848094044,322236.93563323567,-36458.790857615764,138792.98246032672,276977.01958868915,193144.4229021659,181966.0238560291,120402.5547727898,285599.75151966757,230798.02831082564,100273.64552841077,180575.50660744315,286084.1870426433,663273.9162467932,76588.80390281891,196525.4426628552,526774.7458473833,252985.9360504256,313272.5190486938,232146.29767907568,110214.6432619101,151854.61211591036,295402.4675527688,229247.59576006388,47781.741734787356,121905.9677826979,283863.4934843333,206370.25511274004,234827.11332945386,81984.88593569785,253192.9906399204,261570.93609102126,111123.24854497386,230633.9924222794,167523.8880899696,259086.66877273296,191539.134524409,210277.5663307827,165166.78781522374,290649.62608800747,145084.69585380796,307345.19364777487,432670.7121698896,95520.30893625056,406367.3718728274,248663.1913723234,275534.80232127936,137078.93211679318,283131.1156154001,237171.74539221136,281481.09091004287,140107.02002703847,320530.77132379945,107546.20783951336,261405.3804706185,250398.54736270555,149380.86217911838,323758.96792252024,122197.9484878926,250908.42377151537,136702.41818003656,228368.6688182391,130381.32348784147,205172.71740516438,146134.0701228911,266124.9194058993,217825.70619271946,119179.86723589462,291836.91780652315,143466.29873441937,261945.5633308681,315934.39444221766,205823.6647383506,244618.18271789188,187415.89663478185,185679.752405532,208489.8119969856,253216.9236054169,236389.29406565847,141521.49526246928,222687.78186045808,97201.1783864703,162941.19065815583,206870.15547012218,153715.51900860385,362915.4398992278,81741.98040288151,300233.56540561805,151507.76032314048,157078.23294268543,144424.7072639293,173085.53238686576,149057.9846879594,249898.2279558765,243242.58969468484,85030.54628136198,430080.6423314006,226418.58896177655,122599.12265461663,70408.40301045816,268738.86500509805,281646.42644492944,81012.06356654402,247837.19259904078,272140.1299735709,168841.86438145256,122103.25593576576,295581.57624887733,298890.8019561772,212606.9778836336,328195.53057607234,188882.4055025761,165102.46038870257,104759.39747556597,265713.89674275246,127043.0708156714,157937.72447061125,206889.35382197463,208456.0067565212,48680.67268209733,70360.6356934293,196169.28485389426,77651.33935391919,57710.33227843279,167343.6382745378,128933.63102229766,146177.97670773746,57728.56012616225,39098.41957372945,124878.21818023187,127467.31792832415,14293.618944131536,288780.5649743905,246285.31597688323,114712.52710343606,171176.9591321795,187911.54334131122,182677.18597811554,197533.02165525669,107335.73387011708,218844.46141986773,141656.97832713093,218837.9690000411,244741.76781509942,242772.44209357043,233978.54933005763,200274.19111751637,161791.35870023095,141098.2492678184,152806.36520788528,118691.5853502116,55568.0460739659,294177.7734659397,379345.62122581917,154475.45998848687,124417.97404776582,133183.51575552725,218093.31104007232,286872.99435385823,152481.4695086793,602279.420370174,250048.91271384765,271315.24082137394,211271.75017321814,293090.0877865168,128500.85765198269,155292.46933803,119885.50273574636,276925.32568614616,159718.22530597355,206891.50596638466,174970.19311508,338482.6698580507,183110.92512845775,40699.16780339321,218183.04371797375,246317.8292876511,173382.5118983533,269967.99208602606,56172.97603460963,191490.8437568343,162609.2292480714,146674.3376721443,162662.8920123777,130771.88801966788,359011.52759737987,317098.8098794353,274095.948317642,335106.1141581473,466387.02387724834,391510.2524616559,173514.9328188307,53658.55811735586,122443.50031596847,304982.68436256354,177753.31059026485,293367.25085011614,128673.38069147433,244133.27494093706,233375.08784244818,149602.99333737086,96757.52147424038,225304.2129496157,211215.69722150906,172580.03242882766,107217.19229308944,247462.13026119123,129189.41550122992,151198.20619112434,135769.09158814783,335645.2251518549,173147.63474408974,279712.99594271445,199441.48504549585,222330.7287607852,237772.71970147098,124162.95331928981,290449.7676930268,52052.0924561407,204648.1135566666,101600.85105025399,72536.79007606351,81616.7145182173,309842.0227449145,150800.64608856835,86298.14957722134,224777.1724048354,176581.70239112098,213144.4513159959,132577.61653556357,253722.53821113182,246222.50630346948,181672.10061974992,274369.921874772,122726.52100600804,256917.85939743402,255844.19582576677,80913.91497475676,192771.75677351232,267533.1228399718,188210.68857013306,280873.89252861403,150545.6760938727,302390.76791087724,240830.62061923003,207456.51852493634,279108.8694484557,282428.94563333236,129203.05629690057,235703.9722714852,111370.94588559982,143062.6209743118,240797.59694775485,325847.4368637878,98375.82280096348,267050.8201504997,201601.08026418174,482317.5148222662,204228.16004607873,108450.57883601364,265646.27618445427,330112.3448468277,56505.19393902802,115353.39634271208,55746.94877713613,72756.5863941636,210658.49914324243,214171.4427509939,296838.4176358487,138145.80889425837,219374.8173194116,264397.5705166389,203198.92976330378,277470.1585275657,204378.4717785109,132935.8412989538,142291.96261704105,251324.63006636428,231116.5948350043,95688.0639412394,109734.7577095893,166605.3331045962,69093.68159358049,284049.67761002306,141556.53612164487,195818.15592325095,297080.16686708236,231190.6559872391,97588.46076459085,159059.8621406309,189880.71620020265,127988.75355177748,309654.1318724195,282538.482717879,186475.70211904834,87332.77391882328,249297.20062493003,104821.15144636169,85200.07977752654,233910.98585378914,211497.04821238585,96915.48857018998,128740.23842676275,136411.26372493067,221695.28537886636,284471.8734870465,115940.49696691516,116320.9371114051,189183.40757456276,245920.56655862095,128867.764787135,289006.8730007411,187977.30018294777,133534.20982161502,72038.31503633404,194531.4170619256,360822.61864645034,251433.6909721609,99973.0830342496,316311.2445188594,125285.44635628753,288990.3081398575,294651.9938666234,238546.77788152482,325015.9949392596,304346.07406328095,105523.71380424859,294302.9538117787,157452.1758882944,194131.18448402866,198069.04571742017,347957.6232541119,76975.57757052858,179572.4712797376,262729.8471910676,63669.66866083475,197114.9600234366,96158.60725290295,199818.37494002504,110527.45023590581,195459.19950398157,128647.83213490591,210407.0721794563,200732.43868370957,336261.8497372437,74944.57102764232,95928.3460697835,157794.04623175197,213969.12923348552,120327.42664860733,36831.69656549342,174643.1897351158,157060.49551591874,224364.07992221453,260501.89615959284,279873.9880606991,264433.91115248355,93015.2041607789,444893.70148424286,203798.20920639572,241652.9802607802,113298.82691025088,80675.95752443248,212400.03588234258,71702.93173151091,279302.46295249026,149399.49384194694,216942.93724341682,100791.09255022058,246249.3114565272,347036.98079345276,213509.91567834187,88102.48808374582,329035.8020699705,242834.43499037664,225873.96658987633,41806.54317746675,180131.19841743552,349945.6010037414,522096.05782991374,111549.32269742448,296867.7053220908,274517.53338867554,152281.8565682355,190695.64605169886,58201.045041133446,204431.4492666951,272705.61488630384,354771.8672245126,170094.70172964214,62964.82196849212,136569.2742639804,304943.81277550245,235080.99308438238,73692.96062852559,129502.47403710359,208152.09228157456,140867.14243692486,239989.09476394174,50833.360241539776,143596.2217987299,248702.28840848862,312487.7474493542,157288.74324540526,174155.84435509,79935.74862235288,273526.65631278395,234495.34608780924,90255.47024259063,275718.87338487094,273387.1696168628,170836.57302426026,271391.51302573667,154585.26290556806,216534.07920940296,206567.08917762752,180611.2558615952,160335.382159582,169481.56638359494,193269.02780071972,120150.95547308083,220042.6169732793,238731.2087838507,401398.2673946786,118287.01455797792,263017.2445816798,261250.38171885014,375825.4959720749,226631.20882498263,246481.93297136106,67408.44941158954,225739.26589002437,191329.62005482084,146247.3615885657,177638.4050918766,220489.42178599196,136782.13941926684,319404.9617596678,233504.9285694938,189213.30596826435,58852.58549047445,188584.43084963638,459567.5009024525,265285.6130391641,246310.93997179967,168627.8298873066,206157.06135662826,201617.1272629835,132744.71439665538,361776.14205147745,298960.8716205966,147508.74567523022,310819.3510128378,109683.40259057056,155417.55064171797,414284.10480147146,270393.4637370721,173043.48083583103,48370.235453582805,300917.98907293065,269465.01061140303,350564.0354556853,101940.7576894983,237596.00859518175,97195.86851552542,197947.97148809105,145482.78557577534,46383.97008191075,161683.5627483367,286634.63260269945,192398.78556020305,208164.54752571895,77794.8290646942,216372.46791787638,291625.10325982934,184255.03774799278,170838.4693470933,280094.8262973577,56616.340739026375,162853.53074568004,222728.2927033078,286314.4200048439,187919.05500076394,188092.92503229328,341108.8020500836,218345.99866339966,117450.93685957041,236558.40145223695,294735.7474993349,364253.40487738024,213042.51453714422,125024.27197508735,131876.43983504258,290283.62940740073,319727.0546966504,380226.85418862954,223288.11828989346,186569.58974207228,111875.71534845178,164682.7206113663,288025.60549918766,162606.3437995657,210397.68720501967,342231.39462383196,234748.29975505103,86419.50504631759,234196.13086481256,163956.1692145004,240217.09220532555,157614.37316071888,151858.76690957433,240399.37854782655,95023.88766384612,204736.76292529528,229773.123672054,302625.00929769804,377964.41570115753,203869.6862542409,106433.94015902573,314049.2982637395,111690.25225317388,251104.8287191459,111834.02905726647,148713.98300265108,147472.19451510103,322103.3097980408,89583.12903022696,151277.2328948366,246324.12484547973,278629.2131750842,239856.7575715485,157318.63881654508,282074.6406061609,203225.34348505398,76475.71623734097,235832.60352509998,117406.12826967599,60721.890454713925,237771.8078785073,46457.32938695763,309458.9455424614,220719.4792871956,232786.63279173055,207441.58487793445,20476.073120857385,134739.8370624372,155064.4332284873,164425.55675679445,179216.0984470132,185716.33677308922,100932.5829552108,182872.0133143702,63806.41007418989,211150.3769080022,209703.6560943955,178724.60387261052,88859.10907197034,199209.39918689633,153905.40414585848,176541.0510435198,105759.20095499259,188688.15184291755,226818.66599578812,278762.4323421968,262513.5174463234,161843.26496154792,229577.40801367274,284698.8068014543,77938.66066820073,127518.85700648856,157313.5845657509,293311.3646262997,202915.7767468533,125344.97599700367,126752.99536881193,143348.3537265524,270013.4263960234,54368.17347201219,96337.32452026365,286979.19814215327,196019.3204248382,185204.92605608632,172026.56109566207,243594.93426336691,189969.42171317065,266585.168921205,131525.8423889651,179162.4902523128,261997.6263566332,152453.30534474115,200513.42911534602,357068.29459349334,127742.43890480223,94793.62599098653,214853.76255560803,380962.70878397196,130036.51659712964,97273.7178891215,248352.3639120342,271070.1640073056,132140.81672187816,102333.48879366097,431588.5634688244,116112.770718594,285608.86935508635,136816.47951553226,150847.84945424262,158748.47416932537,385618.02085320244,435677.1521357202,298756.09446141653,159171.68896039913,233056.09198960653,151470.13616277958,220824.1770235073,240713.17858784506,143132.797699017,180526.97977742288,140871.4100716873,192001.83226255473,250073.80011565215,105436.08314689601,405346.3994528789,144485.25940871774,240048.9955738229,128656.38919882543,152226.07124599244,278470.49265563535,81022.81014980967,202678.38733149532,43304.92819452679,243057.73249206488,334604.4890902627,351297.8933106257,291322.4124843966,97319.3896828969,330560.1854986454,80787.92517160281,47147.71266226386,185273.79410042014,90338.00589983995,105956.05721824465,39230.83986922295,137881.54282319473,288909.55673998373,185658.53907020995,268758.8347166224,179736.7059859045,88646.4384003878,322791.7580442134,142726.63709249115,190191.92122656078,113893.37589377137,292259.80507476785,303389.2412466345,133594.09513436642,63031.154759914876,122025.85048352656,160210.0685883992,218621.93157797714,287559.2839448447,215388.683330625,142898.01993377873,150758.02795579325,72602.49895747827,235895.9331199703,132628.05969885137,390748.58192207967,448745.21687992394,132842.93973666843,106862.88269395789,302057.14230859256,237017.02250637178,275269.83975107444,175631.54182613187,187885.40001706305,90504.69165638703,374498.68371263694,58763.165309797274,239964.49815926392,75861.611142702,325173.4671907141,148635.7109625981,223268.76674295287,205560.82516251423,145863.2710725464,151658.00645678202,174282.48232363648,295425.73799107224,208024.9138246734,72950.90030244028,123053.6040124664,129919.59745439411,190863.6707465274,117341.60148502994,153799.38332965758,429971.067912381,160508.53291793974,151985.04167025373,70109.3697008416,225049.95786710066,200972.55004582604,132465.49911000946,80866.74646538374,100407.59071356563,143326.22322865028,284409.48733710987,283801.3382266927,273635.0587707135,148667.15118587454,291173.2597750913,109911.77877702138,139723.94692907762,284181.04628321365,332312.0397034838,265389.8822353985,242159.55681699986,353460.90109475725,253362.13656789408,302669.22471377056,166264.01853796223,271936.50002864614,168728.9614330572,131726.37221086086,215437.70038008015,269828.01670856983,269310.9387852789,293914.83459203166,180845.4115071174,139876.96374791153,255359.3991292242,391204.83633580955,247990.52806875232,47596.38324017299,68931.91615583157,181251.2916852429,91077.73316301248,222700.76969388922,141414.66883122877,108410.68054624026,265456.7905309798,290202.47543581144,159115.6965724,305972.43220912607,130903.05462127295,83227.89030542232,113636.76339523881,243560.82140830118,171401.30106725908,321064.0354700524,195908.65049743917,78979.11550995374,149119.27693936278,274656.0277525941,366720.96446832287,332515.98619370733,66905.00990728551,142520.40205507094,228521.42574125694,193204.5778282697,99737.28800707828,69825.37043333394,352225.29125438654,263277.20359713637,290270.4813707467,192851.3959216397,379155.26770625485,138982.08036151706,66572.74655471294,134665.90175571013,216848.45852518355,161424.56657493778,119910.32475863208,72253.13233184561,231664.20784055878,194060.73532086326,69274.72277738067,377129.53775057464,177827.00155359408,159007.74711964885,460507.6115729712,282882.6138997864,372796.4017505761,281425.86100166716,151871.48565393605,190059.33916444218,296531.91973999434,285338.9289881348,99849.23427733919,135227.7028865657,242806.19393177904,209191.0847913739,363283.22210361535,342855.8342448101,210786.65277302454,225084.17989945586,524674.8548895665,311875.1361582173,109823.8086463303,86016.66671199581,163728.9325670472,66277.61231374578,174297.4288694958,101599.72119381676,167561.8018335806,201779.25859242404,121468.41214417733,383643.1660645321,58849.953141798935,183490.23635738532,236774.12894333087,204666.5995268218,234138.92962877188,266272.1303621272,262902.69194167946,91847.12704612185,151413.85690268798,241829.60738278038,350199.71130472585,74186.61669775788,86777.97904162109,53097.63861109255,96018.5747740533,182056.43226663466,89479.11815931521,158412.99516625702,300575.5485573154,301984.9710794858,198309.48368525034,98441.39819488769,309495.855642613,642070.7127486453,113214.40466018784,122409.834134976,70527.79482039061,136064.82305172994,215650.21386670167,122616.21160506512,165588.50756858583,153814.72152062602,87917.59230777805,68535.58047981531,99613.0888951272,201025.5751140762,81471.34051157064,106654.88640646284,217085.068405788,122744.7751735449,147756.04068886576,148958.54314527824,110292.95070646143,63040.040298844106,145175.88730793886,123900.82976345741,67128.87702922357,106114.85220006263,205081.13275375342,282014.3500376922,374110.97027089656,136357.2505747582,106797.4143824376,115429.56511107244,111331.24845524706,225850.75626783192,260712.59787409214,227704.93856424405,303122.1291652626,151086.49982582463,193935.56236410185,197380.21642665163,200470.94809118958,72849.40256577186,215150.85804346064,78478.20318020972,75035.41311952175,132775.68623333526,235133.15549917283,311666.36119917035,321382.659569411,256736.01977482077,166131.78461922138,175664.6889542938,122270.97229286117,67213.2066314529,237870.53465533527,375448.45235925633,160761.6443717272,218224.12172283896,313364.1471471712,291622.1548232604,169350.57641743874,178592.5025827293,114038.71452940686,62892.98194858382,216728.53190729307,219872.57616254274,427341.9497925758,344027.061606521,272396.9199623914,177802.1916050972,113344.97894733989,374154.85867108003,119592.09433244898,266232.32126629277,144715.54753924618,119781.57382718177,183253.38709280896,89713.69855777522,69014.36548857827,215604.210947563,402174.8494507874,172042.889401694,98580.60554708095,249584.58501045214,137286.7893622149,234551.70327594402,262025.35325979837,294299.82418742427,249207.38918220456,75386.368338687,187985.75413517718,251899.51944027538,107500.81763612166,278591.7398443426,98535.27107741282,172648.60454099302,144034.85840686335,272014.2097656839,407068.5921464135,294212.35080451233,234003.71946628275,146677.31264119927,277766.3349086961,235351.84464154532,330321.5490775509,238014.7142632706,137729.6482754792,248518.26950518295,97190.95943153954,334658.66701706883,182137.29477195535,322896.1840338679,101250.8390785369,354441.94327625615,288512.9682465392,328611.3494236466,173811.32110141474,680066.5598932542,158995.69117346389,214814.1547249864,138539.17315127677,164868.80639926624,381300.4457930238,297924.15719737986,120615.13260889269,257211.31659137964,177486.37183088533,244640.86887442804,208606.32579378714,330031.7326904532,63565.34287098286,131189.27876542337,81648.55889494828,229516.10969035365,152446.42098545385,148339.75130026293,207189.68719072474,155301.20441848293,178579.68353312928,245327.14382256387,231770.52634372874,153956.48451570387,83746.2692147229,314909.18257109495,459145.6886435794,175204.77377197758,302101.3769928174,177630.91398853305,256446.20959750316,230620.8025411053,65760.18952117546,137732.48078861242,231045.305265475,294470.81117570936,198963.0077308365,145571.0049505973,334261.50048877235,314745.0884004226,198407.1458004238,60081.15683341492,131635.96486110036,131306.59359025356,229670.3746429099,189373.83826905445,272492.47033660393,117692.65083862671,120394.2982000655,207374.81579498056,155776.2866786696,248001.01467828115,119792.41188337831,218892.9005338024,244612.61651406545,178698.95529095328,276238.40425328765,284319.3035586708,214892.02952130008,184712.97992596048,91370.95623099749,159766.5038689251,201292.455927636,192227.45286603188,130479.75965326246,112268.02878109712,267184.8024431041,327205.65126591193,294902.6914011481,109784.20953719257,286950.7227091375,281742.9612726945,193206.23193033086,115215.15082349468,131988.38419392795,189324.41417225302,249354.43308559945,222097.86335657525,248421.61417471484,79725.3470824043,215521.98885838842,122537.3334789281,93289.78680663751,203667.70261712148,456283.3126594684,240982.45802170437,229063.24665431603,371391.9861258585,266017.9927138297,35393.76009842305,320703.4399890369,145123.0775454021,264185.11771317746,209596.38379591983,135603.86354080233,395703.9750782663,173509.98026595946,282149.74323766364,133449.8282147172,125513.9277065459,266834.2112445852,129000.05995524111,100690.03098233786,292113.6921461427,175977.82934832392,97624.99630079005,213662.18681849423,251340.24976194234,248266.151118491,289604.34165574214,265625.98193422524,334330.872342295,115954.93811146016,188881.10801389575,212072.2975526916,206963.96537240883,297549.3130993978,75123.44639529203,360277.95119936607,321613.8958877458,219535.56419974906,96699.53064821768,116954.84797562439,171040.15220536117,144527.5199980174,248109.42708711105,35412.52981060973,171899.6460879796,225184.87631907748,171998.19698228297,214647.989339782,208501.59253204998,236647.52481966888,225792.21355269314,292475.1555775292,210854.13004289687,113746.85163669367,243736.76522474218,179916.7334707309,307570.0067778907,124545.72873910608,244993.71318706067,242333.9157821751,242706.56652155053,240844.50719914405,293193.593271154,79664.82088880477,271707.9342922891,274040.3801405086,203650.86035112306,236569.09006630396,335430.7699201572,185912.03849994292,235758.86766567075,441184.3120720291,196240.79048649597,243508.5066189667,178224.0889992871,163750.68972785515,212247.29431469922,204857.93746380383,247732.40440354048,58089.75267327367,68664.57504117998,355862.551874801,148782.38446011808,154167.6764114474,346447.31580469885,229865.12149125666,169989.55070299114,74603.41593941062,269404.3546200215,153603.38639979623,225973.83302374583,178408.2438837634,196276.02810322074,249980.05075996334,237844.50787881747,136258.83745641267,104259.69564645762,243226.90718829105,311922.9370550789,305819.2716005071,251142.1100026074,149401.81828118552,289396.69521791843,241645.8969744876,283276.0727201233,297303.8267737748,212367.65544851375,257635.34020992267,173380.66080618996,265019.52494012774,36816.30311191769,200809.49041926337,248934.94684836466,250546.4519554909,230223.88051532683,226078.91124928408,141915.41512945012,95707.23578717359,157222.57882036065,157381.32383408025,77444.56273551029,67118.46326824304,137001.3984996071,175761.5181163458,271448.8747052883,51550.67769809457,174265.04364553187,144696.6120545964,170324.46603511722,237996.87450659246,222555.41523645283,316686.431921479,250872.0577117274,81914.00129909428,389989.20815736987,235172.98779187934,178502.68016105553,225575.5842831702,238519.97570425732,220243.12074714628,149721.39107497592,120405.20195450408,182483.17364279277,173685.6842337903,155920.30289626072,146718.66833417147,127662.81583441094,149158.73520963336,153812.28122152892,211558.5109703909,146778.59448183846,165935.1785722097,129217.77499969365,295245.2680029364,120448.44059362487,133748.7428438099,39605.71451916994,186681.39959112412,179878.32744231544,197731.62980735,34767.60008461471,73149.94292865312,197809.99240754955,240158.4252804258,195236.88079913193,218736.56172731466,257811.84086738783,279928.6138676818,196952.87276911945,206891.1155860922,289359.3687441303,203630.4101063564,223420.9193182467,344917.63427043305,42118.77244462416,305890.15975516743,378188.3245687561,135284.5638520787,64234.89993508998,129074.29647054707,59731.930143153004,289787.19500403607,157675.06647937765,339262.84281311464,323942.82599460444,156114.73039765403,89668.85344121384,358233.9886684038,426201.47722696385,241123.89272082242,262373.78261956025,233088.75843356876,56361.96840469126,284613.16982437525,176366.6957636734,115167.45717945808,418633.7190542395,102861.35115530432,192423.21200728932,401944.5927811066,483238.26610599394,222985.00423832587,237963.42016088066,438305.6535129404,114970.37192432513,183884.29036807877,177272.60489482706,340332.6255375177,250211.1012258938,133897.26557894103,161181.06164533342,316222.05837712635,151450.3819629554,411169.21493445383,108808.30899147967,278433.4500602955,252658.58645017364,168458.45918740117,104374.41102764576,91762.82479203973,209715.659925276,176049.68181388016,240069.75322967392,175004.3409275008,212972.86843579338,97631.88734383715,87980.10693669313,432578.5482722271,174369.3927911804,128027.27974549808,61381.68355489115,329823.45164960064,27104.606127023028,212504.25165780607,223467.70400175764,174531.2056880113,181145.1321788101,160366.0386031263,193454.327997002,147377.54760411504,239414.43204089033,209854.47809647687,48344.74526008003,151593.91614210594,237520.99794019948,137387.63289286828,596191.2411089321,175063.85634472166,141349.26292290137,339264.3148699568,194510.180467564,188951.01343524287,150175.89569006913,178318.14072624635,213928.12730924608,232216.2729178982,174137.39221463216,249887.3196882479,97010.749166347,207488.55177528062,282135.4709270552,388437.7104263047,431749.22115634,105312.47475026261,204449.89279112348,234927.36489615688,189557.41221284232,214560.40301471236,104890.04817086254,137697.57578871766,311494.2063188236,295613.21838035027,233774.6238819692,152106.20628674806,175291.70731019997,165753.663805216,337526.47627217416,139836.3930200719,110531.12550475472,274079.59988908994,121759.95389037274,87881.1266245768,198331.46658135866,82181.06720885105,227198.93310383483,278672.19906769786,104769.57354398469,215458.77422266078,286760.2118209088,125855.6044200476,219552.04908453423,145253.05227066757,209488.25947132683,240794.26898239995,295190.6273458961,256937.69026155781,161507.7588032041,69455.20809459803,245876.79498747503,383192.4731376523,244818.89542716963,297515.77677710087,75632.5050101717,77696.16471768463,189879.60182826198,368653.87512802985,212264.28454439616,113612.22108839416,181437.34037721108,189305.78894645665,268408.42983259156,149871.12457966837,107896.81749748904,172492.35937802625,387394.92572595284,325351.2566460294,251531.58878968193,247836.47153118835,336013.3480186715,223112.1314090343,122066.80444162396,138585.333212414,131313.9986706917,263815.3642320849,254467.37066956534,50874.55181911774,303834.0958985963,368344.6388771412,252865.1451740184,203082.87617486963,243339.4442716869,259590.76176855504,77305.45414864084,244541.98408331763,236762.04936207295,162433.03838076463,115974.29685170662,201854.53473142695,331926.2124075735,233680.86627984667,279367.9682821617,247550.8944066095,54573.003531867755,172496.69494059295,108848.92632382945,281905.2260724323,108171.96169267801,273975.3229175593,258715.15553804208,281388.39403769677,149444.3422954544,167564.17412261246,148182.41942778835,344001.8920614674,210412.51625365703,150625.5614185666,98688.45555910839,331085.1563475715,278006.2787418767,215837.43847572358,222688.0470417955,286980.22229638003,295483.5576842448,169935.60669700013,213036.1046416664,218801.473798882,167811.29756016942,257302.44537794,302423.7781759732,130077.34149987297,197784.8579823502,140004.37615511,220672.2252432056,105167.67502422293,180200.1123703378,284445.74768303626,127444.339259085,238840.8376549306,129927.0024805619,304056.6173538856,131160.15050362455,106264.36372640009,297898.8246149024,297158.0552457895,146410.82950592448,170436.37814670627,102243.99607466225,167284.91336534923,142063.98369676538,411906.17515614664,114545.1625064754,279340.99224917707,459469.38708133186,254285.76067517808,100708.09334666743,255084.77343833243,110336.14112185131,161995.6541035286,162218.23478816767,348387.95872918784,467851.8658593797,113735.08431458102,159016.4025949491,90163.2362129796,270740.22161776864,106571.94626768705,247109.7523830301,193510.86964118015,221976.81283162217,227916.05834601715,244910.63319592513,251531.62122319604,230584.37129672797,282195.5602365696,131989.72549768796,174983.23065849429,173140.63725901017,199091.77971050743,171437.58806268786,268999.83165471215,94757.486583449,193120.54452356003,223026.04338967171,291832.4814278869,302752.4732948062,272527.49172661593,195935.6893460714,76997.26580813774,185955.06727852387,119911.79826959029,131477.0506207937,367512.795997389,77841.17539410916,272085.412540379,48998.04120630355,89537.63947826113,213534.8027934431,214510.10451443197,111022.24018857362,233470.72840940207,319024.9820693047,82672.11029987983,40886.683865144674,262509.1631093233,266315.4813870829,164718.61130726142,253265.79279702448,259971.71712972716,116581.13147601944,170200.68276457442,251116.09139792313,162654.78203230308,257029.23181771353,200368.20294018742,231679.96545620024,287491.1418021525,175846.60643007574,217299.93497948238,84731.60171318919,51187.58827573806,194772.07112378208,182091.78782060745,42930.8029905931,215255.57339000236,378143.4969828151,156084.1589903482,106095.38561656236,177787.4330352029,141557.0485644615,35997.51398735144,242397.55009651178,176467.59802537665,279568.4083916001,52953.65515076794,114322.2891138707,261233.43496842563,341211.6944228234,125833.61236240335,281146.49037653813,195506.21175793916,359103.10725111526,290923.1594167119,184006.0206558846,163693.4086940348,56166.154943215835,139638.62242190324,92052.28748748283,126659.19480835136,130906.33506166357,254278.82468238487,166978.34708594735,-15857.919750372996,285041.22834936535,106546.72218277393,221233.229126294,241854.50471363644,237158.5340968797,152366.66523514135,300922.53435102093,585348.0834442175,243886.83410164336,257885.39250526272,19378.805254504783,309520.4430335427,134970.02450693524,109198.52599666515,79001.63543100908,313951.6089815207,335736.9392455925,314557.48031224153,266140.50209562544,463589.5178970642,51871.26943917535,76542.04404542592,276467.1221380178,220861.68025867786,230830.58799304764,356365.0547527577,282301.12335429847,297198.8025373936,430353.81928037456,292475.1954850484,296704.38034210546,178298.10074467782,133929.98353998247,204808.43945444198,198844.33989473563,233229.52443969972,206170.77466247423,166355.1810267669,80057.03492260381,293069.86779370037,222772.02312936995,173541.5639937439,246924.52985400037,155889.3198556808,76928.2117276036,93483.62447027605,115396.65495116735,329364.38405629795,76323.94078438124,363286.3451260746,121119.700427884,391826.00706716673,399317.1207026206,124746.13129522388,239142.79484820634,259302.70071414323,304528.9663512887,278363.6472853328,172431.57560125532,174993.8338240076,251716.24721688806,221803.79834532813,265670.3547854094,289838.566169758,144148.06697197372,342715.1495257603,198421.63797845776,246107.00747311985,272538.84505092865,130864.3527253831,290455.01632153906,297457.03640509036,227310.13607483052,259440.72713342565,235256.19874717126,360120.5760075224,321216.6218412933,279760.4888957344,245800.3668374677,119274.4347885047,131347.76839090098,127220.80567862726,279581.2154069005,146037.00528100593,67024.31079580734,170221.54095188814,260619.39007735267,388286.78134994314,120971.15567519091,160979.79388968408,162462.40706832957,363511.2682711995,286964.72885368386,221129.41533547046,108986.21797275548,132162.25547187185,224503.43087600905,183247.70094280873,280874.084387149,125116.80978074769,328160.27023322915,57721.57076722599,224593.0561997579,38706.44771348001,77595.76405266803,120919.97187347258,240009.0559624961,235961.06085297343,161734.51237372714,221497.16856566083,348293.43420308107,183954.62106398563,146326.41155915786,126894.85023548381,229445.19406073494,162350.87867595576,125438.51672647089,247012.22710437083,122213.91531696857,101888.70007844808,159566.0265021067,282388.8990096358,104698.46272095238,200930.72151914635,132273.91471765458,400333.7091585712,155519.8191584564,417711.4546951566,138121.1665624185,228101.3368790541,138342.54006678943,92563.51952775671,186228.7919409905,96610.21248968963,143913.0064410143,64891.75764592577,83471.87372684745,291631.0890447065,236616.67279542275,277011.5038104531,60565.01062398017,199994.21946781603,145938.67498798665,280198.35936686734,202385.12247184283,203312.15826425178,141057.57014624172,157121.61736677022,179436.26270290717,271042.775788434,286956.952028929,374403.60884058464,329534.2859564845,174020.89940328506,210965.82661569316,109319.80177324999,188946.03281308227,160885.38329579297,165665.4597076748,37759.976892507955,284037.63285365177,173739.45138177543,134971.59933841802,280996.46025673527,202699.36892100587,264577.6273221732,242433.84414382346,188694.77771311437,245862.2976137399,156787.0464235607,259988.79703416163,189104.35040992274,305764.29281187116,237095.55569211597,245096.07189776923,207823.34924791442,185690.39471419863,121548.38910278465,273581.8008828981,245072.25046088576,282256.77829781506,95130.98233267611,202314.91181872156,282020.48818975105,102846.75892803729,97900.80014684102,140329.68127416013,260878.53808806872,240058.45890345777,129315.16050323709,367993.2501237432,203996.9652234887,157704.22951651728,232840.0675382428,195524.64534856507,186741.02500609204,279506.54746125493,212568.48729855145,222826.9105694346,241694.06043408194,239125.57443898782,246996.27972368567,263045.2217067293,193334.0071293259,104945.80304759619,95502.99057389505,103630.52558494138,348991.77704139287,289537.97434238857,160667.15376131763,253057.09267069644,216035.70764486096,134105.93409598764,195428.80545145881,155567.55349376422,140114.8841979849,318880.0598032593,168487.71056760586,236189.0859255181,246175.26028088082,57952.09466649071,194792.52341326798,289698.8218499713,184615.76596834132,281854.8218833571,147283.26653108728,175763.5884270703,182359.72747841812,96448.53380314886,270009.2422188075,108047.88805345958,326636.28553031816,254582.05394277608,233513.31886102396,76109.34878424974,183424.50665484936,238038.51582105824,167294.4916639225,167310.0502161563,84263.04119286046,170046.0132103689,233701.0946161286,295818.5508493774,226625.40411628174,127982.15310206302,291346.7620453654,168197.17566838537,209811.83147867786,111958.89796083291,272477.79356202896,264578.2077081264,112911.70173925164,323501.3747413124,117845.5206367001,251418.64820448298,60206.55581320412,83447.18735853309,222857.28640380705,70635.6505266013,315066.6342397367,148180.13082512133,117352.27834114812,263017.7763538328,279844.2042710716,152380.57721592352,191254.18924155104,280904.1401345347,291060.5461255424,179771.44954309514,90831.72290476644,291012.1868773746,394672.0277602361,207913.70129168127,235324.73931816212,169424.2800555101,314910.6454692552,46167.846616537165,116276.12981562488,322801.24982327106,249896.02668050374,113879.13934434493,134197.60726790995,170556.06897817482,303437.52544917446,329033.9456964906,233097.334866292,315396.1651182335,126423.59503019208,242340.32863880013,297150.5483549931,72859.2128392462,144107.0338673894,659065.1455507826,77259.09499699518,244468.12351631906,135382.93818659175,357966.18844126427,158817.2885482162,228623.58201182084,291218.4464580015,52372.84711099707,161321.10540813036,128343.65155138576,277058.6369202282,133054.52264227404,265434.1910635511,291528.3531419947,109002.31759292158,155903.75285836612,373301.2599844205,245738.15799245372,176501.2707125645,312639.5883739125,240864.0742812143,214638.72892337604,183238.48884725338,123452.24835858041,102158.19764870842,98748.36261691312,250229.12438497838,106872.77621284135,319144.99359850056,98312.73779960079,230975.96271631835,75090.78388440903,270378.95589859626,588492.3913318799,284103.05447597685,245560.58383650173,480901.2765448485,254548.86347357067,111351.22893239387,286857.14899018116,243585.10889833677,159564.89126874862,319700.1586636829,142167.94197410828,132779.88448540552,293159.39496857906,145384.97000354182,220637.57286126207,193257.08021737466,149355.4286554021,270141.307706077,141417.7247995544,230841.26761079187,138965.91844868587,303676.5635757335,108972.09323587561,90108.68863420429,174293.6232085603,322859.2470311981,156364.6255790917,59839.93226150991,141547.13336186393,203227.02425178088,287149.9761577434,154728.17045974225,107533.65444740922,257168.7898170756,241981.44497824146,222030.68845678563,235925.7860335324,117483.99031387843,292345.93987514905,119034.81703485885,262121.40894688386,321455.01068785996,237248.8990124639,123912.12865766403,-47134.37572456751,67066.40201187728,110390.05289605007,374420.4879625157,104605.24838345857,63328.34440254685,216494.95413075655,318618.45155686175,142522.35316194443,82741.2152051762,273446.5626890267,216784.46268403938,181178.30051710294,215239.9880926878,244685.86859893645,212830.41200358857,76482.02976273572,197605.41045012837,199312.5800767804,83134.38227343737,106312.19123675746,229624.6084083998,585854.2919470523,197533.61221496807,251698.65049607598,232005.53799134816,180095.24002649015,217334.30101914005,106577.49550580492,168772.40984200168,83532.2333174267,272188.63715332304,74449.33328743262,194187.41129802098,295829.4645865952,154521.69839794777,170558.83442027925,166542.55178783354,142399.26015128434,226018.12372362392,166097.61186883532,328628.07794131443,269150.7785548476,212806.04232519618,282716.7523185729,103992.26579945735,314191.1860843628,209610.13423144916,107537.59655283374,183520.03549461445,169216.12439567212,193171.27855578362,135587.25726578056,214166.669129274,288328.55526419316,238850.13304644526,382328.44829676975,175293.21023796944,277513.90168507036,243718.2139963149,368238.4889426043,263534.9575864826,510756.141506074,213048.9562875336,273012.9821396817,386385.4035362387,124470.01800109005,158844.24832661013,294913.6760073183,320284.2302529109,66970.6482333421,297674.2276516231,237891.7758062869,121054.97422362342,237621.13475061083,149816.66704038,308441.95140029106,276113.36425962846,27047.427335055196,383399.85492549755,83652.23292555884,307189.4287551692,287262.8211532363,203715.13042950098,208914.22975095554,237277.38932582736,178656.86614747834,117337.5292815867,265298.1581794106,329837.599608941,219808.1687331259,296262.42032563407,108236.06217086369,301796.9034933314,112676.44437453138,331992.18847896846,297087.5746194399,372745.33650661533,202420.70993849658,268544.36194971314,121832.29047376495,158138.6640566953,175070.35653696302,309879.28849081,102913.28407441432,152116.17832086878,224807.06031854416,216956.4407998547,238569.20184380576,346744.13850162755,223047.1101747489,80711.34256432392,76179.79163049822,269949.3344092398,75061.22688399049,68030.28366815989,274449.44185352186,424568.12704649183,442874.6047181697,241726.17897043875,294699.41828393936,301477.658031056,95061.60656822767,132534.46192625567,53525.32028919796,45790.09929027522,136734.98844664998,222724.31486644986,175884.97523206967,44858.66912748059,269961.5326598389,156996.4935748947,251739.65967262234,229095.2283199623,186762.23964876603,332263.6026441713,119515.64258192734,261303.9629397807,105244.16006514752,230723.67353577298,91308.01005670869,314255.35166016594,500345.06588535564,171523.6365815529,469277.7187757044,140107.13112121954,284639.8773422461,128254.2849253412,240228.1034198281,376326.26737027464,84399.71626373395,333545.8804716594,392505.91389909486,250784.99001741566,355285.58566405554,199729.63575753724,217954.54215544142,38288.69365980863,159853.9288421183,204455.2328395319,242258.92777920296,133118.55658838974,202229.300733296,253687.20373322343,265016.85465516266,543894.0757081523,275776.6014173457,167926.84154799796,192969.93966330675,103695.12686057424,255495.87298229372,194377.37364976498,122619.37618605907,160696.07982836544,191151.4860496024,275911.8325020326,118124.74899197071,238945.63418693602,185119.76814255863,281527.08723249915,306192.7608397424,334032.79078405834,117738.7966940472,348359.09923287097,241653.79149971332,136288.34963375743,282486.4283185076,62193.039278900105,88606.50643799292,82050.54202424454,183671.5859167645,165643.6594068796,129799.89698989192,160784.2056746,271191.36258058646,303751.5202247541,327277.5863683328,294648.37305938266,248766.0984667503,243979.8551768673,558888.8704312793,200524.78152173958,170215.73917016512,141778.20676043993,244526.0613019073,348274.65770589607,178639.70459632826,124505.05422076068,228657.5731762205,166508.77451622675,82012.95744406218,182047.89052662882,99486.89667794463,399134.81945235643,228236.21614059474,210364.35308650238,209786.014877484,118703.14463752854,6573.003071425745,354784.9742879616,82643.50555416195,200709.32081333615,194438.71762770246,125094.19952050268,160457.98235339596,97022.14508574242,168676.766342202,116247.36459239943,137777.24182333416,158675.268738644,166012.36175940838,299929.554163781,286132.7564738663,134371.2861300878,306702.20082023594,239634.10671493897,188458.00830801763,231640.59843159956,243684.93604731205,180346.95297472758,315366.6333446074,213861.25810456387,337610.3402540295,228748.50557988376,150703.16898481717,323929.9221968178,272884.2523638526,296526.77769154694,273638.0396487182,171152.85217477003,122158.20600307615,294149.2666688881,194228.7094760924,143433.61975054914,126361.84979931245,341254.57198022696,424828.6098655427,307146.05773007014,133396.26750689515,231054.0218547348,163490.6976109286,90620.73897183532,271938.3859130659,87250.18503286819,113436.02403422419,369179.3649110893,274360.2256273957,109472.58753848157,190400.095076252,317975.48752919585,282963.18691387883,200045.52283342727,335104.8196641471,347359.7068969044,326730.6584856743,66226.54894397032,289743.2902263393,253377.87901277695,200364.34705206225,138451.94035303622,75529.41873389881,47064.56635256138,203364.13606099156,206003.79947762055,155003.1294069481,362091.37980096054,221578.26010455564,167750.78765774678,312117.4274896715,189588.66576512807,133384.68938643852,95019.15169013462,180002.08027631688,285250.33839964325,354400.4575277411,103833.24508419188,307541.8624482646,173684.1263358331,114104.41557712649,151775.0226277616,255204.27785067563,249818.81830155084,231127.86935839884,220773.24065752965,257278.9301808097,424620.03776771075,94920.05076786947,91801.48169893998,143268.03469037235,192125.8590633646,158151.56943207444,304331.4567170042,167764.85517427872,381214.6837656288,242315.3576757461,248536.06814570888,192078.95884171454,244847.7937044921,173816.20386427682,170148.14556178055,296546.7691711163,271618.0350284367,108751.03258214037,174685.6951828072,375970.3270168385,208543.29922187878,192388.620642451,134684.74105976487,193358.46356731883,217785.75471205794,183007.20803407565,293448.0183342802,219855.33750403885,158071.32239775494,260576.64293923444,265864.85097890237,292344.1472822833,151973.912770279,172626.3498169246,154010.01577815664,127459.46258673811,67029.35311378108,92903.42008291607,225171.71911594007,291702.65955651505,202685.42364016152,166569.32550613204,102469.91902932353,190049.4281226744,253496.34884448256,378799.65709981753,174994.02029512354,220804.0871823477,161425.65814499158,307440.9025434584,395075.55995966314,282449.4491304409,318469.2557843084,60045.59455584845,162533.6363150786,181793.09440262936,106121.53738869428,249368.19761338236,358678.044887532,207361.69851121688,209315.78522251084,173019.34080162353,232346.09642930067,277048.0107138194,285623.20508786006,265831.3227154449,390169.0146628118,66649.22186286713,124272.35544276674,250405.29919016664,361247.4066365684,252363.75803255895,336062.6256998518,250737.82911527008,348004.7342763769,99503.68188546234,216881.86036851633,231340.56491211528,53712.86276938088,428015.6622930089,100872.42510600945,154659.6160158468,104387.08442449302,178811.7282114363,100850.84630594746,261604.73334715105,243615.70181602344,89955.98075206253,257399.59449447948,287875.34423967137,389553.3619667417,118708.96523845126,138818.23765937018,168573.7274299163,179949.53474333917,66574.76906853195,123239.21125607964,281167.2211737747,142883.1537973364,154923.5432195721,187052.6185522646,224745.3781193589,339187.15276286355,226608.7603931273,146746.58485594418,163273.9145967478,229012.86940609975,212278.97441229745,246756.74022365885,159561.19373336076,206120.47077653446,207708.33528776135,73465.11719778768,225184.46270925266,255193.7830364019,140730.43646621713,149939.23424551438,58749.31158339471,56086.48720372538,356674.828211493,62677.5031313542,154404.19118747723,295135.9057785205,366685.73090105044,256131.6123601047,296671.2099317082,293685.0991340228,145499.39733265928,278956.05670814356,97231.78808613235,131317.6545443224,142889.75905321984,112199.70871807236,124335.18348892166,277034.12455603166,223810.0349024739,308780.16034977237,245776.17986819375,179620.35375295085,116004.74496228843,242286.2785977694,250905.19735983515,193585.1139227666,287989.01199263445,114386.98926466158,124416.36023657159,189531.30669667968,92235.24062826711,401154.0055731976,107043.36772399132,444137.4173675247,283502.0022391366,131509.89006447166,191312.95781723008,181669.76536352644,144572.90245098266,99401.06656858909,138679.1403210712,266113.87250392267,220682.95246612676,237928.61423202656,74600.5819567726,99499.25587408965,328967.4662659353,313991.8010582225,39704.25976703709,202378.94825068445,413093.974743256,251687.9274237734,153132.5129419242,144981.95145384452,162537.93919116192,220940.64836965193,255918.27173865828,135846.03452995425,61106.513121080265,155196.7759898609,155351.76982386268,97842.4213429181,93981.00913573618,244936.40076434083,219562.3714885042,118998.74675648421,273205.3894397033,493820.649583123,179651.13716992317,133616.7881617741,297836.6391316773,284700.8464180157,119943.72905845098,221308.46870448906,197759.26877158237,200912.62101128226,334615.3607564707,218087.08027398912,215271.02344914852,216502.1844806187,217119.48476733995,439085.7754527675,168378.8983974625,118440.16595279229,177242.1902231964,195028.26720155374,195370.14947333685,217481.7626193999,256550.1076407832,231951.16008088534,168516.18638842736,133544.12867175683,86918.63878064652,46454.63030927954,430370.29806429084,78550.5663785214,325785.5069548187,222771.82334077457,215235.58015724306,206413.40606667823,191676.97649102155,177261.99813878065,184554.72560581448,97813.48429961622,241121.8467280349,104331.72532047794,172054.33010376478,254130.1692628368,256665.5185940533,293000.72548038105,345065.52717671543,223366.32572257105,141328.99366762908,182064.63910101957,96686.5159687926,220150.57518748275,177120.28436010674,204712.88726865943,135273.24459642923,409164.62371149333,91286.94755637129,337286.5105678332,138969.1304704857,105489.19182225954,270182.0097242732,137701.09086871584,593014.5300109102,161909.28060360145,171648.9616891077,344023.8733000565,126795.87100910868,231172.1632385544,130730.2385339416,100833.92507840222,244799.6342573787,250651.1074861905,332720.0705003105,262659.84589252423,237173.78892850346,127521.14294620193,182497.1709206237,238922.14412602008,421261.56962864095,206403.89891257152,69739.35369862034,232669.72220314114,192939.77869323242,174244.87442223172,225428.0314452018,127057.7530475222,140718.49330822047,303324.0641392568,271870.8020783421,200137.89111618092,216036.407629359,97165.89978565119,133701.01621639077,363222.09807426634,168589.2410835487,193211.67604868603,105755.51171055873,295096.5972630815,270135.78351212287,199475.92982194162,98241.31546577625,255400.52482806842,176409.1579824937,276406.9371927371,202663.59281246466,263018.98617114866,144920.14870028157,236199.66437732853,199837.58447527286,340678.327165548,309679.3389707835,217004.5544201257,262273.71440421266,319329.44407258154,128463.33037041387,249463.22606364352,129247.05461351431,180232.76183461116,237194.51917435857,117083.81319430633,133083.73983500776,142202.08033835283,375905.03807851195,281994.4942342581,98260.39060391572,194958.05668641333,311633.53688449506,251860.9201908901,292937.1814694052,165998.54176322505,237912.00118634646,189520.81832462328,213037.93653117178,130265.74064174753,343402.1864065152,289177.0431620502,235753.56046928815,279404.51748705236,259779.03524080425,122320.63049977363,47741.86207303885,176645.0152382797,140763.43457981735,304039.9494824185,294010.5594065181,194314.87579471362,362288.8181944558,37412.503081038274,122032.05576972268,244493.60283446862,286784.6697090663,110887.23117415293,101058.39172650431,69502.06259143492,92336.16757420762,161507.3491866778,268320.88761740644,320167.3865903134,286868.65573607956,183085.91179932613,369810.9876101777,171567.2073584552,119825.32337381091,178204.9230187728,147461.7868097399,188160.30550117057,190138.4817193259,195601.5452878314,257228.8169195638,193426.31387610012,245908.54059120602,237032.83679778472,218397.05611420053,297677.39339085703,157077.17344734172,236008.52879021468,90754.43499157106,243322.61748626715,122114.39316916335,93674.57590840227,96805.75806286617,437168.92283339554,233843.36707024972,142657.00073349802,40336.03751560568,79638.34564380517,356036.69532802067,98480.63731123341,176956.452188373,314504.771237785,180063.51718714475,74484.6905575874,154618.40634076548,122101.82840654472,269798.8997937734,200655.12305318285,119029.12494940538,263929.0385853112,495176.43365412334,156314.70719751558,315109.9615277567,270345.26711617375,336898.66599890066,193645.13808903718,147178.2755679171,244991.49019960352,153353.63178697263,258842.62315956297,130428.30108427585,312414.94891471975,134471.087807348,274489.5645748336,160082.99991450016,179242.48609942518,98334.53628730812,76355.23757224876,189699.0757461244,448311.4050264412,300799.29868983885,112507.47946921903,91361.32779417111,48471.338639076974,254966.30899000907,166147.37861890226,67048.04382631817,241578.51669753122,232919.47072517662,61719.11824378843,109857.66519250229,64626.71268551529,65319.84255420935,129219.77744575309,141843.37424040958,185308.93353006695,214009.83186661376,194454.45620505055,239107.85994823006,281361.9904139396,164410.19428232423,244362.68080100216,321052.0017952661,163101.6874864504,256968.57597514355,213070.4471633234,266352.013725696,210760.22052333216,124319.51073046752,179482.19128531503,462145.03041680506,438765.57429344475,29866.32632999125,142001.6079219655,239695.80628633048,71035.32344059966,329431.51453441463,278394.89770444867,238790.13811643468,210604.96057629294,267187.70644091914,178718.83565615895,304601.84328080586,306396.04313641693,200092.02248081617,137610.9466241299,239071.47755855793,161752.11896536773,263372.54791336844,307726.9463601411,197402.04374943773,408469.56118296256,135140.21568183706,145879.49992254388,116012.70972529044,63759.218612126424,171422.62955421038,185800.19447328843,250038.3489203988,56103.3800801984,405049.4237460629,181165.2847677637,324382.90987278643,314602.3382047992,214573.4010440301,106014.48906456356,217623.63750979153,170121.70583426883,185499.2225245004,324987.0718536796,79714.39188215845,123664.76032903603,270726.0847911713,72568.51675528902,289540.7286384567,306845.9914524859,130653.84472943746,208529.92039477837,148201.9786995952,271221.857396446,259037.3327993742,142519.35918994955,582713.2028310882,429611.7581762712,257869.7867495991,137755.06603469653,103002.33227351916,193543.6560869096,587285.710334884,232973.3798414357,162069.85250673676,251215.5873150163,126205.57082189365,75127.5276136802,347509.8021660346,251725.33453732473,283253.9811863426,281196.7141247295,209498.69598700025,88912.1807409318,273517.5485220876,113566.15722534063,102397.49200456223,279452.2736187992,232302.96924274633,146163.6560990278,233821.44000253465,210062.8014667411,100602.1729918117,122041.82998654876,287873.75158200006,57704.16536866996,255145.71174580365,281861.7217611488,164134.91140260117,161341.27484733684,450131.3050542058,210417.67674308887,289922.7805779926,107836.02621325714,196984.49788903137,284414.50640592,172902.95121039834,286280.8809838488,275832.0543555488,276034.6570692613,294819.1182586902,119650.77108866248,209226.19131250007,196641.74311229095,193142.39011037612,245195.49951321332,259931.28507654538,319690.07142626535,172010.1296787722,315302.1924879643,116771.3666152726,288559.29813599325,171279.15306450118,307815.2489395641,74330.94062833834,139849.46184762055,324341.55053487804,277802.50722179486,171526.224735379,98498.82911800231,104437.38338269733,121053.23560424935,133830.96602559663,248325.5340088898,250290.6855589248,286202.4791818318,318403.4876200499,316028.2852633941,167342.16332556057,262079.31588688097,82173.90925377738,149192.45243631146,241376.91842392398,154436.58732483213,94055.54142399342,249804.16282347275,124385.83276567177,176104.31876179107,198975.7402704643,295064.4807708275,44816.39967241767,182197.71908944892,265312.8678886843,161886.12081504223,191195.40908734934,309206.8368138628,292826.83044023294,229263.82227586972,411147.7282435626,147236.62030455776,156455.00809212908,132660.64684328504,480482.2674393992,157525.737034701,340741.08048771706,156453.3116158999,190838.4575529458,253894.15758579274,198760.77695369988,279563.4064702282,77729.31282968126,229201.23958586206,44474.0312343181,284565.4428822949,336556.24150827207,278956.89752305055,191845.72229660285,485823.5979981708,133075.56713684625,204912.54092113714,236308.7022549411,79775.0092547261,221585.49061949656,168633.80595324305,298566.33734878065,172361.89794551907,221160.24329441047,120052.39928659578,77883.83402916684,392759.93222819443,258464.1555982737,203101.60448896416,196212.5649367033,70407.03069137936,248590.8124702253,253775.2779633692,164364.6467188516,325651.08865803096,146142.54041612765,288420.99070596485,285901.72186627047,137576.57916453935,175691.6747508663,311208.6833561708,168572.564875975,236349.37503016263,169425.1986284378,233195.01857957907,227982.02192661143,294201.85651104606,267843.5898752925,187630.07688396267,127794.11383553207,141639.38230580074,251968.87085385493,163464.16700779775,225907.40485560958,393712.8512344673,51055.763286548085,168589.60887752782,609775.7223154148,278355.7814001642,170563.42098849057,254605.53834261204,165082.287635229,140626.77566103765,245043.20644361502,115193.32851224243,135328.4139201471,140050.312468143,57917.88401422481,300970.871515214,93584.40276452384,277878.1231052345,161420.11042140122,242589.6008402764,239859.12857969868,219267.823871454,281432.3303468736,277858.22454915935,92616.08594544031,120445.79372259094,237547.5023706254,168645.72857732658,76180.38383291804,96474.38134995654,148944.2422407844,121174.30838144507,213760.05674877338,132615.21175799388,107476.1064460564,121309.40144706354,333184.655484415,235567.21237437337,183045.4348137067,284184.3472103857,100186.23049723051,337175.72503159556,220086.54734567425,234471.91338576886,166492.02731314045,231814.9736097355,314683.8856798448,177333.46913714407,233701.50925444136,241877.62028507752,204980.51819643087,210473.04941573495,142404.02123551708,140116.5589653847,155247.45042730126,77609.39107800067,386706.71236736584,81743.70756164179,208771.62062186404,216662.0571649979,229813.5209355789,62691.53322300987,302443.6141340259,290431.1187720417,196878.41443352713,202510.77323759836,103672.25235210682,211484.31014314853,268300.6349128351,360657.79633504024,155199.78903969628,97104.57197524696,134386.64574472955,264852.64708758984,318455.12351592805,136323.3333740316,268734.5393755509,221473.3488661198,285312.05617323617,97614.81944185605,230847.53323871002,50724.81239835269,255579.74301918267,448102.7820693389,280503.79075588577,273888.8992580881,387275.3129203878,116312.02515620147,117945.34742876343,179798.2695977522,342475.02658805577,169039.08133868754,146555.30049701445,244302.79332806653,84633.54688340586,119834.03449231863,237892.7558116903,191528.1318875762,198989.64118555165,130772.3796882073,198332.23265748337,446504.3257440344,247488.1091952947,65767.759867946,100449.62673130372,99812.24059635527,129123.30430286072,260089.53620618203,169827.48791294114,304845.5186817844,80882.55263922238,156917.35185375583,368433.204264336,303160.86861917697,203534.0736152797,207674.9199521104,147136.98759452227,337858.71213603666,249017.36797965143,188120.60845380765,156154.55145799302,279260.89959026955,253910.61096992172,227532.9546418319,295283.1858557882,263435.00882273447,489835.5417734109,188156.56403525488,168155.42291327775,268205.22573401796,174761.39010852313,208772.53264555082,204126.43310416638,175931.1150341047,222863.60639958235,214016.92899120107,262985.60813742306,101580.54727743856,42770.70978749695,316688.17020770605,102019.39867405876,75502.63719781287,220012.50215827482,274355.6230405964,71549.40588867117,251390.85733822244,219278.9643184071,219926.35649734116,224465.3589682617,71783.80475838887,136636.03615638433,139033.42548054655,128553.3933569149,192871.3634461604,179115.49250247498,252780.40368898187,211922.51763757918,95627.33612709792,248768.54295715212,199155.31282174325,66332.77102867278,163446.53804137884,607721.9451692845,191946.1474959163,287763.45581702044,177040.75153132057,103001.82319503436,207907.99819435706,277450.71035558445,240974.87211719807,148817.8428626773,188914.91968033463,257991.82078111148,81930.24984510873,166738.63146726403,223911.48310746727,116334.18135420178,148347.02070501557,309941.22900495963,189989.82288674312,252671.25033137595,214459.42452814322,314041.10390587756,201899.185485314,201865.60333386483,312350.42970810307,222898.17865322193,226874.9246601239,299215.5733131238,386563.3061287892,71341.3823083028,134558.46672054956,108307.81735844896,270168.4122843285,481246.8341143774,305854.99861902173,157223.53193782555,139039.4490580549,175687.20525315945,78887.1021735743,322406.0509206912,270285.66312626284,127424.64604698193,106331.92912389385,196934.89185693295,363679.38589546236,296224.3940006674,298403.0985525738,130856.17736227818,77252.6909982081,171507.97481314896,295267.43023905694,82228.48888306686,108061.7486387958,114287.88600224545,267611.7573968569,164932.36003751264,102378.44023295799,235637.14344304736,253081.99375623203,296635.30036774295,146063.53763510546,231895.25787082885,95974.7731461191,226632.72774453353,297176.64402154303,237546.90376815852,234622.15026568068,187820.14394355612,336349.01746657625,207264.05613182954,459173.0553352997,146163.50351222753,245618.4292914105,209834.48953475576,147616.29107329258,120849.5971259069,142051.64619855687,215480.8792111911,173781.53736433398,184901.54851843833,202475.44917065598,161984.16144557233,107183.11393394151,238381.16472263559,232245.99563206313,113443.99591694072,123065.33814867429,210158.34674680477,369754.6810565627,138039.29875802965,229825.75448348824,264247.1751367335,328877.18674341356,387768.4344465196,299302.4349413234,357965.00482119457,203301.1398707971,275412.79830200656,151621.03144137538,170853.89580462148,107621.42908426851,213125.22439292967,207401.94906431664,185265.5686203565,301159.860467796,191584.467235198,208493.6997841005,340529.3993130681,262612.65375113406,176681.52851680925,219759.7061379563,166231.21656833382,243377.0762440106,156093.10447969305,47553.87861233583,137497.57306330648,286708.4049284436,273807.5286059075,117541.87830899417,345962.2272247295,290283.0440998448,80720.97450527457,169380.94976467855,116087.49786504547,182123.37793842563,195685.0414457085,311902.9809187942,200673.00321938004,264095.45589844254,236872.20256533177,280361.5793335294,257450.8686007081,202147.9986635379,219183.751537132,242501.41350648657,117092.27796690099,336088.6331592817,266738.65216989885,164751.2054991094,94730.38420369945,255332.28148909463,194498.32618344857,220510.4415325415,169402.72383664642,138398.67252959605,215594.2996339181,65322.82669068972,162027.88871031327,172239.46649827476,87153.19299992974,209502.59341503374,235996.52029127127,378325.65449425904,265949.4861811254,147939.98743274345,139261.9447098793,79002.92416465873,353677.9993919707,212738.59223421852,461713.32226800825,274066.49772288883,219055.37492749369,79555.28303827657,131777.51431900612,211863.43858857476,164656.7401569999,212999.69116082898,283389.02368045517,225725.27611883308,171391.114457219,307378.244974212,225098.70074792794,205003.58988862473,127286.15456127282,213583.90918446233,93194.9149880911,270382.8908560075,114163.10610182359,142797.03411579397,112857.41141519473,318952.98809939687,212077.88962710268,278381.8725232085,137965.1443417847,71898.65718846535,245139.08130255938,134576.22086553765,148145.1173268541,161199.43297576735,246115.50485530664,257497.07987526208,238105.47780507652,292180.874093533,67167.14644031972,320811.0688904193,179157.6077699515,118686.44507862901,248988.36753350653,365083.9975300624,128792.1088529033,208308.9833234887,132356.34847227734,196816.8656510437,211441.8972800732,145616.86628526752,172481.58436227444,131016.25824475512,232685.0493352166,222343.40587149272,241508.39370644133,196935.3896441972,87286.0816630978,148416.372490972,281261.57176753494,276176.2339694135,169048.03165587425,66081.08122981948,231283.77390958706,101851.14830595272,84032.2256325753,119965.93341160065,211776.8145775292,159367.2945101804,266744.2044885786,142850.74073447796,221305.33784943534,250383.30310051737,160660.47316727458,154729.76676389514,203827.39142544527,243750.86402435022,195222.83690456633,254998.9896253702,79450.55790552049,227932.81542900062,206407.2554042626,212892.07200482243,247511.94629858143,100852.73232966133,236242.17805593563,400669.1492549059,309583.75485805626,22748.44582171124,299770.1034708913,287770.6545929231,174259.8451345486,82900.95113378327,2286.3615234355966,211550.87360549852,235642.19355535312,355555.3491316701,267617.7347435855,282902.83918918046,150494.0901208744,373321.30174417415,207737.70324806616,122426.09744478196,272388.97115095647,350000.59688059276,311419.394305772,345640.4005145278,210855.14585286204,156331.7796870087,236573.31434956696,217668.37842750314,355822.35281392635,258256.81967328276,56962.29455596971,255051.37300092212,208831.19948404343,181211.59349495822,239326.51997969745,177834.16255879903,70989.81102074709,220996.15110623857,264897.3370685456,263543.0419891046,79928.2552390218,241709.1412993861,256936.77044388952,208903.6180410699,239185.4767979,304527.7158927404,235358.31591526227,91996.09835638957,116010.64115432097,179478.37953866957,175052.97255474338,135951.42679918377,72881.76337223646,379971.48979292717,66024.58017762657,280954.01822185767,278171.9569447875,222134.01425734523,306046.50288365706,178758.96185649064,181195.06995888503,78660.06860957059,327047.1245317081,118656.96820790041,173745.63955397424,229097.93215557514,318548.49492899684,181664.96827415316,143923.1707499207,227558.90192022477,57387.9830216266,261607.01812334175,118420.10487999809,211939.58313891734],\"coloraxis\":\"coloraxis\",\"size\":5},\"mode\":\"markers\",\"x\":[47700.0,45800.0,500001.0,218600.0,278000.0,158700.0,198200.0,157500.0,340000.0,446600.0,123200.0,253900.0,215100.0,220500.0,219800.0,136200.0,178400.0,187500.0,139800.0,137500.0,425000.0,405600.0,138800.0,500001.0,162100.0,51400.0,151300.0,94800.0,204100.0,361500.0,85100.0,138400.0,137500.0,465000.0,271800.0,239400.0,340900.0,150400.0,128100.0,156000.0,258100.0,90500.0,71300.0,219700.0,151000.0,290100.0,142000.0,291500.0,255400.0,98100.0,251900.0,162100.0,129400.0,89400.0,150500.0,133800.0,80400.0,211100.0,255600.0,214500.0,500001.0,202100.0,81500.0,98800.0,281900.0,184600.0,254700.0,143100.0,162500.0,142600.0,85900.0,186900.0,71300.0,174400.0,225000.0,146500.0,405000.0,189600.0,164400.0,337500.0,72500.0,143800.0,160000.0,118100.0,374000.0,202700.0,96600.0,65800.0,167400.0,179800.0,96700.0,266100.0,91100.0,49800.0,90700.0,115800.0,278600.0,250000.0,85000.0,177000.0,99700.0,357600.0,475000.0,273600.0,182400.0,157800.0,193800.0,333600.0,264600.0,58400.0,173400.0,214800.0,200000.0,422800.0,93600.0,122200.0,167600.0,303600.0,269300.0,264400.0,191000.0,153800.0,275500.0,208800.0,142300.0,63500.0,95800.0,231700.0,221500.0,89500.0,226000.0,500001.0,270200.0,59600.0,193300.0,133600.0,161900.0,357500.0,276500.0,410700.0,375000.0,135200.0,167200.0,252000.0,308400.0,172100.0,500001.0,193800.0,105200.0,90800.0,168800.0,162100.0,161200.0,137500.0,289300.0,278700.0,161700.0,231000.0,87500.0,95700.0,240600.0,214100.0,428600.0,125000.0,76400.0,263800.0,120400.0,109100.0,170600.0,257400.0,320000.0,289600.0,307300.0,325500.0,58400.0,48500.0,216700.0,97900.0,158600.0,69000.0,322300.0,467700.0,163000.0,287100.0,54600.0,90400.0,155500.0,175000.0,411200.0,332100.0,141200.0,247100.0,153000.0,155000.0,390800.0,90000.0,196700.0,68200.0,500001.0,92100.0,297900.0,500001.0,332300.0,171100.0,152100.0,232000.0,127100.0,87500.0,203400.0,228600.0,116700.0,416700.0,227600.0,267900.0,97200.0,137500.0,198800.0,68600.0,352500.0,103800.0,107800.0,131700.0,271300.0,97300.0,95000.0,67500.0,326100.0,65600.0,225600.0,263800.0,348300.0,325000.0,108800.0,400000.0,138400.0,61000.0,453100.0,500001.0,120200.0,329200.0,196300.0,150000.0,152000.0,169900.0,137500.0,283000.0,404500.0,193500.0,205100.0,145600.0,225000.0,215900.0,158500.0,124700.0,65400.0,280200.0,180500.0,105400.0,100000.0,166300.0,158000.0,243800.0,362900.0,201900.0,52600.0,500001.0,112000.0,225000.0,439900.0,88300.0,500001.0,276800.0,179200.0,199700.0,132000.0,61300.0,171900.0,123800.0,135300.0,137100.0,129300.0,227900.0,94400.0,103500.0,320800.0,125000.0,332400.0,159100.0,236900.0,461600.0,156900.0,148200.0,166500.0,196900.0,167800.0,126700.0,500001.0,57900.0,238000.0,142000.0,86900.0,56000.0,500001.0,112400.0,63600.0,431300.0,265900.0,58000.0,194100.0,142800.0,178700.0,187500.0,225000.0,313000.0,500001.0,153600.0,62300.0,194500.0,163900.0,398800.0,204100.0,199300.0,176700.0,500001.0,248900.0,150000.0,231700.0,58000.0,126000.0,163300.0,113400.0,300000.0,310900.0,218800.0,70400.0,237700.0,118800.0,73100.0,75000.0,450700.0,240200.0,65800.0,64700.0,175100.0,223700.0,96300.0,405100.0,376800.0,500001.0,350000.0,162500.0,177300.0,98400.0,138800.0,175000.0,260900.0,104700.0,159500.0,295900.0,137500.0,500001.0,227000.0,263900.0,160400.0,142000.0,162500.0,230400.0,500001.0,217700.0,183000.0,245800.0,129200.0,60400.0,67500.0,295200.0,192600.0,150600.0,125700.0,63400.0,151300.0,245600.0,500001.0,165500.0,113500.0,322200.0,362500.0,69600.0,156100.0,87500.0,193100.0,218000.0,101800.0,129100.0,156300.0,183200.0,148100.0,500001.0,222100.0,167600.0,184500.0,370000.0,239400.0,166700.0,233300.0,240000.0,91300.0,483500.0,150500.0,99500.0,240200.0,95500.0,500001.0,251600.0,120800.0,135700.0,225400.0,500001.0,85100.0,500001.0,164800.0,111600.0,161000.0,213700.0,116500.0,350000.0,159900.0,438300.0,171100.0,271100.0,500001.0,68000.0,191700.0,255900.0,112500.0,182200.0,347600.0,332000.0,110900.0,211900.0,262500.0,237900.0,90000.0,427200.0,370500.0,116300.0,170800.0,285500.0,111500.0,83200.0,248200.0,395500.0,218300.0,500001.0,88900.0,181000.0,280900.0,345300.0,181000.0,192200.0,78100.0,75000.0,433300.0,160100.0,109200.0,96200.0,191400.0,360000.0,185600.0,118800.0,122700.0,206300.0,195600.0,75600.0,104300.0,385900.0,113900.0,79400.0,81300.0,129200.0,73500.0,175900.0,142400.0,234100.0,286700.0,92500.0,170100.0,161800.0,225300.0,170600.0,319400.0,95800.0,73400.0,93600.0,51700.0,358700.0,64700.0,344200.0,314000.0,185700.0,279300.0,119400.0,280400.0,187100.0,83800.0,309300.0,229200.0,245000.0,227600.0,500001.0,320800.0,147300.0,162300.0,265900.0,500001.0,189100.0,316400.0,181900.0,261500.0,69000.0,181300.0,293000.0,111100.0,218300.0,147200.0,243800.0,223000.0,137500.0,60600.0,275000.0,350000.0,171200.0,83500.0,225000.0,165600.0,152000.0,192000.0,254200.0,150000.0,212500.0,80400.0,206500.0,331100.0,201400.0,188400.0,195400.0,442500.0,152700.0,500001.0,239800.0,159400.0,91800.0,240900.0,136400.0,103600.0,132500.0,292900.0,62800.0,112100.0,89100.0,120700.0,471400.0,314700.0,226400.0,409700.0,149000.0,171700.0,235500.0,322800.0,244500.0,162200.0,340900.0,57400.0,198900.0,109700.0,137500.0,85700.0,98300.0,178200.0,137500.0,275000.0,381500.0,500001.0,500001.0,179200.0,204500.0,394100.0,184400.0,174000.0,80700.0,189600.0,60000.0,126600.0,262500.0,139200.0,51300.0,229200.0,101100.0,97700.0,158300.0,349100.0,85500.0,214100.0,227100.0,155700.0,66800.0,207300.0,222800.0,354500.0,340500.0,52900.0,140600.0,150800.0,56100.0,259600.0,318900.0,148400.0,289900.0,161800.0,255000.0,87500.0,245000.0,305000.0,215000.0,249000.0,500001.0,320000.0,174000.0,292500.0,500001.0,289900.0,438400.0,182000.0,170500.0,69200.0,95600.0,272800.0,81300.0,272400.0,152600.0,55900.0,213500.0,331300.0,201800.0,57100.0,331800.0,365900.0,127500.0,111800.0,353700.0,229300.0,87500.0,237500.0,113300.0,112500.0,138500.0,307400.0,100900.0,97800.0,176700.0,218000.0,290600.0,157700.0,348000.0,67200.0,260400.0,123600.0,67500.0,130700.0,66000.0,166600.0,225600.0,257100.0,500001.0,113900.0,91000.0,217400.0,96000.0,129200.0,350200.0,442100.0,222900.0,81300.0,160600.0,500001.0,341200.0,287900.0,344700.0,180000.0,167800.0,55000.0,50800.0,142600.0,235800.0,112700.0,210200.0,210700.0,65400.0,162500.0,150300.0,500001.0,101400.0,221800.0,260300.0,178800.0,170400.0,319400.0,190600.0,184100.0,191100.0,149600.0,500001.0,183400.0,444100.0,242700.0,76200.0,132900.0,409800.0,112500.0,376600.0,50500.0,500001.0,209500.0,77800.0,299700.0,375000.0,156500.0,240000.0,77200.0,98500.0,500001.0,110400.0,86400.0,230400.0,163900.0,500001.0,49500.0,107400.0,362500.0,145000.0,218500.0,130100.0,146000.0,152500.0,457200.0,165200.0,394700.0,144400.0,136600.0,216400.0,139000.0,103800.0,488500.0,227100.0,238000.0,215600.0,292300.0,145900.0,187300.0,185400.0,280000.0,141100.0,190900.0,262500.0,442000.0,274800.0,85500.0,231800.0,302000.0,235800.0,72200.0,182400.0,500001.0,78700.0,181300.0,198000.0,199600.0,63300.0,94000.0,186800.0,117000.0,117800.0,121000.0,230900.0,427300.0,128100.0,384700.0,290400.0,91300.0,61900.0,232200.0,129600.0,127500.0,150500.0,187500.0,437900.0,126500.0,453400.0,229400.0,364900.0,191900.0,87500.0,30000.0,335700.0,242100.0,173700.0,54100.0,207800.0,112500.0,166700.0,271800.0,141100.0,375000.0,161600.0,159400.0,86300.0,256300.0,213200.0,254100.0,132600.0,169300.0,347700.0,159700.0,90900.0,290500.0,189900.0,495600.0,333300.0,183800.0,189000.0,157500.0,66600.0,132400.0,156000.0,348100.0,226400.0,74200.0,158300.0,500001.0,165500.0,329500.0,139600.0,152900.0,367300.0,70000.0,97400.0,65900.0,49300.0,154100.0,272800.0,247100.0,268800.0,247600.0,416800.0,121600.0,171700.0,173800.0,235600.0,260100.0,200000.0,296600.0,374600.0,177800.0,269500.0,62000.0,197600.0,52700.0,191400.0,317700.0,329400.0,330700.0,187400.0,286500.0,500001.0,133900.0,199800.0,45000.0,354600.0,263800.0,278400.0,160400.0,241300.0,208300.0,263600.0,145000.0,132500.0,183800.0,81100.0,176500.0,255500.0,166100.0,102000.0,86100.0,100600.0,500000.0,209900.0,52500.0,262900.0,158800.0,209500.0,350000.0,217100.0,141400.0,93400.0,198200.0,187200.0,185300.0,500001.0,281300.0,103600.0,287900.0,208300.0,175000.0,132700.0,172000.0,500001.0,64000.0,227900.0,63100.0,84100.0,339200.0,156300.0,383600.0,137100.0,56800.0,70000.0,96300.0,92600.0,359100.0,158700.0,500001.0,114600.0,410200.0,281900.0,101700.0,169300.0,207800.0,327200.0,277900.0,111400.0,80600.0,207500.0,275300.0,421000.0,128800.0,313900.0,67600.0,64400.0,153900.0,130700.0,238500.0,379600.0,146500.0,150300.0,80300.0,293300.0,288000.0,144100.0,127000.0,152100.0,156800.0,104900.0,500001.0,134400.0,500001.0,272800.0,151600.0,362600.0,169200.0,140400.0,43700.0,136000.0,264400.0,152200.0,137500.0,214700.0,170900.0,236200.0,297800.0,88500.0,127600.0,80200.0,306000.0,436400.0,238900.0,231700.0,122900.0,218200.0,397000.0,260300.0,435700.0,164000.0,440500.0,85400.0,101900.0,159400.0,190300.0,100000.0,139600.0,500001.0,154500.0,170500.0,110600.0,191200.0,287200.0,150100.0,238300.0,154200.0,280500.0,161900.0,265600.0,122700.0,231200.0,319100.0,231300.0,500001.0,121200.0,222500.0,450000.0,102100.0,201200.0,104200.0,500001.0,132000.0,221100.0,151600.0,146900.0,151200.0,165100.0,213600.0,213500.0,500001.0,438000.0,183800.0,350000.0,159300.0,129100.0,76600.0,225000.0,230800.0,431800.0,191000.0,84700.0,152500.0,67600.0,198200.0,306300.0,122100.0,276100.0,103000.0,409100.0,135200.0,121600.0,182800.0,228000.0,110000.0,111200.0,84700.0,447300.0,88300.0,87100.0,187500.0,146900.0,103100.0,343700.0,98200.0,262500.0,77400.0,135100.0,134700.0,231300.0,158600.0,101600.0,122000.0,380000.0,189400.0,440000.0,70000.0,70000.0,333500.0,101800.0,500001.0,360500.0,169500.0,205600.0,166300.0,32500.0,362700.0,174500.0,197600.0,183000.0,158300.0,100200.0,87500.0,461100.0,190200.0,232300.0,221600.0,226900.0,224200.0,119800.0,78200.0,165100.0,213900.0,69700.0,105800.0,75000.0,91700.0,269500.0,68200.0,165800.0,154600.0,472700.0,345900.0,230700.0,300000.0,249400.0,435700.0,225800.0,175000.0,178400.0,276000.0,115900.0,214300.0,118300.0,500001.0,152100.0,140400.0,222600.0,444500.0,500000.0,163300.0,193800.0,90500.0,115200.0,147000.0,273900.0,190900.0,74800.0,500001.0,118500.0,500001.0,55000.0,58400.0,95800.0,99200.0,167400.0,70500.0,67500.0,75700.0,183000.0,500001.0,97300.0,230000.0,82900.0,52200.0,114800.0,88000.0,224200.0,150000.0,341700.0,181700.0,140600.0,72700.0,210900.0,97700.0,109700.0,165600.0,230600.0,163800.0,95800.0,48100.0,44400.0,237900.0,284800.0,164800.0,200000.0,77800.0,186000.0,169700.0,418800.0,73300.0,87000.0,168200.0,154300.0,225000.0,333000.0,225900.0,138100.0,112700.0,231600.0,419100.0,221100.0,155400.0,151700.0,248900.0,153200.0,126500.0,240000.0,186100.0,500001.0,181600.0,178100.0,69200.0,66800.0,500001.0,181300.0,396400.0,187500.0,297900.0,345400.0,245100.0,105500.0,101100.0,141700.0,430900.0,286300.0,113000.0,466700.0,168600.0,360500.0,256400.0,113900.0,350400.0,209100.0,131500.0,216700.0,101300.0,202800.0,117600.0,292600.0,500001.0,130300.0,92400.0,112500.0,154200.0,104000.0,121600.0,206300.0,108300.0,349400.0,83300.0,245800.0,91500.0,500001.0,500001.0,190500.0,108300.0,89600.0,500001.0,94600.0,67500.0,177500.0,261300.0,500001.0,168400.0,245300.0,240000.0,156500.0,500001.0,235600.0,185600.0,316700.0,118800.0,248500.0,236500.0,94600.0,176800.0,148600.0,195300.0,215900.0,126600.0,173900.0,183000.0,74300.0,224700.0,101600.0,391000.0,265000.0,500001.0,186500.0,78000.0,80800.0,189600.0,199200.0,189600.0,160000.0,375300.0,166700.0,215600.0,228600.0,171300.0,431000.0,275100.0,276800.0,46300.0,144000.0,94300.0,157600.0,194500.0,351100.0,453400.0,224600.0,155600.0,242000.0,70000.0,71300.0,66800.0,153100.0,137500.0,230400.0,242200.0,301900.0,415800.0,156500.0,78600.0,441400.0,184300.0,276500.0,232800.0,60400.0,224100.0,439000.0,123100.0,255700.0,57600.0,199800.0,51300.0,348200.0,362800.0,240300.0,73600.0,172600.0,229000.0,166300.0,83300.0,500001.0,332900.0,54300.0,241700.0,387500.0,136400.0,98300.0,176000.0,63000.0,236900.0,97200.0,220000.0,105800.0,270900.0,99400.0,166300.0,143800.0,140600.0,330900.0,156900.0,500001.0,162500.0,124800.0,216100.0,171400.0,325600.0,109800.0,276200.0,129900.0,292300.0,341500.0,66800.0,238800.0,77400.0,82400.0,359900.0,465700.0,214000.0,107100.0,157800.0,119300.0,232900.0,179500.0,70100.0,55000.0,65900.0,99600.0,500001.0,164100.0,77000.0,140300.0,172900.0,500001.0,314300.0,500001.0,500001.0,143000.0,280600.0,375000.0,137500.0,337100.0,128000.0,185400.0,63000.0,109500.0,400000.0,151900.0,56300.0,102500.0,225000.0,145500.0,363100.0,249000.0,415300.0,267400.0,75000.0,250000.0,161800.0,97500.0,111500.0,87300.0,272900.0,124400.0,228700.0,229500.0,162500.0,80000.0,118800.0,244200.0,187500.0,246000.0,102600.0,116700.0,137500.0,171900.0,103100.0,239100.0,194000.0,219900.0,380000.0,155700.0,89900.0,89300.0,55000.0,49800.0,146400.0,278000.0,288700.0,129200.0,221600.0,85600.0,160400.0,57600.0,348500.0,199400.0,97100.0,58100.0,301000.0,74200.0,249400.0,267000.0,119900.0,77700.0,143400.0,61200.0,206800.0,328200.0,360600.0,107800.0,51500.0,67500.0,184100.0,200000.0,354000.0,393800.0,132100.0,306500.0,134900.0,319300.0,303900.0,350000.0,231200.0,131300.0,120800.0,135200.0,68900.0,425000.0,160500.0,151000.0,349500.0,60200.0,396400.0,278500.0,239300.0,224900.0,91300.0,111400.0,150800.0,64700.0,358800.0,232800.0,54400.0,98200.0,225800.0,116100.0,196400.0,123200.0,156400.0,166800.0,215900.0,117300.0,243200.0,72900.0,191700.0,60000.0,195400.0,111600.0,268500.0,260000.0,89400.0,235200.0,386100.0,187500.0,223400.0,120300.0,135800.0,307400.0,326800.0,70300.0,68200.0,114600.0,177200.0,81900.0,90600.0,56800.0,323800.0,244400.0,144300.0,164200.0,237600.0,243000.0,83300.0,87500.0,131700.0,47000.0,195300.0,184100.0,128800.0,118200.0,212800.0,141300.0,227100.0,80800.0,201300.0,183300.0,155000.0,143800.0,137500.0,280100.0,245900.0,243600.0,103000.0,103800.0,235900.0,161900.0,394400.0,145800.0,184800.0,242300.0,335500.0,165500.0,204800.0,159700.0,169100.0,478600.0,258900.0,324000.0,103100.0,138100.0,91600.0,228900.0,138800.0,252200.0,420300.0,243600.0,142100.0,67500.0,92800.0,190800.0,223900.0,143400.0,132700.0,99000.0,67700.0,227400.0,228600.0,135800.0,362100.0,281300.0,500001.0,90600.0,66300.0,150200.0,170300.0,99300.0,322900.0,213200.0,217000.0,267900.0,206300.0,376800.0,87500.0,304700.0,460200.0,128500.0,284600.0,119600.0,208600.0,117500.0,66900.0,204800.0,74600.0,109100.0,114300.0,308300.0,113000.0,91700.0,134200.0,425000.0,53900.0,310600.0,241700.0,226800.0,100800.0,238000.0,245500.0,156500.0,115600.0,66400.0,58800.0,223600.0,169300.0,166700.0,225000.0,72600.0,160300.0,147500.0,91200.0,208300.0,335300.0,58000.0,226500.0,345200.0,106800.0,500001.0,275000.0,95800.0,97200.0,155000.0,400000.0,500001.0,304300.0,359200.0,144700.0,352800.0,355600.0,99100.0,250400.0,105600.0,500001.0,162000.0,272200.0,245900.0,183300.0,220700.0,161000.0,303900.0,266200.0,90100.0,87500.0,209400.0,188700.0,101400.0,387500.0,359100.0,327300.0,279200.0,233600.0,163500.0,124200.0,450000.0,111900.0,90800.0,120600.0,483800.0,366700.0,201000.0,333600.0,362500.0,170100.0,246700.0,161200.0,147000.0,117900.0,111300.0,266500.0,113500.0,329100.0,500001.0,236500.0,122200.0,81900.0,386400.0,184800.0,160700.0,101600.0,424000.0,262500.0,369400.0,115100.0,281700.0,98100.0,131100.0,251800.0,232700.0,139200.0,71500.0,340500.0,270800.0,155600.0,89200.0,167000.0,103100.0,180500.0,51200.0,204600.0,387200.0,162500.0,120400.0,139700.0,98200.0,269400.0,269100.0,500001.0,49600.0,58000.0,65900.0,175400.0,391800.0,280800.0,90700.0,500001.0,92300.0,227100.0,162500.0,290900.0,183100.0,283200.0,177400.0,238700.0,321300.0,261500.0,99300.0,226100.0,51700.0,156900.0,160900.0,222400.0,305200.0,138800.0,230700.0,94300.0,97200.0,382100.0,193200.0,209500.0,231400.0,89300.0,196100.0,113500.0,178400.0,406500.0,228200.0,234800.0,231300.0,500001.0,184100.0,213700.0,500001.0,169200.0,232400.0,351700.0,234600.0,112500.0,145200.0,87200.0,53500.0,43800.0,94200.0,218800.0,191900.0,132200.0,46800.0,149700.0,126300.0,255900.0,94500.0,237100.0,500001.0,87500.0,126600.0,245100.0,157400.0,78400.0,218100.0,350000.0,198400.0,143900.0,337900.0,76300.0,160100.0,130600.0,112500.0,329200.0,233300.0,99200.0,197900.0,204100.0,350000.0,62100.0,140400.0,152100.0,130500.0,195100.0,199500.0,137500.0,275000.0,122900.0,109000.0,121700.0,302000.0,241700.0,153200.0,169300.0,358500.0,175000.0,112500.0,376000.0,118800.0,401000.0,107900.0,339700.0,158000.0,468800.0,63100.0,184600.0,189700.0,190900.0,67500.0,85300.0,173600.0,129700.0,181000.0,500001.0,376200.0,243000.0,148200.0,238100.0,450000.0,240000.0,500001.0,274100.0,190100.0,268400.0,349300.0,275700.0,182800.0,500001.0,213200.0,179500.0,138500.0,181300.0,340500.0,225000.0,68300.0,237900.0,149700.0,125800.0,87600.0,125000.0,168800.0,135000.0,86300.0,64900.0,106300.0,285700.0,272400.0,217700.0,91800.0,163000.0,195100.0,32500.0,275300.0,136900.0,194100.0,230200.0,143600.0,39600.0,59800.0,210700.0,156300.0,215600.0,177500.0,218900.0,128400.0,190600.0,398300.0,367100.0,122500.0,376100.0,157600.0,178100.0,72400.0,287600.0,175000.0,280800.0,160500.0,158600.0,144300.0,136300.0,218200.0,466400.0,386100.0,251200.0,190400.0,223100.0,361000.0,275000.0,70800.0,460000.0,67500.0,225000.0,176100.0,52400.0,167600.0,99700.0,88900.0,223700.0,180500.0,93200.0,173800.0,490800.0,104200.0,276100.0,254700.0,212300.0,87500.0,94200.0,163500.0,500001.0,125000.0,182300.0,111700.0,146000.0,500001.0,320500.0,48000.0,168800.0,67500.0,173100.0,150000.0,329200.0,141000.0,378000.0,80200.0,203300.0,394900.0,84500.0,327300.0,201200.0,162500.0,266000.0,221200.0,176500.0,206300.0,500001.0,186700.0,112500.0,90500.0,190800.0,198800.0,165600.0,500001.0,145700.0,91300.0,140400.0,191700.0,61100.0,153000.0,85500.0,164500.0,386200.0,341300.0,246400.0,121800.0,132500.0,98000.0,241400.0,171300.0,120100.0,500001.0,192700.0,232800.0,191800.0,196300.0,293900.0,84600.0,500001.0,500001.0,107300.0,150000.0,204200.0,268300.0,103500.0,161500.0,222400.0,166900.0,229200.0,205900.0,95500.0,162500.0,240700.0,82800.0,230200.0,185900.0,105800.0,118800.0,194400.0,183300.0,292500.0,144200.0,500001.0,134200.0,52800.0,188700.0,204000.0,179500.0,98900.0,279900.0,327700.0,208000.0,208300.0,112500.0,234700.0,214500.0,338500.0,500001.0,284100.0,500001.0,181300.0,125000.0,412500.0,112500.0,90300.0,96000.0,142500.0,266300.0,165000.0,118000.0,156400.0,426800.0,308600.0,239200.0,109400.0,66600.0,368500.0,330500.0,273600.0,500001.0,321100.0,242600.0,231900.0,151400.0,227800.0,380000.0,95200.0,193900.0,260700.0,191000.0,64900.0,128300.0,189800.0,183300.0,151800.0,257300.0,137500.0,125000.0,218100.0,168100.0,231800.0,149000.0,170300.0,391300.0,282300.0,500001.0,135400.0,328400.0,350000.0,182300.0,500001.0,192000.0,240800.0,175000.0,126400.0,125900.0,194700.0,341800.0,211900.0,137500.0,270600.0,172300.0,262100.0,149100.0,339100.0,248600.0,128700.0,343900.0,175000.0,287500.0,143600.0,346200.0,232200.0,200000.0,241500.0,67500.0,191700.0,178300.0,178200.0,133200.0,273800.0,152200.0,187100.0,137500.0,110400.0,240600.0,162500.0,83800.0,265600.0,211500.0,173400.0,310000.0,99500.0,191400.0,220100.0,167300.0,65000.0,141800.0,290600.0,319200.0,118800.0,200000.0,219500.0,289400.0,116400.0,162300.0,114100.0,71300.0,190500.0,197300.0,72200.0,103300.0,143000.0,244900.0,500001.0,183300.0,86100.0,218400.0,110800.0,211300.0,338800.0,123100.0,269500.0,321400.0,81900.0,500001.0,304600.0,72900.0,158000.0,62200.0,116300.0,314100.0,362500.0,500001.0,74100.0,150000.0,270000.0,120800.0,250000.0,72200.0,375000.0,239600.0,183300.0,161200.0,251000.0,45500.0,178100.0,258900.0,145800.0,84700.0,216700.0,130400.0,158500.0,117800.0,215000.0,268600.0,100000.0,332700.0,186700.0,53000.0,149700.0,345800.0,124500.0,475800.0,500001.0,500001.0,175900.0,183300.0,253100.0,117800.0,143500.0,500001.0,142300.0,121000.0,268800.0,330200.0,121800.0,416900.0,266700.0,189400.0,443600.0,163000.0,382500.0,106300.0,57800.0,57500.0,238000.0,218900.0,118600.0,309100.0,213200.0,180200.0,470800.0,337200.0,95300.0,103900.0,500001.0,215000.0,189400.0,171400.0,357000.0,196200.0,98500.0,178800.0,226600.0,171400.0,271400.0,216800.0,67900.0,171300.0,110900.0,332500.0,150000.0,173400.0,237500.0,65800.0,173100.0,321200.0,265000.0,87500.0,210300.0,247800.0,375700.0,113700.0,500001.0,45600.0,130600.0,198600.0,436700.0,92600.0,150000.0,359900.0,500001.0,93800.0,383300.0,191700.0,267200.0,280200.0,52100.0,110200.0,164600.0,324800.0,122700.0,216700.0,73600.0,254100.0,187500.0,166000.0,157900.0,193800.0,140800.0,95300.0,227000.0,265600.0,90200.0,183200.0,184600.0,162500.0,125000.0,97200.0,355300.0,136200.0,125000.0,305600.0,176600.0,348600.0,299200.0,72100.0,109500.0,281100.0,156300.0,234200.0,59700.0,250000.0,203300.0,173100.0,300300.0,238000.0,179000.0,166000.0,160700.0,147500.0,192100.0,56400.0,304800.0,439800.0,137500.0,137500.0,134600.0,262500.0,83400.0,113500.0,71400.0,204500.0,282400.0,145700.0,264700.0,275000.0,171600.0,216700.0,180700.0,212500.0,167700.0,42500.0,238400.0,144000.0,43600.0,363500.0,186200.0,67500.0,159600.0,195600.0,154800.0,450700.0,69900.0,132200.0,328000.0,272800.0,66300.0,129300.0,77100.0,155500.0,126000.0,240300.0,133000.0,94900.0,203900.0,61000.0,139200.0,229200.0,260600.0,251100.0,327600.0,167900.0,212000.0,233300.0,255400.0,67500.0,162000.0,117200.0,109700.0,275000.0,111800.0,166000.0,92700.0,186000.0,97300.0,241300.0,258500.0,138200.0,196100.0,419200.0,138800.0,376600.0,165100.0,181800.0,211800.0,112500.0,144300.0,222000.0,53600.0,130800.0,227600.0,275000.0,191900.0,64100.0,68100.0,255200.0,244100.0,337000.0,208300.0,500001.0,172100.0,128900.0,144900.0,72000.0,142900.0,436100.0,204200.0,195700.0,90500.0,236100.0,186900.0,162500.0,112500.0,58000.0,307400.0,353800.0,290900.0,358600.0,246200.0,72100.0,107500.0,78600.0,187600.0,97900.0,186600.0,196900.0,111500.0,156300.0,218200.0,293500.0,59000.0,162800.0,102900.0,54300.0,166300.0,152500.0,142600.0,150000.0,84400.0,210000.0,137500.0,350000.0,171900.0,143100.0,452300.0,176000.0,112700.0,68400.0,190700.0,331800.0,184000.0,162500.0,129400.0,172800.0,191100.0,294900.0,188600.0,63800.0,466100.0,186800.0,139300.0,330300.0,284800.0,198800.0,69300.0,145500.0,166200.0,273800.0,149000.0,215400.0,287800.0,406300.0,160300.0,240000.0,60900.0,142300.0,84800.0,205400.0,396800.0,135400.0,115400.0,162500.0,425000.0,114300.0,500001.0,500001.0,48700.0,294700.0,300500.0,343200.0,92000.0,278100.0,380900.0,339800.0,96800.0,270000.0,190000.0,181300.0,100600.0,170800.0,152700.0,353600.0,200000.0,213400.0,153100.0,379700.0,275000.0,78600.0,188300.0,138000.0,500001.0,197400.0,244600.0,165300.0,300400.0,88200.0,500001.0,163100.0,191900.0,355300.0,430300.0,42700.0,378100.0,264000.0,111900.0,224500.0,125000.0,64100.0,88400.0,389200.0,193800.0,500001.0,187500.0,210300.0,212800.0,177500.0,181300.0,159500.0,177500.0,116100.0,500001.0,162500.0,135500.0,99600.0,118500.0,156900.0,147200.0,85800.0,500001.0,170900.0,257900.0,164300.0,438900.0,98000.0,288700.0,203200.0,283600.0,162500.0,95300.0,161700.0,187500.0,158000.0,456100.0,102900.0,165400.0,54400.0,147200.0,95000.0,143000.0,97200.0,112900.0,173300.0,393100.0,63000.0,297300.0,242100.0,293900.0,113100.0,137200.0,297100.0,243500.0,98800.0,244800.0,327800.0,437500.0,163500.0,102400.0,112200.0,165900.0,250000.0,158100.0,87500.0,135000.0,79500.0,162100.0,228400.0,140600.0,71300.0,266300.0,81300.0,185000.0,329300.0,168800.0,110400.0,500001.0,85700.0,63300.0,500001.0,183800.0,150700.0,242900.0,326700.0,220400.0,240700.0,500001.0,98400.0,166900.0,205400.0,90100.0,189800.0,162500.0,333700.0,85100.0,134400.0,144600.0,215000.0,97500.0,210000.0,312000.0,300000.0,202400.0,254100.0,116000.0,167000.0,396900.0,227000.0,500001.0,500001.0,199000.0,369100.0,22500.0,95700.0,365900.0,215800.0,205500.0,500001.0,250800.0,363600.0,294200.0,171400.0,261300.0,114900.0,258400.0,106300.0,98900.0,242000.0,146100.0,154600.0,197500.0,289600.0,325700.0,53300.0,87800.0,178300.0,197100.0,123400.0,292900.0,109800.0,124200.0,57300.0,404700.0,187500.0,63700.0,101200.0,500000.0,45500.0,463500.0,181300.0,307400.0,371800.0,56000.0,289300.0,128200.0,271400.0,182100.0,219400.0,78400.0,96100.0,394700.0,222500.0,87500.0,137500.0,246100.0,175700.0,164100.0,132800.0,129200.0,224100.0,103900.0,112800.0,243800.0,88600.0,186100.0,186100.0,160900.0,149200.0,76400.0,500001.0,95600.0,237500.0,418300.0,197500.0,66400.0,269000.0,219000.0,156900.0,134200.0,204200.0,218800.0,181800.0,168500.0,299200.0,166000.0,193500.0,212500.0,386200.0,268400.0,128100.0,271200.0,88400.0,101500.0,495500.0,167300.0,141300.0,500001.0,321300.0,82100.0,92900.0,168000.0,135000.0,243100.0,157100.0,97900.0,177700.0,131800.0,268800.0,314300.0,183600.0,100000.0,232200.0,138100.0,162500.0,457300.0,139200.0,244500.0,61600.0,237000.0,112500.0,122300.0,500001.0,110100.0,300900.0,167500.0,246400.0,279300.0,414000.0,58700.0,294900.0,365200.0,368300.0,239200.0,121400.0,215000.0,113900.0,236400.0,171700.0,248500.0,58200.0,67800.0,75700.0,178000.0,60400.0,226100.0,179500.0,158200.0,278600.0,480800.0,192300.0,141700.0,330800.0,100000.0,103200.0,53500.0,185700.0,192900.0,256000.0,138500.0,69600.0,246800.0,265900.0,162500.0,322700.0,148900.0,429000.0,500001.0,254100.0,328100.0,169100.0,255400.0,76400.0,151400.0,311100.0,187500.0,213200.0,208300.0,202800.0,90100.0,92400.0,136500.0,92200.0,79400.0,95500.0,249200.0,111700.0,190600.0,191800.0,500001.0,50800.0,163500.0,368900.0,57000.0,75000.0,229000.0,340900.0,276600.0,188400.0,73900.0,150000.0,147100.0,186300.0,234900.0,122500.0,398900.0,250000.0,113600.0,244800.0,225000.0,186900.0,309700.0,130600.0,342300.0,65000.0,278900.0,168800.0,418400.0,109000.0,160100.0,345000.0,418800.0,209100.0,97500.0,500001.0,108600.0,133300.0,50900.0,311600.0,365500.0,175000.0,170300.0,279500.0,125900.0,155700.0,83300.0,156300.0,214800.0,110300.0,165000.0,349500.0,500001.0,125700.0,193100.0,500001.0,199600.0,500001.0,163400.0,137500.0,121500.0,381200.0,111900.0,58000.0,63800.0,363200.0,206400.0,370800.0,81800.0,271500.0,197000.0,73400.0,301700.0,119600.0,258100.0,17500.0,145700.0,102000.0,400000.0,99200.0,485400.0,477100.0,66900.0,375400.0,169600.0,247600.0,164700.0,309400.0,185300.0,230200.0,156100.0,302500.0,97800.0,251300.0,281300.0,153100.0,355600.0,101300.0,266000.0,160700.0,305800.0,147500.0,186300.0,162600.0,484700.0,175000.0,127200.0,365100.0,236500.0,214000.0,225800.0,128900.0,73500.0,114700.0,175000.0,318100.0,331200.0,192500.0,159500.0,162700.0,67300.0,212900.0,140600.0,186500.0,393200.0,55300.0,409800.0,191800.0,99500.0,175000.0,158000.0,106900.0,277200.0,326700.0,96000.0,431800.0,172200.0,112500.0,225000.0,259500.0,291500.0,50400.0,150000.0,224600.0,130600.0,69700.0,353000.0,231200.0,205100.0,398100.0,141300.0,173300.0,127900.0,289500.0,95900.0,133400.0,146800.0,181300.0,54600.0,55500.0,150000.0,102800.0,93300.0,123100.0,231800.0,159500.0,108300.0,43100.0,105600.0,168300.0,28300.0,282900.0,234300.0,212500.0,205600.0,150000.0,193000.0,14999.0,170000.0,168300.0,93500.0,191800.0,181500.0,195400.0,121900.0,142600.0,158300.0,165300.0,155000.0,92100.0,68100.0,276300.0,335200.0,121100.0,177100.0,187500.0,192000.0,301200.0,159100.0,500001.0,273700.0,233900.0,500001.0,222800.0,140200.0,159800.0,118800.0,500001.0,105500.0,217800.0,187500.0,287300.0,131000.0,55800.0,161900.0,253600.0,155000.0,311500.0,87800.0,105800.0,137000.0,156300.0,154700.0,167400.0,457800.0,500001.0,188300.0,442900.0,500001.0,500001.0,187500.0,57400.0,387500.0,272000.0,167600.0,403700.0,191700.0,500001.0,187100.0,96400.0,92400.0,213900.0,155000.0,133000.0,275000.0,238500.0,158300.0,70500.0,222300.0,411900.0,185100.0,500001.0,139800.0,178100.0,159300.0,125000.0,197100.0,64000.0,194600.0,162500.0,84400.0,61300.0,368200.0,122100.0,86100.0,209900.0,170800.0,175000.0,126600.0,282200.0,207700.0,104200.0,214300.0,80300.0,273100.0,237500.0,73800.0,184400.0,342000.0,129700.0,224000.0,156900.0,394900.0,157700.0,119900.0,316900.0,212500.0,68300.0,165100.0,93600.0,88800.0,184700.0,327100.0,134300.0,500001.0,162100.0,500001.0,229200.0,112500.0,354200.0,362100.0,162500.0,100500.0,67700.0,57100.0,164800.0,204200.0,342400.0,181500.0,304500.0,235300.0,105300.0,291400.0,159600.0,111800.0,119600.0,329700.0,136700.0,101400.0,118600.0,133300.0,52500.0,234600.0,75000.0,176300.0,346800.0,251800.0,54200.0,67500.0,142500.0,101600.0,227300.0,337200.0,118800.0,67500.0,202000.0,94200.0,96200.0,225000.0,258700.0,103100.0,117200.0,164800.0,144000.0,500001.0,155400.0,114700.0,123100.0,226800.0,180400.0,310900.0,148800.0,84700.0,63700.0,262000.0,438100.0,226500.0,87600.0,345500.0,140100.0,366700.0,270800.0,168800.0,293800.0,251800.0,85100.0,267500.0,140900.0,285500.0,151300.0,225000.0,44600.0,450000.0,229300.0,225000.0,138000.0,96900.0,161200.0,144300.0,450000.0,122500.0,248700.0,134200.0,348100.0,78300.0,107800.0,146900.0,188300.0,162500.0,58600.0,183700.0,180400.0,175000.0,137200.0,110000.0,233400.0,128300.0,350000.0,155200.0,256700.0,85900.0,73200.0,258300.0,62800.0,485000.0,124000.0,158500.0,97300.0,186700.0,344100.0,166700.0,108900.0,482900.0,204400.0,230700.0,53000.0,178500.0,500001.0,500001.0,84900.0,500001.0,246800.0,156300.0,234600.0,48800.0,145800.0,271500.0,500001.0,87500.0,69100.0,139300.0,273400.0,229700.0,68200.0,114300.0,159900.0,116600.0,209900.0,68900.0,101400.0,214000.0,355300.0,90300.0,159300.0,63900.0,218200.0,253600.0,81300.0,188600.0,165400.0,106300.0,210100.0,147600.0,112500.0,175000.0,156600.0,117300.0,229200.0,350000.0,171900.0,199300.0,251600.0,300000.0,158900.0,216800.0,198000.0,356100.0,192300.0,314500.0,50000.0,162500.0,167100.0,138800.0,147600.0,238500.0,110700.0,333800.0,192100.0,294000.0,154500.0,151900.0,500001.0,322900.0,165600.0,221200.0,170400.0,198700.0,162500.0,411200.0,335500.0,149100.0,381500.0,183900.0,91200.0,411500.0,220300.0,158100.0,69600.0,270500.0,261600.0,389500.0,75000.0,177600.0,170400.0,154200.0,131900.0,44400.0,145000.0,224100.0,187500.0,192900.0,88600.0,183900.0,225000.0,182800.0,137600.0,265300.0,36600.0,125500.0,138600.0,487100.0,178600.0,134500.0,306700.0,115800.0,91400.0,210900.0,259200.0,347300.0,168400.0,150900.0,113500.0,302600.0,423300.0,492200.0,190600.0,245000.0,55700.0,84000.0,275000.0,189600.0,275900.0,319800.0,291700.0,67900.0,189000.0,90000.0,335000.0,176700.0,98500.0,200600.0,60200.0,191900.0,191100.0,337300.0,225000.0,290600.0,121500.0,293200.0,107000.0,266400.0,76900.0,220300.0,101100.0,474600.0,65300.0,113700.0,214200.0,216700.0,198400.0,212200.0,222700.0,265900.0,37500.0,265000.0,108700.0,46700.0,187500.0,61600.0,343000.0,166000.0,500001.0,137500.0,90600.0,77000.0,148100.0,91600.0,150900.0,155100.0,89200.0,215400.0,55100.0,197400.0,154400.0,141700.0,98400.0,152600.0,109600.0,171300.0,104100.0,153900.0,270000.0,286500.0,335000.0,137700.0,232000.0,393800.0,70300.0,141700.0,156300.0,450000.0,199800.0,95300.0,86900.0,187500.0,221800.0,58800.0,134400.0,238600.0,160900.0,136400.0,144000.0,159300.0,155300.0,142600.0,120700.0,126200.0,213400.0,116900.0,185800.0,356000.0,150000.0,88900.0,259100.0,500001.0,127600.0,69900.0,137000.0,273700.0,92000.0,118300.0,410800.0,100500.0,492900.0,118500.0,113500.0,89900.0,500001.0,500001.0,146300.0,113500.0,275000.0,102500.0,147100.0,225000.0,139400.0,175800.0,57000.0,269600.0,272900.0,76200.0,484100.0,180600.0,238000.0,137500.0,186300.0,192900.0,84500.0,107600.0,55500.0,265300.0,388300.0,482700.0,198100.0,92700.0,346200.0,38800.0,56700.0,123700.0,93800.0,93200.0,44000.0,69200.0,301800.0,254200.0,209800.0,184500.0,73400.0,339000.0,93100.0,202300.0,133300.0,270700.0,240200.0,139300.0,57000.0,170700.0,119200.0,177300.0,289600.0,297600.0,109900.0,147500.0,78700.0,160300.0,77700.0,473500.0,500001.0,133100.0,93500.0,280100.0,256700.0,288000.0,161100.0,137000.0,62000.0,443800.0,68300.0,262100.0,109400.0,409300.0,175200.0,147700.0,287500.0,93200.0,93800.0,172400.0,318600.0,185200.0,65200.0,179700.0,159200.0,151900.0,71700.0,245200.0,228300.0,196400.0,192400.0,65900.0,282300.0,185300.0,88600.0,67500.0,143400.0,119400.0,215800.0,257400.0,373400.0,152300.0,245700.0,80000.0,137200.0,266900.0,395300.0,222100.0,500001.0,500001.0,232900.0,259700.0,215700.0,243200.0,221400.0,112500.0,388500.0,410000.0,163000.0,500000.0,231300.0,76100.0,458600.0,366300.0,296800.0,58600.0,84800.0,117300.0,126600.0,170800.0,149300.0,119000.0,375000.0,284900.0,170100.0,500001.0,98700.0,60800.0,142800.0,223900.0,137500.0,297800.0,112700.0,113300.0,121400.0,248400.0,407800.0,356600.0,106300.0,121400.0,240900.0,247100.0,137900.0,86300.0,500001.0,216300.0,305600.0,158300.0,452100.0,95000.0,105700.0,84600.0,240100.0,162500.0,96600.0,92200.0,228200.0,113700.0,69000.0,500001.0,225000.0,174000.0,500001.0,253000.0,277600.0,285200.0,90300.0,189900.0,316600.0,301900.0,93100.0,94200.0,213800.0,187500.0,500001.0,325700.0,300000.0,143900.0,500001.0,264100.0,62300.0,138800.0,105400.0,63500.0,500001.0,97800.0,127400.0,135300.0,156100.0,446800.0,65000.0,151800.0,192200.0,153100.0,165800.0,254200.0,234200.0,112500.0,118700.0,240900.0,283300.0,450000.0,52100.0,55900.0,88100.0,248900.0,68600.0,156300.0,272700.0,340400.0,218800.0,70100.0,500001.0,162500.0,111800.0,110200.0,74200.0,103200.0,172100.0,132000.0,166300.0,107300.0,107900.0,94600.0,66100.0,158200.0,95800.0,117000.0,170900.0,92900.0,162500.0,193800.0,134600.0,123100.0,115700.0,83500.0,62200.0,74400.0,180100.0,195800.0,500001.0,144300.0,125400.0,80800.0,65900.0,157900.0,500001.0,180800.0,236200.0,103000.0,216900.0,383300.0,500001.0,83500.0,214400.0,100000.0,78800.0,97600.0,178400.0,287100.0,270100.0,185500.0,90600.0,213600.0,124300.0,205000.0,256700.0,392700.0,133300.0,187100.0,255400.0,347400.0,171700.0,112500.0,82600.0,48600.0,134100.0,225800.0,500001.0,470000.0,225800.0,158000.0,117100.0,416300.0,120800.0,226300.0,122200.0,100000.0,229500.0,195800.0,85000.0,264700.0,455500.0,176000.0,81100.0,166400.0,82600.0,272200.0,271100.0,239400.0,171800.0,121800.0,173600.0,239300.0,58800.0,287500.0,70700.0,181700.0,113700.0,224100.0,351300.0,301300.0,80700.0,152600.0,237400.0,179400.0,500001.0,170200.0,165300.0,225900.0,159700.0,363500.0,132100.0,376800.0,96900.0,316200.0,323800.0,387500.0,149100.0,500001.0,225000.0,178800.0,87500.0,130100.0,500001.0,349000.0,73000.0,244700.0,275400.0,246200.0,236200.0,232200.0,53300.0,163100.0,72400.0,234500.0,150000.0,116100.0,181300.0,121000.0,88700.0,182500.0,197400.0,128100.0,76500.0,300000.0,500001.0,160300.0,335600.0,157600.0,190600.0,180800.0,104200.0,111800.0,194100.0,253800.0,129500.0,117600.0,339800.0,342900.0,195500.0,83800.0,94200.0,140600.0,160900.0,169300.0,275900.0,146200.0,202300.0,154000.0,135500.0,235900.0,128800.0,249600.0,300000.0,134100.0,308600.0,350000.0,110800.0,190800.0,108800.0,144400.0,162900.0,163900.0,98000.0,132700.0,283100.0,407200.0,248200.0,64500.0,500001.0,194400.0,137500.0,127300.0,85300.0,194900.0,221100.0,192200.0,404500.0,73500.0,233700.0,118800.0,70000.0,182800.0,500001.0,157700.0,247900.0,500001.0,357900.0,56900.0,302400.0,125400.0,386400.0,175600.0,110500.0,386700.0,137500.0,228700.0,149400.0,73700.0,500001.0,132100.0,86500.0,417900.0,172600.0,99700.0,72500.0,180800.0,308400.0,288300.0,302200.0,288800.0,100000.0,233000.0,136900.0,209400.0,246600.0,65200.0,491200.0,356700.0,164300.0,88200.0,155900.0,191700.0,84400.0,190100.0,112500.0,115200.0,174600.0,113500.0,152400.0,250300.0,183700.0,500001.0,310900.0,230600.0,68500.0,267400.0,145300.0,282000.0,282100.0,189800.0,254400.0,161700.0,188800.0,500001.0,94400.0,342800.0,191500.0,209600.0,235000.0,231400.0,130200.0,208200.0,500001.0,168600.0,228100.0,126900.0,135500.0,156700.0,208600.0,436700.0,71000.0,88800.0,341600.0,120200.0,148200.0,500001.0,375000.0,137500.0,64800.0,231800.0,160700.0,251000.0,142500.0,176500.0,177100.0,311800.0,84600.0,122600.0,198200.0,500000.0,279800.0,195000.0,202800.0,354100.0,259500.0,500001.0,272400.0,183900.0,285800.0,225000.0,292600.0,55200.0,262000.0,158900.0,172100.0,191700.0,225000.0,108300.0,113600.0,100000.0,191700.0,117200.0,110600.0,80200.0,98100.0,253800.0,48100.0,192800.0,132800.0,196300.0,320800.0,319400.0,203700.0,207100.0,79900.0,500001.0,330000.0,139000.0,187500.0,448300.0,176300.0,175900.0,104200.0,162200.0,166800.0,161200.0,153100.0,156900.0,158100.0,76900.0,165400.0,73500.0,118400.0,142400.0,280300.0,107200.0,183300.0,98800.0,234500.0,143500.0,108000.0,97800.0,70500.0,225900.0,239800.0,136400.0,180600.0,239600.0,265700.0,204200.0,122500.0,204000.0,195300.0,215800.0,500001.0,75800.0,265400.0,273700.0,116400.0,59400.0,137000.0,119200.0,244200.0,170000.0,280300.0,285000.0,102600.0,120500.0,361600.0,455300.0,213400.0,158000.0,217000.0,63700.0,244300.0,151100.0,110800.0,433800.0,72900.0,108500.0,452600.0,467600.0,263300.0,266800.0,500001.0,72300.0,151500.0,103000.0,382100.0,172600.0,93400.0,96500.0,264800.0,157300.0,500001.0,139800.0,315600.0,231900.0,159400.0,96000.0,187500.0,229900.0,117700.0,169600.0,130800.0,157400.0,94100.0,72700.0,500001.0,95800.0,97500.0,78800.0,292000.0,42500.0,187500.0,218200.0,87500.0,146300.0,137400.0,276700.0,180500.0,155300.0,276000.0,75800.0,167600.0,293700.0,225400.0,500001.0,223900.0,89300.0,294500.0,195800.0,167800.0,137900.0,159200.0,77100.0,173100.0,181700.0,265700.0,96700.0,164200.0,250000.0,434700.0,500001.0,92600.0,242000.0,234800.0,168800.0,154400.0,64000.0,80000.0,322200.0,370400.0,181300.0,114200.0,112500.0,158100.0,277700.0,154200.0,105000.0,286500.0,190200.0,63100.0,189900.0,57100.0,282100.0,350000.0,173900.0,218800.0,225000.0,101200.0,164700.0,132000.0,245500.0,254200.0,301500.0,188500.0,184000.0,101800.0,220700.0,500001.0,202200.0,387800.0,114200.0,47500.0,154800.0,444200.0,500001.0,103800.0,67500.0,156800.0,335000.0,75600.0,93100.0,168600.0,398800.0,336500.0,230900.0,252800.0,361800.0,298400.0,111500.0,151400.0,100600.0,235600.0,242700.0,66800.0,500001.0,374000.0,230000.0,141100.0,170300.0,241500.0,60300.0,420000.0,224700.0,151500.0,82100.0,104200.0,361400.0,187500.0,295300.0,216200.0,66300.0,98000.0,175000.0,460000.0,122600.0,335700.0,173200.0,233200.0,84200.0,96000.0,79600.0,446600.0,180700.0,101900.0,77400.0,500001.0,243400.0,141400.0,213000.0,500001.0,248000.0,160600.0,143500.0,200000.0,101900.0,220900.0,253800.0,151600.0,133400.0,146200.0,294000.0,85400.0,208300.0,309700.0,100000.0,173400.0,88800.0,334400.0,94200.0,151400.0,390500.0,116600.0,153100.0,174600.0,84900.0,125000.0,162500.0,500001.0,99200.0,457500.0,500001.0,148800.0,119400.0,330500.0,64700.0,184900.0,82400.0,400400.0,500001.0,43500.0,110900.0,63300.0,329600.0,92400.0,500001.0,174200.0,201600.0,131300.0,243200.0,193800.0,274300.0,217500.0,109400.0,189700.0,189600.0,155700.0,176300.0,239900.0,110200.0,202500.0,149600.0,225400.0,273000.0,277200.0,158800.0,65100.0,139100.0,146900.0,136600.0,443800.0,47500.0,372200.0,52500.0,81300.0,187800.0,239300.0,129200.0,116100.0,274000.0,143400.0,87500.0,223200.0,225200.0,126600.0,242200.0,200000.0,68400.0,133400.0,179800.0,82100.0,298600.0,247600.0,231100.0,289500.0,119300.0,188600.0,111300.0,95500.0,200000.0,183700.0,70100.0,186300.0,500001.0,192600.0,152100.0,199000.0,99800.0,58600.0,209600.0,121400.0,227500.0,55900.0,173200.0,269700.0,378300.0,165600.0,242900.0,236100.0,308300.0,234400.0,260800.0,207100.0,56100.0,89900.0,87700.0,138800.0,81100.0,252600.0,142900.0,34200.0,339400.0,141700.0,372200.0,149300.0,189000.0,152300.0,321900.0,500001.0,218500.0,196200.0,121900.0,500001.0,100600.0,137500.0,92500.0,349100.0,500001.0,276400.0,238600.0,500001.0,68300.0,53400.0,353100.0,209500.0,174800.0,344000.0,238900.0,296400.0,391300.0,311400.0,267200.0,179600.0,152800.0,218500.0,161700.0,173900.0,150600.0,99200.0,74000.0,252800.0,176500.0,147900.0,225600.0,126600.0,85700.0,57900.0,91600.0,446600.0,88300.0,407000.0,108900.0,500001.0,500001.0,94900.0,187200.0,238300.0,350000.0,294400.0,140100.0,157300.0,230000.0,150000.0,421300.0,180300.0,155200.0,87500.0,154600.0,197700.0,324300.0,90600.0,221000.0,291000.0,252600.0,247600.0,138100.0,500001.0,463800.0,335900.0,241400.0,114300.0,102700.0,87500.0,270700.0,176800.0,70600.0,121500.0,220500.0,500001.0,111400.0,161800.0,122400.0,420800.0,254200.0,101800.0,84200.0,86400.0,237500.0,312500.0,320400.0,88200.0,349200.0,57400.0,144600.0,62100.0,59900.0,91500.0,246400.0,174900.0,191100.0,500001.0,398600.0,256600.0,184400.0,112500.0,127800.0,148700.0,127900.0,186000.0,167400.0,42500.0,111000.0,260700.0,72800.0,277000.0,100000.0,474000.0,110200.0,454300.0,91800.0,179800.0,87500.0,116100.0,128000.0,77900.0,123100.0,79700.0,112100.0,286400.0,214900.0,234100.0,54400.0,220100.0,171900.0,257600.0,205100.0,111700.0,191100.0,22500.0,214700.0,445900.0,280800.0,325900.0,316700.0,116700.0,139700.0,125000.0,160400.0,118800.0,22500.0,66700.0,162500.0,126600.0,104600.0,170500.0,161400.0,327300.0,311600.0,192100.0,195900.0,93600.0,441700.0,238700.0,250800.0,201000.0,364200.0,212200.0,203000.0,152500.0,227700.0,394100.0,227300.0,75500.0,200600.0,430800.0,54400.0,98800.0,93600.0,171300.0,212000.0,79700.0,413000.0,225400.0,159000.0,235600.0,190500.0,262100.0,292700.0,180800.0,138200.0,223000.0,318100.0,222500.0,353400.0,249400.0,127200.0,126100.0,133300.0,500001.0,218600.0,138800.0,225000.0,300000.0,105200.0,155400.0,120900.0,142700.0,326000.0,150900.0,338900.0,221500.0,88700.0,162000.0,286700.0,127900.0,220900.0,147100.0,112500.0,139900.0,217500.0,193100.0,111700.0,391000.0,295400.0,321200.0,43900.0,154300.0,191400.0,102400.0,164800.0,148800.0,133400.0,219800.0,500001.0,284100.0,162900.0,353400.0,162500.0,217700.0,112000.0,211300.0,287500.0,73100.0,269100.0,70600.0,212800.0,52600.0,68300.0,172600.0,54300.0,282400.0,121300.0,67500.0,238000.0,258100.0,207700.0,150000.0,274100.0,210900.0,88600.0,95500.0,288200.0,390100.0,138100.0,231400.0,163300.0,299600.0,55900.0,125900.0,390600.0,221000.0,71100.0,75100.0,235700.0,306400.0,337900.0,166800.0,336100.0,156800.0,165500.0,331000.0,54200.0,145500.0,500001.0,74600.0,196000.0,100300.0,500001.0,165200.0,208700.0,255400.0,68500.0,123200.0,141400.0,252400.0,131700.0,275000.0,500001.0,145300.0,147600.0,394000.0,180400.0,177500.0,332500.0,190900.0,187300.0,324400.0,162500.0,96900.0,128900.0,281700.0,54700.0,255300.0,275000.0,334300.0,126100.0,254200.0,500001.0,239700.0,187500.0,500001.0,283300.0,82900.0,275000.0,208400.0,126100.0,500001.0,122500.0,225000.0,271500.0,167200.0,168900.0,119400.0,127400.0,185300.0,132300.0,239900.0,68000.0,471400.0,145600.0,108600.0,76100.0,301700.0,132500.0,53300.0,130400.0,133900.0,293200.0,161800.0,162500.0,252100.0,262400.0,217200.0,294400.0,121700.0,244500.0,103000.0,205100.0,331500.0,300600.0,165800.0,53500.0,59300.0,78800.0,500001.0,142800.0,53500.0,94300.0,196900.0,133200.0,63300.0,224600.0,278600.0,123600.0,229300.0,244900.0,134600.0,54000.0,161700.0,218400.0,66000.0,98200.0,190700.0,500001.0,196300.0,315200.0,158900.0,158900.0,128600.0,93200.0,97600.0,93800.0,236100.0,112500.0,95200.0,321600.0,128100.0,151100.0,71300.0,114000.0,178000.0,149100.0,267000.0,303300.0,174200.0,224100.0,121200.0,275000.0,159800.0,132600.0,183300.0,328600.0,206300.0,120000.0,342900.0,219500.0,314900.0,413100.0,222700.0,217800.0,109400.0,285700.0,241500.0,500001.0,268800.0,253300.0,351200.0,87500.0,175000.0,280200.0,384400.0,81800.0,254200.0,290800.0,98000.0,284600.0,195300.0,271400.0,257600.0,45000.0,412300.0,98100.0,471300.0,328900.0,184400.0,98700.0,216200.0,131900.0,111500.0,286500.0,284900.0,208000.0,248700.0,136000.0,486900.0,170800.0,451300.0,348200.0,500001.0,153300.0,277600.0,106500.0,157500.0,152300.0,320500.0,56700.0,132000.0,200400.0,193200.0,141400.0,304100.0,193800.0,62600.0,52700.0,268300.0,72100.0,53900.0,255800.0,500001.0,500001.0,180000.0,273500.0,244800.0,50000.0,142400.0,56100.0,86500.0,122200.0,187500.0,111100.0,54600.0,225700.0,109800.0,191700.0,222500.0,152500.0,293100.0,205600.0,309200.0,141300.0,215700.0,55000.0,356300.0,500001.0,129700.0,500001.0,130400.0,313800.0,179200.0,182500.0,500001.0,155000.0,282500.0,496400.0,313800.0,500001.0,320300.0,112500.0,116200.0,163500.0,196900.0,310300.0,97900.0,210900.0,251500.0,214200.0,500001.0,229800.0,197500.0,148100.0,127900.0,244700.0,145300.0,94500.0,253300.0,147600.0,329400.0,164900.0,309700.0,113000.0,229100.0,221300.0,470800.0,116800.0,500001.0,161700.0,95000.0,291700.0,69900.0,102300.0,108700.0,90100.0,500001.0,143800.0,194600.0,247700.0,470000.0,500001.0,500001.0,226900.0,366000.0,500001.0,216000.0,154200.0,112800.0,139000.0,372800.0,92700.0,90900.0,206700.0,199300.0,66500.0,133500.0,93300.0,370900.0,157300.0,215500.0,273100.0,69100.0,125000.0,411600.0,123800.0,201500.0,232500.0,94600.0,125800.0,60700.0,175000.0,79500.0,139600.0,91200.0,169700.0,402500.0,390500.0,77500.0,328100.0,265000.0,112500.0,214800.0,178000.0,211500.0,271500.0,263500.0,500001.0,178400.0,152300.0,335900.0,270100.0,239400.0,219700.0,166200.0,70500.0,326700.0,233700.0,185600.0,152500.0,371500.0,453800.0,244900.0,225000.0,254400.0,204700.0,143100.0,360800.0,62000.0,76800.0,373600.0,264200.0,67500.0,184400.0,500001.0,311700.0,241400.0,294400.0,381000.0,340000.0,63400.0,218500.0,433300.0,171000.0,124600.0,65400.0,88300.0,176200.0,195400.0,102400.0,500001.0,186200.0,119800.0,278600.0,168600.0,96900.0,75000.0,176400.0,442700.0,333800.0,86200.0,500001.0,145200.0,104200.0,107900.0,303400.0,249100.0,227700.0,203900.0,134600.0,426100.0,95800.0,47500.0,146900.0,191800.0,98500.0,349000.0,122700.0,500001.0,187100.0,254000.0,265000.0,217100.0,129700.0,212500.0,300700.0,185300.0,132600.0,225000.0,281100.0,187500.0,350000.0,126500.0,133400.0,204500.0,215000.0,228200.0,160100.0,162500.0,140800.0,340700.0,460000.0,192500.0,126400.0,169400.0,104000.0,90200.0,87800.0,183900.0,320200.0,174000.0,125000.0,70300.0,120800.0,260500.0,431600.0,350000.0,118200.0,109400.0,270600.0,500001.0,434800.0,239800.0,52100.0,130000.0,179200.0,92900.0,308000.0,352200.0,95600.0,136700.0,115500.0,233500.0,350000.0,273600.0,235300.0,500001.0,63200.0,117700.0,263100.0,481500.0,228500.0,279900.0,183000.0,465800.0,150000.0,250900.0,500001.0,120800.0,500001.0,99300.0,173400.0,109500.0,152400.0,157500.0,303100.0,151500.0,117500.0,248800.0,346700.0,367500.0,142100.0,137500.0,163200.0,336800.0,47500.0,136800.0,216600.0,194800.0,151800.0,120600.0,242000.0,330200.0,217000.0,166200.0,153100.0,290500.0,173900.0,268900.0,144600.0,151900.0,156300.0,91700.0,315000.0,174100.0,107200.0,109000.0,73300.0,62300.0,400000.0,62900.0,204300.0,249500.0,500001.0,286100.0,500001.0,360700.0,132300.0,253700.0,79800.0,87500.0,161300.0,70000.0,101400.0,395500.0,133200.0,285300.0,208200.0,189000.0,53200.0,302100.0,213800.0,297500.0,279300.0,134200.0,175000.0,122300.0,73200.0,499000.0,134800.0,500001.0,299000.0,325000.0,114600.0,223000.0,148800.0,101500.0,122500.0,224200.0,209300.0,141300.0,143000.0,106900.0,288300.0,398200.0,61800.0,137500.0,365300.0,174100.0,137500.0,132000.0,160700.0,172800.0,262000.0,130000.0,46700.0,137500.0,122300.0,90000.0,92400.0,199600.0,228000.0,225000.0,242100.0,500001.0,141600.0,131100.0,340000.0,283800.0,104000.0,189500.0,169500.0,189900.0,334900.0,407000.0,178600.0,245800.0,149700.0,500001.0,258300.0,146900.0,128800.0,311100.0,325000.0,225600.0,191400.0,179200.0,196100.0,105300.0,86900.0,102000.0,500001.0,58100.0,195800.0,326700.0,205400.0,146800.0,255000.0,162400.0,170700.0,112600.0,306700.0,268800.0,181800.0,181300.0,156000.0,337800.0,353100.0,140700.0,70700.0,168700.0,218800.0,229400.0,97300.0,160600.0,177200.0,500001.0,72300.0,431800.0,117400.0,112500.0,80600.0,163000.0,500001.0,98600.0,208100.0,417100.0,213000.0,162600.0,161500.0,74600.0,233600.0,180700.0,316700.0,253600.0,179900.0,83300.0,140600.0,266300.0,500001.0,139800.0,153700.0,182400.0,218400.0,262500.0,130300.0,149600.0,123900.0,307000.0,259800.0,162500.0,129500.0,93800.0,350000.0,500001.0,168100.0,158100.0,113600.0,381500.0,350000.0,219900.0,139200.0,270100.0,275000.0,187500.0,158300.0,327700.0,94600.0,278500.0,120000.0,299500.0,414300.0,241900.0,254500.0,408500.0,104400.0,214600.0,74300.0,265500.0,197000.0,130700.0,115700.0,99100.0,410500.0,136500.0,86600.0,216900.0,318200.0,265000.0,414300.0,262500.0,222700.0,162500.0,196100.0,221900.0,460400.0,247100.0,197500.0,330000.0,245600.0,82500.0,68000.0,128300.0,113500.0,325000.0,261000.0,122500.0,353600.0,54400.0,134300.0,303900.0,337400.0,60000.0,162500.0,59400.0,76800.0,107600.0,247800.0,305100.0,231900.0,217600.0,367400.0,98200.0,184400.0,193800.0,177900.0,157500.0,190400.0,162800.0,189600.0,197600.0,191100.0,165300.0,136200.0,336400.0,88800.0,265400.0,105000.0,380400.0,187500.0,72700.0,182200.0,430200.0,376000.0,88000.0,54100.0,67900.0,500001.0,100000.0,131300.0,268400.0,89100.0,179200.0,107600.0,83200.0,204200.0,157500.0,100000.0,244100.0,500001.0,217800.0,409600.0,181300.0,333700.0,138100.0,89600.0,227700.0,195300.0,352700.0,83400.0,292000.0,113900.0,271500.0,165600.0,232600.0,102000.0,49500.0,195200.0,500001.0,458300.0,156800.0,226000.0,69000.0,258600.0,199000.0,62300.0,193100.0,430600.0,51600.0,86900.0,67000.0,91500.0,95300.0,105900.0,154200.0,200000.0,149600.0,240100.0,261500.0,174600.0,261100.0,420800.0,175900.0,211900.0,229100.0,374200.0,111400.0,138800.0,95700.0,500001.0,500001.0,42500.0,109200.0,174500.0,57400.0,324600.0,282700.0,234600.0,165500.0,233300.0,172700.0,278300.0,266400.0,189300.0,93900.0,142600.0,108200.0,275000.0,232000.0,164400.0,500001.0,120100.0,100300.0,71900.0,61200.0,198500.0,184400.0,237400.0,58300.0,450000.0,156300.0,351100.0,274100.0,170500.0,111600.0,296100.0,166700.0,106400.0,295300.0,112500.0,72400.0,229300.0,55200.0,208900.0,253800.0,112500.0,229400.0,185100.0,191400.0,260500.0,97500.0,500001.0,500001.0,221000.0,86900.0,108800.0,208600.0,500001.0,195800.0,150000.0,250300.0,50000.0,60800.0,324300.0,347100.0,325900.0,371400.0,172600.0,94600.0,322800.0,191700.0,127300.0,242300.0,210700.0,120400.0,262400.0,216500.0,74800.0,76800.0,290600.0,78100.0,357100.0,267400.0,146600.0,126800.0,487200.0,114600.0,313100.0,144800.0,221300.0,318600.0,97200.0,243000.0,281000.0,228900.0,261300.0,131700.0,185500.0,191900.0,233600.0,198500.0,221700.0,316500.0,152400.0,326400.0,99300.0,292500.0,163100.0,302600.0,110000.0,94900.0,500001.0,290700.0,146900.0,122700.0,110400.0,94800.0,140000.0,191100.0,169800.0,305400.0,398500.0,314000.0,184200.0,248600.0,156100.0,86500.0,274100.0,198100.0,128900.0,179500.0,275000.0,94900.0,194100.0,400000.0,112500.0,158300.0,187800.0,97100.0,131700.0,363200.0,400000.0,163000.0,500001.0,137500.0,144200.0,91500.0,500001.0,161800.0,278100.0,169300.0,110700.0,252100.0,123500.0,272200.0,61400.0,332600.0,69400.0,265600.0,435900.0,266700.0,93900.0,382400.0,82300.0,283300.0,455400.0,148500.0,260500.0,140200.0,277300.0,142000.0,291700.0,107100.0,68900.0,500001.0,215300.0,161400.0,165900.0,58800.0,260900.0,306300.0,199500.0,306800.0,100100.0,310900.0,342200.0,125000.0,213500.0,213200.0,117300.0,199700.0,160300.0,234000.0,165100.0,265200.0,202000.0,239900.0,231600.0,122700.0,337500.0,104200.0,347800.0,366300.0,48300.0,163600.0,350000.0,443300.0,141100.0,226900.0,90600.0,136300.0,196400.0,140300.0,125900.0,126200.0,44600.0,275000.0,49500.0,354700.0,119400.0,450000.0,253400.0,189900.0,225000.0,248300.0,71300.0,105100.0,81800.0,144500.0,73700.0,76400.0,83800.0,101900.0,233300.0,114300.0,97500.0,137500.0,500001.0,297200.0,124100.0,241300.0,71200.0,346700.0,186500.0,264000.0,229000.0,253800.0,315300.0,133900.0,196600.0,218900.0,162500.0,174700.0,164000.0,123800.0,100000.0,375000.0,439200.0,88300.0,500001.0,153500.0,245700.0,123800.0,205400.0,205200.0,203900.0,146200.0,98100.0,196900.0,261100.0,469800.0,153700.0,68400.0,165400.0,273600.0,292900.0,159700.0,242700.0,209700.0,263400.0,108900.0,124400.0,55700.0,227800.0,500001.0,292900.0,181600.0,422700.0,112900.0,97900.0,142500.0,287300.0,166100.0,105500.0,264000.0,57200.0,178000.0,329600.0,265700.0,166700.0,111500.0,187200.0,500001.0,187700.0,73300.0,62800.0,78900.0,172700.0,241700.0,123500.0,344700.0,86900.0,97000.0,342300.0,329300.0,213200.0,194100.0,123800.0,290500.0,155500.0,126200.0,157400.0,241700.0,167500.0,183800.0,259600.0,241600.0,500001.0,173200.0,147800.0,234600.0,142200.0,305600.0,183100.0,154700.0,202600.0,143800.0,233900.0,140400.0,219400.0,385200.0,51400.0,85900.0,113700.0,278000.0,105800.0,224200.0,159900.0,205200.0,275000.0,58900.0,113900.0,94600.0,158100.0,229000.0,189900.0,232600.0,330800.0,103300.0,191800.0,181200.0,50000.0,150600.0,500001.0,153800.0,234300.0,123600.0,187500.0,187500.0,255600.0,200300.0,178400.0,197600.0,360700.0,129800.0,74700.0,287800.0,110300.0,148000.0,344200.0,121400.0,226500.0,160500.0,376200.0,325000.0,172800.0,417000.0,190800.0,194600.0,245200.0,482200.0,92400.0,135100.0,416700.0,261000.0,500001.0,500001.0,113600.0,264400.0,114700.0,62000.0,318200.0,191100.0,135600.0,127900.0,118000.0,465600.0,411200.0,418800.0,162500.0,100500.0,313400.0,359900.0,89400.0,99900.0,120200.0,253900.0,92700.0,144000.0,190400.0,287500.0,429100.0,132500.0,134400.0,52600.0,245700.0,276200.0,181400.0,225200.0,275000.0,500001.0,100000.0,500001.0,95300.0,227500.0,87500.0,109100.0,117100.0,162900.0,202100.0,132600.0,268800.0,132900.0,104600.0,116300.0,161900.0,289000.0,87500.0,60000.0,177000.0,362700.0,85400.0,183400.0,213000.0,325200.0,412700.0,247600.0,293500.0,198400.0,188300.0,180700.0,118800.0,85500.0,165000.0,80400.0,153000.0,240900.0,214300.0,286600.0,380800.0,258300.0,145200.0,153800.0,113500.0,241900.0,138000.0,69600.0,150000.0,251100.0,313100.0,105600.0,363000.0,241300.0,65000.0,218200.0,75300.0,172300.0,159400.0,500001.0,417600.0,112500.0,230400.0,240900.0,492300.0,213000.0,144100.0,220700.0,95800.0,438400.0,253200.0,69800.0,61300.0,174400.0,200300.0,237500.0,104300.0,218700.0,153500.0,85500.0,177600.0,136100.0,84200.0,246400.0,166300.0,500001.0,146400.0,57500.0,130600.0,75300.0,337400.0,120900.0,500001.0,204800.0,154300.0,126200.0,252800.0,211000.0,134400.0,227800.0,225000.0,256300.0,218800.0,500001.0,158300.0,244700.0,137200.0,188700.0,72500.0,231200.0,161700.0,325000.0,116000.0,342200.0,189300.0,111700.0,41300.0,52900.0,235500.0,76200.0,117900.0,81700.0,236800.0,252800.0,182700.0,358000.0,53100.0,387400.0,158900.0,162500.0,376100.0,367700.0,109400.0,223100.0,106300.0,227500.0,131300.0,158800.0,167900.0,183100.0,271300.0,161300.0,285400.0,150500.0,65600.0,162100.0,222400.0,287500.0,114600.0,61500.0,181100.0,119400.0,47100.0,137500.0,277800.0,181800.0,183800.0,146700.0,280900.0,268000.0,138800.0,187300.0,172100.0,175400.0,244100.0,194400.0,54200.0,235600.0,160000.0,135200.0,166000.0,174500.0,105400.0,443300.0,383700.0,155000.0,261900.0,405200.0,98200.0,97200.0,47900.0,212500.0,178100.0,425500.0,417600.0,194100.0,105200.0,500001.0,115300.0,104700.0,186500.0,388500.0,274100.0,483300.0,226700.0,150000.0,173000.0,311500.0,500001.0,285200.0,100000.0,271800.0,262500.0,210900.0,230000.0,160600.0,83000.0,136100.0,500001.0,332700.0,42100.0,342400.0,269400.0,127100.0,246000.0,390200.0,238700.0,113800.0,114100.0,119000.0,191500.0,162500.0,96200.0,500000.0,79200.0,190000.0,212100.0,147800.0,271900.0,90600.0,230000.0,51500.0,254500.0,72000.0,186800.0,236500.0,261400.0,105500.0,123100.0,237500.0,67300.0,218400.0,119400.0,209800.0],\"y\":[65893.42421339464,108212.29353034357,240350.25857236932,261859.4673578848,260085.78569658092,153020.37062477687,311414.21219401306,236614.6859676987,242490.69309090445,431849.64350756444,139994.83902592617,169836.26305836142,35851.696111107885,139973.98362133646,238297.635685951,19738.396227577527,299590.4267365335,215459.42908191044,244759.15948491875,117773.4705510194,233669.01528845888,290318.7046610562,174149.22653772432,304376.5411093257,193482.171503203,73241.50346104108,107937.05003573421,261851.88189536653,151564.26552546158,342189.127551413,167829.62220560593,159951.61675048916,196922.82857502688,378108.60735622706,250976.0369010737,116856.31889346591,323079.7652665452,164786.18938224606,162662.21687267185,216595.96224987326,254726.9752064505,165542.4653973987,136750.59786446457,170642.17879319692,131826.72948758793,137741.99636662626,219580.302835294,187646.25287372645,227743.49061005146,131455.17434268794,255642.29986843365,147469.21086490914,225453.8574605503,77891.89588796657,144939.25025549965,188558.6970655916,42663.26316570552,231600.2830257914,290720.52148841554,141447.877771788,268836.7848489034,241315.706914714,79517.56989890133,192711.7364229049,283663.92653763096,169048.09130005643,194997.6510868763,138767.75796976814,-2234.8943230194855,240760.67237581723,31440.318435314373,238672.25634958514,140546.56202709698,160372.65193001204,225421.18598950095,221287.59607897897,295368.12206004537,214444.83642744052,286978.5704488759,274409.1314227927,112580.0384989218,192389.69523579767,112031.50935634153,107275.67615597142,407346.07995538344,282694.6095179375,92836.5782138618,93271.19896139696,121005.63800134692,145801.32952653588,162690.32772062364,218906.83846339525,234436.72341527863,52169.87392451044,105434.39719880154,103149.82734193838,245100.1563883979,186334.19273568905,194877.70316542592,168831.01564118316,144445.6485557879,380358.174270601,279436.77179047506,360670.21334366256,253419.80920450392,154636.49773828633,188304.2068841994,368614.8482168882,183245.86210952338,109398.46088289499,43188.76430662323,301455.01290599594,488827.58391530876,333714.81061076093,126827.63753342006,221612.24046420318,262595.7516552664,305164.11829128175,299674.2708347118,170352.26902150683,131999.33212070086,263090.5272103701,299566.48609353456,81833.26142060389,145476.68610617035,126987.11539058984,77404.15536622675,153669.85490747954,127560.20448885964,95567.53485083574,223553.15084109711,700809.7243965602,309759.5907306854,144732.82752376836,177864.2465278448,115368.56736815616,317492.53346660937,258302.42050567782,176279.7174644097,249077.55659439854,-97053.53604684648,122610.92540366044,142505.151315943,202709.23390474872,356282.80463907553,-26860.784476276778,345920.6684144528,227680.29365833514,69983.79352120002,171725.5165794531,144678.65833433892,162394.64871350306,240841.29748844742,125812.2487215207,258525.20880064473,242463.48062992608,216762.27969123295,283725.9390165187,112423.11790452203,94324.76997437098,269562.3921731724,119430.11841958517,287962.567028676,225081.6548962036,87704.90618604954,289396.0740759695,204785.06650303467,157363.0551137428,116254.74149822762,201487.41792714555,289447.8513912913,294504.84564595006,259814.5344666724,351223.37025518855,45291.557655812125,60681.351755368756,219536.65428865267,69849.71480404935,134979.40116910852,-10563.3190863083,308616.6934965799,328596.9067745825,210119.3271936116,282966.3766838833,86473.27672027926,153014.54954112862,131324.58956209169,98013.38857027394,412667.2933980571,200636.7829529544,229190.08603109646,353589.72674929525,80644.21146422946,221926.85549673944,98969.25424539586,135382.7334746965,223664.11776466144,124876.10030298724,480497.8436486553,156878.7083832457,103997.07599093049,429128.46792450035,284337.97583513247,198642.24144961074,166786.79179913164,198717.96417989125,73427.65760069169,79355.42736184702,239371.88616319874,193400.93753484628,140992.3667823945,496267.2791496495,268569.61027490447,310691.0203610802,189149.84163082403,158151.44904429035,171275.5574883656,65231.379615982325,241196.59427086508,134333.14871453372,82798.50547242348,147711.67518112683,295943.0859934409,163810.5671814304,191016.7308994191,150643.42193971056,283320.24472975184,76553.84409647669,239967.62539094963,263133.9046296417,283286.82335679536,214301.6565967864,162182.58816677018,306566.89516341,105435.4479106149,94023.9249811355,392224.8028664916,441244.49019455584,177751.42671292496,275171.8242804447,221997.9752180479,143117.94448718973,181173.41577797488,191810.3380747703,135470.7067546139,264778.67483311414,298092.6930939864,272080.027588243,282926.24111264566,156994.34119874684,93316.12188195623,254344.02791229394,181894.3863654815,164357.0965947191,52263.112785921025,259857.36891935096,167195.51317243936,131265.1269187233,81162.08414827145,212013.55641654565,291325.5848613054,261431.7409359636,398216.1030984417,221394.04982759999,26882.595867135155,327779.6761366381,151056.58547290385,240740.73485713016,373456.3058705259,118460.0167832701,686041.8878125835,224434.39368885552,174402.76132406297,209530.5841554132,118499.34135907356,256427.85054291366,248556.82253522796,126620.78829875431,139517.52934719148,194110.67893577562,163594.0998606722,252421.60841970058,118530.56305562487,203670.89009430772,261046.3221313147,366583.61077509244,327678.55113299744,174556.71717001154,298013.1928765666,437545.5757502316,143071.9341682918,151353.3784740134,198930.0945093289,175738.2354600515,183811.39409814018,99131.74023617059,301711.5456475355,36883.686570854275,253470.64918614645,241651.02301305835,64807.15520695652,62597.90199189371,394149.2524863681,161109.07286292923,109518.31031662508,428608.44120799203,171410.3795529941,84992.00331993104,273147.84923390474,164565.351313904,151471.72300045146,115668.66724250306,260337.01901091012,280180.8599370086,620431.2588502525,179662.9541614962,96597.65505512658,179708.38107099122,180764.84394422616,299367.93722291023,277383.0686964651,279099.1624551491,203893.9834660824,437938.5841517912,255325.1980195021,133171.8795230439,176379.93051371095,95828.03548153969,139455.50580239922,171491.8115171467,130058.76144878505,216266.38978600738,308348.7965426011,209868.45835000518,112032.07098298214,278007.47817378934,138630.66658045052,44713.048354826984,69596.27239484189,376286.7766410649,223125.57436455897,63262.56538841082,64331.37484671257,263173.7621379058,223543.80466434185,120137.85123714505,339976.7142348073,310439.3772333401,563407.8239594388,217904.92451289715,163323.16648406503,238000.96158123086,113329.26245271636,74463.7042090341,239117.1397723016,222858.91516759945,70207.81471783438,240232.9533952506,287434.7862469744,202922.51072246215,373982.0763600358,251542.14971028778,231207.5413712972,148261.46963973867,205079.52855638304,208427.80352656957,216684.07405390442,414768.68031609483,283849.39821562165,245066.64119118146,196228.30907874726,137439.76241462817,56443.330142849125,130158.82957007867,290010.2500515026,261919.9262638083,179223.07319897698,171159.00550255383,84708.14490743609,96532.49153742763,309094.48981043405,480615.0808920974,224639.1340098389,114270.43701018023,240665.6656340411,326258.09040029283,83625.73749713284,173995.87260590005,158446.7270624182,223849.38158320205,247354.86695619192,138691.45512388484,141551.51983676918,86030.88014884353,220254.27702820703,166676.4000393475,620019.8950244293,329207.97172346537,215509.49844153778,196190.69432402155,288882.2454016488,243684.23319240275,197172.19213158102,161131.10903950687,218099.35355054578,69965.88144456048,410302.1935655588,200932.02700290646,102606.69113278383,210954.04368141672,182771.01929864753,465573.3450687209,246925.96329810508,118577.57777995456,138820.10428779083,273304.1989189103,299779.13650053134,74344.57990538486,316061.44889546325,175594.07599093948,120252.9401683208,147640.81891546218,197304.1052209508,132962.93023702697,428818.6474246859,243392.34925623407,237919.99005471202,236718.59618374202,289191.26728929277,203420.70099515002,96962.76122013725,191554.23034823374,282800.5870033825,154203.95369915702,208658.90877722442,316956.73235159466,309234.75785567134,118552.29465716422,219577.29887084634,261150.69731992262,238322.293159297,173191.11850442842,292105.2158072991,304034.46960959653,97647.31825858637,157919.61319177735,320356.7293822191,155370.2947013249,140761.98052472898,237113.85075251665,313221.114197863,200910.5564038405,387291.5845763508,97101.73437985883,199981.76218075905,314129.11369169917,231753.78830586575,199338.4809407959,263030.53804416145,42109.06111285827,44134.54695277539,387638.85398624185,144549.04612449915,140200.94692773937,140418.09671254334,150034.8749692882,256730.1576108555,256573.72202836015,103034.38103771092,121989.06845051367,193145.28937081163,154553.02129513008,148001.44134197079,114112.84689118032,272959.2602562356,189705.8646173629,131021.19507153079,96582.7926942198,196391.34579699504,86151.12178964839,233150.34623768245,173680.86384225782,231587.75450181286,270634.1725369026,118858.11719889568,203661.90619234613,213665.86626286808,271451.4289938952,117591.15481972249,257019.8086716137,134850.15507075615,76046.15642734415,103700.77933716147,60590.931759279454,291356.018969885,77381.09953673132,304964.980635199,340252.46054352826,195312.0590145916,263410.3186122431,215593.15695320838,302512.9699756214,193387.80856630864,84482.7774400993,249633.30185905285,288273.47250581824,219783.2792568447,334515.7328864441,335346.97312856937,254084.38857526268,141038.89505790913,243850.84566246072,298511.2224326115,372832.309876065,228251.63920649892,325595.0223548361,154408.96516056795,237176.06250076706,48912.844610769534,165774.75826545243,280939.9128557277,156422.48491298134,286460.0759174632,130506.47506779933,153513.06311211223,192085.68333502914,133328.7525747347,46420.25125691568,72109.32317613377,171688.67049649113,130013.2653948796,169641.02702780123,232630.605223912,188928.50082858806,194147.24603946126,188744.37582808733,287172.3379952961,113492.97656668565,240534.3476308077,46636.83530555901,275345.25639941404,342242.59807417024,284470.6398822671,186817.53824633383,231464.8058255622,422691.297209613,277887.21620726085,514015.36968344025,291290.7147296583,115884.80826141675,104275.17065897372,255226.62022293132,119276.38776581273,136256.17607248604,152918.32810044044,245733.91577390494,126532.6263468935,191918.57029886392,138090.24362957553,113361.11497729724,331859.0619492034,328290.3277781685,263720.26380641444,293040.4147238141,128984.1554062812,257438.83146664058,302647.76756935637,272944.43990014214,299898.0568981728,147724.1909953965,343852.75519072526,59084.397946826066,215893.04559682307,232934.51435597165,110822.05536490196,147121.64537403354,87675.14947064675,198784.4041978309,188617.6875468961,274147.9504291682,301983.1004086406,402513.57290321635,464144.23480209196,125707.57002394603,238778.95748393916,346683.5584499924,194169.36458852343,192615.56952781253,108879.54577509112,242149.79033860765,99374.73678786095,131136.15693832422,219424.01091488946,186534.6271451107,48322.09179116343,289494.7860869158,177154.70375548102,109489.61137723927,115965.73230868003,354166.14647282846,142339.22397186785,284138.7857703258,265702.91098898125,167177.80132714493,118352.94337034252,267489.77500802476,169258.64564159777,332847.10358557466,267587.2999953152,81168.74101504944,203472.3300891575,168316.0875213307,-11454.565825155209,289773.0104540914,292533.0297214167,261997.28132149152,258511.27200550967,265368.61615537957,196171.84062391202,131318.10517149884,296130.303304103,230662.61844873577,232031.82161284555,304529.4760838628,634361.0506796625,203056.8853001803,240330.29580715654,275999.2770034388,466185.41853433126,334672.0560270247,329754.7145989421,223039.1582516397,106905.90304253329,111031.64552100287,162429.46046761324,331310.5503540324,175634.43706287182,264143.0714536084,188300.56291843517,95016.62719797016,236036.03865420897,151377.32355730305,225982.50561097724,99069.35630617569,293441.7124174392,186127.20153645542,104793.0042237799,117481.86849199799,267857.74196911464,252980.70663742,94038.3974185794,191685.12156420917,72290.77412414941,102753.83022696932,116253.65285705109,245190.7991349596,162344.9785088165,102118.43712979186,208687.57576426005,227089.28755168308,199009.02625541817,168922.10800308146,334573.3407761688,96885.85503065375,177739.08718576038,123647.72727438045,78765.99289885441,137926.84740340506,76553.21991382215,254224.78286858008,226421.43397825476,203626.13177891553,443087.97444220213,164369.39409985926,116475.24455837364,174160.02397317108,103394.98762761583,111568.18535475817,318166.304144847,454170.2883928551,175027.28594148633,80605.89089534892,113593.78977682421,324324.8787249409,339266.66212473635,303366.8262577381,367912.4304832651,219869.70479099333,245091.857053774,74514.83899728733,74807.3766930133,215721.89773785297,226392.1890869587,202620.52707490814,264138.754181658,149736.23449471503,49473.98480034419,169168.79703057877,145413.88850734825,341323.4779062896,182898.36953491194,241482.25919099283,177354.4439180965,178524.0949117915,148259.28297921078,335092.62082717987,231262.42698177247,161829.68121797312,185748.40562708926,273345.3893676605,331263.6392028372,220323.86180309264,354512.1947447326,256910.59697666139,86212.72150828382,207831.3887655472,255994.51069599306,34999.502854181104,301915.7192924268,108155.34759585932,344728.58261327806,220356.87964860295,66159.68269875456,303562.5996826627,181641.50884273456,143204.53844056177,302596.3599864473,77496.10134963809,116203.86992958256,286850.2709874811,160756.30503158123,155481.59430784013,185024.9727476575,170397.11673344212,407692.2819462203,103125.31934957486,150246.1091859673,199658.82050560653,136396.46689883427,267969.01082283346,115234.38644098403,168782.1114672005,97627.30815323291,372216.84982213855,192091.2414083731,251288.2921003051,169464.57801647167,134064.04146822268,225488.96222917206,128135.607848869,91156.03203497967,337170.123691151,242988.17805999244,227972.9049475528,312802.86839595536,364818.59415125474,214090.15453926692,131276.55113674793,132179.56075689135,239353.04066163677,147757.72520673912,208594.19450248708,160334.2838336314,353519.0004383045,309388.224761232,84655.76403217163,254335.57964111184,305550.1472961195,295266.7307636759,105387.71537806628,176740.80699047912,523469.5640025672,68457.17411180385,153917.6066066258,187999.30011320772,212339.97824725282,99678.75299485796,138106.5367759099,205776.83947017405,206266.54956030054,136632.15673133847,155495.01712633448,226272.85243666015,382383.6747896388,130460.97171052963,232338.84813812666,260814.8672059954,107408.79940686906,86571.09075555293,253742.33809359503,106604.42331909662,108417.00004000666,164348.8253177416,154132.18791048575,424999.06943402893,185972.23599215286,394486.214403915,206254.2421909105,324442.4777808535,221832.71850131935,41499.598121150804,130078.42110625174,273123.3475293496,221935.42340643765,235194.8524607455,42006.323093097686,242282.68055151973,63456.73022612199,207244.31091176783,273858.32821807323,216636.76333596383,141159.034134286,143874.4664162827,238634.96803220335,106966.3855237063,274087.58990354365,197597.68274762013,253351.9650707284,164367.68237014036,150762.02510443912,319524.67955415486,105338.87045620981,175673.40781921343,266984.8387380926,251431.87914619505,519470.5256927914,401153.901615704,171770.38340185067,190153.21933714312,165961.82950966043,87744.17921198542,185165.29625323703,162522.42096940943,241214.6729830592,276810.3801866465,74959.49705667022,209989.346889081,479429.8570018948,204887.41053478408,246914.73021733627,208711.33684693303,192882.71203631326,339194.8666096332,78937.55562462263,172223.97352603788,107416.17576648691,58373.498027576075,150290.0361022149,204638.05953566643,304004.31407873274,157359.69684908984,213643.7298221857,336912.06613131636,128842.96046741659,181739.95481389892,236569.41005980351,288114.4419101796,189381.11824547825,191160.78825298563,276655.14230122423,178158.8058909116,292739.5299661855,222370.599601568,105078.67671166832,219969.6691699136,78951.56491287515,221122.93971942057,302613.1703964891,265507.7254159906,340567.248052689,235988.1865098909,162659.67652282614,159068.49618990693,184438.84477396088,260239.91460221185,18024.475015263888,332350.5053314106,274149.0798977372,165630.05715611627,174966.70748267625,284379.5214797837,184603.69542106203,293702.8197033136,215164.39687982167,237148.15321893367,196092.91164559082,116547.08445504514,199868.4940499864,230859.45614577248,232000.2234308052,156209.96422026982,114533.22937005962,78065.38193204999,294754.392382238,319697.8094151943,35843.23637193284,241499.62803078064,194221.66426308447,126634.72227186288,152634.13994268925,266947.65630493773,131154.19018248428,99499.98392034284,210477.12150211073,-31929.1955973921,162137.58625443056,439104.4530613546,280628.96542450995,154460.3755784273,315255.61888581654,172352.38910115368,284710.5523441444,228341.01922006847,162471.2120021729,439873.19522783114,46510.65184904891,246927.3934221503,86166.55241671011,143346.67959721189,292919.52997529786,118843.31101583826,292046.7682889707,149843.73188459518,96302.75059662317,121986.95537018758,83941.59734365405,151739.3023053265,317872.2419965437,221210.94534903666,349612.6006752645,218339.2362406367,337755.92253674613,199782.91189902308,95030.67435003107,251130.05820771775,216965.48804247924,271979.5429016313,276940.1926124291,116398.12069467,134157.31016730948,275628.77666160744,273241.69339088956,331828.62698730396,138717.74960306744,279746.4888745084,117370.76211917671,71618.33996145503,151427.3076684478,111290.72757240705,226341.27111437698,346906.6546185598,189962.30283368815,231392.1113833316,217627.03844566678,101633.6721355789,299544.4894577779,186755.13241131854,117600.58693768282,208833.925213753,102804.43907676495,120961.79501972708,577892.2576531407,213695.09688045052,521120.45743888104,308665.9632291052,111201.05890083173,256530.25451951096,226514.19386075222,217078.34506632542,58792.417178807606,209158.9275217151,262337.4073393668,248477.82001887323,193976.2865220144,146224.7256946779,223162.75000676635,244401.89324014302,253786.83595850412,114678.34594047259,154672.96059499355,92427.93064895642,270493.6030552341,230931.33900418217,246900.5769367033,307447.9513794689,136051.22058864863,263562.63280193944,499166.08371355507,178287.23980990518,320660.9157980839,231524.05430868574,309542.3989086166,116463.64557425451,105983.01906342417,186719.17426760224,276547.6815188925,118077.73646184,127308.97974000184,478224.3155927555,262500.83269011066,196829.13080793037,89882.40439005592,256328.31819263712,347122.2544822137,181956.3523496277,247596.95056096543,99076.69933526336,242493.75798641387,243642.045916923,289248.1590161394,232315.16693852338,245699.39633343127,268455.00593894505,246636.7764075491,407598.1908000722,117030.38683774647,260223.22455412272,248509.53726375249,120348.82163010597,236246.86516737833,118119.42477486035,534987.0538323377,184453.21437001156,255493.47593878806,174664.9648723157,176442.53887692635,213587.38706424503,201491.3343986607,286106.25716370734,255280.1801341613,343863.90213959524,344316.54896683403,201777.76212231402,295797.74068456946,141707.52797479858,174244.405649462,103115.26813022049,217011.4736181093,175733.54753494862,367368.44479209214,310844.2071667542,117314.462052838,118116.73218230534,30339.014868075872,218500.59039691853,223657.3036332903,222312.90923159238,203137.34003966508,110700.39764485671,292286.39587871294,163143.26037136346,129513.30226065425,168923.25700107045,197860.65556175422,96100.52489824087,102271.28384511438,114241.99715611016,382165.94583577465,84377.33303638728,104126.16608591427,201735.22974032385,168670.13381611538,104905.00802982665,361103.64436995646,190020.2616908407,153007.76009859078,81260.31241879104,213767.4468007667,122276.70726701478,163859.916804283,158011.1989107543,92879.98413286035,158742.99824975157,343845.24221793143,140969.92738210724,339395.08069072093,112783.49302363215,139459.75098926201,287538.6389763881,148231.57327809389,636227.0728730587,331624.7273721328,176960.46053500497,168277.10517051822,140516.39358258527,82710.65678637083,302638.7544802913,142601.09357655913,211955.56910378722,248380.85851625813,106376.0193794735,151743.930798461,113990.01358713911,244768.73058662046,313153.17490461015,194045.00348552756,265321.8999618301,252520.88859795794,247120.82310352582,195888.2444705888,90704.62041964747,125824.64761413852,298691.94513269456,84587.1968255749,163543.61677313334,61372.77217788572,124129.15235836463,303142.4022033479,92292.85580129334,184110.2043117152,98832.39071059253,334348.12957433495,356570.5502177948,278297.6785744751,263068.38191600126,236426.2960483282,279349.845432862,228826.41749301486,122017.00472150407,127976.94244856169,207248.35489487892,98472.03329437028,127626.25752191557,40328.36040238352,242244.7935970613,207137.69914853317,217747.6438544696,221772.8682424731,323796.96047866344,369715.89814206655,148536.39416753856,236760.54940716602,118220.47834807572,180560.0747708313,180465.89457987022,282732.8992330779,220148.151125931,79312.6827348718,265695.15169280366,141094.75265128922,131456.01413159783,178413.17732121368,94522.54010551452,147869.76174029123,104598.05745491506,273975.84820759937,118537.28392748881,82028.62255536483,109872.36808658784,147385.76339947182,468055.2218393614,161149.64636389917,227787.57719575125,109937.83549563443,94757.89354284326,167191.60185435042,156932.8925057316,241999.43981697885,139310.1891607076,465054.523541645,224745.08151679585,200634.17541056842,68560.3622157172,154389.33388275202,84589.72088257966,105849.97243675365,250423.18703923275,214108.6530351341,204389.33166219597,56444.879766242695,44535.01454747177,55111.26608908601,270060.58550861385,340219.72180879733,162294.37039291352,139108.65121535296,88801.1795872112,208248.60308482248,148259.87155140383,284602.2138139626,96203.79183628298,153963.61593179434,233803.29248421206,166372.08104165626,324919.79865200294,303835.5538046397,211240.04412397346,156001.92175883127,117491.33208954582,245071.47446727604,302709.7205774514,212895.5037623117,128897.7688782587,135531.7139861385,294245.6218237006,99664.52196439562,137358.93236941667,228578.6842962805,203085.14287476314,393580.2754567759,157158.3445578572,230361.09328157286,80431.53442611905,56744.109232156916,453808.69522989774,205345.63036417868,373859.33935890347,248294.50581681097,279956.0024460601,410832.574311001,244650.01121745666,125731.81747769713,101937.14591990838,198184.8324532382,332381.54013717256,222403.50439179782,84147.57388555739,399628.4219193631,181408.75768183696,269437.4573747531,266087.5130952719,159652.59971519612,340540.0341639345,244298.99222394545,198892.95646544814,228186.40323344234,106917.38077389105,259164.31140974187,155823.92122340764,279678.15394467994,553785.4087292128,123684.97010700393,80511.35869291057,125132.71925151811,118579.48527754277,87518.13821140016,187596.5782461234,205113.93890391,160042.96200690142,321276.9925633541,40868.647769335716,286001.2534383412,176515.7651032673,520669.98472942493,279359.2248290028,145632.75447017734,96451.6998555907,118446.51417613786,487862.15948756406,156944.68602163676,345650.02819629764,225197.63956761,283501.5137867527,243410.3480832934,248767.82973130004,271078.52871165285,312088.30499709485,117462.45113748955,250798.24375512497,275378.7909086936,237959.79857875346,165415.3692619279,77170.11400077479,208198.1565938186,273374.65069489385,98611.26303363676,180173.11797647664,198695.7420785086,224697.0445893068,236089.64338978348,203666.71917834308,160996.7148490908,208628.72691489896,104222.34931523,229775.1878725364,120089.531250814,318914.56305624405,214495.08867534672,417202.37982817105,246217.5647285797,94651.21684781075,114225.17686548836,257115.80784411053,243033.65137125243,233644.78727584466,197774.61535128002,360950.365076699,165688.2259548165,239969.730801615,227953.62297407712,203134.16749049257,361944.62143984914,260500.08093506665,319265.45713176153,62951.572923486354,91227.31769543362,79267.84020990154,84297.31102188348,243115.8030165658,245902.35112585567,261659.5762263877,207541.84835250513,172676.57761305146,331579.44928950665,124835.10224414973,65183.54026728519,93918.66622812975,257956.10230204067,168699.2947825519,280211.0087665877,307595.88270805497,256644.34037804953,313188.09532773204,180051.6427708327,66879.9339208022,356833.0982275683,210811.93976386485,307988.7311696545,210797.85802235614,45967.2539672906,225419.43301021546,312487.0299442662,99470.16076248382,297499.1868717213,79628.55848155438,254209.23228617074,73371.6775375843,342239.29002839467,349133.48514272115,262492.04294461675,102332.36135787987,194239.3745657781,273596.1645786441,141426.99179620005,192058.90541057353,424291.46737753367,304950.8389167734,100959.1104356118,267245.1345727517,382126.15877422877,161318.53053673124,200081.6902238444,214236.4785737502,67568.19570774122,212370.04425691668,160230.16537022646,126619.09290660112,195549.82944953546,269321.55650284956,105773.38023579234,161123.05232208932,188463.70102811552,206515.65205950127,320074.7906101056,237337.2619729405,392474.9109740132,92231.31900293849,120558.59156117841,164884.47866882113,233415.5944761309,234139.96504354326,101952.99370695095,277748.5767518626,165023.03062686938,245159.05401055966,318121.06482219964,79259.28173477591,221463.07173045125,88714.53902082573,68439.05980145148,318751.1561318843,385396.60722791904,239929.15730088484,122589.95527163605,221319.02116652607,193148.85268102124,252770.72828225975,240641.43130562227,33711.51810579878,84902.93962587474,60365.741153778974,141477.204676929,413075.8573971439,247889.74535001512,108007.94122081541,117156.1072529529,129052.20794673919,267527.03956857906,202700.01659948574,307204.87071369385,522775.1380588167,147645.3094730854,261882.59914213215,274563.6135507965,149561.83525263084,311365.33529583755,183995.42346585265,234954.93311699186,51820.545048682165,211515.87454905716,117588.34422792858,223848.6340413357,72647.45485500371,59205.51274589865,398394.7657998322,152382.3315052167,264721.63720599597,168232.18821230181,365597.5381834137,260805.47072386486,101298.4423627644,219450.9027201045,167403.2230366885,73582.48813578661,177788.38002130087,84223.69560466651,296104.0295431049,105826.00541677384,351456.85895698913,255398.73353120105,167393.28930708137,187964.81460829813,132910.92670766692,264749.3398801073,209552.8555603475,251926.83544498618,117545.60491666767,75554.32013288076,88777.16501004984,250086.0518851886,112950.0743643186,230420.18302889878,256769.24005926933,215592.39676683044,364102.6884460746,154655.15761972748,78512.02786670944,175947.96934946344,57783.95478960191,64001.15001654535,144059.77863772708,298100.29063651024,322398.16358238296,201704.36591811856,268315.92503223644,220957.32587437186,142868.01146585605,72381.15493857462,262334.57013302494,284208.53989923804,119505.58526207077,96004.38783872273,342016.84818069986,107626.47880952369,227919.82227516218,306854.9832026794,123270.50536446553,55548.033419412735,176495.4395092738,54744.059767359926,165750.23722875322,309538.5137092908,282217.3279718082,126725.86724943137,54473.542430027126,101645.58950852099,210241.99238841352,244563.6718689252,195515.09877624607,236092.34958324922,201771.1653254739,289201.9331642793,121105.89688970607,313464.8886743365,271937.4008790775,119683.61685973397,269713.5756626296,216214.837975271,187950.3243255235,162299.9866967609,114158.50337844648,240630.4453086247,151707.5734319471,203162.8868142895,411019.93661096465,102766.10768122361,296558.61117736995,259059.71889398753,91293.91834594563,235780.06616750662,113296.10040730225,175347.45388507258,168975.38919823966,29878.941763767012,308053.9282705432,233276.82311299402,32254.76692369778,88876.47177032856,224876.86714614934,137754.0154428572,187753.13767378152,77106.50487960907,274265.7066226802,211593.7771963128,224782.7170893963,197150.48269815452,179286.26577503356,132836.98678974263,249975.96889715118,151465.34447560814,229393.06417850172,194750.02779376047,237751.2169691917,241543.2129335177,103478.28433914654,284905.53221738915,236149.15057553805,127766.58394062855,231616.5862747606,128988.03146404223,123819.82242688411,292806.9091256209,269020.6424828997,36884.253263805644,76878.33882376298,114196.1022924619,241451.86977459257,120644.19327669413,143069.13767916893,47611.75180948165,309057.67206724145,168969.32840374782,104787.09515263443,74492.05082494876,287479.3040121533,265255.57806512224,92869.44663562,97399.2924968466,132963.7074470247,46882.726027454046,185163.7879414763,217937.87938833534,94559.87212042601,70025.07557099732,144778.10891360574,98476.30591115459,164686.6128782845,177584.29861292068,189087.62716703996,205568.30960034928,168450.827701614,194442.6395921447,295804.08019898075,210116.79887141834,259531.96988100896,235036.35315111707,151456.97764620927,76678.59846307954,199418.80079751668,250598.82411390595,282475.7098958021,126745.51868516492,199006.85655515705,254452.97785467375,239115.64449905412,160682.08445315523,270031.0188688273,139990.3018835518,149414.13431624376,217260.2002702962,238490.02978826017,264956.89417803474,31887.560143858835,150466.6646490541,125313.90239908273,315658.0801154099,160822.7108863268,185323.23517692724,369642.1999271971,281206.9805739103,160895.97075709258,50354.93736930544,185502.99518670753,275964.3310426482,235397.15640016226,139164.15021688072,77220.60987280836,76433.75266378804,65423.292200681666,286806.2181025903,261667.61346097192,145677.32452773483,320078.3154365085,279703.03755373356,497940.0922454255,163081.33304641,93671.98606163813,135693.5964948486,146995.82826458395,39506.557869221666,314077.2744647012,127705.44931905539,256522.8389144881,184975.94458878142,144525.26041948586,223711.01559030515,65206.47890892648,259194.53417360043,303429.3680385324,121345.45240237162,296338.6602318792,135485.69059264666,230031.8976160201,190058.09935965366,89812.21257823409,182531.53849722512,132005.98652719794,135936.93739709575,168218.21536703932,263893.4837386272,128096.8604418113,89646.26713762915,179889.8911239997,270826.6996042989,54071.37823504416,239986.24970906903,237858.93532748614,255692.1445808911,170839.82408480663,186514.93882631493,227833.49735429318,211234.35199094334,174500.52585081797,90598.70792457342,94794.47756187506,196775.30884298432,102078.46486399072,97910.70123016852,247081.2544148389,71850.29398243048,207984.4898289357,174200.73680355705,201901.92831577983,155177.99881659023,264343.20310455444,70354.6506205438,228773.95961818803,397679.462714724,126655.83993853195,40574.61662430773,567407.6086976789,94619.30611544012,134503.80778242383,173690.06175641046,349593.54060260043,272231.50985938194,273920.2295813535,330866.8682616524,224357.42047180666,243173.08235850162,284936.73087206593,139349.839085114,256277.05644421233,124598.92987307912,390144.4571095656,192015.71560185502,287969.72643502255,317372.0026829619,168111.59689643406,290192.0726983657,234085.16459037445,306944.2166116867,249658.23626387923,104158.8442113786,149731.40038988087,171077.27676794858,191441.92518585,126670.28354911084,347525.95061525283,282111.0823042686,232771.0215961202,255716.2183261899,266147.6837179705,275030.2153795211,236955.9172158886,309392.2122440289,140402.59017024335,151909.3371647475,222423.2208570797,353792.8402826751,251212.25125602953,190732.18087862458,271430.9471973102,216902.79912774666,127555.61749089014,269557.8475824171,210796.61926006534,130089.87284738474,160965.79551528842,92225.25614849907,230201.9455800734,142771.38645945938,252657.97340953472,331571.5684630377,191680.29208285344,136885.77691089895,74024.59544597511,335886.6220155933,200277.2727641824,263405.31787320325,101747.1403181254,350950.6327440098,269280.8501978297,194195.51451321004,189029.05162447752,222580.03613940658,173318.30464514464,173118.0565839566,205654.20669431804,265931.52911104134,134201.23237839836,108485.12393756176,287778.58238971455,252687.24928381536,184385.54472369357,110659.88515523837,206170.15075846185,98835.5300491945,159813.22743249362,75947.94761992313,244877.44126890652,193160.0491730321,141397.80901716166,139452.50241136382,145238.0082762563,107257.73298211966,287117.91483986273,233511.09717473265,317237.4321388781,75114.5167341822,79978.37854401338,70685.07568267576,197168.93906423854,379529.32984446513,182618.2149803307,135817.8224406161,523932.0181045171,134589.74328083242,275119.43688897823,191264.3196320641,311162.1315739722,155139.56823031357,331166.9819916183,285842.4548301323,285297.00595698133,259145.38298198715,329058.34756938973,166279.6348633839,243735.51400895306,39978.901923334925,215430.5265301096,205827.05086154313,249077.02523485114,279274.43774755154,163447.8834997809,277674.0433385064,122650.0571033583,139230.95177312716,304499.0784683615,215294.80029489298,214518.387239182,159079.51510241904,157609.65059689953,225708.55593646338,75552.19330814664,270366.4896277146,294755.77706736856,203479.62825638277,271047.68060830986,213744.4081233199,431718.6077830191,214153.12966479285,268251.9239885724,424132.82532132714,207154.7597717449,271457.0282585091,473687.2357988264,214293.53683677642,182876.1069248596,148877.58641930454,95581.4160148681,118476.55925940334,73526.00696835842,56915.09801743046,123258.22288886149,189610.71607283695,172275.87265706185,58177.04299978097,254497.7472255815,137293.04518588827,260654.08502979894,118312.77927212157,253627.88437515116,470622.88419637945,146530.66345737386,118767.29737485708,271977.8171769624,229830.41982161513,113340.15240771248,241309.35872668822,305067.8287694076,189922.0261661015,98243.18750900091,308400.55834093946,103875.9369421272,251249.4111872969,126280.00350462683,140689.98232027274,274698.18976152374,190422.93127732514,147035.42615056437,241312.60117353383,270540.2408184759,257701.9277442725,67753.26897888334,94132.4053866911,251186.96824070596,71930.78013737424,265607.13626368745,246359.24800360878,139605.8391938494,223451.22438805926,254664.92324205712,179267.24386380066,106750.05044869398,330836.7009553961,217168.06090300274,222998.42971854543,242279.47923335354,382647.75284872786,179395.06060354668,123092.96345101668,344452.5195942982,93970.17934798819,339142.89795185707,67244.49270788307,264073.13231162645,202401.54368581285,328466.1562051594,60204.617152161314,216195.03579533673,283561.04783026036,257118.31729214118,181738.45299540716,114357.89618378342,158609.8305645259,157237.6174542801,277976.477305073,695936.9992632882,370586.44040360453,275858.4616072472,152542.6150256376,285336.83693124726,311464.38714870415,264281.9635019101,80355.10719618812,282704.544598118,258228.20012335252,274153.3803798438,255222.65671897403,265410.1043701754,214904.44313374406,538544.0254444187,249976.61957770825,197717.7669543075,129461.2361175453,155872.97957880874,239881.16394230444,174660.23655124422,110471.78081700171,271075.1755317275,147547.25978915082,200931.8066606719,182269.44415611276,131443.48118849954,99514.26851980158,199162.36157460767,127480.27612206919,95891.71877591166,140011.97037903924,300988.1072456279,311209.0773439595,266594.91842727415,161647.6740354346,198860.32351014635,189249.7435888973,80990.80311496396,137021.29133270663,162832.8803346355,176327.77802322956,241509.17661903636,142866.6474194165,38051.60801729027,59225.57571770885,253233.60477329756,92979.09136434284,242339.2742002978,181856.1850119868,216152.01474622253,129050.65901122271,188220.15068267396,303598.97043869045,180912.5542686999,192651.07169559185,175542.02428094222,134478.58637530287,149445.1782094282,61388.3550002476,266137.0167256238,141697.8010406321,169114.7532618306,134440.68021513932,198665.88042353466,162261.6142758854,201186.73917658263,258296.552130756,339686.0716162955,424142.76052537165,182338.39777169516,172274.38590912288,250031.2355593434,268399.283862464,74014.3737312846,114855.24334839595,239178.56861257588,63035.69446725346,114435.22709855727,227207.70748481987,96425.19742467458,207078.1245621905,133867.65104248014,141720.72302926134,206489.96646359807,208336.80119589285,142028.015687434,171179.20289818573,387888.8000518633,121504.2189509505,224046.92052663298,251269.53365071176,274197.5251317819,116644.58476578291,128002.68052028438,239365.99837514234,252973.87269331305,183984.25979495212,205426.72480010235,146579.35525879965,191869.65684770315,413418.3455445251,288672.55509255716,58970.165638190665,265190.432820537,46336.1813696468,131881.67393614177,103655.75423012185,286492.71120654047,192009.21284716896,350119.60630780645,69749.03220286503,195254.13815155148,375277.1024588493,119300.91013661554,276177.61932969396,227338.98002982364,230729.60123184172,307256.81999788235,248111.39420243888,226041.00520912893,216647.98178741414,621151.2565701972,167457.75118193545,232307.3587546069,97015.95399014211,225109.81562899525,141899.63675028595,239330.98937125044,473621.50042312074,176000.14725344095,112679.50946088825,211709.12578178308,168769.56304800836,74542.62377717922,147336.0979860377,131267.6662519236,133529.12661491323,351546.8386224024,330852.14121065894,259153.17743374078,141026.782908089,215869.53640977657,148308.7086037869,208298.1434539708,226226.84447528006,160436.7694365093,626361.7675112196,163411.1230947313,153863.18493610556,223143.6099346389,240367.1732884937,328643.5398182197,153696.5652183677,450807.5996420615,413206.1308066326,226054.03673286282,239944.50708954566,196427.20179596613,299401.9960765894,117305.90759920998,142944.4818325314,182868.49270185217,155260.65252389022,251946.73631113424,159852.75440819646,61796.10653135629,251745.5151343082,258968.85747429202,110080.56536814665,186383.94044445013,137404.90223635943,125029.57247880822,127257.26066277613,234394.93717944837,211424.00475772974,213823.58601753716,140482.51552189118,257438.06390555445,259654.30429075722,50664.332286959834,217501.40321216264,248673.85648290787,188941.72319108047,98810.28507337795,249919.70488230488,283960.45153804193,185377.17279771314,270201.87749144924,169262.87913626223,309831.2417135731,231065.2912031419,341927.60761231877,659314.0133686826,260243.4028087362,413975.50703241886,109529.3536343921,118666.8471807856,232760.46623991232,103019.29740621045,27930.506049644115,212314.9856236767,195573.5330557018,276749.19191308494,154037.0485695754,141186.0647899055,248135.4851761309,452534.35270736413,286965.25114072266,111166.13226339652,172227.2437165203,51634.30224981648,327921.461673805,325817.14334545546,293783.67403625214,497386.6041793593,361889.5451818063,207989.14586391312,254205.445845114,260189.5810745342,259245.8959508698,371236.0471976239,181979.99141923283,183311.00312923337,225456.56543034082,150227.78536899402,67857.88932974116,214746.72588909118,296954.04633380525,158881.95659078832,74224.98266313312,218748.2027243375,34881.27373917686,91137.35230758312,200026.49612907929,206921.04411321727,175710.70915060825,173480.15207964956,252906.43882858398,314947.35618254985,281489.8338248506,404304.1792120512,107354.56851173795,250514.02567155415,153261.7582796528,234864.65612038906,525817.1670448291,166359.472587,274415.66518380493,204532.19425116543,117084.94866598785,186986.87409724953,261436.18005490233,343952.28103806585,203509.90510432253,-68418.2112782459,227269.57479805732,218599.52056765422,204051.91630145567,166851.35112550977,243006.88497829848,243239.91009555158,181742.91305898823,252930.11129185202,192472.65899087937,216218.08825720448,197191.22791158658,274813.7286342444,304295.4909558327,215208.2127112318,266838.79703083617,76127.69867934356,121631.78242525298,235965.26915812772,230030.2857506144,147573.71050650196,234681.6762891382,166660.7749948166,195711.11903982522,73466.270602228,113170.24053153291,177917.1151951966,151701.94568477984,75049.71826790576,262619.4260310503,251630.18591762285,211958.28680335742,143332.99884157258,163421.2937248067,197509.78379524997,183660.4058208009,224332.56569548848,89494.2233953982,238155.01023643464,261937.0110796011,226969.17144019267,126300.26609101259,204121.36672822296,191839.65823319004,299120.5311452706,184391.2172060768,206188.77954982294,115882.73208860564,115424.62952364059,227277.35352772393,232904.66160034045,70352.68502597418,213551.62430266276,199597.71422604896,174859.37460877857,344214.59849315835,121345.60475060782,165701.3068437621,284398.30913750466,135731.70120574418,212489.814569012,316465.116832852,109751.7813069982,127059.81520593714,199123.22663379787,125381.73102522123,488301.6942812867,319434.8165577875,91843.98929644475,153839.2547568743,75302.72004338948,10572.465883088356,140688.049431651,301923.20233472786,434578.7817188429,157099.72762338095,153257.09164438478,275922.94442916574,97797.93462616683,266002.69949846645,151463.4480303403,213382.57134667446,272149.2154956333,226925.3049975326,232876.1075679888,217888.32617586743,58124.655227121984,156059.59702627844,285555.14736281027,204801.39223654108,64872.92364085186,149508.97478659183,138253.58608617072,149069.66368740573,106179.09948692695,235950.42749505836,275314.5655060809,105234.6567848065,392317.46590858256,169481.01839866856,76647.018810593,210505.14441236167,276535.450905774,130243.12596597154,372714.65985430795,334824.61526605394,525544.8149852569,180943.68522905937,259189.4813799515,317524.45737510396,119046.67239940312,169240.07594957494,330242.3184806503,110970.33426275011,145336.83505826612,241064.09523619973,299978.4819910561,156088.3545341876,239198.80714453995,315517.107049912,196356.21301793604,313382.2475973701,167753.01933001445,302206.56624646886,156862.8521154176,51039.67530473342,37503.11381809774,251739.29337700928,270685.3253446674,161789.44488111662,236396.61220165848,204899.66386895732,189339.05225304145,318479.40342731064,131096.46620539,116747.29292668129,122345.9205538626,240020.5827313079,243308.0325401142,228200.02803794478,187111.03896589743,272342.5684676748,234621.76339427588,80289.13003681245,195579.15058050648,260006.10199750628,227339.76863507624,307342.434578461,233359.66294503902,118877.47872839824,145822.3057942315,159038.39620380328,279952.2818201655,183524.1114244337,228452.27972138213,286067.94538042886,120070.612806768,227861.40428799723,268606.74695417983,238116.41495534818,73588.45703238319,266155.9472436738,242058.7511044516,349128.3205620259,95916.34827755965,383494.2857831106,53156.13268677614,107020.63810586747,228455.77935113508,372144.9504209275,130381.68558621901,166653.87588358813,272946.8366645436,473072.31954731786,125980.67945794693,268391.0007140181,163914.0985003517,273629.1205283297,218443.9521205441,64855.0553872429,102562.61148001246,141639.29040872917,329246.3446770408,160215.68929602543,209694.5927337209,186284.33992109232,231706.6311889714,114361.98335878257,230102.1392887662,176660.03876674164,189950.51413354266,140040.0770889247,92836.49076962442,295206.6244164915,278066.07535658404,149271.485563993,183308.11146240952,199314.84975362953,150334.09335062694,172127.23324217918,155711.11707396826,251446.1000766172,177203.98188083997,148703.1101057052,308055.0276936755,125482.60107553605,298212.520369826,256722.487756822,143793.45492265106,199410.1123896221,212324.14533921477,217828.00143440437,251732.26630895445,107604.2029303831,305646.07072975655,213912.04559263051,192431.63562755726,276559.70378798415,231928.4110575625,139461.7040306759,246258.01736359726,214159.77104197472,165637.8027372468,163442.1217635504,41560.931075178174,289695.01593544165,335902.70167347137,140613.6282166087,142107.88849810837,173621.1551723407,220763.19612802053,107700.0729917917,109132.92864315091,139197.20449946873,237267.26451337786,330863.6835099446,191433.50624854342,293957.290040399,186228.41175124815,183200.23179564837,171221.1730363008,213035.9295639788,43766.31494039702,200737.28911548614,54330.011829664436,230872.2214950156,71055.18710800487,46259.84972417951,261813.83435713433,246722.08678651176,50014.644237805216,265817.36736272136,166739.01614021964,259294.09968485174,398933.68063972436,63584.89453365156,184404.4242987815,350486.8997095876,285431.6801732686,115683.46556793802,141455.3597486855,81091.3771765276,190520.04735569283,132771.93512656394,195081.97584795946,126910.85798785943,118485.08963408336,250577.7193039017,71329.19213192372,122037.25940555101,175660.49162564482,363298.6972701851,187424.98549535466,263407.80910550104,230446.29285125132,239006.5380161803,224629.4669382454,288535.3052337438,70732.75336759613,222870.52546283588,106895.36459110447,109572.58753477785,103881.44514932213,83118.71332361449,228223.89068122886,101065.91433473371,233698.6578511531,135415.94030276177,315368.9520436505,294990.3618757913,250097.2393587911,267084.9225394907,435971.24647332204,198723.7551925698,384263.4311538789,217941.13839192723,198068.43407981205,201386.6143752202,197027.12434842542,203273.5971164911,263294.3010539812,40213.73105965328,215736.08639549586,292614.3913816798,202996.5207244881,202291.57424124732,71704.48021771447,99943.3125174355,264549.5390896753,293482.6847231696,266018.00457667164,116106.3546467255,425856.90059219435,181883.78286056922,99859.77383253415,137402.11874360533,78935.7607812676,220971.39214916943,298406.49364036275,195441.8370723462,270057.2873148533,120821.25164870753,171331.35877262446,195966.5692370195,180284.84435513307,130709.88762611157,92651.95122690772,336764.88925279723,293316.23021733225,278271.5326932246,298077.74968742614,256557.0151880268,152708.93173847967,140625.93526226238,82743.23698970658,228260.5739379801,96994.923420657,242056.00128996038,215472.29882043428,116869.38303027922,201791.58218137713,300748.0352415283,390942.35716852697,117146.20813522438,160027.46038717133,109993.69409586053,96295.44394662813,144308.11988776855,148100.6225457231,104017.8746901974,131925.6674465349,90497.52486034874,132208.12388541712,140220.46300161368,251248.36385511784,101629.1144330248,136111.8474284584,324261.5168751824,173375.76220103618,134473.24883539169,107233.98787787245,185431.05066714998,389982.6400012565,196045.04247290286,108775.28718056492,209355.5127454056,195720.10451620835,222139.7004513064,312000.7803342957,219649.68559330588,61531.45180647925,433913.4154525129,258896.9732104973,207183.61316463287,247887.28130630482,297089.4774115096,223043.2931372436,86832.49554665937,198311.39928385592,204795.8226168084,246090.38364774833,134302.4108144494,264383.1897515574,329556.409290655,301995.84814972134,91175.18266480188,276393.6555562827,96747.26543593255,151338.6547738254,102199.61080595622,220928.34056110808,297083.2152079204,185936.38727486384,164770.04748070554,162306.72773485916,227962.37214154997,134484.64899085037,493713.0841934359,390520.54110021587,71675.55170296266,284311.5655723575,187748.1228691521,230531.7952228887,164070.66181304713,301695.7159495937,348735.6368270658,246908.71549692214,136011.1922662194,188736.7084741775,248197.68549141125,177924.5231664551,182559.0132645513,133513.76911933758,214027.95751126055,254983.86928912767,173455.88735071121,266464.5282487648,205633.98359754577,243609.55975220734,215557.1377143192,178918.555252043,279935.5803266558,145502.44030893233,445694.76503059437,191949.24396060748,277155.106192073,222621.54981836773,254152.76882226663,124585.21744894111,498469.2237049838,221592.01177229054,211390.55375854636,331290.23883341794,317525.77413964935,63762.84870959367,357011.6800585486,234922.50380370178,235130.72297965075,204659.32854020182,184038.49094965632,52182.234368403355,101357.84096863374,282775.3548057051,83211.30251511087,358774.1853994648,500521.8804667014,246905.03627818194,238899.52712506743,265189.2864482234,97581.00493139253,218672.76867814278,192585.45657783886,111162.66923877614,344460.00920784945,149019.63657357747,165463.61253363278,181351.69887252114,147052.71052958944,168746.49987368207,160029.5405024965,81208.81113937548,421439.7787549596,177931.7321719025,320910.28967061325,185481.3649318399,292908.8688556021,154140.44538925943,267712.7732610805,246988.90949454502,265140.2129070419,207759.12866929616,162053.11506638653,216327.97748705663,148870.43608572707,169233.0947074342,280598.0961331562,168590.2419887845,224484.8786176302,49170.263578085316,123810.41449251998,116827.4463745249,190977.68028997953,119312.21968132912,130155.09145729456,236564.41420609085,307662.484561816,68653.20704947517,258580.06702292192,214246.2960884134,316397.74782694306,178797.30261650527,126053.34666734138,141806.75845037278,266406.4880412742,15857.270142819965,264873.2382196513,257243.31002535304,313771.255025326,181978.34600317176,210432.84676906586,130818.4736048592,234108.00578733702,265500.2685135148,147721.1505862411,81140.90406094215,203000.4696697478,117227.16702423137,112003.39830289394,175987.76673554498,143956.88055698722,118384.88952463528,271718.8322892704,65313.78867886029,258518.1962038789,346461.20923142374,134960.76605927417,200067.18890869222,269205.48320269684,140047.46648721717,61979.000752076856,462462.7512290736,180650.78873043493,122485.97201471364,280891.28820138634,277342.7456409704,226467.1523071557,234682.66299495098,520033.88367407356,170141.06970109727,150620.43254527706,242647.72207676366,102802.01490254789,168480.98782076343,97276.5569729655,229715.9381806025,170455.74075040838,133955.24580941495,185485.7916797366,206368.64360961973,156296.56300126767,266186.0412208352,306571.6153795407,243875.76050074486,220524.07233035736,317937.76183995145,130640.76211592363,126908.03597615928,337174.3446807804,190022.82427625975,407273.8149770715,455669.02358626365,140299.55279303092,381735.9705356619,54704.77538415807,75654.20825047093,398174.63190501113,241049.85288168606,159453.5780415583,353627.73892313644,218784.56251302158,362297.0759869404,304800.86202046,139361.60751289566,258543.764990087,120441.97985108194,225713.10571544705,107047.29760823135,150302.02769194316,237931.11877749488,156213.30168108176,223479.257560182,127022.65366801301,369211.8445616984,254499.2798907468,80533.92803788737,114366.04132988851,147441.52728342512,260017.09010467387,136665.1293318927,307829.17192757735,163093.10084409252,232541.0929399945,71946.71070713137,334300.56095954095,194420.04123348626,69975.23366327284,160997.69548681632,380850.91108291625,50811.91493919713,352149.7957032255,266530.5563019979,171421.9405605301,384661.04962919635,98018.20135739699,228784.31315304784,146388.00118005986,257583.1350470498,245062.97521387367,253087.3756519992,125688.15257830308,106052.81108099973,396423.1938210053,267173.72130258835,136977.00766860382,214544.70803977764,224902.78228158504,185972.38314911374,120564.84607540915,121559.85067622476,97718.35067881519,210096.3887328601,98349.59922483246,114602.14763541792,260510.7444131325,109594.18778680314,310259.3342319686,121892.35235917114,159706.9325853841,138379.60415748807,50892.14113529032,345766.76490696555,114646.36566868136,232365.1188062642,410890.7601434568,243073.0521096018,67735.367564977,332889.3854884828,268240.36832199694,169153.13974624622,218600.35608602548,206501.0789083758,285730.3643883015,265229.6195351785,212963.05794185132,272017.5647937144,127510.73902122918,202974.66628913523,181956.47702928723,267092.7798415674,223665.31900808046,207163.08947685803,294184.23245576484,135717.86930391734,101795.77994831523,305565.90972834453,136395.79304199092,198466.47417642167,523296.2491367906,324629.0329375117,77620.76607935029,93379.57440098081,162029.65590118122,160992.93786103232,228438.25346027513,223134.02846118997,66044.58058103907,213304.27113348717,131044.29313525913,291261.5109691541,168810.2412880496,247821.52265107713,51650.472121659695,263435.3650699627,173193.28014335694,141071.3071019231,297240.55589889496,149654.58796084975,249968.79803172877,86034.5954343452,214921.7255204697,99389.9682090329,135279.6870295287,216804.9387229697,159669.54825014962,291525.6316735017,135471.65680757022,254390.72696875082,357259.2461709152,273603.5670636896,58142.63594293734,337887.8670217798,293011.291058617,339201.75634791586,169501.86359018716,227122.79021997785,245797.99779858883,157676.00827440992,236784.11881248082,225922.27524885826,269410.187134729,46576.480049050995,59498.615936095826,103981.17899694748,210954.3224407204,37277.38282222382,286989.0677921837,235391.10549299244,277647.91858550103,289080.38216635,356961.1998457126,145668.51928284043,124077.85260202162,320417.16006666323,138368.26989944698,111965.3573778912,70113.68122976064,156257.7515415477,151898.18575537115,309883.6121374067,99491.08865579154,113908.59066221683,271342.3729633582,254294.74878300686,103865.98182549729,280370.3123528835,210356.8286131036,285848.6169594794,390911.23247448896,226628.13783968874,256726.00848483667,203711.49114394005,272941.544151252,128400.22338805147,259066.0399127726,282167.9011912976,171339.91622629872,211774.88405710825,159303.03262395685,282328.65279358823,166347.06696482952,96468.28270213283,38924.844931787695,50068.40007547196,61185.001331630396,126084.39222033626,228780.17567113132,147725.65125679903,133654.5788806827,261390.7196824231,375083.05220400426,161387.30696704774,112927.43597051819,313937.7231432908,62861.05687061889,99700.62944451877,252731.90237901954,311199.59110851237,301817.3505433259,188890.34397070247,37364.12843994805,213180.18401385297,212329.8369988819,168782.63759601838,265781.08270245936,148309.31347214844,302494.3427792281,325313.0498430191,153014.94318539486,270551.3519706207,172554.50968404248,295058.3225616402,321822.06025780994,96709.39858624304,289111.1726242198,76774.34184882898,210645.39121298224,140192.59811571482,323192.24727357476,162834.26039635486,158433.38810625245,321545.5529194715,296549.39350611094,215939.0317066097,94009.6504120592,433941.7126573621,77688.49668446458,136973.229799764,88183.35778137419,302577.58848094044,322236.93563323567,-36458.790857615764,138792.98246032672,276977.01958868915,193144.4229021659,181966.0238560291,120402.5547727898,285599.75151966757,230798.02831082564,100273.64552841077,180575.50660744315,286084.1870426433,663273.9162467932,76588.80390281891,196525.4426628552,526774.7458473833,252985.9360504256,313272.5190486938,232146.29767907568,110214.6432619101,151854.61211591036,295402.4675527688,229247.59576006388,47781.741734787356,121905.9677826979,283863.4934843333,206370.25511274004,234827.11332945386,81984.88593569785,253192.9906399204,261570.93609102126,111123.24854497386,230633.9924222794,167523.8880899696,259086.66877273296,191539.134524409,210277.5663307827,165166.78781522374,290649.62608800747,145084.69585380796,307345.19364777487,432670.7121698896,95520.30893625056,406367.3718728274,248663.1913723234,275534.80232127936,137078.93211679318,283131.1156154001,237171.74539221136,281481.09091004287,140107.02002703847,320530.77132379945,107546.20783951336,261405.3804706185,250398.54736270555,149380.86217911838,323758.96792252024,122197.9484878926,250908.42377151537,136702.41818003656,228368.6688182391,130381.32348784147,205172.71740516438,146134.0701228911,266124.9194058993,217825.70619271946,119179.86723589462,291836.91780652315,143466.29873441937,261945.5633308681,315934.39444221766,205823.6647383506,244618.18271789188,187415.89663478185,185679.752405532,208489.8119969856,253216.9236054169,236389.29406565847,141521.49526246928,222687.78186045808,97201.1783864703,162941.19065815583,206870.15547012218,153715.51900860385,362915.4398992278,81741.98040288151,300233.56540561805,151507.76032314048,157078.23294268543,144424.7072639293,173085.53238686576,149057.9846879594,249898.2279558765,243242.58969468484,85030.54628136198,430080.6423314006,226418.58896177655,122599.12265461663,70408.40301045816,268738.86500509805,281646.42644492944,81012.06356654402,247837.19259904078,272140.1299735709,168841.86438145256,122103.25593576576,295581.57624887733,298890.8019561772,212606.9778836336,328195.53057607234,188882.4055025761,165102.46038870257,104759.39747556597,265713.89674275246,127043.0708156714,157937.72447061125,206889.35382197463,208456.0067565212,48680.67268209733,70360.6356934293,196169.28485389426,77651.33935391919,57710.33227843279,167343.6382745378,128933.63102229766,146177.97670773746,57728.56012616225,39098.41957372945,124878.21818023187,127467.31792832415,14293.618944131536,288780.5649743905,246285.31597688323,114712.52710343606,171176.9591321795,187911.54334131122,182677.18597811554,197533.02165525669,107335.73387011708,218844.46141986773,141656.97832713093,218837.9690000411,244741.76781509942,242772.44209357043,233978.54933005763,200274.19111751637,161791.35870023095,141098.2492678184,152806.36520788528,118691.5853502116,55568.0460739659,294177.7734659397,379345.62122581917,154475.45998848687,124417.97404776582,133183.51575552725,218093.31104007232,286872.99435385823,152481.4695086793,602279.420370174,250048.91271384765,271315.24082137394,211271.75017321814,293090.0877865168,128500.85765198269,155292.46933803,119885.50273574636,276925.32568614616,159718.22530597355,206891.50596638466,174970.19311508,338482.6698580507,183110.92512845775,40699.16780339321,218183.04371797375,246317.8292876511,173382.5118983533,269967.99208602606,56172.97603460963,191490.8437568343,162609.2292480714,146674.3376721443,162662.8920123777,130771.88801966788,359011.52759737987,317098.8098794353,274095.948317642,335106.1141581473,466387.02387724834,391510.2524616559,173514.9328188307,53658.55811735586,122443.50031596847,304982.68436256354,177753.31059026485,293367.25085011614,128673.38069147433,244133.27494093706,233375.08784244818,149602.99333737086,96757.52147424038,225304.2129496157,211215.69722150906,172580.03242882766,107217.19229308944,247462.13026119123,129189.41550122992,151198.20619112434,135769.09158814783,335645.2251518549,173147.63474408974,279712.99594271445,199441.48504549585,222330.7287607852,237772.71970147098,124162.95331928981,290449.7676930268,52052.0924561407,204648.1135566666,101600.85105025399,72536.79007606351,81616.7145182173,309842.0227449145,150800.64608856835,86298.14957722134,224777.1724048354,176581.70239112098,213144.4513159959,132577.61653556357,253722.53821113182,246222.50630346948,181672.10061974992,274369.921874772,122726.52100600804,256917.85939743402,255844.19582576677,80913.91497475676,192771.75677351232,267533.1228399718,188210.68857013306,280873.89252861403,150545.6760938727,302390.76791087724,240830.62061923003,207456.51852493634,279108.8694484557,282428.94563333236,129203.05629690057,235703.9722714852,111370.94588559982,143062.6209743118,240797.59694775485,325847.4368637878,98375.82280096348,267050.8201504997,201601.08026418174,482317.5148222662,204228.16004607873,108450.57883601364,265646.27618445427,330112.3448468277,56505.19393902802,115353.39634271208,55746.94877713613,72756.5863941636,210658.49914324243,214171.4427509939,296838.4176358487,138145.80889425837,219374.8173194116,264397.5705166389,203198.92976330378,277470.1585275657,204378.4717785109,132935.8412989538,142291.96261704105,251324.63006636428,231116.5948350043,95688.0639412394,109734.7577095893,166605.3331045962,69093.68159358049,284049.67761002306,141556.53612164487,195818.15592325095,297080.16686708236,231190.6559872391,97588.46076459085,159059.8621406309,189880.71620020265,127988.75355177748,309654.1318724195,282538.482717879,186475.70211904834,87332.77391882328,249297.20062493003,104821.15144636169,85200.07977752654,233910.98585378914,211497.04821238585,96915.48857018998,128740.23842676275,136411.26372493067,221695.28537886636,284471.8734870465,115940.49696691516,116320.9371114051,189183.40757456276,245920.56655862095,128867.764787135,289006.8730007411,187977.30018294777,133534.20982161502,72038.31503633404,194531.4170619256,360822.61864645034,251433.6909721609,99973.0830342496,316311.2445188594,125285.44635628753,288990.3081398575,294651.9938666234,238546.77788152482,325015.9949392596,304346.07406328095,105523.71380424859,294302.9538117787,157452.1758882944,194131.18448402866,198069.04571742017,347957.6232541119,76975.57757052858,179572.4712797376,262729.8471910676,63669.66866083475,197114.9600234366,96158.60725290295,199818.37494002504,110527.45023590581,195459.19950398157,128647.83213490591,210407.0721794563,200732.43868370957,336261.8497372437,74944.57102764232,95928.3460697835,157794.04623175197,213969.12923348552,120327.42664860733,36831.69656549342,174643.1897351158,157060.49551591874,224364.07992221453,260501.89615959284,279873.9880606991,264433.91115248355,93015.2041607789,444893.70148424286,203798.20920639572,241652.9802607802,113298.82691025088,80675.95752443248,212400.03588234258,71702.93173151091,279302.46295249026,149399.49384194694,216942.93724341682,100791.09255022058,246249.3114565272,347036.98079345276,213509.91567834187,88102.48808374582,329035.8020699705,242834.43499037664,225873.96658987633,41806.54317746675,180131.19841743552,349945.6010037414,522096.05782991374,111549.32269742448,296867.7053220908,274517.53338867554,152281.8565682355,190695.64605169886,58201.045041133446,204431.4492666951,272705.61488630384,354771.8672245126,170094.70172964214,62964.82196849212,136569.2742639804,304943.81277550245,235080.99308438238,73692.96062852559,129502.47403710359,208152.09228157456,140867.14243692486,239989.09476394174,50833.360241539776,143596.2217987299,248702.28840848862,312487.7474493542,157288.74324540526,174155.84435509,79935.74862235288,273526.65631278395,234495.34608780924,90255.47024259063,275718.87338487094,273387.1696168628,170836.57302426026,271391.51302573667,154585.26290556806,216534.07920940296,206567.08917762752,180611.2558615952,160335.382159582,169481.56638359494,193269.02780071972,120150.95547308083,220042.6169732793,238731.2087838507,401398.2673946786,118287.01455797792,263017.2445816798,261250.38171885014,375825.4959720749,226631.20882498263,246481.93297136106,67408.44941158954,225739.26589002437,191329.62005482084,146247.3615885657,177638.4050918766,220489.42178599196,136782.13941926684,319404.9617596678,233504.9285694938,189213.30596826435,58852.58549047445,188584.43084963638,459567.5009024525,265285.6130391641,246310.93997179967,168627.8298873066,206157.06135662826,201617.1272629835,132744.71439665538,361776.14205147745,298960.8716205966,147508.74567523022,310819.3510128378,109683.40259057056,155417.55064171797,414284.10480147146,270393.4637370721,173043.48083583103,48370.235453582805,300917.98907293065,269465.01061140303,350564.0354556853,101940.7576894983,237596.00859518175,97195.86851552542,197947.97148809105,145482.78557577534,46383.97008191075,161683.5627483367,286634.63260269945,192398.78556020305,208164.54752571895,77794.8290646942,216372.46791787638,291625.10325982934,184255.03774799278,170838.4693470933,280094.8262973577,56616.340739026375,162853.53074568004,222728.2927033078,286314.4200048439,187919.05500076394,188092.92503229328,341108.8020500836,218345.99866339966,117450.93685957041,236558.40145223695,294735.7474993349,364253.40487738024,213042.51453714422,125024.27197508735,131876.43983504258,290283.62940740073,319727.0546966504,380226.85418862954,223288.11828989346,186569.58974207228,111875.71534845178,164682.7206113663,288025.60549918766,162606.3437995657,210397.68720501967,342231.39462383196,234748.29975505103,86419.50504631759,234196.13086481256,163956.1692145004,240217.09220532555,157614.37316071888,151858.76690957433,240399.37854782655,95023.88766384612,204736.76292529528,229773.123672054,302625.00929769804,377964.41570115753,203869.6862542409,106433.94015902573,314049.2982637395,111690.25225317388,251104.8287191459,111834.02905726647,148713.98300265108,147472.19451510103,322103.3097980408,89583.12903022696,151277.2328948366,246324.12484547973,278629.2131750842,239856.7575715485,157318.63881654508,282074.6406061609,203225.34348505398,76475.71623734097,235832.60352509998,117406.12826967599,60721.890454713925,237771.8078785073,46457.32938695763,309458.9455424614,220719.4792871956,232786.63279173055,207441.58487793445,20476.073120857385,134739.8370624372,155064.4332284873,164425.55675679445,179216.0984470132,185716.33677308922,100932.5829552108,182872.0133143702,63806.41007418989,211150.3769080022,209703.6560943955,178724.60387261052,88859.10907197034,199209.39918689633,153905.40414585848,176541.0510435198,105759.20095499259,188688.15184291755,226818.66599578812,278762.4323421968,262513.5174463234,161843.26496154792,229577.40801367274,284698.8068014543,77938.66066820073,127518.85700648856,157313.5845657509,293311.3646262997,202915.7767468533,125344.97599700367,126752.99536881193,143348.3537265524,270013.4263960234,54368.17347201219,96337.32452026365,286979.19814215327,196019.3204248382,185204.92605608632,172026.56109566207,243594.93426336691,189969.42171317065,266585.168921205,131525.8423889651,179162.4902523128,261997.6263566332,152453.30534474115,200513.42911534602,357068.29459349334,127742.43890480223,94793.62599098653,214853.76255560803,380962.70878397196,130036.51659712964,97273.7178891215,248352.3639120342,271070.1640073056,132140.81672187816,102333.48879366097,431588.5634688244,116112.770718594,285608.86935508635,136816.47951553226,150847.84945424262,158748.47416932537,385618.02085320244,435677.1521357202,298756.09446141653,159171.68896039913,233056.09198960653,151470.13616277958,220824.1770235073,240713.17858784506,143132.797699017,180526.97977742288,140871.4100716873,192001.83226255473,250073.80011565215,105436.08314689601,405346.3994528789,144485.25940871774,240048.9955738229,128656.38919882543,152226.07124599244,278470.49265563535,81022.81014980967,202678.38733149532,43304.92819452679,243057.73249206488,334604.4890902627,351297.8933106257,291322.4124843966,97319.3896828969,330560.1854986454,80787.92517160281,47147.71266226386,185273.79410042014,90338.00589983995,105956.05721824465,39230.83986922295,137881.54282319473,288909.55673998373,185658.53907020995,268758.8347166224,179736.7059859045,88646.4384003878,322791.7580442134,142726.63709249115,190191.92122656078,113893.37589377137,292259.80507476785,303389.2412466345,133594.09513436642,63031.154759914876,122025.85048352656,160210.0685883992,218621.93157797714,287559.2839448447,215388.683330625,142898.01993377873,150758.02795579325,72602.49895747827,235895.9331199703,132628.05969885137,390748.58192207967,448745.21687992394,132842.93973666843,106862.88269395789,302057.14230859256,237017.02250637178,275269.83975107444,175631.54182613187,187885.40001706305,90504.69165638703,374498.68371263694,58763.165309797274,239964.49815926392,75861.611142702,325173.4671907141,148635.7109625981,223268.76674295287,205560.82516251423,145863.2710725464,151658.00645678202,174282.48232363648,295425.73799107224,208024.9138246734,72950.90030244028,123053.6040124664,129919.59745439411,190863.6707465274,117341.60148502994,153799.38332965758,429971.067912381,160508.53291793974,151985.04167025373,70109.3697008416,225049.95786710066,200972.55004582604,132465.49911000946,80866.74646538374,100407.59071356563,143326.22322865028,284409.48733710987,283801.3382266927,273635.0587707135,148667.15118587454,291173.2597750913,109911.77877702138,139723.94692907762,284181.04628321365,332312.0397034838,265389.8822353985,242159.55681699986,353460.90109475725,253362.13656789408,302669.22471377056,166264.01853796223,271936.50002864614,168728.9614330572,131726.37221086086,215437.70038008015,269828.01670856983,269310.9387852789,293914.83459203166,180845.4115071174,139876.96374791153,255359.3991292242,391204.83633580955,247990.52806875232,47596.38324017299,68931.91615583157,181251.2916852429,91077.73316301248,222700.76969388922,141414.66883122877,108410.68054624026,265456.7905309798,290202.47543581144,159115.6965724,305972.43220912607,130903.05462127295,83227.89030542232,113636.76339523881,243560.82140830118,171401.30106725908,321064.0354700524,195908.65049743917,78979.11550995374,149119.27693936278,274656.0277525941,366720.96446832287,332515.98619370733,66905.00990728551,142520.40205507094,228521.42574125694,193204.5778282697,99737.28800707828,69825.37043333394,352225.29125438654,263277.20359713637,290270.4813707467,192851.3959216397,379155.26770625485,138982.08036151706,66572.74655471294,134665.90175571013,216848.45852518355,161424.56657493778,119910.32475863208,72253.13233184561,231664.20784055878,194060.73532086326,69274.72277738067,377129.53775057464,177827.00155359408,159007.74711964885,460507.6115729712,282882.6138997864,372796.4017505761,281425.86100166716,151871.48565393605,190059.33916444218,296531.91973999434,285338.9289881348,99849.23427733919,135227.7028865657,242806.19393177904,209191.0847913739,363283.22210361535,342855.8342448101,210786.65277302454,225084.17989945586,524674.8548895665,311875.1361582173,109823.8086463303,86016.66671199581,163728.9325670472,66277.61231374578,174297.4288694958,101599.72119381676,167561.8018335806,201779.25859242404,121468.41214417733,383643.1660645321,58849.953141798935,183490.23635738532,236774.12894333087,204666.5995268218,234138.92962877188,266272.1303621272,262902.69194167946,91847.12704612185,151413.85690268798,241829.60738278038,350199.71130472585,74186.61669775788,86777.97904162109,53097.63861109255,96018.5747740533,182056.43226663466,89479.11815931521,158412.99516625702,300575.5485573154,301984.9710794858,198309.48368525034,98441.39819488769,309495.855642613,642070.7127486453,113214.40466018784,122409.834134976,70527.79482039061,136064.82305172994,215650.21386670167,122616.21160506512,165588.50756858583,153814.72152062602,87917.59230777805,68535.58047981531,99613.0888951272,201025.5751140762,81471.34051157064,106654.88640646284,217085.068405788,122744.7751735449,147756.04068886576,148958.54314527824,110292.95070646143,63040.040298844106,145175.88730793886,123900.82976345741,67128.87702922357,106114.85220006263,205081.13275375342,282014.3500376922,374110.97027089656,136357.2505747582,106797.4143824376,115429.56511107244,111331.24845524706,225850.75626783192,260712.59787409214,227704.93856424405,303122.1291652626,151086.49982582463,193935.56236410185,197380.21642665163,200470.94809118958,72849.40256577186,215150.85804346064,78478.20318020972,75035.41311952175,132775.68623333526,235133.15549917283,311666.36119917035,321382.659569411,256736.01977482077,166131.78461922138,175664.6889542938,122270.97229286117,67213.2066314529,237870.53465533527,375448.45235925633,160761.6443717272,218224.12172283896,313364.1471471712,291622.1548232604,169350.57641743874,178592.5025827293,114038.71452940686,62892.98194858382,216728.53190729307,219872.57616254274,427341.9497925758,344027.061606521,272396.9199623914,177802.1916050972,113344.97894733989,374154.85867108003,119592.09433244898,266232.32126629277,144715.54753924618,119781.57382718177,183253.38709280896,89713.69855777522,69014.36548857827,215604.210947563,402174.8494507874,172042.889401694,98580.60554708095,249584.58501045214,137286.7893622149,234551.70327594402,262025.35325979837,294299.82418742427,249207.38918220456,75386.368338687,187985.75413517718,251899.51944027538,107500.81763612166,278591.7398443426,98535.27107741282,172648.60454099302,144034.85840686335,272014.2097656839,407068.5921464135,294212.35080451233,234003.71946628275,146677.31264119927,277766.3349086961,235351.84464154532,330321.5490775509,238014.7142632706,137729.6482754792,248518.26950518295,97190.95943153954,334658.66701706883,182137.29477195535,322896.1840338679,101250.8390785369,354441.94327625615,288512.9682465392,328611.3494236466,173811.32110141474,680066.5598932542,158995.69117346389,214814.1547249864,138539.17315127677,164868.80639926624,381300.4457930238,297924.15719737986,120615.13260889269,257211.31659137964,177486.37183088533,244640.86887442804,208606.32579378714,330031.7326904532,63565.34287098286,131189.27876542337,81648.55889494828,229516.10969035365,152446.42098545385,148339.75130026293,207189.68719072474,155301.20441848293,178579.68353312928,245327.14382256387,231770.52634372874,153956.48451570387,83746.2692147229,314909.18257109495,459145.6886435794,175204.77377197758,302101.3769928174,177630.91398853305,256446.20959750316,230620.8025411053,65760.18952117546,137732.48078861242,231045.305265475,294470.81117570936,198963.0077308365,145571.0049505973,334261.50048877235,314745.0884004226,198407.1458004238,60081.15683341492,131635.96486110036,131306.59359025356,229670.3746429099,189373.83826905445,272492.47033660393,117692.65083862671,120394.2982000655,207374.81579498056,155776.2866786696,248001.01467828115,119792.41188337831,218892.9005338024,244612.61651406545,178698.95529095328,276238.40425328765,284319.3035586708,214892.02952130008,184712.97992596048,91370.95623099749,159766.5038689251,201292.455927636,192227.45286603188,130479.75965326246,112268.02878109712,267184.8024431041,327205.65126591193,294902.6914011481,109784.20953719257,286950.7227091375,281742.9612726945,193206.23193033086,115215.15082349468,131988.38419392795,189324.41417225302,249354.43308559945,222097.86335657525,248421.61417471484,79725.3470824043,215521.98885838842,122537.3334789281,93289.78680663751,203667.70261712148,456283.3126594684,240982.45802170437,229063.24665431603,371391.9861258585,266017.9927138297,35393.76009842305,320703.4399890369,145123.0775454021,264185.11771317746,209596.38379591983,135603.86354080233,395703.9750782663,173509.98026595946,282149.74323766364,133449.8282147172,125513.9277065459,266834.2112445852,129000.05995524111,100690.03098233786,292113.6921461427,175977.82934832392,97624.99630079005,213662.18681849423,251340.24976194234,248266.151118491,289604.34165574214,265625.98193422524,334330.872342295,115954.93811146016,188881.10801389575,212072.2975526916,206963.96537240883,297549.3130993978,75123.44639529203,360277.95119936607,321613.8958877458,219535.56419974906,96699.53064821768,116954.84797562439,171040.15220536117,144527.5199980174,248109.42708711105,35412.52981060973,171899.6460879796,225184.87631907748,171998.19698228297,214647.989339782,208501.59253204998,236647.52481966888,225792.21355269314,292475.1555775292,210854.13004289687,113746.85163669367,243736.76522474218,179916.7334707309,307570.0067778907,124545.72873910608,244993.71318706067,242333.9157821751,242706.56652155053,240844.50719914405,293193.593271154,79664.82088880477,271707.9342922891,274040.3801405086,203650.86035112306,236569.09006630396,335430.7699201572,185912.03849994292,235758.86766567075,441184.3120720291,196240.79048649597,243508.5066189667,178224.0889992871,163750.68972785515,212247.29431469922,204857.93746380383,247732.40440354048,58089.75267327367,68664.57504117998,355862.551874801,148782.38446011808,154167.6764114474,346447.31580469885,229865.12149125666,169989.55070299114,74603.41593941062,269404.3546200215,153603.38639979623,225973.83302374583,178408.2438837634,196276.02810322074,249980.05075996334,237844.50787881747,136258.83745641267,104259.69564645762,243226.90718829105,311922.9370550789,305819.2716005071,251142.1100026074,149401.81828118552,289396.69521791843,241645.8969744876,283276.0727201233,297303.8267737748,212367.65544851375,257635.34020992267,173380.66080618996,265019.52494012774,36816.30311191769,200809.49041926337,248934.94684836466,250546.4519554909,230223.88051532683,226078.91124928408,141915.41512945012,95707.23578717359,157222.57882036065,157381.32383408025,77444.56273551029,67118.46326824304,137001.3984996071,175761.5181163458,271448.8747052883,51550.67769809457,174265.04364553187,144696.6120545964,170324.46603511722,237996.87450659246,222555.41523645283,316686.431921479,250872.0577117274,81914.00129909428,389989.20815736987,235172.98779187934,178502.68016105553,225575.5842831702,238519.97570425732,220243.12074714628,149721.39107497592,120405.20195450408,182483.17364279277,173685.6842337903,155920.30289626072,146718.66833417147,127662.81583441094,149158.73520963336,153812.28122152892,211558.5109703909,146778.59448183846,165935.1785722097,129217.77499969365,295245.2680029364,120448.44059362487,133748.7428438099,39605.71451916994,186681.39959112412,179878.32744231544,197731.62980735,34767.60008461471,73149.94292865312,197809.99240754955,240158.4252804258,195236.88079913193,218736.56172731466,257811.84086738783,279928.6138676818,196952.87276911945,206891.1155860922,289359.3687441303,203630.4101063564,223420.9193182467,344917.63427043305,42118.77244462416,305890.15975516743,378188.3245687561,135284.5638520787,64234.89993508998,129074.29647054707,59731.930143153004,289787.19500403607,157675.06647937765,339262.84281311464,323942.82599460444,156114.73039765403,89668.85344121384,358233.9886684038,426201.47722696385,241123.89272082242,262373.78261956025,233088.75843356876,56361.96840469126,284613.16982437525,176366.6957636734,115167.45717945808,418633.7190542395,102861.35115530432,192423.21200728932,401944.5927811066,483238.26610599394,222985.00423832587,237963.42016088066,438305.6535129404,114970.37192432513,183884.29036807877,177272.60489482706,340332.6255375177,250211.1012258938,133897.26557894103,161181.06164533342,316222.05837712635,151450.3819629554,411169.21493445383,108808.30899147967,278433.4500602955,252658.58645017364,168458.45918740117,104374.41102764576,91762.82479203973,209715.659925276,176049.68181388016,240069.75322967392,175004.3409275008,212972.86843579338,97631.88734383715,87980.10693669313,432578.5482722271,174369.3927911804,128027.27974549808,61381.68355489115,329823.45164960064,27104.606127023028,212504.25165780607,223467.70400175764,174531.2056880113,181145.1321788101,160366.0386031263,193454.327997002,147377.54760411504,239414.43204089033,209854.47809647687,48344.74526008003,151593.91614210594,237520.99794019948,137387.63289286828,596191.2411089321,175063.85634472166,141349.26292290137,339264.3148699568,194510.180467564,188951.01343524287,150175.89569006913,178318.14072624635,213928.12730924608,232216.2729178982,174137.39221463216,249887.3196882479,97010.749166347,207488.55177528062,282135.4709270552,388437.7104263047,431749.22115634,105312.47475026261,204449.89279112348,234927.36489615688,189557.41221284232,214560.40301471236,104890.04817086254,137697.57578871766,311494.2063188236,295613.21838035027,233774.6238819692,152106.20628674806,175291.70731019997,165753.663805216,337526.47627217416,139836.3930200719,110531.12550475472,274079.59988908994,121759.95389037274,87881.1266245768,198331.46658135866,82181.06720885105,227198.93310383483,278672.19906769786,104769.57354398469,215458.77422266078,286760.2118209088,125855.6044200476,219552.04908453423,145253.05227066757,209488.25947132683,240794.26898239995,295190.6273458961,256937.69026155781,161507.7588032041,69455.20809459803,245876.79498747503,383192.4731376523,244818.89542716963,297515.77677710087,75632.5050101717,77696.16471768463,189879.60182826198,368653.87512802985,212264.28454439616,113612.22108839416,181437.34037721108,189305.78894645665,268408.42983259156,149871.12457966837,107896.81749748904,172492.35937802625,387394.92572595284,325351.2566460294,251531.58878968193,247836.47153118835,336013.3480186715,223112.1314090343,122066.80444162396,138585.333212414,131313.9986706917,263815.3642320849,254467.37066956534,50874.55181911774,303834.0958985963,368344.6388771412,252865.1451740184,203082.87617486963,243339.4442716869,259590.76176855504,77305.45414864084,244541.98408331763,236762.04936207295,162433.03838076463,115974.29685170662,201854.53473142695,331926.2124075735,233680.86627984667,279367.9682821617,247550.8944066095,54573.003531867755,172496.69494059295,108848.92632382945,281905.2260724323,108171.96169267801,273975.3229175593,258715.15553804208,281388.39403769677,149444.3422954544,167564.17412261246,148182.41942778835,344001.8920614674,210412.51625365703,150625.5614185666,98688.45555910839,331085.1563475715,278006.2787418767,215837.43847572358,222688.0470417955,286980.22229638003,295483.5576842448,169935.60669700013,213036.1046416664,218801.473798882,167811.29756016942,257302.44537794,302423.7781759732,130077.34149987297,197784.8579823502,140004.37615511,220672.2252432056,105167.67502422293,180200.1123703378,284445.74768303626,127444.339259085,238840.8376549306,129927.0024805619,304056.6173538856,131160.15050362455,106264.36372640009,297898.8246149024,297158.0552457895,146410.82950592448,170436.37814670627,102243.99607466225,167284.91336534923,142063.98369676538,411906.17515614664,114545.1625064754,279340.99224917707,459469.38708133186,254285.76067517808,100708.09334666743,255084.77343833243,110336.14112185131,161995.6541035286,162218.23478816767,348387.95872918784,467851.8658593797,113735.08431458102,159016.4025949491,90163.2362129796,270740.22161776864,106571.94626768705,247109.7523830301,193510.86964118015,221976.81283162217,227916.05834601715,244910.63319592513,251531.62122319604,230584.37129672797,282195.5602365696,131989.72549768796,174983.23065849429,173140.63725901017,199091.77971050743,171437.58806268786,268999.83165471215,94757.486583449,193120.54452356003,223026.04338967171,291832.4814278869,302752.4732948062,272527.49172661593,195935.6893460714,76997.26580813774,185955.06727852387,119911.79826959029,131477.0506207937,367512.795997389,77841.17539410916,272085.412540379,48998.04120630355,89537.63947826113,213534.8027934431,214510.10451443197,111022.24018857362,233470.72840940207,319024.9820693047,82672.11029987983,40886.683865144674,262509.1631093233,266315.4813870829,164718.61130726142,253265.79279702448,259971.71712972716,116581.13147601944,170200.68276457442,251116.09139792313,162654.78203230308,257029.23181771353,200368.20294018742,231679.96545620024,287491.1418021525,175846.60643007574,217299.93497948238,84731.60171318919,51187.58827573806,194772.07112378208,182091.78782060745,42930.8029905931,215255.57339000236,378143.4969828151,156084.1589903482,106095.38561656236,177787.4330352029,141557.0485644615,35997.51398735144,242397.55009651178,176467.59802537665,279568.4083916001,52953.65515076794,114322.2891138707,261233.43496842563,341211.6944228234,125833.61236240335,281146.49037653813,195506.21175793916,359103.10725111526,290923.1594167119,184006.0206558846,163693.4086940348,56166.154943215835,139638.62242190324,92052.28748748283,126659.19480835136,130906.33506166357,254278.82468238487,166978.34708594735,-15857.919750372996,285041.22834936535,106546.72218277393,221233.229126294,241854.50471363644,237158.5340968797,152366.66523514135,300922.53435102093,585348.0834442175,243886.83410164336,257885.39250526272,19378.805254504783,309520.4430335427,134970.02450693524,109198.52599666515,79001.63543100908,313951.6089815207,335736.9392455925,314557.48031224153,266140.50209562544,463589.5178970642,51871.26943917535,76542.04404542592,276467.1221380178,220861.68025867786,230830.58799304764,356365.0547527577,282301.12335429847,297198.8025373936,430353.81928037456,292475.1954850484,296704.38034210546,178298.10074467782,133929.98353998247,204808.43945444198,198844.33989473563,233229.52443969972,206170.77466247423,166355.1810267669,80057.03492260381,293069.86779370037,222772.02312936995,173541.5639937439,246924.52985400037,155889.3198556808,76928.2117276036,93483.62447027605,115396.65495116735,329364.38405629795,76323.94078438124,363286.3451260746,121119.700427884,391826.00706716673,399317.1207026206,124746.13129522388,239142.79484820634,259302.70071414323,304528.9663512887,278363.6472853328,172431.57560125532,174993.8338240076,251716.24721688806,221803.79834532813,265670.3547854094,289838.566169758,144148.06697197372,342715.1495257603,198421.63797845776,246107.00747311985,272538.84505092865,130864.3527253831,290455.01632153906,297457.03640509036,227310.13607483052,259440.72713342565,235256.19874717126,360120.5760075224,321216.6218412933,279760.4888957344,245800.3668374677,119274.4347885047,131347.76839090098,127220.80567862726,279581.2154069005,146037.00528100593,67024.31079580734,170221.54095188814,260619.39007735267,388286.78134994314,120971.15567519091,160979.79388968408,162462.40706832957,363511.2682711995,286964.72885368386,221129.41533547046,108986.21797275548,132162.25547187185,224503.43087600905,183247.70094280873,280874.084387149,125116.80978074769,328160.27023322915,57721.57076722599,224593.0561997579,38706.44771348001,77595.76405266803,120919.97187347258,240009.0559624961,235961.06085297343,161734.51237372714,221497.16856566083,348293.43420308107,183954.62106398563,146326.41155915786,126894.85023548381,229445.19406073494,162350.87867595576,125438.51672647089,247012.22710437083,122213.91531696857,101888.70007844808,159566.0265021067,282388.8990096358,104698.46272095238,200930.72151914635,132273.91471765458,400333.7091585712,155519.8191584564,417711.4546951566,138121.1665624185,228101.3368790541,138342.54006678943,92563.51952775671,186228.7919409905,96610.21248968963,143913.0064410143,64891.75764592577,83471.87372684745,291631.0890447065,236616.67279542275,277011.5038104531,60565.01062398017,199994.21946781603,145938.67498798665,280198.35936686734,202385.12247184283,203312.15826425178,141057.57014624172,157121.61736677022,179436.26270290717,271042.775788434,286956.952028929,374403.60884058464,329534.2859564845,174020.89940328506,210965.82661569316,109319.80177324999,188946.03281308227,160885.38329579297,165665.4597076748,37759.976892507955,284037.63285365177,173739.45138177543,134971.59933841802,280996.46025673527,202699.36892100587,264577.6273221732,242433.84414382346,188694.77771311437,245862.2976137399,156787.0464235607,259988.79703416163,189104.35040992274,305764.29281187116,237095.55569211597,245096.07189776923,207823.34924791442,185690.39471419863,121548.38910278465,273581.8008828981,245072.25046088576,282256.77829781506,95130.98233267611,202314.91181872156,282020.48818975105,102846.75892803729,97900.80014684102,140329.68127416013,260878.53808806872,240058.45890345777,129315.16050323709,367993.2501237432,203996.9652234887,157704.22951651728,232840.0675382428,195524.64534856507,186741.02500609204,279506.54746125493,212568.48729855145,222826.9105694346,241694.06043408194,239125.57443898782,246996.27972368567,263045.2217067293,193334.0071293259,104945.80304759619,95502.99057389505,103630.52558494138,348991.77704139287,289537.97434238857,160667.15376131763,253057.09267069644,216035.70764486096,134105.93409598764,195428.80545145881,155567.55349376422,140114.8841979849,318880.0598032593,168487.71056760586,236189.0859255181,246175.26028088082,57952.09466649071,194792.52341326798,289698.8218499713,184615.76596834132,281854.8218833571,147283.26653108728,175763.5884270703,182359.72747841812,96448.53380314886,270009.2422188075,108047.88805345958,326636.28553031816,254582.05394277608,233513.31886102396,76109.34878424974,183424.50665484936,238038.51582105824,167294.4916639225,167310.0502161563,84263.04119286046,170046.0132103689,233701.0946161286,295818.5508493774,226625.40411628174,127982.15310206302,291346.7620453654,168197.17566838537,209811.83147867786,111958.89796083291,272477.79356202896,264578.2077081264,112911.70173925164,323501.3747413124,117845.5206367001,251418.64820448298,60206.55581320412,83447.18735853309,222857.28640380705,70635.6505266013,315066.6342397367,148180.13082512133,117352.27834114812,263017.7763538328,279844.2042710716,152380.57721592352,191254.18924155104,280904.1401345347,291060.5461255424,179771.44954309514,90831.72290476644,291012.1868773746,394672.0277602361,207913.70129168127,235324.73931816212,169424.2800555101,314910.6454692552,46167.846616537165,116276.12981562488,322801.24982327106,249896.02668050374,113879.13934434493,134197.60726790995,170556.06897817482,303437.52544917446,329033.9456964906,233097.334866292,315396.1651182335,126423.59503019208,242340.32863880013,297150.5483549931,72859.2128392462,144107.0338673894,659065.1455507826,77259.09499699518,244468.12351631906,135382.93818659175,357966.18844126427,158817.2885482162,228623.58201182084,291218.4464580015,52372.84711099707,161321.10540813036,128343.65155138576,277058.6369202282,133054.52264227404,265434.1910635511,291528.3531419947,109002.31759292158,155903.75285836612,373301.2599844205,245738.15799245372,176501.2707125645,312639.5883739125,240864.0742812143,214638.72892337604,183238.48884725338,123452.24835858041,102158.19764870842,98748.36261691312,250229.12438497838,106872.77621284135,319144.99359850056,98312.73779960079,230975.96271631835,75090.78388440903,270378.95589859626,588492.3913318799,284103.05447597685,245560.58383650173,480901.2765448485,254548.86347357067,111351.22893239387,286857.14899018116,243585.10889833677,159564.89126874862,319700.1586636829,142167.94197410828,132779.88448540552,293159.39496857906,145384.97000354182,220637.57286126207,193257.08021737466,149355.4286554021,270141.307706077,141417.7247995544,230841.26761079187,138965.91844868587,303676.5635757335,108972.09323587561,90108.68863420429,174293.6232085603,322859.2470311981,156364.6255790917,59839.93226150991,141547.13336186393,203227.02425178088,287149.9761577434,154728.17045974225,107533.65444740922,257168.7898170756,241981.44497824146,222030.68845678563,235925.7860335324,117483.99031387843,292345.93987514905,119034.81703485885,262121.40894688386,321455.01068785996,237248.8990124639,123912.12865766403,-47134.37572456751,67066.40201187728,110390.05289605007,374420.4879625157,104605.24838345857,63328.34440254685,216494.95413075655,318618.45155686175,142522.35316194443,82741.2152051762,273446.5626890267,216784.46268403938,181178.30051710294,215239.9880926878,244685.86859893645,212830.41200358857,76482.02976273572,197605.41045012837,199312.5800767804,83134.38227343737,106312.19123675746,229624.6084083998,585854.2919470523,197533.61221496807,251698.65049607598,232005.53799134816,180095.24002649015,217334.30101914005,106577.49550580492,168772.40984200168,83532.2333174267,272188.63715332304,74449.33328743262,194187.41129802098,295829.4645865952,154521.69839794777,170558.83442027925,166542.55178783354,142399.26015128434,226018.12372362392,166097.61186883532,328628.07794131443,269150.7785548476,212806.04232519618,282716.7523185729,103992.26579945735,314191.1860843628,209610.13423144916,107537.59655283374,183520.03549461445,169216.12439567212,193171.27855578362,135587.25726578056,214166.669129274,288328.55526419316,238850.13304644526,382328.44829676975,175293.21023796944,277513.90168507036,243718.2139963149,368238.4889426043,263534.9575864826,510756.141506074,213048.9562875336,273012.9821396817,386385.4035362387,124470.01800109005,158844.24832661013,294913.6760073183,320284.2302529109,66970.6482333421,297674.2276516231,237891.7758062869,121054.97422362342,237621.13475061083,149816.66704038,308441.95140029106,276113.36425962846,27047.427335055196,383399.85492549755,83652.23292555884,307189.4287551692,287262.8211532363,203715.13042950098,208914.22975095554,237277.38932582736,178656.86614747834,117337.5292815867,265298.1581794106,329837.599608941,219808.1687331259,296262.42032563407,108236.06217086369,301796.9034933314,112676.44437453138,331992.18847896846,297087.5746194399,372745.33650661533,202420.70993849658,268544.36194971314,121832.29047376495,158138.6640566953,175070.35653696302,309879.28849081,102913.28407441432,152116.17832086878,224807.06031854416,216956.4407998547,238569.20184380576,346744.13850162755,223047.1101747489,80711.34256432392,76179.79163049822,269949.3344092398,75061.22688399049,68030.28366815989,274449.44185352186,424568.12704649183,442874.6047181697,241726.17897043875,294699.41828393936,301477.658031056,95061.60656822767,132534.46192625567,53525.32028919796,45790.09929027522,136734.98844664998,222724.31486644986,175884.97523206967,44858.66912748059,269961.5326598389,156996.4935748947,251739.65967262234,229095.2283199623,186762.23964876603,332263.6026441713,119515.64258192734,261303.9629397807,105244.16006514752,230723.67353577298,91308.01005670869,314255.35166016594,500345.06588535564,171523.6365815529,469277.7187757044,140107.13112121954,284639.8773422461,128254.2849253412,240228.1034198281,376326.26737027464,84399.71626373395,333545.8804716594,392505.91389909486,250784.99001741566,355285.58566405554,199729.63575753724,217954.54215544142,38288.69365980863,159853.9288421183,204455.2328395319,242258.92777920296,133118.55658838974,202229.300733296,253687.20373322343,265016.85465516266,543894.0757081523,275776.6014173457,167926.84154799796,192969.93966330675,103695.12686057424,255495.87298229372,194377.37364976498,122619.37618605907,160696.07982836544,191151.4860496024,275911.8325020326,118124.74899197071,238945.63418693602,185119.76814255863,281527.08723249915,306192.7608397424,334032.79078405834,117738.7966940472,348359.09923287097,241653.79149971332,136288.34963375743,282486.4283185076,62193.039278900105,88606.50643799292,82050.54202424454,183671.5859167645,165643.6594068796,129799.89698989192,160784.2056746,271191.36258058646,303751.5202247541,327277.5863683328,294648.37305938266,248766.0984667503,243979.8551768673,558888.8704312793,200524.78152173958,170215.73917016512,141778.20676043993,244526.0613019073,348274.65770589607,178639.70459632826,124505.05422076068,228657.5731762205,166508.77451622675,82012.95744406218,182047.89052662882,99486.89667794463,399134.81945235643,228236.21614059474,210364.35308650238,209786.014877484,118703.14463752854,6573.003071425745,354784.9742879616,82643.50555416195,200709.32081333615,194438.71762770246,125094.19952050268,160457.98235339596,97022.14508574242,168676.766342202,116247.36459239943,137777.24182333416,158675.268738644,166012.36175940838,299929.554163781,286132.7564738663,134371.2861300878,306702.20082023594,239634.10671493897,188458.00830801763,231640.59843159956,243684.93604731205,180346.95297472758,315366.6333446074,213861.25810456387,337610.3402540295,228748.50557988376,150703.16898481717,323929.9221968178,272884.2523638526,296526.77769154694,273638.0396487182,171152.85217477003,122158.20600307615,294149.2666688881,194228.7094760924,143433.61975054914,126361.84979931245,341254.57198022696,424828.6098655427,307146.05773007014,133396.26750689515,231054.0218547348,163490.6976109286,90620.73897183532,271938.3859130659,87250.18503286819,113436.02403422419,369179.3649110893,274360.2256273957,109472.58753848157,190400.095076252,317975.48752919585,282963.18691387883,200045.52283342727,335104.8196641471,347359.7068969044,326730.6584856743,66226.54894397032,289743.2902263393,253377.87901277695,200364.34705206225,138451.94035303622,75529.41873389881,47064.56635256138,203364.13606099156,206003.79947762055,155003.1294069481,362091.37980096054,221578.26010455564,167750.78765774678,312117.4274896715,189588.66576512807,133384.68938643852,95019.15169013462,180002.08027631688,285250.33839964325,354400.4575277411,103833.24508419188,307541.8624482646,173684.1263358331,114104.41557712649,151775.0226277616,255204.27785067563,249818.81830155084,231127.86935839884,220773.24065752965,257278.9301808097,424620.03776771075,94920.05076786947,91801.48169893998,143268.03469037235,192125.8590633646,158151.56943207444,304331.4567170042,167764.85517427872,381214.6837656288,242315.3576757461,248536.06814570888,192078.95884171454,244847.7937044921,173816.20386427682,170148.14556178055,296546.7691711163,271618.0350284367,108751.03258214037,174685.6951828072,375970.3270168385,208543.29922187878,192388.620642451,134684.74105976487,193358.46356731883,217785.75471205794,183007.20803407565,293448.0183342802,219855.33750403885,158071.32239775494,260576.64293923444,265864.85097890237,292344.1472822833,151973.912770279,172626.3498169246,154010.01577815664,127459.46258673811,67029.35311378108,92903.42008291607,225171.71911594007,291702.65955651505,202685.42364016152,166569.32550613204,102469.91902932353,190049.4281226744,253496.34884448256,378799.65709981753,174994.02029512354,220804.0871823477,161425.65814499158,307440.9025434584,395075.55995966314,282449.4491304409,318469.2557843084,60045.59455584845,162533.6363150786,181793.09440262936,106121.53738869428,249368.19761338236,358678.044887532,207361.69851121688,209315.78522251084,173019.34080162353,232346.09642930067,277048.0107138194,285623.20508786006,265831.3227154449,390169.0146628118,66649.22186286713,124272.35544276674,250405.29919016664,361247.4066365684,252363.75803255895,336062.6256998518,250737.82911527008,348004.7342763769,99503.68188546234,216881.86036851633,231340.56491211528,53712.86276938088,428015.6622930089,100872.42510600945,154659.6160158468,104387.08442449302,178811.7282114363,100850.84630594746,261604.73334715105,243615.70181602344,89955.98075206253,257399.59449447948,287875.34423967137,389553.3619667417,118708.96523845126,138818.23765937018,168573.7274299163,179949.53474333917,66574.76906853195,123239.21125607964,281167.2211737747,142883.1537973364,154923.5432195721,187052.6185522646,224745.3781193589,339187.15276286355,226608.7603931273,146746.58485594418,163273.9145967478,229012.86940609975,212278.97441229745,246756.74022365885,159561.19373336076,206120.47077653446,207708.33528776135,73465.11719778768,225184.46270925266,255193.7830364019,140730.43646621713,149939.23424551438,58749.31158339471,56086.48720372538,356674.828211493,62677.5031313542,154404.19118747723,295135.9057785205,366685.73090105044,256131.6123601047,296671.2099317082,293685.0991340228,145499.39733265928,278956.05670814356,97231.78808613235,131317.6545443224,142889.75905321984,112199.70871807236,124335.18348892166,277034.12455603166,223810.0349024739,308780.16034977237,245776.17986819375,179620.35375295085,116004.74496228843,242286.2785977694,250905.19735983515,193585.1139227666,287989.01199263445,114386.98926466158,124416.36023657159,189531.30669667968,92235.24062826711,401154.0055731976,107043.36772399132,444137.4173675247,283502.0022391366,131509.89006447166,191312.95781723008,181669.76536352644,144572.90245098266,99401.06656858909,138679.1403210712,266113.87250392267,220682.95246612676,237928.61423202656,74600.5819567726,99499.25587408965,328967.4662659353,313991.8010582225,39704.25976703709,202378.94825068445,413093.974743256,251687.9274237734,153132.5129419242,144981.95145384452,162537.93919116192,220940.64836965193,255918.27173865828,135846.03452995425,61106.513121080265,155196.7759898609,155351.76982386268,97842.4213429181,93981.00913573618,244936.40076434083,219562.3714885042,118998.74675648421,273205.3894397033,493820.649583123,179651.13716992317,133616.7881617741,297836.6391316773,284700.8464180157,119943.72905845098,221308.46870448906,197759.26877158237,200912.62101128226,334615.3607564707,218087.08027398912,215271.02344914852,216502.1844806187,217119.48476733995,439085.7754527675,168378.8983974625,118440.16595279229,177242.1902231964,195028.26720155374,195370.14947333685,217481.7626193999,256550.1076407832,231951.16008088534,168516.18638842736,133544.12867175683,86918.63878064652,46454.63030927954,430370.29806429084,78550.5663785214,325785.5069548187,222771.82334077457,215235.58015724306,206413.40606667823,191676.97649102155,177261.99813878065,184554.72560581448,97813.48429961622,241121.8467280349,104331.72532047794,172054.33010376478,254130.1692628368,256665.5185940533,293000.72548038105,345065.52717671543,223366.32572257105,141328.99366762908,182064.63910101957,96686.5159687926,220150.57518748275,177120.28436010674,204712.88726865943,135273.24459642923,409164.62371149333,91286.94755637129,337286.5105678332,138969.1304704857,105489.19182225954,270182.0097242732,137701.09086871584,593014.5300109102,161909.28060360145,171648.9616891077,344023.8733000565,126795.87100910868,231172.1632385544,130730.2385339416,100833.92507840222,244799.6342573787,250651.1074861905,332720.0705003105,262659.84589252423,237173.78892850346,127521.14294620193,182497.1709206237,238922.14412602008,421261.56962864095,206403.89891257152,69739.35369862034,232669.72220314114,192939.77869323242,174244.87442223172,225428.0314452018,127057.7530475222,140718.49330822047,303324.0641392568,271870.8020783421,200137.89111618092,216036.407629359,97165.89978565119,133701.01621639077,363222.09807426634,168589.2410835487,193211.67604868603,105755.51171055873,295096.5972630815,270135.78351212287,199475.92982194162,98241.31546577625,255400.52482806842,176409.1579824937,276406.9371927371,202663.59281246466,263018.98617114866,144920.14870028157,236199.66437732853,199837.58447527286,340678.327165548,309679.3389707835,217004.5544201257,262273.71440421266,319329.44407258154,128463.33037041387,249463.22606364352,129247.05461351431,180232.76183461116,237194.51917435857,117083.81319430633,133083.73983500776,142202.08033835283,375905.03807851195,281994.4942342581,98260.39060391572,194958.05668641333,311633.53688449506,251860.9201908901,292937.1814694052,165998.54176322505,237912.00118634646,189520.81832462328,213037.93653117178,130265.74064174753,343402.1864065152,289177.0431620502,235753.56046928815,279404.51748705236,259779.03524080425,122320.63049977363,47741.86207303885,176645.0152382797,140763.43457981735,304039.9494824185,294010.5594065181,194314.87579471362,362288.8181944558,37412.503081038274,122032.05576972268,244493.60283446862,286784.6697090663,110887.23117415293,101058.39172650431,69502.06259143492,92336.16757420762,161507.3491866778,268320.88761740644,320167.3865903134,286868.65573607956,183085.91179932613,369810.9876101777,171567.2073584552,119825.32337381091,178204.9230187728,147461.7868097399,188160.30550117057,190138.4817193259,195601.5452878314,257228.8169195638,193426.31387610012,245908.54059120602,237032.83679778472,218397.05611420053,297677.39339085703,157077.17344734172,236008.52879021468,90754.43499157106,243322.61748626715,122114.39316916335,93674.57590840227,96805.75806286617,437168.92283339554,233843.36707024972,142657.00073349802,40336.03751560568,79638.34564380517,356036.69532802067,98480.63731123341,176956.452188373,314504.771237785,180063.51718714475,74484.6905575874,154618.40634076548,122101.82840654472,269798.8997937734,200655.12305318285,119029.12494940538,263929.0385853112,495176.43365412334,156314.70719751558,315109.9615277567,270345.26711617375,336898.66599890066,193645.13808903718,147178.2755679171,244991.49019960352,153353.63178697263,258842.62315956297,130428.30108427585,312414.94891471975,134471.087807348,274489.5645748336,160082.99991450016,179242.48609942518,98334.53628730812,76355.23757224876,189699.0757461244,448311.4050264412,300799.29868983885,112507.47946921903,91361.32779417111,48471.338639076974,254966.30899000907,166147.37861890226,67048.04382631817,241578.51669753122,232919.47072517662,61719.11824378843,109857.66519250229,64626.71268551529,65319.84255420935,129219.77744575309,141843.37424040958,185308.93353006695,214009.83186661376,194454.45620505055,239107.85994823006,281361.9904139396,164410.19428232423,244362.68080100216,321052.0017952661,163101.6874864504,256968.57597514355,213070.4471633234,266352.013725696,210760.22052333216,124319.51073046752,179482.19128531503,462145.03041680506,438765.57429344475,29866.32632999125,142001.6079219655,239695.80628633048,71035.32344059966,329431.51453441463,278394.89770444867,238790.13811643468,210604.96057629294,267187.70644091914,178718.83565615895,304601.84328080586,306396.04313641693,200092.02248081617,137610.9466241299,239071.47755855793,161752.11896536773,263372.54791336844,307726.9463601411,197402.04374943773,408469.56118296256,135140.21568183706,145879.49992254388,116012.70972529044,63759.218612126424,171422.62955421038,185800.19447328843,250038.3489203988,56103.3800801984,405049.4237460629,181165.2847677637,324382.90987278643,314602.3382047992,214573.4010440301,106014.48906456356,217623.63750979153,170121.70583426883,185499.2225245004,324987.0718536796,79714.39188215845,123664.76032903603,270726.0847911713,72568.51675528902,289540.7286384567,306845.9914524859,130653.84472943746,208529.92039477837,148201.9786995952,271221.857396446,259037.3327993742,142519.35918994955,582713.2028310882,429611.7581762712,257869.7867495991,137755.06603469653,103002.33227351916,193543.6560869096,587285.710334884,232973.3798414357,162069.85250673676,251215.5873150163,126205.57082189365,75127.5276136802,347509.8021660346,251725.33453732473,283253.9811863426,281196.7141247295,209498.69598700025,88912.1807409318,273517.5485220876,113566.15722534063,102397.49200456223,279452.2736187992,232302.96924274633,146163.6560990278,233821.44000253465,210062.8014667411,100602.1729918117,122041.82998654876,287873.75158200006,57704.16536866996,255145.71174580365,281861.7217611488,164134.91140260117,161341.27484733684,450131.3050542058,210417.67674308887,289922.7805779926,107836.02621325714,196984.49788903137,284414.50640592,172902.95121039834,286280.8809838488,275832.0543555488,276034.6570692613,294819.1182586902,119650.77108866248,209226.19131250007,196641.74311229095,193142.39011037612,245195.49951321332,259931.28507654538,319690.07142626535,172010.1296787722,315302.1924879643,116771.3666152726,288559.29813599325,171279.15306450118,307815.2489395641,74330.94062833834,139849.46184762055,324341.55053487804,277802.50722179486,171526.224735379,98498.82911800231,104437.38338269733,121053.23560424935,133830.96602559663,248325.5340088898,250290.6855589248,286202.4791818318,318403.4876200499,316028.2852633941,167342.16332556057,262079.31588688097,82173.90925377738,149192.45243631146,241376.91842392398,154436.58732483213,94055.54142399342,249804.16282347275,124385.83276567177,176104.31876179107,198975.7402704643,295064.4807708275,44816.39967241767,182197.71908944892,265312.8678886843,161886.12081504223,191195.40908734934,309206.8368138628,292826.83044023294,229263.82227586972,411147.7282435626,147236.62030455776,156455.00809212908,132660.64684328504,480482.2674393992,157525.737034701,340741.08048771706,156453.3116158999,190838.4575529458,253894.15758579274,198760.77695369988,279563.4064702282,77729.31282968126,229201.23958586206,44474.0312343181,284565.4428822949,336556.24150827207,278956.89752305055,191845.72229660285,485823.5979981708,133075.56713684625,204912.54092113714,236308.7022549411,79775.0092547261,221585.49061949656,168633.80595324305,298566.33734878065,172361.89794551907,221160.24329441047,120052.39928659578,77883.83402916684,392759.93222819443,258464.1555982737,203101.60448896416,196212.5649367033,70407.03069137936,248590.8124702253,253775.2779633692,164364.6467188516,325651.08865803096,146142.54041612765,288420.99070596485,285901.72186627047,137576.57916453935,175691.6747508663,311208.6833561708,168572.564875975,236349.37503016263,169425.1986284378,233195.01857957907,227982.02192661143,294201.85651104606,267843.5898752925,187630.07688396267,127794.11383553207,141639.38230580074,251968.87085385493,163464.16700779775,225907.40485560958,393712.8512344673,51055.763286548085,168589.60887752782,609775.7223154148,278355.7814001642,170563.42098849057,254605.53834261204,165082.287635229,140626.77566103765,245043.20644361502,115193.32851224243,135328.4139201471,140050.312468143,57917.88401422481,300970.871515214,93584.40276452384,277878.1231052345,161420.11042140122,242589.6008402764,239859.12857969868,219267.823871454,281432.3303468736,277858.22454915935,92616.08594544031,120445.79372259094,237547.5023706254,168645.72857732658,76180.38383291804,96474.38134995654,148944.2422407844,121174.30838144507,213760.05674877338,132615.21175799388,107476.1064460564,121309.40144706354,333184.655484415,235567.21237437337,183045.4348137067,284184.3472103857,100186.23049723051,337175.72503159556,220086.54734567425,234471.91338576886,166492.02731314045,231814.9736097355,314683.8856798448,177333.46913714407,233701.50925444136,241877.62028507752,204980.51819643087,210473.04941573495,142404.02123551708,140116.5589653847,155247.45042730126,77609.39107800067,386706.71236736584,81743.70756164179,208771.62062186404,216662.0571649979,229813.5209355789,62691.53322300987,302443.6141340259,290431.1187720417,196878.41443352713,202510.77323759836,103672.25235210682,211484.31014314853,268300.6349128351,360657.79633504024,155199.78903969628,97104.57197524696,134386.64574472955,264852.64708758984,318455.12351592805,136323.3333740316,268734.5393755509,221473.3488661198,285312.05617323617,97614.81944185605,230847.53323871002,50724.81239835269,255579.74301918267,448102.7820693389,280503.79075588577,273888.8992580881,387275.3129203878,116312.02515620147,117945.34742876343,179798.2695977522,342475.02658805577,169039.08133868754,146555.30049701445,244302.79332806653,84633.54688340586,119834.03449231863,237892.7558116903,191528.1318875762,198989.64118555165,130772.3796882073,198332.23265748337,446504.3257440344,247488.1091952947,65767.759867946,100449.62673130372,99812.24059635527,129123.30430286072,260089.53620618203,169827.48791294114,304845.5186817844,80882.55263922238,156917.35185375583,368433.204264336,303160.86861917697,203534.0736152797,207674.9199521104,147136.98759452227,337858.71213603666,249017.36797965143,188120.60845380765,156154.55145799302,279260.89959026955,253910.61096992172,227532.9546418319,295283.1858557882,263435.00882273447,489835.5417734109,188156.56403525488,168155.42291327775,268205.22573401796,174761.39010852313,208772.53264555082,204126.43310416638,175931.1150341047,222863.60639958235,214016.92899120107,262985.60813742306,101580.54727743856,42770.70978749695,316688.17020770605,102019.39867405876,75502.63719781287,220012.50215827482,274355.6230405964,71549.40588867117,251390.85733822244,219278.9643184071,219926.35649734116,224465.3589682617,71783.80475838887,136636.03615638433,139033.42548054655,128553.3933569149,192871.3634461604,179115.49250247498,252780.40368898187,211922.51763757918,95627.33612709792,248768.54295715212,199155.31282174325,66332.77102867278,163446.53804137884,607721.9451692845,191946.1474959163,287763.45581702044,177040.75153132057,103001.82319503436,207907.99819435706,277450.71035558445,240974.87211719807,148817.8428626773,188914.91968033463,257991.82078111148,81930.24984510873,166738.63146726403,223911.48310746727,116334.18135420178,148347.02070501557,309941.22900495963,189989.82288674312,252671.25033137595,214459.42452814322,314041.10390587756,201899.185485314,201865.60333386483,312350.42970810307,222898.17865322193,226874.9246601239,299215.5733131238,386563.3061287892,71341.3823083028,134558.46672054956,108307.81735844896,270168.4122843285,481246.8341143774,305854.99861902173,157223.53193782555,139039.4490580549,175687.20525315945,78887.1021735743,322406.0509206912,270285.66312626284,127424.64604698193,106331.92912389385,196934.89185693295,363679.38589546236,296224.3940006674,298403.0985525738,130856.17736227818,77252.6909982081,171507.97481314896,295267.43023905694,82228.48888306686,108061.7486387958,114287.88600224545,267611.7573968569,164932.36003751264,102378.44023295799,235637.14344304736,253081.99375623203,296635.30036774295,146063.53763510546,231895.25787082885,95974.7731461191,226632.72774453353,297176.64402154303,237546.90376815852,234622.15026568068,187820.14394355612,336349.01746657625,207264.05613182954,459173.0553352997,146163.50351222753,245618.4292914105,209834.48953475576,147616.29107329258,120849.5971259069,142051.64619855687,215480.8792111911,173781.53736433398,184901.54851843833,202475.44917065598,161984.16144557233,107183.11393394151,238381.16472263559,232245.99563206313,113443.99591694072,123065.33814867429,210158.34674680477,369754.6810565627,138039.29875802965,229825.75448348824,264247.1751367335,328877.18674341356,387768.4344465196,299302.4349413234,357965.00482119457,203301.1398707971,275412.79830200656,151621.03144137538,170853.89580462148,107621.42908426851,213125.22439292967,207401.94906431664,185265.5686203565,301159.860467796,191584.467235198,208493.6997841005,340529.3993130681,262612.65375113406,176681.52851680925,219759.7061379563,166231.21656833382,243377.0762440106,156093.10447969305,47553.87861233583,137497.57306330648,286708.4049284436,273807.5286059075,117541.87830899417,345962.2272247295,290283.0440998448,80720.97450527457,169380.94976467855,116087.49786504547,182123.37793842563,195685.0414457085,311902.9809187942,200673.00321938004,264095.45589844254,236872.20256533177,280361.5793335294,257450.8686007081,202147.9986635379,219183.751537132,242501.41350648657,117092.27796690099,336088.6331592817,266738.65216989885,164751.2054991094,94730.38420369945,255332.28148909463,194498.32618344857,220510.4415325415,169402.72383664642,138398.67252959605,215594.2996339181,65322.82669068972,162027.88871031327,172239.46649827476,87153.19299992974,209502.59341503374,235996.52029127127,378325.65449425904,265949.4861811254,147939.98743274345,139261.9447098793,79002.92416465873,353677.9993919707,212738.59223421852,461713.32226800825,274066.49772288883,219055.37492749369,79555.28303827657,131777.51431900612,211863.43858857476,164656.7401569999,212999.69116082898,283389.02368045517,225725.27611883308,171391.114457219,307378.244974212,225098.70074792794,205003.58988862473,127286.15456127282,213583.90918446233,93194.9149880911,270382.8908560075,114163.10610182359,142797.03411579397,112857.41141519473,318952.98809939687,212077.88962710268,278381.8725232085,137965.1443417847,71898.65718846535,245139.08130255938,134576.22086553765,148145.1173268541,161199.43297576735,246115.50485530664,257497.07987526208,238105.47780507652,292180.874093533,67167.14644031972,320811.0688904193,179157.6077699515,118686.44507862901,248988.36753350653,365083.9975300624,128792.1088529033,208308.9833234887,132356.34847227734,196816.8656510437,211441.8972800732,145616.86628526752,172481.58436227444,131016.25824475512,232685.0493352166,222343.40587149272,241508.39370644133,196935.3896441972,87286.0816630978,148416.372490972,281261.57176753494,276176.2339694135,169048.03165587425,66081.08122981948,231283.77390958706,101851.14830595272,84032.2256325753,119965.93341160065,211776.8145775292,159367.2945101804,266744.2044885786,142850.74073447796,221305.33784943534,250383.30310051737,160660.47316727458,154729.76676389514,203827.39142544527,243750.86402435022,195222.83690456633,254998.9896253702,79450.55790552049,227932.81542900062,206407.2554042626,212892.07200482243,247511.94629858143,100852.73232966133,236242.17805593563,400669.1492549059,309583.75485805626,22748.44582171124,299770.1034708913,287770.6545929231,174259.8451345486,82900.95113378327,2286.3615234355966,211550.87360549852,235642.19355535312,355555.3491316701,267617.7347435855,282902.83918918046,150494.0901208744,373321.30174417415,207737.70324806616,122426.09744478196,272388.97115095647,350000.59688059276,311419.394305772,345640.4005145278,210855.14585286204,156331.7796870087,236573.31434956696,217668.37842750314,355822.35281392635,258256.81967328276,56962.29455596971,255051.37300092212,208831.19948404343,181211.59349495822,239326.51997969745,177834.16255879903,70989.81102074709,220996.15110623857,264897.3370685456,263543.0419891046,79928.2552390218,241709.1412993861,256936.77044388952,208903.6180410699,239185.4767979,304527.7158927404,235358.31591526227,91996.09835638957,116010.64115432097,179478.37953866957,175052.97255474338,135951.42679918377,72881.76337223646,379971.48979292717,66024.58017762657,280954.01822185767,278171.9569447875,222134.01425734523,306046.50288365706,178758.96185649064,181195.06995888503,78660.06860957059,327047.1245317081,118656.96820790041,173745.63955397424,229097.93215557514,318548.49492899684,181664.96827415316,143923.1707499207,227558.90192022477,57387.9830216266,261607.01812334175,118420.10487999809,211939.58313891734],\"type\":\"scattergl\"}],                        {\"template\":{\"data\":{\"histogram2dcontour\":[{\"type\":\"histogram2dcontour\",\"colorbar\":{\"outlinewidth\":0,\"ticks\":\"\"},\"colorscale\":[[0.0,\"#0d0887\"],[0.1111111111111111,\"#46039f\"],[0.2222222222222222,\"#7201a8\"],[0.3333333333333333,\"#9c179e\"],[0.4444444444444444,\"#bd3786\"],[0.5555555555555556,\"#d8576b\"],[0.6666666666666666,\"#ed7953\"],[0.7777777777777778,\"#fb9f3a\"],[0.8888888888888888,\"#fdca26\"],[1.0,\"#f0f921\"]]}],\"choropleth\":[{\"type\":\"choropleth\",\"colorbar\":{\"outlinewidth\":0,\"ticks\":\"\"}}],\"histogram2d\":[{\"type\":\"histogram2d\",\"colorbar\":{\"outlinewidth\":0,\"ticks\":\"\"},\"colorscale\":[[0.0,\"#0d0887\"],[0.1111111111111111,\"#46039f\"],[0.2222222222222222,\"#7201a8\"],[0.3333333333333333,\"#9c179e\"],[0.4444444444444444,\"#bd3786\"],[0.5555555555555556,\"#d8576b\"],[0.6666666666666666,\"#ed7953\"],[0.7777777777777778,\"#fb9f3a\"],[0.8888888888888888,\"#fdca26\"],[1.0,\"#f0f921\"]]}],\"heatmap\":[{\"type\":\"heatmap\",\"colorbar\":{\"outlinewidth\":0,\"ticks\":\"\"},\"colorscale\":[[0.0,\"#0d0887\"],[0.1111111111111111,\"#46039f\"],[0.2222222222222222,\"#7201a8\"],[0.3333333333333333,\"#9c179e\"],[0.4444444444444444,\"#bd3786\"],[0.5555555555555556,\"#d8576b\"],[0.6666666666666666,\"#ed7953\"],[0.7777777777777778,\"#fb9f3a\"],[0.8888888888888888,\"#fdca26\"],[1.0,\"#f0f921\"]]}],\"heatmapgl\":[{\"type\":\"heatmapgl\",\"colorbar\":{\"outlinewidth\":0,\"ticks\":\"\"},\"colorscale\":[[0.0,\"#0d0887\"],[0.1111111111111111,\"#46039f\"],[0.2222222222222222,\"#7201a8\"],[0.3333333333333333,\"#9c179e\"],[0.4444444444444444,\"#bd3786\"],[0.5555555555555556,\"#d8576b\"],[0.6666666666666666,\"#ed7953\"],[0.7777777777777778,\"#fb9f3a\"],[0.8888888888888888,\"#fdca26\"],[1.0,\"#f0f921\"]]}],\"contourcarpet\":[{\"type\":\"contourcarpet\",\"colorbar\":{\"outlinewidth\":0,\"ticks\":\"\"}}],\"contour\":[{\"type\":\"contour\",\"colorbar\":{\"outlinewidth\":0,\"ticks\":\"\"},\"colorscale\":[[0.0,\"#0d0887\"],[0.1111111111111111,\"#46039f\"],[0.2222222222222222,\"#7201a8\"],[0.3333333333333333,\"#9c179e\"],[0.4444444444444444,\"#bd3786\"],[0.5555555555555556,\"#d8576b\"],[0.6666666666666666,\"#ed7953\"],[0.7777777777777778,\"#fb9f3a\"],[0.8888888888888888,\"#fdca26\"],[1.0,\"#f0f921\"]]}],\"surface\":[{\"type\":\"surface\",\"colorbar\":{\"outlinewidth\":0,\"ticks\":\"\"},\"colorscale\":[[0.0,\"#0d0887\"],[0.1111111111111111,\"#46039f\"],[0.2222222222222222,\"#7201a8\"],[0.3333333333333333,\"#9c179e\"],[0.4444444444444444,\"#bd3786\"],[0.5555555555555556,\"#d8576b\"],[0.6666666666666666,\"#ed7953\"],[0.7777777777777778,\"#fb9f3a\"],[0.8888888888888888,\"#fdca26\"],[1.0,\"#f0f921\"]]}],\"mesh3d\":[{\"type\":\"mesh3d\",\"colorbar\":{\"outlinewidth\":0,\"ticks\":\"\"}}],\"scatter\":[{\"fillpattern\":{\"fillmode\":\"overlay\",\"size\":10,\"solidity\":0.2},\"type\":\"scatter\"}],\"parcoords\":[{\"type\":\"parcoords\",\"line\":{\"colorbar\":{\"outlinewidth\":0,\"ticks\":\"\"}}}],\"scatterpolargl\":[{\"type\":\"scatterpolargl\",\"marker\":{\"colorbar\":{\"outlinewidth\":0,\"ticks\":\"\"}}}],\"bar\":[{\"error_x\":{\"color\":\"#2a3f5f\"},\"error_y\":{\"color\":\"#2a3f5f\"},\"marker\":{\"line\":{\"color\":\"#E5ECF6\",\"width\":0.5},\"pattern\":{\"fillmode\":\"overlay\",\"size\":10,\"solidity\":0.2}},\"type\":\"bar\"}],\"scattergeo\":[{\"type\":\"scattergeo\",\"marker\":{\"colorbar\":{\"outlinewidth\":0,\"ticks\":\"\"}}}],\"scatterpolar\":[{\"type\":\"scatterpolar\",\"marker\":{\"colorbar\":{\"outlinewidth\":0,\"ticks\":\"\"}}}],\"histogram\":[{\"marker\":{\"pattern\":{\"fillmode\":\"overlay\",\"size\":10,\"solidity\":0.2}},\"type\":\"histogram\"}],\"scattergl\":[{\"type\":\"scattergl\",\"marker\":{\"colorbar\":{\"outlinewidth\":0,\"ticks\":\"\"}}}],\"scatter3d\":[{\"type\":\"scatter3d\",\"line\":{\"colorbar\":{\"outlinewidth\":0,\"ticks\":\"\"}},\"marker\":{\"colorbar\":{\"outlinewidth\":0,\"ticks\":\"\"}}}],\"scattermapbox\":[{\"type\":\"scattermapbox\",\"marker\":{\"colorbar\":{\"outlinewidth\":0,\"ticks\":\"\"}}}],\"scatterternary\":[{\"type\":\"scatterternary\",\"marker\":{\"colorbar\":{\"outlinewidth\":0,\"ticks\":\"\"}}}],\"scattercarpet\":[{\"type\":\"scattercarpet\",\"marker\":{\"colorbar\":{\"outlinewidth\":0,\"ticks\":\"\"}}}],\"carpet\":[{\"aaxis\":{\"endlinecolor\":\"#2a3f5f\",\"gridcolor\":\"white\",\"linecolor\":\"white\",\"minorgridcolor\":\"white\",\"startlinecolor\":\"#2a3f5f\"},\"baxis\":{\"endlinecolor\":\"#2a3f5f\",\"gridcolor\":\"white\",\"linecolor\":\"white\",\"minorgridcolor\":\"white\",\"startlinecolor\":\"#2a3f5f\"},\"type\":\"carpet\"}],\"table\":[{\"cells\":{\"fill\":{\"color\":\"#EBF0F8\"},\"line\":{\"color\":\"white\"}},\"header\":{\"fill\":{\"color\":\"#C8D4E3\"},\"line\":{\"color\":\"white\"}},\"type\":\"table\"}],\"barpolar\":[{\"marker\":{\"line\":{\"color\":\"#E5ECF6\",\"width\":0.5},\"pattern\":{\"fillmode\":\"overlay\",\"size\":10,\"solidity\":0.2}},\"type\":\"barpolar\"}],\"pie\":[{\"automargin\":true,\"type\":\"pie\"}]},\"layout\":{\"autotypenumbers\":\"strict\",\"colorway\":[\"#636efa\",\"#EF553B\",\"#00cc96\",\"#ab63fa\",\"#FFA15A\",\"#19d3f3\",\"#FF6692\",\"#B6E880\",\"#FF97FF\",\"#FECB52\"],\"font\":{\"color\":\"#2a3f5f\"},\"hovermode\":\"closest\",\"hoverlabel\":{\"align\":\"left\"},\"paper_bgcolor\":\"white\",\"plot_bgcolor\":\"#E5ECF6\",\"polar\":{\"bgcolor\":\"#E5ECF6\",\"angularaxis\":{\"gridcolor\":\"white\",\"linecolor\":\"white\",\"ticks\":\"\"},\"radialaxis\":{\"gridcolor\":\"white\",\"linecolor\":\"white\",\"ticks\":\"\"}},\"ternary\":{\"bgcolor\":\"#E5ECF6\",\"aaxis\":{\"gridcolor\":\"white\",\"linecolor\":\"white\",\"ticks\":\"\"},\"baxis\":{\"gridcolor\":\"white\",\"linecolor\":\"white\",\"ticks\":\"\"},\"caxis\":{\"gridcolor\":\"white\",\"linecolor\":\"white\",\"ticks\":\"\"}},\"coloraxis\":{\"colorbar\":{\"outlinewidth\":0,\"ticks\":\"\"}},\"colorscale\":{\"sequential\":[[0.0,\"#0d0887\"],[0.1111111111111111,\"#46039f\"],[0.2222222222222222,\"#7201a8\"],[0.3333333333333333,\"#9c179e\"],[0.4444444444444444,\"#bd3786\"],[0.5555555555555556,\"#d8576b\"],[0.6666666666666666,\"#ed7953\"],[0.7777777777777778,\"#fb9f3a\"],[0.8888888888888888,\"#fdca26\"],[1.0,\"#f0f921\"]],\"sequentialminus\":[[0.0,\"#0d0887\"],[0.1111111111111111,\"#46039f\"],[0.2222222222222222,\"#7201a8\"],[0.3333333333333333,\"#9c179e\"],[0.4444444444444444,\"#bd3786\"],[0.5555555555555556,\"#d8576b\"],[0.6666666666666666,\"#ed7953\"],[0.7777777777777778,\"#fb9f3a\"],[0.8888888888888888,\"#fdca26\"],[1.0,\"#f0f921\"]],\"diverging\":[[0,\"#8e0152\"],[0.1,\"#c51b7d\"],[0.2,\"#de77ae\"],[0.3,\"#f1b6da\"],[0.4,\"#fde0ef\"],[0.5,\"#f7f7f7\"],[0.6,\"#e6f5d0\"],[0.7,\"#b8e186\"],[0.8,\"#7fbc41\"],[0.9,\"#4d9221\"],[1,\"#276419\"]]},\"xaxis\":{\"gridcolor\":\"white\",\"linecolor\":\"white\",\"ticks\":\"\",\"title\":{\"standoff\":15},\"zerolinecolor\":\"white\",\"automargin\":true,\"zerolinewidth\":2},\"yaxis\":{\"gridcolor\":\"white\",\"linecolor\":\"white\",\"ticks\":\"\",\"title\":{\"standoff\":15},\"zerolinecolor\":\"white\",\"automargin\":true,\"zerolinewidth\":2},\"scene\":{\"xaxis\":{\"backgroundcolor\":\"#E5ECF6\",\"gridcolor\":\"white\",\"linecolor\":\"white\",\"showbackground\":true,\"ticks\":\"\",\"zerolinecolor\":\"white\",\"gridwidth\":2},\"yaxis\":{\"backgroundcolor\":\"#E5ECF6\",\"gridcolor\":\"white\",\"linecolor\":\"white\",\"showbackground\":true,\"ticks\":\"\",\"zerolinecolor\":\"white\",\"gridwidth\":2},\"zaxis\":{\"backgroundcolor\":\"#E5ECF6\",\"gridcolor\":\"white\",\"linecolor\":\"white\",\"showbackground\":true,\"ticks\":\"\",\"zerolinecolor\":\"white\",\"gridwidth\":2}},\"shapedefaults\":{\"line\":{\"color\":\"#2a3f5f\"}},\"annotationdefaults\":{\"arrowcolor\":\"#2a3f5f\",\"arrowhead\":0,\"arrowwidth\":1},\"geo\":{\"bgcolor\":\"white\",\"landcolor\":\"#E5ECF6\",\"subunitcolor\":\"white\",\"showland\":true,\"showlakes\":true,\"lakecolor\":\"white\"},\"title\":{\"x\":0.05},\"mapbox\":{\"style\":\"light\"}}},\"yaxis\":{\"title\":{\"text\":\"Predicted Values\"}},\"xaxis\":{\"title\":{\"text\":\"Actual Values\"}},\"title\":{\"text\":\"Predicted vs Actual Housing Prices\"},\"coloraxis\":{\"colorscale\":[[0.0,\"#440154\"],[0.1111111111111111,\"#482878\"],[0.2222222222222222,\"#3e4989\"],[0.3333333333333333,\"#31688e\"],[0.4444444444444444,\"#26828e\"],[0.5555555555555556,\"#1f9e89\"],[0.6666666666666666,\"#35b779\"],[0.7777777777777778,\"#6ece58\"],[0.8888888888888888,\"#b5de2b\"],[1.0,\"#fde725\"]]},\"autosize\":false,\"width\":1000,\"height\":800},                        {\"responsive\": true}                    ).then(function(){\n",
              "                            \n",
              "var gd = document.getElementById('5cf20449-de39-49cb-a641-0fbc2442f971');\n",
              "var x = new MutationObserver(function (mutations, observer) {{\n",
              "        var display = window.getComputedStyle(gd).display;\n",
              "        if (!display || display === 'none') {{\n",
              "            console.log([gd, 'removed!']);\n",
              "            Plotly.purge(gd);\n",
              "            observer.disconnect();\n",
              "        }}\n",
              "}});\n",
              "\n",
              "// Listen for the removal of the full notebook cells\n",
              "var notebookContainer = gd.closest('#notebook-container');\n",
              "if (notebookContainer) {{\n",
              "    x.observe(notebookContainer, {childList: true});\n",
              "}}\n",
              "\n",
              "// Listen for the clearing of the current output cell\n",
              "var outputEl = gd.closest('.output');\n",
              "if (outputEl) {{\n",
              "    x.observe(outputEl, {childList: true});\n",
              "}}\n",
              "\n",
              "                        })                };                            </script>        </div>\n",
              "</body>\n",
              "</html>"
            ]
          },
          "metadata": {}
        }
      ]
    },
    {
      "cell_type": "code",
      "metadata": {
        "id": "3H467evIiRZP",
        "colab": {
          "base_uri": "https://localhost:8080/",
          "height": 432
        },
        "outputId": "1e911f28-0014-4e5d-855a-7abd1ccc6c70"
      },
      "source": [
        "# Let's graph the learning curves on the best model\n",
        "\n",
        "Lasso_Regression = Lasso(alpha= 400)\n",
        "\n",
        "#X_train, X_val, y_train, y_val = train_test_split(X, y, test_size=0.2)\n",
        "train_errors, val_errors = [], []\n",
        "for m in range(1, len(X_train_transform), 100):\n",
        "    mth_X_train_transform = X_train_transform[:m]\n",
        "    Lasso_Regression.fit(mth_X_train_transform, y_tr[:m])\n",
        "    y_train_predict = Lasso_Regression.predict(X_train_transform[:m])\n",
        "    y_val_predict = Lasso_Regression.predict(X_test_transform)\n",
        "    train_errors.append(mean_squared_error(y_train_predict, y_tr[:m]))\n",
        "    val_errors.append(mean_squared_error(y_val_predict, y_te))\n",
        "\n",
        "plt.plot(np.sqrt(train_errors), \"r-+\", linewidth=2, label=\"train\")\n",
        "plt.plot(np.sqrt(val_errors), \"b-\", linewidth=3, label=\"val\")\n",
        "plt.show()"
      ],
      "execution_count": 74,
      "outputs": [
        {
          "output_type": "display_data",
          "data": {
            "text/plain": [
              "<Figure size 640x480 with 1 Axes>"
            ],
            "image/png": "[encoded data removed]"
          },
          "metadata": {}
        }
      ]
    },
    {
      "cell_type": "markdown",
      "metadata": {
        "id": "26sV820hiRZZ"
      },
      "source": [
        "### Question: Before you computed the final_rmse on the test data, what was your expected value for this quantity? Does your best model have high variance?"
      ]
    },
    {
      "cell_type": "markdown",
      "metadata": {
        "id": "xXppKJrziRZf"
      },
      "source": [
        "#[Optional]\n",
        "Why does the matrix X appears transponsed in the normal equation in the linear regression? Equation 4.4. Start from equation 4.3\n",
        "\n"
      ]
    },
    {
      "cell_type": "markdown",
      "metadata": {
        "collapsed": true,
        "id": "EoahwQzuiRZh"
      },
      "source": [
        "Let's rewrite the MSE cost function for a Linear Regression model in a matrix notation:\n",
        "\n",
        "$$J(\\theta) = \\frac{1}{2m} (X \\theta  - y)^T(X \\theta - y)$$\n",
        "\n",
        "$$J(\\theta) = \\frac{1}{2m} ((X \\theta)^T - y^T)(X \\theta - y)$$\n",
        "$$J(\\theta) = \\frac{1}{2m} ((X \\theta)^T X \\theta - (X \\theta)^T y - y^T (X \\theta) + y^Ty)$$\n",
        "$$J(\\theta) = \\frac{1}{2m} (\\theta^T X^T X \\theta - 2(X \\theta)^T y + y^Ty)$$\n",
        "$$\\frac{\\partial J}{\\partial \\theta} = 2 X^T X \\theta  - 2X^T y = 0$$\n",
        "$$ X^T X \\theta = X^T y$$\n",
        "$$ \\hat\\theta = (X^T X)^{-1}X^Ty$$"
      ]
    },
    {
      "cell_type": "markdown",
      "metadata": {
        "id": "e2ILrOsoiRZm"
      },
      "source": [
        "#[Optional]\n",
        "Do all Gradient Descent algorithms lead to the same model provided you let them run long enough?\n",
        "\n"
      ]
    },
    {
      "cell_type": "markdown",
      "metadata": {
        "collapsed": true,
        "id": "cJrehjaUiRZo"
      },
      "source": [
        "Answer: If the optimization problem is convex (such as Linear Regression or Logistic Regression), and assuming the learning rate is not too high, then all Gradient Descent algorithms will approachthe global optimum and end up producing fairly similar models. Howere, unless you gradually reduce the learning rate, Stochastic GD and Mini-Batch GD will never truly converge; instead, they will keep jumping back and forth around the global optimum. This means that even if you let them run for a very long time, these Gradient Descent algorithms will produce slightly different models"
      ]
    },
    {
      "cell_type": "markdown",
      "metadata": {
        "id": "jPYtOHWqiRZq"
      },
      "source": [
        "#[Optional]\n",
        "Is it a good idea to stop Mini-batch Gradient Descent immediately when the validation error goes up?\n",
        "\n"
      ]
    },
    {
      "cell_type": "markdown",
      "metadata": {
        "collapsed": true,
        "id": "OlIzPU_MiRZs"
      },
      "source": [
        "Answer: Due to their random nature, neither Stochastic Gradient Descent nor Mini-Batch Gradient Descent is guaranteed to make progress at every single iteration. So, if you immediately stop training when the validation error goes up, you may stop much too early, before the optimum is reached. A better option is to save the model at regular intervals, and when it has not improved for a long time (meaning it will probably never beat the record), you can revert to the best saved model."
      ]
    },
    {
      "cell_type": "markdown",
      "metadata": {
        "id": "S5VPVubTiRZu"
      },
      "source": [
        "#[Optional]\n",
        "Suppose you are using Ridge Regression and you notice that the training error and the validation error are almost equal and fairly high. Would you say that the model suffers from high bias or high variance? Should you increase the regularization hyperparameter α or reduce it?\n",
        "\n"
      ]
    },
    {
      "cell_type": "markdown",
      "metadata": {
        "collapsed": true,
        "id": "dsE3hAKfiRZv"
      },
      "source": [
        "If both the training error and the validation error are almost equal and fairly high, the model is likely underfitting the training set, which means it has a high bias. We should try reducing the regularization hyperparameter $\\alpha$."
      ]
    },
    {
      "cell_type": "markdown",
      "metadata": {
        "id": "o35Ja27IiRZx"
      },
      "source": [
        "#[Optional]\n",
        "Why does the matrix X appears transponsed in the normal equation in the linear regression? Equation 4.4. Start from equation 4.3\n",
        "\n"
      ]
    },
    {
      "cell_type": "markdown",
      "metadata": {
        "collapsed": true,
        "id": "5AysngvqiRZz"
      },
      "source": [
        "Let's rewrite the MSE cost function for a Linear Regression model in a matrix notation:\n",
        "\n",
        "$$J(\\theta) = \\frac{1}{2m} (X \\theta  - y)^T(X \\theta - y)$$\n",
        "\n",
        "$$J(\\theta) = \\frac{1}{2m} ((X \\theta)^T - y^T)(X \\theta - y)$$\n",
        "$$J(\\theta) = \\frac{1}{2m} ((X \\theta)^T X \\theta - (X \\theta)^T y - y^T (X \\theta) + y^Ty)$$\n",
        "$$J(\\theta) = \\frac{1}{2m} (\\theta^T X^T X \\theta - 2(X \\theta)^T y + y^Ty)$$\n",
        "$$\\frac{\\partial J}{\\partial \\theta} = 2 X^T X \\theta  - 2X^T y = 0$$\n",
        "$$ X^T X \\theta = X^T y$$\n",
        "$$ \\hat\\theta = (X^T X)^{-1}X^Ty$$"
      ]
    }
  ]
}