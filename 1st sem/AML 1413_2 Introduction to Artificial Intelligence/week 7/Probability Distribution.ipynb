{
  "cells": [
    {
      "cell_type": "markdown",
      "metadata": {
        "id": "BI65M7u_XC08"
      },
      "source": [
        "Probability Distributions and Theorems"
      ]
    },
    {
      "cell_type": "code",
      "execution_count": null,
      "metadata": {
        "id": "vvA33R2sXC0_"
      },
      "outputs": [],
      "source": [
        "import numpy as np\n",
        "import pandas as pd\n",
        "import matplotlib.pyplot as plt"
      ]
    },
    {
      "cell_type": "markdown",
      "source": [
        "Normal Distribution"
      ],
      "metadata": {
        "id": "LIhV_LUfDvxO"
      }
    },
    {
      "cell_type": "code",
      "source": [
        "# Standard Normal Distribution without any function\n",
        "\n",
        "mu, sigma = 50,20\n",
        "s = np.random.normal(mu, sigma, 1000)\n",
        "\n",
        "# Create the bins and histogram\n",
        "count, bins, ignored = plt.hist(s, 20)\n",
        "\n",
        "# Plot the distribution curve\n",
        "plt.plot(bins, 1/(sigma * np.sqrt(2 * np.pi)) *\n",
        "    np.exp( - (bins - mu)**2 / (2 * sigma**2) ), linewidth=3, color='y')\n",
        "plt.show()"
      ],
      "metadata": {
        "id": "rieTRCwTjpZI",
        "colab": {
          "base_uri": "https://localhost:8080/",
          "height": 265
        },
        "outputId": "77880edc-e3d1-4c35-b3a4-50f240eb0698"
      },
      "execution_count": null,
      "outputs": [
        {
          "output_type": "display_data",
          "data": {
            "text/plain": [
              "<Figure size 432x288 with 1 Axes>"
            ],
            "image/png": "[encoded data removed]"
          },
          "metadata": {
            "needs_background": "light"
          }
        }
      ]
    },
    {
      "cell_type": "code",
      "source": [
        "from numpy.random import seed\n",
        "from numpy.random import normal\n",
        "\n",
        "#make this example reproducible\n",
        "seed(1)\n",
        "\n",
        "#generate sample of 200 values that follow a normal distribution\n",
        "data = normal(loc=100, scale=5, size=200)\n",
        "\n",
        "import matplotlib.pyplot as plt\n",
        "count, bins, ignored = plt.hist(data, 20)\n",
        "plt.show()"
      ],
      "metadata": {
        "colab": {
          "base_uri": "https://localhost:8080/",
          "height": 265
        },
        "id": "6_6YjpZ9U969",
        "outputId": "baca4686-3de4-4468-f15b-6752b1fbe9f5"
      },
      "execution_count": null,
      "outputs": [
        {
          "output_type": "display_data",
          "data": {
            "text/plain": [
              "<Figure size 432x288 with 1 Axes>"
            ],
            "image/png": "[encoded data removed]"
          },
          "metadata": {
            "needs_background": "light"
          }
        }
      ]
    },
    {
      "cell_type": "code",
      "source": [
        "x_axis = np.arange(-20, 20, 0.01)\n",
        "x_axis"
      ],
      "metadata": {
        "colab": {
          "base_uri": "https://localhost:8080/"
        },
        "id": "7kikoUfcITig",
        "outputId": "b871a83e-d79a-4bfb-dfa9-db80e905eb88"
      },
      "execution_count": null,
      "outputs": [
        {
          "output_type": "execute_result",
          "data": {
            "text/plain": [
              "array([-20.  , -19.99, -19.98, ...,  19.97,  19.98,  19.99])"
            ]
          },
          "metadata": {},
          "execution_count": 5
        }
      ]
    },
    {
      "cell_type": "code",
      "source": [
        "#Better Alternative\n",
        "\n",
        "import numpy as np\n",
        "import matplotlib.pyplot as plt\n",
        "from scipy.stats import norm\n",
        "import statistics\n",
        "\n",
        "# Plot between -20 and 20 with .01 steps.\n",
        "x_axis = np.arange(-20, 20, 0.01)\n",
        "\n",
        "# Calculating mean and standard deviation\n",
        "mean = statistics.mean(x_axis)\n",
        "sd = statistics.stdev(x_axis)\n",
        "\n",
        "plt.plot(x_axis, norm.pdf(x_axis, mean, sd)) #PDF = PROBABILITY DENSITY FUNCTION\n",
        "plt.show()\n",
        "print(mean)\n",
        "print(sd)"
      ],
      "metadata": {
        "colab": {
          "base_uri": "https://localhost:8080/",
          "height": 300
        },
        "id": "MrIMp_GKAnxm",
        "outputId": "4eeb1086-232a-4331-e7ca-6bb951a13fd6"
      },
      "execution_count": null,
      "outputs": [
        {
          "output_type": "display_data",
          "data": {
            "text/plain": [
              "<Figure size 432x288 with 1 Axes>"
            ],
            "image/png": "[encoded data removed]"
          },
          "metadata": {
            "needs_background": "light"
          }
        },
        {
          "output_type": "stream",
          "name": "stdout",
          "text": [
            "-0.0049999999968743936\n",
            "11.54844866926759\n"
          ]
        }
      ]
    },
    {
      "cell_type": "code",
      "source": [
        "#Standard Normal Distribution\n",
        "\n",
        "import numpy as np\n",
        "import matplotlib.pyplot as plt\n",
        "from scipy import stats\n",
        "#\n",
        "# Create a standard normal distribution with mean as 0 and standard deviation as 1\n",
        "#\n",
        "mu = 0\n",
        "std = 1\n",
        "snd = stats.norm(mu, std)\n",
        "#\n",
        "# Plot between -5 and 5 with .01 steps.\n",
        "x = np.arange(-5, 5, 0.01)\n",
        "#\n",
        "# Plot the standard normal distribution for different values of random variable\n",
        "# falling in the range -5, 5\n",
        "#\n",
        "plt.figure(figsize=(7.5,7.5))\n",
        "plt.plot(x, snd.pdf(x))\n",
        "plt.xlim(-5, 5)\n",
        "plt.title('Standard Normal Distribution', fontsize='15')\n",
        "plt.xlabel('Values of Random Variable X', fontsize='15')\n",
        "plt.ylabel('Probability', fontsize='15')\n",
        "plt.show()"
      ],
      "metadata": {
        "colab": {
          "base_uri": "https://localhost:8080/",
          "height": 493
        },
        "id": "TaFhW8w2Cymr",
        "outputId": "6f2d04b5-db07-46c5-fcab-418def720dca"
      },
      "execution_count": null,
      "outputs": [
        {
          "output_type": "display_data",
          "data": {
            "text/plain": [
              "<Figure size 540x540 with 1 Axes>"
            ],
            "image/png": "[encoded data removed]"
          },
          "metadata": {
            "needs_background": "light"
          }
        }
      ]
    },
    {
      "cell_type": "code",
      "source": [
        "# Normal Distribution Function - Change the mean or Standard Deviation\n",
        "#\n",
        "def normaldistribution(x, mu, sigma):\n",
        "    p = 1 / np.sqrt(2 * np.pi * sigma**2)\n",
        "    return p * np.exp(-0.5 / sigma**2 * (x - mu)**2)\n",
        "\n",
        "#\n",
        "# Random variable X having different values\n",
        "#\n",
        "X = np.arange(-5, 5, 0.01)\n",
        "\n",
        "# Mean, Standard deviation pairs\n",
        "params = [(0, 1), (0, 2), (3, 1)]\n",
        "\n",
        "#\n",
        "# Plotting different normal distribution curves simultaneously\n",
        "#\n",
        "plt.plot(x, normaldistribution(x, params[0][0], params[0][1]), color='r', label='Params: 0, 1')\n",
        "plt.plot(x, normaldistribution(x, params[1][0], params[1][1]), color='g', label='Params: 0, 2')\n",
        "plt.plot(x, normaldistribution(x, params[2][0], params[2][1]), color='b', label='Params: 3, 1')\n",
        "\n",
        "# Naming the x-axis, y-axis and the whole graph\n",
        "#\n",
        "plt.xlabel(\"X\")\n",
        "plt.ylabel(\"P(X)\")\n",
        "plt.xlim(-5, 5)\n",
        "plt.title(\"Normal Distribution\")\n",
        "\n",
        "# Adding legend, which helps us recognize the curve according to it's color\n",
        "plt.legend()\n",
        "\n",
        "# To load the display window\n",
        "plt.show()"
      ],
      "metadata": {
        "colab": {
          "base_uri": "https://localhost:8080/",
          "height": 295
        },
        "id": "NgMUfLs8FoFl",
        "outputId": "8bd9ccc9-c2fc-464e-a3f1-ee8d22df8085"
      },
      "execution_count": null,
      "outputs": [
        {
          "output_type": "display_data",
          "data": {
            "text/plain": [
              "<Figure size 432x288 with 1 Axes>"
            ],
            "image/png": "[encoded data removed]"
          },
          "metadata": {
            "needs_background": "light"
          }
        }
      ]
    },
    {
      "cell_type": "markdown",
      "source": [
        "Binomial Distribution"
      ],
      "metadata": {
        "id": "GqvCSCIh8o3F"
      }
    },
    {
      "cell_type": "code",
      "source": [
        "#Example of coin is tossed 10 times, what is the probability of getting 6 heads\n",
        "\n",
        "#Each outcome has a fixed probability of occurring. A success has the probability of p, and a failure has the probability of 1 – p.\n",
        "from scipy.stats import binom\n",
        "# setting the values\n",
        "# of n and p\n",
        "n = 10 #Number of Trials\n",
        "p = 0.5 #Probability of Success\n",
        "# defining the list of r values\n",
        "x_values = list(range(n)) #P(R) - Probability of R (Success)\n",
        "# obtaining the mean and variance\n",
        "mean, var = binom.stats(n, p)\n",
        "# list of pmf values what is PMF? Probability Mass Function\n",
        "dist = [binom.pmf(x, n, p) for x in x_values ]\n",
        "# printing the table\n",
        "print(\"r\\tp(r)\")\n",
        "for i in range(n):\n",
        "    print(str(x_values[i]) + \"\\t\" + str(dist[i]))\n",
        "# printing mean and variance\n",
        "print(\"mean = \"+str(mean))\n",
        "print(\"variance = \"+str(var))"
      ],
      "metadata": {
        "colab": {
          "base_uri": "https://localhost:8080/"
        },
        "id": "tEYgz57h8l3D",
        "outputId": "12379fa5-59ee-4ab4-e46e-d76e4d223c05"
      },
      "execution_count": null,
      "outputs": [
        {
          "output_type": "stream",
          "name": "stdout",
          "text": [
            "r\tp(r)\n",
            "0\t0.0009765625\n",
            "1\t0.009765625000000002\n",
            "2\t0.04394531250000004\n",
            "3\t0.1171875\n",
            "4\t0.2050781249999999\n",
            "5\t0.24609375000000003\n",
            "6\t0.2050781249999999\n",
            "7\t0.11718749999999999\n",
            "8\t0.04394531250000004\n",
            "9\t0.009765625000000002\n",
            "mean = 5.0\n",
            "variance = 2.5\n"
          ]
        }
      ]
    },
    {
      "cell_type": "code",
      "source": [
        "# Probability of getting 4 on 5 dice rolls\n",
        "#Each outcome has a fixed probability of occurring. A success has the probability of p, and a failure has the probability of 1 – p.\n",
        "from scipy.stats import binom\n",
        "# setting the values\n",
        "# of n and p\n",
        "n = 5 #Number of Trials\n",
        "p = 1/6 #Probability of Success\n",
        "# defining the list of r values\n",
        "x_values = list(range(n)) #P(R) - Probability of R (Success)\n",
        "# obtaining the mean and variance\n",
        "mean, var = binom.stats(n, p)\n",
        "# list of pmf values what is PMF? Probability Mass Function\n",
        "dist = [binom.pmf(x, n, p) for x in x_values ]\n",
        "# printing the table\n",
        "print(\"r\\tp(r)\")\n",
        "for i in range(n):\n",
        "    print(str(x_values[i]) + \"\\t\" + str(dist[i]))\n",
        "# printing mean and variance\n",
        "print(\"mean = \"+str(mean))\n",
        "print(\"variance = \"+str(var))"
      ],
      "metadata": {
        "colab": {
          "base_uri": "https://localhost:8080/"
        },
        "id": "K6vqe4HyMUh3",
        "outputId": "769c8fb1-43d1-40d4-9b53-c4f76685da90"
      },
      "execution_count": null,
      "outputs": [
        {
          "output_type": "stream",
          "name": "stdout",
          "text": [
            "r\tp(r)\n",
            "0\t0.401877572016461\n",
            "1\t0.40187757201646074\n",
            "2\t0.16075102880658423\n",
            "3\t0.03215020576131686\n",
            "4\t0.0032150205761316865\n",
            "mean = 0.8333333333333333\n",
            "variance = 0.6944444444444444\n"
          ]
        }
      ]
    },
    {
      "cell_type": "code",
      "source": [
        "import matplotlib.pyplot as plt\n",
        "plt.bar(x_values, dist)\n",
        "plt.show()"
      ],
      "metadata": {
        "colab": {
          "base_uri": "https://localhost:8080/",
          "height": 265
        },
        "id": "3JnZDZFh8xhm",
        "outputId": "7b884cfd-8921-4fe4-a097-c41b5e3d0117"
      },
      "execution_count": null,
      "outputs": [
        {
          "output_type": "display_data",
          "data": {
            "text/plain": [
              "<Figure size 432x288 with 1 Axes>"
            ],
            "image/png": "[encoded data removed]"
          },
          "metadata": {
            "needs_background": "light"
          }
        }
      ]
    },
    {
      "cell_type": "markdown",
      "source": [
        "Poission Distribution"
      ],
      "metadata": {
        "id": "WdBMuAD2Btf3"
      }
    },
    {
      "cell_type": "code",
      "source": [
        "#The average number of major storms in your city is 2 per year.\n",
        "#What is the probability that exactly 3 storms will hit your city next year?\n",
        "\n",
        "from scipy.stats import poisson\n",
        "# setting the values\n",
        "# of n and p\n",
        "x_values = [0, 1, 2, 3]\n",
        "lmbda = 2\n",
        "# list of pmf values what is PMF? Probability Mass Function\n",
        "dist = [poisson.pmf(x,lmbda) for x in x_values]\n",
        "# printing the table\n",
        "print(\"r\\tp(r)\")\n",
        "for i in range(len(x_values)):\n",
        "    print(str(x_values[i]) + \"\\t\" + str(dist[i]))"
      ],
      "metadata": {
        "colab": {
          "base_uri": "https://localhost:8080/"
        },
        "id": "lvZueAkEBwvO",
        "outputId": "378a2a5a-8e72-4c3b-ed87-193bd862643b"
      },
      "execution_count": null,
      "outputs": [
        {
          "output_type": "stream",
          "name": "stdout",
          "text": [
            "r\tp(r)\n",
            "0\t0.1353352832366127\n",
            "1\t0.2706705664732254\n",
            "2\t0.2706705664732254\n",
            "3\t0.18044704431548356\n"
          ]
        }
      ]
    }
  ],
  "metadata": {
    "kernelspec": {
      "display_name": "Python 3.10.7 64-bit",
      "language": "python",
      "name": "python3"
    },
    "language_info": {
      "codemirror_mode": {
        "name": "ipython",
        "version": 3
      },
      "file_extension": ".py",
      "mimetype": "text/x-python",
      "name": "python",
      "nbconvert_exporter": "python",
      "pygments_lexer": "ipython3",
      "version": "3.10.7"
    },
    "orig_nbformat": 4,
    "vscode": {
      "interpreter": {
        "hash": "a54c4c4f32e0cd9944006a2ebc6197a07f2fc44b43a8cf16cc12028d133017e0"
      }
    },
    "colab": {
      "provenance": []
    }
  },
  "nbformat": 4,
  "nbformat_minor": 0
}