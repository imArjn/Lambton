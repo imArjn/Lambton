{
  "nbformat": 4,
  "nbformat_minor": 0,
  "metadata": {
    "colab": {
      "provenance": []
    },
    "kernelspec": {
      "name": "python3",
      "display_name": "Python 3"
    },
    "language_info": {
      "name": "python"
    }
  },
  "cells": [
    {
      "cell_type": "markdown",
      "source": [
        "Creating a Simple Reflex Agent - A blind dog."
      ],
      "metadata": {
        "id": "gdFJ8BZEY0ty"
      }
    },
    {
      "cell_type": "code",
      "execution_count": 1,
      "metadata": {
        "id": "WGwrnT_OXWsu"
      },
      "outputs": [],
      "source": [
        "import collections\n",
        "from collections.abc import Callable\n",
        "import numbers\n",
        "class Thing:\n",
        "    \"\"\"This represents any physical object that can appear in an Environment.\n",
        "    You subclass Thing to get the things you want. Each thing can have a\n",
        "    .__name__  slot (used for output only).\"\"\"\n",
        "\n",
        "    def __repr__(self):\n",
        "        return '<{}>'.format(getattr(self, '__name__', self.__class__.__name__))\n",
        "\n",
        "    def is_alive(self):\n",
        "        \"\"\"Things that are 'alive' should return true.\"\"\"\n",
        "        return hasattr(self, 'alive') and self.alive\n",
        "\n",
        "    def show_state(self):\n",
        "        \"\"\"Display the agent's internal state. Subclasses should override.\"\"\"\n",
        "        print(\"I don't know how to show_state.\")\n"
      ]
    },
    {
      "cell_type": "code",
      "source": [
        "class Agent(Thing):\n",
        "    \"\"\"An Agent is a subclass of Thing with one required slot,\n",
        "    .program, which should hold a function that takes one argument, the\n",
        "    percept, and returns an action. (What counts as a percept or action\n",
        "    will depend on the specific environment in which the agent exists.)\n",
        "    Note that 'program' is a slot, not a method. If it were a method,\n",
        "    then the program could 'cheat' and look at aspects of the agent.\n",
        "    It's not supposed to do that: the program can only look at the\n",
        "    percepts. An agent program that needs a model of the world (and of\n",
        "    the agent itself) will have to build and maintain its own model.\n",
        "    There is an optional slot, .performance, which is a number giving\n",
        "    the performance measure of the agent in its environment.\"\"\"\n",
        "\n",
        "    def __init__(self, program=None):\n",
        "        self.alive = True\n",
        "        self.bump = False\n",
        "        self.holding = []\n",
        "        self.performance = 0\n",
        "        if program is None or not isinstance(program, collections.abc.Callable):\n",
        "            print(\"Can't find a valid program for {}, falling back to default.\".format(self.__class__.__name__))\n",
        "\n",
        "            def program(percept):\n",
        "                return eval(input('Percept={}; action? '.format(percept)))\n",
        "\n",
        "        self.program = program\n",
        "\n",
        "    def can_grab(self, thing):\n",
        "        \"\"\"Return True if this agent can grab this thing.\n",
        "        Override for appropriate subclasses of Agent and Thing.\"\"\"\n",
        "        return False"
      ],
      "metadata": {
        "id": "LNnxrfxiXzVY"
      },
      "execution_count": 12,
      "outputs": []
    },
    {
      "cell_type": "markdown",
      "source": [
        "A park is an example of an environment because our dog can perceive and act upon it.\n",
        "\n",
        "The Environment class in agents.py is an abstract class, so we will have to create our own subclass from it before we can use it. The abstract class must contain the following methods:\n",
        "\n",
        "1.   percept(self, agent) - returns what the agent perceives\n",
        "2.   execute_action(self, agent, action) - changes the state of the environment based on what the agent does.\n",
        "\n",
        "\n"
      ],
      "metadata": {
        "id": "ww6F1HKMYUlL"
      }
    },
    {
      "cell_type": "code",
      "source": [
        "class Environment:\n",
        "    \"\"\"Abstract class representing an Environment. 'Real' Environment classes\n",
        "    inherit from this. Your Environment will typically need to implement:\n",
        "        percept:           Define the percept that an agent sees.\n",
        "        execute_action:    Define the effects of executing an action.\n",
        "                           Also update the agent.performance slot.\n",
        "    The environment keeps a list of .things and .agents (which is a subset\n",
        "    of .things). Each agent has a .performance slot, initialized to 0.\n",
        "    Each thing has a .location slot, even though some environments may not\n",
        "    need this.\"\"\"\n",
        "\n",
        "    def __init__(self):\n",
        "        self.things = []\n",
        "        self.agents = []\n",
        "\n",
        "    def thing_classes(self):\n",
        "        return []  # List of classes that can go into environment\n",
        "\n",
        "    def percept(self, agent):\n",
        "        \"\"\"Return the percept that the agent sees at this point. (Implement this.)\"\"\"\n",
        "        raise NotImplementedError\n",
        "\n",
        "    def execute_action(self, agent, action):\n",
        "        \"\"\"Change the world to reflect this action. (Implement this.)\"\"\"\n",
        "        raise NotImplementedError\n",
        "\n",
        "    def default_location(self, thing):\n",
        "        \"\"\"Default location to place a new thing with unspecified location.\"\"\"\n",
        "        return None\n",
        "\n",
        "    def exogenous_change(self):\n",
        "        \"\"\"If there is spontaneous change in the world, override this.\"\"\"\n",
        "        pass\n",
        "\n",
        "    def is_done(self):\n",
        "        \"\"\"By default, we're done when we can't find a live agent.\"\"\"\n",
        "        return not any(agent.is_alive() for agent in self.agents)\n",
        "\n",
        "    def step(self):\n",
        "        \"\"\"Run the environment for one time step. If the\n",
        "        actions and exogenous changes are independent, this method will\n",
        "        do. If there are interactions between them, you'll need to\n",
        "        override this method.\"\"\"\n",
        "        if not self.is_done():\n",
        "            actions = []\n",
        "            for agent in self.agents:\n",
        "                if agent.alive:\n",
        "                    actions.append(agent.program(self.percept(agent)))\n",
        "                else:\n",
        "                    actions.append(\"\")\n",
        "            for (agent, action) in zip(self.agents, actions):\n",
        "                self.execute_action(agent, action)\n",
        "            self.exogenous_change()\n",
        "\n",
        "    def run(self, steps=1000):\n",
        "        \"\"\"Run the Environment for given number of time steps.\"\"\"\n",
        "        for step in range(steps):\n",
        "            if self.is_done():\n",
        "                return\n",
        "            self.step()\n",
        "\n",
        "    def list_things_at(self, location, tclass=Thing):\n",
        "        \"\"\"Return all things exactly at a given location.\"\"\"\n",
        "        if isinstance(location, numbers.Number):\n",
        "            return [thing for thing in self.things\n",
        "                    if thing.location == location and isinstance(thing, tclass)]\n",
        "        return [thing for thing in self.things\n",
        "                if all(x == y for x, y in zip(thing.location, location)) and isinstance(thing, tclass)]\n",
        "\n",
        "    def some_things_at(self, location, tclass=Thing):\n",
        "        \"\"\"Return true if at least one of the things at location\n",
        "        is an instance of class tclass (or a subclass).\"\"\"\n",
        "        return self.list_things_at(location, tclass) != []\n",
        "\n",
        "    def add_thing(self, thing, location=None):\n",
        "        \"\"\"Add a thing to the environment, setting its location. For\n",
        "        convenience, if thing is an agent program we make a new agent\n",
        "        for it. (Shouldn't need to override this.)\"\"\"\n",
        "        if not isinstance(thing, Thing):\n",
        "            thing = Agent(thing)\n",
        "        if thing in self.things:\n",
        "            print(\"Can't add the same thing twice\")\n",
        "        else:\n",
        "            thing.location = location if location is not None else self.default_location(thing)\n",
        "            self.things.append(thing)\n",
        "            if isinstance(thing, Agent):\n",
        "                thing.performance = 0\n",
        "                self.agents.append(thing)\n",
        "\n",
        "    def delete_thing(self, thing):\n",
        "        \"\"\"Remove a thing from the environment.\"\"\"\n",
        "        try:\n",
        "            self.things.remove(thing)\n",
        "        except ValueError as e:\n",
        "            print(e)\n",
        "            print(\"  in Environment delete_thing\")\n",
        "            print(\"  Thing to be removed: {} at {}\".format(thing, thing.location))\n",
        "            print(\"  from list: {}\".format([(thing, thing.location) for thing in self.things]))\n",
        "        if thing in self.agents:\n",
        "            self.agents.remove(thing)\n",
        "            ############"
      ],
      "metadata": {
        "id": "mSnEfaZDX308"
      },
      "execution_count": 13,
      "outputs": []
    },
    {
      "cell_type": "code",
      "source": [
        "class Food(Thing):\n",
        "    pass\n",
        "class Water(Thing):\n",
        "    pass\n",
        "class SenseDanger(Thing):\n",
        "    pass"
      ],
      "metadata": {
        "id": "vT2LjUr1X78F"
      },
      "execution_count": 14,
      "outputs": []
    },
    {
      "cell_type": "code",
      "source": [
        "class Park(Environment):\n",
        "    def percept(self, agent):\n",
        "        '''return a list of things that are in our agent's location'''\n",
        "        things = self.list_things_at(agent.location)\n",
        "        return things\n",
        "\n",
        "    def execute_action(self, agent, action):\n",
        "        '''changes the state of the environment based on what the agent does.'''\n",
        "\n",
        "        if action == \"move down\":\n",
        "            print('{} decided to {} at location: {}'.format(str(agent)[1:-1], action, agent.location))\n",
        "            agent.movedown()\n",
        "\n",
        "        elif action == \"run\":\n",
        "            print('{} decided to run away from location: {}'.format(str(agent)[1:-1], agent.location))\n",
        "            agent.SenseDanger()\n",
        "\n",
        "        elif action == \"eat\":\n",
        "            items = self.list_things_at(agent.location, tclass=Food)\n",
        "            if len(items) != 0:\n",
        "                if agent.eat(items[0]): #Have the dog eat the first item\n",
        "                    print('{} ate {} at location: {}'\n",
        "                          .format(str(agent)[1:-1], str(items[0])[1:-1], agent.location))\n",
        "                    self.delete_thing(items[0]) #Delete it from the Park after.\n",
        "\n",
        "        elif action == \"drink\":\n",
        "            items = self.list_things_at(agent.location, tclass=Water)\n",
        "            if len(items) != 0:\n",
        "                if agent.drink(items[0]): #Have the dog drink the first item\n",
        "                    print('{} drank {} at location: {}'\n",
        "                          .format(str(agent)[1:-1], str(items[0])[1:-1], agent.location))\n",
        "                    self.delete_thing(items[0]) #Delete it from the Park after.\n",
        "\n",
        "    def is_done(self):\n",
        "        '''By default, we're done when we can't find a live agent,\n",
        "        but to prevent killing our cute dog, we will stop before itself - when there is no more food or water, or if it sense danger'''\n",
        "        no_edibles = not any(isinstance(thing, Food) or isinstance(thing, Water) or isinstance(thing, SenseDanger) for thing in self.things)\n",
        "        dead_agents = not any(agent.is_alive() for agent in self.agents)\n",
        "        return dead_agents or no_edibles\n",
        "    #########\n",
        "    # So we defined everything now we can run a program#"
      ],
      "metadata": {
        "id": "Qw_F6s2CYB-7"
      },
      "execution_count": 15,
      "outputs": []
    },
    {
      "cell_type": "code",
      "source": [
        "class BlindDog(Agent):\n",
        "    location = 1\n",
        "\n",
        "    def movedown(self):\n",
        "        self.location += 1\n",
        "\n",
        "    def SenseDanger(self):\n",
        "        self.location -= 1\n",
        "\n",
        "    def eat(self, thing):\n",
        "        '''returns True upon success or False otherwise'''\n",
        "        if isinstance(thing, Food):\n",
        "            return True\n",
        "        return False\n",
        "\n",
        "    def drink(self, thing):\n",
        "        ''' returns True upon success or False otherwise'''\n",
        "        if isinstance(thing, Water):\n",
        "            return True\n",
        "        return False"
      ],
      "metadata": {
        "id": "jYRgNAoUYF1b"
      },
      "execution_count": 16,
      "outputs": []
    },
    {
      "cell_type": "code",
      "source": [
        "def program(percepts):\n",
        "    '''Returns an action based on the dog's percepts'''\n",
        "    for p in percepts:\n",
        "        if isinstance(p, Food):\n",
        "            return 'eat'\n",
        "        elif isinstance(p, Water):\n",
        "            return 'drink'\n",
        "        elif isinstance(p, SenseDanger):\n",
        "            return 'run'\n",
        "    return 'move down'"
      ],
      "metadata": {
        "id": "uXpQWKlpYI5H"
      },
      "execution_count": 17,
      "outputs": []
    },
    {
      "cell_type": "markdown",
      "source": [
        "Main Program"
      ],
      "metadata": {
        "id": "e3ScgbY0YN6H"
      }
    },
    {
      "cell_type": "code",
      "source": [
        "park = Park()\n",
        "dog = BlindDog(program)\n",
        "dogfood = Food()\n",
        "water = Water()\n",
        "danger = SenseDanger()\n",
        "park.add_thing(dog, 1)\n",
        "park.add_thing(dogfood, 5)\n",
        "park.add_thing(water, 7)\n",
        "park.add_thing(danger, 7)\n",
        "park.run(10)"
      ],
      "metadata": {
        "colab": {
          "base_uri": "https://localhost:8080/"
        },
        "id": "BFEvJiL8YKyR",
        "outputId": "414393b9-7fc8-4aca-8835-95c836e4ee66"
      },
      "execution_count": 23,
      "outputs": [
        {
          "output_type": "stream",
          "name": "stdout",
          "text": [
            "BlindDog decided to move down at location: 1\n",
            "BlindDog decided to move down at location: 2\n",
            "BlindDog decided to move down at location: 3\n",
            "BlindDog decided to move down at location: 4\n",
            "BlindDog ate Food at location: 5\n",
            "BlindDog decided to move down at location: 5\n",
            "BlindDog decided to move down at location: 6\n",
            "BlindDog drank Water at location: 7\n",
            "BlindDog decided to run away from location: 7\n",
            "BlindDog decided to move down at location: 6\n"
          ]
        }
      ]
    }
  ]
}