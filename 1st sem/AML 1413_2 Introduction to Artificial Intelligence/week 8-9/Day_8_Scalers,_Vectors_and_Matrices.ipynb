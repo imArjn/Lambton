{
  "nbformat": 4,
  "nbformat_minor": 0,
  "metadata": {
    "colab": {
      "provenance": []
    },
    "kernelspec": {
      "name": "python3",
      "display_name": "Python 3"
    },
    "language_info": {
      "name": "python"
    }
  },
  "cells": [
    {
      "cell_type": "markdown",
      "source": [
        "Vectors Addition and Substraction"
      ],
      "metadata": {
        "id": "xYboRFxgEYIw"
      }
    },
    {
      "cell_type": "code",
      "source": [
        "import numpy as np\n",
        "import matplotlib.pyplot as plt\n",
        "\n",
        "vec_1 = np.array([1,1])\n",
        "vec_2 = np.array([-2,2])\n",
        "\n",
        "vec_3 = vec_1 + vec_2\n",
        "\n",
        "# Array for containing all vectors\n",
        "vectors = np.array([vec_1, vec_2, vec_3])\n",
        "\n",
        "# transpose and extract the number of rows as well as cols\n",
        "rows,cols = vectors.T.shape\n",
        "\n",
        "colors = ['r','k', 'b'] # set color of vectors\n",
        "labels = ['vector 1', 'vector 2', 'vector 3']\n",
        "\n",
        "\n",
        "\n",
        "# 1.1: codes in order to plot the three example vectors\n",
        "fig = plt.figure()\n",
        "ax = plt.axes()\n",
        "\n",
        "for i,l in enumerate(range(0,cols)):\n",
        "    # Enumerate returns an object that contains a counter as a key for each value within an object, \n",
        "    # making items within the collection easier to access\n",
        "    # draw vectors with initialized arguments\n",
        "    # function adds a counter to an iterable and returns it \n",
        "    ax.arrow(0, 0, vectors[i, 0], vectors[i, 1], head_width=0.1, head_length=0.2, color = colors[i], label=labels[i])\n",
        "    print(vectors[i,0],vectors[i, 1])\n",
        "\n",
        "ax.annotate('vector 1', (vec_1[0]+0.3, vec_1[1]), fontsize = 13, color='red')\n",
        "ax.annotate('vector 2', (vec_2[0]+0.2, vec_2[1]), fontsize = 13, color='black')\n",
        "ax.annotate('vector 3', (vec_3[0]+0.3, vec_3[1]), fontsize = 13, color='blue')\n",
        "\n",
        "\n",
        "plt.plot(0,0,'ok') # plot a black point denoting the origin\n",
        "plt.axis('equal')  # set the axes to the same scale\n",
        "plt.xlim([-3,5]) # set the x axis limits\n",
        "plt.ylim([-2,5]) # set the y axis limits\n",
        "plt.grid(which='major') # plot grid lines\n",
        "plt.savefig('vector arithmetic-plus-(1)')\n",
        "plt.show()"
      ],
      "metadata": {
        "colab": {
          "base_uri": "https://localhost:8080/",
          "height": 317
        },
        "id": "22S3WP4NCnRX",
        "outputId": "a00ad3b1-9243-464d-a2b3-f865cd9d61b1"
      },
      "execution_count": null,
      "outputs": [
        {
          "output_type": "stream",
          "name": "stdout",
          "text": [
            "1 1\n",
            "-2 2\n",
            "-1 3\n"
          ]
        },
        {
          "output_type": "display_data",
          "data": {
            "text/plain": [
              "<Figure size 432x288 with 1 Axes>"
            ],
            "image/png": "[encoded data removed]"
          },
          "metadata": {
            "needs_background": "light"
          }
        }
      ]
    },
    {
      "cell_type": "code",
      "source": [
        "# 1.12: codes in order to plot the vector operation '+'\n",
        "fig = plt.figure()\n",
        "ax = plt.axes()\n",
        "\n",
        "for i,l in enumerate(range(0,cols)):\n",
        "\n",
        "    # draw vectors with initialized arguments\n",
        "    if labels[i] == 'vector 1':\n",
        "        # vecs[1,0] and vecs[1, 1] denote the position of 'vector 2'\n",
        "        ax.arrow(vectors[1, 0], vectors[1, 1], vectors[i, 0], vectors[i, 1], head_width=0.1, head_length=0.1, color = colors[i], label=labels[i])\n",
        "    else:\n",
        "        ax.arrow(0, 0, vectors[i, 0], vectors[i, 1], head_width=0.1, head_length=0.2, color = colors[i], label=labels[i])\n",
        "\n",
        "    print(vectors[i,0],vectors[i,1])\n",
        "\n",
        "ax.annotate('vector 1', (vec_2[0] - 0.4, vec_2[1]+0.8), fontsize = 13, color='red')\n",
        "ax.annotate('vector 2', (vec_2[0]+0.2, vec_2[1]), fontsize = 13, color='black')\n",
        "ax.annotate('vector 3', (vec_3[0]+0.3, vec_3[1]), fontsize = 13, color='blue')\n",
        "\n",
        "plt.plot(0,0,'ok') # plot a black point denoting the origin\n",
        "plt.axis('equal')  # set the axes to the same scale\n",
        "plt.xlim([-3,5]) # set the x axis limits\n",
        "plt.ylim([-2,5]) # set the y axis limits\n",
        "plt.grid(which='major') # plot grid lines\n",
        "plt.savefig('vector arithmetic-plus-(2)')\n",
        "plt.show()"
      ],
      "metadata": {
        "colab": {
          "base_uri": "https://localhost:8080/",
          "height": 317
        },
        "id": "sxqzWr2LDT5C",
        "outputId": "35e13663-0769-4e8e-9bc3-ca8e0f110f9d"
      },
      "execution_count": null,
      "outputs": [
        {
          "output_type": "stream",
          "name": "stdout",
          "text": [
            "1 1\n",
            "-2 2\n",
            "-1 3\n"
          ]
        },
        {
          "output_type": "display_data",
          "data": {
            "text/plain": [
              "<Figure size 432x288 with 1 Axes>"
            ],
            "image/png": "[encoded data removed]"
          },
          "metadata": {
            "needs_background": "light"
          }
        }
      ]
    },
    {
      "cell_type": "code",
      "source": [
        "# 1.2: codes in order to plot the three example vectors\n",
        "\n",
        "# define example vectors\n",
        "vec_1 = np.array([1,1])\n",
        "vec_2 = np.array([-2,2])\n",
        "\n",
        "vec_3 = vec_1 - vec_2\n",
        "\n",
        "# Array for containing all vectors\n",
        "vectors = np.array([vec_1, vec_2, vec_3])\n",
        "fig = plt.figure()\n",
        "ax = plt.axes()\n",
        "\n",
        "for i,l in enumerate(range(0,cols)):\n",
        "\n",
        "    # draw vectors with initialized arguments\n",
        "    ax.arrow(0, 0, vectors[i, 0], vectors[i, 1], head_width=0.1, head_length=0.2, color = colors[i], label=labels[i])\n",
        "\n",
        "ax.annotate('vector 1', (vec_1[0]+0.3, vec_1[1]), fontsize = 13, color='red')\n",
        "ax.annotate('vector 2', (vec_2[0]+0.2, vec_2[1]), fontsize = 13, color='black')\n",
        "ax.annotate('vector 3', (vec_3[0]+0.3, vec_3[1]), fontsize = 13, color='blue')\n",
        "\n",
        "plt.plot(0,0,'ok') # plot a black point denoting the origin\n",
        "plt.axis('equal')  # set the axes to the same scale\n",
        "plt.xlim([-5,5]) # set the x axis limits\n",
        "plt.ylim([-5,5]) # set the y axis limits\n",
        "plt.grid(which='major') # plot grid lines\n",
        "plt.savefig('vector arithmetic-minus-(1)')\n",
        "plt.show()"
      ],
      "metadata": {
        "colab": {
          "base_uri": "https://localhost:8080/",
          "height": 265
        },
        "id": "rOmuWrm0DsUV",
        "outputId": "e96c640e-91ad-4067-ef47-a419aa55a503"
      },
      "execution_count": null,
      "outputs": [
        {
          "output_type": "display_data",
          "data": {
            "text/plain": [
              "<Figure size 432x288 with 1 Axes>"
            ],
            "image/png": "[encoded data removed]"
          },
          "metadata": {
            "needs_background": "light"
          }
        }
      ]
    },
    {
      "cell_type": "code",
      "source": [
        "# 1.22: codes in order to plot the vector operation '-'\n",
        "\n",
        "vec_1 = np.array([1,1])\n",
        "vec_2 = np.array([-2,2])\n",
        "\n",
        "vec_3 = vec_1 - vec_2\n",
        "\n",
        "# Array for containing all vectors\n",
        "vectors = np.array([vec_1, vec_2, vec_3])\n",
        "\n",
        "fig = plt.figure()\n",
        "ax = plt.axes()\n",
        "\n",
        "# draw the vector 1\n",
        "ax.arrow(-vectors[1,0], -vectors[1,1], vectors[0, 0], vectors[0, 1], head_width=0.1, head_length=0.2, color = colors[0])\n",
        "\n",
        "# draw the minus vector 2(reversed)\n",
        "ax.arrow(0, 0, -vectors[1, 0], -vectors[1, 1], head_width=0.1, head_length=0.2, color = colors[1])\n",
        "\n",
        "# draw the vector 3 denoting vector 1 subtracted by vector 2\n",
        "ax.arrow(0, 0, vectors[2, 0], vectors[2, 1], head_width=0.1, head_length=0.2, color = colors[2])\n",
        "\n",
        "ax.annotate('vector 1', (-vectors[1,0]+0.3, -vectors[1,1]-0.5), fontsize = 13, color='red')\n",
        "ax.annotate('- vector 2', (-vec_2[0]-1.5, -vec_2[1]+0.3), fontsize = 13, color='black')\n",
        "ax.annotate('vector 3', (vec_3[0] -1, vec_3[1]+0.5), fontsize = 13, color='blue')\n",
        "\n",
        "plt.plot(0,0,'ok') # plot a black point denoting the origin\n",
        "plt.axis('equal')  # set the axes to the same scale\n",
        "plt.xlim([-5,5]) # set the x axis limits\n",
        "plt.ylim([-5,5]) # set the y axis limits\n",
        "plt.grid(which='major') # plot grid lines\n",
        "plt.savefig('vector arithmetic-minus-(2)')\n",
        "plt.show()"
      ],
      "metadata": {
        "colab": {
          "base_uri": "https://localhost:8080/",
          "height": 265
        },
        "id": "ilUKWVGaD5Wg",
        "outputId": "caac3543-d942-460a-8922-87504019aeaa"
      },
      "execution_count": null,
      "outputs": [
        {
          "output_type": "display_data",
          "data": {
            "text/plain": [
              "<Figure size 432x288 with 1 Axes>"
            ],
            "image/png": "[encoded data removed]"
          },
          "metadata": {
            "needs_background": "light"
          }
        }
      ]
    },
    {
      "cell_type": "markdown",
      "source": [
        "Matrix Multiplication without using Python Functions"
      ],
      "metadata": {
        "id": "3IfyyQLvEfKX"
      }
    },
    {
      "cell_type": "code",
      "execution_count": null,
      "metadata": {
        "colab": {
          "base_uri": "https://localhost:8080/"
        },
        "id": "bt_pEsUmYPMI",
        "outputId": "f1637c65-6b53-444a-f245-46560185008b"
      },
      "outputs": [
        {
          "output_type": "stream",
          "name": "stdout",
          "text": [
            "[138, 171, 204]\n",
            "[174, 216, 258]\n",
            "[210, 261, 312]\n"
          ]
        }
      ],
      "source": [
        "# Program to multiply two matrices using nested loops without using python functions\n",
        " \n",
        "# take a 3x3 matrix\n",
        "A = [[10, 11, 12],\n",
        "    [13, 14, 15],\n",
        "    [16, 17, 18]]\n",
        " \n",
        "# take a 3x3 matrix   \n",
        "B = [[1,2,3],\n",
        "    [4,5,6],\n",
        "    [7,8,9]]\n",
        "     \n",
        "result = [[0, 0, 0],\n",
        "        [0, 0, 0],\n",
        "        [0, 0, 0]]\n",
        " \n",
        "# iterating by row of A\n",
        "for i in range(len(A)):\n",
        " \n",
        "    # iterating by column by B\n",
        "    for j in range(len(B)):\n",
        " \n",
        "        # iterating by rows of B\n",
        "        for k in range(len(B)):\n",
        "            result[i][j] += A[i][k] * B[k][j]\n",
        " \n",
        "for r in result:\n",
        "    print(r)"
      ]
    },
    {
      "cell_type": "markdown",
      "source": [
        "Example of Tensor"
      ],
      "metadata": {
        "id": "rCAZDbeEmXKq"
      }
    },
    {
      "cell_type": "code",
      "source": [
        "from numpy import array\n",
        "T = array([\n",
        "  [[1,2,3],    [4,5,6],    [7,8,9]],\n",
        "  [[11,12,13], [14,15,16], [17,18,19]],\n",
        "  [[21,22,23], [24,25,26], [27,28,29]],\n",
        "  ])\n",
        "print(T.shape)\n",
        "print(T)"
      ],
      "metadata": {
        "id": "gPrEa8ZMmWY_",
        "outputId": "dde0348e-3c64-41dc-8857-b1eb8a4d6786",
        "colab": {
          "base_uri": "https://localhost:8080/"
        }
      },
      "execution_count": null,
      "outputs": [
        {
          "output_type": "stream",
          "name": "stdout",
          "text": [
            "(3, 3, 3)\n",
            "[[[ 1  2  3]\n",
            "  [ 4  5  6]\n",
            "  [ 7  8  9]]\n",
            "\n",
            " [[11 12 13]\n",
            "  [14 15 16]\n",
            "  [17 18 19]]\n",
            "\n",
            " [[21 22 23]\n",
            "  [24 25 26]\n",
            "  [27 28 29]]]\n"
          ]
        }
      ]
    }
  ]
}