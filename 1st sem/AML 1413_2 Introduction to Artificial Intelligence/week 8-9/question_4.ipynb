{
 "cells": [
  {
   "cell_type": "markdown",
   "metadata": {},
   "source": [
    "### __Q4. A Customer Call center receives on average 3.5 calls every hour. Write a Python Program to find the probability that it will receive at most 4 calls every hour? (4 Marks)__"
   ]
  },
  {
   "cell_type": "markdown",
   "metadata": {},
   "source": [
    "![qsn4.jpg](qsn4.jpg)"
   ]
  },
  {
   "cell_type": "markdown",
   "metadata": {},
   "source": [
    "For this problem we have formula for finding probability using Poisson distribution,\n",
    "__P(X=k) = (e^(-λ)*λ^k)/k!__\n",
    "where, \n",
    "1. ```λ```(lambda) as the average rate i.e. 3.5 calls every hour.\n",
    "2. ```k``` is the number of calls we have to find, i.e. atmost 4 calls every hour.\n",
    "Since, it is atmost we can take k as 0,1,2,3 or 4\n",
    "3. ```e``` is euler's number which is approximately 2.71828\n",
    "4. ```k!``` is the factorial of k "
   ]
  },
  {
   "cell_type": "markdown",
   "metadata": {},
   "source": [
    "To find the probability for at most 4 calls per hour, we are looking for,\n",
    "```P(X <= 4) = P(X=0) + P(X=1) + P(X=2) + P(X=3) + P(X=4)``` "
   ]
  },
  {
   "cell_type": "markdown",
   "metadata": {},
   "source": [
    "To write the program we take λ(lambda) as a ```avgrate``` and k as ```k```"
   ]
  },
  {
   "cell_type": "code",
   "execution_count": 1,
   "metadata": {},
   "outputs": [],
   "source": [
    "#importing math for using the value of e\n",
    "import math"
   ]
  },
  {
   "cell_type": "code",
   "execution_count": 2,
   "metadata": {},
   "outputs": [],
   "source": [
    "#creating a function for calculating factorial\n",
    "def fact(n):\n",
    "    if n == 0:\n",
    "        return 1\n",
    "    else:\n",
    "        return n * fact(n-1)"
   ]
  },
  {
   "cell_type": "code",
   "execution_count": 3,
   "metadata": {},
   "outputs": [],
   "source": [
    "#creating a function for finding the probability using poisson distribution\n",
    "def poisson(k, avgrate):\n",
    "    P = (math.exp(-avgrate) * (avgrate ** k))/fact(k)\n",
    "    return P"
   ]
  },
  {
   "cell_type": "code",
   "execution_count": 4,
   "metadata": {},
   "outputs": [],
   "source": [
    "#function to call at most of k calls\n",
    "def probability_for_at_most_k_calls(k, avgrate):\n",
    "    Px = 0.0\n",
    "    # for i to be from 0 to k (for our qsn k = 4 inclusive)\n",
    "    for i in range(k+1): \n",
    "        Px += poisson(i, avgrate)\n",
    "    return Px"
   ]
  },
  {
   "cell_type": "code",
   "execution_count": 7,
   "metadata": {},
   "outputs": [
    {
     "name": "stdout",
     "output_type": "stream",
     "text": [
      "The Probability of receiving at most 4 calls every hour is: 0.7254449533096046 or 72.54 %\n"
     ]
    }
   ],
   "source": [
    "#loading the value according to the question\n",
    "avgrate = 3.5\n",
    "k = 4\n",
    "#calling the function for calculation and storing the result in a variable \n",
    "Probability = probability_for_at_most_k_calls(k, avgrate)\n",
    "print(f\"The Probability of receiving at most {k} calls every hour is: {Probability} or {round(Probability*100,ndigits=2)} %\")\n"
   ]
  },
  {
   "cell_type": "code",
   "execution_count": null,
   "metadata": {},
   "outputs": [],
   "source": []
  }
 ],
 "metadata": {
  "kernelspec": {
   "display_name": "Python 3",
   "language": "python",
   "name": "python3"
  },
  "language_info": {
   "codemirror_mode": {
    "name": "ipython",
    "version": 3
   },
   "file_extension": ".py",
   "mimetype": "text/x-python",
   "name": "python",
   "nbconvert_exporter": "python",
   "pygments_lexer": "ipython3",
   "version": "3.12.2"
  }
 },
 "nbformat": 4,
 "nbformat_minor": 2
}
