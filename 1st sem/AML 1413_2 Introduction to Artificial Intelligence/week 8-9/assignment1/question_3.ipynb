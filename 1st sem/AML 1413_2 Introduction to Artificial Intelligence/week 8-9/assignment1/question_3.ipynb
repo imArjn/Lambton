{
 "cells": [
  {
   "cell_type": "markdown",
   "metadata": {},
   "source": [
    "## Question 3: \n",
    "\n",
    "There are 3 red and 7 black balls in a bag. You are asked to draw 3 balls at random (with replacement) in three different trials. Create a Python program to find the probability of getting two red balls and one black ball?  (4 Marks)\n",
    "\n",
    "![](images/3.jpg)"
   ]
  },
  {
   "cell_type": "code",
   "execution_count": 3,
   "metadata": {},
   "outputs": [
    {
     "name": "stdout",
     "output_type": "stream",
     "text": [
      "The probability of getting 2 red and 1 black ball from 3 draws in a bag containing 3 red and 7 black balls is: 0.189\n"
     ]
    }
   ],
   "source": [
    "def factorial(n : int) -> int: \n",
    "    \n",
    "    \"\"\"Calculate factorial of given number.\n",
    "\n",
    "    Args:\n",
    "        n (int): The number whos factorial is to be calculated.\n",
    "\n",
    "    Raises:\n",
    "        ValueError: If negative number.\n",
    "\n",
    "    Returns:\n",
    "        int: Factorial of the given int. \n",
    "    \"\"\"\n",
    "    # check if n < 0\n",
    "    if n < 0: \n",
    "        raise ValueError(\"Factorial of a negative number is not possible.\")\n",
    "    # check if n ==0 or n == 1\n",
    "    elif n == 0 or n == 1:\n",
    "        return 1 \n",
    "    # else, recursively calculate factorial\n",
    "    else:\n",
    "        return n * factorial(n -1 )\n",
    "    \n",
    "\n",
    "def combination(n : int, k: int) -> int:\n",
    "\n",
    "    \"\"\"Generate combination of given cards and drawn cards.\n",
    "\n",
    "    Args:\n",
    "        n (int): total cards based on condition.\n",
    "        k (int): number of drawn cards\n",
    "\n",
    "    Returns:\n",
    "        int: combination of n and k \n",
    "    \"\"\"\n",
    "    # find the combination of n and k \n",
    "    result = factorial(n) / (factorial(k) * factorial(n-k))\n",
    "\n",
    "    # Return the reuslt\n",
    "    return result\n",
    "\n",
    "def get_probability(n:int, k:int, p:float, q:float) -> float:\n",
    "    \"\"\"\n",
    "    This function returns the probability of getting an outcome k number of times out of n.\n",
    "    The formula for calculating the probability is: \n",
    "    \\tP(k;n,p) = C(n,k) * p^k * q^(n-k)\n",
    "\n",
    "    arguments:\n",
    "    n : int : the total number of attempts\n",
    "    k : int : the expected times to meet the desired outcome\n",
    "    p : float : the individual probability of getting the desired outcome\n",
    "    q : float : the individual probability of not getting the desired outcome (1-p)\n",
    "\n",
    "    returns:\n",
    "    probability : float : the probability of getting the desired outcome k number of times out of n\n",
    "    \"\"\"\n",
    "    probability:float = combination(n,k)*(p**k)*(q**(n-k))\n",
    "    return probability\n",
    "\n",
    "\n",
    "if __name__ == \"__main__\":\n",
    "    # The number of red balls and black balls \n",
    "    num_of_red_balls:int = 3\n",
    "    num_of_black_balls:int = 7\n",
    "\n",
    "    # calculating the individual probabilities of drawing a red and black ball from the bag\n",
    "    p_draw_red_ball:float = num_of_red_balls/(num_of_red_balls + num_of_black_balls)\n",
    "    p_draw_black_ball:float = num_of_black_balls/(num_of_black_balls + num_of_red_balls)\n",
    "\n",
    "    # Number of trials we have\n",
    "    trials:int = 3\n",
    "    # The number of red balls we desire in 3 trials\n",
    "    red_balls_in_trial:int = 2\n",
    "\n",
    "    # calculating the probability to meet our goal\n",
    "    probability:float = get_probability(trials,red_balls_in_trial, p_draw_red_ball,p_draw_black_ball)\n",
    "\n",
    "    print(f\"The probability of getting 2 red and 1 black ball from 3 draws in a bag containing 3 red and 7 black balls is: {probability}\")\n"
   ]
  }
 ],
 "metadata": {
  "kernelspec": {
   "display_name": "cuda",
   "language": "python",
   "name": "python3"
  },
  "language_info": {
   "codemirror_mode": {
    "name": "ipython",
    "version": 3
   },
   "file_extension": ".py",
   "mimetype": "text/x-python",
   "name": "python",
   "nbconvert_exporter": "python",
   "pygments_lexer": "ipython3",
   "version": "3.10.13"
  }
 },
 "nbformat": 4,
 "nbformat_minor": 2
}
