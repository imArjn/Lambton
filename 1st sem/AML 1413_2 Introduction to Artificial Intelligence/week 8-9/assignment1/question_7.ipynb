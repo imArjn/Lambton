{
 "cells": [
  {
   "cell_type": "markdown",
   "metadata": {},
   "source": [
    " ## Question 7 \n",
    "\n",
    "Create a Python program to find the Inverse of the following Matrix, using the concept shown in the class. Use of Linalg is restricted.\n",
    "\n",
    "[7 2] <br>\n",
    "[3 -5] <br>"
   ]
  },
  {
   "cell_type": "markdown",
   "metadata": {},
   "source": [
    "**Solution:**\n",
    "\n",
    "![](images/7.jpg)"
   ]
  },
  {
   "cell_type": "code",
   "execution_count": 1,
   "metadata": {},
   "outputs": [],
   "source": [
    "import numpy as np\n",
    "\n",
    "\n",
    "\n",
    "def determinant_2x2(arr: np.ndarray):\n",
    "    \"\"\"Calulate determinant of input matrix.\n",
    "\n",
    "    Args:\n",
    "        arr (np.ndarray): input matrix\n",
    "\n",
    "    Returns:\n",
    "        _type_: Resultant determinant.\n",
    "    \"\"\"\n",
    "    # find the determinant of 2x2 matarix\n",
    "    determinant = arr[0][0] * arr[1][1] - arr[0][1] * arr[1][0]\n",
    "\n",
    "    # return the determinant\n",
    "    return determinant\n",
    "\n",
    "\n",
    "def adjoint_2x2(arr : np.ndarray) -> np.ndarray:\n",
    "    \n",
    "    \"\"\"Calculate adjoint of input matrix.\n",
    "\n",
    "    Args:\n",
    "        arr (np.ndarray): input matrix\n",
    "\n",
    "    Returns:\n",
    "        np.ndarray: Resultant Adjoint matrix.\n",
    "    \"\"\"\n",
    "    # flatten out the given matrix\n",
    "    a, b , c ,d = arr.ravel()\n",
    "\n",
    "    # return the adjoint.\n",
    "    return np.array([[d , -b], [-c , a]])\n",
    "\n",
    "def inverse_2x2(arr : np.ndarray ) -> np.ndarray:\n",
    "\n",
    "\n",
    "    \"\"\"Calculate inverse of 2x2 matrix.\n",
    "\n",
    "    Args:\n",
    "        arr (np.ndarray): input matrix\n",
    "\n",
    "    Returns:\n",
    "        np.ndarray: inverse of given matrix\n",
    "    \"\"\"\n",
    "    # check shape of input matrix, if other that 2x2 assert message. \n",
    "    assert arr.shape == (2,2), \"Can only invert a 2x2 matrix\"\n",
    "\n",
    "    # Calculate the determinant\n",
    "    determinant = determinant_2x2(arr=arr)\n",
    "\n",
    "    # if determinant is zero, assert message.\n",
    "    assert determinant != 0, \"Determinant is equal to 0, matrix is invertible.\"\n",
    "\n",
    "    # calculate the adjoint matrix\n",
    "    adjoint_mat = adjoint_2x2(arr=arr)\n",
    "\n",
    "    # return the inverse\n",
    "    return (1 / determinant) * adjoint_mat\n",
    "\n",
    "\n",
    "\n",
    "\n"
   ]
  },
  {
   "cell_type": "code",
   "execution_count": 2,
   "metadata": {},
   "outputs": [],
   "source": [
    "# define the input matirx \n",
    "input_array = np.array(\n",
    "    [[7,2], [3,-5]]\n",
    ")"
   ]
  },
  {
   "cell_type": "code",
   "execution_count": 3,
   "metadata": {},
   "outputs": [
    {
     "name": "stdout",
     "output_type": "stream",
     "text": [
      "Inverse of given matrix is :\n",
      "[[ 0.12195122  0.04878049]\n",
      " [ 0.07317073 -0.17073171]]\n"
     ]
    }
   ],
   "source": [
    "# calculate the inverse of the given matrix.\n",
    "inverse = inverse_2x2(input_array)\n",
    "\n",
    "print(f\"Inverse of given matrix is :\\n{inverse}\")"
   ]
  },
  {
   "cell_type": "markdown",
   "metadata": {},
   "source": [
    "Checking validity of inverse : \n",
    "\n",
    "$$\n",
    "A \\times A^{-1} = A^{-1} \\times A = I\n",
    "$$"
   ]
  },
  {
   "cell_type": "code",
   "execution_count": 4,
   "metadata": {},
   "outputs": [
    {
     "name": "stdout",
     "output_type": "stream",
     "text": [
      "Inverse it correct.\n"
     ]
    }
   ],
   "source": [
    "# find dot product between A and A inverse\n",
    "mat_product = np.dot(input_array, inverse)\n",
    "\n",
    "# check the validity of above condition. \n",
    "valid = np.allclose(mat_product , np.eye(2))\n",
    "\n",
    "if valid:\n",
    "    print(\"Inverse it correct.\")"
   ]
  }
 ],
 "metadata": {
  "kernelspec": {
   "display_name": "cuda",
   "language": "python",
   "name": "python3"
  },
  "language_info": {
   "codemirror_mode": {
    "name": "ipython",
    "version": 3
   },
   "file_extension": ".py",
   "mimetype": "text/x-python",
   "name": "python",
   "nbconvert_exporter": "python",
   "pygments_lexer": "ipython3",
   "version": "3.10.13"
  }
 },
 "nbformat": 4,
 "nbformat_minor": 2
}
