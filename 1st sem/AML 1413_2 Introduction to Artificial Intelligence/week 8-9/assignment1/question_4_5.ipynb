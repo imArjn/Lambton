{
 "cells": [
  {
   "cell_type": "markdown",
   "metadata": {},
   "source": [
    "## Question 4:\n",
    "\n",
    "A Customer Call center receives on average 3.5 calls every hour. Write a Python Program to find the probability that it will receive at most 4 calls every hour? (4 Marks)\n",
    "\n",
    "![](images/4.jpg)"
   ]
  },
  {
   "cell_type": "code",
   "execution_count": 4,
   "metadata": {},
   "outputs": [],
   "source": [
    "import math\n",
    "\n",
    "def factorial(n : int) -> int: \n",
    "    \"\"\"Calculate factorial of given number.\n",
    "\n",
    "    Args:\n",
    "        n (int): _description_\n",
    "\n",
    "    Raises:\n",
    "        ValueError: If negative number.\n",
    "\n",
    "    Returns:\n",
    "        int: Factorial of the given int. \n",
    "    \"\"\"\n",
    "    # check if n < 0\n",
    "    if n < 0: \n",
    "        raise ValueError(\"Factorial of a negative number is not possible.\")\n",
    "    # check if n ==0 or n == 1\n",
    "    elif n == 0 or n == 1:\n",
    "        return 1 \n",
    "    # else, recursively calculate factorial\n",
    "    else:\n",
    "        return n * factorial(n -1 )\n",
    "\n",
    "     \n",
    "\n",
    "def cal_possion_pmf( lambda_  , k ) -> float:\n",
    "    \"\"\"Calculate the Poisson PMF.\n",
    "\n",
    "    Args:\n",
    "        lambda_ : Rate of occurance.\n",
    "        k : Number of occurances\n",
    "\n",
    "    Returns:\n",
    "        float: Resultant probability\n",
    "    \"\"\"\n",
    "\n",
    "    total_prob = 0\n",
    "\n",
    "    # for each value of k, calculate\n",
    "    for i in range(k + 1): # get i = 0, 1, 2, 3, 4\n",
    "        # calculate numerator\n",
    "        numerator =  math.pow(lambda_, i) *  math.exp(-lambda_) \n",
    "\n",
    "        # calculate Determinator\n",
    "        denominator = factorial(i)\n",
    "\n",
    "        # Summation operation\n",
    "        total_prob += numerator / denominator\n",
    "\n",
    "    return total_prob\n",
    "\n"
   ]
  },
  {
   "cell_type": "code",
   "execution_count": 5,
   "metadata": {},
   "outputs": [
    {
     "name": "stdout",
     "output_type": "stream",
     "text": [
      "Probability of receiving at most 4 calls every hour is : 72.54 % \n"
     ]
    }
   ],
   "source": [
    "# 3.5 calls per hour so labmbda is 3.5\n",
    "lambda_= 3.5 \n",
    "\n",
    "# at most 4 calls per hour so k is 4\n",
    "k = 4  \n",
    "\n",
    "# calculate the result.\n",
    "result = round(cal_possion_pmf(lambda_= lambda_, k = k ) * 100, 2)\n",
    "\n",
    "print(f\"Probability of receiving at most 4 calls every hour is : {result} % \")"
   ]
  },
  {
   "cell_type": "markdown",
   "metadata": {},
   "source": [
    "## Question 5:\n",
    "\n",
    "The Student Services at Cestar College receive 2 phone calls per hour. Write a Python Program to find the probability that a phone call will come within the next hour. (4 Marks)\n",
    "\n",
    "![](images/5.jpg)\n",
    "\n"
   ]
  },
  {
   "cell_type": "markdown",
   "metadata": {},
   "source": [
    "$\\lambda = 2$ phone calls per hour <br>\n",
    "\n",
    "$k = $ at least 1 call per hour \n",
    "$k = 1, 2, 3 \\ldots$\n",
    "\n",
    "We know that: \n",
    "$$\n",
    " p(0) + p(1) + p(2) + \\ldots = 1 \n",
    "$$\n",
    "\n",
    "$$\n",
    " p(0) + p(x \\geq 1) = 1 \n",
    "\n",
    "$$\n",
    "\n",
    "$$\n",
    "p(x \\geq 1) = 1 - p(0)\n",
    "\n",
    "$$"
   ]
  },
  {
   "cell_type": "code",
   "execution_count": 6,
   "metadata": {},
   "outputs": [
    {
     "name": "stdout",
     "output_type": "stream",
     "text": [
      "Probability of receiving at least one call : 86.47 % \n"
     ]
    }
   ],
   "source": [
    "# Calculate p(0)\n",
    "no_calls_prob = cal_possion_pmf(lambda_=2 ,k= 0)\n",
    "\n",
    "# calculate 1 - p(0) and convert to %\n",
    "prob_at_least_one_call = round(1 - no_calls_prob, 4 ) * 100\n",
    "\n",
    "print(f\"Probability of receiving at least one call : {prob_at_least_one_call} % \")"
   ]
  }
 ],
 "metadata": {
  "kernelspec": {
   "display_name": "Python 3",
   "language": "python",
   "name": "python3"
  },
  "language_info": {
   "codemirror_mode": {
    "name": "ipython",
    "version": 3
   },
   "file_extension": ".py",
   "mimetype": "text/x-python",
   "name": "python",
   "nbconvert_exporter": "python",
   "pygments_lexer": "ipython3",
   "version": "3.10.13"
  }
 },
 "nbformat": 4,
 "nbformat_minor": 2
}
