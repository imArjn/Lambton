{
 "cells": [
  {
   "cell_type": "markdown",
   "metadata": {},
   "source": [
    "## Question 2: \n",
    "\n",
    "Bag I contain 2 red and 8 black balls while another Bag II contains 5 red and 5 black balls. One ball is drawn at random from one of the bags, and it is found to be black. Create a Python Program to find the probability that it was drawn from Bag 2.  \n",
    "\n",
    "![](images/2.jpg)"
   ]
  },
  {
   "cell_type": "code",
   "execution_count": 2,
   "metadata": {},
   "outputs": [
    {
     "name": "stdout",
     "output_type": "stream",
     "text": [
      "Probability of getting a black ball from bag 2 is: 0.3846153846153846\n"
     ]
    }
   ],
   "source": [
    "def bayes_theorem(p_draw:float, p_draw_another:float, p_bag_choice:float) -> float:\n",
    "    \n",
    "    \"\"\"\n",
    "    This function calculates the joint probability of each bag. It applies bayes' theorem to calculate the probability.\n",
    "\n",
    "    arguments:\n",
    "    p_draw: float: This is the probability of drawing a specific ball from one bag\n",
    "    p_draw_another: float: This is the probability of drawing a specific ball from another bag\n",
    "    p_bag_choice: float: This is the probability of choosing a bag among all the bags\n",
    "\n",
    "    \n",
    "    returns:\n",
    "    probability: float: The joint probability of drawing a specific ball from a bag\n",
    "    \"\"\"\n",
    "    probability:float = (p_draw * p_bag_choice)/((p_draw_another * p_bag_choice)+(p_draw * p_bag_choice))\n",
    "    return probability\n",
    "\n",
    "def calculate_individual_probability(black_and_red:list[dict[str:int]]) -> dict[str:int]:\n",
    "    \"\"\"\n",
    "    This function calculates the individual probability for each bag in the given input. Each bag is represented by a dictionary within a list.\n",
    "\n",
    "    arguments:\n",
    "    black_and_red : list[dict[str:int]] : A list containing dictionaries with counts for each color of the ball\n",
    "\n",
    "    returns:\n",
    "    probability_dict : dict[str:int] : A dictionary with individual probability for each color of the ball in the bag\n",
    "    \"\"\"\n",
    "    probability_dict = {}\n",
    "    counter:int = 1\n",
    "    for element in black_and_red:\n",
    "        total:int = sum(element.values())\n",
    "        probability_dict[f\"p_black_in_{counter}\"] = element[\"black\"]/total\n",
    "        probability_dict[f\"p_red_in_{counter}\"] = element[\"red\"]/total\n",
    "        counter += 1\n",
    "    return probability_dict\n",
    "\n",
    "\n",
    "# Main driving code\n",
    "if __name__ == \"__main__\":\n",
    "    # The bags are represented by a list containing dictionaries with counts for each color of the balls\n",
    "    bags_with_balls:list[dict[str:int]] = [{\"black\":8, \"red\":2},{\"black\":5, \"red\":5}]\n",
    "\n",
    "    # The count for number of bags\n",
    "    number_of_bags:int = len(bags_with_balls)\n",
    "\n",
    "    # Calculating individual probabilities for every color ball within every bag\n",
    "    individual_probability:float = calculate_individual_probability(bags_with_balls)\n",
    "\n",
    "    # The probability wer're supposed to calculate: Black ball in bag 2\n",
    "    my_selection:dict[str:str] = {\"color\":\"black\", \"bag\":\"2\"}\n",
    "\n",
    "    # Calculating the joint probability using the bayes theorem\n",
    "    joint_probability:float = bayes_theorem(individual_probability[f\"p_black_in_{my_selection['bag']}\"], individual_probability[f\"p_{my_selection['color']}_in_1\"], 1/number_of_bags )\n",
    "\n",
    "    # Displaying the result\n",
    "    print(f\"Probability of getting a black ball from bag 2 is: {joint_probability}\")\n"
   ]
  }
 ],
 "metadata": {
  "kernelspec": {
   "display_name": "Python 3",
   "language": "python",
   "name": "python3"
  },
  "language_info": {
   "codemirror_mode": {
    "name": "ipython",
    "version": 3
   },
   "file_extension": ".py",
   "mimetype": "text/x-python",
   "name": "python",
   "nbconvert_exporter": "python",
   "pygments_lexer": "ipython3",
   "version": "3.10.13"
  }
 },
 "nbformat": 4,
 "nbformat_minor": 2
}
