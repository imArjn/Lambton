{
 "cells": [
  {
   "cell_type": "markdown",
   "metadata": {},
   "source": [
    "## Question 6: \n",
    "\n",
    "Create a Python Program to generate the Eigen Value and Eigen Vector for the following Matrix (3x3 dimension) (4 Marks)\n",
    "<br>\n",
    "[8  5  3]<br>\n",
    "[5  6  5]<br>\n",
    "[9  7  4]<br>"
   ]
  },
  {
   "cell_type": "markdown",
   "metadata": {},
   "source": [
    "**Solution:**\n",
    "\n",
    "\n",
    "![](images/six/1.jpg)\n",
    "![](images/six/2.jpg)\n"
   ]
  },
  {
   "cell_type": "code",
   "execution_count": 1,
   "metadata": {},
   "outputs": [],
   "source": [
    "import numpy as np\n",
    "\n",
    "# Given input 3x3 matrix.\n",
    "A = np.array([[8, 5, 3],\n",
    "              [5, 6, 5],\n",
    "              [9, 7, 4]])\n",
    "\n",
    "# Calculate the eigenvalues and eigenvectors of the matrix.\n",
    "eigen_values, eigen_vectors = np.linalg.eig(A)\n",
    "\n",
    "# Sorts eigne value's index\n",
    "eigen_values_sorted_index = np.argsort(eigen_values)[::-1] \n",
    "\n",
    "# Get the sorted eigen values\n",
    "eigen_values_sorted = eigen_values[eigen_values_sorted_index]\n",
    "\n",
    "# Sort Eigen vecotrs based on values\n",
    "eigen_vectors_sorted = eigen_vectors[:,eigen_values_sorted_index]\n",
    "\n"
   ]
  },
  {
   "cell_type": "code",
   "execution_count": 2,
   "metadata": {},
   "outputs": [
    {
     "name": "stdout",
     "output_type": "stream",
     "text": [
      "Sorted Eigen Values are : [16.9258042   1.74957549 -0.67537969]\n",
      "Sorted Eigen Vectors are : [[-0.52409766 -0.60009754  0.11371532]\n",
      " [-0.54089356  0.79623451 -0.64876924]\n",
      " [-0.65784177 -0.0767694   0.75244089]]\n"
     ]
    }
   ],
   "source": [
    "print(f\"Sorted Eigen Values are : {eigen_values_sorted}\")\n",
    "print(f\"Sorted Eigen Vectors are : {eigen_vectors_sorted}\")\n"
   ]
  }
 ],
 "metadata": {
  "kernelspec": {
   "display_name": "cuda",
   "language": "python",
   "name": "python3"
  },
  "language_info": {
   "codemirror_mode": {
    "name": "ipython",
    "version": 3
   },
   "file_extension": ".py",
   "mimetype": "text/x-python",
   "name": "python",
   "nbconvert_exporter": "python",
   "pygments_lexer": "ipython3",
   "version": "3.10.13"
  }
 },
 "nbformat": 4,
 "nbformat_minor": 2
}
