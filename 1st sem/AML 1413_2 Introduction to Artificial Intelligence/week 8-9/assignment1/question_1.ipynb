{
 "cells": [
  {
   "cell_type": "markdown",
   "metadata": {},
   "source": [
    "## Question 1: \n",
    "\n",
    "You draw two cards from pack of 52 shuffled cards (without replacement). Create a Python Program to generate a Probability Distribution Table for getting zero to at most 2 ACES. (4 Marks)\n",
    "\n",
    "![](images/one/1.jpg)\n",
    "![](images/one/2.jpg)\n"
   ]
  },
  {
   "cell_type": "code",
   "execution_count": 1,
   "metadata": {},
   "outputs": [],
   "source": [
    "def factorial(n : int) -> int: \n",
    "    \n",
    "    \"\"\"Calculate factorial of given number.\n",
    "\n",
    "    Args:\n",
    "        n (int): The number whos factorial is to be calculated.\n",
    "\n",
    "    Raises:\n",
    "        ValueError: If negative number.\n",
    "\n",
    "    Returns:\n",
    "        int: Factorial of the given int. \n",
    "    \"\"\"\n",
    "    # check if n < 0\n",
    "    if n < 0: \n",
    "        raise ValueError(\"Factorial of a negative number is not possible.\")\n",
    "    # check if n ==0 or n == 1\n",
    "    elif n == 0 or n == 1:\n",
    "        return 1 \n",
    "    # else, recursively calculate factorial\n",
    "    else:\n",
    "        return n * factorial(n -1 )\n",
    "    \n",
    "\n",
    "def combination(n : int, k: int) -> int:\n",
    "\n",
    "    \"\"\"Generate combination of given cards and drawn cards.\n",
    "\n",
    "    Args:\n",
    "        n (int): total cards based on condition.\n",
    "        k (int): number of drawn cards\n",
    "\n",
    "    Returns:\n",
    "        int: combination of n and k \n",
    "    \"\"\"\n",
    "    # find the combination of n and k \n",
    "    result = factorial(n) / (factorial(k) * factorial(n-k))\n",
    "\n",
    "    # Return the reuslt\n",
    "    return result"
   ]
  },
  {
   "cell_type": "code",
   "execution_count": 2,
   "metadata": {},
   "outputs": [
    {
     "name": "stdout",
     "output_type": "stream",
     "text": [
      "Probability of getting N aces: \n",
      "n \t p(n)\n",
      "0 \t 0.851\n",
      "1 \t 0.145\n",
      "2 \t 0.005\n"
     ]
    }
   ],
   "source": [
    "# Define total number of cards in the deck\n",
    "number_of_cards = 52\n",
    "\n",
    "# Define total number of Aces in the deck\n",
    "number_of_aces = 4 \n",
    "\n",
    "# Define total number of Drawn cards from the deck\n",
    "drawn_cards = 2\n",
    "\n",
    "# Find total combinations\n",
    "total_possible_outcomes = combination(52, 2)\n",
    "\n",
    "\n",
    "# probability of 0 aces\n",
    "zero_ace = combination(number_of_cards - number_of_aces , 2) / total_possible_outcomes\n",
    "\n",
    "# probability of 1 ace\n",
    "one_ace = (combination(number_of_aces, 1) * combination(number_of_cards - number_of_aces , 1)) / total_possible_outcomes\n",
    "\n",
    "# probabily of 2 aces\n",
    "two_ace = combination(number_of_aces, 2) / total_possible_outcomes\n",
    "\n",
    "print(\"Probability of getting N aces: \")\n",
    "print(\"n \\t p(n)\")\n",
    "for i,item in enumerate([zero_ace, one_ace, two_ace]):\n",
    "    print(f\"{i} \\t {round(item , 3)}\")"
   ]
  }
 ],
 "metadata": {
  "kernelspec": {
   "display_name": "cuda",
   "language": "python",
   "name": "python3"
  },
  "language_info": {
   "codemirror_mode": {
    "name": "ipython",
    "version": 3
   },
   "file_extension": ".py",
   "mimetype": "text/x-python",
   "name": "python",
   "nbconvert_exporter": "python",
   "pygments_lexer": "ipython3",
   "version": "3.10.13"
  }
 },
 "nbformat": 4,
 "nbformat_minor": 2
}
