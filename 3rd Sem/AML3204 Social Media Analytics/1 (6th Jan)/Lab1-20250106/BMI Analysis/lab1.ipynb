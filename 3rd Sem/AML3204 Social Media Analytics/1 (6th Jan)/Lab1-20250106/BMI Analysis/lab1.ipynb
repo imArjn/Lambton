{
 "cells": [
  {
   "cell_type": "code",
   "execution_count": 8,
   "metadata": {},
   "outputs": [
    {
     "name": "stdout",
     "output_type": "stream",
     "text": [
      "    Values\n",
      "0      180\n",
      "1      180\n",
      "2      170\n",
      "3      200\n",
      "4      170\n",
      "5      180\n",
      "6      140\n",
      "7      190\n",
      "8      180\n",
      "9      130\n",
      "10     150\n",
      "11     220\n",
      "12     185\n",
      "13     110\n",
      "14     165\n",
      "15     300\n",
      "16     150\n",
      "17      86\n",
      "18     140\n",
      "19     300\n",
      "20     155\n",
      "21     150\n",
      "22     182\n",
      "23     178\n",
      "24     170\n",
      "25     150\n"
     ]
    }
   ],
   "source": [
    "import pandas as pd\n",
    "\n",
    "# Read a tab-separated file\n",
    "df = pd.read_csv('hw.txt',names=[\"Values\"])\n",
    "# Display the DataFrame\n",
    "print(df)\n"
   ]
  },
  {
   "cell_type": "code",
   "execution_count": null,
   "metadata": {},
   "outputs": [],
   "source": []
  },
  {
   "cell_type": "code",
   "execution_count": 9,
   "metadata": {},
   "outputs": [
    {
     "name": "stdout",
     "output_type": "stream",
     "text": [
      "Category: underweight\n",
      "The BMI of Person 4 is: 18.2379\n",
      "The BMI of Person 6 is: 14.6092\n",
      "The BMI of Person 8 is: 17.3737\n",
      "The average of the group underweight is 16.7403\n",
      "\n",
      "Category: normal_weight\n",
      "The BMI of Person 11 is: 24.4261\n",
      "The BMI of Person 12 is: 23.5923\n",
      "The average of the group normal_weight is 24.0092\n",
      "\n",
      "Category: overweight\n",
      "The BMI of Person 0 is: 25.2525\n",
      "The BMI of Person 2 is: 28.3108\n",
      "The BMI of Person 10 is: 28.3795\n",
      "The average of the group overweight is 27.3143\n",
      "\n",
      "Category: obese\n",
      "The BMI of Person 1 is: 31.4564\n",
      "The BMI of Person 3 is: 44.0631\n",
      "The BMI of Person 5 is: 44.4444\n",
      "The BMI of Person 7 is: 50.0877\n",
      "The BMI of Person 9 is: 69.5733\n",
      "The average of the group obese is 47.925\n",
      "\n",
      "The file has the records for: 13 persons\n",
      "The total average BMI of all 13 people is: 32.2929\n"
     ]
    }
   ],
   "source": [
    "with open(\"hw.txt\", 'r') as f:\n",
    "    lines = f.readlines()\n",
    "\n",
    "# Ensure proper stripping and conversion\n",
    "lines = [int(x.strip()) for x in lines if x.strip()]\n",
    "\n",
    "# Initialize user dictionary\n",
    "user = {}\n",
    "for i in range(0, len(lines), 2):\n",
    "    user[f\"Person {i // 2}\"] = {\n",
    "        \"height\": lines[i] / 100,\n",
    "        \"weight\": lines[i + 1] * (1 / 2.2),\n",
    "    }\n",
    "\n",
    "# Calculate BMI and store in user dictionary\n",
    "for k, v in user.items():\n",
    "    BMI = v[\"weight\"] / (v[\"height\"]) ** 2\n",
    "    user[k][\"BMI\"] = BMI\n",
    "\n",
    "# Categorize into groups\n",
    "groups = {\"underweight\": [], \"normal_weight\": [], \"overweight\": [], \"obese\": []}\n",
    "\n",
    "for k, v in user.items():\n",
    "    if v[\"BMI\"] <= 18.5:\n",
    "        groups[\"underweight\"].append(k)\n",
    "    elif v[\"BMI\"] <= 24.9:\n",
    "        groups[\"normal_weight\"].append(k)\n",
    "    elif v[\"BMI\"] <= 29.9:\n",
    "        groups[\"overweight\"].append(k)\n",
    "    else:\n",
    "        groups[\"obese\"].append(k)\n",
    "\n",
    "# Calculate averages and display results\n",
    "total_sum = 0\n",
    "counter = 0\n",
    "\n",
    "for group, members in groups.items():\n",
    "    group_sum = 0\n",
    "    print(f\"Category: {group}\")\n",
    "    for member in members:\n",
    "        print(f\"The BMI of {member} is: {round(user[member]['BMI'], 4)}\")\n",
    "        group_sum += user[member][\"BMI\"]\n",
    "\n",
    "    if len(members) > 0:\n",
    "        print(f\"The average of the group {group} is {round(group_sum / len(members), 4)}\", end=\"\\n\\n\")\n",
    "        total_sum += group_sum\n",
    "        counter += len(members)\n",
    "    else:\n",
    "        print(f\"No members in group {group}\", end=\"\\n\\n\")\n",
    "\n",
    "if counter > 0:\n",
    "    print(f\"The file has the records for: {counter} persons\")\n",
    "    print(f\"The total average BMI of all {counter} people is: {round(total_sum / counter, 4)}\")\n",
    "else:\n",
    "    print(\"No data available to calculate the total average BMI.\")\n"
   ]
  },
  {
   "cell_type": "code",
   "execution_count": null,
   "metadata": {},
   "outputs": [],
   "source": []
  }
 ],
 "metadata": {
  "kernelspec": {
   "display_name": "Python 3",
   "language": "python",
   "name": "python3"
  },
  "language_info": {
   "codemirror_mode": {
    "name": "ipython",
    "version": 3
   },
   "file_extension": ".py",
   "mimetype": "text/x-python",
   "name": "python",
   "nbconvert_exporter": "python",
   "pygments_lexer": "ipython3",
   "version": "3.11.9"
  }
 },
 "nbformat": 4,
 "nbformat_minor": 2
}
