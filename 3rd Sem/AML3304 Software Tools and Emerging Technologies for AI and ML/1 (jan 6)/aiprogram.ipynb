{
 "cells": [
  {
   "cell_type": "code",
   "execution_count": 1,
   "metadata": {},
   "outputs": [],
   "source": [
    "import openai"
   ]
  },
  {
   "cell_type": "code",
   "execution_count": null,
   "metadata": {},
   "outputs": [
    {
     "name": "stdout",
     "output_type": "stream",
     "text": [
      "Welcome to Your Personal ChatGPT Interface!\n",
      "An error occurred: Error code: 429 - {'error': {'message': 'You exceeded your current quota, please check your plan and billing details. For more information on this error, read the docs: https://platform.openai.com/docs/guides/error-codes/api-errors.', 'type': 'insufficient_quota', 'param': None, 'code': 'insufficient_quota'}}\n",
      "An error occurred: Error code: 429 - {'error': {'message': 'You exceeded your current quota, please check your plan and billing details. For more information on this error, read the docs: https://platform.openai.com/docs/guides/error-codes/api-errors.', 'type': 'insufficient_quota', 'param': None, 'code': 'insufficient_quota'}}\n",
      "An error occurred: Error code: 429 - {'error': {'message': 'You exceeded your current quota, please check your plan and billing details. For more information on this error, read the docs: https://platform.openai.com/docs/guides/error-codes/api-errors.', 'type': 'insufficient_quota', 'param': None, 'code': 'insufficient_quota'}}\n"
     ]
    }
   ],
   "source": [
    "# Replace 'YOUR_API_KEY' with your actual OpenAI API key\n",
    "# openai.api_key = os.getenv(\"OPENAI_API_KEY\")\n",
    "openai.api_key = \"Your Secret key here\"\n",
    "# Model to use\n",
    "MODEL = \"gpt-3.5-turbo\"  #or any other model\n",
    "# Helper function to send the prompt and receive responses\n",
    "def generate_response(prompt):\n",
    "    try:\n",
    "        chat_completion = openai.chat.completions.create(\n",
    "            model = MODEL,\n",
    "            messages = [{\"role\": \"user\", \"content\": prompt}]\n",
    "        )\n",
    "        response = chat_completion.choices[0].message.content\n",
    "        return response\n",
    "    except Exception as e:\n",
    "        print(f\"An error occurred: {e}\")\n",
    "        return None\n",
    "\n",
    "# **Part 2: Basic Command Line Interface (CLI)**\n",
    "if __name__ == \"__main__\":\n",
    "    print(\"Welcome to Your Personal ChatGPT Interface!\")\n",
    "    while True:\n",
    "        user_prompt = input(\"You: \")\n",
    "        if user_prompt.lower() == 'exit':\n",
    "            print(\"Exiting Chat Interface\")\n",
    "            break\n",
    "        response = generate_response(user_prompt)\n",
    "        if response:\n",
    "            print(f\"ChatGPT: {response}\\n\")\n",
    "\n",
    "# **Part 3: Experiment**\n",
    "# Try different prompts and see how the model responds.\n",
    "# Experiment with different models and see the performance difference\n",
    "# Consider how you would use this basic functionality to create different applications\n"
   ]
  },
  {
   "cell_type": "code",
   "execution_count": null,
   "metadata": {},
   "outputs": [],
   "source": []
  }
 ],
 "metadata": {
  "kernelspec": {
   "display_name": "Python 3",
   "language": "python",
   "name": "python3"
  },
  "language_info": {
   "codemirror_mode": {
    "name": "ipython",
    "version": 3
   },
   "file_extension": ".py",
   "mimetype": "text/x-python",
   "name": "python",
   "nbconvert_exporter": "python",
   "pygments_lexer": "ipython3",
   "version": "3.11.9"
  }
 },
 "nbformat": 4,
 "nbformat_minor": 2
}
