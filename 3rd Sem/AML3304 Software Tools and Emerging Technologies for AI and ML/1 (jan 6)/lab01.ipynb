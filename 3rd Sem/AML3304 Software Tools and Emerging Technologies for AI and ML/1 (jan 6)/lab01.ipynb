{
 "cells": [
  {
   "cell_type": "code",
   "execution_count": 1,
   "metadata": {},
   "outputs": [
    {
     "name": "stderr",
     "output_type": "stream",
     "text": [
      "[nltk_data] Downloading package punkt to\n",
      "[nltk_data]     C:\\Users\\sthaa\\AppData\\Roaming\\nltk_data...\n",
      "[nltk_data]   Package punkt is already up-to-date!\n",
      "[nltk_data] Downloading package punkt_tab to\n",
      "[nltk_data]     C:\\Users\\sthaa\\AppData\\Roaming\\nltk_data...\n",
      "[nltk_data]   Package punkt_tab is already up-to-date!\n",
      "[nltk_data] Downloading package stopwords to\n",
      "[nltk_data]     C:\\Users\\sthaa\\AppData\\Roaming\\nltk_data...\n",
      "[nltk_data]   Package stopwords is already up-to-date!\n"
     ]
    },
    {
     "data": {
      "text/plain": [
       "True"
      ]
     },
     "execution_count": 1,
     "metadata": {},
     "output_type": "execute_result"
    }
   ],
   "source": [
    "import nltk\n",
    "from nltk.tokenize import word_tokenize\n",
    "import numpy as np\n",
    "from sklearn.feature_extraction.text import TfidfVectorizer\n",
    "from sklearn.metrics.pairwise import cosine_similarity\n",
    "import string\n",
    "\n",
    "# Download NLTK resources (run this once per Colab session)\n",
    "nltk.download('punkt')\n",
    "nltk.download('punkt_tab')\n",
    "nltk.download('stopwords')"
   ]
  },
  {
   "cell_type": "code",
   "execution_count": 2,
   "metadata": {},
   "outputs": [],
   "source": [
    "corpus = \"\"\"The Sunshine-Filled Afternoon of Timmy and Fido\n",
    "\n",
    "The sky was a brilliant blue, with just a few wispy clouds scattered about, as Timmy and his trusty companion Fido prepared for their adventure to the park. Fido, a playful and energetic golden retriever, had been waiting eagerly by the door, his tail wagging excitedly as he clutched his favorite toy, a bright red ball.\n",
    "\n",
    "As they strolled through the park's gates, the fresh air and lush green grass filled their senses. Children's laughter and the chirping of birds created a lively atmosphere, setting the tone for a fun-filled afternoon. Timmy, with his messy brown hair and wide smile, couldn't wait to spend quality time with his best friend.\n",
    "\n",
    "*Fido's Joy is Contagious*\n",
    "\n",
    "As they made their way to the open field, Fido's enthusiasm became contagious. Timmy couldn't help but giggle at Fido's antics, as the dog bounded ahead, his red ball held tightly in his jaws. The sun cast a warm glow over the scene, illuminating the vibrant colors of the ball and Fido's gleaming coat.\n",
    "\n",
    "With a burst of energy, Fido suddenly darted off, racing across the field with his prized ball. Timmy followed close behind, his eyes shining with excitement. The wind ruffled Timmy's hair as he chased after Fido, the sound of their laughter and Fido's barks filling the air.\n",
    "\n",
    "*A Game of Catch*\n",
    "\n",
    "As they reached the center of the field, Timmy called out to Fido, \"Hey buddy, want to play catch?\" Fido, understanding the cue, promptly dropped the ball at Timmy's feet. With a grin, Timmy picked up the ball and tossed it high into the air. Fido, with lightning-fast reflexes, leapt into action, catching the ball in mid-air.\n",
    "\n",
    "The game of catch continued, with Timmy and Fido taking turns throwing and catching the ball. Their joy was palpable, as they reveled in the simple pleasure of playing together. As the afternoon wore on, the sun began to dip, casting a warm orange glow over the park.\n",
    "\n",
    "*A Heartwarming Conclusion*\n",
    "\n",
    "As the sun began to set, Timmy and Fido settled down on a nearby bench, exhausted but content. Fido, still clutching his beloved red ball, nuzzled Timmy's hand, his tail wagging softly. Timmy smiled, scratching Fido behind the ears, \"You're the best buddy a guy could ask for, Fido.\"\n",
    "\n",
    "As they sat together, watching the stars begin to twinkle in the evening sky, Timmy and Fido shared a special moment, one that would be etched in their memories forever. The red ball, now worn and faded, had brought them even closer together, a symbol of the unbreakable bond between a boy and his loyal companion.\"\"\""
   ]
  },
  {
   "cell_type": "code",
   "execution_count": 3,
   "metadata": {},
   "outputs": [
    {
     "name": "stdout",
     "output_type": "stream",
     "text": [
      "The Corpus used for this example is : \n",
      " The Sunshine-Filled Afternoon of Timmy and Fido\n",
      "\n",
      "The sky was a brilliant blue, with just a few wispy clouds scattered about, as Timmy and his trusty companion Fido prepared for their adventure to the park. Fido, a playful and energetic golden retriever, had been waiting eagerly by the door, his tail wagging excitedly as he clutched his favorite toy, a bright red ball.\n",
      "\n",
      "As they strolled through the park's gates, the fresh air and lush green grass filled their senses. Children's laughter and the chirping of birds created a lively atmosphere, setting the tone for a fun-filled afternoon. Timmy, with his messy brown hair and wide smile, couldn't wait to spend quality time with his best friend.\n",
      "\n",
      "*Fido's Joy is Contagious*\n",
      "\n",
      "As they made their way to the open field, Fido's enthusiasm became contagious. Timmy couldn't help but giggle at Fido's antics, as the dog bounded ahead, his red ball held tightly in his jaws. The sun cast a warm glow over the scene, illuminating the vibrant colors of the ball and Fido's gleaming coat.\n",
      "\n",
      "With a burst of energy, Fido suddenly darted off, racing across the field with his prized ball. Timmy followed close behind, his eyes shining with excitement. The wind ruffled Timmy's hair as he chased after Fido, the sound of their laughter and Fido's barks filling the air.\n",
      "\n",
      "*A Game of Catch*\n",
      "\n",
      "As they reached the center of the field, Timmy called out to Fido, \"Hey buddy, want to play catch?\" Fido, understanding the cue, promptly dropped the ball at Timmy's feet. With a grin, Timmy picked up the ball and tossed it high into the air. Fido, with lightning-fast reflexes, leapt into action, catching the ball in mid-air.\n",
      "\n",
      "The game of catch continued, with Timmy and Fido taking turns throwing and catching the ball. Their joy was palpable, as they reveled in the simple pleasure of playing together. As the afternoon wore on, the sun began to dip, casting a warm orange glow over the park.\n",
      "\n",
      "*A Heartwarming Conclusion*\n",
      "\n",
      "As the sun began to set, Timmy and Fido settled down on a nearby bench, exhausted but content. Fido, still clutching his beloved red ball, nuzzled Timmy's hand, his tail wagging softly. Timmy smiled, scratching Fido behind the ears, \"You're the best buddy a guy could ask for, Fido.\"\n",
      "\n",
      "As they sat together, watching the stars begin to twinkle in the evening sky, Timmy and Fido shared a special moment, one that would be etched in their memories forever. The red ball, now worn and faded, had brought them even closer together, a symbol of the unbreakable bond between a boy and his loyal companion.\n",
      "\n",
      "-------------------------------------\n",
      "\n",
      "Question: Who is Timmy?\n",
      "Answer: \n",
      "\n",
      "Question: Who is Fido’s best friend?\n",
      "Answer: \n",
      "\n",
      "Question: what do the friends like to  do?\n",
      "Answer: \n",
      "\n",
      "Question: What are the applications of a ball?\n",
      "Answer: \n",
      "\n",
      "Question: How many parks are there in Toronto for the pals to play in?\n",
      "Answer: \n",
      "\n"
     ]
    },
    {
     "name": "stderr",
     "output_type": "stream",
     "text": [
      "C:\\Users\\sthaa\\AppData\\Local\\Packages\\PythonSoftwareFoundation.Python.3.11_qbz5n2kfra8p0\\LocalCache\\local-packages\\Python311\\site-packages\\sklearn\\feature_extraction\\text.py:517: UserWarning: The parameter 'token_pattern' will not be used since 'tokenizer' is not None'\n",
      "  warnings.warn(\n"
     ]
    }
   ],
   "source": [
    "# Helper functions for text processing and question answering.\n",
    "\n",
    "# Tokenize, lowercase, and remove punctuation from text\n",
    "def preprocess_text(text):\n",
    "  text = text.lower()\n",
    "  text = ''.join([char for char in text if char not in string.punctuation]) # removing punctuation\n",
    "  tokens = word_tokenize(text) # tokenizing\n",
    "  return tokens\n",
    "\n",
    "# Simple function to process a question and find the best matching sentence\n",
    "def simple_qa(question, corpus):\n",
    "    # Preprocess both text corpus and the question\n",
    "    corpus_tokens = [preprocess_text(sentence) for sentence in corpus.split('\\n') if sentence]\n",
    "    question_tokens = preprocess_text(question)\n",
    "\n",
    "    # Vectorize text corpus and question using TF-IDF\n",
    "    vectorizer = TfidfVectorizer(tokenizer=lambda x:x, preprocessor=lambda x:x) # Using tokenizer to skip text processing and vectorizing pre-processed tokens\n",
    "    vectorizer.fit(corpus_tokens)\n",
    "    corpus_vectors = vectorizer.transform(corpus_tokens)\n",
    "    question_vector = vectorizer.transform([question_tokens])\n",
    "\n",
    "    # Finding the sentence with the highest cosine similarity\n",
    "    similarity_scores = cosine_similarity(question_vector, corpus_vectors).flatten()\n",
    "    best_match_index = np.argmax(similarity_scores)\n",
    "\n",
    "    # Return the best matching sentence\n",
    "    return corpus.split('\\n')[best_match_index]\n",
    "\n",
    "# Part 2: Testing the Model\n",
    "\n",
    "# Sample questions\n",
    "questions = [\n",
    "    \"Who is Timmy?\",\n",
    "    \"Who is Fido’s best friend?\",\n",
    "    \"what do the friends like to  do?\",\n",
    "    \"What are the applications of a ball?\",\n",
    "    \"How many parks are there in Toronto for the pals to play in?\" #testing questions beyond the text\n",
    "]\n",
    "\n",
    "# Process questions and print results\n",
    "print(\"The Corpus used for this example is : \\n\", corpus)\n",
    "print(\"\\n-------------------------------------\\n\")\n",
    "for question in questions:\n",
    "    answer = simple_qa(question, corpus)\n",
    "    print(f\"Question: {question}\")\n",
    "    print(f\"Answer: {answer}\\n\")\n",
    "\n",
    "# Part 3: Experiment and Reflect (Assignment)\n",
    "# - Try different questions and observe how well the model does and where it fails.\n",
    "# - Add more text to the corpus and repeat the tests, does the model's accuracy change?\n",
    "# - Think about what is required to have a robust question answering system."
   ]
  }
 ],
 "metadata": {
  "kernelspec": {
   "display_name": "Python 3",
   "language": "python",
   "name": "python3"
  },
  "language_info": {
   "codemirror_mode": {
    "name": "ipython",
    "version": 3
   },
   "file_extension": ".py",
   "mimetype": "text/x-python",
   "name": "python",
   "nbconvert_exporter": "python",
   "pygments_lexer": "ipython3",
   "version": "3.11.9"
  }
 },
 "nbformat": 4,
 "nbformat_minor": 2
}
