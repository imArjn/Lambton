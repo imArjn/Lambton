{
 "cells": [
  {
   "cell_type": "markdown",
   "metadata": {},
   "source": [
    "#### Neural Networks and Deep Learning\n",
    "#### 18/01/25"
   ]
  },
  {
   "cell_type": "code",
   "execution_count": 27,
   "metadata": {},
   "outputs": [
    {
     "name": "stdout",
     "output_type": "stream",
     "text": [
      "[0.88479296 0.51013483 0.3646026  ... 0.20258837 0.70535856 0.28089763]\n"
     ]
    }
   ],
   "source": [
    "import numpy as np\n",
    "\n",
    "\n",
    "a = np.random.rand(3000)\n",
    "\n",
    "print(a)\n"
   ]
  },
  {
   "cell_type": "markdown",
   "metadata": {},
   "source": [
    "Logistic distribution"
   ]
  },
  {
   "cell_type": "code",
   "execution_count": 28,
   "metadata": {},
   "outputs": [
    {
     "name": "stdout",
     "output_type": "stream",
     "text": [
      "[ 0.7028984  -0.56182103  1.15560692 ...  0.76772586  2.40790714\n",
      "  1.92478274]\n"
     ]
    }
   ],
   "source": [
    "import numpy as np\n",
    "\n",
    "logistic_data = np.random.logistic(0, 1, 3000)\n",
    "print(logistic_data)\n",
    "\n"
   ]
  },
  {
   "cell_type": "code",
   "execution_count": 29,
   "metadata": {},
   "outputs": [],
   "source": [
    "m = a.mean()"
   ]
  },
  {
   "cell_type": "code",
   "execution_count": 30,
   "metadata": {},
   "outputs": [
    {
     "name": "stdout",
     "output_type": "stream",
     "text": [
      "0.5059584926170893\n"
     ]
    }
   ],
   "source": [
    "print(m)"
   ]
  },
  {
   "cell_type": "code",
   "execution_count": 31,
   "metadata": {},
   "outputs": [
    {
     "data": {
      "image/png": "[encoded data removed]",
      "text/plain": [
       "<Figure size 640x480 with 1 Axes>"
      ]
     },
     "metadata": {},
     "output_type": "display_data"
    }
   ],
   "source": [
    "import matplotlib.pyplot as plt\n",
    "plt.hist(logistic_data, bins=30, edgecolor='black', alpha=0.7)\n",
    "plt.title(\"Histogram of Logistic Distribution Data\")\n",
    "plt.xlabel(\"Value\")\n",
    "plt.ylabel(\"Frequency\")\n",
    "plt.show()"
   ]
  },
  {
   "cell_type": "code",
   "execution_count": 32,
   "metadata": {},
   "outputs": [
    {
     "name": "stdout",
     "output_type": "stream",
     "text": [
      "Mean: 0.027004552471634868\n",
      "Median: -0.020071926414037145\n",
      "Ratio of Mean to Median: -0.7432793576238808\n"
     ]
    }
   ],
   "source": [
    "mean_value = np.mean(logistic_data)\n",
    "median_value = np.median(logistic_data)\n",
    "ratio_mean_to_median = median_value/mean_value\n",
    "\n",
    "print(\"Mean:\", mean_value)\n",
    "print(\"Median:\", median_value)\n",
    "print(\"Ratio of Mean to Median:\", ratio_mean_to_median)"
   ]
  },
  {
   "cell_type": "code",
   "execution_count": 33,
   "metadata": {},
   "outputs": [],
   "source": [
    "import pandas as pd\n",
    "df = pd.read_csv(\"Practice_File.csv\", usecols = [\"LotArea\",\"SalePrice\"])\n"
   ]
  },
  {
   "cell_type": "code",
   "execution_count": 34,
   "metadata": {},
   "outputs": [
    {
     "data": {
      "text/html": [
       "<div>\n",
       "<style scoped>\n",
       "    .dataframe tbody tr th:only-of-type {\n",
       "        vertical-align: middle;\n",
       "    }\n",
       "\n",
       "    .dataframe tbody tr th {\n",
       "        vertical-align: top;\n",
       "    }\n",
       "\n",
       "    .dataframe thead th {\n",
       "        text-align: right;\n",
       "    }\n",
       "</style>\n",
       "<table border=\"1\" class=\"dataframe\">\n",
       "  <thead>\n",
       "    <tr style=\"text-align: right;\">\n",
       "      <th></th>\n",
       "      <th>LotArea</th>\n",
       "      <th>SalePrice</th>\n",
       "    </tr>\n",
       "  </thead>\n",
       "  <tbody>\n",
       "    <tr>\n",
       "      <th>0</th>\n",
       "      <td>8450</td>\n",
       "      <td>208500</td>\n",
       "    </tr>\n",
       "    <tr>\n",
       "      <th>1</th>\n",
       "      <td>9600</td>\n",
       "      <td>181500</td>\n",
       "    </tr>\n",
       "    <tr>\n",
       "      <th>2</th>\n",
       "      <td>11250</td>\n",
       "      <td>223500</td>\n",
       "    </tr>\n",
       "    <tr>\n",
       "      <th>3</th>\n",
       "      <td>9550</td>\n",
       "      <td>140000</td>\n",
       "    </tr>\n",
       "    <tr>\n",
       "      <th>4</th>\n",
       "      <td>14260</td>\n",
       "      <td>250000</td>\n",
       "    </tr>\n",
       "  </tbody>\n",
       "</table>\n",
       "</div>"
      ],
      "text/plain": [
       "   LotArea  SalePrice\n",
       "0     8450     208500\n",
       "1     9600     181500\n",
       "2    11250     223500\n",
       "3     9550     140000\n",
       "4    14260     250000"
      ]
     },
     "execution_count": 34,
     "metadata": {},
     "output_type": "execute_result"
    }
   ],
   "source": [
    "df.head()"
   ]
  },
  {
   "cell_type": "code",
   "execution_count": 35,
   "metadata": {},
   "outputs": [
    {
     "data": {
      "image/png": "[encoded data removed]",
      "text/plain": [
       "<Figure size 640x480 with 1 Axes>"
      ]
     },
     "metadata": {},
     "output_type": "display_data"
    }
   ],
   "source": [
    "import matplotlib.pyplot as plt\n",
    "plt.hist(df[\"LotArea\"], bins=30, edgecolor='black', alpha=0.7)\n",
    "plt.title(\"Histogram of Logistic Distribution Data\")\n",
    "plt.xlabel(\"Value\")\n",
    "plt.ylabel(\"Frequency\")\n",
    "plt.show()"
   ]
  },
  {
   "cell_type": "code",
   "execution_count": null,
   "metadata": {},
   "outputs": [
    {
     "data": {
      "image/png": "[encoded data removed]",
      "text/plain": [
       "<Figure size 640x480 with 1 Axes>"
      ]
     },
     "metadata": {},
     "output_type": "display_data"
    }
   ],
   "source": [
    "import matplotlib.pyplot as plt\n",
    "plt.hist(df[\"SalePrice\"], bins=30, edgecolor='black', alpha=0.7)\n",
    "plt.title(\"Histogram of SalePrice Data\")\n",
    "plt.xlabel(\"Value\")\n",
    "plt.ylabel(\"Frequency\")\n",
    "plt.show()"
   ]
  },
  {
   "cell_type": "code",
   "execution_count": 37,
   "metadata": {},
   "outputs": [
    {
     "name": "stdout",
     "output_type": "stream",
     "text": [
      "Mean: 10516.828082191782\n",
      "Median: 9478.5\n",
      "Ratio of Mean to Median: 0.9012698435234489\n"
     ]
    }
   ],
   "source": [
    "mean_value = np.mean(df[\"LotArea\"])\n",
    "median_value = np.median(df[\"LotArea\"])\n",
    "ratio_mean_to_median = median_value/mean_value\n",
    "\n",
    "print(\"Mean:\", mean_value)\n",
    "print(\"Median:\", median_value)\n",
    "print(\"Ratio of Mean to Median:\", ratio_mean_to_median)"
   ]
  },
  {
   "cell_type": "code",
   "execution_count": 38,
   "metadata": {},
   "outputs": [
    {
     "name": "stdout",
     "output_type": "stream",
     "text": [
      "Mean: 180921.19589041095\n",
      "Median: 163000.0\n",
      "Ratio of Mean to Median: 0.900944741149808\n"
     ]
    }
   ],
   "source": [
    "mean_value = np.mean(df[\"SalePrice\"])\n",
    "median_value = np.median(df[\"SalePrice\"])\n",
    "ratio_mean_to_median = median_value/mean_value\n",
    "\n",
    "print(\"Mean:\", mean_value)\n",
    "print(\"Median:\", median_value)\n",
    "print(\"Ratio of Mean to Median:\", ratio_mean_to_median)"
   ]
  },
  {
   "cell_type": "code",
   "execution_count": 39,
   "metadata": {},
   "outputs": [
    {
     "name": "stdout",
     "output_type": "stream",
     "text": [
      "[0.85543057 0.5843022  0.58279468 ... 0.93715177 0.93606037 0.9634296 ]\n"
     ]
    }
   ],
   "source": [
    "b = np.random.rand(3000)\n",
    "\n",
    "print(b)"
   ]
  },
  {
   "cell_type": "code",
   "execution_count": 40,
   "metadata": {},
   "outputs": [
    {
     "data": {
      "image/png": "[encoded data removed]",
      "text/plain": [
       "<Figure size 640x480 with 1 Axes>"
      ]
     },
     "metadata": {},
     "output_type": "display_data"
    }
   ],
   "source": [
    "plt.hist(b, bins=30, density=True, alpha=0.6, color='blue',edgecolor = \"black\")\n",
    "plt.title('Logistic Distribution')\n",
    "plt.xlabel('Value')\n",
    "plt.ylabel('Density')\n",
    "plt.show()"
   ]
  },
  {
   "cell_type": "code",
   "execution_count": 41,
   "metadata": {},
   "outputs": [
    {
     "name": "stdout",
     "output_type": "stream",
     "text": [
      "Mean: 0.49863512670973203\n",
      "Median: 0.49595029434193577\n",
      "Ratio of Mean to Median: 0.9946156373187901\n"
     ]
    }
   ],
   "source": [
    "mean_value = np.mean(b)\n",
    "median_value = np.median(b)\n",
    "ratio_mean_to_median = median_value/mean_value\n",
    "\n",
    "print(\"Mean:\", mean_value)\n",
    "print(\"Median:\", median_value)\n",
    "print(\"Ratio of Mean to Median:\", ratio_mean_to_median)"
   ]
  },
  {
   "cell_type": "code",
   "execution_count": 42,
   "metadata": {},
   "outputs": [
    {
     "name": "stdout",
     "output_type": "stream",
     "text": [
      "Standard Deviation: 0.2855866040122345\n"
     ]
    }
   ],
   "source": [
    "\n",
    "std_dev = np.std(b)\n",
    "\n",
    "\n",
    "print(f\"Standard Deviation: {std_dev}\")\n",
    "\n"
   ]
  },
  {
   "cell_type": "code",
   "execution_count": 43,
   "metadata": {},
   "outputs": [],
   "source": [
    "def mode(lst):\n",
    "     \n",
    "    # creating a dictionary\n",
    "    freq = {}\n",
    "    for i in lst:\n",
    "       \n",
    "        # mapping each value of list to a \n",
    "        # dictionary\n",
    "        freq.setdefault(i, 0)\n",
    "        freq[i] += 1\n",
    "         \n",
    "    # finding maximum value of dictionary\n",
    "    hf = max(freq.values())\n",
    "     \n",
    "    # creating an empty list\n",
    "    hflst = []\n",
    "     \n",
    "    # using for loop we are checking for most \n",
    "    # repeated value\n",
    "    for i, j in freq.items():\n",
    "        if j == hf:\n",
    "            hflst.append(i)\n",
    "             \n",
    "    # returning the result\n",
    "    return hflst"
   ]
  },
  {
   "cell_type": "code",
   "execution_count": 44,
   "metadata": {},
   "outputs": [
    {
     "name": "stdout",
     "output_type": "stream",
     "text": [
      "0.8554305749057253\n"
     ]
    }
   ],
   "source": [
    "mode_result = mode(b)[0]\n",
    "print(mode_result)"
   ]
  },
  {
   "cell_type": "code",
   "execution_count": 45,
   "metadata": {},
   "outputs": [
    {
     "name": "stdout",
     "output_type": "stream",
     "text": [
      "Mean: 0.49863512670973203\n",
      "Median: 0.49595029434193577\n",
      "Mode: 0.8554305749057253\n",
      "Standard Deviation: 0.2855866040122345\n"
     ]
    }
   ],
   "source": [
    "print(f\"Mean: {mean_value}\")\n",
    "print(f\"Median: {median_value}\")\n",
    "print(f\"Mode: {mode_result}\")\n",
    "print(f\"Standard Deviation: {std_dev}\")"
   ]
  },
  {
   "cell_type": "code",
   "execution_count": 47,
   "metadata": {},
   "outputs": [
    {
     "data": {
      "image/png": "[encoded data removed]",
      "text/plain": [
       "<Figure size 640x480 with 1 Axes>"
      ]
     },
     "metadata": {},
     "output_type": "display_data"
    }
   ],
   "source": [
    "# Calculate mean/median ratio\n",
    "mean_median_ratio = median_value / mean_value   \n",
    "\n",
    "plt.hist(b, bins=50, density=True)\n",
    "\n",
    "plt.scatter([np.mean(b)], [0.01], color='red', marker='x', \n",
    "label='Mean')\n",
    "\n",
    "plt.scatter([np.median(b)], [0.02], color='green', marker='x', \n",
    "label='Median')\n",
    "\n",
    "try:\n",
    "    # Mark mode as blue dot\n",
    "    plt.scatter(mode_result, [0.03], color='blue', \n",
    "marker='x', label='Mode')\n",
    "except ValueError:\n",
    "    print(\"No unique mode found\")\n",
    "    pass\n",
    "\n",
    "plt.axvline(x=std_dev, color='yellow', linestyle='--', label='Standard Deviation')\n",
    "\n",
    "plt.axvline(x=mean_median_ratio, color='orange', linestyle=':', \n",
    "label=f'Mean/{median_value} Ratio={mean_median_ratio}')\n",
    "\n",
    "plt.title('Histogram of Random Numbers from Logistic Distribution')\n",
    "plt.xlabel('Value')\n",
    "plt.ylabel('Probability Density')\n",
    "plt.legend()\n",
    "plt.show()"
   ]
  },
  {
   "cell_type": "code",
   "execution_count": 48,
   "metadata": {},
   "outputs": [
    {
     "name": "stdout",
     "output_type": "stream",
     "text": [
      "[0.88479296 0.51013483 0.3646026  ... 0.20258837 0.70535856 0.28089763]\n"
     ]
    }
   ],
   "source": [
    "print(a)"
   ]
  },
  {
   "cell_type": "code",
   "execution_count": 49,
   "metadata": {},
   "outputs": [
    {
     "data": {
      "image/png": "[encoded data removed]",
      "text/plain": [
       "<Figure size 640x480 with 1 Axes>"
      ]
     },
     "metadata": {},
     "output_type": "display_data"
    }
   ],
   "source": [
    "\n",
    "plt.hist(a, bins=30, edgecolor='black', alpha=0.7)\n",
    "plt.title(\"Histogram of Data A\")\n",
    "plt.xlabel(\"Value\")\n",
    "plt.ylabel(\"Frequency\")\n",
    "plt.show()"
   ]
  },
  {
   "cell_type": "code",
   "execution_count": 51,
   "metadata": {},
   "outputs": [
    {
     "name": "stdout",
     "output_type": "stream",
     "text": [
      "Q1 is 0.2541820284060133 and Q3 is 0.7572096420774506\n",
      "upper whisker: 1.5117510625846067\n",
      "lower whisker: -0.5003593921011427\n"
     ]
    }
   ],
   "source": [
    "q1 = np.percentile(a, 25)\n",
    "q3 = np.percentile(a, 75)\n",
    "\n",
    "print(f\"Q1 is {q1} and Q3 is {q3}\")\n",
    "\n",
    "iqr = q3-q1\n",
    "\n",
    "\n",
    "upper_whisker = q3+1.5*iqr\n",
    "\n",
    "lower_whisker = q1-1.5*iqr\n",
    "\n",
    "print(\"upper whisker:\",upper_whisker)\n",
    "print(\"lower whisker:\",lower_whisker)"
   ]
  },
  {
   "cell_type": "code",
   "execution_count": 52,
   "metadata": {},
   "outputs": [],
   "source": [
    "outliers = a[(a > upper_whisker) | (a < lower_whisker)]\n",
    "outlier_percentage = (len(outliers) / len(a)) * 100"
   ]
  },
  {
   "cell_type": "code",
   "execution_count": 54,
   "metadata": {},
   "outputs": [
    {
     "name": "stdout",
     "output_type": "stream",
     "text": [
      "Outlier Percentage: 0.0 %\n"
     ]
    }
   ],
   "source": [
    "print(\"Outlier Percentage:\",outlier_percentage,\"%\")"
   ]
  },
  {
   "cell_type": "markdown",
   "metadata": {},
   "source": [
    "### Outliers for the LotArea"
   ]
  },
  {
   "cell_type": "code",
   "execution_count": 56,
   "metadata": {},
   "outputs": [
    {
     "name": "stdout",
     "output_type": "stream",
     "text": [
      "Q1 is 7553.5 and Q3 is 11601.5\n",
      "upper whisker: 17673.5\n",
      "lower whisker: 1481.5\n",
      "Outlier Percentage: 4.726027397260274 %\n"
     ]
    }
   ],
   "source": [
    "q1 = np.percentile(df[\"LotArea\"], 25)\n",
    "q3 = np.percentile(df[\"LotArea\"], 75)\n",
    "\n",
    "print(f\"Q1 is {q1} and Q3 is {q3}\")\n",
    "\n",
    "iqr = q3-q1\n",
    "\n",
    "\n",
    "upper_whisker = q3+1.5*iqr\n",
    "\n",
    "lower_whisker = q1-1.5*iqr\n",
    "\n",
    "print(\"upper whisker:\",upper_whisker)\n",
    "print(\"lower whisker:\",lower_whisker)\n",
    "\n",
    "outliers = df[\"LotArea\"][(df[\"LotArea\"] > upper_whisker) | (df[\"LotArea\"] < lower_whisker)]\n",
    "outlier_percentage = (len(outliers) / len(df[\"LotArea\"])) * 100\n",
    "\n",
    "print(\"Outlier Percentage:\",outlier_percentage,\"%\")"
   ]
  },
  {
   "cell_type": "code",
   "execution_count": 57,
   "metadata": {},
   "outputs": [
    {
     "name": "stdout",
     "output_type": "stream",
     "text": [
      "Skewness of the distribution: -0.01549324140277855\n"
     ]
    }
   ],
   "source": [
    "\n",
    "# Calculate mean and standard deviation\n",
    "mean_a = np.mean(a)\n",
    "std_dev_a = np.std(a)\n",
    "\n",
    "# Number of data points\n",
    "n = len(a)\n",
    "\n",
    "# Calculate skewness using the formula\n",
    "skewness = (n / ((n - 1) * (n - 2))) * np.sum(((a - mean_a) / std_dev_a) ** 3)\n",
    "\n",
    "print(f\"Skewness of the distribution: {skewness}\")\n"
   ]
  },
  {
   "cell_type": "code",
   "execution_count": 62,
   "metadata": {},
   "outputs": [
    {
     "name": "stdout",
     "output_type": "stream",
     "text": [
      "Skewness of the distribution: 1.8848118787066648\n"
     ]
    }
   ],
   "source": [
    "\n",
    "\n",
    "# Calculate mean and standard deviation\n",
    "mean_lot = np.mean(df[\"SalePrice\"])\n",
    "std_dev_lot = np.std(df[\"SalePrice\"])\n",
    "\n",
    "# Number of data points\n",
    "n_lot = len(df[\"SalePrice\"])\n",
    "\n",
    "# Calculate skewness using the formula\n",
    "skewness = (n_lot / ((n_lot - 1) * (n_lot - 2))) * np.sum(((df[\"SalePrice\"] - mean_lot) / std_dev_lot) ** 3)\n",
    "\n",
    "print(f\"Skewness of the distribution: {skewness}\")\n"
   ]
  },
  {
   "cell_type": "code",
   "execution_count": 64,
   "metadata": {},
   "outputs": [
    {
     "data": {
      "image/png": "[encoded data removed]",
      "text/plain": [
       "<Figure size 640x480 with 1 Axes>"
      ]
     },
     "metadata": {},
     "output_type": "display_data"
    }
   ],
   "source": [
    "plt.hist(df[\"SalePrice\"], bins=50, edgecolor='black', alpha=0.7)\n",
    "plt.title(\"Histogram of SalePrice Data\")\n",
    "plt.xlabel(\"Value\")\n",
    "plt.ylabel(\"Frequency\")\n",
    "plt.show()"
   ]
  },
  {
   "cell_type": "code",
   "execution_count": 68,
   "metadata": {},
   "outputs": [],
   "source": [
    "mean_value = np.mean(df[\"SalePrice\"])\n",
    "median_value = np.median(df[\"SalePrice\"])\n",
    "\n",
    "mode_result = mode(df[\"SalePrice\"])[0]\n",
    "\n",
    "std_dev = np.std(df[\"SalePrice\"])\n",
    "\n",
    "ratio_mean_to_median = median_value/mean_value"
   ]
  },
  {
   "cell_type": "code",
   "execution_count": 69,
   "metadata": {},
   "outputs": [
    {
     "name": "stdout",
     "output_type": "stream",
     "text": [
      "Mean: 180921.19589041095\n",
      "Median: 163000.0\n",
      "Mode: 140000\n",
      "Standard Deviation: 79415.29188606751\n"
     ]
    }
   ],
   "source": [
    "print(f\"Mean: {mean_value}\")\n",
    "print(f\"Median: {median_value}\")\n",
    "print(f\"Mode: {mode_result}\")\n",
    "print(f\"Standard Deviation: {std_dev}\")"
   ]
  },
  {
   "cell_type": "code",
   "execution_count": 72,
   "metadata": {},
   "outputs": [
    {
     "data": {
      "image/png": "[encoded data removed]",
      "text/plain": [
       "<Figure size 640x480 with 1 Axes>"
      ]
     },
     "metadata": {},
     "output_type": "display_data"
    }
   ],
   "source": [
    "# Calculate mean/median ratio\n",
    "mean_median_ratio = median_value / mean_value   \n",
    "\n",
    "plt.hist(df[\"SalePrice\"], bins=50, density=True)\n",
    "\n",
    "plt.scatter([np.mean(df[\"SalePrice\"])], [0.01], color='red', marker='x', \n",
    "label='Mean')\n",
    "\n",
    "plt.scatter([np.median(df[\"SalePrice\"])], [0.02], color='green', marker='x', \n",
    "label='Median')\n",
    "\n",
    "try:\n",
    "    # Mark mode as blue dot\n",
    "    plt.scatter(mode_result, [0.03], color='blue', \n",
    "marker='x', label='Mode')\n",
    "except ValueError:\n",
    "    print(\"No unique mode found\")\n",
    "    pass\n",
    "\n",
    "plt.axvline(x=std_dev, color='yellow', linestyle='--', label='Standard Deviation')\n",
    "\n",
    "plt.axvline(x=mean_median_ratio, color='orange', linestyle=':', \n",
    "label=f'Mean/{median_value} Ratio={mean_median_ratio}')\n",
    "\n",
    "plt.title('Histogram of Random Numbers from df[\"SalePrice\"]')\n",
    "plt.xlabel('Value')\n",
    "plt.ylabel('Probability Density')\n",
    "plt.legend()\n",
    "plt.show()"
   ]
  },
  {
   "cell_type": "markdown",
   "metadata": {},
   "source": [
    "### for LotArea (Before the logrithmic transformation)"
   ]
  },
  {
   "cell_type": "code",
   "execution_count": 78,
   "metadata": {},
   "outputs": [
    {
     "name": "stdout",
     "output_type": "stream",
     "text": [
      " Pearson's First Coefficient of Skewness : 0.3323053846043116\n",
      " Pearson's Second Coefficient of Skewness : 0.3120831144828506\n",
      "Kurtosis (Original Data): 202.5437927513529\n"
     ]
    }
   ],
   "source": [
    "from scipy import stats\n",
    "\n",
    "data = df[\"LotArea\"]\n",
    "\n",
    "\n",
    "mean = np.mean(data)\n",
    "median = np.median(data)\n",
    "mode = stats.mode(data, keepdims=True)[0][0]  \n",
    "std = np.std(data, ddof=1)  \n",
    "\n",
    "# Pearson's First Coefficient of Skewness (Mode-based)\n",
    "# Formula: (Mean - Mode) / Standard Deviation\n",
    "first_skewness = (mean - mode) / std\n",
    "\n",
    "# Pearson's Second Coefficient of Skewness (Median-based)\n",
    "# Formula: 3 * (Mean - Median) / Standard Deviation\n",
    "second_skewness = 3 * (mean - median) / std\n",
    "\n",
    "# Kurtosis for original data\n",
    "kurtosis_original = stats.kurtosis(data, fisher=True)\n",
    "\n",
    "\n",
    "\n",
    "\n",
    "\n",
    "print(f\" Pearson's First Coefficient of Skewness : {first_skewness}\")\n",
    "print(f\" Pearson's Second Coefficient of Skewness : {second_skewness}\")\n",
    "\n",
    "\n",
    "# Output results\n",
    "print(f\"Kurtosis (Original Data): {kurtosis_original}\")\n"
   ]
  },
  {
   "cell_type": "markdown",
   "metadata": {},
   "source": [
    "### for LotArea (Before the logrithmic transformation)"
   ]
  },
  {
   "cell_type": "code",
   "execution_count": 81,
   "metadata": {},
   "outputs": [
    {
     "name": "stdout",
     "output_type": "stream",
     "text": [
      " Pearson's First Coefficient of Skewness : 0.4425602268900089\n",
      " Pearson's Second Coefficient of Skewness : -0.2663635580293747\n",
      "Kurtosis (LOg Data): 4.693125425395519\n"
     ]
    }
   ],
   "source": [
    "data = np.log(df[\"LotArea\"]) # Logarithmic Transformation\n",
    "\n",
    "mean = np.mean(data)\n",
    "median = np.median(data)\n",
    "mode = stats.mode(data, keepdims=True)[0][0]  \n",
    "std = np.std(data, ddof=1)  \n",
    "\n",
    "# Pearson's First Coefficient of Skewness (Mode-based)\n",
    "# Formula: (Mean - Mode) / Standard Deviation\n",
    "first_skewness = (mean - mode) / std\n",
    "\n",
    "# Pearson's Second Coefficient of Skewness (Median-based)\n",
    "# Formula: 3 * (Mean - Median) / Standard Deviation\n",
    "second_skewness = 3 * (mean - median) / std\n",
    "\n",
    "# Kurtosis for log data\n",
    "kurtosis_log = stats.kurtosis(data, fisher=True)\n",
    "\n",
    "\n",
    "\n",
    "\n",
    "\n",
    "print(f\" Pearson's First Coefficient of Skewness : {first_skewness}\")\n",
    "print(f\" Pearson's Second Coefficient of Skewness : {second_skewness}\")\n",
    "\n",
    "\n",
    "# Output results\n",
    "print(f\"Kurtosis (LOg Data): {kurtosis_log}\")\n"
   ]
  },
  {
   "cell_type": "markdown",
   "metadata": {},
   "source": [
    "### Correlation (Pearson and Spearman)"
   ]
  },
  {
   "cell_type": "code",
   "execution_count": 83,
   "metadata": {},
   "outputs": [
    {
     "name": "stdout",
     "output_type": "stream",
     "text": [
      "Pearson Correlation: 0.2638433538714056\n",
      "Spearman Correlation: 0.4564605833912115\n"
     ]
    }
   ],
   "source": [
    "# Calculate Pearson correlation\n",
    "pearson_corr = df[\"LotArea\"].corr(df[\"SalePrice\"], method=\"pearson\")\n",
    "\n",
    "# Calculate Spearman correlation\n",
    "spearman_corr = df[\"LotArea\"].corr(df[\"SalePrice\"], method=\"spearman\")\n",
    "\n",
    "# Print results\n",
    "print(f\"Pearson Correlation: {pearson_corr}\")\n",
    "print(f\"Spearman Correlation: {spearman_corr}\")\n"
   ]
  },
  {
   "cell_type": "markdown",
   "metadata": {},
   "source": [
    "### 10% Sample using Random Sampling and Stratified Sampling"
   ]
  },
  {
   "cell_type": "code",
   "execution_count": 84,
   "metadata": {},
   "outputs": [],
   "source": [
    "from sklearn.model_selection import train_test_split"
   ]
  },
  {
   "cell_type": "code",
   "execution_count": 85,
   "metadata": {},
   "outputs": [
    {
     "name": "stdout",
     "output_type": "stream",
     "text": [
      "Simple Random Sample:\n",
      "      LotArea  SalePrice\n",
      "892      8414     154500\n",
      "1105    12256     325000\n",
      "413      8960     115000\n",
      "522      5000     159000\n",
      "1036    12898     315500\n",
      "...       ...        ...\n",
      "526     13300     132000\n",
      "101      9206     178000\n",
      "1092     8400     136500\n",
      "411     34650     145000\n",
      "1392     7838     123000\n",
      "\n",
      "[146 rows x 2 columns]\n",
      "Stratified Random Sample:\n",
      "      LotArea  SalePrice\n",
      "1380     8212      58500\n",
      "768      9100     216837\n",
      "1207     9135     200000\n",
      "909     12589     174000\n",
      "1369    10635     232000\n",
      "...       ...        ...\n",
      "62       6442     202500\n",
      "1162     8724     129000\n",
      "876     25286     132250\n",
      "47      11096     249700\n",
      "647     10452     155000\n",
      "\n",
      "[146 rows x 2 columns]\n"
     ]
    }
   ],
   "source": [
    "from sklearn.model_selection import train_test_split\n",
    "\n",
    "# 1. Simple Random Sampling\n",
    "simple_random_sample = df.sample(frac=0.1, random_state=42)\n",
    "\n",
    "# Display the results\n",
    "print(\"Simple Random Sample:\")\n",
    "print(simple_random_sample)\n",
    "\n",
    "# 2. Stratified Random Sampling\n",
    "# Assuming \"LotArea\" is the column to stratify by\n",
    "stratified_sample, _ = train_test_split(\n",
    "    df, \n",
    "    test_size=0.9,  # Keep 10% for the sample\n",
    "    stratify=pd.qcut(df['LotArea'], q=4, duplicates='drop'),  # Quartiles for stratification\n",
    "    random_state=42\n",
    ")\n",
    "\n",
    "# Display the results\n",
    "print(\"Stratified Random Sample:\")\n",
    "print(stratified_sample)"
   ]
  },
  {
   "cell_type": "code",
   "execution_count": 86,
   "metadata": {},
   "outputs": [
    {
     "data": {
      "text/html": [
       "<div>\n",
       "<style scoped>\n",
       "    .dataframe tbody tr th:only-of-type {\n",
       "        vertical-align: middle;\n",
       "    }\n",
       "\n",
       "    .dataframe tbody tr th {\n",
       "        vertical-align: top;\n",
       "    }\n",
       "\n",
       "    .dataframe thead th {\n",
       "        text-align: right;\n",
       "    }\n",
       "</style>\n",
       "<table border=\"1\" class=\"dataframe\">\n",
       "  <thead>\n",
       "    <tr style=\"text-align: right;\">\n",
       "      <th></th>\n",
       "      <th>LotArea</th>\n",
       "      <th>SalePrice</th>\n",
       "    </tr>\n",
       "  </thead>\n",
       "  <tbody>\n",
       "    <tr>\n",
       "      <th>892</th>\n",
       "      <td>8414</td>\n",
       "      <td>154500</td>\n",
       "    </tr>\n",
       "    <tr>\n",
       "      <th>1105</th>\n",
       "      <td>12256</td>\n",
       "      <td>325000</td>\n",
       "    </tr>\n",
       "    <tr>\n",
       "      <th>413</th>\n",
       "      <td>8960</td>\n",
       "      <td>115000</td>\n",
       "    </tr>\n",
       "    <tr>\n",
       "      <th>522</th>\n",
       "      <td>5000</td>\n",
       "      <td>159000</td>\n",
       "    </tr>\n",
       "    <tr>\n",
       "      <th>1036</th>\n",
       "      <td>12898</td>\n",
       "      <td>315500</td>\n",
       "    </tr>\n",
       "    <tr>\n",
       "      <th>...</th>\n",
       "      <td>...</td>\n",
       "      <td>...</td>\n",
       "    </tr>\n",
       "    <tr>\n",
       "      <th>526</th>\n",
       "      <td>13300</td>\n",
       "      <td>132000</td>\n",
       "    </tr>\n",
       "    <tr>\n",
       "      <th>101</th>\n",
       "      <td>9206</td>\n",
       "      <td>178000</td>\n",
       "    </tr>\n",
       "    <tr>\n",
       "      <th>1092</th>\n",
       "      <td>8400</td>\n",
       "      <td>136500</td>\n",
       "    </tr>\n",
       "    <tr>\n",
       "      <th>411</th>\n",
       "      <td>34650</td>\n",
       "      <td>145000</td>\n",
       "    </tr>\n",
       "    <tr>\n",
       "      <th>1392</th>\n",
       "      <td>7838</td>\n",
       "      <td>123000</td>\n",
       "    </tr>\n",
       "  </tbody>\n",
       "</table>\n",
       "<p>146 rows × 2 columns</p>\n",
       "</div>"
      ],
      "text/plain": [
       "      LotArea  SalePrice\n",
       "892      8414     154500\n",
       "1105    12256     325000\n",
       "413      8960     115000\n",
       "522      5000     159000\n",
       "1036    12898     315500\n",
       "...       ...        ...\n",
       "526     13300     132000\n",
       "101      9206     178000\n",
       "1092     8400     136500\n",
       "411     34650     145000\n",
       "1392     7838     123000\n",
       "\n",
       "[146 rows x 2 columns]"
      ]
     },
     "execution_count": 86,
     "metadata": {},
     "output_type": "execute_result"
    }
   ],
   "source": [
    "simple_random_sample"
   ]
  },
  {
   "cell_type": "code",
   "execution_count": 87,
   "metadata": {},
   "outputs": [
    {
     "data": {
      "text/html": [
       "<div>\n",
       "<style scoped>\n",
       "    .dataframe tbody tr th:only-of-type {\n",
       "        vertical-align: middle;\n",
       "    }\n",
       "\n",
       "    .dataframe tbody tr th {\n",
       "        vertical-align: top;\n",
       "    }\n",
       "\n",
       "    .dataframe thead th {\n",
       "        text-align: right;\n",
       "    }\n",
       "</style>\n",
       "<table border=\"1\" class=\"dataframe\">\n",
       "  <thead>\n",
       "    <tr style=\"text-align: right;\">\n",
       "      <th></th>\n",
       "      <th>LotArea</th>\n",
       "      <th>SalePrice</th>\n",
       "    </tr>\n",
       "  </thead>\n",
       "  <tbody>\n",
       "    <tr>\n",
       "      <th>1380</th>\n",
       "      <td>8212</td>\n",
       "      <td>58500</td>\n",
       "    </tr>\n",
       "    <tr>\n",
       "      <th>768</th>\n",
       "      <td>9100</td>\n",
       "      <td>216837</td>\n",
       "    </tr>\n",
       "    <tr>\n",
       "      <th>1207</th>\n",
       "      <td>9135</td>\n",
       "      <td>200000</td>\n",
       "    </tr>\n",
       "    <tr>\n",
       "      <th>909</th>\n",
       "      <td>12589</td>\n",
       "      <td>174000</td>\n",
       "    </tr>\n",
       "    <tr>\n",
       "      <th>1369</th>\n",
       "      <td>10635</td>\n",
       "      <td>232000</td>\n",
       "    </tr>\n",
       "    <tr>\n",
       "      <th>...</th>\n",
       "      <td>...</td>\n",
       "      <td>...</td>\n",
       "    </tr>\n",
       "    <tr>\n",
       "      <th>62</th>\n",
       "      <td>6442</td>\n",
       "      <td>202500</td>\n",
       "    </tr>\n",
       "    <tr>\n",
       "      <th>1162</th>\n",
       "      <td>8724</td>\n",
       "      <td>129000</td>\n",
       "    </tr>\n",
       "    <tr>\n",
       "      <th>876</th>\n",
       "      <td>25286</td>\n",
       "      <td>132250</td>\n",
       "    </tr>\n",
       "    <tr>\n",
       "      <th>47</th>\n",
       "      <td>11096</td>\n",
       "      <td>249700</td>\n",
       "    </tr>\n",
       "    <tr>\n",
       "      <th>647</th>\n",
       "      <td>10452</td>\n",
       "      <td>155000</td>\n",
       "    </tr>\n",
       "  </tbody>\n",
       "</table>\n",
       "<p>146 rows × 2 columns</p>\n",
       "</div>"
      ],
      "text/plain": [
       "      LotArea  SalePrice\n",
       "1380     8212      58500\n",
       "768      9100     216837\n",
       "1207     9135     200000\n",
       "909     12589     174000\n",
       "1369    10635     232000\n",
       "...       ...        ...\n",
       "62       6442     202500\n",
       "1162     8724     129000\n",
       "876     25286     132250\n",
       "47      11096     249700\n",
       "647     10452     155000\n",
       "\n",
       "[146 rows x 2 columns]"
      ]
     },
     "execution_count": 87,
     "metadata": {},
     "output_type": "execute_result"
    }
   ],
   "source": [
    "stratified_sample"
   ]
  },
  {
   "cell_type": "code",
   "execution_count": null,
   "metadata": {},
   "outputs": [],
   "source": []
  }
 ],
 "metadata": {
  "kernelspec": {
   "display_name": "Python 3",
   "language": "python",
   "name": "python3"
  },
  "language_info": {
   "codemirror_mode": {
    "name": "ipython",
    "version": 3
   },
   "file_extension": ".py",
   "mimetype": "text/x-python",
   "name": "python",
   "nbconvert_exporter": "python",
   "pygments_lexer": "ipython3",
   "version": "3.11.9"
  }
 },
 "nbformat": 4,
 "nbformat_minor": 2
}
